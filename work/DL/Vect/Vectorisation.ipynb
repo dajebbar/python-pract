{
  "nbformat": 4,
  "nbformat_minor": 0,
  "metadata": {
    "colab": {
      "name": "Vectorisation.ipynb",
      "provenance": []
    },
    "kernelspec": {
      "name": "python3",
      "display_name": "Python 3"
    },
    "language_info": {
      "name": "python"
    }
  },
  "cells": [
    {
      "cell_type": "code",
      "execution_count": 1,
      "metadata": {
        "id": "XYbHK4G6vOQL"
      },
      "outputs": [],
      "source": [
        "import numpy as np"
      ]
    },
    {
      "cell_type": "code",
      "source": [
        "# inputs\n",
        "def inputs(m, n=None):\n",
        "  if n:\n",
        "    return np.random.randint(2, 5, (m, n)).astype(float)\n",
        "  \n",
        "  return np.random.randint(2, 5, (m,)).astype(float)\n",
        "  "
      ],
      "metadata": {
        "id": "u4JrTC6ovYkW"
      },
      "execution_count": 4,
      "outputs": []
    },
    {
      "cell_type": "code",
      "source": [
        "X = inputs(10, 3)\n",
        "X"
      ],
      "metadata": {
        "colab": {
          "base_uri": "https://localhost:8080/"
        },
        "id": "bVwa26d0wF-Q",
        "outputId": "f934a57b-058d-4c02-8087-28fdadc27087"
      },
      "execution_count": 5,
      "outputs": [
        {
          "output_type": "execute_result",
          "data": {
            "text/plain": [
              "array([[3., 2., 4.],\n",
              "       [4., 3., 2.],\n",
              "       [3., 2., 3.],\n",
              "       [2., 4., 4.],\n",
              "       [4., 4., 4.],\n",
              "       [4., 3., 2.],\n",
              "       [4., 2., 3.],\n",
              "       [4., 4., 3.],\n",
              "       [2., 4., 4.],\n",
              "       [2., 3., 3.]])"
            ]
          },
          "metadata": {},
          "execution_count": 5
        }
      ]
    },
    {
      "cell_type": "code",
      "source": [
        "W = inputs(10)\n",
        "W"
      ],
      "metadata": {
        "colab": {
          "base_uri": "https://localhost:8080/"
        },
        "id": "ucwmL1SdwNF3",
        "outputId": "a8126565-2b42-45f6-fd74-2963043e15b6"
      },
      "execution_count": 7,
      "outputs": [
        {
          "output_type": "execute_result",
          "data": {
            "text/plain": [
              "array([4., 2., 2., 3., 4., 4., 2., 3., 3., 2.])"
            ]
          },
          "metadata": {},
          "execution_count": 7
        }
      ]
    },
    {
      "cell_type": "code",
      "source": [
        "# z\n",
        "def Z(m, n, k):\n",
        "  b = np.random.randint(10)\n",
        "  return inputs(m, n) @ inputs(n, k) + b"
      ],
      "metadata": {
        "id": "Mja7uqiZw4cw"
      },
      "execution_count": 10,
      "outputs": []
    },
    {
      "cell_type": "code",
      "source": [
        "z = Z(10, 3, 3)\n",
        "z"
      ],
      "metadata": {
        "colab": {
          "base_uri": "https://localhost:8080/"
        },
        "id": "BPcU5KDCxym5",
        "outputId": "150c5367-d953-43a0-d609-cb64f665c3d7"
      },
      "execution_count": 11,
      "outputs": [
        {
          "output_type": "execute_result",
          "data": {
            "text/plain": [
              "array([[41., 42., 33.],\n",
              "       [38., 38., 30.],\n",
              "       [42., 40., 31.],\n",
              "       [37., 37., 29.],\n",
              "       [46., 44., 34.],\n",
              "       [49., 48., 37.],\n",
              "       [40., 42., 33.],\n",
              "       [44., 44., 34.],\n",
              "       [34., 33., 26.],\n",
              "       [38., 38., 30.]])"
            ]
          },
          "metadata": {},
          "execution_count": 11
        }
      ]
    },
    {
      "cell_type": "code",
      "source": [
        "# sigmoid\n",
        "def sigmoid(m,n,k):\n",
        "  return 1 / (1 + np.exp(-Z(m,n,k)))"
      ],
      "metadata": {
        "id": "WVMjKTlrx3d_"
      },
      "execution_count": 12,
      "outputs": []
    },
    {
      "cell_type": "code",
      "source": [
        "sig = sigmoid(10,3,3)\n",
        "sig"
      ],
      "metadata": {
        "colab": {
          "base_uri": "https://localhost:8080/"
        },
        "id": "4levJ68JyfUT",
        "outputId": "6d444657-c04b-4fc0-9e17-0536219910d7"
      },
      "execution_count": 14,
      "outputs": [
        {
          "output_type": "execute_result",
          "data": {
            "text/plain": [
              "array([[1., 1., 1.],\n",
              "       [1., 1., 1.],\n",
              "       [1., 1., 1.],\n",
              "       [1., 1., 1.],\n",
              "       [1., 1., 1.],\n",
              "       [1., 1., 1.],\n",
              "       [1., 1., 1.],\n",
              "       [1., 1., 1.],\n",
              "       [1., 1., 1.],\n",
              "       [1., 1., 1.]])"
            ]
          },
          "metadata": {},
          "execution_count": 14
        }
      ]
    },
    {
      "cell_type": "code",
      "source": [
        ""
      ],
      "metadata": {
        "id": "TWiKaiNOynKU"
      },
      "execution_count": null,
      "outputs": []
    }
  ]
}