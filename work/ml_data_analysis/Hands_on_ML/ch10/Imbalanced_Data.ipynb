{
  "nbformat": 4,
  "nbformat_minor": 0,
  "metadata": {
    "colab": {
      "name": "Imbalanced_Data.ipynb",
      "provenance": []
    },
    "kernelspec": {
      "name": "python3",
      "display_name": "Python 3"
    },
    "language_info": {
      "name": "python"
    }
  },
  "cells": [
    {
      "cell_type": "markdown",
      "source": [
        "# Imbalanced Data"
      ],
      "metadata": {
        "id": "A64TTRlKnUXK"
      }
    },
    {
      "cell_type": "code",
      "execution_count": 1,
      "metadata": {
        "id": "4Mv1mI6XkgAo"
      },
      "outputs": [],
      "source": [
        "# https://www.openml.org/d/1220\n",
        "# https://www.openml.org/d/1241\n",
        "# https://www.openml.org/d/37\n",
        "# https://www.openml.org/d/44\n",
        "\n",
        "from sklearn.datasets import fetch_openml\n",
        "\n",
        "data = fetch_openml(data_id=1220)"
      ]
    },
    {
      "cell_type": "code",
      "source": [
        "import numpy as np\n",
        "import pandas as pd\n",
        "import matplotlib.pyplot as plt\n",
        "plt.style.use('ggplot')\n",
        "%matplotlib inline"
      ],
      "metadata": {
        "id": "spkJCKUenaOW"
      },
      "execution_count": 2,
      "outputs": []
    },
    {
      "cell_type": "code",
      "source": [
        "df = pd.DataFrame(\n",
        "    data['data'],\n",
        "    columns=data['feature_names']\n",
        ").astype(float)\n",
        "\n",
        "df['target'] = pd.Series(data['target']).astype(int) "
      ],
      "metadata": {
        "id": "D8Se9mwpns3w"
      },
      "execution_count": 3,
      "outputs": []
    },
    {
      "cell_type": "code",
      "source": [
        "df.sample(n=5)"
      ],
      "metadata": {
        "colab": {
          "base_uri": "https://localhost:8080/",
          "height": 206
        },
        "id": "imwKKHRrnxOS",
        "outputId": "ee60c2b9-5df5-4c73-9e80-97c6af19ed46"
      },
      "execution_count": 4,
      "outputs": [
        {
          "output_type": "execute_result",
          "data": {
            "text/plain": [
              "       impression       ad_id  advertiser_id  depth  position  keyword_id  \\\n",
              "7245          1.0  21193219.0        35900.0    3.0       1.0         5.0   \n",
              "16040         1.0  21818926.0        37716.0    1.0       1.0      5846.0   \n",
              "35455         1.0  20192676.0        27961.0    1.0       1.0        39.0   \n",
              "16429         1.0  20001249.0         1381.0    2.0       2.0       361.0   \n",
              "35609         1.0   4241447.0        18226.0    2.0       2.0      8248.0   \n",
              "\n",
              "       title_id  description_id     user_id  target  \n",
              "7245      148.0           195.0   5003639.0       0  \n",
              "16040   33576.0         26849.0   1338874.0       0  \n",
              "35455     131.0           440.0   2405920.0       0  \n",
              "16429    5581.0          5890.0         0.0       0  \n",
              "35609  245292.0        213698.0  11225727.0       0  "
            ],
            "text/html": [
              "\n",
              "  <div id=\"df-13a1c628-4e6f-4ff1-836f-f5e260f37a5c\">\n",
              "    <div class=\"colab-df-container\">\n",
              "      <div>\n",
              "<style scoped>\n",
              "    .dataframe tbody tr th:only-of-type {\n",
              "        vertical-align: middle;\n",
              "    }\n",
              "\n",
              "    .dataframe tbody tr th {\n",
              "        vertical-align: top;\n",
              "    }\n",
              "\n",
              "    .dataframe thead th {\n",
              "        text-align: right;\n",
              "    }\n",
              "</style>\n",
              "<table border=\"1\" class=\"dataframe\">\n",
              "  <thead>\n",
              "    <tr style=\"text-align: right;\">\n",
              "      <th></th>\n",
              "      <th>impression</th>\n",
              "      <th>ad_id</th>\n",
              "      <th>advertiser_id</th>\n",
              "      <th>depth</th>\n",
              "      <th>position</th>\n",
              "      <th>keyword_id</th>\n",
              "      <th>title_id</th>\n",
              "      <th>description_id</th>\n",
              "      <th>user_id</th>\n",
              "      <th>target</th>\n",
              "    </tr>\n",
              "  </thead>\n",
              "  <tbody>\n",
              "    <tr>\n",
              "      <th>7245</th>\n",
              "      <td>1.0</td>\n",
              "      <td>21193219.0</td>\n",
              "      <td>35900.0</td>\n",
              "      <td>3.0</td>\n",
              "      <td>1.0</td>\n",
              "      <td>5.0</td>\n",
              "      <td>148.0</td>\n",
              "      <td>195.0</td>\n",
              "      <td>5003639.0</td>\n",
              "      <td>0</td>\n",
              "    </tr>\n",
              "    <tr>\n",
              "      <th>16040</th>\n",
              "      <td>1.0</td>\n",
              "      <td>21818926.0</td>\n",
              "      <td>37716.0</td>\n",
              "      <td>1.0</td>\n",
              "      <td>1.0</td>\n",
              "      <td>5846.0</td>\n",
              "      <td>33576.0</td>\n",
              "      <td>26849.0</td>\n",
              "      <td>1338874.0</td>\n",
              "      <td>0</td>\n",
              "    </tr>\n",
              "    <tr>\n",
              "      <th>35455</th>\n",
              "      <td>1.0</td>\n",
              "      <td>20192676.0</td>\n",
              "      <td>27961.0</td>\n",
              "      <td>1.0</td>\n",
              "      <td>1.0</td>\n",
              "      <td>39.0</td>\n",
              "      <td>131.0</td>\n",
              "      <td>440.0</td>\n",
              "      <td>2405920.0</td>\n",
              "      <td>0</td>\n",
              "    </tr>\n",
              "    <tr>\n",
              "      <th>16429</th>\n",
              "      <td>1.0</td>\n",
              "      <td>20001249.0</td>\n",
              "      <td>1381.0</td>\n",
              "      <td>2.0</td>\n",
              "      <td>2.0</td>\n",
              "      <td>361.0</td>\n",
              "      <td>5581.0</td>\n",
              "      <td>5890.0</td>\n",
              "      <td>0.0</td>\n",
              "      <td>0</td>\n",
              "    </tr>\n",
              "    <tr>\n",
              "      <th>35609</th>\n",
              "      <td>1.0</td>\n",
              "      <td>4241447.0</td>\n",
              "      <td>18226.0</td>\n",
              "      <td>2.0</td>\n",
              "      <td>2.0</td>\n",
              "      <td>8248.0</td>\n",
              "      <td>245292.0</td>\n",
              "      <td>213698.0</td>\n",
              "      <td>11225727.0</td>\n",
              "      <td>0</td>\n",
              "    </tr>\n",
              "  </tbody>\n",
              "</table>\n",
              "</div>\n",
              "      <button class=\"colab-df-convert\" onclick=\"convertToInteractive('df-13a1c628-4e6f-4ff1-836f-f5e260f37a5c')\"\n",
              "              title=\"Convert this dataframe to an interactive table.\"\n",
              "              style=\"display:none;\">\n",
              "        \n",
              "  <svg xmlns=\"http://www.w3.org/2000/svg\" height=\"24px\"viewBox=\"0 0 24 24\"\n",
              "       width=\"24px\">\n",
              "    <path d=\"M0 0h24v24H0V0z\" fill=\"none\"/>\n",
              "    <path d=\"M18.56 5.44l.94 2.06.94-2.06 2.06-.94-2.06-.94-.94-2.06-.94 2.06-2.06.94zm-11 1L8.5 8.5l.94-2.06 2.06-.94-2.06-.94L8.5 2.5l-.94 2.06-2.06.94zm10 10l.94 2.06.94-2.06 2.06-.94-2.06-.94-.94-2.06-.94 2.06-2.06.94z\"/><path d=\"M17.41 7.96l-1.37-1.37c-.4-.4-.92-.59-1.43-.59-.52 0-1.04.2-1.43.59L10.3 9.45l-7.72 7.72c-.78.78-.78 2.05 0 2.83L4 21.41c.39.39.9.59 1.41.59.51 0 1.02-.2 1.41-.59l7.78-7.78 2.81-2.81c.8-.78.8-2.07 0-2.86zM5.41 20L4 18.59l7.72-7.72 1.47 1.35L5.41 20z\"/>\n",
              "  </svg>\n",
              "      </button>\n",
              "      \n",
              "  <style>\n",
              "    .colab-df-container {\n",
              "      display:flex;\n",
              "      flex-wrap:wrap;\n",
              "      gap: 12px;\n",
              "    }\n",
              "\n",
              "    .colab-df-convert {\n",
              "      background-color: #E8F0FE;\n",
              "      border: none;\n",
              "      border-radius: 50%;\n",
              "      cursor: pointer;\n",
              "      display: none;\n",
              "      fill: #1967D2;\n",
              "      height: 32px;\n",
              "      padding: 0 0 0 0;\n",
              "      width: 32px;\n",
              "    }\n",
              "\n",
              "    .colab-df-convert:hover {\n",
              "      background-color: #E2EBFA;\n",
              "      box-shadow: 0px 1px 2px rgba(60, 64, 67, 0.3), 0px 1px 3px 1px rgba(60, 64, 67, 0.15);\n",
              "      fill: #174EA6;\n",
              "    }\n",
              "\n",
              "    [theme=dark] .colab-df-convert {\n",
              "      background-color: #3B4455;\n",
              "      fill: #D2E3FC;\n",
              "    }\n",
              "\n",
              "    [theme=dark] .colab-df-convert:hover {\n",
              "      background-color: #434B5C;\n",
              "      box-shadow: 0px 1px 3px 1px rgba(0, 0, 0, 0.15);\n",
              "      filter: drop-shadow(0px 1px 2px rgba(0, 0, 0, 0.3));\n",
              "      fill: #FFFFFF;\n",
              "    }\n",
              "  </style>\n",
              "\n",
              "      <script>\n",
              "        const buttonEl =\n",
              "          document.querySelector('#df-13a1c628-4e6f-4ff1-836f-f5e260f37a5c button.colab-df-convert');\n",
              "        buttonEl.style.display =\n",
              "          google.colab.kernel.accessAllowed ? 'block' : 'none';\n",
              "\n",
              "        async function convertToInteractive(key) {\n",
              "          const element = document.querySelector('#df-13a1c628-4e6f-4ff1-836f-f5e260f37a5c');\n",
              "          const dataTable =\n",
              "            await google.colab.kernel.invokeFunction('convertToInteractive',\n",
              "                                                     [key], {});\n",
              "          if (!dataTable) return;\n",
              "\n",
              "          const docLinkHtml = 'Like what you see? Visit the ' +\n",
              "            '<a target=\"_blank\" href=https://colab.research.google.com/notebooks/data_table.ipynb>data table notebook</a>'\n",
              "            + ' to learn more about interactive tables.';\n",
              "          element.innerHTML = '';\n",
              "          dataTable['output_type'] = 'display_data';\n",
              "          await google.colab.output.renderOutput(dataTable, element);\n",
              "          const docLink = document.createElement('div');\n",
              "          docLink.innerHTML = docLinkHtml;\n",
              "          element.appendChild(docLink);\n",
              "        }\n",
              "      </script>\n",
              "    </div>\n",
              "  </div>\n",
              "  "
            ]
          },
          "metadata": {},
          "execution_count": 4
        }
      ]
    },
    {
      "cell_type": "code",
      "source": [
        "df.target.value_counts(normalize=True)"
      ],
      "metadata": {
        "colab": {
          "base_uri": "https://localhost:8080/"
        },
        "id": "mmnndL6Bn1Bd",
        "outputId": "ceb8f359-1dbe-4ce4-f814-00a9038c1251"
      },
      "execution_count": 5,
      "outputs": [
        {
          "output_type": "execute_result",
          "data": {
            "text/plain": [
              "0    0.831581\n",
              "1    0.168419\n",
              "Name: target, dtype: float64"
            ]
          },
          "metadata": {},
          "execution_count": 5
        }
      ]
    },
    {
      "cell_type": "code",
      "source": [
        "df.shape"
      ],
      "metadata": {
        "colab": {
          "base_uri": "https://localhost:8080/"
        },
        "id": "JxNM_mJdo1-y",
        "outputId": "d9c3ce55-1651-409e-c13e-226fd783c8f8"
      },
      "execution_count": 6,
      "outputs": [
        {
          "output_type": "execute_result",
          "data": {
            "text/plain": [
              "(39948, 10)"
            ]
          },
          "metadata": {},
          "execution_count": 6
        }
      ]
    },
    {
      "cell_type": "code",
      "source": [
        "for feature in df.columns[:-1].tolist():\n",
        "  print(f'Cardinality of {feature}: {df[feature].value_counts().shape[0]:,}')"
      ],
      "metadata": {
        "colab": {
          "base_uri": "https://localhost:8080/"
        },
        "id": "1hLzOCwZpmQb",
        "outputId": "ecc66a9d-4e84-434f-eaa6-1474ed329079"
      },
      "execution_count": 11,
      "outputs": [
        {
          "output_type": "stream",
          "name": "stdout",
          "text": [
            "Cardinality of impression: 99\n",
            "Cardinality of ad_id: 19,228\n",
            "Cardinality of advertiser_id: 6,064\n",
            "Cardinality of depth: 3\n",
            "Cardinality of position: 3\n",
            "Cardinality of keyword_id: 19,803\n",
            "Cardinality of title_id: 25,321\n",
            "Cardinality of description_id: 22,381\n",
            "Cardinality of user_id: 30,114\n"
          ]
        }
      ]
    },
    {
      "cell_type": "code",
      "source": [
        ""
      ],
      "metadata": {
        "id": "n_5azuo6qDMy"
      },
      "execution_count": null,
      "outputs": []
    }
  ]
}