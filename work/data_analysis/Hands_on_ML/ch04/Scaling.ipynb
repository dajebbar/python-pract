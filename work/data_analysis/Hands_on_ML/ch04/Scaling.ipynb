{
  "nbformat": 4,
  "nbformat_minor": 0,
  "metadata": {
    "colab": {
      "name": "Scaling.ipynb",
      "provenance": []
    },
    "kernelspec": {
      "name": "python3",
      "display_name": "Python 3"
    },
    "language_info": {
      "name": "python"
    }
  },
  "cells": [
    {
      "cell_type": "markdown",
      "source": [
        "# Homogenizing the columns' scale"
      ],
      "metadata": {
        "id": "q_U4lVt8UXSG"
      }
    },
    {
      "cell_type": "markdown",
      "source": [
        "## The standard scaler\n",
        "This converts the features into normal distribution by setting their mean to 0 and their standard deviation to 1. This is done using the following operation, where a column's mean value is subtracted from each value in it, and then the result is divided by the column's standard deviation value:\n",
        "\n",
        "## $$ Scaler(x_i) = \\frac{(x_i - x_{mean})}{x_{std}}$$"
      ],
      "metadata": {
        "id": "IL5m9rzXZZDc"
      }
    },
    {
      "cell_type": "markdown",
      "source": [
        "The scaler's implementation can be used as follows:  \n",
        "`from sklearn.preprocessing import StandardScaler`   \n",
        "`scaler = StandardScaler()`  \n",
        "`x_train_scaled = scaler.fit_transform(x_train)`   \n",
        "`x_test_scaled = scaler.transform(x_test)`"
      ],
      "metadata": {
        "id": "WEP30gylZ8Tr"
      }
    },
    {
      "cell_type": "markdown",
      "source": [
        "## The MinMax scaler\n",
        "This squeezes the features into a certain range, typically between (0 and 1). If you need to use a different range, you can set it using the feature_range parameter. This scaler works as follows:  \n",
        "\n",
        "`from sklearn.preprocessing import MinMaxScaler`  \n",
        "`scaler = MinMaxScaler(feature_range=(0,1))`  \n",
        "`x_train_scaled = scaler.fit_transform(x_train)`  \n",
        "`x_test_scaled = scaler.transform(x_test)`  "
      ],
      "metadata": {
        "id": "fdPKkdKcazFI"
      }
    },
    {
      "cell_type": "code",
      "execution_count": null,
      "metadata": {
        "id": "t2NWxRxiUU7G"
      },
      "outputs": [],
      "source": [
        ""
      ]
    }
  ]
}