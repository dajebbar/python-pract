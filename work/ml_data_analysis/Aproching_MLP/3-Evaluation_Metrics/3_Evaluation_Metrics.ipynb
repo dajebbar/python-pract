{
  "nbformat": 4,
  "nbformat_minor": 0,
  "metadata": {
    "colab": {
      "name": "3-Evaluation_Metrics.ipynb",
      "provenance": []
    },
    "kernelspec": {
      "name": "python3",
      "display_name": "Python 3"
    },
    "language_info": {
      "name": "python"
    }
  },
  "cells": [
    {
      "cell_type": "markdown",
      "source": [
        "# Accuracy"
      ],
      "metadata": {
        "id": "23w3tBjSnmKV"
      }
    },
    {
      "cell_type": "code",
      "source": [
        "import pandas as pd\n",
        "import numpy as np\n",
        "import matplotlib.pyplot as plt\n",
        "plt.style.use('ggplot')\n",
        "%matplotlib inline"
      ],
      "metadata": {
        "id": "0nw17vGfHPgG"
      },
      "execution_count": 5,
      "outputs": []
    },
    {
      "cell_type": "code",
      "execution_count": 1,
      "metadata": {
        "id": "Xm-rb6DjiwJM"
      },
      "outputs": [],
      "source": [
        "def accuracy(y_true, y_pred):\n",
        "  correct_counter = 0\n",
        "  for yt, yp in zip(y_true, y_pred):\n",
        "    if yt == yp:\n",
        "      correct_counter += 1\n",
        "  \n",
        "  return correct_counter / len(y_true)\n",
        "\n",
        "def true_positive(y_true, y_pred):\n",
        "  tp = 0\n",
        "  for yt, yp in zip(y_true, y_pred):\n",
        "    if yt == 1 and yp == 1:\n",
        "      tp += 1\n",
        "  \n",
        "  return tp\n",
        "\n",
        "def true_negative(y_true, y_pred):\n",
        "  tn = 0\n",
        "  for yt, yp in zip(y_true, y_pred):\n",
        "    if yt == 0 and yp == 0:\n",
        "      tn += 1\n",
        "  \n",
        "  return tn\n",
        "\n",
        "def false_positive(y_true, y_pred):\n",
        "  fp = 0\n",
        "  for yt, yp in zip(y_true, y_pred):\n",
        "    if yt == 0 and yp == 1:\n",
        "      fp += 1\n",
        "  \n",
        "  return fp\n",
        "\n",
        "def false_negative(y_true, y_pred):\n",
        "  fn = 0\n",
        "  for yt, yp in zip(y_true, y_pred):\n",
        "    if yt == 1 and yp == 0:\n",
        "      fn += 1\n",
        "  \n",
        "  return fn\n",
        "\n",
        "def accuracy_v2(y_true, y_pred):\n",
        " tp = true_positive(y_true, y_pred)\n",
        " fp = false_positive(y_true, y_pred)\n",
        " fn = false_negative(y_true, y_pred)\n",
        " tn = true_negative(y_true, y_pred)\n",
        " accuracy_score = (tp + tn) / (tp + tn + fp + fn)\n",
        " \n",
        " return accuracy_score\n"
      ]
    },
    {
      "cell_type": "markdown",
      "source": [
        "# Precision"
      ],
      "metadata": {
        "id": "TtoF3XhXnpsc"
      }
    },
    {
      "cell_type": "code",
      "source": [
        "def precision(y_true, y_pred):\n",
        " tp = true_positive(y_true, y_pred)\n",
        " fp = false_positive(y_true, y_pred)\n",
        " precision = tp / (tp + fp)\n",
        " \n",
        " return precision"
      ],
      "metadata": {
        "id": "el9WaYlEnsq3"
      },
      "execution_count": 2,
      "outputs": []
    },
    {
      "cell_type": "markdown",
      "source": [
        "# Recall"
      ],
      "metadata": {
        "id": "dXuE7U6u2XbA"
      }
    },
    {
      "cell_type": "code",
      "source": [
        "def recall(y_true, y_pred):\n",
        "  tp = true_positive(y_true, y_pred)\n",
        "  fn = false_negative(y_true, y_pred)\n",
        "  recall = tp / (tp + fn)\n",
        "  return recall"
      ],
      "metadata": {
        "id": "wNYVss3Q2Y4d"
      },
      "execution_count": 3,
      "outputs": []
    },
    {
      "cell_type": "markdown",
      "source": [
        "# Precision-Recall Curve"
      ],
      "metadata": {
        "id": "fLpZeRtaEvKC"
      }
    },
    {
      "cell_type": "code",
      "source": [
        "y_true = [0, 0, 0, 1, 0, 0, 0, 0, 0, 0, 1, 0, 0, 0, 0, 0, 0, 0, 1, 0]\n",
        "y_pred = [0.02638412, 0.11114267, 0.31620708,\n",
        "          0.0490937, 0.0191491, 0.17554844,\n",
        "          0.15952202, 0.03819563, 0.11639273,\n",
        "          0.079377, 0.08584789, 0.39095342,\n",
        "          0.27259048, 0.03447096, 0.04644807,\n",
        "          0.03543574, 0.18521942, 0.05934905,\n",
        "          0.61977213, 0.33056815]\n",
        "\n",
        "precisions = []\n",
        "recalls = []\n",
        "thresholds = [0.0490937 , 0.05934905, 0.079377, \n",
        "             0.08584789, 0.11114267, 0.11639273,\n",
        "             0.15952202, 0.17554844, 0.18521942,\n",
        "             0.27259048, 0.31620708, 0.33056815,\n",
        "             0.39095342, 0.61977213]\n",
        "\n",
        "for i in thresholds:\n",
        "  temp_prediction = [1 if x >= i else 0 for x in y_pred]\n",
        "  p = precision(y_true, temp_prediction)\n",
        "  r = recall(y_true, temp_prediction)\n",
        "  precisions.append(p)\n",
        "  recalls.append(r)"
      ],
      "metadata": {
        "id": "rWzYOKFPEyaM"
      },
      "execution_count": 4,
      "outputs": []
    },
    {
      "cell_type": "code",
      "source": [
        "plt.figure(figsize=(7, 7))\n",
        "plt.plot(recalls, precisions)\n",
        "plt.xlabel('Recall', fontsize=15)\n",
        "plt.ylabel('Precision', fontsize=15)"
      ],
      "metadata": {
        "colab": {
          "base_uri": "https://localhost:8080/",
          "height": 465
        },
        "id": "rw5GgTR_G_rC",
        "outputId": "2716a6ae-e5ec-430c-fb04-9d3c538b87cb"
      },
      "execution_count": 6,
      "outputs": [
        {
          "output_type": "execute_result",
          "data": {
            "text/plain": [
              "Text(0, 0.5, 'Precision')"
            ]
          },
          "metadata": {},
          "execution_count": 6
        },
        {
          "output_type": "display_data",
          "data": {
            "text/plain": [
              "<Figure size 504x504 with 1 Axes>"
            ],
            "image/png": "[encoded data removed]"
          },
          "metadata": {
            "needs_background": "light"
          }
        }
      ]
    },
    {
      "cell_type": "markdown",
      "source": [
        "# F1-Score"
      ],
      "metadata": {
        "id": "pqBotbRHI3TA"
      }
    },
    {
      "cell_type": "code",
      "source": [
        "def f1(y_true, y_pred):\n",
        "  p = precision(y_true, y_pred)\n",
        "  r = recall(y_true, y_pred)\n",
        "  score = (2 * p * r) / (p + r)\n",
        "\n",
        "  return score"
      ],
      "metadata": {
        "id": "3H0iV16IHd-A"
      },
      "execution_count": 7,
      "outputs": []
    },
    {
      "cell_type": "markdown",
      "source": [
        "# TPR or True Positive Rate (**sensitivity**)"
      ],
      "metadata": {
        "id": "SuL0FgdNJ_PO"
      }
    },
    {
      "cell_type": "code",
      "source": [
        "def tpr(y_true, y_pred):\n",
        "  return recall(y_true, y_pred)"
      ],
      "metadata": {
        "id": "qZoTr2SDJlNM"
      },
      "execution_count": 8,
      "outputs": []
    },
    {
      "cell_type": "markdown",
      "source": [
        "#  FPR or False Positive Rate"
      ],
      "metadata": {
        "id": "zgY_Lic5KZZ6"
      }
    },
    {
      "cell_type": "code",
      "source": [
        "def fpr(y_true, y_pred):\n",
        "  fp = false_positive(y_true, y_pred)\n",
        "  tn = true_negative(y_true, y_pred)\n",
        "  \n",
        "  return fp / (fp + tn)"
      ],
      "metadata": {
        "id": "q98rivV7KH2H"
      },
      "execution_count": 9,
      "outputs": []
    },
    {
      "cell_type": "code",
      "source": [
        "tpr_lst = []\n",
        "fpr_lst = []\n",
        "\n",
        "y_true = [0, 0, 0, 0, 1, 0, 1, 0, 0, 1, 0, 1, 0, 0, 1]\n",
        "y_pred = [0.1, 0.3, 0.2, 0.6, 0.8, 0.05,\n",
        "          0.9, 0.5, 0.3, 0.66, 0.3, 0.2,\n",
        "          0.85, 0.15, 0.99]\n",
        "thresholds =  [0, 0.1, 0.2, 0.3, 0.4, 0.5,\n",
        "                0.6, 0.7, 0.8, 0.85, 0.9, 0.99, 1.0]\n",
        "\n",
        "\n",
        "for thresh in thresholds:\n",
        "  y_temp = [1 if x >= thresh else 0 for x in thresholds]\n",
        "  # calculate tpr\n",
        "  tpr_temp = tpr(y_true, y_temp)\n",
        "  # calculate fpr\n",
        "  fpr_temp = fpr(y_true, y_temp)\n",
        "\n",
        "  tpr_lst.append(tpr_temp)\n",
        "  fpr_lst.append(fpr_temp)\n",
        "\n",
        "pd.DataFrame(\n",
        "    {\n",
        "        'thresholds': thresholds,\n",
        "     'tpr': tpr_lst,\n",
        "     'fpr': fpr_lst\n",
        "    }\n",
        ").set_index('thresholds')"
      ],
      "metadata": {
        "colab": {
          "base_uri": "https://localhost:8080/",
          "height": 488
        },
        "id": "gyHRMyCFK6jj",
        "outputId": "4bc36526-66b8-4414-dafc-cd5d797344b2"
      },
      "execution_count": 10,
      "outputs": [
        {
          "output_type": "execute_result",
          "data": {
            "text/plain": [
              "             tpr       fpr\n",
              "thresholds                \n",
              "0.00        1.00  1.000000\n",
              "0.10        1.00  0.888889\n",
              "0.20        1.00  0.777778\n",
              "0.30        1.00  0.666667\n",
              "0.40        1.00  0.555556\n",
              "0.50        0.75  0.555556\n",
              "0.60        0.75  0.444444\n",
              "0.70        0.50  0.444444\n",
              "0.80        0.50  0.333333\n",
              "0.85        0.50  0.222222\n",
              "0.90        0.25  0.222222\n",
              "0.99        0.25  0.111111\n",
              "1.00        0.00  0.111111"
            ],
            "text/html": [
              "\n",
              "  <div id=\"df-b2ff8f02-e44b-4801-aa2a-a043b15f40fe\">\n",
              "    <div class=\"colab-df-container\">\n",
              "      <div>\n",
              "<style scoped>\n",
              "    .dataframe tbody tr th:only-of-type {\n",
              "        vertical-align: middle;\n",
              "    }\n",
              "\n",
              "    .dataframe tbody tr th {\n",
              "        vertical-align: top;\n",
              "    }\n",
              "\n",
              "    .dataframe thead th {\n",
              "        text-align: right;\n",
              "    }\n",
              "</style>\n",
              "<table border=\"1\" class=\"dataframe\">\n",
              "  <thead>\n",
              "    <tr style=\"text-align: right;\">\n",
              "      <th></th>\n",
              "      <th>tpr</th>\n",
              "      <th>fpr</th>\n",
              "    </tr>\n",
              "    <tr>\n",
              "      <th>thresholds</th>\n",
              "      <th></th>\n",
              "      <th></th>\n",
              "    </tr>\n",
              "  </thead>\n",
              "  <tbody>\n",
              "    <tr>\n",
              "      <th>0.00</th>\n",
              "      <td>1.00</td>\n",
              "      <td>1.000000</td>\n",
              "    </tr>\n",
              "    <tr>\n",
              "      <th>0.10</th>\n",
              "      <td>1.00</td>\n",
              "      <td>0.888889</td>\n",
              "    </tr>\n",
              "    <tr>\n",
              "      <th>0.20</th>\n",
              "      <td>1.00</td>\n",
              "      <td>0.777778</td>\n",
              "    </tr>\n",
              "    <tr>\n",
              "      <th>0.30</th>\n",
              "      <td>1.00</td>\n",
              "      <td>0.666667</td>\n",
              "    </tr>\n",
              "    <tr>\n",
              "      <th>0.40</th>\n",
              "      <td>1.00</td>\n",
              "      <td>0.555556</td>\n",
              "    </tr>\n",
              "    <tr>\n",
              "      <th>0.50</th>\n",
              "      <td>0.75</td>\n",
              "      <td>0.555556</td>\n",
              "    </tr>\n",
              "    <tr>\n",
              "      <th>0.60</th>\n",
              "      <td>0.75</td>\n",
              "      <td>0.444444</td>\n",
              "    </tr>\n",
              "    <tr>\n",
              "      <th>0.70</th>\n",
              "      <td>0.50</td>\n",
              "      <td>0.444444</td>\n",
              "    </tr>\n",
              "    <tr>\n",
              "      <th>0.80</th>\n",
              "      <td>0.50</td>\n",
              "      <td>0.333333</td>\n",
              "    </tr>\n",
              "    <tr>\n",
              "      <th>0.85</th>\n",
              "      <td>0.50</td>\n",
              "      <td>0.222222</td>\n",
              "    </tr>\n",
              "    <tr>\n",
              "      <th>0.90</th>\n",
              "      <td>0.25</td>\n",
              "      <td>0.222222</td>\n",
              "    </tr>\n",
              "    <tr>\n",
              "      <th>0.99</th>\n",
              "      <td>0.25</td>\n",
              "      <td>0.111111</td>\n",
              "    </tr>\n",
              "    <tr>\n",
              "      <th>1.00</th>\n",
              "      <td>0.00</td>\n",
              "      <td>0.111111</td>\n",
              "    </tr>\n",
              "  </tbody>\n",
              "</table>\n",
              "</div>\n",
              "      <button class=\"colab-df-convert\" onclick=\"convertToInteractive('df-b2ff8f02-e44b-4801-aa2a-a043b15f40fe')\"\n",
              "              title=\"Convert this dataframe to an interactive table.\"\n",
              "              style=\"display:none;\">\n",
              "        \n",
              "  <svg xmlns=\"http://www.w3.org/2000/svg\" height=\"24px\"viewBox=\"0 0 24 24\"\n",
              "       width=\"24px\">\n",
              "    <path d=\"M0 0h24v24H0V0z\" fill=\"none\"/>\n",
              "    <path d=\"M18.56 5.44l.94 2.06.94-2.06 2.06-.94-2.06-.94-.94-2.06-.94 2.06-2.06.94zm-11 1L8.5 8.5l.94-2.06 2.06-.94-2.06-.94L8.5 2.5l-.94 2.06-2.06.94zm10 10l.94 2.06.94-2.06 2.06-.94-2.06-.94-.94-2.06-.94 2.06-2.06.94z\"/><path d=\"M17.41 7.96l-1.37-1.37c-.4-.4-.92-.59-1.43-.59-.52 0-1.04.2-1.43.59L10.3 9.45l-7.72 7.72c-.78.78-.78 2.05 0 2.83L4 21.41c.39.39.9.59 1.41.59.51 0 1.02-.2 1.41-.59l7.78-7.78 2.81-2.81c.8-.78.8-2.07 0-2.86zM5.41 20L4 18.59l7.72-7.72 1.47 1.35L5.41 20z\"/>\n",
              "  </svg>\n",
              "      </button>\n",
              "      \n",
              "  <style>\n",
              "    .colab-df-container {\n",
              "      display:flex;\n",
              "      flex-wrap:wrap;\n",
              "      gap: 12px;\n",
              "    }\n",
              "\n",
              "    .colab-df-convert {\n",
              "      background-color: #E8F0FE;\n",
              "      border: none;\n",
              "      border-radius: 50%;\n",
              "      cursor: pointer;\n",
              "      display: none;\n",
              "      fill: #1967D2;\n",
              "      height: 32px;\n",
              "      padding: 0 0 0 0;\n",
              "      width: 32px;\n",
              "    }\n",
              "\n",
              "    .colab-df-convert:hover {\n",
              "      background-color: #E2EBFA;\n",
              "      box-shadow: 0px 1px 2px rgba(60, 64, 67, 0.3), 0px 1px 3px 1px rgba(60, 64, 67, 0.15);\n",
              "      fill: #174EA6;\n",
              "    }\n",
              "\n",
              "    [theme=dark] .colab-df-convert {\n",
              "      background-color: #3B4455;\n",
              "      fill: #D2E3FC;\n",
              "    }\n",
              "\n",
              "    [theme=dark] .colab-df-convert:hover {\n",
              "      background-color: #434B5C;\n",
              "      box-shadow: 0px 1px 3px 1px rgba(0, 0, 0, 0.15);\n",
              "      filter: drop-shadow(0px 1px 2px rgba(0, 0, 0, 0.3));\n",
              "      fill: #FFFFFF;\n",
              "    }\n",
              "  </style>\n",
              "\n",
              "      <script>\n",
              "        const buttonEl =\n",
              "          document.querySelector('#df-b2ff8f02-e44b-4801-aa2a-a043b15f40fe button.colab-df-convert');\n",
              "        buttonEl.style.display =\n",
              "          google.colab.kernel.accessAllowed ? 'block' : 'none';\n",
              "\n",
              "        async function convertToInteractive(key) {\n",
              "          const element = document.querySelector('#df-b2ff8f02-e44b-4801-aa2a-a043b15f40fe');\n",
              "          const dataTable =\n",
              "            await google.colab.kernel.invokeFunction('convertToInteractive',\n",
              "                                                     [key], {});\n",
              "          if (!dataTable) return;\n",
              "\n",
              "          const docLinkHtml = 'Like what you see? Visit the ' +\n",
              "            '<a target=\"_blank\" href=https://colab.research.google.com/notebooks/data_table.ipynb>data table notebook</a>'\n",
              "            + ' to learn more about interactive tables.';\n",
              "          element.innerHTML = '';\n",
              "          dataTable['output_type'] = 'display_data';\n",
              "          await google.colab.output.renderOutput(dataTable, element);\n",
              "          const docLink = document.createElement('div');\n",
              "          docLink.innerHTML = docLinkHtml;\n",
              "          element.appendChild(docLink);\n",
              "        }\n",
              "      </script>\n",
              "    </div>\n",
              "  </div>\n",
              "  "
            ]
          },
          "metadata": {},
          "execution_count": 10
        }
      ]
    },
    {
      "cell_type": "code",
      "source": [
        "plt.figure(figsize=(7, 7))\n",
        "plt.fill_between(fpr_lst, tpr_lst, alpha=0.4, color='k')\n",
        "plt.plot(fpr_lst, tpr_lst, lw=3, color='k')\n",
        "plt.xlim(0, 1.0)\n",
        "plt.ylim(0, 1.0)\n",
        "plt.xlabel('FPR', fontsize=15)\n",
        "plt.ylabel('TPR', fontsize=15)\n",
        "plt.show()"
      ],
      "metadata": {
        "colab": {
          "base_uri": "https://localhost:8080/",
          "height": 451
        },
        "id": "VjogTsoQNddW",
        "outputId": "88aeb2e4-2444-4437-ff89-4ade345b8c39"
      },
      "execution_count": 12,
      "outputs": [
        {
          "output_type": "display_data",
          "data": {
            "text/plain": [
              "<Figure size 504x504 with 1 Axes>"
            ],
            "image/png": "[encoded data removed]"
          },
          "metadata": {
            "needs_background": "light"
          }
        }
      ]
    },
    {
      "cell_type": "code",
      "source": [
        "tp_list = []\n",
        "fp_list = []\n",
        "# actual targets\n",
        "y_true = [0, 0, 0, 0, 1, 0, 1,\n",
        " 0, 0, 1, 0, 1, 0, 0, 1]\n",
        "# predicted probabilities of a sample being 1\n",
        "y_pred = [0.1, 0.3, 0.2, 0.6, 0.8, 0.05,\n",
        "          0.9, 0.5, 0.3, 0.66, 0.3, 0.2,\n",
        "          0.85, 0.15, 0.99]\n",
        "# some handmade thresholds\n",
        "thresholds = [0, 0.1, 0.2, 0.3, 0.4, 0.5,\n",
        "              0.6, 0.7, 0.8, 0.85, 0.9, 0.99, 1.0]\n",
        "# loop over all thresholds\n",
        "for thresh in thresholds:\n",
        "  # calculate predictions for a given threshold\n",
        "  temp_pred = [1 if x >= thresh else 0 for x in y_pred]\n",
        "  # calculate tp\n",
        "  temp_tp = true_positive(y_true, temp_pred)\n",
        "  # calculate fp\n",
        "  temp_fp = false_positive(y_true, temp_pred)\n",
        "  # append tp and fp to lists\n",
        "  tp_list.append(temp_tp)\n",
        "  fp_list.append(temp_fp)\n",
        "\n",
        "df = pd.DataFrame(\n",
        "    {\n",
        "        'thresholds': thresholds,\n",
        "     'tpr': np.array(tp_list)/5.,\n",
        "     'fpr': np.array(fp_list)/10.\n",
        "    }\n",
        ").set_index('thresholds')\n",
        "\n",
        "df"
      ],
      "metadata": {
        "colab": {
          "base_uri": "https://localhost:8080/",
          "height": 488
        },
        "id": "fcHQ0LQrN_nd",
        "outputId": "0a616eab-d101-45e9-aea3-955d690b65ca"
      },
      "execution_count": 23,
      "outputs": [
        {
          "output_type": "execute_result",
          "data": {
            "text/plain": [
              "            tpr  fpr\n",
              "thresholds          \n",
              "0.00        1.0  1.0\n",
              "0.10        1.0  0.9\n",
              "0.20        1.0  0.7\n",
              "0.30        0.8  0.6\n",
              "0.40        0.8  0.3\n",
              "0.50        0.8  0.3\n",
              "0.60        0.8  0.2\n",
              "0.70        0.6  0.1\n",
              "0.80        0.6  0.1\n",
              "0.85        0.4  0.1\n",
              "0.90        0.4  0.0\n",
              "0.99        0.2  0.0\n",
              "1.00        0.0  0.0"
            ],
            "text/html": [
              "\n",
              "  <div id=\"df-751490c3-d364-4c17-90ad-0b15f29ea476\">\n",
              "    <div class=\"colab-df-container\">\n",
              "      <div>\n",
              "<style scoped>\n",
              "    .dataframe tbody tr th:only-of-type {\n",
              "        vertical-align: middle;\n",
              "    }\n",
              "\n",
              "    .dataframe tbody tr th {\n",
              "        vertical-align: top;\n",
              "    }\n",
              "\n",
              "    .dataframe thead th {\n",
              "        text-align: right;\n",
              "    }\n",
              "</style>\n",
              "<table border=\"1\" class=\"dataframe\">\n",
              "  <thead>\n",
              "    <tr style=\"text-align: right;\">\n",
              "      <th></th>\n",
              "      <th>tpr</th>\n",
              "      <th>fpr</th>\n",
              "    </tr>\n",
              "    <tr>\n",
              "      <th>thresholds</th>\n",
              "      <th></th>\n",
              "      <th></th>\n",
              "    </tr>\n",
              "  </thead>\n",
              "  <tbody>\n",
              "    <tr>\n",
              "      <th>0.00</th>\n",
              "      <td>1.0</td>\n",
              "      <td>1.0</td>\n",
              "    </tr>\n",
              "    <tr>\n",
              "      <th>0.10</th>\n",
              "      <td>1.0</td>\n",
              "      <td>0.9</td>\n",
              "    </tr>\n",
              "    <tr>\n",
              "      <th>0.20</th>\n",
              "      <td>1.0</td>\n",
              "      <td>0.7</td>\n",
              "    </tr>\n",
              "    <tr>\n",
              "      <th>0.30</th>\n",
              "      <td>0.8</td>\n",
              "      <td>0.6</td>\n",
              "    </tr>\n",
              "    <tr>\n",
              "      <th>0.40</th>\n",
              "      <td>0.8</td>\n",
              "      <td>0.3</td>\n",
              "    </tr>\n",
              "    <tr>\n",
              "      <th>0.50</th>\n",
              "      <td>0.8</td>\n",
              "      <td>0.3</td>\n",
              "    </tr>\n",
              "    <tr>\n",
              "      <th>0.60</th>\n",
              "      <td>0.8</td>\n",
              "      <td>0.2</td>\n",
              "    </tr>\n",
              "    <tr>\n",
              "      <th>0.70</th>\n",
              "      <td>0.6</td>\n",
              "      <td>0.1</td>\n",
              "    </tr>\n",
              "    <tr>\n",
              "      <th>0.80</th>\n",
              "      <td>0.6</td>\n",
              "      <td>0.1</td>\n",
              "    </tr>\n",
              "    <tr>\n",
              "      <th>0.85</th>\n",
              "      <td>0.4</td>\n",
              "      <td>0.1</td>\n",
              "    </tr>\n",
              "    <tr>\n",
              "      <th>0.90</th>\n",
              "      <td>0.4</td>\n",
              "      <td>0.0</td>\n",
              "    </tr>\n",
              "    <tr>\n",
              "      <th>0.99</th>\n",
              "      <td>0.2</td>\n",
              "      <td>0.0</td>\n",
              "    </tr>\n",
              "    <tr>\n",
              "      <th>1.00</th>\n",
              "      <td>0.0</td>\n",
              "      <td>0.0</td>\n",
              "    </tr>\n",
              "  </tbody>\n",
              "</table>\n",
              "</div>\n",
              "      <button class=\"colab-df-convert\" onclick=\"convertToInteractive('df-751490c3-d364-4c17-90ad-0b15f29ea476')\"\n",
              "              title=\"Convert this dataframe to an interactive table.\"\n",
              "              style=\"display:none;\">\n",
              "        \n",
              "  <svg xmlns=\"http://www.w3.org/2000/svg\" height=\"24px\"viewBox=\"0 0 24 24\"\n",
              "       width=\"24px\">\n",
              "    <path d=\"M0 0h24v24H0V0z\" fill=\"none\"/>\n",
              "    <path d=\"M18.56 5.44l.94 2.06.94-2.06 2.06-.94-2.06-.94-.94-2.06-.94 2.06-2.06.94zm-11 1L8.5 8.5l.94-2.06 2.06-.94-2.06-.94L8.5 2.5l-.94 2.06-2.06.94zm10 10l.94 2.06.94-2.06 2.06-.94-2.06-.94-.94-2.06-.94 2.06-2.06.94z\"/><path d=\"M17.41 7.96l-1.37-1.37c-.4-.4-.92-.59-1.43-.59-.52 0-1.04.2-1.43.59L10.3 9.45l-7.72 7.72c-.78.78-.78 2.05 0 2.83L4 21.41c.39.39.9.59 1.41.59.51 0 1.02-.2 1.41-.59l7.78-7.78 2.81-2.81c.8-.78.8-2.07 0-2.86zM5.41 20L4 18.59l7.72-7.72 1.47 1.35L5.41 20z\"/>\n",
              "  </svg>\n",
              "      </button>\n",
              "      \n",
              "  <style>\n",
              "    .colab-df-container {\n",
              "      display:flex;\n",
              "      flex-wrap:wrap;\n",
              "      gap: 12px;\n",
              "    }\n",
              "\n",
              "    .colab-df-convert {\n",
              "      background-color: #E8F0FE;\n",
              "      border: none;\n",
              "      border-radius: 50%;\n",
              "      cursor: pointer;\n",
              "      display: none;\n",
              "      fill: #1967D2;\n",
              "      height: 32px;\n",
              "      padding: 0 0 0 0;\n",
              "      width: 32px;\n",
              "    }\n",
              "\n",
              "    .colab-df-convert:hover {\n",
              "      background-color: #E2EBFA;\n",
              "      box-shadow: 0px 1px 2px rgba(60, 64, 67, 0.3), 0px 1px 3px 1px rgba(60, 64, 67, 0.15);\n",
              "      fill: #174EA6;\n",
              "    }\n",
              "\n",
              "    [theme=dark] .colab-df-convert {\n",
              "      background-color: #3B4455;\n",
              "      fill: #D2E3FC;\n",
              "    }\n",
              "\n",
              "    [theme=dark] .colab-df-convert:hover {\n",
              "      background-color: #434B5C;\n",
              "      box-shadow: 0px 1px 3px 1px rgba(0, 0, 0, 0.15);\n",
              "      filter: drop-shadow(0px 1px 2px rgba(0, 0, 0, 0.3));\n",
              "      fill: #FFFFFF;\n",
              "    }\n",
              "  </style>\n",
              "\n",
              "      <script>\n",
              "        const buttonEl =\n",
              "          document.querySelector('#df-751490c3-d364-4c17-90ad-0b15f29ea476 button.colab-df-convert');\n",
              "        buttonEl.style.display =\n",
              "          google.colab.kernel.accessAllowed ? 'block' : 'none';\n",
              "\n",
              "        async function convertToInteractive(key) {\n",
              "          const element = document.querySelector('#df-751490c3-d364-4c17-90ad-0b15f29ea476');\n",
              "          const dataTable =\n",
              "            await google.colab.kernel.invokeFunction('convertToInteractive',\n",
              "                                                     [key], {});\n",
              "          if (!dataTable) return;\n",
              "\n",
              "          const docLinkHtml = 'Like what you see? Visit the ' +\n",
              "            '<a target=\"_blank\" href=https://colab.research.google.com/notebooks/data_table.ipynb>data table notebook</a>'\n",
              "            + ' to learn more about interactive tables.';\n",
              "          element.innerHTML = '';\n",
              "          dataTable['output_type'] = 'display_data';\n",
              "          await google.colab.output.renderOutput(dataTable, element);\n",
              "          const docLink = document.createElement('div');\n",
              "          docLink.innerHTML = docLinkHtml;\n",
              "          element.appendChild(docLink);\n",
              "        }\n",
              "      </script>\n",
              "    </div>\n",
              "  </div>\n",
              "  "
            ]
          },
          "metadata": {},
          "execution_count": 23
        }
      ]
    },
    {
      "cell_type": "code",
      "source": [
        "plt.figure(figsize=(7, 7))\n",
        "plt.fill_between(df['fpr'], df['tpr'], alpha=0.4, color='k')\n",
        "plt.plot(df['fpr'], df['tpr'], lw=3, color='k')\n",
        "plt.xlim(0, 1.0)\n",
        "plt.ylim(0, 1.0)\n",
        "plt.xlabel('FPR', fontsize=15)\n",
        "plt.ylabel('TPR', fontsize=15)\n",
        "plt.show()"
      ],
      "metadata": {
        "colab": {
          "base_uri": "https://localhost:8080/",
          "height": 451
        },
        "id": "8CxohAMNTuQH",
        "outputId": "b7c1305e-e3be-4a8f-881d-caa766f7f08e"
      },
      "execution_count": 24,
      "outputs": [
        {
          "output_type": "display_data",
          "data": {
            "text/plain": [
              "<Figure size 504x504 with 1 Axes>"
            ],
            "image/png": "[encoded data removed]"
          },
          "metadata": {
            "needs_background": "light"
          }
        }
      ]
    },
    {
      "cell_type": "markdown",
      "source": [
        "# Log-Loss\n",
        "\n",
        "## $$LogLoss = -1.0 × (target × log(prediction) + (1 - target) × log(1 - prediction))$$"
      ],
      "metadata": {
        "id": "herP6AP-Yzjx"
      }
    },
    {
      "cell_type": "code",
      "source": [
        "def log_loss(y_true, y_proba):\n",
        "  epsilon = 1e-15\n",
        "  loss = []\n",
        "  for yt, yp in zip(y_true, y_proba):\n",
        "    yp = np.clip(yp, epsilon, 1 - epsilon)\n",
        "    temp_loss = -1.0 * (yt * np.log(yp) + (1 - yt) * np.log(1 - yp))\n",
        "    loss.append(temp_loss)\n",
        "  \n",
        "  return np.mean(loss)"
      ],
      "metadata": {
        "id": "a3BxBR0JT_cS"
      },
      "execution_count": null,
      "outputs": []
    },
    {
      "cell_type": "markdown",
      "source": [
        "# Multi-label classification problem\n",
        "The metrics for this type of classification problem are a bit different. Some suitable and most common metrics are:\n",
        "- Precision at k (P@k)\n",
        "- Average precision at k (AP@k)\n",
        "- Mean average precision at k (MAP@k)\n",
        "- Log-Loss"
      ],
      "metadata": {
        "id": "oLX2ikgbe2Qa"
      }
    },
    {
      "cell_type": "markdown",
      "source": [
        "## Precision at k (P@k)"
      ],
      "metadata": {
        "id": "mo56u-7XhOfA"
      }
    },
    {
      "cell_type": "code",
      "source": [
        "def pk(y_true, y_pred, k):\n",
        "  # if k is 0, return 0. we should never have this\n",
        "  # as k is always >= 1\n",
        "  if k == 0:\n",
        "    return 0\n",
        "  # we are interested only in top-k predictions\n",
        "  y_pred = y_pred[:k]\n",
        "  # convert predictions to set\n",
        "  pred_set = set(y_pred)\n",
        "  # convert actual values to set\n",
        "  true_set = set(y_true)\n",
        "  # find common values\n",
        "  common_values = pred_set.intersection(true_set)\n",
        "\n",
        "  # return length of common values over k\n",
        "  return len(common_values) / len(y_pred[:k])"
      ],
      "metadata": {
        "id": "bZaX6VhwfMWC"
      },
      "execution_count": 25,
      "outputs": []
    },
    {
      "cell_type": "markdown",
      "source": [
        "## Average precision at k (AP@k)"
      ],
      "metadata": {
        "id": "BSofNGtAhWov"
      }
    },
    {
      "cell_type": "code",
      "source": [
        "def apk(y_true, y_pred, k):\n",
        "  # Average precision at k (AP@k)\n",
        "  pk_values = []\n",
        "  # loop over all k. from 1 to k + 1\n",
        "  for i in range(1, k+1):\n",
        "    # calculate p@i and append to list\n",
        "    pk_values.append(pk(y_true, y_pred, i))\n",
        "  \n",
        "  # if we have no values in the list, return 0\n",
        "  if len(pk_values) == 0:\n",
        "    return 0\n",
        "  \n",
        "  # else, we return the sum of list over length of list\n",
        "  return sum(pk_values) / len(pk_values)\n"
      ],
      "metadata": {
        "id": "U7YMvS_yg3hE"
      },
      "execution_count": 26,
      "outputs": []
    },
    {
      "cell_type": "code",
      "source": [
        "y_true = [\n",
        "          [1, 2, 3],\n",
        "          [0, 2],\n",
        "          [1],\n",
        "          [2, 3],\n",
        "          [1, 0],\n",
        "          [],\n",
        "]\n",
        "y_pred = [\n",
        "          [0, 1, 2],\n",
        "          [1],\n",
        "          [0, 2, 3],\n",
        "          [2, 3, 4, 0],\n",
        "          [0, 1, 2],\n",
        "          [0],\n",
        "]\n",
        "\n",
        "for i in range(len(y_true)):\n",
        "  for j in range(1, 4):\n",
        "    print(\n",
        "        f'''\n",
        "            y_true={y_true[i]},\n",
        "            y_pred={y_pred[i]},\n",
        "            AP@{j}={apk(y_true[i], y_pred[i], k=j)}\n",
        "\n",
        "        '''\n",
        "    )"
      ],
      "metadata": {
        "colab": {
          "base_uri": "https://localhost:8080/"
        },
        "id": "zOcusmluiLeN",
        "outputId": "8e4f887d-4656-4578-f873-d880f147800a"
      },
      "execution_count": 27,
      "outputs": [
        {
          "output_type": "stream",
          "name": "stdout",
          "text": [
            "\n",
            "            y_true=[1, 2, 3],\n",
            "            y_pred=[0, 1, 2],\n",
            "            AP@1=0.0\n",
            "\n",
            "        \n",
            "\n",
            "            y_true=[1, 2, 3],\n",
            "            y_pred=[0, 1, 2],\n",
            "            AP@2=0.25\n",
            "\n",
            "        \n",
            "\n",
            "            y_true=[1, 2, 3],\n",
            "            y_pred=[0, 1, 2],\n",
            "            AP@3=0.38888888888888884\n",
            "\n",
            "        \n",
            "\n",
            "            y_true=[0, 2],\n",
            "            y_pred=[1],\n",
            "            AP@1=0.0\n",
            "\n",
            "        \n",
            "\n",
            "            y_true=[0, 2],\n",
            "            y_pred=[1],\n",
            "            AP@2=0.0\n",
            "\n",
            "        \n",
            "\n",
            "            y_true=[0, 2],\n",
            "            y_pred=[1],\n",
            "            AP@3=0.0\n",
            "\n",
            "        \n",
            "\n",
            "            y_true=[1],\n",
            "            y_pred=[0, 2, 3],\n",
            "            AP@1=0.0\n",
            "\n",
            "        \n",
            "\n",
            "            y_true=[1],\n",
            "            y_pred=[0, 2, 3],\n",
            "            AP@2=0.0\n",
            "\n",
            "        \n",
            "\n",
            "            y_true=[1],\n",
            "            y_pred=[0, 2, 3],\n",
            "            AP@3=0.0\n",
            "\n",
            "        \n",
            "\n",
            "            y_true=[2, 3],\n",
            "            y_pred=[2, 3, 4, 0],\n",
            "            AP@1=1.0\n",
            "\n",
            "        \n",
            "\n",
            "            y_true=[2, 3],\n",
            "            y_pred=[2, 3, 4, 0],\n",
            "            AP@2=1.0\n",
            "\n",
            "        \n",
            "\n",
            "            y_true=[2, 3],\n",
            "            y_pred=[2, 3, 4, 0],\n",
            "            AP@3=0.8888888888888888\n",
            "\n",
            "        \n",
            "\n",
            "            y_true=[1, 0],\n",
            "            y_pred=[0, 1, 2],\n",
            "            AP@1=1.0\n",
            "\n",
            "        \n",
            "\n",
            "            y_true=[1, 0],\n",
            "            y_pred=[0, 1, 2],\n",
            "            AP@2=1.0\n",
            "\n",
            "        \n",
            "\n",
            "            y_true=[1, 0],\n",
            "            y_pred=[0, 1, 2],\n",
            "            AP@3=0.8888888888888888\n",
            "\n",
            "        \n",
            "\n",
            "            y_true=[],\n",
            "            y_pred=[0],\n",
            "            AP@1=0.0\n",
            "\n",
            "        \n",
            "\n",
            "            y_true=[],\n",
            "            y_pred=[0],\n",
            "            AP@2=0.0\n",
            "\n",
            "        \n",
            "\n",
            "            y_true=[],\n",
            "            y_pred=[0],\n",
            "            AP@3=0.0\n",
            "\n",
            "        \n"
          ]
        }
      ]
    },
    {
      "cell_type": "markdown",
      "source": [
        "## Mean Average Precision At k (MAP@k)\n",
        "\n",
        "So, this is how we can calculate AP@k which is per sample. In machine learning, we are interested in all samples, and that’s why we have mean average precision at k or MAP@k. MAP@k is just an average of AP@k."
      ],
      "metadata": {
        "id": "8AiK6O8ulHe3"
      }
    },
    {
      "cell_type": "code",
      "source": [
        "def mapk(y_true, y_pred, k):\n",
        "  # initialize empty list for apk values\n",
        "  apk_values = []\n",
        "  # loop over all samples\n",
        "  for i in range(len(y_true)):\n",
        "    # store apk values for every sample\n",
        "    apk_values.append(\n",
        "        apk(y_true[i], y_pred[i], k=k)\n",
        "    )\n",
        "  \n",
        "  # return mean of apk values list\n",
        "  return sum(apk_values) / len(apk_values)"
      ],
      "metadata": {
        "id": "HWZgFdHDkVjJ"
      },
      "execution_count": 28,
      "outputs": []
    },
    {
      "cell_type": "code",
      "source": [
        "mapk(y_true, y_pred, k=1)"
      ],
      "metadata": {
        "colab": {
          "base_uri": "https://localhost:8080/"
        },
        "id": "u5mSdfpDmEEP",
        "outputId": "eaf92077-c2bd-43a8-8756-88b04f8f083c"
      },
      "execution_count": 29,
      "outputs": [
        {
          "output_type": "execute_result",
          "data": {
            "text/plain": [
              "0.3333333333333333"
            ]
          },
          "metadata": {},
          "execution_count": 29
        }
      ]
    },
    {
      "cell_type": "code",
      "source": [
        "mapk(y_true, y_pred, k=2)"
      ],
      "metadata": {
        "colab": {
          "base_uri": "https://localhost:8080/"
        },
        "id": "4l8d86UPmJQu",
        "outputId": "04c80891-432e-4b8a-d697-176e6f07b132"
      },
      "execution_count": 30,
      "outputs": [
        {
          "output_type": "execute_result",
          "data": {
            "text/plain": [
              "0.375"
            ]
          },
          "metadata": {},
          "execution_count": 30
        }
      ]
    },
    {
      "cell_type": "code",
      "source": [
        "mapk(y_true, y_pred, k=3)"
      ],
      "metadata": {
        "colab": {
          "base_uri": "https://localhost:8080/"
        },
        "id": "oraEuAMNmMHJ",
        "outputId": "7a4f26ba-9537-4dc4-cff9-46db1880c1ad"
      },
      "execution_count": 31,
      "outputs": [
        {
          "output_type": "execute_result",
          "data": {
            "text/plain": [
              "0.3611111111111111"
            ]
          },
          "metadata": {},
          "execution_count": 31
        }
      ]
    },
    {
      "cell_type": "code",
      "source": [
        "mapk(y_true, y_pred, k=4)"
      ],
      "metadata": {
        "colab": {
          "base_uri": "https://localhost:8080/"
        },
        "id": "9DrPUHwmmQDX",
        "outputId": "69c1fbb2-4f73-41c5-bf38-43db4ee9bbd3"
      },
      "execution_count": 32,
      "outputs": [
        {
          "output_type": "execute_result",
          "data": {
            "text/plain": [
              "0.34722222222222215"
            ]
          },
          "metadata": {},
          "execution_count": 32
        }
      ]
    },
    {
      "cell_type": "markdown",
      "source": [
        "P@k, AP@k and MAP@k all range from 0 to 1 with 1 being the best."
      ],
      "metadata": {
        "id": "EKBr1yKJmhgG"
      }
    },
    {
      "cell_type": "markdown",
      "source": [
        "---\n",
        "# Regression Metrics\n",
        "\n",
        "*Error = True Value – Predicted Value*\n",
        "*Absolute Error = Abs ( True Value – Predicted Value )*"
      ],
      "metadata": {
        "id": "J0Ox-ZJToVY5"
      }
    },
    {
      "cell_type": "markdown",
      "source": [
        "## Mean Absolute Error (MAE)"
      ],
      "metadata": {
        "id": "M46MwyKUptZp"
      }
    },
    {
      "cell_type": "code",
      "source": [
        "def mean_absolute_error(y_true, y_pred):\n",
        "  # initialize error at 0\n",
        "  error = 0\n",
        "  # loop over all samples in the true and predicted list\n",
        "  for yt, yp in zip(y_true, y_pred):\n",
        "    error += np.abs(yt - yp)\n",
        "  \n",
        "  # return mean error\n",
        "  return error / len(y_true)"
      ],
      "metadata": {
        "id": "-VBQu0IkmSpn"
      },
      "execution_count": 33,
      "outputs": []
    },
    {
      "cell_type": "markdown",
      "source": [
        "## Mean squared error (MSE)\n",
        "*Squared Error = ( True Value – Predicted Value )^2*"
      ],
      "metadata": {
        "id": "34WjzTB_qmGp"
      }
    },
    {
      "cell_type": "code",
      "source": [
        "def mean_squared_error(y_true, y_pred):\n",
        "  # initialize error at 0\n",
        "  error = 0\n",
        "  # loop over all samples in the true and predicted list\n",
        "  for yt, yp in zip(y_true, y_pred):\n",
        "    # calculate squared error\n",
        "    # and add to error\n",
        "    error += (yt - yp) ** 2\n",
        "  \n",
        "  # return mean error\n",
        "  return error / len(y_true)"
      ],
      "metadata": {
        "id": "_5zbhuA6qcva"
      },
      "execution_count": 34,
      "outputs": []
    },
    {
      "cell_type": "markdown",
      "source": [
        "## MSLE (mean squared logarithmic error)"
      ],
      "metadata": {
        "id": "6ZH3gtPzrfJF"
      }
    },
    {
      "cell_type": "code",
      "source": [
        "def mean_squared_log_error(y_true, y_pred):\n",
        "  # initialize error at 0\n",
        "  error = 0\n",
        "  # loop over all samples in the true and predicted list\n",
        "  for yt, yp in zip(y_true, y_pred):\n",
        "    # calculate squared log error\n",
        "    # and add to error\n",
        "    error += (np.log(1 + yt) - np.log(1 + yp)) ** 2\n",
        "  \n",
        "  # return mean error\n",
        "  return error / len(y_true)"
      ],
      "metadata": {
        "id": "3Yt_uR0frJOY"
      },
      "execution_count": 35,
      "outputs": []
    },
    {
      "cell_type": "markdown",
      "source": [
        "## Percentage Error\n",
        "*Percentage Error = ( ( True Value – Predicted Value ) / True Value ) * 100*"
      ],
      "metadata": {
        "id": "g-w_u-0br83K"
      }
    },
    {
      "cell_type": "code",
      "source": [
        "def mean_percentage_error(y_true, y_pred):\n",
        "  # initialize error at 0\n",
        "  error = 0\n",
        "  # loop over all samples in the true and predicted list\n",
        "  for yt, yp in zip(y_true, y_pred):\n",
        "    # calculate % error\n",
        "    # and add to error\n",
        "    error += (yt - yp) / yt\n",
        "  \n",
        "  # return mean error\n",
        "  return error / len(y_true)"
      ],
      "metadata": {
        "id": "hW4zzdp4rxa2"
      },
      "execution_count": 36,
      "outputs": []
    },
    {
      "cell_type": "code",
      "source": [
        ""
      ],
      "metadata": {
        "id": "rh1Rw5LzsUq4"
      },
      "execution_count": null,
      "outputs": []
    }
  ]
}