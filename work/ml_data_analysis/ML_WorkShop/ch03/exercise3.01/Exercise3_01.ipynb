{
  "nbformat": 4,
  "nbformat_minor": 0,
  "metadata": {
    "colab": {
      "name": "Exercise3_01.ipynb",
      "provenance": []
    },
    "kernelspec": {
      "name": "python3",
      "display_name": "Python 3"
    },
    "language_info": {
      "name": "python"
    }
  },
  "cells": [
    {
      "cell_type": "code",
      "execution_count": 1,
      "metadata": {
        "id": "OhyQxUlzPsVI"
      },
      "outputs": [],
      "source": [
        "from sklearn.datasets import load_wine\n",
        "import pandas as pd\n",
        "import numpy as np"
      ]
    },
    {
      "cell_type": "code",
      "source": [
        "data = load_wine()\n",
        "type(data)"
      ],
      "metadata": {
        "colab": {
          "base_uri": "https://localhost:8080/"
        },
        "id": "2to5f729P4hX",
        "outputId": "786e9ba7-e6ad-4c83-82c5-c5b7ab764852"
      },
      "execution_count": 2,
      "outputs": [
        {
          "output_type": "execute_result",
          "data": {
            "text/plain": [
              "sklearn.utils.Bunch"
            ]
          },
          "metadata": {},
          "execution_count": 2
        }
      ]
    },
    {
      "cell_type": "code",
      "source": [
        "X, y = pd.DataFrame(data.data), pd.DataFrame(data.target)\n",
        "\n",
        "X.shape, y.shape"
      ],
      "metadata": {
        "colab": {
          "base_uri": "https://localhost:8080/"
        },
        "id": "mRyoVJsoQFvG",
        "outputId": "1bf36bae-e023-4820-9573-46490495a203"
      },
      "execution_count": 3,
      "outputs": [
        {
          "output_type": "execute_result",
          "data": {
            "text/plain": [
              "((178, 13), (178, 1))"
            ]
          },
          "metadata": {},
          "execution_count": 3
        }
      ]
    },
    {
      "cell_type": "code",
      "source": [
        "from sklearn.model_selection import train_test_split\n",
        "\n",
        "X, X_test, y, y_test = train_test_split(\n",
        "    X,\n",
        "    y,\n",
        "    test_size=.2,\n",
        "    stratify=y,\n",
        ")\n",
        "\n",
        "X.shape, y.shape, X_test.shape, y_test.shape"
      ],
      "metadata": {
        "colab": {
          "base_uri": "https://localhost:8080/"
        },
        "id": "lUOaOZZtQc-F",
        "outputId": "effa7536-337b-441e-a66d-a29fb840cd5c"
      },
      "execution_count": 4,
      "outputs": [
        {
          "output_type": "execute_result",
          "data": {
            "text/plain": [
              "((142, 13), (142, 1), (36, 13), (36, 1))"
            ]
          },
          "metadata": {},
          "execution_count": 4
        }
      ]
    },
    {
      "cell_type": "code",
      "source": [
        "print(y.value_counts(normalize=True))\n",
        "print()\n",
        "print(y_test.value_counts(normalize=True))"
      ],
      "metadata": {
        "colab": {
          "base_uri": "https://localhost:8080/"
        },
        "id": "T414YPnJRU3A",
        "outputId": "180f14be-4bb2-4299-d073-5e9a6a352b66"
      },
      "execution_count": 5,
      "outputs": [
        {
          "output_type": "stream",
          "name": "stdout",
          "text": [
            "1    0.401408\n",
            "0    0.330986\n",
            "2    0.267606\n",
            "dtype: float64\n",
            "\n",
            "1    0.388889\n",
            "0    0.333333\n",
            "2    0.277778\n",
            "dtype: float64\n"
          ]
        }
      ]
    },
    {
      "cell_type": "code",
      "source": [
        "dev_size = X_test.shape[0] / X.shape[0]\n",
        "dev_size = round(dev_size, 2)"
      ],
      "metadata": {
        "id": "ADxuw5HxRgc7"
      },
      "execution_count": 6,
      "outputs": []
    },
    {
      "cell_type": "code",
      "source": [
        "X_train, X_dev, y_train, y_dev = train_test_split(\n",
        "    X,\n",
        "    y,\n",
        "    test_size=dev_size,\n",
        "    stratify=y,\n",
        ")\n",
        "\n",
        "X_train.shape, y_train.shape, X_dev.shape, y_dev.shape, X_test.shape, y_test.shape"
      ],
      "metadata": {
        "colab": {
          "base_uri": "https://localhost:8080/"
        },
        "id": "WRaSbYkMSTna",
        "outputId": "c61954bb-82ad-4c26-9325-029e0ce722c6"
      },
      "execution_count": 7,
      "outputs": [
        {
          "output_type": "execute_result",
          "data": {
            "text/plain": [
              "((106, 13), (106, 1), (36, 13), (36, 1), (36, 13), (36, 1))"
            ]
          },
          "metadata": {},
          "execution_count": 7
        }
      ]
    },
    {
      "cell_type": "markdown",
      "source": [
        "# Cross-Validation"
      ],
      "metadata": {
        "id": "rRMCIPnjfcZC"
      }
    },
    {
      "cell_type": "code",
      "source": [
        "X, y = pd.DataFrame(data.data), pd.DataFrame(data.target)\n",
        "\n",
        "X.shape, y.shape"
      ],
      "metadata": {
        "colab": {
          "base_uri": "https://localhost:8080/"
        },
        "id": "ch6w4h9ATDK9",
        "outputId": "5bcbf816-2934-453b-b349-fd724accaa4c"
      },
      "execution_count": 8,
      "outputs": [
        {
          "output_type": "execute_result",
          "data": {
            "text/plain": [
              "((178, 13), (178, 1))"
            ]
          },
          "metadata": {},
          "execution_count": 8
        }
      ]
    },
    {
      "cell_type": "code",
      "source": [
        "X, X_test, y, y_test = train_test_split(\n",
        "    X,\n",
        "    y,\n",
        "    test_size=.1,\n",
        "    stratify=y,\n",
        ")\n"
      ],
      "metadata": {
        "id": "VZxscbFZfhl2"
      },
      "execution_count": 9,
      "outputs": []
    },
    {
      "cell_type": "code",
      "source": [
        "from sklearn.model_selection import KFold\n",
        "\n",
        "kf = KFold(n_splits=10)"
      ],
      "metadata": {
        "id": "KmRCYP4FflGJ"
      },
      "execution_count": 10,
      "outputs": []
    },
    {
      "cell_type": "code",
      "source": [
        "splits = kf.split(X)"
      ],
      "metadata": {
        "id": "HsJjJjzIf5ys"
      },
      "execution_count": 11,
      "outputs": []
    },
    {
      "cell_type": "code",
      "source": [
        "for train_idx, test_idx in splits:\n",
        "  X_train, X_dev = X.iloc[train_idx, :], X.iloc[test_idx, :]\n",
        "  y_train, y_dev = y.iloc[train_idx, :], y.iloc[test_idx, :]\n",
        "\n"
      ],
      "metadata": {
        "id": "xjjyFan8go-h"
      },
      "execution_count": 12,
      "outputs": []
    },
    {
      "cell_type": "code",
      "source": [
        "X_train.shape, y_train.shape, X_dev.shape, y_dev.shape, X_test.shape, y_test.shape"
      ],
      "metadata": {
        "colab": {
          "base_uri": "https://localhost:8080/"
        },
        "id": "_HIE7QjSgqC6",
        "outputId": "6f3e8768-d2e7-4a73-8479-9421f3f4096b"
      },
      "execution_count": 13,
      "outputs": [
        {
          "output_type": "execute_result",
          "data": {
            "text/plain": [
              "((144, 13), (144, 1), (16, 13), (16, 1), (18, 13), (18, 1))"
            ]
          },
          "metadata": {},
          "execution_count": 13
        }
      ]
    },
    {
      "cell_type": "code",
      "source": [
        ""
      ],
      "metadata": {
        "id": "HJ8FmR_Xhl7U"
      },
      "execution_count": 13,
      "outputs": []
    }
  ]
}