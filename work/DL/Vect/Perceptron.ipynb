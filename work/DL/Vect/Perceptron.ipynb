{
  "nbformat": 4,
  "nbformat_minor": 0,
  "metadata": {
    "colab": {
      "name": "Perceptron.ipynb",
      "provenance": []
    },
    "kernelspec": {
      "name": "python3",
      "display_name": "Python 3"
    },
    "language_info": {
      "name": "python"
    }
  },
  "cells": [
    {
      "cell_type": "code",
      "execution_count": 1,
      "metadata": {
        "id": "cUM_Vuju3vON"
      },
      "outputs": [],
      "source": [
        "import numpy as np\n",
        "import matplotlib.pyplot as plt\n",
        "from sklearn.datasets import make_blobs\n",
        "\n",
        "plt.style.use('ggplot')"
      ]
    },
    {
      "cell_type": "code",
      "source": [
        "X, y = make_blobs(n_samples=100, n_features=2, centers=2, random_state=0)\n",
        "y = y.reshape(y.shape[0], 1)\n",
        "\n",
        "dims = X.shape, y.shape\n",
        "print(f'Dimensions of X and y: {dims}')"
      ],
      "metadata": {
        "colab": {
          "base_uri": "https://localhost:8080/"
        },
        "id": "hofDV1h34IFT",
        "outputId": "6d48ec5d-f31d-4081-bb4d-d407ce0b5290"
      },
      "execution_count": 2,
      "outputs": [
        {
          "output_type": "stream",
          "name": "stdout",
          "text": [
            "Dimensions of X and y: ((100, 2), (100, 1))\n"
          ]
        }
      ]
    },
    {
      "cell_type": "code",
      "source": [
        "plt.scatter(\n",
        "    X[:, 0],\n",
        "    X[:, 1],\n",
        "    c=y,\n",
        "    cmap='summer',\n",
        ")"
      ],
      "metadata": {
        "colab": {
          "base_uri": "https://localhost:8080/",
          "height": 283
        },
        "id": "_MFwo6Ny4yJf",
        "outputId": "8c60c67f-33b8-4f26-f4b3-d936ea2da226"
      },
      "execution_count": 3,
      "outputs": [
        {
          "output_type": "execute_result",
          "data": {
            "text/plain": [
              "<matplotlib.collections.PathCollection at 0x7f82c2356990>"
            ]
          },
          "metadata": {},
          "execution_count": 3
        },
        {
          "output_type": "display_data",
          "data": {
            "text/plain": [
              "<Figure size 432x288 with 1 Axes>"
            ],
            "image/png": "[encoded data removed]"
          },
          "metadata": {
            "needs_background": "light"
          }
        }
      ]
    },
    {
      "cell_type": "code",
      "source": [
        "# inistialization of Weights and bias\n",
        "def initialize(x):\n",
        "  W = np.random.randn(X.shape[1], 1)\n",
        "  b = np.random.randn(1)\n",
        "\n",
        "  return W, b"
      ],
      "metadata": {
        "id": "iC_tZKGe4_zZ"
      },
      "execution_count": 4,
      "outputs": []
    },
    {
      "cell_type": "code",
      "source": [
        "W, b = initialize(X)\n",
        "W.shape, b.shape"
      ],
      "metadata": {
        "colab": {
          "base_uri": "https://localhost:8080/"
        },
        "id": "sxgx2COS6MzG",
        "outputId": "936023cd-a7c1-41f2-b9d6-10e577b936a7"
      },
      "execution_count": 5,
      "outputs": [
        {
          "output_type": "execute_result",
          "data": {
            "text/plain": [
              "((2, 1), (1,))"
            ]
          },
          "metadata": {},
          "execution_count": 5
        }
      ]
    },
    {
      "cell_type": "code",
      "source": [
        "# model\n",
        "def model(X, W, b):\n",
        "  Z = X.dot(W) + b\n",
        "  A = 1 / (1 + np.exp(-Z))\n",
        "\n",
        "  return A\n"
      ],
      "metadata": {
        "id": "sFAiD3JX6U1r"
      },
      "execution_count": 6,
      "outputs": []
    },
    {
      "cell_type": "code",
      "source": [
        "A = model(X,W,b)\n",
        "A"
      ],
      "metadata": {
        "colab": {
          "base_uri": "https://localhost:8080/"
        },
        "id": "XS068y8v7mAr",
        "outputId": "b6ab409d-ba0e-431b-fea4-587c54531095"
      },
      "execution_count": 7,
      "outputs": [
        {
          "output_type": "execute_result",
          "data": {
            "text/plain": [
              "array([[0.44007135],\n",
              "       [0.72942518],\n",
              "       [0.79330858],\n",
              "       [0.77874181],\n",
              "       [0.532575  ],\n",
              "       [0.68116723],\n",
              "       [0.70872984],\n",
              "       [0.46108903],\n",
              "       [0.74048881],\n",
              "       [0.70493023],\n",
              "       [0.73624467],\n",
              "       [0.66942758],\n",
              "       [0.69227213],\n",
              "       [0.77408847],\n",
              "       [0.65733929],\n",
              "       [0.42207965],\n",
              "       [0.54390826],\n",
              "       [0.76007173],\n",
              "       [0.74140983],\n",
              "       [0.69809144],\n",
              "       [0.69849058],\n",
              "       [0.7339974 ],\n",
              "       [0.6922072 ],\n",
              "       [0.78769405],\n",
              "       [0.59391611],\n",
              "       [0.71776214],\n",
              "       [0.70095646],\n",
              "       [0.70456535],\n",
              "       [0.67609439],\n",
              "       [0.60753697],\n",
              "       [0.6104041 ],\n",
              "       [0.70547657],\n",
              "       [0.72469709],\n",
              "       [0.60868554],\n",
              "       [0.66702055],\n",
              "       [0.61713432],\n",
              "       [0.69252609],\n",
              "       [0.63730447],\n",
              "       [0.62464289],\n",
              "       [0.75063484],\n",
              "       [0.7870803 ],\n",
              "       [0.57963351],\n",
              "       [0.81610784],\n",
              "       [0.68307763],\n",
              "       [0.72338575],\n",
              "       [0.62159066],\n",
              "       [0.64593315],\n",
              "       [0.67238998],\n",
              "       [0.8156829 ],\n",
              "       [0.73669178],\n",
              "       [0.64892011],\n",
              "       [0.7374551 ],\n",
              "       [0.58184115],\n",
              "       [0.68166967],\n",
              "       [0.52553592],\n",
              "       [0.7005483 ],\n",
              "       [0.55994358],\n",
              "       [0.67539547],\n",
              "       [0.55663973],\n",
              "       [0.59073046],\n",
              "       [0.68723453],\n",
              "       [0.63645817],\n",
              "       [0.78146412],\n",
              "       [0.57844061],\n",
              "       [0.6955377 ],\n",
              "       [0.6717806 ],\n",
              "       [0.77360816],\n",
              "       [0.55981739],\n",
              "       [0.53915809],\n",
              "       [0.64588489],\n",
              "       [0.69066147],\n",
              "       [0.67485277],\n",
              "       [0.46847799],\n",
              "       [0.65377001],\n",
              "       [0.77329024],\n",
              "       [0.75754519],\n",
              "       [0.71746044],\n",
              "       [0.58150267],\n",
              "       [0.74936405],\n",
              "       [0.71214541],\n",
              "       [0.70026198],\n",
              "       [0.69950847],\n",
              "       [0.79383732],\n",
              "       [0.65116539],\n",
              "       [0.7517607 ],\n",
              "       [0.77235518],\n",
              "       [0.55622247],\n",
              "       [0.60721837],\n",
              "       [0.69473165],\n",
              "       [0.58938381],\n",
              "       [0.56789902],\n",
              "       [0.56634942],\n",
              "       [0.70692964],\n",
              "       [0.72245265],\n",
              "       [0.58982805],\n",
              "       [0.86050558],\n",
              "       [0.69812858],\n",
              "       [0.5550292 ],\n",
              "       [0.81648463],\n",
              "       [0.73079457]])"
            ]
          },
          "metadata": {},
          "execution_count": 7
        }
      ]
    },
    {
      "cell_type": "code",
      "source": [
        "A.shape"
      ],
      "metadata": {
        "colab": {
          "base_uri": "https://localhost:8080/"
        },
        "id": "1IN53nJd7qrS",
        "outputId": "a7aa4611-6dcd-405f-bb12-9b8557372ea0"
      },
      "execution_count": 8,
      "outputs": [
        {
          "output_type": "execute_result",
          "data": {
            "text/plain": [
              "(100, 1)"
            ]
          },
          "metadata": {},
          "execution_count": 8
        }
      ]
    },
    {
      "cell_type": "code",
      "source": [
        "#  cost function\n",
        "def log_loss(A, y):\n",
        "  return -1 * 1/len(y) * np.sum(y * np.log(A) - (1-y) * np.log(1-A))"
      ],
      "metadata": {
        "id": "o5kOVMdN75I9"
      },
      "execution_count": 9,
      "outputs": []
    },
    {
      "cell_type": "code",
      "source": [
        "log_loss(A,y)"
      ],
      "metadata": {
        "colab": {
          "base_uri": "https://localhost:8080/"
        },
        "id": "4uHspK9A8xNK",
        "outputId": "9208c942-d9a9-4a95-a3d2-cc34362bbfff"
      },
      "execution_count": 10,
      "outputs": [
        {
          "output_type": "execute_result",
          "data": {
            "text/plain": [
              "-0.40034844956347876"
            ]
          },
          "metadata": {},
          "execution_count": 10
        }
      ]
    },
    {
      "cell_type": "code",
      "source": [
        "# gradient descent\n",
        "def gradients(A, X, y):\n",
        "  dw = 1/len(y) * np.dot(X.T, A-y)\n",
        "  db = 1/len(y) * np.sum(A-y)\n",
        "  return dw, db"
      ],
      "metadata": {
        "id": "Jv2CiG8281Do"
      },
      "execution_count": 11,
      "outputs": []
    },
    {
      "cell_type": "code",
      "source": [
        "dw, db = gradients(A, X, y)\n",
        "\n",
        "dw.shape, db.shape"
      ],
      "metadata": {
        "colab": {
          "base_uri": "https://localhost:8080/"
        },
        "id": "GIFBe0M--LqJ",
        "outputId": "299e39cc-0af7-4bf4-fca0-d9612572556d"
      },
      "execution_count": 12,
      "outputs": [
        {
          "output_type": "execute_result",
          "data": {
            "text/plain": [
              "((2, 1), ())"
            ]
          },
          "metadata": {},
          "execution_count": 12
        }
      ]
    },
    {
      "cell_type": "code",
      "source": [
        "# update of errors minimization\n",
        "def update(dw, db, w, b, lr):\n",
        "  w = w - lr * dw\n",
        "  b = b - lr * db\n",
        "  return w, b"
      ],
      "metadata": {
        "id": "9FTbrTgk-Spb"
      },
      "execution_count": 13,
      "outputs": []
    },
    {
      "cell_type": "code",
      "source": [
        "# prediction\n",
        "def predict(x, w, b):\n",
        "  A = model(x, w, b)\n",
        "  return A >= .5"
      ],
      "metadata": {
        "id": "cbwsL2GeE1iD"
      },
      "execution_count": 14,
      "outputs": []
    },
    {
      "cell_type": "code",
      "source": [
        "from sklearn.metrics import accuracy_score"
      ],
      "metadata": {
        "id": "f0YLLyMTFNjz"
      },
      "execution_count": 15,
      "outputs": []
    },
    {
      "cell_type": "code",
      "source": [
        "# Preceptron\n",
        "def artificial_nn(X, y, lr=1.e-4, n_iter=300):\n",
        "  loss = []\n",
        "  # initialize W, b\n",
        "  W, b = initialize(X)\n",
        "\n",
        "  for i in range(n_iter):\n",
        "        A = model(X, W, b)\n",
        "        loss.append(log_loss(A, y))\n",
        "        dW, db = gradients(A, X, y)\n",
        "        W, b = update(dW, db, W, b, lr)\n",
        "  \n",
        "  y_pred = predict(X, W, b)\n",
        "  print(f'Acuuracy: {accuracy_score(y, y_pred)}')\n",
        "\n",
        "  plt.plot(loss)\n",
        "  plt.show()"
      ],
      "metadata": {
        "id": "wqQJkTmbAqm2"
      },
      "execution_count": 16,
      "outputs": []
    },
    {
      "cell_type": "code",
      "source": [
        "artificial_nn(X, y)"
      ],
      "metadata": {
        "colab": {
          "base_uri": "https://localhost:8080/",
          "height": 283
        },
        "id": "6L2EPSFgC8OK",
        "outputId": "5d8a68b3-ce56-43d5-a22e-4d902244fcac"
      },
      "execution_count": 17,
      "outputs": [
        {
          "output_type": "stream",
          "name": "stdout",
          "text": [
            "Acuuracy: 0.31\n"
          ]
        },
        {
          "output_type": "display_data",
          "data": {
            "text/plain": [
              "<Figure size 432x288 with 1 Axes>"
            ],
            "image/png": "[encoded data removed]"
          },
          "metadata": {
            "needs_background": "light"
          }
        }
      ]
    },
    {
      "cell_type": "code",
      "source": [
        "artificial_nn(X, y, n_iter=100)"
      ],
      "metadata": {
        "colab": {
          "base_uri": "https://localhost:8080/",
          "height": 283
        },
        "id": "DrbSlT09DBAO",
        "outputId": "b5bb41e4-239b-47ac-8325-468128348623"
      },
      "execution_count": 18,
      "outputs": [
        {
          "output_type": "stream",
          "name": "stdout",
          "text": [
            "Acuuracy: 0.2\n"
          ]
        },
        {
          "output_type": "display_data",
          "data": {
            "text/plain": [
              "<Figure size 432x288 with 1 Axes>"
            ],
            "image/png": "[encoded data removed]"
          },
          "metadata": {
            "needs_background": "light"
          }
        }
      ]
    },
    {
      "cell_type": "code",
      "source": [
        "artificial_nn(X, y, lr=0.1, n_iter=100)"
      ],
      "metadata": {
        "colab": {
          "base_uri": "https://localhost:8080/",
          "height": 283
        },
        "id": "kwpg1sA-DKNd",
        "outputId": "e207a19a-ca2d-437f-ddb4-ee9b4d18cdaf"
      },
      "execution_count": 19,
      "outputs": [
        {
          "output_type": "stream",
          "name": "stdout",
          "text": [
            "Acuuracy: 0.89\n"
          ]
        },
        {
          "output_type": "display_data",
          "data": {
            "text/plain": [
              "<Figure size 432x288 with 1 Axes>"
            ],
            "image/png": "[encoded data removed]"
          },
          "metadata": {
            "needs_background": "light"
          }
        }
      ]
    },
    {
      "cell_type": "code",
      "source": [
        "artificial_nn(X, y, lr=0.1, n_iter=300)"
      ],
      "metadata": {
        "colab": {
          "base_uri": "https://localhost:8080/",
          "height": 283
        },
        "id": "9z9a1OeODp9r",
        "outputId": "8a3acfa2-da31-46b1-ab7c-d0422a12b01f"
      },
      "execution_count": 20,
      "outputs": [
        {
          "output_type": "stream",
          "name": "stdout",
          "text": [
            "Acuuracy: 0.92\n"
          ]
        },
        {
          "output_type": "display_data",
          "data": {
            "text/plain": [
              "<Figure size 432x288 with 1 Axes>"
            ],
            "image/png": "[encoded data removed]"
          },
          "metadata": {
            "needs_background": "light"
          }
        }
      ]
    },
    {
      "cell_type": "code",
      "source": [
        ""
      ],
      "metadata": {
        "id": "42eHJv4eDumA"
      },
      "execution_count": 20,
      "outputs": []
    }
  ]
}