{
  "nbformat": 4,
  "nbformat_minor": 0,
  "metadata": {
    "colab": {
      "name": "3-Evaluation_Metrics.ipynb",
      "provenance": []
    },
    "kernelspec": {
      "name": "python3",
      "display_name": "Python 3"
    },
    "language_info": {
      "name": "python"
    }
  },
  "cells": [
    {
      "cell_type": "markdown",
      "source": [
        "# Accuracy"
      ],
      "metadata": {
        "id": "23w3tBjSnmKV"
      }
    },
    {
      "cell_type": "code",
      "execution_count": 1,
      "metadata": {
        "id": "Xm-rb6DjiwJM"
      },
      "outputs": [],
      "source": [
        "def accuracy(y_true, y_pred):\n",
        "  correct_counter = 0\n",
        "  for yt, yp in zip(y_true, y_pred):\n",
        "    if yt == yp:\n",
        "      correct_counter += 1\n",
        "  \n",
        "  return correct_counter / len(y_true)\n",
        "\n",
        "def true_positive(y_true, y_pred):\n",
        "  tp = 0\n",
        "  for yt, yp in zip(y_true, y_pred):\n",
        "    if yt == 1 and yp == 1:\n",
        "      tp += 1\n",
        "  \n",
        "  return tp\n",
        "\n",
        "def true_negative(y_true, y_pred):\n",
        "  tn = 0\n",
        "  for yt, yp in zip(y_true, y_pred):\n",
        "    if yt == 0 and yp == 0:\n",
        "      tn += 1\n",
        "  \n",
        "  return tn\n",
        "\n",
        "def false_positive(y_true, y_pred):\n",
        "  fp = 0\n",
        "  for yt, yp in zip(y_true, y_pred):\n",
        "    if yt == 0 and yp == 1:\n",
        "      fp += 1\n",
        "  \n",
        "  return fp\n",
        "\n",
        "def false_negative(y_true, y_pred):\n",
        "  fn = 0\n",
        "  for yt, yp in zip(y_true, y_pred):\n",
        "    if yt == 1 and yp == 0:\n",
        "      fn += 1\n",
        "  \n",
        "  return fn\n",
        "\n",
        "def accuracy_v2(y_true, y_pred):\n",
        " tp = true_positive(y_true, y_pred)\n",
        " fp = false_positive(y_true, y_pred)\n",
        " fn = false_negative(y_true, y_pred)\n",
        " tn = true_negative(y_true, y_pred)\n",
        " accuracy_score = (tp + tn) / (tp + tn + fp + fn)\n",
        " \n",
        " return accuracy_score\n"
      ]
    },
    {
      "cell_type": "markdown",
      "source": [
        "# Precision"
      ],
      "metadata": {
        "id": "TtoF3XhXnpsc"
      }
    },
    {
      "cell_type": "code",
      "source": [
        "def precision(y_true, y_pred):\n",
        " tp = true_positive(y_true, y_pred)\n",
        " fp = false_positive(y_true, y_pred)\n",
        " precision = tp / (tp + fp)\n",
        " \n",
        " return precision"
      ],
      "metadata": {
        "id": "el9WaYlEnsq3"
      },
      "execution_count": 2,
      "outputs": []
    },
    {
      "cell_type": "markdown",
      "source": [
        "# Recall"
      ],
      "metadata": {
        "id": "dXuE7U6u2XbA"
      }
    },
    {
      "cell_type": "code",
      "source": [
        "def recall(y_true, y_pred):\n",
        "  tp = true_positive(y_true, y_pred)\n",
        "  fn = false_negative(y_true, y_pred)\n",
        "  recall = tp / (tp + fn)\n",
        "  return recall"
      ],
      "metadata": {
        "id": "wNYVss3Q2Y4d"
      },
      "execution_count": 3,
      "outputs": []
    },
    {
      "cell_type": "markdown",
      "source": [
        "# Precision-Recall Curve"
      ],
      "metadata": {
        "id": "fLpZeRtaEvKC"
      }
    },
    {
      "cell_type": "code",
      "source": [
        "y_true = [0, 0, 0, 1, 0, 0, 0, 0, 0, 0, 1, 0, 0, 0, 0, 0, 0, 0, 1, 0]\n",
        "y_pred = [0.02638412, 0.11114267, 0.31620708,\n",
        "          0.0490937, 0.0191491, 0.17554844,\n",
        "          0.15952202, 0.03819563, 0.11639273,\n",
        "          0.079377, 0.08584789, 0.39095342,\n",
        "          0.27259048, 0.03447096, 0.04644807,\n",
        "          0.03543574, 0.18521942, 0.05934905,\n",
        "          0.61977213, 0.33056815]\n",
        "\n",
        "precisions = []\n",
        "recalls = []\n",
        "thresholds = [0.0490937 , 0.05934905, 0.079377, \n",
        "             0.08584789, 0.11114267, 0.11639273,\n",
        "             0.15952202, 0.17554844, 0.18521942,\n",
        "             0.27259048, 0.31620708, 0.33056815,\n",
        "             0.39095342, 0.61977213]\n",
        "\n",
        "for i in thresholds:\n",
        "  temp_prediction = [1 if x >= i else 0 for x in y_pred]\n",
        "  p = precision(y_true, temp_prediction)\n",
        "  r = recall(y_true, temp_prediction)\n",
        "  precisions.append(p)\n",
        "  recalls.append(r)"
      ],
      "metadata": {
        "id": "rWzYOKFPEyaM"
      },
      "execution_count": 4,
      "outputs": []
    },
    {
      "cell_type": "code",
      "source": [
        ""
      ],
      "metadata": {
        "id": "rw5GgTR_G_rC"
      },
      "execution_count": null,
      "outputs": []
    }
  ]
}