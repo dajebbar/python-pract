{
  "nbformat": 4,
  "nbformat_minor": 0,
  "metadata": {
    "colab": {
      "name": "Exercise3_01.ipynb",
      "provenance": []
    },
    "kernelspec": {
      "name": "python3",
      "display_name": "Python 3"
    },
    "language_info": {
      "name": "python"
    }
  },
  "cells": [
    {
      "cell_type": "code",
      "execution_count": 1,
      "metadata": {
        "id": "OhyQxUlzPsVI"
      },
      "outputs": [],
      "source": [
        "from sklearn.datasets import load_wine\n",
        "import pandas as pd\n",
        "import numpy as np"
      ]
    },
    {
      "cell_type": "code",
      "source": [
        "data = load_wine()\n",
        "type(data)"
      ],
      "metadata": {
        "colab": {
          "base_uri": "https://localhost:8080/"
        },
        "id": "2to5f729P4hX",
        "outputId": "99a060d1-026f-43ad-a7a4-27e0cfcd7c06"
      },
      "execution_count": 2,
      "outputs": [
        {
          "output_type": "execute_result",
          "data": {
            "text/plain": [
              "sklearn.utils.Bunch"
            ]
          },
          "metadata": {},
          "execution_count": 2
        }
      ]
    },
    {
      "cell_type": "code",
      "source": [
        "X, y = pd.DataFrame(data.data), pd.DataFrame(data.target)\n",
        "\n",
        "X.shape, y.shape"
      ],
      "metadata": {
        "colab": {
          "base_uri": "https://localhost:8080/"
        },
        "id": "mRyoVJsoQFvG",
        "outputId": "6f371706-ee94-4090-9302-9fa92c3421dc"
      },
      "execution_count": 3,
      "outputs": [
        {
          "output_type": "execute_result",
          "data": {
            "text/plain": [
              "((178, 13), (178, 1))"
            ]
          },
          "metadata": {},
          "execution_count": 3
        }
      ]
    },
    {
      "cell_type": "code",
      "source": [
        "from sklearn.model_selection import train_test_split\n",
        "\n",
        "X, X_test, y, y_test = train_test_split(\n",
        "    X,\n",
        "    y,\n",
        "    test_size=.2,\n",
        "    stratify=y,\n",
        ")\n",
        "\n",
        "X.shape, y.shape, X_test.shape, y_test.shape"
      ],
      "metadata": {
        "colab": {
          "base_uri": "https://localhost:8080/"
        },
        "id": "lUOaOZZtQc-F",
        "outputId": "511f2e38-bf12-4f82-c097-a5b69d1abe9f"
      },
      "execution_count": 4,
      "outputs": [
        {
          "output_type": "execute_result",
          "data": {
            "text/plain": [
              "((142, 13), (142, 1), (36, 13), (36, 1))"
            ]
          },
          "metadata": {},
          "execution_count": 4
        }
      ]
    },
    {
      "cell_type": "code",
      "source": [
        "print(y.value_counts(normalize=True))\n",
        "print()\n",
        "print(y_test.value_counts(normalize=True))"
      ],
      "metadata": {
        "colab": {
          "base_uri": "https://localhost:8080/"
        },
        "id": "T414YPnJRU3A",
        "outputId": "41b81e1b-37ac-4bc1-e216-c8656890938e"
      },
      "execution_count": 5,
      "outputs": [
        {
          "output_type": "stream",
          "name": "stdout",
          "text": [
            "1    0.401408\n",
            "0    0.330986\n",
            "2    0.267606\n",
            "dtype: float64\n",
            "\n",
            "1    0.388889\n",
            "0    0.333333\n",
            "2    0.277778\n",
            "dtype: float64\n"
          ]
        }
      ]
    },
    {
      "cell_type": "code",
      "source": [
        "dev_size = X_test.shape[0] / X.shape[0]\n",
        "dev_size = round(dev_size, 2)"
      ],
      "metadata": {
        "colab": {
          "base_uri": "https://localhost:8080/"
        },
        "id": "ADxuw5HxRgc7",
        "outputId": "de522974-04ca-450f-ad7b-f83e61939ad4"
      },
      "execution_count": 8,
      "outputs": [
        {
          "output_type": "execute_result",
          "data": {
            "text/plain": [
              "0.25"
            ]
          },
          "metadata": {},
          "execution_count": 8
        }
      ]
    },
    {
      "cell_type": "code",
      "source": [
        "X_train, X_dev, y_train, y_dev = train_test_split(\n",
        "    X,\n",
        "    y,\n",
        "    test_size=dev_size,\n",
        "    stratify=y,\n",
        ")\n",
        "\n",
        "X_train.shape, y_train.shape, X_dev.shape, y_dev.shape, X_test.shape, y_test.shape"
      ],
      "metadata": {
        "colab": {
          "base_uri": "https://localhost:8080/"
        },
        "id": "WRaSbYkMSTna",
        "outputId": "be205a3a-eaa2-406c-b428-96ed81857101"
      },
      "execution_count": 10,
      "outputs": [
        {
          "output_type": "execute_result",
          "data": {
            "text/plain": [
              "((106, 13), (106, 1), (36, 13), (36, 1), (36, 13), (36, 1))"
            ]
          },
          "metadata": {},
          "execution_count": 10
        }
      ]
    },
    {
      "cell_type": "markdown",
      "source": [
        "# Cross-Validation"
      ],
      "metadata": {
        "id": "rRMCIPnjfcZC"
      }
    },
    {
      "cell_type": "code",
      "source": [
        "X, y = pd.DataFrame(data.data), pd.DataFrame(data.target)\n",
        "\n",
        "X.shape, y.shape"
      ],
      "metadata": {
        "colab": {
          "base_uri": "https://localhost:8080/"
        },
        "id": "ch6w4h9ATDK9",
        "outputId": "ecd10e41-d79c-4b27-d1cd-b3d3b026d573"
      },
      "execution_count": 11,
      "outputs": [
        {
          "output_type": "execute_result",
          "data": {
            "text/plain": [
              "((178, 13), (178, 1))"
            ]
          },
          "metadata": {},
          "execution_count": 11
        }
      ]
    },
    {
      "cell_type": "code",
      "source": [
        "X, X_test, y, y_test = train_test_split(\n",
        "    X,\n",
        "    y,\n",
        "    test_size=.1,\n",
        "    stratify=y,\n",
        ")\n"
      ],
      "metadata": {
        "id": "VZxscbFZfhl2"
      },
      "execution_count": 12,
      "outputs": []
    },
    {
      "cell_type": "code",
      "source": [
        "from sklearn.model_selection import KFold\n",
        "\n",
        "kf = KFold(n_splits=10)"
      ],
      "metadata": {
        "id": "KmRCYP4FflGJ"
      },
      "execution_count": 13,
      "outputs": []
    },
    {
      "cell_type": "code",
      "source": [
        ""
      ],
      "metadata": {
        "id": "HsJjJjzIf5ys"
      },
      "execution_count": null,
      "outputs": []
    }
  ]
}