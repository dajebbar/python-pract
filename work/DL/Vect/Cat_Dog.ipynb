{
  "nbformat": 4,
  "nbformat_minor": 0,
  "metadata": {
    "colab": {
      "name": "Cat_Dog.ipynb",
      "provenance": []
    },
    "kernelspec": {
      "name": "python3",
      "display_name": "Python 3"
    },
    "language_info": {
      "name": "python"
    }
  },
  "cells": [
    {
      "cell_type": "code",
      "source": [
        "import numpy as np"
      ],
      "metadata": {
        "id": "d30oxKID0u5o"
      },
      "execution_count": 1,
      "outputs": []
    },
    {
      "cell_type": "code",
      "execution_count": 2,
      "metadata": {
        "id": "rblims_Jz29F"
      },
      "outputs": [],
      "source": [
        "# initialization\n",
        "def initialize(x):\n",
        "  W = np.random.randn(x.shape[1], 1)\n",
        "  b = np.random.randn(1)\n",
        "\n",
        "  return W, b"
      ]
    },
    {
      "cell_type": "code",
      "source": [
        "# model\n",
        "def model(x, W, b):\n",
        "  Z = x.dot(W) + b\n",
        "  A = 1 / (1 + np.exp(-Z))\n",
        "\n",
        "  return A"
      ],
      "metadata": {
        "id": "jqWsccRE01Ty"
      },
      "execution_count": 3,
      "outputs": []
    },
    {
      "cell_type": "code",
      "source": [
        "# cost function\n",
        "def log_loss(A, y):\n",
        "  return -1 * 1 / len(y) * np.sum((y * np.log(A)) - ((1 - y) * np.log(1 - A)))"
      ],
      "metadata": {
        "id": "lx2J1i2v1S2u"
      },
      "execution_count": 4,
      "outputs": []
    },
    {
      "cell_type": "code",
      "source": [
        "# gradient descent\n",
        "def gradients(A, x, y):\n",
        "  dw = 1 / len(y) * x.T * (A - y)\n",
        "  db = 1 / len(y) * (A - y)\n",
        "\n",
        "  return dw, db"
      ],
      "metadata": {
        "id": "QQCqtbtx14mn"
      },
      "execution_count": 5,
      "outputs": []
    },
    {
      "cell_type": "code",
      "source": [
        ""
      ],
      "metadata": {
        "id": "0RUajnqb2Xxq"
      },
      "execution_count": null,
      "outputs": []
    }
  ]
}