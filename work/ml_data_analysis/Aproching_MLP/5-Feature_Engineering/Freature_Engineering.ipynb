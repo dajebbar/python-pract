{
  "nbformat": 4,
  "nbformat_minor": 0,
  "metadata": {
    "colab": {
      "name": "Freature_Engineering.ipynb",
      "provenance": []
    },
    "kernelspec": {
      "name": "python3",
      "display_name": "Python 3"
    },
    "language_info": {
      "name": "python"
    }
  },
  "cells": [
    {
      "cell_type": "markdown",
      "source": [
        "# Date and time data\n",
        "\n",
        "\n",
        "\n",
        "```\n",
        "df.loc[:, 'year'] = df['datetime_column'].dt.year\n",
        "df.loc[:, 'weekofyear'] = df['datetime_column'].dt.weekofyear\n",
        "df.loc[:, 'month'] = df['datetime_column'].dt.month\n",
        "df.loc[:, 'dayofweek'] = df['datetime_column'].dt.dayofweek\n",
        "df.loc[:, 'weekend'] = (df.datetime_column.dt.weekday >= 5).astype(int)\n",
        "df.loc[:, 'hour'] = df['datetime_column'].dt.hour\n",
        "```\n",
        "\n"
      ],
      "metadata": {
        "id": "uTktxLLjQVcE"
      }
    },
    {
      "cell_type": "code",
      "execution_count": 5,
      "metadata": {
        "id": "EPKy5Uv8QMHZ"
      },
      "outputs": [],
      "source": [
        "import pandas as pd\n",
        "\n",
        "# create a series of datetime with a frequency of 10 hours\n",
        "s = pd.date_range('2022-04-15', '2022-04-25', freq='10H').to_series()\n",
        "\n",
        "# create some features based on datetime\n",
        "features = {\n",
        "    'dayofweek': s.dt.dayofweek.values,\n",
        "    'dayofyear': s.dt.dayofyear.values,\n",
        "    'hour': s.dt.hour.values,\n",
        "    'is_leap_year': s.dt.is_leap_year.values,\n",
        "    'quarter': s.dt.quarter.values,\n",
        "    'weekofyear': s.dt.isocalendar().week.values,\n",
        "}"
      ]
    },
    {
      "cell_type": "code",
      "source": [
        ""
      ],
      "metadata": {
        "id": "a7tw2RRoUCGf"
      },
      "execution_count": null,
      "outputs": []
    }
  ]
}