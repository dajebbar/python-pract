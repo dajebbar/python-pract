{
  "nbformat": 4,
  "nbformat_minor": 0,
  "metadata": {
    "colab": {
      "name": "ANN_2_Layers.ipynb",
      "provenance": []
    },
    "kernelspec": {
      "name": "python3",
      "display_name": "Python 3"
    },
    "language_info": {
      "name": "python"
    }
  },
  "cells": [
    {
      "cell_type": "code",
      "execution_count": 8,
      "metadata": {
        "id": "IvNs0R46prg-"
      },
      "outputs": [],
      "source": [
        "import numpy as np\n",
        "import matplotlib.pyplot as plt\n",
        "from sklearn.datasets import make_blobs, make_circles\n",
        "from sklearn.metrics import accuracy_score, log_loss\n",
        "from tqdm import tqdm\n",
        "\n",
        "plt.style.use('fivethirtyeight')"
      ]
    },
    {
      "cell_type": "markdown",
      "source": [
        "# Functions"
      ],
      "metadata": {
        "id": "xucrFLK6qgJ2"
      }
    },
    {
      "cell_type": "code",
      "source": [
        "def initialisation(n0, n1, n2):\n",
        "\n",
        "    W1 = np.random.randn(n1, n0)\n",
        "    b1 = np.zeros((n1, 1))\n",
        "    W2 = np.random.randn(n2, n1)\n",
        "    b2 = np.zeros((n2, 1))\n",
        "\n",
        "    parametres = {\n",
        "        'W1': W1,\n",
        "        'b1': b1,\n",
        "        'W2': W2,\n",
        "        'b2': b2\n",
        "    }\n",
        "\n",
        "    return parametres"
      ],
      "metadata": {
        "id": "AV4E8E0Hp3fz"
      },
      "execution_count": 2,
      "outputs": []
    },
    {
      "cell_type": "code",
      "source": [
        "def forward_propagation(X, parametres):\n",
        "\n",
        "    W1 = parametres['W1']\n",
        "    b1 = parametres['b1']\n",
        "    W2 = parametres['W2']\n",
        "    b2 = parametres['b2']\n",
        "\n",
        "    Z1 = W1.dot(X) + b1\n",
        "    A1 = 1 / (1 + np.exp(-Z1))\n",
        "\n",
        "    Z2 = W2.dot(A1) + b2\n",
        "    A2 = 1 / (1 + np.exp(-Z2))\n",
        "\n",
        "    activations = {\n",
        "        'A1': A1,\n",
        "        'A2': A2\n",
        "    }\n",
        "\n",
        "    return activations"
      ],
      "metadata": {
        "id": "wvx85e50qnp2"
      },
      "execution_count": 3,
      "outputs": []
    },
    {
      "cell_type": "code",
      "source": [
        "def back_propagation(X, y, parametres, activations):\n",
        "\n",
        "    A1 = activations['A1']\n",
        "    A2 = activations['A2']\n",
        "    W2 = parametres['W2']\n",
        "\n",
        "    m = y.shape[1]\n",
        "\n",
        "    dZ2 = A2 - y\n",
        "    dW2 = 1 / m * dZ2.dot(A1.T)\n",
        "    db2 = 1 / m * np.sum(dZ2, axis=1, keepdims = True)\n",
        "\n",
        "    dZ1 = np.dot(W2.T, dZ2) * A1 * (1 - A1)\n",
        "    dW1 = 1 / m * dZ1.dot(X.T)\n",
        "    db1 = 1 / m * np.sum(dZ1, axis=1, keepdims = True)\n",
        "\n",
        "    gradients = {\n",
        "        'dW1' : dW1,\n",
        "        'db1' : db1,\n",
        "        'dW2' : dW2,\n",
        "        'db2' : db2\n",
        "    }\n",
        "    \n",
        "    return gradients"
      ],
      "metadata": {
        "id": "Z8pY3Y4Rqqf4"
      },
      "execution_count": 4,
      "outputs": []
    },
    {
      "cell_type": "code",
      "source": [
        "def update(gradients, parametres, learning_rate):\n",
        "\n",
        "    W1 = parametres['W1']\n",
        "    b1 = parametres['b1']\n",
        "    W2 = parametres['W2']\n",
        "    b2 = parametres['b2']\n",
        "\n",
        "    dW1 = gradients['dW1']\n",
        "    db1 = gradients['db1']\n",
        "    dW2 = gradients['dW2']\n",
        "    db2 = gradients['db2']\n",
        "\n",
        "    W1 = W1 - learning_rate * dW1\n",
        "    b1 = b1 - learning_rate * db1\n",
        "    W2 = W2 - learning_rate * dW2\n",
        "    b2 = b2 - learning_rate * db2\n",
        "\n",
        "    parametres = {\n",
        "        'W1': W1,\n",
        "        'b1': b1,\n",
        "        'W2': W2,\n",
        "        'b2': b2\n",
        "    }\n",
        "\n",
        "    return parametres"
      ],
      "metadata": {
        "id": "RmtKGFLnqzYA"
      },
      "execution_count": 5,
      "outputs": []
    },
    {
      "cell_type": "code",
      "source": [
        "def predict(X, parametres):\n",
        "  activations = forward_propagation(X, parametres)\n",
        "  A2 = activations['A2']\n",
        "  return A2 >= 0.5"
      ],
      "metadata": {
        "id": "aFtIVMLuq2Zl"
      },
      "execution_count": 6,
      "outputs": []
    },
    {
      "cell_type": "code",
      "source": [
        ""
      ],
      "metadata": {
        "id": "abvboCuXq_tW"
      },
      "execution_count": null,
      "outputs": []
    }
  ]
}