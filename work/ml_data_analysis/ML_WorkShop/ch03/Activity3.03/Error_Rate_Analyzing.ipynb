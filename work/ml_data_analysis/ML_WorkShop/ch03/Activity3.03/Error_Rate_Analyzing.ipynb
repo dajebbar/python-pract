{
  "nbformat": 4,
  "nbformat_minor": 0,
  "metadata": {
    "colab": {
      "name": "Error_Rate_Analyzing.ipynb",
      "provenance": []
    },
    "kernelspec": {
      "name": "python3",
      "display_name": "Python 3"
    },
    "language_info": {
      "name": "python"
    }
  },
  "cells": [
    {
      "cell_type": "code",
      "execution_count": null,
      "metadata": {
        "id": "XrJIBh02HsRD"
      },
      "outputs": [],
      "source": [
        "import pandas as pd\n",
        "import numpy as np\n",
        "from sklearn.datasets import load_digits"
      ]
    },
    {
      "cell_type": "code",
      "source": [
        "data = load_digits()\n",
        "\n",
        "X, y = pd.DataFrame(data.data), pd.DataFrame(data.target)\n",
        "X.shape, y.shape"
      ],
      "metadata": {
        "colab": {
          "base_uri": "https://localhost:8080/"
        },
        "id": "5aziozI4H3uQ",
        "outputId": "986679b9-f43d-4e4b-e561-24ccd77320ee"
      },
      "execution_count": null,
      "outputs": [
        {
          "output_type": "execute_result",
          "data": {
            "text/plain": [
              "((1797, 64), (1797, 1))"
            ]
          },
          "metadata": {},
          "execution_count": 2
        }
      ]
    },
    {
      "cell_type": "code",
      "source": [
        "from sklearn.model_selection import train_test_split\n",
        "\n",
        "X_train, X_test, y_train, y_test = train_test_split(\n",
        "    X, y, test_size=.1, random_state=7, stratify=y,\n",
        ")\n",
        "\n",
        "X_train.shape, y_train.shape, X_test.shape, y_test.shape"
      ],
      "metadata": {
        "colab": {
          "base_uri": "https://localhost:8080/"
        },
        "id": "Z5SupQBuH7VS",
        "outputId": "c2be6925-996f-4f4c-b3d7-63ac1d2a273f"
      },
      "execution_count": null,
      "outputs": [
        {
          "output_type": "execute_result",
          "data": {
            "text/plain": [
              "((1617, 64), (1617, 1), (180, 64), (180, 1))"
            ]
          },
          "metadata": {},
          "execution_count": 3
        }
      ]
    },
    {
      "cell_type": "code",
      "source": [
        "from sklearn.tree import DecisionTreeClassifier\n",
        "\n",
        "clf = DecisionTreeClassifier(random_state=7)\n",
        "clf.fit(X_train, y_train)"
      ],
      "metadata": {
        "colab": {
          "base_uri": "https://localhost:8080/"
        },
        "id": "PyOrjeQeIxPY",
        "outputId": "f640b751-7eac-4ffd-95ff-8ad961f71144"
      },
      "execution_count": null,
      "outputs": [
        {
          "output_type": "execute_result",
          "data": {
            "text/plain": [
              "DecisionTreeClassifier(random_state=7)"
            ]
          },
          "metadata": {},
          "execution_count": 4
        }
      ]
    },
    {
      "cell_type": "code",
      "source": [
        "y_pred = clf.predict(X_test)"
      ],
      "metadata": {
        "id": "gn9EWel3JDMQ"
      },
      "execution_count": null,
      "outputs": []
    },
    {
      "cell_type": "code",
      "source": [
        "from sklearn.metrics import (\n",
        "    confusion_matrix,\n",
        "    accuracy_score,\n",
        "    precision_score,\n",
        "    recall_score\n",
        ")\n",
        "\n",
        "from yellowbrick.classifier import ConfusionMatrix\n",
        "\n",
        "classes = list(range(0, 10))\n",
        "cm = ConfusionMatrix(clf, classes=classes)\n",
        "cm.fit(X_train, y_train)\n",
        "cm.score(X_test, y_test)\n",
        "cm.show()"
      ],
      "metadata": {
        "colab": {
          "base_uri": "https://localhost:8080/",
          "height": 419
        },
        "id": "xtUv8SuOJIOB",
        "outputId": "440f78ee-2941-401c-dc5a-1873224b8ceb"
      },
      "execution_count": null,
      "outputs": [
        {
          "output_type": "display_data",
          "data": {
            "text/plain": [
              "<Figure size 576x396 with 1 Axes>"
            ],
            "image/png": "[encoded data removed]"
          },
          "metadata": {}
        },
        {
          "output_type": "execute_result",
          "data": {
            "text/plain": [
              "<matplotlib.axes._subplots.AxesSubplot at 0x7f95e4e5eed0>"
            ]
          },
          "metadata": {},
          "execution_count": 6
        }
      ]
    },
    {
      "cell_type": "code",
      "source": [
        "confusion_matrix(y_test, y_pred)"
      ],
      "metadata": {
        "colab": {
          "base_uri": "https://localhost:8080/"
        },
        "id": "rJsEnuM4JZ9n",
        "outputId": "3ef1b6f2-ddd2-4074-cd15-f03d63d7cd2f"
      },
      "execution_count": null,
      "outputs": [
        {
          "output_type": "execute_result",
          "data": {
            "text/plain": [
              "array([[17,  0,  0,  0,  1,  0,  0,  0,  0,  0],\n",
              "       [ 0, 14,  1,  0,  1,  0,  0,  0,  0,  2],\n",
              "       [ 0,  0, 18,  0,  0,  0,  0,  0,  0,  0],\n",
              "       [ 0,  0,  0, 15,  0,  0,  0,  0,  1,  2],\n",
              "       [ 0,  1,  0,  0, 15,  0,  0,  0,  1,  1],\n",
              "       [ 0,  0,  0,  2,  0, 16,  0,  0,  0,  0],\n",
              "       [ 0,  0,  0,  0,  0,  0, 18,  0,  0,  0],\n",
              "       [ 0,  0,  0,  0,  0,  0,  0, 18,  0,  0],\n",
              "       [ 0,  0,  1,  1,  0,  1,  0,  0, 15,  0],\n",
              "       [ 0,  0,  0,  1,  0,  0,  0,  0,  2, 15]])"
            ]
          },
          "metadata": {},
          "execution_count": 7
        }
      ]
    },
    {
      "cell_type": "code",
      "source": [
        "# classification repport\n",
        "from sklearn.metrics import classification_report\n",
        "\n",
        "matrix = classification_report(y_test, y_pred)\n",
        "print(f'Classification report: \\n {matrix}')\n"
      ],
      "metadata": {
        "colab": {
          "base_uri": "https://localhost:8080/"
        },
        "id": "yMZFuNrEJhmP",
        "outputId": "b386de86-a65c-49e5-d1f0-452512808fe5"
      },
      "execution_count": null,
      "outputs": [
        {
          "output_type": "stream",
          "name": "stdout",
          "text": [
            "Classification report: \n",
            "               precision    recall  f1-score   support\n",
            "\n",
            "           0       1.00      0.94      0.97        18\n",
            "           1       0.93      0.78      0.85        18\n",
            "           2       0.90      1.00      0.95        18\n",
            "           3       0.79      0.83      0.81        18\n",
            "           4       0.88      0.83      0.86        18\n",
            "           5       0.94      0.89      0.91        18\n",
            "           6       1.00      1.00      1.00        18\n",
            "           7       1.00      1.00      1.00        18\n",
            "           8       0.79      0.83      0.81        18\n",
            "           9       0.75      0.83      0.79        18\n",
            "\n",
            "    accuracy                           0.89       180\n",
            "   macro avg       0.90      0.89      0.89       180\n",
            "weighted avg       0.90      0.89      0.89       180\n",
            "\n"
          ]
        }
      ]
    },
    {
      "cell_type": "code",
      "source": [
        "accuracy = accuracy_score(y_test, y_pred)\n",
        "print(f'Accuracy: {accuracy}')\n",
        "\n",
        "precision = precision_score(y_test, y_pred, average=\"micro\")\n",
        "print(f'Precision: {precision}')\n",
        "\n",
        "recall = recall_score(y_test, y_pred, average=\"micro\")\n",
        "print(f'Recall: {recall}')"
      ],
      "metadata": {
        "colab": {
          "base_uri": "https://localhost:8080/"
        },
        "id": "YUBSMe5bKGXJ",
        "outputId": "8813fa11-59c6-4f6c-8f3a-e2af823df5ed"
      },
      "execution_count": null,
      "outputs": [
        {
          "output_type": "stream",
          "name": "stdout",
          "text": [
            "Accuracy: 0.8944444444444445\n",
            "Precision: 0.8944444444444445\n",
            "Recall: 0.8944444444444445\n"
          ]
        }
      ]
    },
    {
      "cell_type": "code",
      "source": [
        "precision = precision_score(y_test, y_pred, average=\"macro\")\n",
        "print(f'Precision: {precision}')\n",
        "\n",
        "recall = recall_score(y_test, y_pred, average=\"macro\")\n",
        "print(f'Recall: {recall}')"
      ],
      "metadata": {
        "colab": {
          "base_uri": "https://localhost:8080/"
        },
        "id": "enom8WcCKZGb",
        "outputId": "2c51edbb-47e5-44ec-9c4e-f470717a181e"
      },
      "execution_count": null,
      "outputs": [
        {
          "output_type": "stream",
          "name": "stdout",
          "text": [
            "Precision: 0.8985810113519092\n",
            "Recall: 0.8944444444444446\n"
          ]
        }
      ]
    },
    {
      "cell_type": "markdown",
      "source": [
        "# Error Rate"
      ],
      "metadata": {
        "id": "Fumtinods0tV"
      }
    },
    {
      "cell_type": "code",
      "source": [
        "import pandas as pd\n",
        "import numpy as np\n",
        "from sklearn.datasets import load_digits"
      ],
      "metadata": {
        "id": "gkA1dPui75fs"
      },
      "execution_count": 1,
      "outputs": []
    },
    {
      "cell_type": "code",
      "source": [
        "data = load_digits()\n",
        "\n",
        "X, y = pd.DataFrame(data.data), pd.DataFrame(data.target)\n",
        "X.shape, y.shape"
      ],
      "metadata": {
        "id": "lUUmMR0UKt5o",
        "colab": {
          "base_uri": "https://localhost:8080/"
        },
        "outputId": "adce5e01-bfbe-4a25-8d2f-534111f1a9e2"
      },
      "execution_count": 25,
      "outputs": [
        {
          "output_type": "execute_result",
          "data": {
            "text/plain": [
              "((1797, 64), (1797, 1))"
            ]
          },
          "metadata": {},
          "execution_count": 25
        }
      ]
    },
    {
      "cell_type": "code",
      "source": [
        "from sklearn.model_selection import train_test_split\n",
        "\n",
        "\n",
        "X_orig, X_test, y_orig, y_test = train_test_split(\n",
        "    X, y, test_size=.1, stratify=y, random_state=42,\n",
        ")\n",
        "\n",
        "X_train, X_dev, y_train, y_dev = train_test_split(\n",
        "    X_orig, y_orig, \n",
        "    test_size=X_test.shape[0]/X_orig.shape[0], \n",
        "    # stratify=y, \n",
        "    random_state=42,\n",
        ")\n",
        "\n",
        "(\n",
        "    X_train.shape, y_train.shape, \n",
        "    X_dev.shape, y_dev.shape, \n",
        "    X_test.shape, y_test.shape\n",
        " )"
      ],
      "metadata": {
        "colab": {
          "base_uri": "https://localhost:8080/"
        },
        "id": "8iLeBChv0Fg7",
        "outputId": "1437240a-70b7-4994-88d4-932284a65536"
      },
      "execution_count": 26,
      "outputs": [
        {
          "output_type": "execute_result",
          "data": {
            "text/plain": [
              "((1437, 64), (1437, 1), (180, 64), (180, 1), (180, 64), (180, 1))"
            ]
          },
          "metadata": {},
          "execution_count": 26
        }
      ]
    },
    {
      "cell_type": "code",
      "source": [
        "np.random.seed(42)\n",
        "\n",
        "train_indicies = np.random.randint(0, len(X_train), 90)\n",
        "dev_indicies = np.random.randint(0, len(X_dev), 90)\n",
        "\n",
        "X_train_dev = pd.concat(\n",
        "    [X_train.iloc[train_indicies, :], X_dev.iloc[dev_indicies, :]]\n",
        ")\n",
        "y_train_dev = pd.concat(\n",
        "    [y_train.iloc[train_indicies, :], y_dev.iloc[dev_indicies, :]]\n",
        ")\n",
        "\n",
        "X_train_dev.shape, y_train_dev.shape"
      ],
      "metadata": {
        "colab": {
          "base_uri": "https://localhost:8080/"
        },
        "id": "wID-XMhx2fOk",
        "outputId": "108522ce-f370-4e25-9af0-c00a6c3b0ffd"
      },
      "execution_count": 27,
      "outputs": [
        {
          "output_type": "execute_result",
          "data": {
            "text/plain": [
              "((180, 64), (180, 1))"
            ]
          },
          "metadata": {},
          "execution_count": 27
        }
      ]
    },
    {
      "cell_type": "code",
      "source": [
        "from sklearn.tree import DecisionTreeClassifier\n",
        "from sklearn.metrics import recall_score\n",
        "\n",
        "\n",
        "clf = DecisionTreeClassifier(random_state=7)\n",
        "clf.fit(X_train, y_train)"
      ],
      "metadata": {
        "colab": {
          "base_uri": "https://localhost:8080/"
        },
        "id": "RiO_7c4N4CIZ",
        "outputId": "b4cf46ca-4918-4880-f391-d099915ab0b7"
      },
      "execution_count": 28,
      "outputs": [
        {
          "output_type": "execute_result",
          "data": {
            "text/plain": [
              "DecisionTreeClassifier(random_state=7)"
            ]
          },
          "metadata": {},
          "execution_count": 28
        }
      ]
    },
    {
      "cell_type": "code",
      "source": [
        "sets = ['Training', 'Train/Dev', 'Validation', 'Testing']\n",
        "X_sets = [X_train, X_train_dev, X_dev, X_test]\n",
        "y_sets = [y_train, y_train_dev, y_dev, y_test]\n",
        "\n",
        "scores = {}\n",
        "\n",
        "for i in range(len(X_sets)):\n",
        "  pred = clf.predict(X_sets[i])\n",
        "  score = recall_score(y_sets[i], pred, average='micro')\n",
        "  scores[sets[i]] = score\n",
        "\n",
        "print(scores)\n"
      ],
      "metadata": {
        "colab": {
          "base_uri": "https://localhost:8080/"
        },
        "id": "IooCgYdF4Tt2",
        "outputId": "7cdc0a3c-3979-471a-e98b-b8f3f9f8fdce"
      },
      "execution_count": 29,
      "outputs": [
        {
          "output_type": "stream",
          "name": "stdout",
          "text": [
            "{'Training': 1.0, 'Train/Dev': 0.9777777777777777, 'Validation': 0.8944444444444445, 'Testing': 0.7944444444444444}\n"
          ]
        }
      ]
    },
    {
      "cell_type": "code",
      "source": [
        "res_1 = pd.DataFrame({'Sets': ['Bayes Error'], 'Error Rate': 0},index={'1'})\n",
        "results = res_1[['Sets','Error Rate']]\n",
        "results"
      ],
      "metadata": {
        "colab": {
          "base_uri": "https://localhost:8080/",
          "height": 81
        },
        "id": "YgVWco3Y5zkR",
        "outputId": "5676b618-207f-4cb8-a5c7-360063fe76df"
      },
      "execution_count": 30,
      "outputs": [
        {
          "output_type": "execute_result",
          "data": {
            "text/plain": [
              "          Sets  Error Rate\n",
              "1  Bayes Error           0"
            ],
            "text/html": [
              "\n",
              "  <div id=\"df-03aa3413-1819-44de-a05b-55bdfab4f127\">\n",
              "    <div class=\"colab-df-container\">\n",
              "      <div>\n",
              "<style scoped>\n",
              "    .dataframe tbody tr th:only-of-type {\n",
              "        vertical-align: middle;\n",
              "    }\n",
              "\n",
              "    .dataframe tbody tr th {\n",
              "        vertical-align: top;\n",
              "    }\n",
              "\n",
              "    .dataframe thead th {\n",
              "        text-align: right;\n",
              "    }\n",
              "</style>\n",
              "<table border=\"1\" class=\"dataframe\">\n",
              "  <thead>\n",
              "    <tr style=\"text-align: right;\">\n",
              "      <th></th>\n",
              "      <th>Sets</th>\n",
              "      <th>Error Rate</th>\n",
              "    </tr>\n",
              "  </thead>\n",
              "  <tbody>\n",
              "    <tr>\n",
              "      <th>1</th>\n",
              "      <td>Bayes Error</td>\n",
              "      <td>0</td>\n",
              "    </tr>\n",
              "  </tbody>\n",
              "</table>\n",
              "</div>\n",
              "      <button class=\"colab-df-convert\" onclick=\"convertToInteractive('df-03aa3413-1819-44de-a05b-55bdfab4f127')\"\n",
              "              title=\"Convert this dataframe to an interactive table.\"\n",
              "              style=\"display:none;\">\n",
              "        \n",
              "  <svg xmlns=\"http://www.w3.org/2000/svg\" height=\"24px\"viewBox=\"0 0 24 24\"\n",
              "       width=\"24px\">\n",
              "    <path d=\"M0 0h24v24H0V0z\" fill=\"none\"/>\n",
              "    <path d=\"M18.56 5.44l.94 2.06.94-2.06 2.06-.94-2.06-.94-.94-2.06-.94 2.06-2.06.94zm-11 1L8.5 8.5l.94-2.06 2.06-.94-2.06-.94L8.5 2.5l-.94 2.06-2.06.94zm10 10l.94 2.06.94-2.06 2.06-.94-2.06-.94-.94-2.06-.94 2.06-2.06.94z\"/><path d=\"M17.41 7.96l-1.37-1.37c-.4-.4-.92-.59-1.43-.59-.52 0-1.04.2-1.43.59L10.3 9.45l-7.72 7.72c-.78.78-.78 2.05 0 2.83L4 21.41c.39.39.9.59 1.41.59.51 0 1.02-.2 1.41-.59l7.78-7.78 2.81-2.81c.8-.78.8-2.07 0-2.86zM5.41 20L4 18.59l7.72-7.72 1.47 1.35L5.41 20z\"/>\n",
              "  </svg>\n",
              "      </button>\n",
              "      \n",
              "  <style>\n",
              "    .colab-df-container {\n",
              "      display:flex;\n",
              "      flex-wrap:wrap;\n",
              "      gap: 12px;\n",
              "    }\n",
              "\n",
              "    .colab-df-convert {\n",
              "      background-color: #E8F0FE;\n",
              "      border: none;\n",
              "      border-radius: 50%;\n",
              "      cursor: pointer;\n",
              "      display: none;\n",
              "      fill: #1967D2;\n",
              "      height: 32px;\n",
              "      padding: 0 0 0 0;\n",
              "      width: 32px;\n",
              "    }\n",
              "\n",
              "    .colab-df-convert:hover {\n",
              "      background-color: #E2EBFA;\n",
              "      box-shadow: 0px 1px 2px rgba(60, 64, 67, 0.3), 0px 1px 3px 1px rgba(60, 64, 67, 0.15);\n",
              "      fill: #174EA6;\n",
              "    }\n",
              "\n",
              "    [theme=dark] .colab-df-convert {\n",
              "      background-color: #3B4455;\n",
              "      fill: #D2E3FC;\n",
              "    }\n",
              "\n",
              "    [theme=dark] .colab-df-convert:hover {\n",
              "      background-color: #434B5C;\n",
              "      box-shadow: 0px 1px 3px 1px rgba(0, 0, 0, 0.15);\n",
              "      filter: drop-shadow(0px 1px 2px rgba(0, 0, 0, 0.3));\n",
              "      fill: #FFFFFF;\n",
              "    }\n",
              "  </style>\n",
              "\n",
              "      <script>\n",
              "        const buttonEl =\n",
              "          document.querySelector('#df-03aa3413-1819-44de-a05b-55bdfab4f127 button.colab-df-convert');\n",
              "        buttonEl.style.display =\n",
              "          google.colab.kernel.accessAllowed ? 'block' : 'none';\n",
              "\n",
              "        async function convertToInteractive(key) {\n",
              "          const element = document.querySelector('#df-03aa3413-1819-44de-a05b-55bdfab4f127');\n",
              "          const dataTable =\n",
              "            await google.colab.kernel.invokeFunction('convertToInteractive',\n",
              "                                                     [key], {});\n",
              "          if (!dataTable) return;\n",
              "\n",
              "          const docLinkHtml = 'Like what you see? Visit the ' +\n",
              "            '<a target=\"_blank\" href=https://colab.research.google.com/notebooks/data_table.ipynb>data table notebook</a>'\n",
              "            + ' to learn more about interactive tables.';\n",
              "          element.innerHTML = '';\n",
              "          dataTable['output_type'] = 'display_data';\n",
              "          await google.colab.output.renderOutput(dataTable, element);\n",
              "          const docLink = document.createElement('div');\n",
              "          docLink.innerHTML = docLinkHtml;\n",
              "          element.appendChild(docLink);\n",
              "        }\n",
              "      </script>\n",
              "    </div>\n",
              "  </div>\n",
              "  "
            ]
          },
          "metadata": {},
          "execution_count": 30
        }
      ]
    },
    {
      "cell_type": "code",
      "source": [
        "res_2 = pd.DataFrame(\n",
        "    {'Sets': ['Training Set'], \n",
        "     'Error Rate': 1-scores['Training']},\n",
        "     index={'2'}\n",
        ")\n",
        "results = pd.concat([results, res_2])\n",
        "results = results[['Sets','Error Rate']]\n",
        "\n",
        "res_3 = pd.DataFrame(\n",
        "    {'Sets': ['Train/Dev Set'], \n",
        "     'Error Rate': 1-scores['Train/Dev']},\n",
        "     index={'3'}\n",
        ")\n",
        "results = pd.concat([results, res_3])\n",
        "results = results[['Sets','Error Rate']]\n",
        "\n",
        "res_4 = pd.DataFrame(\n",
        "    {'Sets': ['Validation Set'], \n",
        "     'Error Rate': 1-scores['Validation']},\n",
        "     index={'4'}\n",
        ")\n",
        "results = pd.concat([results, res_4])\n",
        "results = results[['Sets','Error Rate']]\n",
        "\n",
        "res_5 = pd.DataFrame(\n",
        "    {'Sets': ['Testing Set'], \n",
        "     'Error Rate': 1-scores['Testing']},\n",
        "     index={'5'}\n",
        ")\n",
        "results = pd.concat([results, res_5])\n",
        "results = results[['Sets','Error Rate']]"
      ],
      "metadata": {
        "id": "_NiWNcaK6NH9"
      },
      "execution_count": 31,
      "outputs": []
    },
    {
      "cell_type": "code",
      "source": [
        "results"
      ],
      "metadata": {
        "colab": {
          "base_uri": "https://localhost:8080/",
          "height": 206
        },
        "id": "DwkF9J-S8yOU",
        "outputId": "4a27664d-62ba-45e8-b915-c7685aea080a"
      },
      "execution_count": 32,
      "outputs": [
        {
          "output_type": "execute_result",
          "data": {
            "text/plain": [
              "             Sets  Error Rate\n",
              "1     Bayes Error    0.000000\n",
              "2    Training Set    0.000000\n",
              "3   Train/Dev Set    0.022222\n",
              "4  Validation Set    0.105556\n",
              "5     Testing Set    0.205556"
            ],
            "text/html": [
              "\n",
              "  <div id=\"df-cbe3a50c-e938-4c49-b325-c412afb0d089\">\n",
              "    <div class=\"colab-df-container\">\n",
              "      <div>\n",
              "<style scoped>\n",
              "    .dataframe tbody tr th:only-of-type {\n",
              "        vertical-align: middle;\n",
              "    }\n",
              "\n",
              "    .dataframe tbody tr th {\n",
              "        vertical-align: top;\n",
              "    }\n",
              "\n",
              "    .dataframe thead th {\n",
              "        text-align: right;\n",
              "    }\n",
              "</style>\n",
              "<table border=\"1\" class=\"dataframe\">\n",
              "  <thead>\n",
              "    <tr style=\"text-align: right;\">\n",
              "      <th></th>\n",
              "      <th>Sets</th>\n",
              "      <th>Error Rate</th>\n",
              "    </tr>\n",
              "  </thead>\n",
              "  <tbody>\n",
              "    <tr>\n",
              "      <th>1</th>\n",
              "      <td>Bayes Error</td>\n",
              "      <td>0.000000</td>\n",
              "    </tr>\n",
              "    <tr>\n",
              "      <th>2</th>\n",
              "      <td>Training Set</td>\n",
              "      <td>0.000000</td>\n",
              "    </tr>\n",
              "    <tr>\n",
              "      <th>3</th>\n",
              "      <td>Train/Dev Set</td>\n",
              "      <td>0.022222</td>\n",
              "    </tr>\n",
              "    <tr>\n",
              "      <th>4</th>\n",
              "      <td>Validation Set</td>\n",
              "      <td>0.105556</td>\n",
              "    </tr>\n",
              "    <tr>\n",
              "      <th>5</th>\n",
              "      <td>Testing Set</td>\n",
              "      <td>0.205556</td>\n",
              "    </tr>\n",
              "  </tbody>\n",
              "</table>\n",
              "</div>\n",
              "      <button class=\"colab-df-convert\" onclick=\"convertToInteractive('df-cbe3a50c-e938-4c49-b325-c412afb0d089')\"\n",
              "              title=\"Convert this dataframe to an interactive table.\"\n",
              "              style=\"display:none;\">\n",
              "        \n",
              "  <svg xmlns=\"http://www.w3.org/2000/svg\" height=\"24px\"viewBox=\"0 0 24 24\"\n",
              "       width=\"24px\">\n",
              "    <path d=\"M0 0h24v24H0V0z\" fill=\"none\"/>\n",
              "    <path d=\"M18.56 5.44l.94 2.06.94-2.06 2.06-.94-2.06-.94-.94-2.06-.94 2.06-2.06.94zm-11 1L8.5 8.5l.94-2.06 2.06-.94-2.06-.94L8.5 2.5l-.94 2.06-2.06.94zm10 10l.94 2.06.94-2.06 2.06-.94-2.06-.94-.94-2.06-.94 2.06-2.06.94z\"/><path d=\"M17.41 7.96l-1.37-1.37c-.4-.4-.92-.59-1.43-.59-.52 0-1.04.2-1.43.59L10.3 9.45l-7.72 7.72c-.78.78-.78 2.05 0 2.83L4 21.41c.39.39.9.59 1.41.59.51 0 1.02-.2 1.41-.59l7.78-7.78 2.81-2.81c.8-.78.8-2.07 0-2.86zM5.41 20L4 18.59l7.72-7.72 1.47 1.35L5.41 20z\"/>\n",
              "  </svg>\n",
              "      </button>\n",
              "      \n",
              "  <style>\n",
              "    .colab-df-container {\n",
              "      display:flex;\n",
              "      flex-wrap:wrap;\n",
              "      gap: 12px;\n",
              "    }\n",
              "\n",
              "    .colab-df-convert {\n",
              "      background-color: #E8F0FE;\n",
              "      border: none;\n",
              "      border-radius: 50%;\n",
              "      cursor: pointer;\n",
              "      display: none;\n",
              "      fill: #1967D2;\n",
              "      height: 32px;\n",
              "      padding: 0 0 0 0;\n",
              "      width: 32px;\n",
              "    }\n",
              "\n",
              "    .colab-df-convert:hover {\n",
              "      background-color: #E2EBFA;\n",
              "      box-shadow: 0px 1px 2px rgba(60, 64, 67, 0.3), 0px 1px 3px 1px rgba(60, 64, 67, 0.15);\n",
              "      fill: #174EA6;\n",
              "    }\n",
              "\n",
              "    [theme=dark] .colab-df-convert {\n",
              "      background-color: #3B4455;\n",
              "      fill: #D2E3FC;\n",
              "    }\n",
              "\n",
              "    [theme=dark] .colab-df-convert:hover {\n",
              "      background-color: #434B5C;\n",
              "      box-shadow: 0px 1px 3px 1px rgba(0, 0, 0, 0.15);\n",
              "      filter: drop-shadow(0px 1px 2px rgba(0, 0, 0, 0.3));\n",
              "      fill: #FFFFFF;\n",
              "    }\n",
              "  </style>\n",
              "\n",
              "      <script>\n",
              "        const buttonEl =\n",
              "          document.querySelector('#df-cbe3a50c-e938-4c49-b325-c412afb0d089 button.colab-df-convert');\n",
              "        buttonEl.style.display =\n",
              "          google.colab.kernel.accessAllowed ? 'block' : 'none';\n",
              "\n",
              "        async function convertToInteractive(key) {\n",
              "          const element = document.querySelector('#df-cbe3a50c-e938-4c49-b325-c412afb0d089');\n",
              "          const dataTable =\n",
              "            await google.colab.kernel.invokeFunction('convertToInteractive',\n",
              "                                                     [key], {});\n",
              "          if (!dataTable) return;\n",
              "\n",
              "          const docLinkHtml = 'Like what you see? Visit the ' +\n",
              "            '<a target=\"_blank\" href=https://colab.research.google.com/notebooks/data_table.ipynb>data table notebook</a>'\n",
              "            + ' to learn more about interactive tables.';\n",
              "          element.innerHTML = '';\n",
              "          dataTable['output_type'] = 'display_data';\n",
              "          await google.colab.output.renderOutput(dataTable, element);\n",
              "          const docLink = document.createElement('div');\n",
              "          docLink.innerHTML = docLinkHtml;\n",
              "          element.appendChild(docLink);\n",
              "        }\n",
              "      </script>\n",
              "    </div>\n",
              "  </div>\n",
              "  "
            ]
          },
          "metadata": {},
          "execution_count": 32
        }
      ]
    },
    {
      "cell_type": "code",
      "source": [
        "# overfitting to devSet\n",
        "0.205556 - 0.105556"
      ],
      "metadata": {
        "colab": {
          "base_uri": "https://localhost:8080/"
        },
        "id": "igVaEf-L8z55",
        "outputId": "460fc26f-3d3c-4599-97f1-77f88ab448f4"
      },
      "execution_count": 22,
      "outputs": [
        {
          "output_type": "execute_result",
          "data": {
            "text/plain": [
              "0.09999999999999999"
            ]
          },
          "metadata": {},
          "execution_count": 22
        }
      ]
    },
    {
      "cell_type": "code",
      "source": [
        "# data mismatch\n",
        "0.105556 - 0.022222"
      ],
      "metadata": {
        "colab": {
          "base_uri": "https://localhost:8080/"
        },
        "id": "sDod_UsL9u4d",
        "outputId": "826985e1-d3d5-4b73-9014-2502c80755fe"
      },
      "execution_count": 33,
      "outputs": [
        {
          "output_type": "execute_result",
          "data": {
            "text/plain": [
              "0.08333399999999999"
            ]
          },
          "metadata": {},
          "execution_count": 33
        }
      ]
    },
    {
      "cell_type": "code",
      "source": [
        "# high variance / overfitting\n",
        "0.022222"
      ],
      "metadata": {
        "colab": {
          "base_uri": "https://localhost:8080/"
        },
        "id": "iHTFhIGn-BD3",
        "outputId": "2f830e18-d606-4f44-8a21-2a645c1fcfec"
      },
      "execution_count": 34,
      "outputs": [
        {
          "output_type": "execute_result",
          "data": {
            "text/plain": [
              "0.022222"
            ]
          },
          "metadata": {},
          "execution_count": 34
        }
      ]
    },
    {
      "cell_type": "code",
      "source": [
        "scores_macro = {}\n",
        "\n",
        "for i in range(len(X_sets)):\n",
        "  pred = clf.predict(X_sets[i])\n",
        "  score = recall_score(y_sets[i], pred, average='macro')\n",
        "  scores_macro[sets[i]] = score\n",
        "\n",
        "print(scores_macro)"
      ],
      "metadata": {
        "colab": {
          "base_uri": "https://localhost:8080/"
        },
        "id": "qbvJZWSd-LFQ",
        "outputId": "dcc1f6b9-6071-485e-9055-fef18d385458"
      },
      "execution_count": 36,
      "outputs": [
        {
          "output_type": "stream",
          "name": "stdout",
          "text": [
            "{'Training': 1.0, 'Train/Dev': 0.9793434343434344, 'Validation': 0.8892624188676821, 'Testing': 0.7944444444444445}\n"
          ]
        }
      ]
    },
    {
      "cell_type": "code",
      "source": [
        "res_1 = pd.DataFrame({'Sets': ['Bayes Error'], 'Error Rate': 0},index={'1'})\n",
        "results_macro = res_1[['Sets','Error Rate']]\n",
        "\n",
        "res_2 = pd.DataFrame(\n",
        "    {'Sets': ['Training Set'], \n",
        "     'Error Rate': 1-scores_macro['Training']},\n",
        "     index={'2'}\n",
        ")\n",
        "results_macro = pd.concat([results_macro, res_2])\n",
        "results_macro = results_macro[['Sets','Error Rate']]\n",
        "\n",
        "res_3 = pd.DataFrame(\n",
        "    {'Sets': ['Train/Dev Set'], \n",
        "     'Error Rate': 1-scores_macro['Train/Dev']},\n",
        "     index={'3'}\n",
        ")\n",
        "results_macro = pd.concat([results_macro, res_3])\n",
        "results_macro = results_macro[['Sets','Error Rate']]\n",
        "\n",
        "res_4 = pd.DataFrame(\n",
        "    {'Sets': ['Validation Set'], \n",
        "     'Error Rate': 1-scores_macro['Validation']},\n",
        "     index={'4'}\n",
        ")\n",
        "results_macro = pd.concat([results_macro, res_4])\n",
        "results_macro = results_macro[['Sets','Error Rate']]\n",
        "\n",
        "res_5 = pd.DataFrame(\n",
        "    {'Sets': ['Testing Set'], \n",
        "     'Error Rate': 1-scores_macro['Testing']},\n",
        "     index={'5'}\n",
        ")\n",
        "results_macro = pd.concat([results_macro, res_5])\n",
        "results_macro = results_macro[['Sets','Error Rate']]\n",
        "\n",
        "results_macro"
      ],
      "metadata": {
        "colab": {
          "base_uri": "https://localhost:8080/",
          "height": 206
        },
        "id": "S66qjHKsAQOx",
        "outputId": "ce4d5faf-6244-4f42-e1bf-b303acd9305a"
      },
      "execution_count": 37,
      "outputs": [
        {
          "output_type": "execute_result",
          "data": {
            "text/plain": [
              "             Sets  Error Rate\n",
              "1     Bayes Error    0.000000\n",
              "2    Training Set    0.000000\n",
              "3   Train/Dev Set    0.020657\n",
              "4  Validation Set    0.110738\n",
              "5     Testing Set    0.205556"
            ],
            "text/html": [
              "\n",
              "  <div id=\"df-472897e9-6579-4118-afca-beb2dbca895d\">\n",
              "    <div class=\"colab-df-container\">\n",
              "      <div>\n",
              "<style scoped>\n",
              "    .dataframe tbody tr th:only-of-type {\n",
              "        vertical-align: middle;\n",
              "    }\n",
              "\n",
              "    .dataframe tbody tr th {\n",
              "        vertical-align: top;\n",
              "    }\n",
              "\n",
              "    .dataframe thead th {\n",
              "        text-align: right;\n",
              "    }\n",
              "</style>\n",
              "<table border=\"1\" class=\"dataframe\">\n",
              "  <thead>\n",
              "    <tr style=\"text-align: right;\">\n",
              "      <th></th>\n",
              "      <th>Sets</th>\n",
              "      <th>Error Rate</th>\n",
              "    </tr>\n",
              "  </thead>\n",
              "  <tbody>\n",
              "    <tr>\n",
              "      <th>1</th>\n",
              "      <td>Bayes Error</td>\n",
              "      <td>0.000000</td>\n",
              "    </tr>\n",
              "    <tr>\n",
              "      <th>2</th>\n",
              "      <td>Training Set</td>\n",
              "      <td>0.000000</td>\n",
              "    </tr>\n",
              "    <tr>\n",
              "      <th>3</th>\n",
              "      <td>Train/Dev Set</td>\n",
              "      <td>0.020657</td>\n",
              "    </tr>\n",
              "    <tr>\n",
              "      <th>4</th>\n",
              "      <td>Validation Set</td>\n",
              "      <td>0.110738</td>\n",
              "    </tr>\n",
              "    <tr>\n",
              "      <th>5</th>\n",
              "      <td>Testing Set</td>\n",
              "      <td>0.205556</td>\n",
              "    </tr>\n",
              "  </tbody>\n",
              "</table>\n",
              "</div>\n",
              "      <button class=\"colab-df-convert\" onclick=\"convertToInteractive('df-472897e9-6579-4118-afca-beb2dbca895d')\"\n",
              "              title=\"Convert this dataframe to an interactive table.\"\n",
              "              style=\"display:none;\">\n",
              "        \n",
              "  <svg xmlns=\"http://www.w3.org/2000/svg\" height=\"24px\"viewBox=\"0 0 24 24\"\n",
              "       width=\"24px\">\n",
              "    <path d=\"M0 0h24v24H0V0z\" fill=\"none\"/>\n",
              "    <path d=\"M18.56 5.44l.94 2.06.94-2.06 2.06-.94-2.06-.94-.94-2.06-.94 2.06-2.06.94zm-11 1L8.5 8.5l.94-2.06 2.06-.94-2.06-.94L8.5 2.5l-.94 2.06-2.06.94zm10 10l.94 2.06.94-2.06 2.06-.94-2.06-.94-.94-2.06-.94 2.06-2.06.94z\"/><path d=\"M17.41 7.96l-1.37-1.37c-.4-.4-.92-.59-1.43-.59-.52 0-1.04.2-1.43.59L10.3 9.45l-7.72 7.72c-.78.78-.78 2.05 0 2.83L4 21.41c.39.39.9.59 1.41.59.51 0 1.02-.2 1.41-.59l7.78-7.78 2.81-2.81c.8-.78.8-2.07 0-2.86zM5.41 20L4 18.59l7.72-7.72 1.47 1.35L5.41 20z\"/>\n",
              "  </svg>\n",
              "      </button>\n",
              "      \n",
              "  <style>\n",
              "    .colab-df-container {\n",
              "      display:flex;\n",
              "      flex-wrap:wrap;\n",
              "      gap: 12px;\n",
              "    }\n",
              "\n",
              "    .colab-df-convert {\n",
              "      background-color: #E8F0FE;\n",
              "      border: none;\n",
              "      border-radius: 50%;\n",
              "      cursor: pointer;\n",
              "      display: none;\n",
              "      fill: #1967D2;\n",
              "      height: 32px;\n",
              "      padding: 0 0 0 0;\n",
              "      width: 32px;\n",
              "    }\n",
              "\n",
              "    .colab-df-convert:hover {\n",
              "      background-color: #E2EBFA;\n",
              "      box-shadow: 0px 1px 2px rgba(60, 64, 67, 0.3), 0px 1px 3px 1px rgba(60, 64, 67, 0.15);\n",
              "      fill: #174EA6;\n",
              "    }\n",
              "\n",
              "    [theme=dark] .colab-df-convert {\n",
              "      background-color: #3B4455;\n",
              "      fill: #D2E3FC;\n",
              "    }\n",
              "\n",
              "    [theme=dark] .colab-df-convert:hover {\n",
              "      background-color: #434B5C;\n",
              "      box-shadow: 0px 1px 3px 1px rgba(0, 0, 0, 0.15);\n",
              "      filter: drop-shadow(0px 1px 2px rgba(0, 0, 0, 0.3));\n",
              "      fill: #FFFFFF;\n",
              "    }\n",
              "  </style>\n",
              "\n",
              "      <script>\n",
              "        const buttonEl =\n",
              "          document.querySelector('#df-472897e9-6579-4118-afca-beb2dbca895d button.colab-df-convert');\n",
              "        buttonEl.style.display =\n",
              "          google.colab.kernel.accessAllowed ? 'block' : 'none';\n",
              "\n",
              "        async function convertToInteractive(key) {\n",
              "          const element = document.querySelector('#df-472897e9-6579-4118-afca-beb2dbca895d');\n",
              "          const dataTable =\n",
              "            await google.colab.kernel.invokeFunction('convertToInteractive',\n",
              "                                                     [key], {});\n",
              "          if (!dataTable) return;\n",
              "\n",
              "          const docLinkHtml = 'Like what you see? Visit the ' +\n",
              "            '<a target=\"_blank\" href=https://colab.research.google.com/notebooks/data_table.ipynb>data table notebook</a>'\n",
              "            + ' to learn more about interactive tables.';\n",
              "          element.innerHTML = '';\n",
              "          dataTable['output_type'] = 'display_data';\n",
              "          await google.colab.output.renderOutput(dataTable, element);\n",
              "          const docLink = document.createElement('div');\n",
              "          docLink.innerHTML = docLinkHtml;\n",
              "          element.appendChild(docLink);\n",
              "        }\n",
              "      </script>\n",
              "    </div>\n",
              "  </div>\n",
              "  "
            ]
          },
          "metadata": {},
          "execution_count": 37
        }
      ]
    },
    {
      "cell_type": "code",
      "source": [
        ""
      ],
      "metadata": {
        "id": "6K3IINuJBAT7"
      },
      "execution_count": null,
      "outputs": []
    }
  ]
}