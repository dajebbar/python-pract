{
  "nbformat": 4,
  "nbformat_minor": 0,
  "metadata": {
    "colab": {
      "name": "Digits_classification.ipynb",
      "provenance": []
    },
    "kernelspec": {
      "name": "python3",
      "display_name": "Python 3"
    },
    "language_info": {
      "name": "python"
    }
  },
  "cells": [
    {
      "cell_type": "code",
      "execution_count": 1,
      "metadata": {
        "id": "XrJIBh02HsRD"
      },
      "outputs": [],
      "source": [
        "import pandas as pd\n",
        "import numpy as np\n",
        "from sklearn.datasets import load_digits"
      ]
    },
    {
      "cell_type": "code",
      "source": [
        "data = load_digits()\n",
        "\n",
        "X, y = pd.DataFrame(data.data), pd.DataFrame(data.target)\n",
        "X.shape, y.shape"
      ],
      "metadata": {
        "colab": {
          "base_uri": "https://localhost:8080/"
        },
        "id": "5aziozI4H3uQ",
        "outputId": "986679b9-f43d-4e4b-e561-24ccd77320ee"
      },
      "execution_count": 2,
      "outputs": [
        {
          "output_type": "execute_result",
          "data": {
            "text/plain": [
              "((1797, 64), (1797, 1))"
            ]
          },
          "metadata": {},
          "execution_count": 2
        }
      ]
    },
    {
      "cell_type": "code",
      "source": [
        "from sklearn.model_selection import train_test_split\n",
        "\n",
        "X_train, X_test, y_train, y_test = train_test_split(\n",
        "    X, y, test_size=.1, random_state=7, stratify=y,\n",
        ")\n",
        "\n",
        "X_train.shape, y_train.shape, X_test.shape, y_test.shape"
      ],
      "metadata": {
        "colab": {
          "base_uri": "https://localhost:8080/"
        },
        "id": "Z5SupQBuH7VS",
        "outputId": "c2be6925-996f-4f4c-b3d7-63ac1d2a273f"
      },
      "execution_count": 3,
      "outputs": [
        {
          "output_type": "execute_result",
          "data": {
            "text/plain": [
              "((1617, 64), (1617, 1), (180, 64), (180, 1))"
            ]
          },
          "metadata": {},
          "execution_count": 3
        }
      ]
    },
    {
      "cell_type": "code",
      "source": [
        "from sklearn.tree import DecisionTreeClassifier\n",
        "\n",
        "clf = DecisionTreeClassifier(random_state=7)\n",
        "clf.fit(X_train, y_train)"
      ],
      "metadata": {
        "colab": {
          "base_uri": "https://localhost:8080/"
        },
        "id": "PyOrjeQeIxPY",
        "outputId": "f640b751-7eac-4ffd-95ff-8ad961f71144"
      },
      "execution_count": 4,
      "outputs": [
        {
          "output_type": "execute_result",
          "data": {
            "text/plain": [
              "DecisionTreeClassifier(random_state=7)"
            ]
          },
          "metadata": {},
          "execution_count": 4
        }
      ]
    },
    {
      "cell_type": "code",
      "source": [
        "y_pred = clf.predict(X_test)"
      ],
      "metadata": {
        "id": "gn9EWel3JDMQ"
      },
      "execution_count": 5,
      "outputs": []
    },
    {
      "cell_type": "code",
      "source": [
        "from sklearn.metrics import (\n",
        "    confusion_matrix,\n",
        "    accuracy_score,\n",
        "    precision_score,\n",
        "    recall_score\n",
        ")\n",
        "\n",
        "from yellowbrick.classifier import ConfusionMatrix\n",
        "\n",
        "classes = list(range(0, 10))\n",
        "cm = ConfusionMatrix(clf, classes=classes)\n",
        "cm.fit(X_train, y_train)\n",
        "cm.score(X_test, y_test)\n",
        "cm.show()"
      ],
      "metadata": {
        "colab": {
          "base_uri": "https://localhost:8080/",
          "height": 419
        },
        "id": "xtUv8SuOJIOB",
        "outputId": "440f78ee-2941-401c-dc5a-1873224b8ceb"
      },
      "execution_count": 6,
      "outputs": [
        {
          "output_type": "display_data",
          "data": {
            "text/plain": [
              "<Figure size 576x396 with 1 Axes>"
            ],
            "image/png": "[encoded data removed]"
          },
          "metadata": {}
        },
        {
          "output_type": "execute_result",
          "data": {
            "text/plain": [
              "<matplotlib.axes._subplots.AxesSubplot at 0x7f95e4e5eed0>"
            ]
          },
          "metadata": {},
          "execution_count": 6
        }
      ]
    },
    {
      "cell_type": "code",
      "source": [
        "confusion_matrix(y_test, y_pred)"
      ],
      "metadata": {
        "colab": {
          "base_uri": "https://localhost:8080/"
        },
        "id": "rJsEnuM4JZ9n",
        "outputId": "3ef1b6f2-ddd2-4074-cd15-f03d63d7cd2f"
      },
      "execution_count": 7,
      "outputs": [
        {
          "output_type": "execute_result",
          "data": {
            "text/plain": [
              "array([[17,  0,  0,  0,  1,  0,  0,  0,  0,  0],\n",
              "       [ 0, 14,  1,  0,  1,  0,  0,  0,  0,  2],\n",
              "       [ 0,  0, 18,  0,  0,  0,  0,  0,  0,  0],\n",
              "       [ 0,  0,  0, 15,  0,  0,  0,  0,  1,  2],\n",
              "       [ 0,  1,  0,  0, 15,  0,  0,  0,  1,  1],\n",
              "       [ 0,  0,  0,  2,  0, 16,  0,  0,  0,  0],\n",
              "       [ 0,  0,  0,  0,  0,  0, 18,  0,  0,  0],\n",
              "       [ 0,  0,  0,  0,  0,  0,  0, 18,  0,  0],\n",
              "       [ 0,  0,  1,  1,  0,  1,  0,  0, 15,  0],\n",
              "       [ 0,  0,  0,  1,  0,  0,  0,  0,  2, 15]])"
            ]
          },
          "metadata": {},
          "execution_count": 7
        }
      ]
    },
    {
      "cell_type": "code",
      "source": [
        ""
      ],
      "metadata": {
        "id": "yMZFuNrEJhmP"
      },
      "execution_count": null,
      "outputs": []
    }
  ]
}