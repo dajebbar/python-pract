{
  "nbformat": 4,
  "nbformat_minor": 0,
  "metadata": {
    "colab": {
      "name": "c8_code.ipynb",
      "provenance": []
    },
    "kernelspec": {
      "name": "python3",
      "display_name": "Python 3"
    },
    "language_info": {
      "name": "python"
    }
  },
  "cells": [
    {
      "cell_type": "markdown",
      "source": [
        "---\n",
        "# Index Alignment\n",
        "---"
      ],
      "metadata": {
        "id": "5OlvQ70HOGD5"
      }
    },
    {
      "cell_type": "markdown",
      "source": [
        "## Examining the Index object\n",
        "All Index objects, except for the MultiIndex, are single-dimensional data structures that combine the functionality of Python sets and NumPy ndarrays."
      ],
      "metadata": {
        "id": "TzGR6MaxQ13p"
      }
    },
    {
      "cell_type": "markdown",
      "source": [
        "Examine the column index of the college dataset and explore much\n",
        "of its functionality.  \n",
        "Read in the college dataset, and create a variable columns that holds the column index"
      ],
      "metadata": {
        "id": "AV9ImOLPRVX_"
      }
    },
    {
      "cell_type": "code",
      "execution_count": 1,
      "metadata": {
        "id": "H35ERNuYN61W"
      },
      "outputs": [],
      "source": [
        "import numpy as np\n",
        "import pandas as pd"
      ]
    },
    {
      "cell_type": "code",
      "source": [
        "college = pd.read_csv('./college.csv')\n",
        "cols = college.columns\n",
        "cols"
      ],
      "metadata": {
        "colab": {
          "base_uri": "https://localhost:8080/"
        },
        "id": "TYuw2ssuR0Kg",
        "outputId": "a715194a-eaaf-475e-9ce4-6f0eeacb5b06"
      },
      "execution_count": 3,
      "outputs": [
        {
          "output_type": "execute_result",
          "data": {
            "text/plain": [
              "Index(['INSTNM', 'CITY', 'STABBR', 'HBCU', 'MENONLY', 'WOMENONLY', 'RELAFFIL',\n",
              "       'SATVRMID', 'SATMTMID', 'DISTANCEONLY', 'UGDS', 'UGDS_WHITE',\n",
              "       'UGDS_BLACK', 'UGDS_HISP', 'UGDS_ASIAN', 'UGDS_AIAN', 'UGDS_NHPI',\n",
              "       'UGDS_2MOR', 'UGDS_NRA', 'UGDS_UNKN', 'PPTUG_EF', 'CURROPER', 'PCTPELL',\n",
              "       'PCTFLOAN', 'UG25ABV', 'MD_EARN_WNE_P10', 'GRAD_DEBT_MDN_SUPP'],\n",
              "      dtype='object')"
            ]
          },
          "metadata": {},
          "execution_count": 3
        }
      ]
    },
    {
      "cell_type": "markdown",
      "source": [
        "Use the `.values` attribute to access the underlying NumPy array"
      ],
      "metadata": {
        "id": "igp1tAnCSLjh"
      }
    },
    {
      "cell_type": "code",
      "source": [
        "cols.values"
      ],
      "metadata": {
        "colab": {
          "base_uri": "https://localhost:8080/"
        },
        "id": "egi8L4u2SA8U",
        "outputId": "639a06b8-d80b-451d-b3b4-b138fe5e2d03"
      },
      "execution_count": 6,
      "outputs": [
        {
          "output_type": "execute_result",
          "data": {
            "text/plain": [
              "array(['INSTNM', 'CITY', 'STABBR', 'HBCU', 'MENONLY', 'WOMENONLY',\n",
              "       'RELAFFIL', 'SATVRMID', 'SATMTMID', 'DISTANCEONLY', 'UGDS',\n",
              "       'UGDS_WHITE', 'UGDS_BLACK', 'UGDS_HISP', 'UGDS_ASIAN', 'UGDS_AIAN',\n",
              "       'UGDS_NHPI', 'UGDS_2MOR', 'UGDS_NRA', 'UGDS_UNKN', 'PPTUG_EF',\n",
              "       'CURROPER', 'PCTPELL', 'PCTFLOAN', 'UG25ABV', 'MD_EARN_WNE_P10',\n",
              "       'GRAD_DEBT_MDN_SUPP'], dtype=object)"
            ]
          },
          "metadata": {},
          "execution_count": 6
        }
      ]
    },
    {
      "cell_type": "markdown",
      "source": [
        "Select items from the index by position with a scalar, list, or slice"
      ],
      "metadata": {
        "id": "njysUm2zSoia"
      }
    },
    {
      "cell_type": "code",
      "source": [
        "cols[5]"
      ],
      "metadata": {
        "colab": {
          "base_uri": "https://localhost:8080/",
          "height": 35
        },
        "id": "luT75u_USP7T",
        "outputId": "76afd1fd-0819-4be5-efaf-4989704d7113"
      },
      "execution_count": 7,
      "outputs": [
        {
          "output_type": "execute_result",
          "data": {
            "application/vnd.google.colaboratory.intrinsic+json": {
              "type": "string"
            },
            "text/plain": [
              "'WOMENONLY'"
            ]
          },
          "metadata": {},
          "execution_count": 7
        }
      ]
    },
    {
      "cell_type": "code",
      "source": [
        "cols[[1, 8, -1]]"
      ],
      "metadata": {
        "colab": {
          "base_uri": "https://localhost:8080/"
        },
        "id": "ptKneCNvSq6E",
        "outputId": "f4c82245-be96-4183-9fed-c510c6590822"
      },
      "execution_count": 9,
      "outputs": [
        {
          "output_type": "execute_result",
          "data": {
            "text/plain": [
              "Index(['CITY', 'SATMTMID', 'GRAD_DEBT_MDN_SUPP'], dtype='object')"
            ]
          },
          "metadata": {},
          "execution_count": 9
        }
      ]
    },
    {
      "cell_type": "code",
      "source": [
        "cols[2:6]"
      ],
      "metadata": {
        "colab": {
          "base_uri": "https://localhost:8080/"
        },
        "id": "VWmR9ZK-Sv7o",
        "outputId": "acd3057c-0b22-4c8e-83c1-8bce9fcb0801"
      },
      "execution_count": 10,
      "outputs": [
        {
          "output_type": "execute_result",
          "data": {
            "text/plain": [
              "Index(['STABBR', 'HBCU', 'MENONLY', 'WOMENONLY'], dtype='object')"
            ]
          },
          "metadata": {},
          "execution_count": 10
        }
      ]
    },
    {
      "cell_type": "markdown",
      "source": [
        "Indexes share many of the same methods as Series and DataFrames:"
      ],
      "metadata": {
        "id": "HpXHDc1QTDdn"
      }
    },
    {
      "cell_type": "code",
      "source": [
        "cols.min(), cols.max(), cols.isnull().sum(), cols.value_counts().sum()"
      ],
      "metadata": {
        "colab": {
          "base_uri": "https://localhost:8080/"
        },
        "id": "82eCYyABS8K_",
        "outputId": "4f7c55c7-462a-49d7-bdaf-65c575280b77"
      },
      "execution_count": 12,
      "outputs": [
        {
          "output_type": "execute_result",
          "data": {
            "text/plain": [
              "('CITY', 'WOMENONLY', 0, 27)"
            ]
          },
          "metadata": {},
          "execution_count": 12
        }
      ]
    },
    {
      "cell_type": "markdown",
      "source": [
        " Basic arithmetic and comparison operators on Index objects"
      ],
      "metadata": {
        "id": "ZOViETjLTb2x"
      }
    },
    {
      "cell_type": "code",
      "source": [
        "cols + '_A'"
      ],
      "metadata": {
        "colab": {
          "base_uri": "https://localhost:8080/"
        },
        "id": "6lrg7LdjTPzS",
        "outputId": "d7e2726f-b239-4257-8b77-96b2d8e66d3b"
      },
      "execution_count": 13,
      "outputs": [
        {
          "output_type": "execute_result",
          "data": {
            "text/plain": [
              "Index(['INSTNM_A', 'CITY_A', 'STABBR_A', 'HBCU_A', 'MENONLY_A', 'WOMENONLY_A',\n",
              "       'RELAFFIL_A', 'SATVRMID_A', 'SATMTMID_A', 'DISTANCEONLY_A', 'UGDS_A',\n",
              "       'UGDS_WHITE_A', 'UGDS_BLACK_A', 'UGDS_HISP_A', 'UGDS_ASIAN_A',\n",
              "       'UGDS_AIAN_A', 'UGDS_NHPI_A', 'UGDS_2MOR_A', 'UGDS_NRA_A',\n",
              "       'UGDS_UNKN_A', 'PPTUG_EF_A', 'CURROPER_A', 'PCTPELL_A', 'PCTFLOAN_A',\n",
              "       'UG25ABV_A', 'MD_EARN_WNE_P10_A', 'GRAD_DEBT_MDN_SUPP_A'],\n",
              "      dtype='object')"
            ]
          },
          "metadata": {},
          "execution_count": 13
        }
      ]
    },
    {
      "cell_type": "code",
      "source": [
        "cols > 'G'"
      ],
      "metadata": {
        "colab": {
          "base_uri": "https://localhost:8080/"
        },
        "id": "r_nEVnNTTj3Y",
        "outputId": "b9629aa6-c274-4c47-d24e-bcd007f4ee0c"
      },
      "execution_count": 14,
      "outputs": [
        {
          "output_type": "execute_result",
          "data": {
            "text/plain": [
              "array([ True, False,  True,  True,  True,  True,  True,  True,  True,\n",
              "       False,  True,  True,  True,  True,  True,  True,  True,  True,\n",
              "        True,  True,  True, False,  True,  True,  True,  True,  True])"
            ]
          },
          "metadata": {},
          "execution_count": 14
        }
      ]
    },
    {
      "cell_type": "code",
      "source": [
        "uniq, cnt = np.unique((cols > 'G'), return_counts=True)  \n",
        "dict(zip(uniq, cnt))"
      ],
      "metadata": {
        "colab": {
          "base_uri": "https://localhost:8080/"
        },
        "id": "9CAQ1cV6Tq_a",
        "outputId": "60e40b91-d882-4365-8098-ffe882904aa2"
      },
      "execution_count": 20,
      "outputs": [
        {
          "output_type": "execute_result",
          "data": {
            "text/plain": [
              "{False: 3, True: 24}"
            ]
          },
          "metadata": {},
          "execution_count": 20
        }
      ]
    },
    {
      "cell_type": "markdown",
      "source": [
        "Trying to change an Index value after its creation fails. Indexes are immutable\n",
        "objects:"
      ],
      "metadata": {
        "id": "L5HimO8jVIOH"
      }
    },
    {
      "cell_type": "code",
      "source": [
        "# cols[1] = 'city'"
      ],
      "metadata": {
        "id": "YgJjV56UTyBf"
      },
      "execution_count": 23,
      "outputs": []
    },
    {
      "cell_type": "markdown",
      "source": [
        "Indexes support the set operations—union, intersection, difference, and symmetric difference"
      ],
      "metadata": {
        "id": "LdodQYgrVr07"
      }
    },
    {
      "cell_type": "code",
      "source": [
        " c1 = cols[:4]\n",
        " c1"
      ],
      "metadata": {
        "colab": {
          "base_uri": "https://localhost:8080/"
        },
        "id": "3ejbv2-mVMOj",
        "outputId": "e4b64ea5-dc23-4591-c203-42cb1983a759"
      },
      "execution_count": 25,
      "outputs": [
        {
          "output_type": "execute_result",
          "data": {
            "text/plain": [
              "Index(['INSTNM', 'CITY', 'STABBR', 'HBCU'], dtype='object')"
            ]
          },
          "metadata": {},
          "execution_count": 25
        }
      ]
    },
    {
      "cell_type": "code",
      "source": [
        "c2 = cols[2:6]\n",
        "c2"
      ],
      "metadata": {
        "colab": {
          "base_uri": "https://localhost:8080/"
        },
        "id": "qq1308LZVv0X",
        "outputId": "87404120-df67-44ac-9ee5-7ee32b0977bb"
      },
      "execution_count": 26,
      "outputs": [
        {
          "output_type": "execute_result",
          "data": {
            "text/plain": [
              "Index(['STABBR', 'HBCU', 'MENONLY', 'WOMENONLY'], dtype='object')"
            ]
          },
          "metadata": {},
          "execution_count": 26
        }
      ]
    },
    {
      "cell_type": "code",
      "source": [
        "c1.union(c2)"
      ],
      "metadata": {
        "colab": {
          "base_uri": "https://localhost:8080/"
        },
        "id": "e26Myy2CV1pX",
        "outputId": "6744e86e-ad2b-43ac-b56c-7cc698462a4c"
      },
      "execution_count": 27,
      "outputs": [
        {
          "output_type": "execute_result",
          "data": {
            "text/plain": [
              "Index(['CITY', 'HBCU', 'INSTNM', 'MENONLY', 'STABBR', 'WOMENONLY'], dtype='object')"
            ]
          },
          "metadata": {},
          "execution_count": 27
        }
      ]
    },
    {
      "cell_type": "code",
      "source": [
        "c1 | c2"
      ],
      "metadata": {
        "colab": {
          "base_uri": "https://localhost:8080/"
        },
        "id": "yAdrRDI4V-IG",
        "outputId": "c48eaeba-ef75-49ca-8983-54fa9021df00"
      },
      "execution_count": 28,
      "outputs": [
        {
          "output_type": "execute_result",
          "data": {
            "text/plain": [
              "Index(['CITY', 'HBCU', 'INSTNM', 'MENONLY', 'STABBR', 'WOMENONLY'], dtype='object')"
            ]
          },
          "metadata": {},
          "execution_count": 28
        }
      ]
    },
    {
      "cell_type": "code",
      "source": [
        "c1.symmetric_difference(c2)"
      ],
      "metadata": {
        "colab": {
          "base_uri": "https://localhost:8080/"
        },
        "id": "NQSdrPvlWGnc",
        "outputId": "a857138a-dd67-414d-c974-1c83f1c78418"
      },
      "execution_count": 29,
      "outputs": [
        {
          "output_type": "execute_result",
          "data": {
            "text/plain": [
              "Index(['CITY', 'INSTNM', 'MENONLY', 'WOMENONLY'], dtype='object')"
            ]
          },
          "metadata": {},
          "execution_count": 29
        }
      ]
    },
    {
      "cell_type": "code",
      "source": [
        "c1 ^ c2"
      ],
      "metadata": {
        "colab": {
          "base_uri": "https://localhost:8080/"
        },
        "id": "BydD-NPdWMFb",
        "outputId": "84f1e87b-a3c3-46cb-8fd2-f9b880e938c9"
      },
      "execution_count": 30,
      "outputs": [
        {
          "output_type": "execute_result",
          "data": {
            "text/plain": [
              "Index(['CITY', 'INSTNM', 'MENONLY', 'WOMENONLY'], dtype='object')"
            ]
          },
          "metadata": {},
          "execution_count": 30
        }
      ]
    },
    {
      "cell_type": "markdown",
      "source": [
        "## Producing Cartesian products\n",
        "Construct two Series that have indexes that are different but contain some of the\n",
        "same values:"
      ],
      "metadata": {
        "id": "A89uvFYMWkN6"
      }
    },
    {
      "cell_type": "code",
      "source": [
        "s1 = pd.Series(data=list(range(4)), index=list('aaab'))\n",
        "s1"
      ],
      "metadata": {
        "colab": {
          "base_uri": "https://localhost:8080/"
        },
        "id": "L1y1oFvXWQhv",
        "outputId": "6fd42643-3ddb-4ee9-eac1-aad5141d0fec"
      },
      "execution_count": 31,
      "outputs": [
        {
          "output_type": "execute_result",
          "data": {
            "text/plain": [
              "a    0\n",
              "a    1\n",
              "a    2\n",
              "b    3\n",
              "dtype: int64"
            ]
          },
          "metadata": {},
          "execution_count": 31
        }
      ]
    },
    {
      "cell_type": "code",
      "source": [
        "s2 = pd.Series(data=list(range(6)), index=list('cababb'))\n",
        "s2"
      ],
      "metadata": {
        "colab": {
          "base_uri": "https://localhost:8080/"
        },
        "id": "Cj6tftZgdXkM",
        "outputId": "79c0bcad-cfbc-449e-985e-e859a41911d1"
      },
      "execution_count": 32,
      "outputs": [
        {
          "output_type": "execute_result",
          "data": {
            "text/plain": [
              "c    0\n",
              "a    1\n",
              "b    2\n",
              "a    3\n",
              "b    4\n",
              "b    5\n",
              "dtype: int64"
            ]
          },
          "metadata": {},
          "execution_count": 32
        }
      ]
    },
    {
      "cell_type": "markdown",
      "source": [
        "Add the two Series together to produce a Cartesian product.  For each a index value\n",
        "in s1, we add every a in s2"
      ],
      "metadata": {
        "id": "7HP9rjG5d3ZI"
      }
    },
    {
      "cell_type": "code",
      "source": [
        "s1 + s2"
      ],
      "metadata": {
        "colab": {
          "base_uri": "https://localhost:8080/"
        },
        "id": "LFp1zFnKdsu2",
        "outputId": "d62a8911-c3ca-47e6-d163-2c6b55dd658c"
      },
      "execution_count": 33,
      "outputs": [
        {
          "output_type": "execute_result",
          "data": {
            "text/plain": [
              "a    1.0\n",
              "a    3.0\n",
              "a    2.0\n",
              "a    4.0\n",
              "a    3.0\n",
              "a    5.0\n",
              "b    5.0\n",
              "b    7.0\n",
              "b    8.0\n",
              "c    NaN\n",
              "dtype: float64"
            ]
          },
          "metadata": {},
          "execution_count": 33
        }
      ]
    },
    {
      "cell_type": "code",
      "source": [
        "(s1+s2).apply(type).unique()"
      ],
      "metadata": {
        "colab": {
          "base_uri": "https://localhost:8080/"
        },
        "id": "NUdIj058eDZt",
        "outputId": "fad35d6a-7065-49df-8108-ca5108d1e3a0"
      },
      "execution_count": 36,
      "outputs": [
        {
          "output_type": "execute_result",
          "data": {
            "text/plain": [
              "array([<class 'float'>], dtype=object)"
            ]
          },
          "metadata": {},
          "execution_count": 36
        }
      ]
    },
    {
      "cell_type": "markdown",
      "source": [
        "## Exploding indexes\n",
        "Add two larger Series that have indexes with only a few unique values but in\n",
        "different orders. The result will explode the number of values in the indexes"
      ],
      "metadata": {
        "id": "3VHLDg5EgGPN"
      }
    },
    {
      "cell_type": "markdown",
      "source": [
        "Read in the employee data and set the index to the RACE column:"
      ],
      "metadata": {
        "id": "HHFujWeyg0Qn"
      }
    },
    {
      "cell_type": "code",
      "source": [
        ""
      ],
      "metadata": {
        "id": "1zTttRgNe2I5"
      },
      "execution_count": null,
      "outputs": []
    }
  ]
}