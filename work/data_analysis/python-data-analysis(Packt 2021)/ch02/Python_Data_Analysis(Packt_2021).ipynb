{
  "nbformat": 4,
  "nbformat_minor": 0,
  "metadata": {
    "colab": {
      "name": "Python Data Analysis(Packt-2021).ipynb",
      "provenance": [],
      "collapsed_sections": []
    },
    "kernelspec": {
      "name": "python3",
      "display_name": "Python 3"
    },
    "language_info": {
      "name": "python"
    }
  },
  "cells": [
    {
      "cell_type": "code",
      "execution_count": 1,
      "metadata": {
        "colab": {
          "base_uri": "https://localhost:8080/"
        },
        "id": "Wud5sMjbmg_A",
        "outputId": "518d18ea-8d42-47ac-aa74-e096e3df74b8"
      },
      "outputs": [
        {
          "output_type": "execute_result",
          "data": {
            "text/plain": [
              "[124, 65, 8754, -95, [0, 15]]"
            ]
          },
          "metadata": {},
          "execution_count": 1
        }
      ],
      "source": [
        "import numpy as np\n",
        "\n",
        "l = [124, 65, 8754, -95, [0, 15]]\n",
        "l\n"
      ]
    },
    {
      "cell_type": "code",
      "source": [
        "a = np.array(l)\n",
        "a"
      ],
      "metadata": {
        "colab": {
          "base_uri": "https://localhost:8080/"
        },
        "id": "rTql92hnnIvI",
        "outputId": "cd5d405c-7ba2-421c-a634-53707390a012"
      },
      "execution_count": 2,
      "outputs": [
        {
          "output_type": "stream",
          "name": "stderr",
          "text": [
            "/usr/local/lib/python3.7/dist-packages/ipykernel_launcher.py:1: VisibleDeprecationWarning: Creating an ndarray from ragged nested sequences (which is a list-or-tuple of lists-or-tuples-or ndarrays with different lengths or shapes) is deprecated. If you meant to do this, you must specify 'dtype=object' when creating the ndarray\n",
            "  \"\"\"Entry point for launching an IPython kernel.\n"
          ]
        },
        {
          "output_type": "execute_result",
          "data": {
            "text/plain": [
              "array([124, 65, 8754, -95, list([0, 15])], dtype=object)"
            ]
          },
          "metadata": {},
          "execution_count": 2
        }
      ]
    },
    {
      "cell_type": "markdown",
      "source": [
        "In Numpy array like list in python, should pay attention with **copy:)**"
      ],
      "metadata": {
        "id": "hM9sgE1Mn_F2"
      }
    },
    {
      "cell_type": "code",
      "source": [
        "b = a.copy()\n",
        "\n",
        "b[-1][1] = -10\n",
        "b[0] = -1\n",
        "print(b)\n",
        "print(a)"
      ],
      "metadata": {
        "colab": {
          "base_uri": "https://localhost:8080/"
        },
        "id": "bpvori7wnSBu",
        "outputId": "0ad3de4a-4e95-4b62-c2eb-cba587715ac0"
      },
      "execution_count": 3,
      "outputs": [
        {
          "output_type": "stream",
          "name": "stdout",
          "text": [
            "[-1 65 8754 -95 list([0, -10])]\n",
            "[124 65 8754 -95 list([0, -10])]\n"
          ]
        }
      ]
    },
    {
      "cell_type": "markdown",
      "source": [
        "---\n",
        "# Understanding Numpy Array\n",
        "---"
      ],
      "metadata": {
        "id": "NBpV-fogOqIs"
      }
    },
    {
      "cell_type": "code",
      "source": [
        "# Creating an array\n",
        "import numpy as np\n",
        "a = np.array(range(0,11,2))\n",
        "print(a)"
      ],
      "metadata": {
        "id": "-z6hF8qlnrRQ",
        "colab": {
          "base_uri": "https://localhost:8080/"
        },
        "outputId": "0aad89fe-a7d6-495c-9c1f-591d1018bbc7"
      },
      "execution_count": 4,
      "outputs": [
        {
          "output_type": "stream",
          "name": "stdout",
          "text": [
            "[ 0  2  4  6  8 10]\n"
          ]
        }
      ]
    },
    {
      "cell_type": "code",
      "source": [
        "# Creating an array using arange()\n",
        "a = np.arange(1,11)\n",
        "print(a)"
      ],
      "metadata": {
        "colab": {
          "base_uri": "https://localhost:8080/"
        },
        "id": "FAb614U9O6ou",
        "outputId": "52f3e00c-b4c3-43d0-d23b-81d708f4653a"
      },
      "execution_count": 5,
      "outputs": [
        {
          "output_type": "stream",
          "name": "stdout",
          "text": [
            "[ 1  2  3  4  5  6  7  8  9 10]\n"
          ]
        }
      ]
    },
    {
      "cell_type": "code",
      "source": [
        "p = np.zeros((3,3))   # Create an array of all zeros\n",
        "print(p) \n",
        "print('-*-' * 6)\n",
        "\n",
        "q = np.ones((2,2))    # Create an array of all ones\n",
        "print(q)\n",
        "print('-*-' * 6)\n",
        "\n",
        "r = np.full((2,2), 4)  # Create a constant array\n",
        "print(r) \n",
        "print('-*-' * 6)\n",
        "\n",
        "s = np.eye(4)         # Create a 2x2 identity matrix\n",
        "print(s) \n",
        "print('-*-' * 6)\n",
        "\n",
        "t = np.random.random((3,3))  # Create an array filled with random values\n",
        "print(t)"
      ],
      "metadata": {
        "colab": {
          "base_uri": "https://localhost:8080/"
        },
        "id": "virw4dXTPF2T",
        "outputId": "00ceb7da-5b01-4fa9-813c-aab949409a88"
      },
      "execution_count": 6,
      "outputs": [
        {
          "output_type": "stream",
          "name": "stdout",
          "text": [
            "[[0. 0. 0.]\n",
            " [0. 0. 0.]\n",
            " [0. 0. 0.]]\n",
            "-*--*--*--*--*--*-\n",
            "[[1. 1.]\n",
            " [1. 1.]]\n",
            "-*--*--*--*--*--*-\n",
            "[[4 4]\n",
            " [4 4]]\n",
            "-*--*--*--*--*--*-\n",
            "[[1. 0. 0. 0.]\n",
            " [0. 1. 0. 0.]\n",
            " [0. 0. 1. 0.]\n",
            " [0. 0. 0. 1.]]\n",
            "-*--*--*--*--*--*-\n",
            "[[0.60054209 0.44005922 0.80104749]\n",
            " [0.11488348 0.71849877 0.57657971]\n",
            " [0.35839356 0.55873803 0.96446871]]\n"
          ]
        }
      ]
    },
    {
      "cell_type": "code",
      "source": [
        "# Creating an array using arange()\n",
        "a = np.arange(1,11) # N-darray 1-Darray\n",
        "print(type(a)) # numpy ndarray\n",
        "print(a.dtype) # int64"
      ],
      "metadata": {
        "colab": {
          "base_uri": "https://localhost:8080/"
        },
        "id": "2B3xMm_kPbpu",
        "outputId": "f00b6fc4-3973-42d5-8dfa-82dd456acb7c"
      },
      "execution_count": 7,
      "outputs": [
        {
          "output_type": "stream",
          "name": "stdout",
          "text": [
            "<class 'numpy.ndarray'>\n",
            "int64\n"
          ]
        }
      ]
    },
    {
      "cell_type": "code",
      "source": [
        "# check shape of Array\n",
        "print(a.shape)"
      ],
      "metadata": {
        "colab": {
          "base_uri": "https://localhost:8080/"
        },
        "id": "AwcA_PzqQAFU",
        "outputId": "ad5d268e-5f4a-41a5-94c3-7fcd6a884c40"
      },
      "execution_count": 8,
      "outputs": [
        {
          "output_type": "stream",
          "name": "stdout",
          "text": [
            "(10,)\n"
          ]
        }
      ]
    },
    {
      "cell_type": "code",
      "source": [
        "a = np.array([[5,6],[7,8]])\n",
        "print(a)"
      ],
      "metadata": {
        "colab": {
          "base_uri": "https://localhost:8080/"
        },
        "id": "KVq4ilgnQVJ9",
        "outputId": "1bf61897-68fb-414d-dd29-1f6020866c92"
      },
      "execution_count": 9,
      "outputs": [
        {
          "output_type": "stream",
          "name": "stdout",
          "text": [
            "[[5 6]\n",
            " [7 8]]\n"
          ]
        }
      ]
    },
    {
      "cell_type": "code",
      "source": [
        "print(a[0]) # first row"
      ],
      "metadata": {
        "colab": {
          "base_uri": "https://localhost:8080/"
        },
        "id": "kU3H5iQFQca_",
        "outputId": "78968795-7053-47ec-e531-b17e623dd527"
      },
      "execution_count": 10,
      "outputs": [
        {
          "output_type": "stream",
          "name": "stdout",
          "text": [
            "[5 6]\n"
          ]
        }
      ]
    },
    {
      "cell_type": "code",
      "source": [
        "print(a[0,0]) # first value 5"
      ],
      "metadata": {
        "colab": {
          "base_uri": "https://localhost:8080/"
        },
        "id": "Tc_nHhZhQf2d",
        "outputId": "cf3482ea-91ec-416f-b64c-e9a313d37554"
      },
      "execution_count": 11,
      "outputs": [
        {
          "output_type": "stream",
          "name": "stdout",
          "text": [
            "5\n"
          ]
        }
      ]
    },
    {
      "cell_type": "code",
      "source": [
        "print(a[:, 0]) # first column"
      ],
      "metadata": {
        "colab": {
          "base_uri": "https://localhost:8080/"
        },
        "id": "_UGbDRWTQlaE",
        "outputId": "242064e4-72ed-4121-a49b-ff2c32c802db"
      },
      "execution_count": 12,
      "outputs": [
        {
          "output_type": "stream",
          "name": "stdout",
          "text": [
            "[5 7]\n"
          ]
        }
      ]
    },
    {
      "cell_type": "code",
      "source": [
        "print(a[1,1]) # last value 8"
      ],
      "metadata": {
        "colab": {
          "base_uri": "https://localhost:8080/"
        },
        "id": "00UmBK9tQqkM",
        "outputId": "0ab4a951-9cff-4aa3-8636-a529e6025cca"
      },
      "execution_count": 13,
      "outputs": [
        {
          "output_type": "stream",
          "name": "stdout",
          "text": [
            "8\n"
          ]
        }
      ]
    },
    {
      "cell_type": "markdown",
      "source": [
        "---\n",
        "# NumPy Array Numerical Data Types\n",
        "---"
      ],
      "metadata": {
        "id": "zqjuJ9HjRXfD"
      }
    },
    {
      "cell_type": "markdown",
      "source": [
        "![numpy_datatype.png](data:image/png;base64,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)"
      ],
      "metadata": {
        "id": "QHj-rblNTiDW"
      }
    },
    {
      "cell_type": "code",
      "source": [
        "print(np.float64(18))"
      ],
      "metadata": {
        "colab": {
          "base_uri": "https://localhost:8080/"
        },
        "id": "qsa5LT1PRTLg",
        "outputId": "7be9e6ca-2706-4c46-8877-183a7e568cd4"
      },
      "execution_count": 14,
      "outputs": [
        {
          "output_type": "stream",
          "name": "stdout",
          "text": [
            "18.0\n"
          ]
        }
      ]
    },
    {
      "cell_type": "code",
      "source": [
        "print(np.int8(21.0))"
      ],
      "metadata": {
        "colab": {
          "base_uri": "https://localhost:8080/"
        },
        "id": "_oc_Vc83TgU2",
        "outputId": "36cbca6f-2a1e-4375-d2b7-f0e9e91343dc"
      },
      "execution_count": 15,
      "outputs": [
        {
          "output_type": "stream",
          "name": "stdout",
          "text": [
            "21\n"
          ]
        }
      ]
    },
    {
      "cell_type": "code",
      "source": [
        "print(np.bool(18))"
      ],
      "metadata": {
        "colab": {
          "base_uri": "https://localhost:8080/"
        },
        "id": "KhaWjxXlVpqq",
        "outputId": "e8aea8f5-3bdd-40c6-e300-9d9a5e426c92"
      },
      "execution_count": 16,
      "outputs": [
        {
          "output_type": "stream",
          "name": "stdout",
          "text": [
            "True\n"
          ]
        }
      ]
    },
    {
      "cell_type": "code",
      "source": [
        "print(np.bool([]))"
      ],
      "metadata": {
        "colab": {
          "base_uri": "https://localhost:8080/"
        },
        "id": "2dAX-Q5YV0lt",
        "outputId": "42c6201e-9e09-4304-ada9-ac8a066d038b"
      },
      "execution_count": 17,
      "outputs": [
        {
          "output_type": "stream",
          "name": "stdout",
          "text": [
            "False\n"
          ]
        }
      ]
    },
    {
      "cell_type": "code",
      "source": [
        "arr = np.array(range(1, 11), dtype=np.float32)\n",
        "print(arr)"
      ],
      "metadata": {
        "colab": {
          "base_uri": "https://localhost:8080/"
        },
        "id": "BPo2e4EcV5UE",
        "outputId": "3ad932a0-b617-4d27-83b5-847509dac2b9"
      },
      "execution_count": 18,
      "outputs": [
        {
          "output_type": "stream",
          "name": "stdout",
          "text": [
            "[ 1.  2.  3.  4.  5.  6.  7.  8.  9. 10.]\n"
          ]
        }
      ]
    },
    {
      "cell_type": "code",
      "source": [
        "# dtype objects\n",
        "# create an array\n",
        "a = np.array(range(1,11,2))\n",
        "print(a.dtype)"
      ],
      "metadata": {
        "colab": {
          "base_uri": "https://localhost:8080/"
        },
        "id": "P5Hw-0zaWcLX",
        "outputId": "2b4653d5-d637-4fac-f842-393051c7f514"
      },
      "execution_count": 19,
      "outputs": [
        {
          "output_type": "stream",
          "name": "stdout",
          "text": [
            "int64\n"
          ]
        }
      ]
    },
    {
      "cell_type": "code",
      "source": [
        "# size of the data type in bytes\n",
        "print(a.dtype.itemsize)"
      ],
      "metadata": {
        "colab": {
          "base_uri": "https://localhost:8080/"
        },
        "id": "BNWalt65XI0m",
        "outputId": "25028591-99f7-47c5-c168-0282e7835a2c"
      },
      "execution_count": 20,
      "outputs": [
        {
          "output_type": "stream",
          "name": "stdout",
          "text": [
            "8\n"
          ]
        }
      ]
    },
    {
      "cell_type": "markdown",
      "source": [
        "### Data type character codes\n",
        "---\n",
        "![character.png](data:image/png;base64,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)"
      ],
      "metadata": {
        "id": "GwYGF9lxXzCg"
      }
    },
    {
      "cell_type": "code",
      "source": [
        "# Create numpy array using arange() function\n",
        "var1 = np.arange(1,11, dtype='f')\n",
        "\n",
        "print(var1)"
      ],
      "metadata": {
        "colab": {
          "base_uri": "https://localhost:8080/"
        },
        "id": "JSrDmVYuXTQe",
        "outputId": "a0186dbd-a8bf-4dd1-a771-9c1206238325"
      },
      "execution_count": 21,
      "outputs": [
        {
          "output_type": "stream",
          "name": "stdout",
          "text": [
            "[ 1.  2.  3.  4.  5.  6.  7.  8.  9. 10.]\n"
          ]
        }
      ]
    },
    {
      "cell_type": "code",
      "source": [
        "print(var1.dtype)"
      ],
      "metadata": {
        "colab": {
          "base_uri": "https://localhost:8080/"
        },
        "id": "2K6UmUZfYXl-",
        "outputId": "ceb855ad-ddc3-4952-dd19-c92b0595dc18"
      },
      "execution_count": 22,
      "outputs": [
        {
          "output_type": "stream",
          "name": "stdout",
          "text": [
            "float32\n"
          ]
        }
      ]
    },
    {
      "cell_type": "code",
      "source": [
        "var2 = np.arange(1,6, dtype='D')\n",
        "print(var2)"
      ],
      "metadata": {
        "colab": {
          "base_uri": "https://localhost:8080/"
        },
        "id": "pgxkaVeIYbO3",
        "outputId": "3b07f7b5-40c3-4e40-a32f-f110bf9c8ddf"
      },
      "execution_count": 23,
      "outputs": [
        {
          "output_type": "stream",
          "name": "stdout",
          "text": [
            "[1.+0.j 2.+0.j 3.+0.j 4.+0.j 5.+0.j]\n"
          ]
        }
      ]
    },
    {
      "cell_type": "code",
      "source": [
        "print(var2.dtype)"
      ],
      "metadata": {
        "colab": {
          "base_uri": "https://localhost:8080/"
        },
        "id": "cjiqO1hCYgz4",
        "outputId": "8bf5b5aa-398d-4c9b-b938-96ef214532f4"
      },
      "execution_count": 24,
      "outputs": [
        {
          "output_type": "stream",
          "name": "stdout",
          "text": [
            "complex128\n"
          ]
        }
      ]
    },
    {
      "cell_type": "markdown",
      "source": [
        "### `dtype` constructors"
      ],
      "metadata": {
        "id": "DMki1ZtYZZp4"
      }
    },
    {
      "cell_type": "code",
      "source": [
        "# general Python float\n",
        "print(np.dtype(float))"
      ],
      "metadata": {
        "colab": {
          "base_uri": "https://localhost:8080/"
        },
        "id": "W0w_s-cPYrHe",
        "outputId": "d842945e-e781-4e4a-fe98-da7653e61c76"
      },
      "execution_count": 25,
      "outputs": [
        {
          "output_type": "stream",
          "name": "stdout",
          "text": [
            "float64\n"
          ]
        }
      ]
    },
    {
      "cell_type": "code",
      "source": [
        "# single-precision float with a character code\n",
        "print(np.dtype('f'))"
      ],
      "metadata": {
        "colab": {
          "base_uri": "https://localhost:8080/"
        },
        "id": "m_tgrK90ZnyL",
        "outputId": "4ec2452e-76aa-4dc4-d929-b4517573d162"
      },
      "execution_count": 26,
      "outputs": [
        {
          "output_type": "stream",
          "name": "stdout",
          "text": [
            "float32\n"
          ]
        }
      ]
    },
    {
      "cell_type": "code",
      "source": [
        "# a double-precision float with a character code\n",
        "print(np.dtype('d'))"
      ],
      "metadata": {
        "colab": {
          "base_uri": "https://localhost:8080/"
        },
        "id": "gamEDR-uZ19Y",
        "outputId": "d3e0ea03-7652-4e49-95c3-556da6a155b8"
      },
      "execution_count": 27,
      "outputs": [
        {
          "output_type": "stream",
          "name": "stdout",
          "text": [
            "float64\n"
          ]
        }
      ]
    },
    {
      "cell_type": "code",
      "source": [
        "# a dtype constructor with a two-character code\n",
        "print(np.dtype('f8')) # the first character stands for the type and a second character is a number specifying\n",
        "                      # the number of bytes in the type, for example, 2, 4, or 8."
      ],
      "metadata": {
        "colab": {
          "base_uri": "https://localhost:8080/"
        },
        "id": "x0RJEHLQZ-n5",
        "outputId": "5ec935b3-8c59-40d8-a81a-88d5bb3ccd5c"
      },
      "execution_count": 28,
      "outputs": [
        {
          "output_type": "stream",
          "name": "stdout",
          "text": [
            "float64\n"
          ]
        }
      ]
    },
    {
      "cell_type": "markdown",
      "source": [
        "### `dtype` attributes: \n",
        "The `dtype` class offers several useful attributes. For example, we can get information about the character code of a data type using the `dtype` attribute:"
      ],
      "metadata": {
        "id": "zLcO0d2dajiQ"
      }
    },
    {
      "cell_type": "code",
      "source": [
        "# Create numpy array\n",
        "var2=np.array([1,2,3],dtype='float64')"
      ],
      "metadata": {
        "id": "PN6XBFzqaPzL"
      },
      "execution_count": 29,
      "outputs": []
    },
    {
      "cell_type": "code",
      "source": [
        "print(var2.dtype.char)"
      ],
      "metadata": {
        "colab": {
          "base_uri": "https://localhost:8080/"
        },
        "id": "cynWo6x4axS8",
        "outputId": "71af8c72-e3de-4345-8229-7ce24b09c314"
      },
      "execution_count": 30,
      "outputs": [
        {
          "output_type": "stream",
          "name": "stdout",
          "text": [
            "d\n"
          ]
        }
      ]
    },
    {
      "cell_type": "code",
      "source": [
        "print(var2.dtype.type)"
      ],
      "metadata": {
        "colab": {
          "base_uri": "https://localhost:8080/"
        },
        "id": "NFY8lN78a56h",
        "outputId": "700b956f-37ce-417e-e8c4-8963bf275613"
      },
      "execution_count": 31,
      "outputs": [
        {
          "output_type": "stream",
          "name": "stdout",
          "text": [
            "<class 'numpy.float64'>\n"
          ]
        }
      ]
    },
    {
      "cell_type": "markdown",
      "source": [
        "---\n",
        "# Manipulating array shapes\n",
        "---\n",
        "-  `reshape()`\n",
        "-  `flatten()`\n",
        "-  `ravel()`\n",
        "-  `transpose()`\n",
        "-  `resize()`"
      ],
      "metadata": {
        "id": "jfqiEQtibqsv"
      }
    },
    {
      "cell_type": "markdown",
      "source": [
        "## `reshape()`"
      ],
      "metadata": {
        "id": "VYjNxz0feSkP"
      }
    },
    {
      "cell_type": "code",
      "source": [
        "# reshape will change the shape of the array\n",
        "arr = np.arange(1, 13, dtype='f')\n",
        "print(arr)\n",
        "print(arr.shape)"
      ],
      "metadata": {
        "colab": {
          "base_uri": "https://localhost:8080/"
        },
        "id": "I7zfNIKUbBs_",
        "outputId": "9f81acc8-1baa-44c3-ed56-ef7bf281f07e"
      },
      "execution_count": 32,
      "outputs": [
        {
          "output_type": "stream",
          "name": "stdout",
          "text": [
            "[ 1.  2.  3.  4.  5.  6.  7.  8.  9. 10. 11. 12.]\n",
            "(12,)\n"
          ]
        }
      ]
    },
    {
      "cell_type": "code",
      "source": [
        "print(arr.reshape((6,2)))"
      ],
      "metadata": {
        "colab": {
          "base_uri": "https://localhost:8080/"
        },
        "id": "f1r2_tgKdtna",
        "outputId": "e0683762-bd83-4dfa-b3f8-1d20f3653ee3"
      },
      "execution_count": 33,
      "outputs": [
        {
          "output_type": "stream",
          "name": "stdout",
          "text": [
            "[[ 1.  2.]\n",
            " [ 3.  4.]\n",
            " [ 5.  6.]\n",
            " [ 7.  8.]\n",
            " [ 9. 10.]\n",
            " [11. 12.]]\n"
          ]
        }
      ]
    },
    {
      "cell_type": "code",
      "source": [
        "print(arr.reshape((3,4)))"
      ],
      "metadata": {
        "colab": {
          "base_uri": "https://localhost:8080/"
        },
        "id": "we_WLWrzd5dl",
        "outputId": "b6c41241-987a-4161-dca4-8f9e828b9e6f"
      },
      "execution_count": 34,
      "outputs": [
        {
          "output_type": "stream",
          "name": "stdout",
          "text": [
            "[[ 1.  2.  3.  4.]\n",
            " [ 5.  6.  7.  8.]\n",
            " [ 9. 10. 11. 12.]]\n"
          ]
        }
      ]
    },
    {
      "cell_type": "markdown",
      "source": [
        "## `flatten()`\n",
        "transforms an n-dimensional array into a one-dimensional array"
      ],
      "metadata": {
        "id": "CFV2ohSBeXOy"
      }
    },
    {
      "cell_type": "code",
      "source": [
        "arr = np.arange(1,10).reshape((3,3))\n",
        "print(arr)"
      ],
      "metadata": {
        "colab": {
          "base_uri": "https://localhost:8080/"
        },
        "id": "sAz9V1G6eHH3",
        "outputId": "ef46ca35-cb47-4fac-dd1d-7a6480a981fe"
      },
      "execution_count": 35,
      "outputs": [
        {
          "output_type": "stream",
          "name": "stdout",
          "text": [
            "[[1 2 3]\n",
            " [4 5 6]\n",
            " [7 8 9]]\n"
          ]
        }
      ]
    },
    {
      "cell_type": "code",
      "source": [
        "print(arr.flatten())"
      ],
      "metadata": {
        "colab": {
          "base_uri": "https://localhost:8080/"
        },
        "id": "hZkei4IXerIu",
        "outputId": "9ba35b83-ffff-4398-9abc-05b0cfc0bd9a"
      },
      "execution_count": 36,
      "outputs": [
        {
          "output_type": "stream",
          "name": "stdout",
          "text": [
            "[1 2 3 4 5 6 7 8 9]\n"
          ]
        }
      ]
    },
    {
      "cell_type": "code",
      "source": [
        "print(arr.flatten(order='F'))"
      ],
      "metadata": {
        "colab": {
          "base_uri": "https://localhost:8080/"
        },
        "id": "SNIc_Jd5e9V0",
        "outputId": "a87b3484-7fc8-47f4-c757-6b7c40779bc8"
      },
      "execution_count": 37,
      "outputs": [
        {
          "output_type": "stream",
          "name": "stdout",
          "text": [
            "[1 4 7 2 5 8 3 6 9]\n"
          ]
        }
      ]
    },
    {
      "cell_type": "markdown",
      "source": [
        "## `ravel()`\n",
        "Same as `flatten()` function. The `ravel()` function is faster than the `flatten()` function because it does not occupy **extra memory**."
      ],
      "metadata": {
        "id": "x16Fq6NmfVDs"
      }
    },
    {
      "cell_type": "code",
      "source": [
        "print(arr.ravel())"
      ],
      "metadata": {
        "colab": {
          "base_uri": "https://localhost:8080/"
        },
        "id": "WLvYzADsfBgD",
        "outputId": "d4114e79-1b2a-4d60-feb5-cf97451aaafc"
      },
      "execution_count": 38,
      "outputs": [
        {
          "output_type": "stream",
          "name": "stdout",
          "text": [
            "[1 2 3 4 5 6 7 8 9]\n"
          ]
        }
      ]
    },
    {
      "cell_type": "markdown",
      "source": [
        "## `transpose()`\n",
        "Linear algebraic function that transposes the given two-dimensional matrix."
      ],
      "metadata": {
        "id": "VC2XnLXyf67v"
      }
    },
    {
      "cell_type": "code",
      "source": [
        "print(arr.transpose())"
      ],
      "metadata": {
        "colab": {
          "base_uri": "https://localhost:8080/"
        },
        "id": "KJjdOGCUfpfk",
        "outputId": "3f595a83-77ce-4d45-95e9-a256dc5ede44"
      },
      "execution_count": 39,
      "outputs": [
        {
          "output_type": "stream",
          "name": "stdout",
          "text": [
            "[[1 4 7]\n",
            " [2 5 8]\n",
            " [3 6 9]]\n"
          ]
        }
      ]
    },
    {
      "cell_type": "code",
      "source": [
        "print(arr.T)"
      ],
      "metadata": {
        "colab": {
          "base_uri": "https://localhost:8080/"
        },
        "id": "8kjldDkJgHRi",
        "outputId": "082517fb-41d6-476b-988d-79c3864d75eb"
      },
      "execution_count": 40,
      "outputs": [
        {
          "output_type": "stream",
          "name": "stdout",
          "text": [
            "[[1 4 7]\n",
            " [2 5 8]\n",
            " [3 6 9]]\n"
          ]
        }
      ]
    },
    {
      "cell_type": "markdown",
      "source": [
        "## `resize()`\n",
        "Function that changes the size of the NumPy array. It is similar to\n",
        "`reshape()` but it changes the shape of the original array"
      ],
      "metadata": {
        "id": "2OihQyoAgUo8"
      }
    },
    {
      "cell_type": "code",
      "source": [
        "arr"
      ],
      "metadata": {
        "colab": {
          "base_uri": "https://localhost:8080/"
        },
        "id": "67MUGSpkgJg-",
        "outputId": "c1bee91c-0031-432a-b47b-7205cf7b342b"
      },
      "execution_count": 41,
      "outputs": [
        {
          "output_type": "execute_result",
          "data": {
            "text/plain": [
              "array([[1, 2, 3],\n",
              "       [4, 5, 6],\n",
              "       [7, 8, 9]])"
            ]
          },
          "metadata": {},
          "execution_count": 41
        }
      ]
    },
    {
      "cell_type": "code",
      "source": [
        "arr.resize((1,9))\n",
        "print(arr)"
      ],
      "metadata": {
        "colab": {
          "base_uri": "https://localhost:8080/"
        },
        "id": "DTIfx506gjka",
        "outputId": "88f1f9b2-12e2-4adc-cddf-428eb86cc3c6"
      },
      "execution_count": 42,
      "outputs": [
        {
          "output_type": "stream",
          "name": "stdout",
          "text": [
            "[[1 2 3 4 5 6 7 8 9]]\n"
          ]
        }
      ]
    },
    {
      "cell_type": "markdown",
      "source": [
        "---\n",
        "# Stacking of Numpy arrays\n",
        "---\n",
        "Stacking means joining the same dimensional arrays along with a new axis. Stacking can be done horizontally, vertically, column-wise, row-wise, or depth-wise."
      ],
      "metadata": {
        "id": "3OJD3ek3lFkz"
      }
    },
    {
      "cell_type": "markdown",
      "source": [
        "## Horizontal stacking:\n",
        "In horizontal stacking, the same dimensional arrays are joined along with a horizontal axis using the `hstack()` and `concatenate()`\n",
        "functions."
      ],
      "metadata": {
        "id": "DSVvyGSBluxc"
      }
    },
    {
      "cell_type": "code",
      "source": [
        "arr1 = np.arange(1, 10).reshape(3, 3)\n",
        "print(arr1)"
      ],
      "metadata": {
        "colab": {
          "base_uri": "https://localhost:8080/"
        },
        "id": "s7gHGf4Jgu-H",
        "outputId": "40bd2e44-6838-4a76-e685-ccd0553c2903"
      },
      "execution_count": 43,
      "outputs": [
        {
          "output_type": "stream",
          "name": "stdout",
          "text": [
            "[[1 2 3]\n",
            " [4 5 6]\n",
            " [7 8 9]]\n"
          ]
        }
      ]
    },
    {
      "cell_type": "code",
      "source": [
        "arr2 = 1.5 * arr1\n",
        "print(arr2)"
      ],
      "metadata": {
        "colab": {
          "base_uri": "https://localhost:8080/"
        },
        "id": "gyKEcnshmJjW",
        "outputId": "464d5b52-8d33-4655-cd54-88c3a5157b16"
      },
      "execution_count": 44,
      "outputs": [
        {
          "output_type": "stream",
          "name": "stdout",
          "text": [
            "[[ 1.5  3.   4.5]\n",
            " [ 6.   7.5  9. ]\n",
            " [10.5 12.  13.5]]\n"
          ]
        }
      ]
    },
    {
      "cell_type": "code",
      "source": [
        "# Horizontal Stacking\n",
        "arr3 = np.hstack((arr1, arr2))\n",
        "print(arr3)"
      ],
      "metadata": {
        "colab": {
          "base_uri": "https://localhost:8080/"
        },
        "id": "cdbhLGltmUtO",
        "outputId": "9f200893-26ca-4898-f231-b237129d28f5"
      },
      "execution_count": 45,
      "outputs": [
        {
          "output_type": "stream",
          "name": "stdout",
          "text": [
            "[[ 1.   2.   3.   1.5  3.   4.5]\n",
            " [ 4.   5.   6.   6.   7.5  9. ]\n",
            " [ 7.   8.   9.  10.5 12.  13.5]]\n"
          ]
        }
      ]
    },
    {
      "cell_type": "code",
      "source": [
        "arr4 = np.random.randint(10,size=15).reshape((3,5))\n",
        "arr4"
      ],
      "metadata": {
        "colab": {
          "base_uri": "https://localhost:8080/"
        },
        "id": "DOehmrsYmk0o",
        "outputId": "6fbf10c6-f8f6-4b5e-94f0-7c1cbd0269c3"
      },
      "execution_count": 46,
      "outputs": [
        {
          "output_type": "execute_result",
          "data": {
            "text/plain": [
              "array([[8, 3, 0, 5, 1],\n",
              "       [4, 0, 8, 3, 3],\n",
              "       [7, 7, 6, 6, 3]])"
            ]
          },
          "metadata": {},
          "execution_count": 46
        }
      ]
    },
    {
      "cell_type": "code",
      "source": [
        "z = np.hstack((arr1, arr4))\n",
        "z"
      ],
      "metadata": {
        "colab": {
          "base_uri": "https://localhost:8080/"
        },
        "id": "gnZmJQd7m9oz",
        "outputId": "b68b4f6e-ebb3-4af6-f774-ab412869f2a1"
      },
      "execution_count": 47,
      "outputs": [
        {
          "output_type": "execute_result",
          "data": {
            "text/plain": [
              "array([[1, 2, 3, 8, 3, 0, 5, 1],\n",
              "       [4, 5, 6, 4, 0, 8, 3, 3],\n",
              "       [7, 8, 9, 7, 7, 6, 6, 3]])"
            ]
          },
          "metadata": {},
          "execution_count": 47
        }
      ]
    },
    {
      "cell_type": "code",
      "source": [
        "# horizontaly concatenate()\n",
        "arr5 = np.concatenate((arr1, arr2), axis=1)\n",
        "arr5"
      ],
      "metadata": {
        "colab": {
          "base_uri": "https://localhost:8080/"
        },
        "id": "su9fjCWyoujB",
        "outputId": "7853a39b-dfd1-43aa-9cff-39d453fab041"
      },
      "execution_count": 48,
      "outputs": [
        {
          "output_type": "execute_result",
          "data": {
            "text/plain": [
              "array([[ 1. ,  2. ,  3. ,  1.5,  3. ,  4.5],\n",
              "       [ 4. ,  5. ,  6. ,  6. ,  7.5,  9. ],\n",
              "       [ 7. ,  8. ,  9. , 10.5, 12. , 13.5]])"
            ]
          },
          "metadata": {},
          "execution_count": 48
        }
      ]
    },
    {
      "cell_type": "markdown",
      "source": [
        "## Vertical stacking: \n",
        "In vertical stacking, the same dimensional arrays are joined along with a vertical axis using the `vstack()` and `concatenate()` functions."
      ],
      "metadata": {
        "id": "wip_U1dgppQ1"
      }
    },
    {
      "cell_type": "code",
      "source": [
        "print(arr1)\n",
        "print(arr2)\n",
        "print(arr4)"
      ],
      "metadata": {
        "colab": {
          "base_uri": "https://localhost:8080/"
        },
        "id": "zOaok8zCpdh2",
        "outputId": "701c7b5a-c274-4bdc-a701-9c796e9e0f0b"
      },
      "execution_count": 49,
      "outputs": [
        {
          "output_type": "stream",
          "name": "stdout",
          "text": [
            "[[1 2 3]\n",
            " [4 5 6]\n",
            " [7 8 9]]\n",
            "[[ 1.5  3.   4.5]\n",
            " [ 6.   7.5  9. ]\n",
            " [10.5 12.  13.5]]\n",
            "[[8 3 0 5 1]\n",
            " [4 0 8 3 3]\n",
            " [7 7 6 6 3]]\n"
          ]
        }
      ]
    },
    {
      "cell_type": "code",
      "source": [
        "v = np.vstack((arr1, arr2))\n",
        "print(v)"
      ],
      "metadata": {
        "colab": {
          "base_uri": "https://localhost:8080/"
        },
        "id": "1JKXkXYfp_Rg",
        "outputId": "55ac44b5-8236-46a7-8f27-fef4f3f66a70"
      },
      "execution_count": 50,
      "outputs": [
        {
          "output_type": "stream",
          "name": "stdout",
          "text": [
            "[[ 1.   2.   3. ]\n",
            " [ 4.   5.   6. ]\n",
            " [ 7.   8.   9. ]\n",
            " [ 1.5  3.   4.5]\n",
            " [ 6.   7.5  9. ]\n",
            " [10.5 12.  13.5]]\n"
          ]
        }
      ]
    },
    {
      "cell_type": "code",
      "source": [
        "v = np.concatenate((arr1, arr2), axis=0)\n",
        "print(v)"
      ],
      "metadata": {
        "colab": {
          "base_uri": "https://localhost:8080/"
        },
        "id": "Gn_SmJ6rqOz_",
        "outputId": "af6edfaa-4fe6-4aa0-c08b-afa4caef76e0"
      },
      "execution_count": 51,
      "outputs": [
        {
          "output_type": "stream",
          "name": "stdout",
          "text": [
            "[[ 1.   2.   3. ]\n",
            " [ 4.   5.   6. ]\n",
            " [ 7.   8.   9. ]\n",
            " [ 1.5  3.   4.5]\n",
            " [ 6.   7.5  9. ]\n",
            " [10.5 12.  13.5]]\n"
          ]
        }
      ]
    },
    {
      "cell_type": "code",
      "source": [
        "a = arr4.reshape((5,3))\n",
        "print(arr4)\n",
        "print(a)\n"
      ],
      "metadata": {
        "colab": {
          "base_uri": "https://localhost:8080/"
        },
        "id": "NPpSm0mcqb_u",
        "outputId": "90c4f8a8-a6ba-440e-bfc9-62a000281acc"
      },
      "execution_count": 52,
      "outputs": [
        {
          "output_type": "stream",
          "name": "stdout",
          "text": [
            "[[8 3 0 5 1]\n",
            " [4 0 8 3 3]\n",
            " [7 7 6 6 3]]\n",
            "[[8 3 0]\n",
            " [5 1 4]\n",
            " [0 8 3]\n",
            " [3 7 7]\n",
            " [6 6 3]]\n"
          ]
        }
      ]
    },
    {
      "cell_type": "code",
      "source": [
        "vv = np.vstack((arr2, a))\n",
        "print(vv)"
      ],
      "metadata": {
        "colab": {
          "base_uri": "https://localhost:8080/"
        },
        "id": "4IShsz4rqxj_",
        "outputId": "c9f3b493-5952-4858-d349-330204474503"
      },
      "execution_count": 53,
      "outputs": [
        {
          "output_type": "stream",
          "name": "stdout",
          "text": [
            "[[ 1.5  3.   4.5]\n",
            " [ 6.   7.5  9. ]\n",
            " [10.5 12.  13.5]\n",
            " [ 8.   3.   0. ]\n",
            " [ 5.   1.   4. ]\n",
            " [ 0.   8.   3. ]\n",
            " [ 3.   7.   7. ]\n",
            " [ 6.   6.   3. ]]\n"
          ]
        }
      ]
    },
    {
      "cell_type": "markdown",
      "source": [
        "## Depth stacking: \n",
        "In depth stacking, the same dimensional arrays are joined along with a third axis (depth) using the `dstack()` function."
      ],
      "metadata": {
        "id": "P4T9qJRIropP"
      }
    },
    {
      "cell_type": "code",
      "source": [
        "print(arr1)\n",
        "print()\n",
        "print(arr2)"
      ],
      "metadata": {
        "colab": {
          "base_uri": "https://localhost:8080/"
        },
        "id": "8Iy28h_mr7iR",
        "outputId": "e2dc4335-c608-4e60-da9d-648bc360d82d"
      },
      "execution_count": 54,
      "outputs": [
        {
          "output_type": "stream",
          "name": "stdout",
          "text": [
            "[[1 2 3]\n",
            " [4 5 6]\n",
            " [7 8 9]]\n",
            "\n",
            "[[ 1.5  3.   4.5]\n",
            " [ 6.   7.5  9. ]\n",
            " [10.5 12.  13.5]]\n"
          ]
        }
      ]
    },
    {
      "cell_type": "code",
      "source": [
        "arr7 = np.dstack((arr1, arr2)) # arr1 and arr2 should have the same dim\n",
        "print(arr7)"
      ],
      "metadata": {
        "colab": {
          "base_uri": "https://localhost:8080/"
        },
        "id": "c5m-d9mbrZJq",
        "outputId": "8d9ad58e-965c-4a10-d986-568528ed4882"
      },
      "execution_count": 55,
      "outputs": [
        {
          "output_type": "stream",
          "name": "stdout",
          "text": [
            "[[[ 1.   1.5]\n",
            "  [ 2.   3. ]\n",
            "  [ 3.   4.5]]\n",
            "\n",
            " [[ 4.   6. ]\n",
            "  [ 5.   7.5]\n",
            "  [ 6.   9. ]]\n",
            "\n",
            " [[ 7.  10.5]\n",
            "  [ 8.  12. ]\n",
            "  [ 9.  13.5]]]\n"
          ]
        }
      ]
    },
    {
      "cell_type": "markdown",
      "source": [
        "## Column stacking: \n",
        "Column stacking stacks multiple sequence one-dimensional arrays as columns into a single two-dimensional array."
      ],
      "metadata": {
        "id": "6Csy2_bdtTRO"
      }
    },
    {
      "cell_type": "code",
      "source": [
        "arr1 = np.random.randint(5, size=5)\n",
        "print(arr1)\n",
        "print()\n",
        "arr2 = np.random.randint(20, size=5)\n",
        "print(arr2)"
      ],
      "metadata": {
        "colab": {
          "base_uri": "https://localhost:8080/"
        },
        "id": "uXQwpkKesVd4",
        "outputId": "2112cc6e-464b-41b7-ad7e-3242935d9a96"
      },
      "execution_count": 56,
      "outputs": [
        {
          "output_type": "stream",
          "name": "stdout",
          "text": [
            "[1 2 3 2 4]\n",
            "\n",
            "[ 0 18 19 12 12]\n"
          ]
        }
      ]
    },
    {
      "cell_type": "code",
      "source": [
        "cs = np.column_stack((arr1, arr2))\n",
        "print(cs)"
      ],
      "metadata": {
        "colab": {
          "base_uri": "https://localhost:8080/"
        },
        "id": "ND0vpshht3BA",
        "outputId": "45e0cb77-cbf0-469f-ee7b-c55ade7c70d7"
      },
      "execution_count": 57,
      "outputs": [
        {
          "output_type": "stream",
          "name": "stdout",
          "text": [
            "[[ 1  0]\n",
            " [ 2 18]\n",
            " [ 3 19]\n",
            " [ 2 12]\n",
            " [ 4 12]]\n"
          ]
        }
      ]
    },
    {
      "cell_type": "markdown",
      "source": [
        "## Row stacking: \n",
        "Row stacking stacks multiple sequence one-dimensional arrays as rows into a single two-dimensional arrays. "
      ],
      "metadata": {
        "id": "dN4zbDoIuZMo"
      }
    },
    {
      "cell_type": "code",
      "source": [
        "rs = np.row_stack((arr1, arr2))\n",
        "print(rs)"
      ],
      "metadata": {
        "colab": {
          "base_uri": "https://localhost:8080/"
        },
        "id": "yc9MjiI_uAk7",
        "outputId": "c4d06129-bed1-4781-8cfd-5366066e81f3"
      },
      "execution_count": 58,
      "outputs": [
        {
          "output_type": "stream",
          "name": "stdout",
          "text": [
            "[[ 1  2  3  2  4]\n",
            " [ 0 18 19 12 12]]\n"
          ]
        }
      ]
    },
    {
      "cell_type": "markdown",
      "source": [
        "---\n",
        "# Partitioning Numpy Array\n",
        "---\n",
        "NumPy arrays can be partitioned into multiple sub-arrays.  \n",
        "NumPy offers three types of split functionality: vertical, horizontal, and depth-wise. All the split functions by default split into the same size arrays but we can also specify the split location."
      ],
      "metadata": {
        "id": "aKxWGQWTvXYp"
      }
    },
    {
      "cell_type": "code",
      "source": [
        "# Create an array\n",
        "arr1 = np.random.randint(10, size=9).reshape(3,3)\n",
        "print(arr1)"
      ],
      "metadata": {
        "colab": {
          "base_uri": "https://localhost:8080/"
        },
        "id": "dIb7ETdVuk8S",
        "outputId": "a246a3ac-4706-47e0-a237-921e600b3f3c"
      },
      "execution_count": 59,
      "outputs": [
        {
          "output_type": "stream",
          "name": "stdout",
          "text": [
            "[[3 8 1]\n",
            " [1 2 3]\n",
            " [6 4 0]]\n"
          ]
        }
      ]
    },
    {
      "cell_type": "code",
      "source": [
        "# Peroform horizontal splitting\n",
        "arr_hor_split = np.hsplit(arr1, 3)\n",
        "print(arr_hor_split)"
      ],
      "metadata": {
        "colab": {
          "base_uri": "https://localhost:8080/"
        },
        "id": "aXqKgJa8w0Xb",
        "outputId": "083e73bd-0f42-4d39-e14e-e80a6c005800"
      },
      "execution_count": 60,
      "outputs": [
        {
          "output_type": "stream",
          "name": "stdout",
          "text": [
            "[array([[3],\n",
            "       [1],\n",
            "       [6]]), array([[8],\n",
            "       [2],\n",
            "       [4]]), array([[1],\n",
            "       [3],\n",
            "       [0]])]\n"
          ]
        }
      ]
    },
    {
      "cell_type": "code",
      "source": [
        "a1, a2, a3 = arr_hor_split\n",
        "print(a1)\n",
        "print()\n",
        "print(a2)\n",
        "print()\n",
        "print(a3)"
      ],
      "metadata": {
        "colab": {
          "base_uri": "https://localhost:8080/"
        },
        "id": "96uQryOcxOWJ",
        "outputId": "13caae0d-8723-4edb-9075-136ad46d0694"
      },
      "execution_count": 61,
      "outputs": [
        {
          "output_type": "stream",
          "name": "stdout",
          "text": [
            "[[3]\n",
            " [1]\n",
            " [6]]\n",
            "\n",
            "[[8]\n",
            " [2]\n",
            " [4]]\n",
            "\n",
            "[[1]\n",
            " [3]\n",
            " [0]]\n"
          ]
        }
      ]
    },
    {
      "cell_type": "code",
      "source": [
        "a_h_s = np.split(arr1, 3, axis=1)\n",
        "print(a_h_s)"
      ],
      "metadata": {
        "colab": {
          "base_uri": "https://localhost:8080/"
        },
        "id": "Nopd4eF3xZlf",
        "outputId": "8e32c1c7-152a-4488-d7f6-5edf254b87b6"
      },
      "execution_count": 62,
      "outputs": [
        {
          "output_type": "stream",
          "name": "stdout",
          "text": [
            "[array([[3],\n",
            "       [1],\n",
            "       [6]]), array([[8],\n",
            "       [2],\n",
            "       [4]]), array([[1],\n",
            "       [3],\n",
            "       [0]])]\n"
          ]
        }
      ]
    },
    {
      "cell_type": "markdown",
      "source": [
        "## Vertical splitting: \n",
        "In vertical split, the given array is divided into **N equal** subarrays along the vertical axis using the `vsplit()` and `split()` functions. The\n",
        "split function with *axis=0* performs the same operation as the `vsplit()`\n",
        "function"
      ],
      "metadata": {
        "id": "BzJYZy_nx7up"
      }
    },
    {
      "cell_type": "code",
      "source": [
        "# vertical split\n",
        "arr_ver_split = np.vsplit(arr1, 3)\n",
        "print(arr_ver_split)"
      ],
      "metadata": {
        "colab": {
          "base_uri": "https://localhost:8080/"
        },
        "id": "wuVO4i0hx13H",
        "outputId": "173bb115-d4c7-4064-9ca5-ddafb5d219a6"
      },
      "execution_count": 63,
      "outputs": [
        {
          "output_type": "stream",
          "name": "stdout",
          "text": [
            "[array([[3, 8, 1]]), array([[1, 2, 3]]), array([[6, 4, 0]])]\n"
          ]
        }
      ]
    },
    {
      "cell_type": "code",
      "source": [
        "a_v_s = np.split(arr1, 3, 0)\n",
        "print(a_v_s)"
      ],
      "metadata": {
        "colab": {
          "base_uri": "https://localhost:8080/"
        },
        "id": "Yihgo-AhyZKq",
        "outputId": "cec2e94d-ebdd-436c-8f0d-747785ec9b6c"
      },
      "execution_count": 64,
      "outputs": [
        {
          "output_type": "stream",
          "name": "stdout",
          "text": [
            "[array([[3, 8, 1]]), array([[1, 2, 3]]), array([[6, 4, 0]])]\n"
          ]
        }
      ]
    },
    {
      "cell_type": "markdown",
      "source": [
        "---\n",
        "# Changing Datatype of NumPy Arrays\n",
        "---\n",
        "The `astype()` function converts the data type of the array."
      ],
      "metadata": {
        "id": "pJC5Mz2UzYF4"
      }
    },
    {
      "cell_type": "code",
      "source": [
        "# Create an array\n",
        "arr = np.arange(1, 10).reshape(3, 3)\n",
        "print(f'Integer Array: \\n {arr}')\n",
        "print()\n",
        "print(f'Type of array: {arr.dtype}')"
      ],
      "metadata": {
        "colab": {
          "base_uri": "https://localhost:8080/"
        },
        "id": "g5i-n89Qypmx",
        "outputId": "12f30dcb-d2c2-4cc6-ffac-0051861c6c43"
      },
      "execution_count": 65,
      "outputs": [
        {
          "output_type": "stream",
          "name": "stdout",
          "text": [
            "Integer Array: \n",
            " [[1 2 3]\n",
            " [4 5 6]\n",
            " [7 8 9]]\n",
            "\n",
            "Type of array: int64\n"
          ]
        }
      ]
    },
    {
      "cell_type": "code",
      "source": [
        "# change the datatype of array\n",
        "arr = arr.astype(dtype='d')\n",
        "print(arr)\n",
        "print()\n",
        "print(f'new type of array: {arr.dtype}')"
      ],
      "metadata": {
        "colab": {
          "base_uri": "https://localhost:8080/"
        },
        "id": "BLuFgv-M1EGP",
        "outputId": "851cd778-cc05-42e0-8638-746fb78351d9"
      },
      "execution_count": 66,
      "outputs": [
        {
          "output_type": "stream",
          "name": "stdout",
          "text": [
            "[[1. 2. 3.]\n",
            " [4. 5. 6.]\n",
            " [7. 8. 9.]]\n",
            "\n",
            "new type of array: float64\n"
          ]
        }
      ]
    },
    {
      "cell_type": "markdown",
      "source": [
        "## `tolist`\n",
        "From numpy array to puthon list."
      ],
      "metadata": {
        "id": "-Q_UcB-c2isj"
      }
    },
    {
      "cell_type": "code",
      "source": [
        "# create an array\n",
        "arr = np.random.randint(100, size=10)\n",
        "print(arr)\n",
        "print(arr.dtype.type)"
      ],
      "metadata": {
        "colab": {
          "base_uri": "https://localhost:8080/"
        },
        "id": "yusBMA2M2M_r",
        "outputId": "e3c60e6a-974b-4dbe-fd0c-088afde2dfa1"
      },
      "execution_count": 67,
      "outputs": [
        {
          "output_type": "stream",
          "name": "stdout",
          "text": [
            "[63 75  2 78 89 89 43 61 18 22]\n",
            "<class 'numpy.int64'>\n"
          ]
        }
      ]
    },
    {
      "cell_type": "code",
      "source": [
        "# Convert NumPy array to Python List\n",
        "lst1 = arr.tolist()\n",
        "print(lst1)\n",
        "print(type(lst1))"
      ],
      "metadata": {
        "colab": {
          "base_uri": "https://localhost:8080/"
        },
        "id": "IQ50yTj028_a",
        "outputId": "b3bad333-c939-4ca5-e0bd-4cd83e95b47b"
      },
      "execution_count": 68,
      "outputs": [
        {
          "output_type": "stream",
          "name": "stdout",
          "text": [
            "[63, 75, 2, 78, 89, 89, 43, 61, 18, 22]\n",
            "<class 'list'>\n"
          ]
        }
      ]
    },
    {
      "cell_type": "markdown",
      "source": [
        "---\n",
        "# Creating NumPy views and copies\n",
        "---\n",
        "copies --> deep copy\n",
        "views --> shallow copy\n",
        "\n",
        "-  Modifications in a view affect the original data whereas modifications in a copy\n",
        "do not affect the original array.\n",
        "-  Views use the concept of shared memory.\n",
        "-  Copies require extra space compared to views.\n",
        "-  Copies are slower than views."
      ],
      "metadata": {
        "id": "iYZ_RQd54JIV"
      }
    },
    {
      "cell_type": "code",
      "source": [
        "arr = [\n",
        "       [5, 10, 15],\n",
        "       [6, 12, 18],\n",
        "       [7, 14, 21]\n",
        "]\n",
        "arr = np.array(arr)\n",
        "print(arr)"
      ],
      "metadata": {
        "colab": {
          "base_uri": "https://localhost:8080/"
        },
        "id": "P9ThciUZ3IiD",
        "outputId": "07287e35-d113-4ef3-8da0-854efaa4d8bd"
      },
      "execution_count": 69,
      "outputs": [
        {
          "output_type": "stream",
          "name": "stdout",
          "text": [
            "[[ 5 10 15]\n",
            " [ 6 12 18]\n",
            " [ 7 14 21]]\n"
          ]
        }
      ]
    },
    {
      "cell_type": "code",
      "source": [
        "# Create no copy only assignment\n",
        "arr_no_copy = arr "
      ],
      "metadata": {
        "id": "Q5yTELzr7AEG"
      },
      "execution_count": 70,
      "outputs": []
    },
    {
      "cell_type": "code",
      "source": [
        "# Create Deep Copy\n",
        "arr_copy = arr.copy()"
      ],
      "metadata": {
        "id": "-BknprLv7HQ1"
      },
      "execution_count": 71,
      "outputs": []
    },
    {
      "cell_type": "code",
      "source": [
        "# Create shallow copy using View\n",
        "arr_view = arr.view()"
      ],
      "metadata": {
        "id": "qZUtzov07KdI"
      },
      "execution_count": 72,
      "outputs": []
    },
    {
      "cell_type": "code",
      "source": [
        "print(\"Original Array: \",id(arr))\n",
        "print(\"Assignment: \",id(arr_no_copy))\n",
        "print(\"Deep Copy: \",id(arr_copy))\n",
        "print(\"Shallow Copy(View): \",id(arr_view))"
      ],
      "metadata": {
        "colab": {
          "base_uri": "https://localhost:8080/"
        },
        "id": "Z8U9uCtn7ThA",
        "outputId": "d68641a5-f10c-4e4d-deed-4857b4b4ed4e"
      },
      "execution_count": 73,
      "outputs": [
        {
          "output_type": "stream",
          "name": "stdout",
          "text": [
            "Original Array:  140450145640320\n",
            "Assignment:  140450145640320\n",
            "Deep Copy:  140450145607312\n",
            "Shallow Copy(View):  140450146071456\n"
          ]
        }
      ]
    },
    {
      "cell_type": "code",
      "source": [
        "arr[-1] = [10, 10, 10]\n",
        "print(arr)"
      ],
      "metadata": {
        "colab": {
          "base_uri": "https://localhost:8080/"
        },
        "id": "UmLGbENr7kpQ",
        "outputId": "0eab4dbb-398c-4b0f-9e02-5811b2ef9c1c"
      },
      "execution_count": 74,
      "outputs": [
        {
          "output_type": "stream",
          "name": "stdout",
          "text": [
            "[[ 5 10 15]\n",
            " [ 6 12 18]\n",
            " [10 10 10]]\n"
          ]
        }
      ]
    },
    {
      "cell_type": "code",
      "source": [
        "# Check values of array view\n",
        "print(\"View Array:\\n\", arr_view)"
      ],
      "metadata": {
        "colab": {
          "base_uri": "https://localhost:8080/"
        },
        "id": "YJ5E7w-z71bs",
        "outputId": "4a29bf5d-a6ae-46e5-d87f-347abb24f248"
      },
      "execution_count": 75,
      "outputs": [
        {
          "output_type": "stream",
          "name": "stdout",
          "text": [
            "View Array:\n",
            " [[ 5 10 15]\n",
            " [ 6 12 18]\n",
            " [10 10 10]]\n"
          ]
        }
      ]
    },
    {
      "cell_type": "code",
      "source": [
        "# Check values of array copy\n",
        "print(\"Copied Array:\\n\", arr_copy)"
      ],
      "metadata": {
        "colab": {
          "base_uri": "https://localhost:8080/"
        },
        "id": "O24PJrqi8QwN",
        "outputId": "2a9bf1f5-9e27-40e2-befb-69fa6b05b47a"
      },
      "execution_count": 76,
      "outputs": [
        {
          "output_type": "stream",
          "name": "stdout",
          "text": [
            "Copied Array:\n",
            " [[ 5 10 15]\n",
            " [ 6 12 18]\n",
            " [ 7 14 21]]\n"
          ]
        }
      ]
    },
    {
      "cell_type": "markdown",
      "source": [
        "---\n",
        "# Slicing NumPy arrays\n",
        "---\n"
      ],
      "metadata": {
        "id": "WclwbTu-__II"
      }
    },
    {
      "cell_type": "code",
      "source": [
        "# Create NumPy Array\n",
        "arr = np.arange(10) \n",
        "print(arr)"
      ],
      "metadata": {
        "colab": {
          "base_uri": "https://localhost:8080/"
        },
        "id": "MkODS51M8Uw0",
        "outputId": "5ddabb5f-c5a5-4a6d-eb68-f8b0ac135ad0"
      },
      "execution_count": 77,
      "outputs": [
        {
          "output_type": "stream",
          "name": "stdout",
          "text": [
            "[0 1 2 3 4 5 6 7 8 9]\n"
          ]
        }
      ]
    },
    {
      "cell_type": "code",
      "source": [
        "print(arr[3:6])"
      ],
      "metadata": {
        "colab": {
          "base_uri": "https://localhost:8080/"
        },
        "id": "BZEiIW6XBQuH",
        "outputId": "d0b3bc32-0ef2-4752-d4d2-0394f50f233d"
      },
      "execution_count": 78,
      "outputs": [
        {
          "output_type": "stream",
          "name": "stdout",
          "text": [
            "[3 4 5]\n"
          ]
        }
      ]
    },
    {
      "cell_type": "code",
      "source": [
        "print(arr[3:])"
      ],
      "metadata": {
        "colab": {
          "base_uri": "https://localhost:8080/"
        },
        "id": "fSSjLpogBUnJ",
        "outputId": "a5f1f4cf-5d4e-4da0-ee69-11a0a596bd87"
      },
      "execution_count": 79,
      "outputs": [
        {
          "output_type": "stream",
          "name": "stdout",
          "text": [
            "[3 4 5 6 7 8 9]\n"
          ]
        }
      ]
    },
    {
      "cell_type": "code",
      "source": [
        "print(arr[-3:])"
      ],
      "metadata": {
        "colab": {
          "base_uri": "https://localhost:8080/"
        },
        "id": "gktjM3NdBZYM",
        "outputId": "a461a397-4329-4013-c5f5-dbfa8dd816a1"
      },
      "execution_count": 80,
      "outputs": [
        {
          "output_type": "stream",
          "name": "stdout",
          "text": [
            "[7 8 9]\n"
          ]
        }
      ]
    },
    {
      "cell_type": "code",
      "source": [
        "print(arr[2:7:2])"
      ],
      "metadata": {
        "colab": {
          "base_uri": "https://localhost:8080/"
        },
        "id": "xfVFil5LBeju",
        "outputId": "444e0270-0fc5-40d2-ec1b-dd79c4d18d96"
      },
      "execution_count": 81,
      "outputs": [
        {
          "output_type": "stream",
          "name": "stdout",
          "text": [
            "[2 4 6]\n"
          ]
        }
      ]
    },
    {
      "cell_type": "markdown",
      "source": [
        "---\n",
        "# Boolean and fancy indexing\n",
        "---\n",
        "Indexing techniques help us to select and filter elements from a NumPy array.  \n",
        "Boolean indexing uses a Boolean expression in the place of indexes (in square brackets) to filter the NumPy array. This indexing returns elements that have a true value for the Boolean expression"
      ],
      "metadata": {
        "id": "Pr9DLJ_CB7Be"
      }
    },
    {
      "cell_type": "code",
      "source": [
        "# create numpy array:\n",
        "arr = np.arange(11, 41, 3)\n",
        "print(arr)"
      ],
      "metadata": {
        "colab": {
          "base_uri": "https://localhost:8080/"
        },
        "id": "VaEK7-leBi-R",
        "outputId": "17fbd4c0-6bf9-4bc3-8da3-32632d4e69c2"
      },
      "execution_count": 82,
      "outputs": [
        {
          "output_type": "stream",
          "name": "stdout",
          "text": [
            "[11 14 17 20 23 26 29 32 35 38]\n"
          ]
        }
      ]
    },
    {
      "cell_type": "code",
      "source": [
        "# create a filter to choice (value > 24) in array arr\n",
        "filter = (arr > 24)"
      ],
      "metadata": {
        "id": "UkQokAwvDako"
      },
      "execution_count": 83,
      "outputs": []
    },
    {
      "cell_type": "code",
      "source": [
        "# display arr with filter condition \n",
        "print(arr[filter])"
      ],
      "metadata": {
        "colab": {
          "base_uri": "https://localhost:8080/"
        },
        "id": "tVPtVNIRDyy8",
        "outputId": "e3cbd15b-be85-4cbe-cfe2-6dc20e84f943"
      },
      "execution_count": 84,
      "outputs": [
        {
          "output_type": "stream",
          "name": "stdout",
          "text": [
            "[26 29 32 35 38]\n"
          ]
        }
      ]
    },
    {
      "cell_type": "code",
      "source": [
        "filter = ((arr > 24) & (arr % 2 == 0))\n",
        "print(arr[filter])"
      ],
      "metadata": {
        "colab": {
          "base_uri": "https://localhost:8080/"
        },
        "id": "JNIH8FfCD9Vp",
        "outputId": "e30b9660-6e65-4ce9-e422-ecb1c89faddd"
      },
      "execution_count": 85,
      "outputs": [
        {
          "output_type": "stream",
          "name": "stdout",
          "text": [
            "[26 32 38]\n"
          ]
        }
      ]
    },
    {
      "cell_type": "markdown",
      "source": [
        "## Fancy indexing:\n",
        "Special type of indexing in which elements of an array are selected by an array of indices."
      ],
      "metadata": {
        "id": "B28ASwWpFqTX"
      }
    },
    {
      "cell_type": "code",
      "source": [
        "arr = np.random.randint(20, size=20).reshape(4, 5)\n",
        "print(arr)"
      ],
      "metadata": {
        "colab": {
          "base_uri": "https://localhost:8080/"
        },
        "id": "vbt0orjHEz4T",
        "outputId": "2dd31a46-4d05-4bad-ede3-15974109bfe4"
      },
      "execution_count": 86,
      "outputs": [
        {
          "output_type": "stream",
          "name": "stdout",
          "text": [
            "[[15 16  4  3  2]\n",
            " [ 9 19  7  6 13]\n",
            " [ 5  5  5  4  2]\n",
            " [ 3 11  1  8 19]]\n"
          ]
        }
      ]
    },
    {
      "cell_type": "code",
      "source": [
        "arr[[0, 2]]"
      ],
      "metadata": {
        "colab": {
          "base_uri": "https://localhost:8080/"
        },
        "id": "eT5yH2M3GDUK",
        "outputId": "1b00ae11-1764-48a0-8adc-d0c0c6c8b075"
      },
      "execution_count": 87,
      "outputs": [
        {
          "output_type": "execute_result",
          "data": {
            "text/plain": [
              "array([[15, 16,  4,  3,  2],\n",
              "       [ 5,  5,  5,  4,  2]])"
            ]
          },
          "metadata": {},
          "execution_count": 87
        }
      ]
    },
    {
      "cell_type": "code",
      "source": [
        "arr[[0, 2], ::2]"
      ],
      "metadata": {
        "colab": {
          "base_uri": "https://localhost:8080/"
        },
        "id": "_lbfu40nGJFE",
        "outputId": "af99026d-3af6-4060-9cdb-4dbbfd83a0f5"
      },
      "execution_count": 88,
      "outputs": [
        {
          "output_type": "execute_result",
          "data": {
            "text/plain": [
              "array([[15,  4,  2],\n",
              "       [ 5,  5,  2]])"
            ]
          },
          "metadata": {},
          "execution_count": 88
        }
      ]
    },
    {
      "cell_type": "code",
      "source": [
        "arr[:-1, [0,1]]"
      ],
      "metadata": {
        "colab": {
          "base_uri": "https://localhost:8080/"
        },
        "id": "K6uQ5-ZjGkYC",
        "outputId": "6f41c86d-65a4-4a0d-cfcf-9e3f47cbdea3"
      },
      "execution_count": 89,
      "outputs": [
        {
          "output_type": "execute_result",
          "data": {
            "text/plain": [
              "array([[15, 16],\n",
              "       [ 9, 19],\n",
              "       [ 5,  5]])"
            ]
          },
          "metadata": {},
          "execution_count": 89
        }
      ]
    },
    {
      "cell_type": "code",
      "source": [
        "print(arr)"
      ],
      "metadata": {
        "colab": {
          "base_uri": "https://localhost:8080/"
        },
        "id": "9IQRByFTG7dw",
        "outputId": "866c6a5b-f952-4bd5-a46a-b12a90cd21a6"
      },
      "execution_count": 90,
      "outputs": [
        {
          "output_type": "stream",
          "name": "stdout",
          "text": [
            "[[15 16  4  3  2]\n",
            " [ 9 19  7  6 13]\n",
            " [ 5  5  5  4  2]\n",
            " [ 3 11  1  8 19]]\n"
          ]
        }
      ]
    },
    {
      "cell_type": "code",
      "source": [
        "row = [0, 1, -1]\n",
        "col = [1, 2, 3]\n",
        "print(arr[row, col])"
      ],
      "metadata": {
        "colab": {
          "base_uri": "https://localhost:8080/"
        },
        "id": "bWR01ELqIlqK",
        "outputId": "fabbc5d9-567a-419b-9f18-fea5a0a9d61e"
      },
      "execution_count": 91,
      "outputs": [
        {
          "output_type": "stream",
          "name": "stdout",
          "text": [
            "[16  7  8]\n"
          ]
        }
      ]
    },
    {
      "cell_type": "markdown",
      "source": [
        "---\n",
        "# Broadcasting arrays\n",
        "---\n",
        "Broadcasting functionality checks a set of rules for applying binary functions, such as addition, subtraction, and multiplication, on different shapes of an array."
      ],
      "metadata": {
        "id": "WuygQcHBKIaH"
      }
    },
    {
      "cell_type": "code",
      "source": [
        "# Create NumPy Array\n",
        "arr1 = np.arange(1,5).reshape(2,2) \n",
        "print(arr1)"
      ],
      "metadata": {
        "colab": {
          "base_uri": "https://localhost:8080/"
        },
        "id": "UZCBmfuBJIg5",
        "outputId": "4fbb51e8-9bc7-476c-ab2b-4c1c00dec010"
      },
      "execution_count": 92,
      "outputs": [
        {
          "output_type": "stream",
          "name": "stdout",
          "text": [
            "[[1 2]\n",
            " [3 4]]\n"
          ]
        }
      ]
    },
    {
      "cell_type": "code",
      "source": [
        "# Create another NumPy Array\n",
        "arr2 = np.arange(5,9).reshape(2,2) \n",
        "print(arr2)"
      ],
      "metadata": {
        "colab": {
          "base_uri": "https://localhost:8080/"
        },
        "id": "vcnfNUxsK-r0",
        "outputId": "5c34e6aa-9c96-421f-a614-66b42be4606c"
      },
      "execution_count": 93,
      "outputs": [
        {
          "output_type": "stream",
          "name": "stdout",
          "text": [
            "[[5 6]\n",
            " [7 8]]\n"
          ]
        }
      ]
    },
    {
      "cell_type": "code",
      "source": [
        "# Add two matrices\n",
        "print(arr1+arr2)"
      ],
      "metadata": {
        "colab": {
          "base_uri": "https://localhost:8080/"
        },
        "id": "2egVv_0tLCOM",
        "outputId": "c370fd72-7d4f-46e6-8b72-d92d4a95a17f"
      },
      "execution_count": 94,
      "outputs": [
        {
          "output_type": "stream",
          "name": "stdout",
          "text": [
            "[[ 6  8]\n",
            " [10 12]]\n"
          ]
        }
      ]
    },
    {
      "cell_type": "code",
      "source": [
        "# Multiply two matrices\n",
        "print(arr1*arr2)"
      ],
      "metadata": {
        "colab": {
          "base_uri": "https://localhost:8080/"
        },
        "id": "T11UY114LGNG",
        "outputId": "14bc4fd3-b449-4dbf-976d-0b6c2eaa967f"
      },
      "execution_count": 95,
      "outputs": [
        {
          "output_type": "stream",
          "name": "stdout",
          "text": [
            "[[ 5 12]\n",
            " [21 32]]\n"
          ]
        }
      ]
    },
    {
      "cell_type": "code",
      "source": [
        "# Divide two matricies\n",
        "print((arr2/arr1))"
      ],
      "metadata": {
        "colab": {
          "base_uri": "https://localhost:8080/"
        },
        "id": "OvZD6IGYLJTe",
        "outputId": "0cccca91-6320-449d-f5d1-08bf44a80e9e"
      },
      "execution_count": 96,
      "outputs": [
        {
          "output_type": "stream",
          "name": "stdout",
          "text": [
            "[[5.         3.        ]\n",
            " [2.33333333 2.        ]]\n"
          ]
        }
      ]
    },
    {
      "cell_type": "code",
      "source": [
        "# Ratio of two matricies\n",
        "print((arr2%arr1))"
      ],
      "metadata": {
        "colab": {
          "base_uri": "https://localhost:8080/"
        },
        "id": "sCjUBuEwLR8M",
        "outputId": "fa0ca673-7065-4171-c127-f5db17b090db"
      },
      "execution_count": 97,
      "outputs": [
        {
          "output_type": "stream",
          "name": "stdout",
          "text": [
            "[[0 0]\n",
            " [1 0]]\n"
          ]
        }
      ]
    },
    {
      "cell_type": "code",
      "source": [
        "# Add a scaler value\n",
        "print(arr1 + 3)"
      ],
      "metadata": {
        "colab": {
          "base_uri": "https://localhost:8080/"
        },
        "id": "l2K-1AIALlGr",
        "outputId": "80914c30-7e6a-4cbe-b5b0-626efeaa22e0"
      },
      "execution_count": 98,
      "outputs": [
        {
          "output_type": "stream",
          "name": "stdout",
          "text": [
            "[[4 5]\n",
            " [6 7]]\n"
          ]
        }
      ]
    },
    {
      "cell_type": "code",
      "source": [
        "# Multiply with a scalar value\n",
        "print(arr1 * 3)"
      ],
      "metadata": {
        "colab": {
          "base_uri": "https://localhost:8080/"
        },
        "id": "B5ArLbgxL5nT",
        "outputId": "5d3f296c-de77-4f7f-cb45-73d70e683b8a"
      },
      "execution_count": 99,
      "outputs": [
        {
          "output_type": "stream",
          "name": "stdout",
          "text": [
            "[[ 3  6]\n",
            " [ 9 12]]\n"
          ]
        }
      ]
    },
    {
      "cell_type": "markdown",
      "source": [
        "---\n",
        "# Create DataFrame\n",
        "---\n",
        "The `pandas` library is designed to work with a panel or tabular data.  \n",
        "A `pandas` DataFrame is a tabular, two-dimensional labeled and indexed data structure with a grid of rows and columns."
      ],
      "metadata": {
        "id": "fOaXz9I0L992"
      }
    },
    {
      "cell_type": "code",
      "source": [
        "import pandas as pd"
      ],
      "metadata": {
        "id": "7tCY28h9L8yO"
      },
      "execution_count": 100,
      "outputs": []
    },
    {
      "cell_type": "code",
      "source": [
        "# create an empty DataFrame\n",
        "df = pd.DataFrame()\n",
        "df.head()"
      ],
      "metadata": {
        "colab": {
          "base_uri": "https://localhost:8080/",
          "height": 49
        },
        "id": "oKj_C84wqCTA",
        "outputId": "e20fb7e8-d01e-4a84-e8a1-45f239cc46bd"
      },
      "execution_count": 101,
      "outputs": [
        {
          "output_type": "execute_result",
          "data": {
            "text/html": [
              "\n",
              "  <div id=\"df-db1d4138-188d-47f2-a2b1-c6dbed93dcc4\">\n",
              "    <div class=\"colab-df-container\">\n",
              "      <div>\n",
              "<style scoped>\n",
              "    .dataframe tbody tr th:only-of-type {\n",
              "        vertical-align: middle;\n",
              "    }\n",
              "\n",
              "    .dataframe tbody tr th {\n",
              "        vertical-align: top;\n",
              "    }\n",
              "\n",
              "    .dataframe thead th {\n",
              "        text-align: right;\n",
              "    }\n",
              "</style>\n",
              "<table border=\"1\" class=\"dataframe\">\n",
              "  <thead>\n",
              "    <tr style=\"text-align: right;\">\n",
              "      <th></th>\n",
              "    </tr>\n",
              "  </thead>\n",
              "  <tbody>\n",
              "  </tbody>\n",
              "</table>\n",
              "</div>\n",
              "      <button class=\"colab-df-convert\" onclick=\"convertToInteractive('df-db1d4138-188d-47f2-a2b1-c6dbed93dcc4')\"\n",
              "              title=\"Convert this dataframe to an interactive table.\"\n",
              "              style=\"display:none;\">\n",
              "        \n",
              "  <svg xmlns=\"http://www.w3.org/2000/svg\" height=\"24px\"viewBox=\"0 0 24 24\"\n",
              "       width=\"24px\">\n",
              "    <path d=\"M0 0h24v24H0V0z\" fill=\"none\"/>\n",
              "    <path d=\"M18.56 5.44l.94 2.06.94-2.06 2.06-.94-2.06-.94-.94-2.06-.94 2.06-2.06.94zm-11 1L8.5 8.5l.94-2.06 2.06-.94-2.06-.94L8.5 2.5l-.94 2.06-2.06.94zm10 10l.94 2.06.94-2.06 2.06-.94-2.06-.94-.94-2.06-.94 2.06-2.06.94z\"/><path d=\"M17.41 7.96l-1.37-1.37c-.4-.4-.92-.59-1.43-.59-.52 0-1.04.2-1.43.59L10.3 9.45l-7.72 7.72c-.78.78-.78 2.05 0 2.83L4 21.41c.39.39.9.59 1.41.59.51 0 1.02-.2 1.41-.59l7.78-7.78 2.81-2.81c.8-.78.8-2.07 0-2.86zM5.41 20L4 18.59l7.72-7.72 1.47 1.35L5.41 20z\"/>\n",
              "  </svg>\n",
              "      </button>\n",
              "      \n",
              "  <style>\n",
              "    .colab-df-container {\n",
              "      display:flex;\n",
              "      flex-wrap:wrap;\n",
              "      gap: 12px;\n",
              "    }\n",
              "\n",
              "    .colab-df-convert {\n",
              "      background-color: #E8F0FE;\n",
              "      border: none;\n",
              "      border-radius: 50%;\n",
              "      cursor: pointer;\n",
              "      display: none;\n",
              "      fill: #1967D2;\n",
              "      height: 32px;\n",
              "      padding: 0 0 0 0;\n",
              "      width: 32px;\n",
              "    }\n",
              "\n",
              "    .colab-df-convert:hover {\n",
              "      background-color: #E2EBFA;\n",
              "      box-shadow: 0px 1px 2px rgba(60, 64, 67, 0.3), 0px 1px 3px 1px rgba(60, 64, 67, 0.15);\n",
              "      fill: #174EA6;\n",
              "    }\n",
              "\n",
              "    [theme=dark] .colab-df-convert {\n",
              "      background-color: #3B4455;\n",
              "      fill: #D2E3FC;\n",
              "    }\n",
              "\n",
              "    [theme=dark] .colab-df-convert:hover {\n",
              "      background-color: #434B5C;\n",
              "      box-shadow: 0px 1px 3px 1px rgba(0, 0, 0, 0.15);\n",
              "      filter: drop-shadow(0px 1px 2px rgba(0, 0, 0, 0.3));\n",
              "      fill: #FFFFFF;\n",
              "    }\n",
              "  </style>\n",
              "\n",
              "      <script>\n",
              "        const buttonEl =\n",
              "          document.querySelector('#df-db1d4138-188d-47f2-a2b1-c6dbed93dcc4 button.colab-df-convert');\n",
              "        buttonEl.style.display =\n",
              "          google.colab.kernel.accessAllowed ? 'block' : 'none';\n",
              "\n",
              "        async function convertToInteractive(key) {\n",
              "          const element = document.querySelector('#df-db1d4138-188d-47f2-a2b1-c6dbed93dcc4');\n",
              "          const dataTable =\n",
              "            await google.colab.kernel.invokeFunction('convertToInteractive',\n",
              "                                                     [key], {});\n",
              "          if (!dataTable) return;\n",
              "\n",
              "          const docLinkHtml = 'Like what you see? Visit the ' +\n",
              "            '<a target=\"_blank\" href=https://colab.research.google.com/notebooks/data_table.ipynb>data table notebook</a>'\n",
              "            + ' to learn more about interactive tables.';\n",
              "          element.innerHTML = '';\n",
              "          dataTable['output_type'] = 'display_data';\n",
              "          await google.colab.output.renderOutput(dataTable, element);\n",
              "          const docLink = document.createElement('div');\n",
              "          docLink.innerHTML = docLinkHtml;\n",
              "          element.appendChild(docLink);\n",
              "        }\n",
              "      </script>\n",
              "    </div>\n",
              "  </div>\n",
              "  "
            ],
            "text/plain": [
              "Empty DataFrame\n",
              "Columns: []\n",
              "Index: []"
            ]
          },
          "metadata": {},
          "execution_count": 101
        }
      ]
    },
    {
      "cell_type": "code",
      "source": [
        "# create a DataFrame using a dictionary\n",
        "data = dict(Name=['Bob', 'Elise', 'Joe', 'Eve'], Age=[23, 54, 36, 38])\n",
        "\n",
        "# Create the pandas DataFrame\n",
        "df = pd.DataFrame(data)\n",
        "\n",
        "df.head()"
      ],
      "metadata": {
        "colab": {
          "base_uri": "https://localhost:8080/",
          "height": 175
        },
        "id": "5JNjJ2A7qSkT",
        "outputId": "66b91304-56e6-460c-d4f3-b953b929b140"
      },
      "execution_count": 102,
      "outputs": [
        {
          "output_type": "execute_result",
          "data": {
            "text/html": [
              "\n",
              "  <div id=\"df-51a5e6d0-4148-4159-a012-b930830d3789\">\n",
              "    <div class=\"colab-df-container\">\n",
              "      <div>\n",
              "<style scoped>\n",
              "    .dataframe tbody tr th:only-of-type {\n",
              "        vertical-align: middle;\n",
              "    }\n",
              "\n",
              "    .dataframe tbody tr th {\n",
              "        vertical-align: top;\n",
              "    }\n",
              "\n",
              "    .dataframe thead th {\n",
              "        text-align: right;\n",
              "    }\n",
              "</style>\n",
              "<table border=\"1\" class=\"dataframe\">\n",
              "  <thead>\n",
              "    <tr style=\"text-align: right;\">\n",
              "      <th></th>\n",
              "      <th>Name</th>\n",
              "      <th>Age</th>\n",
              "    </tr>\n",
              "  </thead>\n",
              "  <tbody>\n",
              "    <tr>\n",
              "      <th>0</th>\n",
              "      <td>Bob</td>\n",
              "      <td>23</td>\n",
              "    </tr>\n",
              "    <tr>\n",
              "      <th>1</th>\n",
              "      <td>Elise</td>\n",
              "      <td>54</td>\n",
              "    </tr>\n",
              "    <tr>\n",
              "      <th>2</th>\n",
              "      <td>Joe</td>\n",
              "      <td>36</td>\n",
              "    </tr>\n",
              "    <tr>\n",
              "      <th>3</th>\n",
              "      <td>Eve</td>\n",
              "      <td>38</td>\n",
              "    </tr>\n",
              "  </tbody>\n",
              "</table>\n",
              "</div>\n",
              "      <button class=\"colab-df-convert\" onclick=\"convertToInteractive('df-51a5e6d0-4148-4159-a012-b930830d3789')\"\n",
              "              title=\"Convert this dataframe to an interactive table.\"\n",
              "              style=\"display:none;\">\n",
              "        \n",
              "  <svg xmlns=\"http://www.w3.org/2000/svg\" height=\"24px\"viewBox=\"0 0 24 24\"\n",
              "       width=\"24px\">\n",
              "    <path d=\"M0 0h24v24H0V0z\" fill=\"none\"/>\n",
              "    <path d=\"M18.56 5.44l.94 2.06.94-2.06 2.06-.94-2.06-.94-.94-2.06-.94 2.06-2.06.94zm-11 1L8.5 8.5l.94-2.06 2.06-.94-2.06-.94L8.5 2.5l-.94 2.06-2.06.94zm10 10l.94 2.06.94-2.06 2.06-.94-2.06-.94-.94-2.06-.94 2.06-2.06.94z\"/><path d=\"M17.41 7.96l-1.37-1.37c-.4-.4-.92-.59-1.43-.59-.52 0-1.04.2-1.43.59L10.3 9.45l-7.72 7.72c-.78.78-.78 2.05 0 2.83L4 21.41c.39.39.9.59 1.41.59.51 0 1.02-.2 1.41-.59l7.78-7.78 2.81-2.81c.8-.78.8-2.07 0-2.86zM5.41 20L4 18.59l7.72-7.72 1.47 1.35L5.41 20z\"/>\n",
              "  </svg>\n",
              "      </button>\n",
              "      \n",
              "  <style>\n",
              "    .colab-df-container {\n",
              "      display:flex;\n",
              "      flex-wrap:wrap;\n",
              "      gap: 12px;\n",
              "    }\n",
              "\n",
              "    .colab-df-convert {\n",
              "      background-color: #E8F0FE;\n",
              "      border: none;\n",
              "      border-radius: 50%;\n",
              "      cursor: pointer;\n",
              "      display: none;\n",
              "      fill: #1967D2;\n",
              "      height: 32px;\n",
              "      padding: 0 0 0 0;\n",
              "      width: 32px;\n",
              "    }\n",
              "\n",
              "    .colab-df-convert:hover {\n",
              "      background-color: #E2EBFA;\n",
              "      box-shadow: 0px 1px 2px rgba(60, 64, 67, 0.3), 0px 1px 3px 1px rgba(60, 64, 67, 0.15);\n",
              "      fill: #174EA6;\n",
              "    }\n",
              "\n",
              "    [theme=dark] .colab-df-convert {\n",
              "      background-color: #3B4455;\n",
              "      fill: #D2E3FC;\n",
              "    }\n",
              "\n",
              "    [theme=dark] .colab-df-convert:hover {\n",
              "      background-color: #434B5C;\n",
              "      box-shadow: 0px 1px 3px 1px rgba(0, 0, 0, 0.15);\n",
              "      filter: drop-shadow(0px 1px 2px rgba(0, 0, 0, 0.3));\n",
              "      fill: #FFFFFF;\n",
              "    }\n",
              "  </style>\n",
              "\n",
              "      <script>\n",
              "        const buttonEl =\n",
              "          document.querySelector('#df-51a5e6d0-4148-4159-a012-b930830d3789 button.colab-df-convert');\n",
              "        buttonEl.style.display =\n",
              "          google.colab.kernel.accessAllowed ? 'block' : 'none';\n",
              "\n",
              "        async function convertToInteractive(key) {\n",
              "          const element = document.querySelector('#df-51a5e6d0-4148-4159-a012-b930830d3789');\n",
              "          const dataTable =\n",
              "            await google.colab.kernel.invokeFunction('convertToInteractive',\n",
              "                                                     [key], {});\n",
              "          if (!dataTable) return;\n",
              "\n",
              "          const docLinkHtml = 'Like what you see? Visit the ' +\n",
              "            '<a target=\"_blank\" href=https://colab.research.google.com/notebooks/data_table.ipynb>data table notebook</a>'\n",
              "            + ' to learn more about interactive tables.';\n",
              "          element.innerHTML = '';\n",
              "          dataTable['output_type'] = 'display_data';\n",
              "          await google.colab.output.renderOutput(dataTable, element);\n",
              "          const docLink = document.createElement('div');\n",
              "          docLink.innerHTML = docLinkHtml;\n",
              "          element.appendChild(docLink);\n",
              "        }\n",
              "      </script>\n",
              "    </div>\n",
              "  </div>\n",
              "  "
            ],
            "text/plain": [
              "    Name  Age\n",
              "0    Bob   23\n",
              "1  Elise   54\n",
              "2    Joe   36\n",
              "3    Eve   38"
            ]
          },
          "metadata": {},
          "execution_count": 102
        }
      ]
    },
    {
      "cell_type": "code",
      "source": [
        "# Pandas DataFrame by lists of dicts\n",
        "# Initialise data to lists\n",
        "data = [\n",
        "        {'Name': 'Bob', 'Age': 23},\n",
        "        {'Name': 'Elise', 'Age': 54},\n",
        "        {'Name': 'Joe', 'Age': 36},\n",
        "        {'Name': 'Eve', 'Age': 38},\n",
        "\n",
        "]\n",
        "\n",
        "# Creates DataFrame\n",
        "df= pd.DataFrame(data, columns=['Name', 'Age'])\n",
        "\n",
        "df.head()"
      ],
      "metadata": {
        "colab": {
          "base_uri": "https://localhost:8080/",
          "height": 175
        },
        "id": "4O2zrB10rJHb",
        "outputId": "05737ca0-66fe-41ff-c05c-eb14aefeae66"
      },
      "execution_count": 103,
      "outputs": [
        {
          "output_type": "execute_result",
          "data": {
            "text/html": [
              "\n",
              "  <div id=\"df-c10107eb-b934-4466-902d-1ebad217d4db\">\n",
              "    <div class=\"colab-df-container\">\n",
              "      <div>\n",
              "<style scoped>\n",
              "    .dataframe tbody tr th:only-of-type {\n",
              "        vertical-align: middle;\n",
              "    }\n",
              "\n",
              "    .dataframe tbody tr th {\n",
              "        vertical-align: top;\n",
              "    }\n",
              "\n",
              "    .dataframe thead th {\n",
              "        text-align: right;\n",
              "    }\n",
              "</style>\n",
              "<table border=\"1\" class=\"dataframe\">\n",
              "  <thead>\n",
              "    <tr style=\"text-align: right;\">\n",
              "      <th></th>\n",
              "      <th>Name</th>\n",
              "      <th>Age</th>\n",
              "    </tr>\n",
              "  </thead>\n",
              "  <tbody>\n",
              "    <tr>\n",
              "      <th>0</th>\n",
              "      <td>Bob</td>\n",
              "      <td>23</td>\n",
              "    </tr>\n",
              "    <tr>\n",
              "      <th>1</th>\n",
              "      <td>Elise</td>\n",
              "      <td>54</td>\n",
              "    </tr>\n",
              "    <tr>\n",
              "      <th>2</th>\n",
              "      <td>Joe</td>\n",
              "      <td>36</td>\n",
              "    </tr>\n",
              "    <tr>\n",
              "      <th>3</th>\n",
              "      <td>Eve</td>\n",
              "      <td>38</td>\n",
              "    </tr>\n",
              "  </tbody>\n",
              "</table>\n",
              "</div>\n",
              "      <button class=\"colab-df-convert\" onclick=\"convertToInteractive('df-c10107eb-b934-4466-902d-1ebad217d4db')\"\n",
              "              title=\"Convert this dataframe to an interactive table.\"\n",
              "              style=\"display:none;\">\n",
              "        \n",
              "  <svg xmlns=\"http://www.w3.org/2000/svg\" height=\"24px\"viewBox=\"0 0 24 24\"\n",
              "       width=\"24px\">\n",
              "    <path d=\"M0 0h24v24H0V0z\" fill=\"none\"/>\n",
              "    <path d=\"M18.56 5.44l.94 2.06.94-2.06 2.06-.94-2.06-.94-.94-2.06-.94 2.06-2.06.94zm-11 1L8.5 8.5l.94-2.06 2.06-.94-2.06-.94L8.5 2.5l-.94 2.06-2.06.94zm10 10l.94 2.06.94-2.06 2.06-.94-2.06-.94-.94-2.06-.94 2.06-2.06.94z\"/><path d=\"M17.41 7.96l-1.37-1.37c-.4-.4-.92-.59-1.43-.59-.52 0-1.04.2-1.43.59L10.3 9.45l-7.72 7.72c-.78.78-.78 2.05 0 2.83L4 21.41c.39.39.9.59 1.41.59.51 0 1.02-.2 1.41-.59l7.78-7.78 2.81-2.81c.8-.78.8-2.07 0-2.86zM5.41 20L4 18.59l7.72-7.72 1.47 1.35L5.41 20z\"/>\n",
              "  </svg>\n",
              "      </button>\n",
              "      \n",
              "  <style>\n",
              "    .colab-df-container {\n",
              "      display:flex;\n",
              "      flex-wrap:wrap;\n",
              "      gap: 12px;\n",
              "    }\n",
              "\n",
              "    .colab-df-convert {\n",
              "      background-color: #E8F0FE;\n",
              "      border: none;\n",
              "      border-radius: 50%;\n",
              "      cursor: pointer;\n",
              "      display: none;\n",
              "      fill: #1967D2;\n",
              "      height: 32px;\n",
              "      padding: 0 0 0 0;\n",
              "      width: 32px;\n",
              "    }\n",
              "\n",
              "    .colab-df-convert:hover {\n",
              "      background-color: #E2EBFA;\n",
              "      box-shadow: 0px 1px 2px rgba(60, 64, 67, 0.3), 0px 1px 3px 1px rgba(60, 64, 67, 0.15);\n",
              "      fill: #174EA6;\n",
              "    }\n",
              "\n",
              "    [theme=dark] .colab-df-convert {\n",
              "      background-color: #3B4455;\n",
              "      fill: #D2E3FC;\n",
              "    }\n",
              "\n",
              "    [theme=dark] .colab-df-convert:hover {\n",
              "      background-color: #434B5C;\n",
              "      box-shadow: 0px 1px 3px 1px rgba(0, 0, 0, 0.15);\n",
              "      filter: drop-shadow(0px 1px 2px rgba(0, 0, 0, 0.3));\n",
              "      fill: #FFFFFF;\n",
              "    }\n",
              "  </style>\n",
              "\n",
              "      <script>\n",
              "        const buttonEl =\n",
              "          document.querySelector('#df-c10107eb-b934-4466-902d-1ebad217d4db button.colab-df-convert');\n",
              "        buttonEl.style.display =\n",
              "          google.colab.kernel.accessAllowed ? 'block' : 'none';\n",
              "\n",
              "        async function convertToInteractive(key) {\n",
              "          const element = document.querySelector('#df-c10107eb-b934-4466-902d-1ebad217d4db');\n",
              "          const dataTable =\n",
              "            await google.colab.kernel.invokeFunction('convertToInteractive',\n",
              "                                                     [key], {});\n",
              "          if (!dataTable) return;\n",
              "\n",
              "          const docLinkHtml = 'Like what you see? Visit the ' +\n",
              "            '<a target=\"_blank\" href=https://colab.research.google.com/notebooks/data_table.ipynb>data table notebook</a>'\n",
              "            + ' to learn more about interactive tables.';\n",
              "          element.innerHTML = '';\n",
              "          dataTable['output_type'] = 'display_data';\n",
              "          await google.colab.output.renderOutput(dataTable, element);\n",
              "          const docLink = document.createElement('div');\n",
              "          docLink.innerHTML = docLinkHtml;\n",
              "          element.appendChild(docLink);\n",
              "        }\n",
              "      </script>\n",
              "    </div>\n",
              "  </div>\n",
              "  "
            ],
            "text/plain": [
              "    Name  Age\n",
              "0    Bob   23\n",
              "1  Elise   54\n",
              "2    Joe   36\n",
              "3    Eve   38"
            ]
          },
          "metadata": {},
          "execution_count": 103
        }
      ]
    },
    {
      "cell_type": "code",
      "source": [
        "# Creating DataFrame using list of tuples\n",
        "data = (('Bob', 23), ('Elise', 54), ('Joe', 36), ('Eve', 38))\n",
        "\n",
        "# Create dataframe\n",
        "df = pd.DataFrame(data, columns=['Name', 'Age'])\n",
        "\n",
        "df.head()"
      ],
      "metadata": {
        "colab": {
          "base_uri": "https://localhost:8080/",
          "height": 175
        },
        "id": "jMK-CV0JsdHW",
        "outputId": "8d3954c9-b9c1-4c62-93eb-f6074a9b496c"
      },
      "execution_count": 104,
      "outputs": [
        {
          "output_type": "execute_result",
          "data": {
            "text/html": [
              "\n",
              "  <div id=\"df-c75c38fd-39a4-4e86-b666-b4ef14a30dce\">\n",
              "    <div class=\"colab-df-container\">\n",
              "      <div>\n",
              "<style scoped>\n",
              "    .dataframe tbody tr th:only-of-type {\n",
              "        vertical-align: middle;\n",
              "    }\n",
              "\n",
              "    .dataframe tbody tr th {\n",
              "        vertical-align: top;\n",
              "    }\n",
              "\n",
              "    .dataframe thead th {\n",
              "        text-align: right;\n",
              "    }\n",
              "</style>\n",
              "<table border=\"1\" class=\"dataframe\">\n",
              "  <thead>\n",
              "    <tr style=\"text-align: right;\">\n",
              "      <th></th>\n",
              "      <th>Name</th>\n",
              "      <th>Age</th>\n",
              "    </tr>\n",
              "  </thead>\n",
              "  <tbody>\n",
              "    <tr>\n",
              "      <th>0</th>\n",
              "      <td>Bob</td>\n",
              "      <td>23</td>\n",
              "    </tr>\n",
              "    <tr>\n",
              "      <th>1</th>\n",
              "      <td>Elise</td>\n",
              "      <td>54</td>\n",
              "    </tr>\n",
              "    <tr>\n",
              "      <th>2</th>\n",
              "      <td>Joe</td>\n",
              "      <td>36</td>\n",
              "    </tr>\n",
              "    <tr>\n",
              "      <th>3</th>\n",
              "      <td>Eve</td>\n",
              "      <td>38</td>\n",
              "    </tr>\n",
              "  </tbody>\n",
              "</table>\n",
              "</div>\n",
              "      <button class=\"colab-df-convert\" onclick=\"convertToInteractive('df-c75c38fd-39a4-4e86-b666-b4ef14a30dce')\"\n",
              "              title=\"Convert this dataframe to an interactive table.\"\n",
              "              style=\"display:none;\">\n",
              "        \n",
              "  <svg xmlns=\"http://www.w3.org/2000/svg\" height=\"24px\"viewBox=\"0 0 24 24\"\n",
              "       width=\"24px\">\n",
              "    <path d=\"M0 0h24v24H0V0z\" fill=\"none\"/>\n",
              "    <path d=\"M18.56 5.44l.94 2.06.94-2.06 2.06-.94-2.06-.94-.94-2.06-.94 2.06-2.06.94zm-11 1L8.5 8.5l.94-2.06 2.06-.94-2.06-.94L8.5 2.5l-.94 2.06-2.06.94zm10 10l.94 2.06.94-2.06 2.06-.94-2.06-.94-.94-2.06-.94 2.06-2.06.94z\"/><path d=\"M17.41 7.96l-1.37-1.37c-.4-.4-.92-.59-1.43-.59-.52 0-1.04.2-1.43.59L10.3 9.45l-7.72 7.72c-.78.78-.78 2.05 0 2.83L4 21.41c.39.39.9.59 1.41.59.51 0 1.02-.2 1.41-.59l7.78-7.78 2.81-2.81c.8-.78.8-2.07 0-2.86zM5.41 20L4 18.59l7.72-7.72 1.47 1.35L5.41 20z\"/>\n",
              "  </svg>\n",
              "      </button>\n",
              "      \n",
              "  <style>\n",
              "    .colab-df-container {\n",
              "      display:flex;\n",
              "      flex-wrap:wrap;\n",
              "      gap: 12px;\n",
              "    }\n",
              "\n",
              "    .colab-df-convert {\n",
              "      background-color: #E8F0FE;\n",
              "      border: none;\n",
              "      border-radius: 50%;\n",
              "      cursor: pointer;\n",
              "      display: none;\n",
              "      fill: #1967D2;\n",
              "      height: 32px;\n",
              "      padding: 0 0 0 0;\n",
              "      width: 32px;\n",
              "    }\n",
              "\n",
              "    .colab-df-convert:hover {\n",
              "      background-color: #E2EBFA;\n",
              "      box-shadow: 0px 1px 2px rgba(60, 64, 67, 0.3), 0px 1px 3px 1px rgba(60, 64, 67, 0.15);\n",
              "      fill: #174EA6;\n",
              "    }\n",
              "\n",
              "    [theme=dark] .colab-df-convert {\n",
              "      background-color: #3B4455;\n",
              "      fill: #D2E3FC;\n",
              "    }\n",
              "\n",
              "    [theme=dark] .colab-df-convert:hover {\n",
              "      background-color: #434B5C;\n",
              "      box-shadow: 0px 1px 3px 1px rgba(0, 0, 0, 0.15);\n",
              "      filter: drop-shadow(0px 1px 2px rgba(0, 0, 0, 0.3));\n",
              "      fill: #FFFFFF;\n",
              "    }\n",
              "  </style>\n",
              "\n",
              "      <script>\n",
              "        const buttonEl =\n",
              "          document.querySelector('#df-c75c38fd-39a4-4e86-b666-b4ef14a30dce button.colab-df-convert');\n",
              "        buttonEl.style.display =\n",
              "          google.colab.kernel.accessAllowed ? 'block' : 'none';\n",
              "\n",
              "        async function convertToInteractive(key) {\n",
              "          const element = document.querySelector('#df-c75c38fd-39a4-4e86-b666-b4ef14a30dce');\n",
              "          const dataTable =\n",
              "            await google.colab.kernel.invokeFunction('convertToInteractive',\n",
              "                                                     [key], {});\n",
              "          if (!dataTable) return;\n",
              "\n",
              "          const docLinkHtml = 'Like what you see? Visit the ' +\n",
              "            '<a target=\"_blank\" href=https://colab.research.google.com/notebooks/data_table.ipynb>data table notebook</a>'\n",
              "            + ' to learn more about interactive tables.';\n",
              "          element.innerHTML = '';\n",
              "          dataTable['output_type'] = 'display_data';\n",
              "          await google.colab.output.renderOutput(dataTable, element);\n",
              "          const docLink = document.createElement('div');\n",
              "          docLink.innerHTML = docLinkHtml;\n",
              "          element.appendChild(docLink);\n",
              "        }\n",
              "      </script>\n",
              "    </div>\n",
              "  </div>\n",
              "  "
            ],
            "text/plain": [
              "    Name  Age\n",
              "0    Bob   23\n",
              "1  Elise   54\n",
              "2    Joe   36\n",
              "3    Eve   38"
            ]
          },
          "metadata": {},
          "execution_count": 104
        }
      ]
    },
    {
      "cell_type": "markdown",
      "source": [
        "---\n",
        "# Understanding pandas Series\n",
        "---\n",
        "`pandas` Series is a one-dimensional sequential data structure that is able to handle any type of data, such as string, numeric, datetime, Python lists, and dictionaries with labels and indexes.  \n",
        "Series is one of the columns of a DataFrame. We can create a Series using a Python dictionary, NumPy array, and scalar value."
      ],
      "metadata": {
        "id": "_lDVwhECuWkx"
      }
    },
    {
      "cell_type": "code",
      "source": [
        "# Creating a Series using a dictionary\n",
        "data = dict(Name=['Bob', 'Elise', 'Joe', 'Eve'])\n",
        "\n",
        "# create a serie\n",
        "s_name = pd.Series(data, name='Name')\n",
        "s_name"
      ],
      "metadata": {
        "colab": {
          "base_uri": "https://localhost:8080/"
        },
        "id": "uzK7P96EtXz6",
        "outputId": "e3708654-df27-4790-b0bd-a0de4cb9d062"
      },
      "execution_count": 105,
      "outputs": [
        {
          "output_type": "execute_result",
          "data": {
            "text/plain": [
              "Name    [Bob, Elise, Joe, Eve]\n",
              "Name: Name, dtype: object"
            ]
          },
          "metadata": {},
          "execution_count": 105
        }
      ]
    },
    {
      "cell_type": "code",
      "source": [
        "# Using a NumPy array\n",
        "data = np.array([23, 54, 36, 38])\n",
        "\n",
        "# create a serie\n",
        "s_age = pd.Series(data, name='Age')\n",
        "s_age\n"
      ],
      "metadata": {
        "colab": {
          "base_uri": "https://localhost:8080/"
        },
        "id": "a0jT8hlExb-g",
        "outputId": "11759d7b-7be2-4e4a-a923-08a15ed2a02a"
      },
      "execution_count": 106,
      "outputs": [
        {
          "output_type": "execute_result",
          "data": {
            "text/plain": [
              "0    23\n",
              "1    54\n",
              "2    36\n",
              "3    38\n",
              "Name: Age, dtype: int64"
            ]
          },
          "metadata": {},
          "execution_count": 106
        }
      ]
    },
    {
      "cell_type": "code",
      "source": [
        "# Using a single scalar value\n",
        "s_scalar = pd.Series(10, index=list(range(5)))\n",
        "s_scalar"
      ],
      "metadata": {
        "colab": {
          "base_uri": "https://localhost:8080/"
        },
        "id": "_YDU7i7CyJaK",
        "outputId": "944d0800-feb2-4d1e-bd3d-f64e61d5a6c1"
      },
      "execution_count": 107,
      "outputs": [
        {
          "output_type": "execute_result",
          "data": {
            "text/plain": [
              "0    10\n",
              "1    10\n",
              "2    10\n",
              "3    10\n",
              "4    10\n",
              "dtype: int64"
            ]
          },
          "metadata": {},
          "execution_count": 107
        }
      ]
    },
    {
      "cell_type": "markdown",
      "source": [
        "## Explore some features of pandas Series"
      ],
      "metadata": {
        "id": "7ECaKkSA1lVK"
      }
    },
    {
      "cell_type": "code",
      "source": [
        "# Load data using\n",
        "df = pd.read_csv('WHO_first9cols.csv')\n",
        "df.head()"
      ],
      "metadata": {
        "colab": {
          "base_uri": "https://localhost:8080/",
          "height": 285
        },
        "id": "j7-flbUQy6rd",
        "outputId": "a7d12f4a-24c1-42cd-ccb0-862df5ae8090"
      },
      "execution_count": 109,
      "outputs": [
        {
          "output_type": "execute_result",
          "data": {
            "text/html": [
              "\n",
              "  <div id=\"df-843724a6-fe14-446e-8895-791b2b62067c\">\n",
              "    <div class=\"colab-df-container\">\n",
              "      <div>\n",
              "<style scoped>\n",
              "    .dataframe tbody tr th:only-of-type {\n",
              "        vertical-align: middle;\n",
              "    }\n",
              "\n",
              "    .dataframe tbody tr th {\n",
              "        vertical-align: top;\n",
              "    }\n",
              "\n",
              "    .dataframe thead th {\n",
              "        text-align: right;\n",
              "    }\n",
              "</style>\n",
              "<table border=\"1\" class=\"dataframe\">\n",
              "  <thead>\n",
              "    <tr style=\"text-align: right;\">\n",
              "      <th></th>\n",
              "      <th>Country</th>\n",
              "      <th>CountryID</th>\n",
              "      <th>Continent</th>\n",
              "      <th>Adolescent fertility rate (%)</th>\n",
              "      <th>Adult literacy rate (%)</th>\n",
              "      <th>Gross national income per capita (PPP international $)</th>\n",
              "      <th>Net primary school enrolment ratio female (%)</th>\n",
              "      <th>Net primary school enrolment ratio male (%)</th>\n",
              "      <th>Population (in thousands) total</th>\n",
              "    </tr>\n",
              "  </thead>\n",
              "  <tbody>\n",
              "    <tr>\n",
              "      <th>0</th>\n",
              "      <td>Afghanistan</td>\n",
              "      <td>1</td>\n",
              "      <td>1</td>\n",
              "      <td>151.0</td>\n",
              "      <td>28.0</td>\n",
              "      <td>NaN</td>\n",
              "      <td>NaN</td>\n",
              "      <td>NaN</td>\n",
              "      <td>26088.0</td>\n",
              "    </tr>\n",
              "    <tr>\n",
              "      <th>1</th>\n",
              "      <td>Albania</td>\n",
              "      <td>2</td>\n",
              "      <td>2</td>\n",
              "      <td>27.0</td>\n",
              "      <td>98.7</td>\n",
              "      <td>6000.0</td>\n",
              "      <td>93.0</td>\n",
              "      <td>94.0</td>\n",
              "      <td>3172.0</td>\n",
              "    </tr>\n",
              "    <tr>\n",
              "      <th>2</th>\n",
              "      <td>Algeria</td>\n",
              "      <td>3</td>\n",
              "      <td>3</td>\n",
              "      <td>6.0</td>\n",
              "      <td>69.9</td>\n",
              "      <td>5940.0</td>\n",
              "      <td>94.0</td>\n",
              "      <td>96.0</td>\n",
              "      <td>33351.0</td>\n",
              "    </tr>\n",
              "    <tr>\n",
              "      <th>3</th>\n",
              "      <td>Andorra</td>\n",
              "      <td>4</td>\n",
              "      <td>2</td>\n",
              "      <td>NaN</td>\n",
              "      <td>NaN</td>\n",
              "      <td>NaN</td>\n",
              "      <td>83.0</td>\n",
              "      <td>83.0</td>\n",
              "      <td>74.0</td>\n",
              "    </tr>\n",
              "    <tr>\n",
              "      <th>4</th>\n",
              "      <td>Angola</td>\n",
              "      <td>5</td>\n",
              "      <td>3</td>\n",
              "      <td>146.0</td>\n",
              "      <td>67.4</td>\n",
              "      <td>3890.0</td>\n",
              "      <td>49.0</td>\n",
              "      <td>51.0</td>\n",
              "      <td>16557.0</td>\n",
              "    </tr>\n",
              "  </tbody>\n",
              "</table>\n",
              "</div>\n",
              "      <button class=\"colab-df-convert\" onclick=\"convertToInteractive('df-843724a6-fe14-446e-8895-791b2b62067c')\"\n",
              "              title=\"Convert this dataframe to an interactive table.\"\n",
              "              style=\"display:none;\">\n",
              "        \n",
              "  <svg xmlns=\"http://www.w3.org/2000/svg\" height=\"24px\"viewBox=\"0 0 24 24\"\n",
              "       width=\"24px\">\n",
              "    <path d=\"M0 0h24v24H0V0z\" fill=\"none\"/>\n",
              "    <path d=\"M18.56 5.44l.94 2.06.94-2.06 2.06-.94-2.06-.94-.94-2.06-.94 2.06-2.06.94zm-11 1L8.5 8.5l.94-2.06 2.06-.94-2.06-.94L8.5 2.5l-.94 2.06-2.06.94zm10 10l.94 2.06.94-2.06 2.06-.94-2.06-.94-.94-2.06-.94 2.06-2.06.94z\"/><path d=\"M17.41 7.96l-1.37-1.37c-.4-.4-.92-.59-1.43-.59-.52 0-1.04.2-1.43.59L10.3 9.45l-7.72 7.72c-.78.78-.78 2.05 0 2.83L4 21.41c.39.39.9.59 1.41.59.51 0 1.02-.2 1.41-.59l7.78-7.78 2.81-2.81c.8-.78.8-2.07 0-2.86zM5.41 20L4 18.59l7.72-7.72 1.47 1.35L5.41 20z\"/>\n",
              "  </svg>\n",
              "      </button>\n",
              "      \n",
              "  <style>\n",
              "    .colab-df-container {\n",
              "      display:flex;\n",
              "      flex-wrap:wrap;\n",
              "      gap: 12px;\n",
              "    }\n",
              "\n",
              "    .colab-df-convert {\n",
              "      background-color: #E8F0FE;\n",
              "      border: none;\n",
              "      border-radius: 50%;\n",
              "      cursor: pointer;\n",
              "      display: none;\n",
              "      fill: #1967D2;\n",
              "      height: 32px;\n",
              "      padding: 0 0 0 0;\n",
              "      width: 32px;\n",
              "    }\n",
              "\n",
              "    .colab-df-convert:hover {\n",
              "      background-color: #E2EBFA;\n",
              "      box-shadow: 0px 1px 2px rgba(60, 64, 67, 0.3), 0px 1px 3px 1px rgba(60, 64, 67, 0.15);\n",
              "      fill: #174EA6;\n",
              "    }\n",
              "\n",
              "    [theme=dark] .colab-df-convert {\n",
              "      background-color: #3B4455;\n",
              "      fill: #D2E3FC;\n",
              "    }\n",
              "\n",
              "    [theme=dark] .colab-df-convert:hover {\n",
              "      background-color: #434B5C;\n",
              "      box-shadow: 0px 1px 3px 1px rgba(0, 0, 0, 0.15);\n",
              "      filter: drop-shadow(0px 1px 2px rgba(0, 0, 0, 0.3));\n",
              "      fill: #FFFFFF;\n",
              "    }\n",
              "  </style>\n",
              "\n",
              "      <script>\n",
              "        const buttonEl =\n",
              "          document.querySelector('#df-843724a6-fe14-446e-8895-791b2b62067c button.colab-df-convert');\n",
              "        buttonEl.style.display =\n",
              "          google.colab.kernel.accessAllowed ? 'block' : 'none';\n",
              "\n",
              "        async function convertToInteractive(key) {\n",
              "          const element = document.querySelector('#df-843724a6-fe14-446e-8895-791b2b62067c');\n",
              "          const dataTable =\n",
              "            await google.colab.kernel.invokeFunction('convertToInteractive',\n",
              "                                                     [key], {});\n",
              "          if (!dataTable) return;\n",
              "\n",
              "          const docLinkHtml = 'Like what you see? Visit the ' +\n",
              "            '<a target=\"_blank\" href=https://colab.research.google.com/notebooks/data_table.ipynb>data table notebook</a>'\n",
              "            + ' to learn more about interactive tables.';\n",
              "          element.innerHTML = '';\n",
              "          dataTable['output_type'] = 'display_data';\n",
              "          await google.colab.output.renderOutput(dataTable, element);\n",
              "          const docLink = document.createElement('div');\n",
              "          docLink.innerHTML = docLinkHtml;\n",
              "          element.appendChild(docLink);\n",
              "        }\n",
              "      </script>\n",
              "    </div>\n",
              "  </div>\n",
              "  "
            ],
            "text/plain": [
              "       Country  ...  Population (in thousands) total\n",
              "0  Afghanistan  ...                          26088.0\n",
              "1      Albania  ...                           3172.0\n",
              "2      Algeria  ...                          33351.0\n",
              "3      Andorra  ...                             74.0\n",
              "4       Angola  ...                          16557.0\n",
              "\n",
              "[5 rows x 9 columns]"
            ]
          },
          "metadata": {},
          "execution_count": 109
        }
      ]
    },
    {
      "cell_type": "code",
      "source": [
        "df.shape"
      ],
      "metadata": {
        "colab": {
          "base_uri": "https://localhost:8080/"
        },
        "id": "vEoRBrHD10Hj",
        "outputId": "7394b0e7-1a5e-4727-ed0a-af4494604eb2"
      },
      "execution_count": 110,
      "outputs": [
        {
          "output_type": "execute_result",
          "data": {
            "text/plain": [
              "(202, 9)"
            ]
          },
          "metadata": {},
          "execution_count": 110
        }
      ]
    },
    {
      "cell_type": "code",
      "source": [
        "# Select a series\n",
        "country_series = df['Country']\n",
        "country_series"
      ],
      "metadata": {
        "colab": {
          "base_uri": "https://localhost:8080/"
        },
        "id": "FyiXsXLB15e4",
        "outputId": "ab030686-4af8-4922-b530-cafb9e358c22"
      },
      "execution_count": 111,
      "outputs": [
        {
          "output_type": "execute_result",
          "data": {
            "text/plain": [
              "0             Afghanistan\n",
              "1                 Albania\n",
              "2                 Algeria\n",
              "3                 Andorra\n",
              "4                  Angola\n",
              "              ...        \n",
              "197               Vietnam\n",
              "198    West Bank and Gaza\n",
              "199                 Yemen\n",
              "200                Zambia\n",
              "201              Zimbabwe\n",
              "Name: Country, Length: 202, dtype: object"
            ]
          },
          "metadata": {},
          "execution_count": 111
        }
      ]
    },
    {
      "cell_type": "code",
      "source": [
        "print(type(country_series))"
      ],
      "metadata": {
        "colab": {
          "base_uri": "https://localhost:8080/"
        },
        "id": "MuThPkg82UTy",
        "outputId": "ecf6462f-c246-496c-c334-4f0242f81f77"
      },
      "execution_count": 112,
      "outputs": [
        {
          "output_type": "stream",
          "name": "stdout",
          "text": [
            "<class 'pandas.core.series.Series'>\n"
          ]
        }
      ]
    },
    {
      "cell_type": "code",
      "source": [
        "country_series.index"
      ],
      "metadata": {
        "colab": {
          "base_uri": "https://localhost:8080/"
        },
        "id": "WzQxGDVG4576",
        "outputId": "f44a55db-a0ba-496a-a5a1-fed8ebd935c7"
      },
      "execution_count": 113,
      "outputs": [
        {
          "output_type": "execute_result",
          "data": {
            "text/plain": [
              "RangeIndex(start=0, stop=202, step=1)"
            ]
          },
          "metadata": {},
          "execution_count": 113
        }
      ]
    },
    {
      "cell_type": "code",
      "source": [
        "country_series.name"
      ],
      "metadata": {
        "colab": {
          "base_uri": "https://localhost:8080/",
          "height": 35
        },
        "id": "61K4SQRn45kx",
        "outputId": "a9d232d5-f035-4354-9dfd-6c22130c92be"
      },
      "execution_count": 114,
      "outputs": [
        {
          "output_type": "execute_result",
          "data": {
            "application/vnd.google.colaboratory.intrinsic+json": {
              "type": "string"
            },
            "text/plain": [
              "'Country'"
            ]
          },
          "metadata": {},
          "execution_count": 114
        }
      ]
    },
    {
      "cell_type": "code",
      "source": [
        "country_series.values[:10]"
      ],
      "metadata": {
        "colab": {
          "base_uri": "https://localhost:8080/"
        },
        "id": "8sK33hQ-45N3",
        "outputId": "8d79a029-7a83-48c5-e30f-d609fdd4ba32"
      },
      "execution_count": 115,
      "outputs": [
        {
          "output_type": "execute_result",
          "data": {
            "text/plain": [
              "array(['Afghanistan', 'Albania', 'Algeria', 'Andorra', 'Angola',\n",
              "       'Antigua and Barbuda', 'Argentina', 'Armenia', 'Australia',\n",
              "       'Austria'], dtype=object)"
            ]
          },
          "metadata": {},
          "execution_count": 115
        }
      ]
    },
    {
      "cell_type": "code",
      "source": [
        "# Show the shape of DataFrame\n",
        "print(f'Shape of DataFrame: {df.shape}')"
      ],
      "metadata": {
        "colab": {
          "base_uri": "https://localhost:8080/"
        },
        "id": "fZlmJZvj2lAb",
        "outputId": "79cedd9d-59ee-4da1-b75a-403efb781bd3"
      },
      "execution_count": 116,
      "outputs": [
        {
          "output_type": "stream",
          "name": "stdout",
          "text": [
            "Shape of DataFrame: (202, 9)\n"
          ]
        }
      ]
    },
    {
      "cell_type": "code",
      "source": [
        "# check the column list of a DataFrame\n",
        "print(f'List of columns:\\n {df.columns}')"
      ],
      "metadata": {
        "colab": {
          "base_uri": "https://localhost:8080/"
        },
        "id": "BKNUBChk3Npf",
        "outputId": "860735d5-e8b9-4724-d139-05936981de39"
      },
      "execution_count": 117,
      "outputs": [
        {
          "output_type": "stream",
          "name": "stdout",
          "text": [
            "List of columns:\n",
            " Index(['Country', 'CountryID', 'Continent', 'Adolescent fertility rate (%)',\n",
            "       'Adult literacy rate (%)',\n",
            "       'Gross national income per capita (PPP international $)',\n",
            "       'Net primary school enrolment ratio female (%)',\n",
            "       'Net primary school enrolment ratio male (%)',\n",
            "       'Population (in thousands) total'],\n",
            "      dtype='object')\n"
          ]
        }
      ]
    },
    {
      "cell_type": "code",
      "source": [
        "# Show the datatypes of columns\n",
        "print(\"Data types:\", df.dtypes)"
      ],
      "metadata": {
        "colab": {
          "base_uri": "https://localhost:8080/"
        },
        "id": "qy_N8gHO3dEj",
        "outputId": "ef1b30b1-c244-4f5b-f865-b300f8e33ad8"
      },
      "execution_count": 118,
      "outputs": [
        {
          "output_type": "stream",
          "name": "stdout",
          "text": [
            "Data types: Country                                                    object\n",
            "CountryID                                                   int64\n",
            "Continent                                                   int64\n",
            "Adolescent fertility rate (%)                             float64\n",
            "Adult literacy rate (%)                                   float64\n",
            "Gross national income per capita (PPP international $)    float64\n",
            "Net primary school enrolment ratio female (%)             float64\n",
            "Net primary school enrolment ratio male (%)               float64\n",
            "Population (in thousands) total                           float64\n",
            "dtype: object\n"
          ]
        }
      ]
    },
    {
      "cell_type": "markdown",
      "source": [
        "---\n",
        "# Querying Data\n",
        "---\n"
      ],
      "metadata": {
        "id": "l7It9g7r5Ry2"
      }
    },
    {
      "cell_type": "code",
      "source": [
        "!pip install Quandl"
      ],
      "metadata": {
        "colab": {
          "base_uri": "https://localhost:8080/"
        },
        "id": "QH9KbRnC3wg8",
        "outputId": "7da04fb5-db44-428a-bf89-1a08189d58b0"
      },
      "execution_count": 119,
      "outputs": [
        {
          "output_type": "stream",
          "name": "stdout",
          "text": [
            "Collecting Quandl\n",
            "  Downloading Quandl-3.7.0-py2.py3-none-any.whl (26 kB)\n",
            "Requirement already satisfied: six in /usr/local/lib/python3.7/dist-packages (from Quandl) (1.15.0)\n",
            "Requirement already satisfied: more-itertools in /usr/local/lib/python3.7/dist-packages (from Quandl) (8.12.0)\n",
            "Collecting inflection>=0.3.1\n",
            "  Downloading inflection-0.5.1-py2.py3-none-any.whl (9.5 kB)\n",
            "Requirement already satisfied: numpy>=1.8 in /usr/local/lib/python3.7/dist-packages (from Quandl) (1.19.5)\n",
            "Requirement already satisfied: pandas>=0.14 in /usr/local/lib/python3.7/dist-packages (from Quandl) (1.1.5)\n",
            "Requirement already satisfied: python-dateutil in /usr/local/lib/python3.7/dist-packages (from Quandl) (2.8.2)\n",
            "Requirement already satisfied: requests>=2.7.0 in /usr/local/lib/python3.7/dist-packages (from Quandl) (2.23.0)\n",
            "Requirement already satisfied: pytz>=2017.2 in /usr/local/lib/python3.7/dist-packages (from pandas>=0.14->Quandl) (2018.9)\n",
            "Requirement already satisfied: certifi>=2017.4.17 in /usr/local/lib/python3.7/dist-packages (from requests>=2.7.0->Quandl) (2021.10.8)\n",
            "Requirement already satisfied: urllib3!=1.25.0,!=1.25.1,<1.26,>=1.21.1 in /usr/local/lib/python3.7/dist-packages (from requests>=2.7.0->Quandl) (1.24.3)\n",
            "Requirement already satisfied: chardet<4,>=3.0.2 in /usr/local/lib/python3.7/dist-packages (from requests>=2.7.0->Quandl) (3.0.4)\n",
            "Requirement already satisfied: idna<3,>=2.5 in /usr/local/lib/python3.7/dist-packages (from requests>=2.7.0->Quandl) (2.10)\n",
            "Installing collected packages: inflection, Quandl\n",
            "Successfully installed Quandl-3.7.0 inflection-0.5.1\n"
          ]
        }
      ]
    },
    {
      "cell_type": "code",
      "source": [
        "import quandl\n",
        "# import nasdaqdatalink\n",
        "# nasdaqdatalink.ApiConfig.api_key = \"\""
      ],
      "metadata": {
        "id": "eXEexjgX5yLH"
      },
      "execution_count": 120,
      "outputs": []
    },
    {
      "cell_type": "code",
      "source": [
        "quandl.ApiConfig.api_key = \"\""
      ],
      "metadata": {
        "id": "vshFbTED8IPZ"
      },
      "execution_count": 121,
      "outputs": []
    },
    {
      "cell_type": "code",
      "source": [
        "sunspots = quandl.get(\"SIDC/SUNSPOTS_A\")\n",
        "sunspots.head()"
      ],
      "metadata": {
        "colab": {
          "base_uri": "https://localhost:8080/",
          "height": 238
        },
        "id": "AGrJm7qUk3my",
        "outputId": "08a907be-3f33-41bf-c936-af3be3d8520f"
      },
      "execution_count": 122,
      "outputs": [
        {
          "output_type": "execute_result",
          "data": {
            "text/html": [
              "\n",
              "  <div id=\"df-43e77ed4-79ee-4691-bff7-29de5551aaea\">\n",
              "    <div class=\"colab-df-container\">\n",
              "      <div>\n",
              "<style scoped>\n",
              "    .dataframe tbody tr th:only-of-type {\n",
              "        vertical-align: middle;\n",
              "    }\n",
              "\n",
              "    .dataframe tbody tr th {\n",
              "        vertical-align: top;\n",
              "    }\n",
              "\n",
              "    .dataframe thead th {\n",
              "        text-align: right;\n",
              "    }\n",
              "</style>\n",
              "<table border=\"1\" class=\"dataframe\">\n",
              "  <thead>\n",
              "    <tr style=\"text-align: right;\">\n",
              "      <th></th>\n",
              "      <th>Yearly Mean Total Sunspot Number</th>\n",
              "      <th>Yearly Mean Standard Deviation</th>\n",
              "      <th>Number of Observations</th>\n",
              "      <th>Definitive/Provisional Indicator</th>\n",
              "    </tr>\n",
              "    <tr>\n",
              "      <th>Date</th>\n",
              "      <th></th>\n",
              "      <th></th>\n",
              "      <th></th>\n",
              "      <th></th>\n",
              "    </tr>\n",
              "  </thead>\n",
              "  <tbody>\n",
              "    <tr>\n",
              "      <th>1700-12-31</th>\n",
              "      <td>8.3</td>\n",
              "      <td>NaN</td>\n",
              "      <td>NaN</td>\n",
              "      <td>1.0</td>\n",
              "    </tr>\n",
              "    <tr>\n",
              "      <th>1701-12-31</th>\n",
              "      <td>18.3</td>\n",
              "      <td>NaN</td>\n",
              "      <td>NaN</td>\n",
              "      <td>1.0</td>\n",
              "    </tr>\n",
              "    <tr>\n",
              "      <th>1702-12-31</th>\n",
              "      <td>26.7</td>\n",
              "      <td>NaN</td>\n",
              "      <td>NaN</td>\n",
              "      <td>1.0</td>\n",
              "    </tr>\n",
              "    <tr>\n",
              "      <th>1703-12-31</th>\n",
              "      <td>38.3</td>\n",
              "      <td>NaN</td>\n",
              "      <td>NaN</td>\n",
              "      <td>1.0</td>\n",
              "    </tr>\n",
              "    <tr>\n",
              "      <th>1704-12-31</th>\n",
              "      <td>60.0</td>\n",
              "      <td>NaN</td>\n",
              "      <td>NaN</td>\n",
              "      <td>1.0</td>\n",
              "    </tr>\n",
              "  </tbody>\n",
              "</table>\n",
              "</div>\n",
              "      <button class=\"colab-df-convert\" onclick=\"convertToInteractive('df-43e77ed4-79ee-4691-bff7-29de5551aaea')\"\n",
              "              title=\"Convert this dataframe to an interactive table.\"\n",
              "              style=\"display:none;\">\n",
              "        \n",
              "  <svg xmlns=\"http://www.w3.org/2000/svg\" height=\"24px\"viewBox=\"0 0 24 24\"\n",
              "       width=\"24px\">\n",
              "    <path d=\"M0 0h24v24H0V0z\" fill=\"none\"/>\n",
              "    <path d=\"M18.56 5.44l.94 2.06.94-2.06 2.06-.94-2.06-.94-.94-2.06-.94 2.06-2.06.94zm-11 1L8.5 8.5l.94-2.06 2.06-.94-2.06-.94L8.5 2.5l-.94 2.06-2.06.94zm10 10l.94 2.06.94-2.06 2.06-.94-2.06-.94-.94-2.06-.94 2.06-2.06.94z\"/><path d=\"M17.41 7.96l-1.37-1.37c-.4-.4-.92-.59-1.43-.59-.52 0-1.04.2-1.43.59L10.3 9.45l-7.72 7.72c-.78.78-.78 2.05 0 2.83L4 21.41c.39.39.9.59 1.41.59.51 0 1.02-.2 1.41-.59l7.78-7.78 2.81-2.81c.8-.78.8-2.07 0-2.86zM5.41 20L4 18.59l7.72-7.72 1.47 1.35L5.41 20z\"/>\n",
              "  </svg>\n",
              "      </button>\n",
              "      \n",
              "  <style>\n",
              "    .colab-df-container {\n",
              "      display:flex;\n",
              "      flex-wrap:wrap;\n",
              "      gap: 12px;\n",
              "    }\n",
              "\n",
              "    .colab-df-convert {\n",
              "      background-color: #E8F0FE;\n",
              "      border: none;\n",
              "      border-radius: 50%;\n",
              "      cursor: pointer;\n",
              "      display: none;\n",
              "      fill: #1967D2;\n",
              "      height: 32px;\n",
              "      padding: 0 0 0 0;\n",
              "      width: 32px;\n",
              "    }\n",
              "\n",
              "    .colab-df-convert:hover {\n",
              "      background-color: #E2EBFA;\n",
              "      box-shadow: 0px 1px 2px rgba(60, 64, 67, 0.3), 0px 1px 3px 1px rgba(60, 64, 67, 0.15);\n",
              "      fill: #174EA6;\n",
              "    }\n",
              "\n",
              "    [theme=dark] .colab-df-convert {\n",
              "      background-color: #3B4455;\n",
              "      fill: #D2E3FC;\n",
              "    }\n",
              "\n",
              "    [theme=dark] .colab-df-convert:hover {\n",
              "      background-color: #434B5C;\n",
              "      box-shadow: 0px 1px 3px 1px rgba(0, 0, 0, 0.15);\n",
              "      filter: drop-shadow(0px 1px 2px rgba(0, 0, 0, 0.3));\n",
              "      fill: #FFFFFF;\n",
              "    }\n",
              "  </style>\n",
              "\n",
              "      <script>\n",
              "        const buttonEl =\n",
              "          document.querySelector('#df-43e77ed4-79ee-4691-bff7-29de5551aaea button.colab-df-convert');\n",
              "        buttonEl.style.display =\n",
              "          google.colab.kernel.accessAllowed ? 'block' : 'none';\n",
              "\n",
              "        async function convertToInteractive(key) {\n",
              "          const element = document.querySelector('#df-43e77ed4-79ee-4691-bff7-29de5551aaea');\n",
              "          const dataTable =\n",
              "            await google.colab.kernel.invokeFunction('convertToInteractive',\n",
              "                                                     [key], {});\n",
              "          if (!dataTable) return;\n",
              "\n",
              "          const docLinkHtml = 'Like what you see? Visit the ' +\n",
              "            '<a target=\"_blank\" href=https://colab.research.google.com/notebooks/data_table.ipynb>data table notebook</a>'\n",
              "            + ' to learn more about interactive tables.';\n",
              "          element.innerHTML = '';\n",
              "          dataTable['output_type'] = 'display_data';\n",
              "          await google.colab.output.renderOutput(dataTable, element);\n",
              "          const docLink = document.createElement('div');\n",
              "          docLink.innerHTML = docLinkHtml;\n",
              "          element.appendChild(docLink);\n",
              "        }\n",
              "      </script>\n",
              "    </div>\n",
              "  </div>\n",
              "  "
            ],
            "text/plain": [
              "            Yearly Mean Total Sunspot Number  ...  Definitive/Provisional Indicator\n",
              "Date                                          ...                                  \n",
              "1700-12-31                               8.3  ...                               1.0\n",
              "1701-12-31                              18.3  ...                               1.0\n",
              "1702-12-31                              26.7  ...                               1.0\n",
              "1703-12-31                              38.3  ...                               1.0\n",
              "1704-12-31                              60.0  ...                               1.0\n",
              "\n",
              "[5 rows x 4 columns]"
            ]
          },
          "metadata": {},
          "execution_count": 122
        }
      ]
    },
    {
      "cell_type": "code",
      "source": [
        "sunspots.tail()"
      ],
      "metadata": {
        "colab": {
          "base_uri": "https://localhost:8080/",
          "height": 238
        },
        "id": "va5kEwHcljI7",
        "outputId": "fd7d5e47-9ae0-4d53-95cb-96f32f0ae668"
      },
      "execution_count": 123,
      "outputs": [
        {
          "output_type": "execute_result",
          "data": {
            "text/html": [
              "\n",
              "  <div id=\"df-7bcfe6eb-8800-49bc-996d-fbd63cc4a5ad\">\n",
              "    <div class=\"colab-df-container\">\n",
              "      <div>\n",
              "<style scoped>\n",
              "    .dataframe tbody tr th:only-of-type {\n",
              "        vertical-align: middle;\n",
              "    }\n",
              "\n",
              "    .dataframe tbody tr th {\n",
              "        vertical-align: top;\n",
              "    }\n",
              "\n",
              "    .dataframe thead th {\n",
              "        text-align: right;\n",
              "    }\n",
              "</style>\n",
              "<table border=\"1\" class=\"dataframe\">\n",
              "  <thead>\n",
              "    <tr style=\"text-align: right;\">\n",
              "      <th></th>\n",
              "      <th>Yearly Mean Total Sunspot Number</th>\n",
              "      <th>Yearly Mean Standard Deviation</th>\n",
              "      <th>Number of Observations</th>\n",
              "      <th>Definitive/Provisional Indicator</th>\n",
              "    </tr>\n",
              "    <tr>\n",
              "      <th>Date</th>\n",
              "      <th></th>\n",
              "      <th></th>\n",
              "      <th></th>\n",
              "      <th></th>\n",
              "    </tr>\n",
              "  </thead>\n",
              "  <tbody>\n",
              "    <tr>\n",
              "      <th>2016-12-31</th>\n",
              "      <td>39.8</td>\n",
              "      <td>3.9</td>\n",
              "      <td>9940.0</td>\n",
              "      <td>1.0</td>\n",
              "    </tr>\n",
              "    <tr>\n",
              "      <th>2017-12-31</th>\n",
              "      <td>21.7</td>\n",
              "      <td>2.5</td>\n",
              "      <td>11444.0</td>\n",
              "      <td>1.0</td>\n",
              "    </tr>\n",
              "    <tr>\n",
              "      <th>2018-12-31</th>\n",
              "      <td>7.0</td>\n",
              "      <td>1.1</td>\n",
              "      <td>12611.0</td>\n",
              "      <td>1.0</td>\n",
              "    </tr>\n",
              "    <tr>\n",
              "      <th>2019-12-31</th>\n",
              "      <td>3.6</td>\n",
              "      <td>0.5</td>\n",
              "      <td>12884.0</td>\n",
              "      <td>1.0</td>\n",
              "    </tr>\n",
              "    <tr>\n",
              "      <th>2020-12-31</th>\n",
              "      <td>8.8</td>\n",
              "      <td>4.1</td>\n",
              "      <td>14440.0</td>\n",
              "      <td>1.0</td>\n",
              "    </tr>\n",
              "  </tbody>\n",
              "</table>\n",
              "</div>\n",
              "      <button class=\"colab-df-convert\" onclick=\"convertToInteractive('df-7bcfe6eb-8800-49bc-996d-fbd63cc4a5ad')\"\n",
              "              title=\"Convert this dataframe to an interactive table.\"\n",
              "              style=\"display:none;\">\n",
              "        \n",
              "  <svg xmlns=\"http://www.w3.org/2000/svg\" height=\"24px\"viewBox=\"0 0 24 24\"\n",
              "       width=\"24px\">\n",
              "    <path d=\"M0 0h24v24H0V0z\" fill=\"none\"/>\n",
              "    <path d=\"M18.56 5.44l.94 2.06.94-2.06 2.06-.94-2.06-.94-.94-2.06-.94 2.06-2.06.94zm-11 1L8.5 8.5l.94-2.06 2.06-.94-2.06-.94L8.5 2.5l-.94 2.06-2.06.94zm10 10l.94 2.06.94-2.06 2.06-.94-2.06-.94-.94-2.06-.94 2.06-2.06.94z\"/><path d=\"M17.41 7.96l-1.37-1.37c-.4-.4-.92-.59-1.43-.59-.52 0-1.04.2-1.43.59L10.3 9.45l-7.72 7.72c-.78.78-.78 2.05 0 2.83L4 21.41c.39.39.9.59 1.41.59.51 0 1.02-.2 1.41-.59l7.78-7.78 2.81-2.81c.8-.78.8-2.07 0-2.86zM5.41 20L4 18.59l7.72-7.72 1.47 1.35L5.41 20z\"/>\n",
              "  </svg>\n",
              "      </button>\n",
              "      \n",
              "  <style>\n",
              "    .colab-df-container {\n",
              "      display:flex;\n",
              "      flex-wrap:wrap;\n",
              "      gap: 12px;\n",
              "    }\n",
              "\n",
              "    .colab-df-convert {\n",
              "      background-color: #E8F0FE;\n",
              "      border: none;\n",
              "      border-radius: 50%;\n",
              "      cursor: pointer;\n",
              "      display: none;\n",
              "      fill: #1967D2;\n",
              "      height: 32px;\n",
              "      padding: 0 0 0 0;\n",
              "      width: 32px;\n",
              "    }\n",
              "\n",
              "    .colab-df-convert:hover {\n",
              "      background-color: #E2EBFA;\n",
              "      box-shadow: 0px 1px 2px rgba(60, 64, 67, 0.3), 0px 1px 3px 1px rgba(60, 64, 67, 0.15);\n",
              "      fill: #174EA6;\n",
              "    }\n",
              "\n",
              "    [theme=dark] .colab-df-convert {\n",
              "      background-color: #3B4455;\n",
              "      fill: #D2E3FC;\n",
              "    }\n",
              "\n",
              "    [theme=dark] .colab-df-convert:hover {\n",
              "      background-color: #434B5C;\n",
              "      box-shadow: 0px 1px 3px 1px rgba(0, 0, 0, 0.15);\n",
              "      filter: drop-shadow(0px 1px 2px rgba(0, 0, 0, 0.3));\n",
              "      fill: #FFFFFF;\n",
              "    }\n",
              "  </style>\n",
              "\n",
              "      <script>\n",
              "        const buttonEl =\n",
              "          document.querySelector('#df-7bcfe6eb-8800-49bc-996d-fbd63cc4a5ad button.colab-df-convert');\n",
              "        buttonEl.style.display =\n",
              "          google.colab.kernel.accessAllowed ? 'block' : 'none';\n",
              "\n",
              "        async function convertToInteractive(key) {\n",
              "          const element = document.querySelector('#df-7bcfe6eb-8800-49bc-996d-fbd63cc4a5ad');\n",
              "          const dataTable =\n",
              "            await google.colab.kernel.invokeFunction('convertToInteractive',\n",
              "                                                     [key], {});\n",
              "          if (!dataTable) return;\n",
              "\n",
              "          const docLinkHtml = 'Like what you see? Visit the ' +\n",
              "            '<a target=\"_blank\" href=https://colab.research.google.com/notebooks/data_table.ipynb>data table notebook</a>'\n",
              "            + ' to learn more about interactive tables.';\n",
              "          element.innerHTML = '';\n",
              "          dataTable['output_type'] = 'display_data';\n",
              "          await google.colab.output.renderOutput(dataTable, element);\n",
              "          const docLink = document.createElement('div');\n",
              "          docLink.innerHTML = docLinkHtml;\n",
              "          element.appendChild(docLink);\n",
              "        }\n",
              "      </script>\n",
              "    </div>\n",
              "  </div>\n",
              "  "
            ],
            "text/plain": [
              "            Yearly Mean Total Sunspot Number  ...  Definitive/Provisional Indicator\n",
              "Date                                          ...                                  \n",
              "2016-12-31                              39.8  ...                               1.0\n",
              "2017-12-31                              21.7  ...                               1.0\n",
              "2018-12-31                               7.0  ...                               1.0\n",
              "2019-12-31                               3.6  ...                               1.0\n",
              "2020-12-31                               8.8  ...                               1.0\n",
              "\n",
              "[5 rows x 4 columns]"
            ]
          },
          "metadata": {},
          "execution_count": 123
        }
      ]
    },
    {
      "cell_type": "code",
      "source": [
        "# Rename the column of DataFrame\n",
        "sunspots.rename(columns={\n",
        "    'Yearly Mean Total Sunspot Number': 'yr_mean_tot_nbr',\n",
        "    'Yearly Mean Standard Deviation': 'yr_mean_std',\n",
        "    'Number of Observations': 'num_of_obs',\n",
        "    'Definitive/Provisional Indicator': 'def_prov_ind',\n",
        "}, inplace=True)\n",
        "\n",
        "sunspots.head()"
      ],
      "metadata": {
        "colab": {
          "base_uri": "https://localhost:8080/",
          "height": 238
        },
        "id": "ZMMrCiotmUwx",
        "outputId": "7fdac059-5863-4bca-ea07-5f158fbb2762"
      },
      "execution_count": 124,
      "outputs": [
        {
          "output_type": "execute_result",
          "data": {
            "text/html": [
              "\n",
              "  <div id=\"df-995482b7-949a-44ae-86e0-4ec4f0475d2f\">\n",
              "    <div class=\"colab-df-container\">\n",
              "      <div>\n",
              "<style scoped>\n",
              "    .dataframe tbody tr th:only-of-type {\n",
              "        vertical-align: middle;\n",
              "    }\n",
              "\n",
              "    .dataframe tbody tr th {\n",
              "        vertical-align: top;\n",
              "    }\n",
              "\n",
              "    .dataframe thead th {\n",
              "        text-align: right;\n",
              "    }\n",
              "</style>\n",
              "<table border=\"1\" class=\"dataframe\">\n",
              "  <thead>\n",
              "    <tr style=\"text-align: right;\">\n",
              "      <th></th>\n",
              "      <th>yr_mean_tot_nbr</th>\n",
              "      <th>yr_mean_std</th>\n",
              "      <th>num_of_obs</th>\n",
              "      <th>def_prov_ind</th>\n",
              "    </tr>\n",
              "    <tr>\n",
              "      <th>Date</th>\n",
              "      <th></th>\n",
              "      <th></th>\n",
              "      <th></th>\n",
              "      <th></th>\n",
              "    </tr>\n",
              "  </thead>\n",
              "  <tbody>\n",
              "    <tr>\n",
              "      <th>1700-12-31</th>\n",
              "      <td>8.3</td>\n",
              "      <td>NaN</td>\n",
              "      <td>NaN</td>\n",
              "      <td>1.0</td>\n",
              "    </tr>\n",
              "    <tr>\n",
              "      <th>1701-12-31</th>\n",
              "      <td>18.3</td>\n",
              "      <td>NaN</td>\n",
              "      <td>NaN</td>\n",
              "      <td>1.0</td>\n",
              "    </tr>\n",
              "    <tr>\n",
              "      <th>1702-12-31</th>\n",
              "      <td>26.7</td>\n",
              "      <td>NaN</td>\n",
              "      <td>NaN</td>\n",
              "      <td>1.0</td>\n",
              "    </tr>\n",
              "    <tr>\n",
              "      <th>1703-12-31</th>\n",
              "      <td>38.3</td>\n",
              "      <td>NaN</td>\n",
              "      <td>NaN</td>\n",
              "      <td>1.0</td>\n",
              "    </tr>\n",
              "    <tr>\n",
              "      <th>1704-12-31</th>\n",
              "      <td>60.0</td>\n",
              "      <td>NaN</td>\n",
              "      <td>NaN</td>\n",
              "      <td>1.0</td>\n",
              "    </tr>\n",
              "  </tbody>\n",
              "</table>\n",
              "</div>\n",
              "      <button class=\"colab-df-convert\" onclick=\"convertToInteractive('df-995482b7-949a-44ae-86e0-4ec4f0475d2f')\"\n",
              "              title=\"Convert this dataframe to an interactive table.\"\n",
              "              style=\"display:none;\">\n",
              "        \n",
              "  <svg xmlns=\"http://www.w3.org/2000/svg\" height=\"24px\"viewBox=\"0 0 24 24\"\n",
              "       width=\"24px\">\n",
              "    <path d=\"M0 0h24v24H0V0z\" fill=\"none\"/>\n",
              "    <path d=\"M18.56 5.44l.94 2.06.94-2.06 2.06-.94-2.06-.94-.94-2.06-.94 2.06-2.06.94zm-11 1L8.5 8.5l.94-2.06 2.06-.94-2.06-.94L8.5 2.5l-.94 2.06-2.06.94zm10 10l.94 2.06.94-2.06 2.06-.94-2.06-.94-.94-2.06-.94 2.06-2.06.94z\"/><path d=\"M17.41 7.96l-1.37-1.37c-.4-.4-.92-.59-1.43-.59-.52 0-1.04.2-1.43.59L10.3 9.45l-7.72 7.72c-.78.78-.78 2.05 0 2.83L4 21.41c.39.39.9.59 1.41.59.51 0 1.02-.2 1.41-.59l7.78-7.78 2.81-2.81c.8-.78.8-2.07 0-2.86zM5.41 20L4 18.59l7.72-7.72 1.47 1.35L5.41 20z\"/>\n",
              "  </svg>\n",
              "      </button>\n",
              "      \n",
              "  <style>\n",
              "    .colab-df-container {\n",
              "      display:flex;\n",
              "      flex-wrap:wrap;\n",
              "      gap: 12px;\n",
              "    }\n",
              "\n",
              "    .colab-df-convert {\n",
              "      background-color: #E8F0FE;\n",
              "      border: none;\n",
              "      border-radius: 50%;\n",
              "      cursor: pointer;\n",
              "      display: none;\n",
              "      fill: #1967D2;\n",
              "      height: 32px;\n",
              "      padding: 0 0 0 0;\n",
              "      width: 32px;\n",
              "    }\n",
              "\n",
              "    .colab-df-convert:hover {\n",
              "      background-color: #E2EBFA;\n",
              "      box-shadow: 0px 1px 2px rgba(60, 64, 67, 0.3), 0px 1px 3px 1px rgba(60, 64, 67, 0.15);\n",
              "      fill: #174EA6;\n",
              "    }\n",
              "\n",
              "    [theme=dark] .colab-df-convert {\n",
              "      background-color: #3B4455;\n",
              "      fill: #D2E3FC;\n",
              "    }\n",
              "\n",
              "    [theme=dark] .colab-df-convert:hover {\n",
              "      background-color: #434B5C;\n",
              "      box-shadow: 0px 1px 3px 1px rgba(0, 0, 0, 0.15);\n",
              "      filter: drop-shadow(0px 1px 2px rgba(0, 0, 0, 0.3));\n",
              "      fill: #FFFFFF;\n",
              "    }\n",
              "  </style>\n",
              "\n",
              "      <script>\n",
              "        const buttonEl =\n",
              "          document.querySelector('#df-995482b7-949a-44ae-86e0-4ec4f0475d2f button.colab-df-convert');\n",
              "        buttonEl.style.display =\n",
              "          google.colab.kernel.accessAllowed ? 'block' : 'none';\n",
              "\n",
              "        async function convertToInteractive(key) {\n",
              "          const element = document.querySelector('#df-995482b7-949a-44ae-86e0-4ec4f0475d2f');\n",
              "          const dataTable =\n",
              "            await google.colab.kernel.invokeFunction('convertToInteractive',\n",
              "                                                     [key], {});\n",
              "          if (!dataTable) return;\n",
              "\n",
              "          const docLinkHtml = 'Like what you see? Visit the ' +\n",
              "            '<a target=\"_blank\" href=https://colab.research.google.com/notebooks/data_table.ipynb>data table notebook</a>'\n",
              "            + ' to learn more about interactive tables.';\n",
              "          element.innerHTML = '';\n",
              "          dataTable['output_type'] = 'display_data';\n",
              "          await google.colab.output.renderOutput(dataTable, element);\n",
              "          const docLink = document.createElement('div');\n",
              "          docLink.innerHTML = docLinkHtml;\n",
              "          element.appendChild(docLink);\n",
              "        }\n",
              "      </script>\n",
              "    </div>\n",
              "  </div>\n",
              "  "
            ],
            "text/plain": [
              "            yr_mean_tot_nbr  yr_mean_std  num_of_obs  def_prov_ind\n",
              "Date                                                              \n",
              "1700-12-31              8.3          NaN         NaN           1.0\n",
              "1701-12-31             18.3          NaN         NaN           1.0\n",
              "1702-12-31             26.7          NaN         NaN           1.0\n",
              "1703-12-31             38.3          NaN         NaN           1.0\n",
              "1704-12-31             60.0          NaN         NaN           1.0"
            ]
          },
          "metadata": {},
          "execution_count": 124
        }
      ]
    },
    {
      "cell_type": "code",
      "source": [
        "sunspots.columns"
      ],
      "metadata": {
        "colab": {
          "base_uri": "https://localhost:8080/"
        },
        "id": "-mYCWSTkoOvg",
        "outputId": "7ed9d3f4-7fbe-43f0-9086-c8f0a5f153a3"
      },
      "execution_count": 125,
      "outputs": [
        {
          "output_type": "execute_result",
          "data": {
            "text/plain": [
              "Index(['yr_mean_tot_nbr', 'yr_mean_std', 'num_of_obs', 'def_prov_ind'], dtype='object')"
            ]
          },
          "metadata": {},
          "execution_count": 125
        }
      ]
    },
    {
      "cell_type": "markdown",
      "source": [
        "## Filtering columns"
      ],
      "metadata": {
        "id": "pUnidN_0pKrB"
      }
    },
    {
      "cell_type": "code",
      "source": [
        "sunspots_filtred = sunspots[['yr_mean_tot_nbr', 'def_prov_ind']]\n",
        "sunspots_filtred.head()"
      ],
      "metadata": {
        "colab": {
          "base_uri": "https://localhost:8080/",
          "height": 238
        },
        "id": "uBKdzlFeoY4_",
        "outputId": "277329e2-b361-4419-b658-1e35f8cb8833"
      },
      "execution_count": 127,
      "outputs": [
        {
          "output_type": "execute_result",
          "data": {
            "text/html": [
              "\n",
              "  <div id=\"df-7b98e544-623f-49eb-abd8-d41ea74ab945\">\n",
              "    <div class=\"colab-df-container\">\n",
              "      <div>\n",
              "<style scoped>\n",
              "    .dataframe tbody tr th:only-of-type {\n",
              "        vertical-align: middle;\n",
              "    }\n",
              "\n",
              "    .dataframe tbody tr th {\n",
              "        vertical-align: top;\n",
              "    }\n",
              "\n",
              "    .dataframe thead th {\n",
              "        text-align: right;\n",
              "    }\n",
              "</style>\n",
              "<table border=\"1\" class=\"dataframe\">\n",
              "  <thead>\n",
              "    <tr style=\"text-align: right;\">\n",
              "      <th></th>\n",
              "      <th>yr_mean_tot_nbr</th>\n",
              "      <th>def_prov_ind</th>\n",
              "    </tr>\n",
              "    <tr>\n",
              "      <th>Date</th>\n",
              "      <th></th>\n",
              "      <th></th>\n",
              "    </tr>\n",
              "  </thead>\n",
              "  <tbody>\n",
              "    <tr>\n",
              "      <th>1700-12-31</th>\n",
              "      <td>8.3</td>\n",
              "      <td>1.0</td>\n",
              "    </tr>\n",
              "    <tr>\n",
              "      <th>1701-12-31</th>\n",
              "      <td>18.3</td>\n",
              "      <td>1.0</td>\n",
              "    </tr>\n",
              "    <tr>\n",
              "      <th>1702-12-31</th>\n",
              "      <td>26.7</td>\n",
              "      <td>1.0</td>\n",
              "    </tr>\n",
              "    <tr>\n",
              "      <th>1703-12-31</th>\n",
              "      <td>38.3</td>\n",
              "      <td>1.0</td>\n",
              "    </tr>\n",
              "    <tr>\n",
              "      <th>1704-12-31</th>\n",
              "      <td>60.0</td>\n",
              "      <td>1.0</td>\n",
              "    </tr>\n",
              "  </tbody>\n",
              "</table>\n",
              "</div>\n",
              "      <button class=\"colab-df-convert\" onclick=\"convertToInteractive('df-7b98e544-623f-49eb-abd8-d41ea74ab945')\"\n",
              "              title=\"Convert this dataframe to an interactive table.\"\n",
              "              style=\"display:none;\">\n",
              "        \n",
              "  <svg xmlns=\"http://www.w3.org/2000/svg\" height=\"24px\"viewBox=\"0 0 24 24\"\n",
              "       width=\"24px\">\n",
              "    <path d=\"M0 0h24v24H0V0z\" fill=\"none\"/>\n",
              "    <path d=\"M18.56 5.44l.94 2.06.94-2.06 2.06-.94-2.06-.94-.94-2.06-.94 2.06-2.06.94zm-11 1L8.5 8.5l.94-2.06 2.06-.94-2.06-.94L8.5 2.5l-.94 2.06-2.06.94zm10 10l.94 2.06.94-2.06 2.06-.94-2.06-.94-.94-2.06-.94 2.06-2.06.94z\"/><path d=\"M17.41 7.96l-1.37-1.37c-.4-.4-.92-.59-1.43-.59-.52 0-1.04.2-1.43.59L10.3 9.45l-7.72 7.72c-.78.78-.78 2.05 0 2.83L4 21.41c.39.39.9.59 1.41.59.51 0 1.02-.2 1.41-.59l7.78-7.78 2.81-2.81c.8-.78.8-2.07 0-2.86zM5.41 20L4 18.59l7.72-7.72 1.47 1.35L5.41 20z\"/>\n",
              "  </svg>\n",
              "      </button>\n",
              "      \n",
              "  <style>\n",
              "    .colab-df-container {\n",
              "      display:flex;\n",
              "      flex-wrap:wrap;\n",
              "      gap: 12px;\n",
              "    }\n",
              "\n",
              "    .colab-df-convert {\n",
              "      background-color: #E8F0FE;\n",
              "      border: none;\n",
              "      border-radius: 50%;\n",
              "      cursor: pointer;\n",
              "      display: none;\n",
              "      fill: #1967D2;\n",
              "      height: 32px;\n",
              "      padding: 0 0 0 0;\n",
              "      width: 32px;\n",
              "    }\n",
              "\n",
              "    .colab-df-convert:hover {\n",
              "      background-color: #E2EBFA;\n",
              "      box-shadow: 0px 1px 2px rgba(60, 64, 67, 0.3), 0px 1px 3px 1px rgba(60, 64, 67, 0.15);\n",
              "      fill: #174EA6;\n",
              "    }\n",
              "\n",
              "    [theme=dark] .colab-df-convert {\n",
              "      background-color: #3B4455;\n",
              "      fill: #D2E3FC;\n",
              "    }\n",
              "\n",
              "    [theme=dark] .colab-df-convert:hover {\n",
              "      background-color: #434B5C;\n",
              "      box-shadow: 0px 1px 3px 1px rgba(0, 0, 0, 0.15);\n",
              "      filter: drop-shadow(0px 1px 2px rgba(0, 0, 0, 0.3));\n",
              "      fill: #FFFFFF;\n",
              "    }\n",
              "  </style>\n",
              "\n",
              "      <script>\n",
              "        const buttonEl =\n",
              "          document.querySelector('#df-7b98e544-623f-49eb-abd8-d41ea74ab945 button.colab-df-convert');\n",
              "        buttonEl.style.display =\n",
              "          google.colab.kernel.accessAllowed ? 'block' : 'none';\n",
              "\n",
              "        async function convertToInteractive(key) {\n",
              "          const element = document.querySelector('#df-7b98e544-623f-49eb-abd8-d41ea74ab945');\n",
              "          const dataTable =\n",
              "            await google.colab.kernel.invokeFunction('convertToInteractive',\n",
              "                                                     [key], {});\n",
              "          if (!dataTable) return;\n",
              "\n",
              "          const docLinkHtml = 'Like what you see? Visit the ' +\n",
              "            '<a target=\"_blank\" href=https://colab.research.google.com/notebooks/data_table.ipynb>data table notebook</a>'\n",
              "            + ' to learn more about interactive tables.';\n",
              "          element.innerHTML = '';\n",
              "          dataTable['output_type'] = 'display_data';\n",
              "          await google.colab.output.renderOutput(dataTable, element);\n",
              "          const docLink = document.createElement('div');\n",
              "          docLink.innerHTML = docLinkHtml;\n",
              "          element.appendChild(docLink);\n",
              "        }\n",
              "      </script>\n",
              "    </div>\n",
              "  </div>\n",
              "  "
            ],
            "text/plain": [
              "            yr_mean_tot_nbr  def_prov_ind\n",
              "Date                                     \n",
              "1700-12-31              8.3           1.0\n",
              "1701-12-31             18.3           1.0\n",
              "1702-12-31             26.7           1.0\n",
              "1703-12-31             38.3           1.0\n",
              "1704-12-31             60.0           1.0"
            ]
          },
          "metadata": {},
          "execution_count": 127
        }
      ]
    },
    {
      "cell_type": "markdown",
      "source": [
        "## Filtering rows"
      ],
      "metadata": {
        "id": "18o77pvnpF_V"
      }
    },
    {
      "cell_type": "code",
      "source": [
        "# Select rows using index\n",
        "sunspots[\"20020101\": \"20131231\"]"
      ],
      "metadata": {
        "colab": {
          "base_uri": "https://localhost:8080/",
          "height": 457
        },
        "id": "Y5ONAr3Moy_5",
        "outputId": "5ecbd900-d397-4336-fa66-a0ab3ab529f5"
      },
      "execution_count": 129,
      "outputs": [
        {
          "output_type": "execute_result",
          "data": {
            "text/html": [
              "\n",
              "  <div id=\"df-217985a7-47cf-416c-b437-572ebb2d2407\">\n",
              "    <div class=\"colab-df-container\">\n",
              "      <div>\n",
              "<style scoped>\n",
              "    .dataframe tbody tr th:only-of-type {\n",
              "        vertical-align: middle;\n",
              "    }\n",
              "\n",
              "    .dataframe tbody tr th {\n",
              "        vertical-align: top;\n",
              "    }\n",
              "\n",
              "    .dataframe thead th {\n",
              "        text-align: right;\n",
              "    }\n",
              "</style>\n",
              "<table border=\"1\" class=\"dataframe\">\n",
              "  <thead>\n",
              "    <tr style=\"text-align: right;\">\n",
              "      <th></th>\n",
              "      <th>yr_mean_tot_nbr</th>\n",
              "      <th>yr_mean_std</th>\n",
              "      <th>num_of_obs</th>\n",
              "      <th>def_prov_ind</th>\n",
              "    </tr>\n",
              "    <tr>\n",
              "      <th>Date</th>\n",
              "      <th></th>\n",
              "      <th></th>\n",
              "      <th></th>\n",
              "      <th></th>\n",
              "    </tr>\n",
              "  </thead>\n",
              "  <tbody>\n",
              "    <tr>\n",
              "      <th>2002-12-31</th>\n",
              "      <td>163.6</td>\n",
              "      <td>9.8</td>\n",
              "      <td>6588.0</td>\n",
              "      <td>1.0</td>\n",
              "    </tr>\n",
              "    <tr>\n",
              "      <th>2003-12-31</th>\n",
              "      <td>99.3</td>\n",
              "      <td>7.1</td>\n",
              "      <td>7087.0</td>\n",
              "      <td>1.0</td>\n",
              "    </tr>\n",
              "    <tr>\n",
              "      <th>2004-12-31</th>\n",
              "      <td>65.3</td>\n",
              "      <td>5.9</td>\n",
              "      <td>6882.0</td>\n",
              "      <td>1.0</td>\n",
              "    </tr>\n",
              "    <tr>\n",
              "      <th>2005-12-31</th>\n",
              "      <td>45.8</td>\n",
              "      <td>4.7</td>\n",
              "      <td>7084.0</td>\n",
              "      <td>1.0</td>\n",
              "    </tr>\n",
              "    <tr>\n",
              "      <th>2006-12-31</th>\n",
              "      <td>24.7</td>\n",
              "      <td>3.5</td>\n",
              "      <td>6370.0</td>\n",
              "      <td>1.0</td>\n",
              "    </tr>\n",
              "    <tr>\n",
              "      <th>2007-12-31</th>\n",
              "      <td>12.6</td>\n",
              "      <td>2.7</td>\n",
              "      <td>6841.0</td>\n",
              "      <td>1.0</td>\n",
              "    </tr>\n",
              "    <tr>\n",
              "      <th>2008-12-31</th>\n",
              "      <td>4.2</td>\n",
              "      <td>2.5</td>\n",
              "      <td>6644.0</td>\n",
              "      <td>1.0</td>\n",
              "    </tr>\n",
              "    <tr>\n",
              "      <th>2009-12-31</th>\n",
              "      <td>4.8</td>\n",
              "      <td>2.5</td>\n",
              "      <td>6465.0</td>\n",
              "      <td>1.0</td>\n",
              "    </tr>\n",
              "    <tr>\n",
              "      <th>2010-12-31</th>\n",
              "      <td>24.9</td>\n",
              "      <td>3.4</td>\n",
              "      <td>6328.0</td>\n",
              "      <td>1.0</td>\n",
              "    </tr>\n",
              "    <tr>\n",
              "      <th>2011-12-31</th>\n",
              "      <td>80.8</td>\n",
              "      <td>6.7</td>\n",
              "      <td>6077.0</td>\n",
              "      <td>1.0</td>\n",
              "    </tr>\n",
              "    <tr>\n",
              "      <th>2012-12-31</th>\n",
              "      <td>84.5</td>\n",
              "      <td>6.7</td>\n",
              "      <td>5753.0</td>\n",
              "      <td>1.0</td>\n",
              "    </tr>\n",
              "    <tr>\n",
              "      <th>2013-12-31</th>\n",
              "      <td>94.0</td>\n",
              "      <td>6.9</td>\n",
              "      <td>5347.0</td>\n",
              "      <td>1.0</td>\n",
              "    </tr>\n",
              "  </tbody>\n",
              "</table>\n",
              "</div>\n",
              "      <button class=\"colab-df-convert\" onclick=\"convertToInteractive('df-217985a7-47cf-416c-b437-572ebb2d2407')\"\n",
              "              title=\"Convert this dataframe to an interactive table.\"\n",
              "              style=\"display:none;\">\n",
              "        \n",
              "  <svg xmlns=\"http://www.w3.org/2000/svg\" height=\"24px\"viewBox=\"0 0 24 24\"\n",
              "       width=\"24px\">\n",
              "    <path d=\"M0 0h24v24H0V0z\" fill=\"none\"/>\n",
              "    <path d=\"M18.56 5.44l.94 2.06.94-2.06 2.06-.94-2.06-.94-.94-2.06-.94 2.06-2.06.94zm-11 1L8.5 8.5l.94-2.06 2.06-.94-2.06-.94L8.5 2.5l-.94 2.06-2.06.94zm10 10l.94 2.06.94-2.06 2.06-.94-2.06-.94-.94-2.06-.94 2.06-2.06.94z\"/><path d=\"M17.41 7.96l-1.37-1.37c-.4-.4-.92-.59-1.43-.59-.52 0-1.04.2-1.43.59L10.3 9.45l-7.72 7.72c-.78.78-.78 2.05 0 2.83L4 21.41c.39.39.9.59 1.41.59.51 0 1.02-.2 1.41-.59l7.78-7.78 2.81-2.81c.8-.78.8-2.07 0-2.86zM5.41 20L4 18.59l7.72-7.72 1.47 1.35L5.41 20z\"/>\n",
              "  </svg>\n",
              "      </button>\n",
              "      \n",
              "  <style>\n",
              "    .colab-df-container {\n",
              "      display:flex;\n",
              "      flex-wrap:wrap;\n",
              "      gap: 12px;\n",
              "    }\n",
              "\n",
              "    .colab-df-convert {\n",
              "      background-color: #E8F0FE;\n",
              "      border: none;\n",
              "      border-radius: 50%;\n",
              "      cursor: pointer;\n",
              "      display: none;\n",
              "      fill: #1967D2;\n",
              "      height: 32px;\n",
              "      padding: 0 0 0 0;\n",
              "      width: 32px;\n",
              "    }\n",
              "\n",
              "    .colab-df-convert:hover {\n",
              "      background-color: #E2EBFA;\n",
              "      box-shadow: 0px 1px 2px rgba(60, 64, 67, 0.3), 0px 1px 3px 1px rgba(60, 64, 67, 0.15);\n",
              "      fill: #174EA6;\n",
              "    }\n",
              "\n",
              "    [theme=dark] .colab-df-convert {\n",
              "      background-color: #3B4455;\n",
              "      fill: #D2E3FC;\n",
              "    }\n",
              "\n",
              "    [theme=dark] .colab-df-convert:hover {\n",
              "      background-color: #434B5C;\n",
              "      box-shadow: 0px 1px 3px 1px rgba(0, 0, 0, 0.15);\n",
              "      filter: drop-shadow(0px 1px 2px rgba(0, 0, 0, 0.3));\n",
              "      fill: #FFFFFF;\n",
              "    }\n",
              "  </style>\n",
              "\n",
              "      <script>\n",
              "        const buttonEl =\n",
              "          document.querySelector('#df-217985a7-47cf-416c-b437-572ebb2d2407 button.colab-df-convert');\n",
              "        buttonEl.style.display =\n",
              "          google.colab.kernel.accessAllowed ? 'block' : 'none';\n",
              "\n",
              "        async function convertToInteractive(key) {\n",
              "          const element = document.querySelector('#df-217985a7-47cf-416c-b437-572ebb2d2407');\n",
              "          const dataTable =\n",
              "            await google.colab.kernel.invokeFunction('convertToInteractive',\n",
              "                                                     [key], {});\n",
              "          if (!dataTable) return;\n",
              "\n",
              "          const docLinkHtml = 'Like what you see? Visit the ' +\n",
              "            '<a target=\"_blank\" href=https://colab.research.google.com/notebooks/data_table.ipynb>data table notebook</a>'\n",
              "            + ' to learn more about interactive tables.';\n",
              "          element.innerHTML = '';\n",
              "          dataTable['output_type'] = 'display_data';\n",
              "          await google.colab.output.renderOutput(dataTable, element);\n",
              "          const docLink = document.createElement('div');\n",
              "          docLink.innerHTML = docLinkHtml;\n",
              "          element.appendChild(docLink);\n",
              "        }\n",
              "      </script>\n",
              "    </div>\n",
              "  </div>\n",
              "  "
            ],
            "text/plain": [
              "            yr_mean_tot_nbr  yr_mean_std  num_of_obs  def_prov_ind\n",
              "Date                                                              \n",
              "2002-12-31            163.6          9.8      6588.0           1.0\n",
              "2003-12-31             99.3          7.1      7087.0           1.0\n",
              "2004-12-31             65.3          5.9      6882.0           1.0\n",
              "2005-12-31             45.8          4.7      7084.0           1.0\n",
              "2006-12-31             24.7          3.5      6370.0           1.0\n",
              "2007-12-31             12.6          2.7      6841.0           1.0\n",
              "2008-12-31              4.2          2.5      6644.0           1.0\n",
              "2009-12-31              4.8          2.5      6465.0           1.0\n",
              "2010-12-31             24.9          3.4      6328.0           1.0\n",
              "2011-12-31             80.8          6.7      6077.0           1.0\n",
              "2012-12-31             84.5          6.7      5753.0           1.0\n",
              "2013-12-31             94.0          6.9      5347.0           1.0"
            ]
          },
          "metadata": {},
          "execution_count": 129
        }
      ]
    },
    {
      "cell_type": "markdown",
      "source": [
        "## Boolean filtering\n"
      ],
      "metadata": {
        "id": "AGDSmS0gqRAw"
      }
    },
    {
      "cell_type": "code",
      "source": [
        "filter = (sunspots.yr_mean_tot_nbr > sunspots.yr_mean_tot_nbr.mean())"
      ],
      "metadata": {
        "id": "FK4qZNzxpuIw"
      },
      "execution_count": 130,
      "outputs": []
    },
    {
      "cell_type": "code",
      "source": [
        "sunspots[filter]"
      ],
      "metadata": {
        "colab": {
          "base_uri": "https://localhost:8080/",
          "height": 455
        },
        "id": "_0RkxkV6rDhA",
        "outputId": "30ab9d0a-61b7-4a59-c0ce-6f94b5227446"
      },
      "execution_count": 132,
      "outputs": [
        {
          "output_type": "execute_result",
          "data": {
            "text/html": [
              "\n",
              "  <div id=\"df-2950bf4f-83d7-4585-b7b2-17e79a67ebcf\">\n",
              "    <div class=\"colab-df-container\">\n",
              "      <div>\n",
              "<style scoped>\n",
              "    .dataframe tbody tr th:only-of-type {\n",
              "        vertical-align: middle;\n",
              "    }\n",
              "\n",
              "    .dataframe tbody tr th {\n",
              "        vertical-align: top;\n",
              "    }\n",
              "\n",
              "    .dataframe thead th {\n",
              "        text-align: right;\n",
              "    }\n",
              "</style>\n",
              "<table border=\"1\" class=\"dataframe\">\n",
              "  <thead>\n",
              "    <tr style=\"text-align: right;\">\n",
              "      <th></th>\n",
              "      <th>yr_mean_tot_nbr</th>\n",
              "      <th>yr_mean_std</th>\n",
              "      <th>num_of_obs</th>\n",
              "      <th>def_prov_ind</th>\n",
              "    </tr>\n",
              "    <tr>\n",
              "      <th>Date</th>\n",
              "      <th></th>\n",
              "      <th></th>\n",
              "      <th></th>\n",
              "      <th></th>\n",
              "    </tr>\n",
              "  </thead>\n",
              "  <tbody>\n",
              "    <tr>\n",
              "      <th>1705-12-31</th>\n",
              "      <td>96.7</td>\n",
              "      <td>NaN</td>\n",
              "      <td>NaN</td>\n",
              "      <td>1.0</td>\n",
              "    </tr>\n",
              "    <tr>\n",
              "      <th>1717-12-31</th>\n",
              "      <td>105.0</td>\n",
              "      <td>NaN</td>\n",
              "      <td>NaN</td>\n",
              "      <td>1.0</td>\n",
              "    </tr>\n",
              "    <tr>\n",
              "      <th>1718-12-31</th>\n",
              "      <td>100.0</td>\n",
              "      <td>NaN</td>\n",
              "      <td>NaN</td>\n",
              "      <td>1.0</td>\n",
              "    </tr>\n",
              "    <tr>\n",
              "      <th>1726-12-31</th>\n",
              "      <td>130.0</td>\n",
              "      <td>NaN</td>\n",
              "      <td>NaN</td>\n",
              "      <td>1.0</td>\n",
              "    </tr>\n",
              "    <tr>\n",
              "      <th>1727-12-31</th>\n",
              "      <td>203.3</td>\n",
              "      <td>NaN</td>\n",
              "      <td>NaN</td>\n",
              "      <td>1.0</td>\n",
              "    </tr>\n",
              "    <tr>\n",
              "      <th>...</th>\n",
              "      <td>...</td>\n",
              "      <td>...</td>\n",
              "      <td>...</td>\n",
              "      <td>...</td>\n",
              "    </tr>\n",
              "    <tr>\n",
              "      <th>2003-12-31</th>\n",
              "      <td>99.3</td>\n",
              "      <td>7.1</td>\n",
              "      <td>7087.0</td>\n",
              "      <td>1.0</td>\n",
              "    </tr>\n",
              "    <tr>\n",
              "      <th>2011-12-31</th>\n",
              "      <td>80.8</td>\n",
              "      <td>6.7</td>\n",
              "      <td>6077.0</td>\n",
              "      <td>1.0</td>\n",
              "    </tr>\n",
              "    <tr>\n",
              "      <th>2012-12-31</th>\n",
              "      <td>84.5</td>\n",
              "      <td>6.7</td>\n",
              "      <td>5753.0</td>\n",
              "      <td>1.0</td>\n",
              "    </tr>\n",
              "    <tr>\n",
              "      <th>2013-12-31</th>\n",
              "      <td>94.0</td>\n",
              "      <td>6.9</td>\n",
              "      <td>5347.0</td>\n",
              "      <td>1.0</td>\n",
              "    </tr>\n",
              "    <tr>\n",
              "      <th>2014-12-31</th>\n",
              "      <td>113.3</td>\n",
              "      <td>8.0</td>\n",
              "      <td>5273.0</td>\n",
              "      <td>1.0</td>\n",
              "    </tr>\n",
              "  </tbody>\n",
              "</table>\n",
              "<p>136 rows × 4 columns</p>\n",
              "</div>\n",
              "      <button class=\"colab-df-convert\" onclick=\"convertToInteractive('df-2950bf4f-83d7-4585-b7b2-17e79a67ebcf')\"\n",
              "              title=\"Convert this dataframe to an interactive table.\"\n",
              "              style=\"display:none;\">\n",
              "        \n",
              "  <svg xmlns=\"http://www.w3.org/2000/svg\" height=\"24px\"viewBox=\"0 0 24 24\"\n",
              "       width=\"24px\">\n",
              "    <path d=\"M0 0h24v24H0V0z\" fill=\"none\"/>\n",
              "    <path d=\"M18.56 5.44l.94 2.06.94-2.06 2.06-.94-2.06-.94-.94-2.06-.94 2.06-2.06.94zm-11 1L8.5 8.5l.94-2.06 2.06-.94-2.06-.94L8.5 2.5l-.94 2.06-2.06.94zm10 10l.94 2.06.94-2.06 2.06-.94-2.06-.94-.94-2.06-.94 2.06-2.06.94z\"/><path d=\"M17.41 7.96l-1.37-1.37c-.4-.4-.92-.59-1.43-.59-.52 0-1.04.2-1.43.59L10.3 9.45l-7.72 7.72c-.78.78-.78 2.05 0 2.83L4 21.41c.39.39.9.59 1.41.59.51 0 1.02-.2 1.41-.59l7.78-7.78 2.81-2.81c.8-.78.8-2.07 0-2.86zM5.41 20L4 18.59l7.72-7.72 1.47 1.35L5.41 20z\"/>\n",
              "  </svg>\n",
              "      </button>\n",
              "      \n",
              "  <style>\n",
              "    .colab-df-container {\n",
              "      display:flex;\n",
              "      flex-wrap:wrap;\n",
              "      gap: 12px;\n",
              "    }\n",
              "\n",
              "    .colab-df-convert {\n",
              "      background-color: #E8F0FE;\n",
              "      border: none;\n",
              "      border-radius: 50%;\n",
              "      cursor: pointer;\n",
              "      display: none;\n",
              "      fill: #1967D2;\n",
              "      height: 32px;\n",
              "      padding: 0 0 0 0;\n",
              "      width: 32px;\n",
              "    }\n",
              "\n",
              "    .colab-df-convert:hover {\n",
              "      background-color: #E2EBFA;\n",
              "      box-shadow: 0px 1px 2px rgba(60, 64, 67, 0.3), 0px 1px 3px 1px rgba(60, 64, 67, 0.15);\n",
              "      fill: #174EA6;\n",
              "    }\n",
              "\n",
              "    [theme=dark] .colab-df-convert {\n",
              "      background-color: #3B4455;\n",
              "      fill: #D2E3FC;\n",
              "    }\n",
              "\n",
              "    [theme=dark] .colab-df-convert:hover {\n",
              "      background-color: #434B5C;\n",
              "      box-shadow: 0px 1px 3px 1px rgba(0, 0, 0, 0.15);\n",
              "      filter: drop-shadow(0px 1px 2px rgba(0, 0, 0, 0.3));\n",
              "      fill: #FFFFFF;\n",
              "    }\n",
              "  </style>\n",
              "\n",
              "      <script>\n",
              "        const buttonEl =\n",
              "          document.querySelector('#df-2950bf4f-83d7-4585-b7b2-17e79a67ebcf button.colab-df-convert');\n",
              "        buttonEl.style.display =\n",
              "          google.colab.kernel.accessAllowed ? 'block' : 'none';\n",
              "\n",
              "        async function convertToInteractive(key) {\n",
              "          const element = document.querySelector('#df-2950bf4f-83d7-4585-b7b2-17e79a67ebcf');\n",
              "          const dataTable =\n",
              "            await google.colab.kernel.invokeFunction('convertToInteractive',\n",
              "                                                     [key], {});\n",
              "          if (!dataTable) return;\n",
              "\n",
              "          const docLinkHtml = 'Like what you see? Visit the ' +\n",
              "            '<a target=\"_blank\" href=https://colab.research.google.com/notebooks/data_table.ipynb>data table notebook</a>'\n",
              "            + ' to learn more about interactive tables.';\n",
              "          element.innerHTML = '';\n",
              "          dataTable['output_type'] = 'display_data';\n",
              "          await google.colab.output.renderOutput(dataTable, element);\n",
              "          const docLink = document.createElement('div');\n",
              "          docLink.innerHTML = docLinkHtml;\n",
              "          element.appendChild(docLink);\n",
              "        }\n",
              "      </script>\n",
              "    </div>\n",
              "  </div>\n",
              "  "
            ],
            "text/plain": [
              "            yr_mean_tot_nbr  yr_mean_std  num_of_obs  def_prov_ind\n",
              "Date                                                              \n",
              "1705-12-31             96.7          NaN         NaN           1.0\n",
              "1717-12-31            105.0          NaN         NaN           1.0\n",
              "1718-12-31            100.0          NaN         NaN           1.0\n",
              "1726-12-31            130.0          NaN         NaN           1.0\n",
              "1727-12-31            203.3          NaN         NaN           1.0\n",
              "...                     ...          ...         ...           ...\n",
              "2003-12-31             99.3          7.1      7087.0           1.0\n",
              "2011-12-31             80.8          6.7      6077.0           1.0\n",
              "2012-12-31             84.5          6.7      5753.0           1.0\n",
              "2013-12-31             94.0          6.9      5347.0           1.0\n",
              "2014-12-31            113.3          8.0      5273.0           1.0\n",
              "\n",
              "[136 rows x 4 columns]"
            ]
          },
          "metadata": {},
          "execution_count": 132
        }
      ]
    },
    {
      "cell_type": "markdown",
      "source": [
        "---\n",
        "# Statistics\n",
        "---\n",
        "The `pandas` DataFrame has a dozen statistical methods.\n",
        "\n",
        "![table1.png](data:image/png;base64,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)"
      ],
      "metadata": {
        "id": "JLZ3ZwWnr7PL"
      }
    },
    {
      "cell_type": "markdown",
      "source": [
        "![table2.png](data:image/png;base64,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)"
      ],
      "metadata": {
        "id": "qHv933I-sikl"
      }
    },
    {
      "cell_type": "code",
      "source": [
        "# Describe the dataset\n",
        "df.describe()"
      ],
      "metadata": {
        "colab": {
          "base_uri": "https://localhost:8080/",
          "height": 379
        },
        "id": "UNERGyO_rJQr",
        "outputId": "04440c53-3a31-41f3-a7b9-a2e906d9e2f6"
      },
      "execution_count": 133,
      "outputs": [
        {
          "output_type": "execute_result",
          "data": {
            "text/html": [
              "\n",
              "  <div id=\"df-51b4e3c0-67e5-41af-81ce-ac6cbe31f579\">\n",
              "    <div class=\"colab-df-container\">\n",
              "      <div>\n",
              "<style scoped>\n",
              "    .dataframe tbody tr th:only-of-type {\n",
              "        vertical-align: middle;\n",
              "    }\n",
              "\n",
              "    .dataframe tbody tr th {\n",
              "        vertical-align: top;\n",
              "    }\n",
              "\n",
              "    .dataframe thead th {\n",
              "        text-align: right;\n",
              "    }\n",
              "</style>\n",
              "<table border=\"1\" class=\"dataframe\">\n",
              "  <thead>\n",
              "    <tr style=\"text-align: right;\">\n",
              "      <th></th>\n",
              "      <th>CountryID</th>\n",
              "      <th>Continent</th>\n",
              "      <th>Adolescent fertility rate (%)</th>\n",
              "      <th>Adult literacy rate (%)</th>\n",
              "      <th>Gross national income per capita (PPP international $)</th>\n",
              "      <th>Net primary school enrolment ratio female (%)</th>\n",
              "      <th>Net primary school enrolment ratio male (%)</th>\n",
              "      <th>Population (in thousands) total</th>\n",
              "    </tr>\n",
              "  </thead>\n",
              "  <tbody>\n",
              "    <tr>\n",
              "      <th>count</th>\n",
              "      <td>202.000000</td>\n",
              "      <td>202.000000</td>\n",
              "      <td>177.000000</td>\n",
              "      <td>131.000000</td>\n",
              "      <td>178.000000</td>\n",
              "      <td>179.000000</td>\n",
              "      <td>179.000000</td>\n",
              "      <td>1.890000e+02</td>\n",
              "    </tr>\n",
              "    <tr>\n",
              "      <th>mean</th>\n",
              "      <td>101.500000</td>\n",
              "      <td>3.579208</td>\n",
              "      <td>59.457627</td>\n",
              "      <td>78.871756</td>\n",
              "      <td>11250.112360</td>\n",
              "      <td>84.033520</td>\n",
              "      <td>85.698324</td>\n",
              "      <td>3.409964e+04</td>\n",
              "    </tr>\n",
              "    <tr>\n",
              "      <th>std</th>\n",
              "      <td>58.456537</td>\n",
              "      <td>1.808263</td>\n",
              "      <td>49.105286</td>\n",
              "      <td>20.415760</td>\n",
              "      <td>12586.753417</td>\n",
              "      <td>17.788047</td>\n",
              "      <td>15.451212</td>\n",
              "      <td>1.318377e+05</td>\n",
              "    </tr>\n",
              "    <tr>\n",
              "      <th>min</th>\n",
              "      <td>1.000000</td>\n",
              "      <td>1.000000</td>\n",
              "      <td>0.000000</td>\n",
              "      <td>23.600000</td>\n",
              "      <td>260.000000</td>\n",
              "      <td>6.000000</td>\n",
              "      <td>11.000000</td>\n",
              "      <td>2.000000e+00</td>\n",
              "    </tr>\n",
              "    <tr>\n",
              "      <th>25%</th>\n",
              "      <td>51.250000</td>\n",
              "      <td>2.000000</td>\n",
              "      <td>19.000000</td>\n",
              "      <td>68.400000</td>\n",
              "      <td>2112.500000</td>\n",
              "      <td>79.000000</td>\n",
              "      <td>79.500000</td>\n",
              "      <td>1.328000e+03</td>\n",
              "    </tr>\n",
              "    <tr>\n",
              "      <th>50%</th>\n",
              "      <td>101.500000</td>\n",
              "      <td>3.000000</td>\n",
              "      <td>46.000000</td>\n",
              "      <td>86.500000</td>\n",
              "      <td>6175.000000</td>\n",
              "      <td>90.000000</td>\n",
              "      <td>90.000000</td>\n",
              "      <td>6.640000e+03</td>\n",
              "    </tr>\n",
              "    <tr>\n",
              "      <th>75%</th>\n",
              "      <td>151.750000</td>\n",
              "      <td>5.000000</td>\n",
              "      <td>91.000000</td>\n",
              "      <td>95.300000</td>\n",
              "      <td>14502.500000</td>\n",
              "      <td>96.000000</td>\n",
              "      <td>96.000000</td>\n",
              "      <td>2.097100e+04</td>\n",
              "    </tr>\n",
              "    <tr>\n",
              "      <th>max</th>\n",
              "      <td>202.000000</td>\n",
              "      <td>7.000000</td>\n",
              "      <td>199.000000</td>\n",
              "      <td>99.800000</td>\n",
              "      <td>60870.000000</td>\n",
              "      <td>100.000000</td>\n",
              "      <td>100.000000</td>\n",
              "      <td>1.328474e+06</td>\n",
              "    </tr>\n",
              "  </tbody>\n",
              "</table>\n",
              "</div>\n",
              "      <button class=\"colab-df-convert\" onclick=\"convertToInteractive('df-51b4e3c0-67e5-41af-81ce-ac6cbe31f579')\"\n",
              "              title=\"Convert this dataframe to an interactive table.\"\n",
              "              style=\"display:none;\">\n",
              "        \n",
              "  <svg xmlns=\"http://www.w3.org/2000/svg\" height=\"24px\"viewBox=\"0 0 24 24\"\n",
              "       width=\"24px\">\n",
              "    <path d=\"M0 0h24v24H0V0z\" fill=\"none\"/>\n",
              "    <path d=\"M18.56 5.44l.94 2.06.94-2.06 2.06-.94-2.06-.94-.94-2.06-.94 2.06-2.06.94zm-11 1L8.5 8.5l.94-2.06 2.06-.94-2.06-.94L8.5 2.5l-.94 2.06-2.06.94zm10 10l.94 2.06.94-2.06 2.06-.94-2.06-.94-.94-2.06-.94 2.06-2.06.94z\"/><path d=\"M17.41 7.96l-1.37-1.37c-.4-.4-.92-.59-1.43-.59-.52 0-1.04.2-1.43.59L10.3 9.45l-7.72 7.72c-.78.78-.78 2.05 0 2.83L4 21.41c.39.39.9.59 1.41.59.51 0 1.02-.2 1.41-.59l7.78-7.78 2.81-2.81c.8-.78.8-2.07 0-2.86zM5.41 20L4 18.59l7.72-7.72 1.47 1.35L5.41 20z\"/>\n",
              "  </svg>\n",
              "      </button>\n",
              "      \n",
              "  <style>\n",
              "    .colab-df-container {\n",
              "      display:flex;\n",
              "      flex-wrap:wrap;\n",
              "      gap: 12px;\n",
              "    }\n",
              "\n",
              "    .colab-df-convert {\n",
              "      background-color: #E8F0FE;\n",
              "      border: none;\n",
              "      border-radius: 50%;\n",
              "      cursor: pointer;\n",
              "      display: none;\n",
              "      fill: #1967D2;\n",
              "      height: 32px;\n",
              "      padding: 0 0 0 0;\n",
              "      width: 32px;\n",
              "    }\n",
              "\n",
              "    .colab-df-convert:hover {\n",
              "      background-color: #E2EBFA;\n",
              "      box-shadow: 0px 1px 2px rgba(60, 64, 67, 0.3), 0px 1px 3px 1px rgba(60, 64, 67, 0.15);\n",
              "      fill: #174EA6;\n",
              "    }\n",
              "\n",
              "    [theme=dark] .colab-df-convert {\n",
              "      background-color: #3B4455;\n",
              "      fill: #D2E3FC;\n",
              "    }\n",
              "\n",
              "    [theme=dark] .colab-df-convert:hover {\n",
              "      background-color: #434B5C;\n",
              "      box-shadow: 0px 1px 3px 1px rgba(0, 0, 0, 0.15);\n",
              "      filter: drop-shadow(0px 1px 2px rgba(0, 0, 0, 0.3));\n",
              "      fill: #FFFFFF;\n",
              "    }\n",
              "  </style>\n",
              "\n",
              "      <script>\n",
              "        const buttonEl =\n",
              "          document.querySelector('#df-51b4e3c0-67e5-41af-81ce-ac6cbe31f579 button.colab-df-convert');\n",
              "        buttonEl.style.display =\n",
              "          google.colab.kernel.accessAllowed ? 'block' : 'none';\n",
              "\n",
              "        async function convertToInteractive(key) {\n",
              "          const element = document.querySelector('#df-51b4e3c0-67e5-41af-81ce-ac6cbe31f579');\n",
              "          const dataTable =\n",
              "            await google.colab.kernel.invokeFunction('convertToInteractive',\n",
              "                                                     [key], {});\n",
              "          if (!dataTable) return;\n",
              "\n",
              "          const docLinkHtml = 'Like what you see? Visit the ' +\n",
              "            '<a target=\"_blank\" href=https://colab.research.google.com/notebooks/data_table.ipynb>data table notebook</a>'\n",
              "            + ' to learn more about interactive tables.';\n",
              "          element.innerHTML = '';\n",
              "          dataTable['output_type'] = 'display_data';\n",
              "          await google.colab.output.renderOutput(dataTable, element);\n",
              "          const docLink = document.createElement('div');\n",
              "          docLink.innerHTML = docLinkHtml;\n",
              "          element.appendChild(docLink);\n",
              "        }\n",
              "      </script>\n",
              "    </div>\n",
              "  </div>\n",
              "  "
            ],
            "text/plain": [
              "        CountryID  ...  Population (in thousands) total\n",
              "count  202.000000  ...                     1.890000e+02\n",
              "mean   101.500000  ...                     3.409964e+04\n",
              "std     58.456537  ...                     1.318377e+05\n",
              "min      1.000000  ...                     2.000000e+00\n",
              "25%     51.250000  ...                     1.328000e+03\n",
              "50%    101.500000  ...                     6.640000e+03\n",
              "75%    151.750000  ...                     2.097100e+04\n",
              "max    202.000000  ...                     1.328474e+06\n",
              "\n",
              "[8 rows x 8 columns]"
            ]
          },
          "metadata": {},
          "execution_count": 133
        }
      ]
    },
    {
      "cell_type": "code",
      "source": [
        "# Count number of observation\n",
        "df.count()"
      ],
      "metadata": {
        "colab": {
          "base_uri": "https://localhost:8080/"
        },
        "id": "ZpVPCUpRs-gS",
        "outputId": "be5018b6-2266-4282-f776-a28ee3b05bc9"
      },
      "execution_count": 134,
      "outputs": [
        {
          "output_type": "execute_result",
          "data": {
            "text/plain": [
              "Country                                                   202\n",
              "CountryID                                                 202\n",
              "Continent                                                 202\n",
              "Adolescent fertility rate (%)                             177\n",
              "Adult literacy rate (%)                                   131\n",
              "Gross national income per capita (PPP international $)    178\n",
              "Net primary school enrolment ratio female (%)             179\n",
              "Net primary school enrolment ratio male (%)               179\n",
              "Population (in thousands) total                           189\n",
              "dtype: int64"
            ]
          },
          "metadata": {},
          "execution_count": 134
        }
      ]
    },
    {
      "cell_type": "markdown",
      "source": [
        "---\n",
        "# Grouping Pandas DataFrames\n",
        "---\n"
      ],
      "metadata": {
        "id": "BtO5Y526uEFv"
      }
    },
    {
      "cell_type": "code",
      "source": [
        "df.head()"
      ],
      "metadata": {
        "colab": {
          "base_uri": "https://localhost:8080/",
          "height": 285
        },
        "id": "W2gEWfbEtXDk",
        "outputId": "d58007b8-59ea-4e87-980e-6a0bc87a00b6"
      },
      "execution_count": 135,
      "outputs": [
        {
          "output_type": "execute_result",
          "data": {
            "text/html": [
              "\n",
              "  <div id=\"df-1e180980-ea54-48d9-8a85-b220dcc369a1\">\n",
              "    <div class=\"colab-df-container\">\n",
              "      <div>\n",
              "<style scoped>\n",
              "    .dataframe tbody tr th:only-of-type {\n",
              "        vertical-align: middle;\n",
              "    }\n",
              "\n",
              "    .dataframe tbody tr th {\n",
              "        vertical-align: top;\n",
              "    }\n",
              "\n",
              "    .dataframe thead th {\n",
              "        text-align: right;\n",
              "    }\n",
              "</style>\n",
              "<table border=\"1\" class=\"dataframe\">\n",
              "  <thead>\n",
              "    <tr style=\"text-align: right;\">\n",
              "      <th></th>\n",
              "      <th>Country</th>\n",
              "      <th>CountryID</th>\n",
              "      <th>Continent</th>\n",
              "      <th>Adolescent fertility rate (%)</th>\n",
              "      <th>Adult literacy rate (%)</th>\n",
              "      <th>Gross national income per capita (PPP international $)</th>\n",
              "      <th>Net primary school enrolment ratio female (%)</th>\n",
              "      <th>Net primary school enrolment ratio male (%)</th>\n",
              "      <th>Population (in thousands) total</th>\n",
              "    </tr>\n",
              "  </thead>\n",
              "  <tbody>\n",
              "    <tr>\n",
              "      <th>0</th>\n",
              "      <td>Afghanistan</td>\n",
              "      <td>1</td>\n",
              "      <td>1</td>\n",
              "      <td>151.0</td>\n",
              "      <td>28.0</td>\n",
              "      <td>NaN</td>\n",
              "      <td>NaN</td>\n",
              "      <td>NaN</td>\n",
              "      <td>26088.0</td>\n",
              "    </tr>\n",
              "    <tr>\n",
              "      <th>1</th>\n",
              "      <td>Albania</td>\n",
              "      <td>2</td>\n",
              "      <td>2</td>\n",
              "      <td>27.0</td>\n",
              "      <td>98.7</td>\n",
              "      <td>6000.0</td>\n",
              "      <td>93.0</td>\n",
              "      <td>94.0</td>\n",
              "      <td>3172.0</td>\n",
              "    </tr>\n",
              "    <tr>\n",
              "      <th>2</th>\n",
              "      <td>Algeria</td>\n",
              "      <td>3</td>\n",
              "      <td>3</td>\n",
              "      <td>6.0</td>\n",
              "      <td>69.9</td>\n",
              "      <td>5940.0</td>\n",
              "      <td>94.0</td>\n",
              "      <td>96.0</td>\n",
              "      <td>33351.0</td>\n",
              "    </tr>\n",
              "    <tr>\n",
              "      <th>3</th>\n",
              "      <td>Andorra</td>\n",
              "      <td>4</td>\n",
              "      <td>2</td>\n",
              "      <td>NaN</td>\n",
              "      <td>NaN</td>\n",
              "      <td>NaN</td>\n",
              "      <td>83.0</td>\n",
              "      <td>83.0</td>\n",
              "      <td>74.0</td>\n",
              "    </tr>\n",
              "    <tr>\n",
              "      <th>4</th>\n",
              "      <td>Angola</td>\n",
              "      <td>5</td>\n",
              "      <td>3</td>\n",
              "      <td>146.0</td>\n",
              "      <td>67.4</td>\n",
              "      <td>3890.0</td>\n",
              "      <td>49.0</td>\n",
              "      <td>51.0</td>\n",
              "      <td>16557.0</td>\n",
              "    </tr>\n",
              "  </tbody>\n",
              "</table>\n",
              "</div>\n",
              "      <button class=\"colab-df-convert\" onclick=\"convertToInteractive('df-1e180980-ea54-48d9-8a85-b220dcc369a1')\"\n",
              "              title=\"Convert this dataframe to an interactive table.\"\n",
              "              style=\"display:none;\">\n",
              "        \n",
              "  <svg xmlns=\"http://www.w3.org/2000/svg\" height=\"24px\"viewBox=\"0 0 24 24\"\n",
              "       width=\"24px\">\n",
              "    <path d=\"M0 0h24v24H0V0z\" fill=\"none\"/>\n",
              "    <path d=\"M18.56 5.44l.94 2.06.94-2.06 2.06-.94-2.06-.94-.94-2.06-.94 2.06-2.06.94zm-11 1L8.5 8.5l.94-2.06 2.06-.94-2.06-.94L8.5 2.5l-.94 2.06-2.06.94zm10 10l.94 2.06.94-2.06 2.06-.94-2.06-.94-.94-2.06-.94 2.06-2.06.94z\"/><path d=\"M17.41 7.96l-1.37-1.37c-.4-.4-.92-.59-1.43-.59-.52 0-1.04.2-1.43.59L10.3 9.45l-7.72 7.72c-.78.78-.78 2.05 0 2.83L4 21.41c.39.39.9.59 1.41.59.51 0 1.02-.2 1.41-.59l7.78-7.78 2.81-2.81c.8-.78.8-2.07 0-2.86zM5.41 20L4 18.59l7.72-7.72 1.47 1.35L5.41 20z\"/>\n",
              "  </svg>\n",
              "      </button>\n",
              "      \n",
              "  <style>\n",
              "    .colab-df-container {\n",
              "      display:flex;\n",
              "      flex-wrap:wrap;\n",
              "      gap: 12px;\n",
              "    }\n",
              "\n",
              "    .colab-df-convert {\n",
              "      background-color: #E8F0FE;\n",
              "      border: none;\n",
              "      border-radius: 50%;\n",
              "      cursor: pointer;\n",
              "      display: none;\n",
              "      fill: #1967D2;\n",
              "      height: 32px;\n",
              "      padding: 0 0 0 0;\n",
              "      width: 32px;\n",
              "    }\n",
              "\n",
              "    .colab-df-convert:hover {\n",
              "      background-color: #E2EBFA;\n",
              "      box-shadow: 0px 1px 2px rgba(60, 64, 67, 0.3), 0px 1px 3px 1px rgba(60, 64, 67, 0.15);\n",
              "      fill: #174EA6;\n",
              "    }\n",
              "\n",
              "    [theme=dark] .colab-df-convert {\n",
              "      background-color: #3B4455;\n",
              "      fill: #D2E3FC;\n",
              "    }\n",
              "\n",
              "    [theme=dark] .colab-df-convert:hover {\n",
              "      background-color: #434B5C;\n",
              "      box-shadow: 0px 1px 3px 1px rgba(0, 0, 0, 0.15);\n",
              "      filter: drop-shadow(0px 1px 2px rgba(0, 0, 0, 0.3));\n",
              "      fill: #FFFFFF;\n",
              "    }\n",
              "  </style>\n",
              "\n",
              "      <script>\n",
              "        const buttonEl =\n",
              "          document.querySelector('#df-1e180980-ea54-48d9-8a85-b220dcc369a1 button.colab-df-convert');\n",
              "        buttonEl.style.display =\n",
              "          google.colab.kernel.accessAllowed ? 'block' : 'none';\n",
              "\n",
              "        async function convertToInteractive(key) {\n",
              "          const element = document.querySelector('#df-1e180980-ea54-48d9-8a85-b220dcc369a1');\n",
              "          const dataTable =\n",
              "            await google.colab.kernel.invokeFunction('convertToInteractive',\n",
              "                                                     [key], {});\n",
              "          if (!dataTable) return;\n",
              "\n",
              "          const docLinkHtml = 'Like what you see? Visit the ' +\n",
              "            '<a target=\"_blank\" href=https://colab.research.google.com/notebooks/data_table.ipynb>data table notebook</a>'\n",
              "            + ' to learn more about interactive tables.';\n",
              "          element.innerHTML = '';\n",
              "          dataTable['output_type'] = 'display_data';\n",
              "          await google.colab.output.renderOutput(dataTable, element);\n",
              "          const docLink = document.createElement('div');\n",
              "          docLink.innerHTML = docLinkHtml;\n",
              "          element.appendChild(docLink);\n",
              "        }\n",
              "      </script>\n",
              "    </div>\n",
              "  </div>\n",
              "  "
            ],
            "text/plain": [
              "       Country  ...  Population (in thousands) total\n",
              "0  Afghanistan  ...                          26088.0\n",
              "1      Albania  ...                           3172.0\n",
              "2      Algeria  ...                          33351.0\n",
              "3      Andorra  ...                             74.0\n",
              "4       Angola  ...                          16557.0\n",
              "\n",
              "[5 rows x 9 columns]"
            ]
          },
          "metadata": {},
          "execution_count": 135
        }
      ]
    },
    {
      "cell_type": "code",
      "source": [
        "# Group By Dataframe on the basis of Continent column\n",
        "df.groupby('Continent').mean()"
      ],
      "metadata": {
        "colab": {
          "base_uri": "https://localhost:8080/",
          "height": 379
        },
        "id": "KVtMTMUpuyge",
        "outputId": "89923995-dd01-4faa-cb8d-1ff9aa8bc755"
      },
      "execution_count": 136,
      "outputs": [
        {
          "output_type": "execute_result",
          "data": {
            "text/html": [
              "\n",
              "  <div id=\"df-3c2c43bc-838a-4855-a1e8-d5e180863218\">\n",
              "    <div class=\"colab-df-container\">\n",
              "      <div>\n",
              "<style scoped>\n",
              "    .dataframe tbody tr th:only-of-type {\n",
              "        vertical-align: middle;\n",
              "    }\n",
              "\n",
              "    .dataframe tbody tr th {\n",
              "        vertical-align: top;\n",
              "    }\n",
              "\n",
              "    .dataframe thead th {\n",
              "        text-align: right;\n",
              "    }\n",
              "</style>\n",
              "<table border=\"1\" class=\"dataframe\">\n",
              "  <thead>\n",
              "    <tr style=\"text-align: right;\">\n",
              "      <th></th>\n",
              "      <th>CountryID</th>\n",
              "      <th>Adolescent fertility rate (%)</th>\n",
              "      <th>Adult literacy rate (%)</th>\n",
              "      <th>Gross national income per capita (PPP international $)</th>\n",
              "      <th>Net primary school enrolment ratio female (%)</th>\n",
              "      <th>Net primary school enrolment ratio male (%)</th>\n",
              "      <th>Population (in thousands) total</th>\n",
              "    </tr>\n",
              "    <tr>\n",
              "      <th>Continent</th>\n",
              "      <th></th>\n",
              "      <th></th>\n",
              "      <th></th>\n",
              "      <th></th>\n",
              "      <th></th>\n",
              "      <th></th>\n",
              "      <th></th>\n",
              "    </tr>\n",
              "  </thead>\n",
              "  <tbody>\n",
              "    <tr>\n",
              "      <th>1</th>\n",
              "      <td>110.238095</td>\n",
              "      <td>37.300000</td>\n",
              "      <td>76.900000</td>\n",
              "      <td>14893.529412</td>\n",
              "      <td>85.789474</td>\n",
              "      <td>88.315789</td>\n",
              "      <td>16843.350000</td>\n",
              "    </tr>\n",
              "    <tr>\n",
              "      <th>2</th>\n",
              "      <td>100.333333</td>\n",
              "      <td>20.500000</td>\n",
              "      <td>97.911538</td>\n",
              "      <td>19777.083333</td>\n",
              "      <td>92.911111</td>\n",
              "      <td>93.088889</td>\n",
              "      <td>17259.627451</td>\n",
              "    </tr>\n",
              "    <tr>\n",
              "      <th>3</th>\n",
              "      <td>99.354167</td>\n",
              "      <td>111.644444</td>\n",
              "      <td>61.690476</td>\n",
              "      <td>3050.434783</td>\n",
              "      <td>67.574468</td>\n",
              "      <td>72.021277</td>\n",
              "      <td>16503.195652</td>\n",
              "    </tr>\n",
              "    <tr>\n",
              "      <th>4</th>\n",
              "      <td>56.285714</td>\n",
              "      <td>49.600000</td>\n",
              "      <td>91.600000</td>\n",
              "      <td>24524.000000</td>\n",
              "      <td>95.000000</td>\n",
              "      <td>94.400000</td>\n",
              "      <td>73577.333333</td>\n",
              "    </tr>\n",
              "    <tr>\n",
              "      <th>5</th>\n",
              "      <td>94.774194</td>\n",
              "      <td>77.888889</td>\n",
              "      <td>87.940909</td>\n",
              "      <td>7397.142857</td>\n",
              "      <td>89.137931</td>\n",
              "      <td>88.517241</td>\n",
              "      <td>15637.241379</td>\n",
              "    </tr>\n",
              "    <tr>\n",
              "      <th>6</th>\n",
              "      <td>121.228571</td>\n",
              "      <td>39.260870</td>\n",
              "      <td>87.607143</td>\n",
              "      <td>12167.200000</td>\n",
              "      <td>89.040000</td>\n",
              "      <td>89.960000</td>\n",
              "      <td>25517.142857</td>\n",
              "    </tr>\n",
              "    <tr>\n",
              "      <th>7</th>\n",
              "      <td>80.777778</td>\n",
              "      <td>57.333333</td>\n",
              "      <td>69.812500</td>\n",
              "      <td>2865.555556</td>\n",
              "      <td>85.444444</td>\n",
              "      <td>88.888889</td>\n",
              "      <td>317683.666667</td>\n",
              "    </tr>\n",
              "  </tbody>\n",
              "</table>\n",
              "</div>\n",
              "      <button class=\"colab-df-convert\" onclick=\"convertToInteractive('df-3c2c43bc-838a-4855-a1e8-d5e180863218')\"\n",
              "              title=\"Convert this dataframe to an interactive table.\"\n",
              "              style=\"display:none;\">\n",
              "        \n",
              "  <svg xmlns=\"http://www.w3.org/2000/svg\" height=\"24px\"viewBox=\"0 0 24 24\"\n",
              "       width=\"24px\">\n",
              "    <path d=\"M0 0h24v24H0V0z\" fill=\"none\"/>\n",
              "    <path d=\"M18.56 5.44l.94 2.06.94-2.06 2.06-.94-2.06-.94-.94-2.06-.94 2.06-2.06.94zm-11 1L8.5 8.5l.94-2.06 2.06-.94-2.06-.94L8.5 2.5l-.94 2.06-2.06.94zm10 10l.94 2.06.94-2.06 2.06-.94-2.06-.94-.94-2.06-.94 2.06-2.06.94z\"/><path d=\"M17.41 7.96l-1.37-1.37c-.4-.4-.92-.59-1.43-.59-.52 0-1.04.2-1.43.59L10.3 9.45l-7.72 7.72c-.78.78-.78 2.05 0 2.83L4 21.41c.39.39.9.59 1.41.59.51 0 1.02-.2 1.41-.59l7.78-7.78 2.81-2.81c.8-.78.8-2.07 0-2.86zM5.41 20L4 18.59l7.72-7.72 1.47 1.35L5.41 20z\"/>\n",
              "  </svg>\n",
              "      </button>\n",
              "      \n",
              "  <style>\n",
              "    .colab-df-container {\n",
              "      display:flex;\n",
              "      flex-wrap:wrap;\n",
              "      gap: 12px;\n",
              "    }\n",
              "\n",
              "    .colab-df-convert {\n",
              "      background-color: #E8F0FE;\n",
              "      border: none;\n",
              "      border-radius: 50%;\n",
              "      cursor: pointer;\n",
              "      display: none;\n",
              "      fill: #1967D2;\n",
              "      height: 32px;\n",
              "      padding: 0 0 0 0;\n",
              "      width: 32px;\n",
              "    }\n",
              "\n",
              "    .colab-df-convert:hover {\n",
              "      background-color: #E2EBFA;\n",
              "      box-shadow: 0px 1px 2px rgba(60, 64, 67, 0.3), 0px 1px 3px 1px rgba(60, 64, 67, 0.15);\n",
              "      fill: #174EA6;\n",
              "    }\n",
              "\n",
              "    [theme=dark] .colab-df-convert {\n",
              "      background-color: #3B4455;\n",
              "      fill: #D2E3FC;\n",
              "    }\n",
              "\n",
              "    [theme=dark] .colab-df-convert:hover {\n",
              "      background-color: #434B5C;\n",
              "      box-shadow: 0px 1px 3px 1px rgba(0, 0, 0, 0.15);\n",
              "      filter: drop-shadow(0px 1px 2px rgba(0, 0, 0, 0.3));\n",
              "      fill: #FFFFFF;\n",
              "    }\n",
              "  </style>\n",
              "\n",
              "      <script>\n",
              "        const buttonEl =\n",
              "          document.querySelector('#df-3c2c43bc-838a-4855-a1e8-d5e180863218 button.colab-df-convert');\n",
              "        buttonEl.style.display =\n",
              "          google.colab.kernel.accessAllowed ? 'block' : 'none';\n",
              "\n",
              "        async function convertToInteractive(key) {\n",
              "          const element = document.querySelector('#df-3c2c43bc-838a-4855-a1e8-d5e180863218');\n",
              "          const dataTable =\n",
              "            await google.colab.kernel.invokeFunction('convertToInteractive',\n",
              "                                                     [key], {});\n",
              "          if (!dataTable) return;\n",
              "\n",
              "          const docLinkHtml = 'Like what you see? Visit the ' +\n",
              "            '<a target=\"_blank\" href=https://colab.research.google.com/notebooks/data_table.ipynb>data table notebook</a>'\n",
              "            + ' to learn more about interactive tables.';\n",
              "          element.innerHTML = '';\n",
              "          dataTable['output_type'] = 'display_data';\n",
              "          await google.colab.output.renderOutput(dataTable, element);\n",
              "          const docLink = document.createElement('div');\n",
              "          docLink.innerHTML = docLinkHtml;\n",
              "          element.appendChild(docLink);\n",
              "        }\n",
              "      </script>\n",
              "    </div>\n",
              "  </div>\n",
              "  "
            ],
            "text/plain": [
              "            CountryID  ...  Population (in thousands) total\n",
              "Continent              ...                                 \n",
              "1          110.238095  ...                     16843.350000\n",
              "2          100.333333  ...                     17259.627451\n",
              "3           99.354167  ...                     16503.195652\n",
              "4           56.285714  ...                     73577.333333\n",
              "5           94.774194  ...                     15637.241379\n",
              "6          121.228571  ...                     25517.142857\n",
              "7           80.777778  ...                    317683.666667\n",
              "\n",
              "[7 rows x 7 columns]"
            ]
          },
          "metadata": {},
          "execution_count": 136
        }
      ]
    },
    {
      "cell_type": "code",
      "source": [
        "# Group By DataFrame on the basis of continent and select adult literacy rate(%)\n",
        "\n",
        "df.groupby('Continent').mean()[['Adult literacy rate (%)']]"
      ],
      "metadata": {
        "colab": {
          "base_uri": "https://localhost:8080/",
          "height": 300
        },
        "id": "j8rhFg1CvChD",
        "outputId": "3b80c11d-4ed8-4fa1-d973-c798fa46ab95"
      },
      "execution_count": 137,
      "outputs": [
        {
          "output_type": "execute_result",
          "data": {
            "text/html": [
              "\n",
              "  <div id=\"df-1ff6bafc-5167-4d3e-860a-6b689761a7a7\">\n",
              "    <div class=\"colab-df-container\">\n",
              "      <div>\n",
              "<style scoped>\n",
              "    .dataframe tbody tr th:only-of-type {\n",
              "        vertical-align: middle;\n",
              "    }\n",
              "\n",
              "    .dataframe tbody tr th {\n",
              "        vertical-align: top;\n",
              "    }\n",
              "\n",
              "    .dataframe thead th {\n",
              "        text-align: right;\n",
              "    }\n",
              "</style>\n",
              "<table border=\"1\" class=\"dataframe\">\n",
              "  <thead>\n",
              "    <tr style=\"text-align: right;\">\n",
              "      <th></th>\n",
              "      <th>Adult literacy rate (%)</th>\n",
              "    </tr>\n",
              "    <tr>\n",
              "      <th>Continent</th>\n",
              "      <th></th>\n",
              "    </tr>\n",
              "  </thead>\n",
              "  <tbody>\n",
              "    <tr>\n",
              "      <th>1</th>\n",
              "      <td>76.900000</td>\n",
              "    </tr>\n",
              "    <tr>\n",
              "      <th>2</th>\n",
              "      <td>97.911538</td>\n",
              "    </tr>\n",
              "    <tr>\n",
              "      <th>3</th>\n",
              "      <td>61.690476</td>\n",
              "    </tr>\n",
              "    <tr>\n",
              "      <th>4</th>\n",
              "      <td>91.600000</td>\n",
              "    </tr>\n",
              "    <tr>\n",
              "      <th>5</th>\n",
              "      <td>87.940909</td>\n",
              "    </tr>\n",
              "    <tr>\n",
              "      <th>6</th>\n",
              "      <td>87.607143</td>\n",
              "    </tr>\n",
              "    <tr>\n",
              "      <th>7</th>\n",
              "      <td>69.812500</td>\n",
              "    </tr>\n",
              "  </tbody>\n",
              "</table>\n",
              "</div>\n",
              "      <button class=\"colab-df-convert\" onclick=\"convertToInteractive('df-1ff6bafc-5167-4d3e-860a-6b689761a7a7')\"\n",
              "              title=\"Convert this dataframe to an interactive table.\"\n",
              "              style=\"display:none;\">\n",
              "        \n",
              "  <svg xmlns=\"http://www.w3.org/2000/svg\" height=\"24px\"viewBox=\"0 0 24 24\"\n",
              "       width=\"24px\">\n",
              "    <path d=\"M0 0h24v24H0V0z\" fill=\"none\"/>\n",
              "    <path d=\"M18.56 5.44l.94 2.06.94-2.06 2.06-.94-2.06-.94-.94-2.06-.94 2.06-2.06.94zm-11 1L8.5 8.5l.94-2.06 2.06-.94-2.06-.94L8.5 2.5l-.94 2.06-2.06.94zm10 10l.94 2.06.94-2.06 2.06-.94-2.06-.94-.94-2.06-.94 2.06-2.06.94z\"/><path d=\"M17.41 7.96l-1.37-1.37c-.4-.4-.92-.59-1.43-.59-.52 0-1.04.2-1.43.59L10.3 9.45l-7.72 7.72c-.78.78-.78 2.05 0 2.83L4 21.41c.39.39.9.59 1.41.59.51 0 1.02-.2 1.41-.59l7.78-7.78 2.81-2.81c.8-.78.8-2.07 0-2.86zM5.41 20L4 18.59l7.72-7.72 1.47 1.35L5.41 20z\"/>\n",
              "  </svg>\n",
              "      </button>\n",
              "      \n",
              "  <style>\n",
              "    .colab-df-container {\n",
              "      display:flex;\n",
              "      flex-wrap:wrap;\n",
              "      gap: 12px;\n",
              "    }\n",
              "\n",
              "    .colab-df-convert {\n",
              "      background-color: #E8F0FE;\n",
              "      border: none;\n",
              "      border-radius: 50%;\n",
              "      cursor: pointer;\n",
              "      display: none;\n",
              "      fill: #1967D2;\n",
              "      height: 32px;\n",
              "      padding: 0 0 0 0;\n",
              "      width: 32px;\n",
              "    }\n",
              "\n",
              "    .colab-df-convert:hover {\n",
              "      background-color: #E2EBFA;\n",
              "      box-shadow: 0px 1px 2px rgba(60, 64, 67, 0.3), 0px 1px 3px 1px rgba(60, 64, 67, 0.15);\n",
              "      fill: #174EA6;\n",
              "    }\n",
              "\n",
              "    [theme=dark] .colab-df-convert {\n",
              "      background-color: #3B4455;\n",
              "      fill: #D2E3FC;\n",
              "    }\n",
              "\n",
              "    [theme=dark] .colab-df-convert:hover {\n",
              "      background-color: #434B5C;\n",
              "      box-shadow: 0px 1px 3px 1px rgba(0, 0, 0, 0.15);\n",
              "      filter: drop-shadow(0px 1px 2px rgba(0, 0, 0, 0.3));\n",
              "      fill: #FFFFFF;\n",
              "    }\n",
              "  </style>\n",
              "\n",
              "      <script>\n",
              "        const buttonEl =\n",
              "          document.querySelector('#df-1ff6bafc-5167-4d3e-860a-6b689761a7a7 button.colab-df-convert');\n",
              "        buttonEl.style.display =\n",
              "          google.colab.kernel.accessAllowed ? 'block' : 'none';\n",
              "\n",
              "        async function convertToInteractive(key) {\n",
              "          const element = document.querySelector('#df-1ff6bafc-5167-4d3e-860a-6b689761a7a7');\n",
              "          const dataTable =\n",
              "            await google.colab.kernel.invokeFunction('convertToInteractive',\n",
              "                                                     [key], {});\n",
              "          if (!dataTable) return;\n",
              "\n",
              "          const docLinkHtml = 'Like what you see? Visit the ' +\n",
              "            '<a target=\"_blank\" href=https://colab.research.google.com/notebooks/data_table.ipynb>data table notebook</a>'\n",
              "            + ' to learn more about interactive tables.';\n",
              "          element.innerHTML = '';\n",
              "          dataTable['output_type'] = 'display_data';\n",
              "          await google.colab.output.renderOutput(dataTable, element);\n",
              "          const docLink = document.createElement('div');\n",
              "          docLink.innerHTML = docLinkHtml;\n",
              "          element.appendChild(docLink);\n",
              "        }\n",
              "      </script>\n",
              "    </div>\n",
              "  </div>\n",
              "  "
            ],
            "text/plain": [
              "           Adult literacy rate (%)\n",
              "Continent                         \n",
              "1                        76.900000\n",
              "2                        97.911538\n",
              "3                        61.690476\n",
              "4                        91.600000\n",
              "5                        87.940909\n",
              "6                        87.607143\n",
              "7                        69.812500"
            ]
          },
          "metadata": {},
          "execution_count": 137
        }
      ]
    },
    {
      "cell_type": "markdown",
      "source": [
        "---\n",
        "# Joins\n",
        "---\n",
        "Join is a kind of merge operation for tabular databases."
      ],
      "metadata": {
        "id": "XnS5jAcxwsUw"
      }
    },
    {
      "cell_type": "code",
      "source": [
        "dest = pd.read_csv('dest.csv')\n",
        "dest"
      ],
      "metadata": {
        "colab": {
          "base_uri": "https://localhost:8080/",
          "height": 143
        },
        "id": "MuFIjwbsv2F0",
        "outputId": "007ffb2c-2bff-4ed5-f7d3-6d39faf8b8e3"
      },
      "execution_count": 138,
      "outputs": [
        {
          "output_type": "execute_result",
          "data": {
            "text/html": [
              "\n",
              "  <div id=\"df-5df88589-ed68-4c82-93e9-d85410deedb7\">\n",
              "    <div class=\"colab-df-container\">\n",
              "      <div>\n",
              "<style scoped>\n",
              "    .dataframe tbody tr th:only-of-type {\n",
              "        vertical-align: middle;\n",
              "    }\n",
              "\n",
              "    .dataframe tbody tr th {\n",
              "        vertical-align: top;\n",
              "    }\n",
              "\n",
              "    .dataframe thead th {\n",
              "        text-align: right;\n",
              "    }\n",
              "</style>\n",
              "<table border=\"1\" class=\"dataframe\">\n",
              "  <thead>\n",
              "    <tr style=\"text-align: right;\">\n",
              "      <th></th>\n",
              "      <th>EmpNr</th>\n",
              "      <th>Dest</th>\n",
              "    </tr>\n",
              "  </thead>\n",
              "  <tbody>\n",
              "    <tr>\n",
              "      <th>0</th>\n",
              "      <td>5</td>\n",
              "      <td>The Hague</td>\n",
              "    </tr>\n",
              "    <tr>\n",
              "      <th>1</th>\n",
              "      <td>3</td>\n",
              "      <td>Amsterdam</td>\n",
              "    </tr>\n",
              "    <tr>\n",
              "      <th>2</th>\n",
              "      <td>9</td>\n",
              "      <td>Rotterdam</td>\n",
              "    </tr>\n",
              "  </tbody>\n",
              "</table>\n",
              "</div>\n",
              "      <button class=\"colab-df-convert\" onclick=\"convertToInteractive('df-5df88589-ed68-4c82-93e9-d85410deedb7')\"\n",
              "              title=\"Convert this dataframe to an interactive table.\"\n",
              "              style=\"display:none;\">\n",
              "        \n",
              "  <svg xmlns=\"http://www.w3.org/2000/svg\" height=\"24px\"viewBox=\"0 0 24 24\"\n",
              "       width=\"24px\">\n",
              "    <path d=\"M0 0h24v24H0V0z\" fill=\"none\"/>\n",
              "    <path d=\"M18.56 5.44l.94 2.06.94-2.06 2.06-.94-2.06-.94-.94-2.06-.94 2.06-2.06.94zm-11 1L8.5 8.5l.94-2.06 2.06-.94-2.06-.94L8.5 2.5l-.94 2.06-2.06.94zm10 10l.94 2.06.94-2.06 2.06-.94-2.06-.94-.94-2.06-.94 2.06-2.06.94z\"/><path d=\"M17.41 7.96l-1.37-1.37c-.4-.4-.92-.59-1.43-.59-.52 0-1.04.2-1.43.59L10.3 9.45l-7.72 7.72c-.78.78-.78 2.05 0 2.83L4 21.41c.39.39.9.59 1.41.59.51 0 1.02-.2 1.41-.59l7.78-7.78 2.81-2.81c.8-.78.8-2.07 0-2.86zM5.41 20L4 18.59l7.72-7.72 1.47 1.35L5.41 20z\"/>\n",
              "  </svg>\n",
              "      </button>\n",
              "      \n",
              "  <style>\n",
              "    .colab-df-container {\n",
              "      display:flex;\n",
              "      flex-wrap:wrap;\n",
              "      gap: 12px;\n",
              "    }\n",
              "\n",
              "    .colab-df-convert {\n",
              "      background-color: #E8F0FE;\n",
              "      border: none;\n",
              "      border-radius: 50%;\n",
              "      cursor: pointer;\n",
              "      display: none;\n",
              "      fill: #1967D2;\n",
              "      height: 32px;\n",
              "      padding: 0 0 0 0;\n",
              "      width: 32px;\n",
              "    }\n",
              "\n",
              "    .colab-df-convert:hover {\n",
              "      background-color: #E2EBFA;\n",
              "      box-shadow: 0px 1px 2px rgba(60, 64, 67, 0.3), 0px 1px 3px 1px rgba(60, 64, 67, 0.15);\n",
              "      fill: #174EA6;\n",
              "    }\n",
              "\n",
              "    [theme=dark] .colab-df-convert {\n",
              "      background-color: #3B4455;\n",
              "      fill: #D2E3FC;\n",
              "    }\n",
              "\n",
              "    [theme=dark] .colab-df-convert:hover {\n",
              "      background-color: #434B5C;\n",
              "      box-shadow: 0px 1px 3px 1px rgba(0, 0, 0, 0.15);\n",
              "      filter: drop-shadow(0px 1px 2px rgba(0, 0, 0, 0.3));\n",
              "      fill: #FFFFFF;\n",
              "    }\n",
              "  </style>\n",
              "\n",
              "      <script>\n",
              "        const buttonEl =\n",
              "          document.querySelector('#df-5df88589-ed68-4c82-93e9-d85410deedb7 button.colab-df-convert');\n",
              "        buttonEl.style.display =\n",
              "          google.colab.kernel.accessAllowed ? 'block' : 'none';\n",
              "\n",
              "        async function convertToInteractive(key) {\n",
              "          const element = document.querySelector('#df-5df88589-ed68-4c82-93e9-d85410deedb7');\n",
              "          const dataTable =\n",
              "            await google.colab.kernel.invokeFunction('convertToInteractive',\n",
              "                                                     [key], {});\n",
              "          if (!dataTable) return;\n",
              "\n",
              "          const docLinkHtml = 'Like what you see? Visit the ' +\n",
              "            '<a target=\"_blank\" href=https://colab.research.google.com/notebooks/data_table.ipynb>data table notebook</a>'\n",
              "            + ' to learn more about interactive tables.';\n",
              "          element.innerHTML = '';\n",
              "          dataTable['output_type'] = 'display_data';\n",
              "          await google.colab.output.renderOutput(dataTable, element);\n",
              "          const docLink = document.createElement('div');\n",
              "          docLink.innerHTML = docLinkHtml;\n",
              "          element.appendChild(docLink);\n",
              "        }\n",
              "      </script>\n",
              "    </div>\n",
              "  </div>\n",
              "  "
            ],
            "text/plain": [
              "   EmpNr       Dest\n",
              "0      5  The Hague\n",
              "1      3  Amsterdam\n",
              "2      9  Rotterdam"
            ]
          },
          "metadata": {},
          "execution_count": 138
        }
      ]
    },
    {
      "cell_type": "code",
      "source": [
        "tips = pd.read_csv('tips.csv')\n",
        "tips"
      ],
      "metadata": {
        "colab": {
          "base_uri": "https://localhost:8080/",
          "height": 143
        },
        "id": "fSTj_JCcypeK",
        "outputId": "4778dc82-87ee-4c8c-e670-422ab964f673"
      },
      "execution_count": 139,
      "outputs": [
        {
          "output_type": "execute_result",
          "data": {
            "text/html": [
              "\n",
              "  <div id=\"df-77e19527-02a8-4549-bde4-34190a0e0ebe\">\n",
              "    <div class=\"colab-df-container\">\n",
              "      <div>\n",
              "<style scoped>\n",
              "    .dataframe tbody tr th:only-of-type {\n",
              "        vertical-align: middle;\n",
              "    }\n",
              "\n",
              "    .dataframe tbody tr th {\n",
              "        vertical-align: top;\n",
              "    }\n",
              "\n",
              "    .dataframe thead th {\n",
              "        text-align: right;\n",
              "    }\n",
              "</style>\n",
              "<table border=\"1\" class=\"dataframe\">\n",
              "  <thead>\n",
              "    <tr style=\"text-align: right;\">\n",
              "      <th></th>\n",
              "      <th>EmpNr</th>\n",
              "      <th>Amount</th>\n",
              "    </tr>\n",
              "  </thead>\n",
              "  <tbody>\n",
              "    <tr>\n",
              "      <th>0</th>\n",
              "      <td>5</td>\n",
              "      <td>10.0</td>\n",
              "    </tr>\n",
              "    <tr>\n",
              "      <th>1</th>\n",
              "      <td>9</td>\n",
              "      <td>5.0</td>\n",
              "    </tr>\n",
              "    <tr>\n",
              "      <th>2</th>\n",
              "      <td>7</td>\n",
              "      <td>2.5</td>\n",
              "    </tr>\n",
              "  </tbody>\n",
              "</table>\n",
              "</div>\n",
              "      <button class=\"colab-df-convert\" onclick=\"convertToInteractive('df-77e19527-02a8-4549-bde4-34190a0e0ebe')\"\n",
              "              title=\"Convert this dataframe to an interactive table.\"\n",
              "              style=\"display:none;\">\n",
              "        \n",
              "  <svg xmlns=\"http://www.w3.org/2000/svg\" height=\"24px\"viewBox=\"0 0 24 24\"\n",
              "       width=\"24px\">\n",
              "    <path d=\"M0 0h24v24H0V0z\" fill=\"none\"/>\n",
              "    <path d=\"M18.56 5.44l.94 2.06.94-2.06 2.06-.94-2.06-.94-.94-2.06-.94 2.06-2.06.94zm-11 1L8.5 8.5l.94-2.06 2.06-.94-2.06-.94L8.5 2.5l-.94 2.06-2.06.94zm10 10l.94 2.06.94-2.06 2.06-.94-2.06-.94-.94-2.06-.94 2.06-2.06.94z\"/><path d=\"M17.41 7.96l-1.37-1.37c-.4-.4-.92-.59-1.43-.59-.52 0-1.04.2-1.43.59L10.3 9.45l-7.72 7.72c-.78.78-.78 2.05 0 2.83L4 21.41c.39.39.9.59 1.41.59.51 0 1.02-.2 1.41-.59l7.78-7.78 2.81-2.81c.8-.78.8-2.07 0-2.86zM5.41 20L4 18.59l7.72-7.72 1.47 1.35L5.41 20z\"/>\n",
              "  </svg>\n",
              "      </button>\n",
              "      \n",
              "  <style>\n",
              "    .colab-df-container {\n",
              "      display:flex;\n",
              "      flex-wrap:wrap;\n",
              "      gap: 12px;\n",
              "    }\n",
              "\n",
              "    .colab-df-convert {\n",
              "      background-color: #E8F0FE;\n",
              "      border: none;\n",
              "      border-radius: 50%;\n",
              "      cursor: pointer;\n",
              "      display: none;\n",
              "      fill: #1967D2;\n",
              "      height: 32px;\n",
              "      padding: 0 0 0 0;\n",
              "      width: 32px;\n",
              "    }\n",
              "\n",
              "    .colab-df-convert:hover {\n",
              "      background-color: #E2EBFA;\n",
              "      box-shadow: 0px 1px 2px rgba(60, 64, 67, 0.3), 0px 1px 3px 1px rgba(60, 64, 67, 0.15);\n",
              "      fill: #174EA6;\n",
              "    }\n",
              "\n",
              "    [theme=dark] .colab-df-convert {\n",
              "      background-color: #3B4455;\n",
              "      fill: #D2E3FC;\n",
              "    }\n",
              "\n",
              "    [theme=dark] .colab-df-convert:hover {\n",
              "      background-color: #434B5C;\n",
              "      box-shadow: 0px 1px 3px 1px rgba(0, 0, 0, 0.15);\n",
              "      filter: drop-shadow(0px 1px 2px rgba(0, 0, 0, 0.3));\n",
              "      fill: #FFFFFF;\n",
              "    }\n",
              "  </style>\n",
              "\n",
              "      <script>\n",
              "        const buttonEl =\n",
              "          document.querySelector('#df-77e19527-02a8-4549-bde4-34190a0e0ebe button.colab-df-convert');\n",
              "        buttonEl.style.display =\n",
              "          google.colab.kernel.accessAllowed ? 'block' : 'none';\n",
              "\n",
              "        async function convertToInteractive(key) {\n",
              "          const element = document.querySelector('#df-77e19527-02a8-4549-bde4-34190a0e0ebe');\n",
              "          const dataTable =\n",
              "            await google.colab.kernel.invokeFunction('convertToInteractive',\n",
              "                                                     [key], {});\n",
              "          if (!dataTable) return;\n",
              "\n",
              "          const docLinkHtml = 'Like what you see? Visit the ' +\n",
              "            '<a target=\"_blank\" href=https://colab.research.google.com/notebooks/data_table.ipynb>data table notebook</a>'\n",
              "            + ' to learn more about interactive tables.';\n",
              "          element.innerHTML = '';\n",
              "          dataTable['output_type'] = 'display_data';\n",
              "          await google.colab.output.renderOutput(dataTable, element);\n",
              "          const docLink = document.createElement('div');\n",
              "          docLink.innerHTML = docLinkHtml;\n",
              "          element.appendChild(docLink);\n",
              "        }\n",
              "      </script>\n",
              "    </div>\n",
              "  </div>\n",
              "  "
            ],
            "text/plain": [
              "   EmpNr  Amount\n",
              "0      5    10.0\n",
              "1      9     5.0\n",
              "2      7     2.5"
            ]
          },
          "metadata": {},
          "execution_count": 139
        }
      ]
    },
    {
      "cell_type": "markdown",
      "source": [
        "## Inner Join $≡$ $\\bigcap$"
      ],
      "metadata": {
        "id": "HqZYrp1I0CE7"
      }
    },
    {
      "cell_type": "code",
      "source": [
        "# Join DataFrames using Inner Join\n",
        "df_inner = pd.merge(dest, tips, how='inner', on='EmpNr')\n",
        "df_inner"
      ],
      "metadata": {
        "colab": {
          "base_uri": "https://localhost:8080/",
          "height": 112
        },
        "id": "0pV5S-Ghy5F5",
        "outputId": "ead18df5-ae04-42e0-cfed-725f7246861d"
      },
      "execution_count": 140,
      "outputs": [
        {
          "output_type": "execute_result",
          "data": {
            "text/html": [
              "\n",
              "  <div id=\"df-a5ec7f61-80e8-479b-8cfe-fbd6ff820d72\">\n",
              "    <div class=\"colab-df-container\">\n",
              "      <div>\n",
              "<style scoped>\n",
              "    .dataframe tbody tr th:only-of-type {\n",
              "        vertical-align: middle;\n",
              "    }\n",
              "\n",
              "    .dataframe tbody tr th {\n",
              "        vertical-align: top;\n",
              "    }\n",
              "\n",
              "    .dataframe thead th {\n",
              "        text-align: right;\n",
              "    }\n",
              "</style>\n",
              "<table border=\"1\" class=\"dataframe\">\n",
              "  <thead>\n",
              "    <tr style=\"text-align: right;\">\n",
              "      <th></th>\n",
              "      <th>EmpNr</th>\n",
              "      <th>Dest</th>\n",
              "      <th>Amount</th>\n",
              "    </tr>\n",
              "  </thead>\n",
              "  <tbody>\n",
              "    <tr>\n",
              "      <th>0</th>\n",
              "      <td>5</td>\n",
              "      <td>The Hague</td>\n",
              "      <td>10.0</td>\n",
              "    </tr>\n",
              "    <tr>\n",
              "      <th>1</th>\n",
              "      <td>9</td>\n",
              "      <td>Rotterdam</td>\n",
              "      <td>5.0</td>\n",
              "    </tr>\n",
              "  </tbody>\n",
              "</table>\n",
              "</div>\n",
              "      <button class=\"colab-df-convert\" onclick=\"convertToInteractive('df-a5ec7f61-80e8-479b-8cfe-fbd6ff820d72')\"\n",
              "              title=\"Convert this dataframe to an interactive table.\"\n",
              "              style=\"display:none;\">\n",
              "        \n",
              "  <svg xmlns=\"http://www.w3.org/2000/svg\" height=\"24px\"viewBox=\"0 0 24 24\"\n",
              "       width=\"24px\">\n",
              "    <path d=\"M0 0h24v24H0V0z\" fill=\"none\"/>\n",
              "    <path d=\"M18.56 5.44l.94 2.06.94-2.06 2.06-.94-2.06-.94-.94-2.06-.94 2.06-2.06.94zm-11 1L8.5 8.5l.94-2.06 2.06-.94-2.06-.94L8.5 2.5l-.94 2.06-2.06.94zm10 10l.94 2.06.94-2.06 2.06-.94-2.06-.94-.94-2.06-.94 2.06-2.06.94z\"/><path d=\"M17.41 7.96l-1.37-1.37c-.4-.4-.92-.59-1.43-.59-.52 0-1.04.2-1.43.59L10.3 9.45l-7.72 7.72c-.78.78-.78 2.05 0 2.83L4 21.41c.39.39.9.59 1.41.59.51 0 1.02-.2 1.41-.59l7.78-7.78 2.81-2.81c.8-.78.8-2.07 0-2.86zM5.41 20L4 18.59l7.72-7.72 1.47 1.35L5.41 20z\"/>\n",
              "  </svg>\n",
              "      </button>\n",
              "      \n",
              "  <style>\n",
              "    .colab-df-container {\n",
              "      display:flex;\n",
              "      flex-wrap:wrap;\n",
              "      gap: 12px;\n",
              "    }\n",
              "\n",
              "    .colab-df-convert {\n",
              "      background-color: #E8F0FE;\n",
              "      border: none;\n",
              "      border-radius: 50%;\n",
              "      cursor: pointer;\n",
              "      display: none;\n",
              "      fill: #1967D2;\n",
              "      height: 32px;\n",
              "      padding: 0 0 0 0;\n",
              "      width: 32px;\n",
              "    }\n",
              "\n",
              "    .colab-df-convert:hover {\n",
              "      background-color: #E2EBFA;\n",
              "      box-shadow: 0px 1px 2px rgba(60, 64, 67, 0.3), 0px 1px 3px 1px rgba(60, 64, 67, 0.15);\n",
              "      fill: #174EA6;\n",
              "    }\n",
              "\n",
              "    [theme=dark] .colab-df-convert {\n",
              "      background-color: #3B4455;\n",
              "      fill: #D2E3FC;\n",
              "    }\n",
              "\n",
              "    [theme=dark] .colab-df-convert:hover {\n",
              "      background-color: #434B5C;\n",
              "      box-shadow: 0px 1px 3px 1px rgba(0, 0, 0, 0.15);\n",
              "      filter: drop-shadow(0px 1px 2px rgba(0, 0, 0, 0.3));\n",
              "      fill: #FFFFFF;\n",
              "    }\n",
              "  </style>\n",
              "\n",
              "      <script>\n",
              "        const buttonEl =\n",
              "          document.querySelector('#df-a5ec7f61-80e8-479b-8cfe-fbd6ff820d72 button.colab-df-convert');\n",
              "        buttonEl.style.display =\n",
              "          google.colab.kernel.accessAllowed ? 'block' : 'none';\n",
              "\n",
              "        async function convertToInteractive(key) {\n",
              "          const element = document.querySelector('#df-a5ec7f61-80e8-479b-8cfe-fbd6ff820d72');\n",
              "          const dataTable =\n",
              "            await google.colab.kernel.invokeFunction('convertToInteractive',\n",
              "                                                     [key], {});\n",
              "          if (!dataTable) return;\n",
              "\n",
              "          const docLinkHtml = 'Like what you see? Visit the ' +\n",
              "            '<a target=\"_blank\" href=https://colab.research.google.com/notebooks/data_table.ipynb>data table notebook</a>'\n",
              "            + ' to learn more about interactive tables.';\n",
              "          element.innerHTML = '';\n",
              "          dataTable['output_type'] = 'display_data';\n",
              "          await google.colab.output.renderOutput(dataTable, element);\n",
              "          const docLink = document.createElement('div');\n",
              "          docLink.innerHTML = docLinkHtml;\n",
              "          element.appendChild(docLink);\n",
              "        }\n",
              "      </script>\n",
              "    </div>\n",
              "  </div>\n",
              "  "
            ],
            "text/plain": [
              "   EmpNr       Dest  Amount\n",
              "0      5  The Hague    10.0\n",
              "1      9  Rotterdam     5.0"
            ]
          },
          "metadata": {},
          "execution_count": 140
        }
      ]
    },
    {
      "cell_type": "markdown",
      "source": [
        "## Full outer join $ ≡$  $\\cup$"
      ],
      "metadata": {
        "id": "yqAvzOJg0pWt"
      }
    },
    {
      "cell_type": "code",
      "source": [
        "# Join DataFrames using Outer Join\n",
        "df_outer = pd.merge(dest, tips, how='outer', on='EmpNr')\n",
        "df_outer"
      ],
      "metadata": {
        "colab": {
          "base_uri": "https://localhost:8080/",
          "height": 175
        },
        "id": "PKZDN4FhzloO",
        "outputId": "eed4548b-db60-4090-b5b7-bc1e260b36ac"
      },
      "execution_count": 142,
      "outputs": [
        {
          "output_type": "execute_result",
          "data": {
            "text/html": [
              "\n",
              "  <div id=\"df-ddaf9c69-f6fc-48cc-bcde-01a10c70d823\">\n",
              "    <div class=\"colab-df-container\">\n",
              "      <div>\n",
              "<style scoped>\n",
              "    .dataframe tbody tr th:only-of-type {\n",
              "        vertical-align: middle;\n",
              "    }\n",
              "\n",
              "    .dataframe tbody tr th {\n",
              "        vertical-align: top;\n",
              "    }\n",
              "\n",
              "    .dataframe thead th {\n",
              "        text-align: right;\n",
              "    }\n",
              "</style>\n",
              "<table border=\"1\" class=\"dataframe\">\n",
              "  <thead>\n",
              "    <tr style=\"text-align: right;\">\n",
              "      <th></th>\n",
              "      <th>EmpNr</th>\n",
              "      <th>Dest</th>\n",
              "      <th>Amount</th>\n",
              "    </tr>\n",
              "  </thead>\n",
              "  <tbody>\n",
              "    <tr>\n",
              "      <th>0</th>\n",
              "      <td>5</td>\n",
              "      <td>The Hague</td>\n",
              "      <td>10.0</td>\n",
              "    </tr>\n",
              "    <tr>\n",
              "      <th>1</th>\n",
              "      <td>3</td>\n",
              "      <td>Amsterdam</td>\n",
              "      <td>NaN</td>\n",
              "    </tr>\n",
              "    <tr>\n",
              "      <th>2</th>\n",
              "      <td>9</td>\n",
              "      <td>Rotterdam</td>\n",
              "      <td>5.0</td>\n",
              "    </tr>\n",
              "    <tr>\n",
              "      <th>3</th>\n",
              "      <td>7</td>\n",
              "      <td>NaN</td>\n",
              "      <td>2.5</td>\n",
              "    </tr>\n",
              "  </tbody>\n",
              "</table>\n",
              "</div>\n",
              "      <button class=\"colab-df-convert\" onclick=\"convertToInteractive('df-ddaf9c69-f6fc-48cc-bcde-01a10c70d823')\"\n",
              "              title=\"Convert this dataframe to an interactive table.\"\n",
              "              style=\"display:none;\">\n",
              "        \n",
              "  <svg xmlns=\"http://www.w3.org/2000/svg\" height=\"24px\"viewBox=\"0 0 24 24\"\n",
              "       width=\"24px\">\n",
              "    <path d=\"M0 0h24v24H0V0z\" fill=\"none\"/>\n",
              "    <path d=\"M18.56 5.44l.94 2.06.94-2.06 2.06-.94-2.06-.94-.94-2.06-.94 2.06-2.06.94zm-11 1L8.5 8.5l.94-2.06 2.06-.94-2.06-.94L8.5 2.5l-.94 2.06-2.06.94zm10 10l.94 2.06.94-2.06 2.06-.94-2.06-.94-.94-2.06-.94 2.06-2.06.94z\"/><path d=\"M17.41 7.96l-1.37-1.37c-.4-.4-.92-.59-1.43-.59-.52 0-1.04.2-1.43.59L10.3 9.45l-7.72 7.72c-.78.78-.78 2.05 0 2.83L4 21.41c.39.39.9.59 1.41.59.51 0 1.02-.2 1.41-.59l7.78-7.78 2.81-2.81c.8-.78.8-2.07 0-2.86zM5.41 20L4 18.59l7.72-7.72 1.47 1.35L5.41 20z\"/>\n",
              "  </svg>\n",
              "      </button>\n",
              "      \n",
              "  <style>\n",
              "    .colab-df-container {\n",
              "      display:flex;\n",
              "      flex-wrap:wrap;\n",
              "      gap: 12px;\n",
              "    }\n",
              "\n",
              "    .colab-df-convert {\n",
              "      background-color: #E8F0FE;\n",
              "      border: none;\n",
              "      border-radius: 50%;\n",
              "      cursor: pointer;\n",
              "      display: none;\n",
              "      fill: #1967D2;\n",
              "      height: 32px;\n",
              "      padding: 0 0 0 0;\n",
              "      width: 32px;\n",
              "    }\n",
              "\n",
              "    .colab-df-convert:hover {\n",
              "      background-color: #E2EBFA;\n",
              "      box-shadow: 0px 1px 2px rgba(60, 64, 67, 0.3), 0px 1px 3px 1px rgba(60, 64, 67, 0.15);\n",
              "      fill: #174EA6;\n",
              "    }\n",
              "\n",
              "    [theme=dark] .colab-df-convert {\n",
              "      background-color: #3B4455;\n",
              "      fill: #D2E3FC;\n",
              "    }\n",
              "\n",
              "    [theme=dark] .colab-df-convert:hover {\n",
              "      background-color: #434B5C;\n",
              "      box-shadow: 0px 1px 3px 1px rgba(0, 0, 0, 0.15);\n",
              "      filter: drop-shadow(0px 1px 2px rgba(0, 0, 0, 0.3));\n",
              "      fill: #FFFFFF;\n",
              "    }\n",
              "  </style>\n",
              "\n",
              "      <script>\n",
              "        const buttonEl =\n",
              "          document.querySelector('#df-ddaf9c69-f6fc-48cc-bcde-01a10c70d823 button.colab-df-convert');\n",
              "        buttonEl.style.display =\n",
              "          google.colab.kernel.accessAllowed ? 'block' : 'none';\n",
              "\n",
              "        async function convertToInteractive(key) {\n",
              "          const element = document.querySelector('#df-ddaf9c69-f6fc-48cc-bcde-01a10c70d823');\n",
              "          const dataTable =\n",
              "            await google.colab.kernel.invokeFunction('convertToInteractive',\n",
              "                                                     [key], {});\n",
              "          if (!dataTable) return;\n",
              "\n",
              "          const docLinkHtml = 'Like what you see? Visit the ' +\n",
              "            '<a target=\"_blank\" href=https://colab.research.google.com/notebooks/data_table.ipynb>data table notebook</a>'\n",
              "            + ' to learn more about interactive tables.';\n",
              "          element.innerHTML = '';\n",
              "          dataTable['output_type'] = 'display_data';\n",
              "          await google.colab.output.renderOutput(dataTable, element);\n",
              "          const docLink = document.createElement('div');\n",
              "          docLink.innerHTML = docLinkHtml;\n",
              "          element.appendChild(docLink);\n",
              "        }\n",
              "      </script>\n",
              "    </div>\n",
              "  </div>\n",
              "  "
            ],
            "text/plain": [
              "   EmpNr       Dest  Amount\n",
              "0      5  The Hague    10.0\n",
              "1      3  Amsterdam     NaN\n",
              "2      9  Rotterdam     5.0\n",
              "3      7        NaN     2.5"
            ]
          },
          "metadata": {},
          "execution_count": 142
        }
      ]
    },
    {
      "cell_type": "markdown",
      "source": [
        "## Right outer join"
      ],
      "metadata": {
        "id": "XfmyqBaG1y-0"
      }
    },
    {
      "cell_type": "code",
      "source": [
        "# Join DataFrames using Right Outer Join\n",
        "df_right = pd.merge(dest, tips, how='right', on='EmpNr')\n",
        "df_right"
      ],
      "metadata": {
        "colab": {
          "base_uri": "https://localhost:8080/",
          "height": 143
        },
        "id": "B27Qapdo1Rkh",
        "outputId": "b30008dc-0212-4863-dbe7-e3f093c829f9"
      },
      "execution_count": 143,
      "outputs": [
        {
          "output_type": "execute_result",
          "data": {
            "text/html": [
              "\n",
              "  <div id=\"df-65975a4b-0865-4452-8ed1-cc2f83a4f352\">\n",
              "    <div class=\"colab-df-container\">\n",
              "      <div>\n",
              "<style scoped>\n",
              "    .dataframe tbody tr th:only-of-type {\n",
              "        vertical-align: middle;\n",
              "    }\n",
              "\n",
              "    .dataframe tbody tr th {\n",
              "        vertical-align: top;\n",
              "    }\n",
              "\n",
              "    .dataframe thead th {\n",
              "        text-align: right;\n",
              "    }\n",
              "</style>\n",
              "<table border=\"1\" class=\"dataframe\">\n",
              "  <thead>\n",
              "    <tr style=\"text-align: right;\">\n",
              "      <th></th>\n",
              "      <th>EmpNr</th>\n",
              "      <th>Dest</th>\n",
              "      <th>Amount</th>\n",
              "    </tr>\n",
              "  </thead>\n",
              "  <tbody>\n",
              "    <tr>\n",
              "      <th>0</th>\n",
              "      <td>5</td>\n",
              "      <td>The Hague</td>\n",
              "      <td>10.0</td>\n",
              "    </tr>\n",
              "    <tr>\n",
              "      <th>1</th>\n",
              "      <td>9</td>\n",
              "      <td>Rotterdam</td>\n",
              "      <td>5.0</td>\n",
              "    </tr>\n",
              "    <tr>\n",
              "      <th>2</th>\n",
              "      <td>7</td>\n",
              "      <td>NaN</td>\n",
              "      <td>2.5</td>\n",
              "    </tr>\n",
              "  </tbody>\n",
              "</table>\n",
              "</div>\n",
              "      <button class=\"colab-df-convert\" onclick=\"convertToInteractive('df-65975a4b-0865-4452-8ed1-cc2f83a4f352')\"\n",
              "              title=\"Convert this dataframe to an interactive table.\"\n",
              "              style=\"display:none;\">\n",
              "        \n",
              "  <svg xmlns=\"http://www.w3.org/2000/svg\" height=\"24px\"viewBox=\"0 0 24 24\"\n",
              "       width=\"24px\">\n",
              "    <path d=\"M0 0h24v24H0V0z\" fill=\"none\"/>\n",
              "    <path d=\"M18.56 5.44l.94 2.06.94-2.06 2.06-.94-2.06-.94-.94-2.06-.94 2.06-2.06.94zm-11 1L8.5 8.5l.94-2.06 2.06-.94-2.06-.94L8.5 2.5l-.94 2.06-2.06.94zm10 10l.94 2.06.94-2.06 2.06-.94-2.06-.94-.94-2.06-.94 2.06-2.06.94z\"/><path d=\"M17.41 7.96l-1.37-1.37c-.4-.4-.92-.59-1.43-.59-.52 0-1.04.2-1.43.59L10.3 9.45l-7.72 7.72c-.78.78-.78 2.05 0 2.83L4 21.41c.39.39.9.59 1.41.59.51 0 1.02-.2 1.41-.59l7.78-7.78 2.81-2.81c.8-.78.8-2.07 0-2.86zM5.41 20L4 18.59l7.72-7.72 1.47 1.35L5.41 20z\"/>\n",
              "  </svg>\n",
              "      </button>\n",
              "      \n",
              "  <style>\n",
              "    .colab-df-container {\n",
              "      display:flex;\n",
              "      flex-wrap:wrap;\n",
              "      gap: 12px;\n",
              "    }\n",
              "\n",
              "    .colab-df-convert {\n",
              "      background-color: #E8F0FE;\n",
              "      border: none;\n",
              "      border-radius: 50%;\n",
              "      cursor: pointer;\n",
              "      display: none;\n",
              "      fill: #1967D2;\n",
              "      height: 32px;\n",
              "      padding: 0 0 0 0;\n",
              "      width: 32px;\n",
              "    }\n",
              "\n",
              "    .colab-df-convert:hover {\n",
              "      background-color: #E2EBFA;\n",
              "      box-shadow: 0px 1px 2px rgba(60, 64, 67, 0.3), 0px 1px 3px 1px rgba(60, 64, 67, 0.15);\n",
              "      fill: #174EA6;\n",
              "    }\n",
              "\n",
              "    [theme=dark] .colab-df-convert {\n",
              "      background-color: #3B4455;\n",
              "      fill: #D2E3FC;\n",
              "    }\n",
              "\n",
              "    [theme=dark] .colab-df-convert:hover {\n",
              "      background-color: #434B5C;\n",
              "      box-shadow: 0px 1px 3px 1px rgba(0, 0, 0, 0.15);\n",
              "      filter: drop-shadow(0px 1px 2px rgba(0, 0, 0, 0.3));\n",
              "      fill: #FFFFFF;\n",
              "    }\n",
              "  </style>\n",
              "\n",
              "      <script>\n",
              "        const buttonEl =\n",
              "          document.querySelector('#df-65975a4b-0865-4452-8ed1-cc2f83a4f352 button.colab-df-convert');\n",
              "        buttonEl.style.display =\n",
              "          google.colab.kernel.accessAllowed ? 'block' : 'none';\n",
              "\n",
              "        async function convertToInteractive(key) {\n",
              "          const element = document.querySelector('#df-65975a4b-0865-4452-8ed1-cc2f83a4f352');\n",
              "          const dataTable =\n",
              "            await google.colab.kernel.invokeFunction('convertToInteractive',\n",
              "                                                     [key], {});\n",
              "          if (!dataTable) return;\n",
              "\n",
              "          const docLinkHtml = 'Like what you see? Visit the ' +\n",
              "            '<a target=\"_blank\" href=https://colab.research.google.com/notebooks/data_table.ipynb>data table notebook</a>'\n",
              "            + ' to learn more about interactive tables.';\n",
              "          element.innerHTML = '';\n",
              "          dataTable['output_type'] = 'display_data';\n",
              "          await google.colab.output.renderOutput(dataTable, element);\n",
              "          const docLink = document.createElement('div');\n",
              "          docLink.innerHTML = docLinkHtml;\n",
              "          element.appendChild(docLink);\n",
              "        }\n",
              "      </script>\n",
              "    </div>\n",
              "  </div>\n",
              "  "
            ],
            "text/plain": [
              "   EmpNr       Dest  Amount\n",
              "0      5  The Hague    10.0\n",
              "1      9  Rotterdam     5.0\n",
              "2      7        NaN     2.5"
            ]
          },
          "metadata": {},
          "execution_count": 143
        }
      ]
    },
    {
      "cell_type": "markdown",
      "source": [
        "## Left Outer Join"
      ],
      "metadata": {
        "id": "lJlvN3N32xCo"
      }
    },
    {
      "cell_type": "code",
      "source": [
        "# Join DataFrames using Left Outer Join\n",
        "df_left = pd.merge(dest, tips, how='left', on='EmpNr')\n",
        "df_left"
      ],
      "metadata": {
        "colab": {
          "base_uri": "https://localhost:8080/",
          "height": 143
        },
        "id": "iGURIjY12Acq",
        "outputId": "cdf34bec-b528-4c72-859c-93839f584eca"
      },
      "execution_count": 144,
      "outputs": [
        {
          "output_type": "execute_result",
          "data": {
            "text/html": [
              "\n",
              "  <div id=\"df-8a017fcd-f64c-4e9a-a791-3dbfdae4c549\">\n",
              "    <div class=\"colab-df-container\">\n",
              "      <div>\n",
              "<style scoped>\n",
              "    .dataframe tbody tr th:only-of-type {\n",
              "        vertical-align: middle;\n",
              "    }\n",
              "\n",
              "    .dataframe tbody tr th {\n",
              "        vertical-align: top;\n",
              "    }\n",
              "\n",
              "    .dataframe thead th {\n",
              "        text-align: right;\n",
              "    }\n",
              "</style>\n",
              "<table border=\"1\" class=\"dataframe\">\n",
              "  <thead>\n",
              "    <tr style=\"text-align: right;\">\n",
              "      <th></th>\n",
              "      <th>EmpNr</th>\n",
              "      <th>Dest</th>\n",
              "      <th>Amount</th>\n",
              "    </tr>\n",
              "  </thead>\n",
              "  <tbody>\n",
              "    <tr>\n",
              "      <th>0</th>\n",
              "      <td>5</td>\n",
              "      <td>The Hague</td>\n",
              "      <td>10.0</td>\n",
              "    </tr>\n",
              "    <tr>\n",
              "      <th>1</th>\n",
              "      <td>3</td>\n",
              "      <td>Amsterdam</td>\n",
              "      <td>NaN</td>\n",
              "    </tr>\n",
              "    <tr>\n",
              "      <th>2</th>\n",
              "      <td>9</td>\n",
              "      <td>Rotterdam</td>\n",
              "      <td>5.0</td>\n",
              "    </tr>\n",
              "  </tbody>\n",
              "</table>\n",
              "</div>\n",
              "      <button class=\"colab-df-convert\" onclick=\"convertToInteractive('df-8a017fcd-f64c-4e9a-a791-3dbfdae4c549')\"\n",
              "              title=\"Convert this dataframe to an interactive table.\"\n",
              "              style=\"display:none;\">\n",
              "        \n",
              "  <svg xmlns=\"http://www.w3.org/2000/svg\" height=\"24px\"viewBox=\"0 0 24 24\"\n",
              "       width=\"24px\">\n",
              "    <path d=\"M0 0h24v24H0V0z\" fill=\"none\"/>\n",
              "    <path d=\"M18.56 5.44l.94 2.06.94-2.06 2.06-.94-2.06-.94-.94-2.06-.94 2.06-2.06.94zm-11 1L8.5 8.5l.94-2.06 2.06-.94-2.06-.94L8.5 2.5l-.94 2.06-2.06.94zm10 10l.94 2.06.94-2.06 2.06-.94-2.06-.94-.94-2.06-.94 2.06-2.06.94z\"/><path d=\"M17.41 7.96l-1.37-1.37c-.4-.4-.92-.59-1.43-.59-.52 0-1.04.2-1.43.59L10.3 9.45l-7.72 7.72c-.78.78-.78 2.05 0 2.83L4 21.41c.39.39.9.59 1.41.59.51 0 1.02-.2 1.41-.59l7.78-7.78 2.81-2.81c.8-.78.8-2.07 0-2.86zM5.41 20L4 18.59l7.72-7.72 1.47 1.35L5.41 20z\"/>\n",
              "  </svg>\n",
              "      </button>\n",
              "      \n",
              "  <style>\n",
              "    .colab-df-container {\n",
              "      display:flex;\n",
              "      flex-wrap:wrap;\n",
              "      gap: 12px;\n",
              "    }\n",
              "\n",
              "    .colab-df-convert {\n",
              "      background-color: #E8F0FE;\n",
              "      border: none;\n",
              "      border-radius: 50%;\n",
              "      cursor: pointer;\n",
              "      display: none;\n",
              "      fill: #1967D2;\n",
              "      height: 32px;\n",
              "      padding: 0 0 0 0;\n",
              "      width: 32px;\n",
              "    }\n",
              "\n",
              "    .colab-df-convert:hover {\n",
              "      background-color: #E2EBFA;\n",
              "      box-shadow: 0px 1px 2px rgba(60, 64, 67, 0.3), 0px 1px 3px 1px rgba(60, 64, 67, 0.15);\n",
              "      fill: #174EA6;\n",
              "    }\n",
              "\n",
              "    [theme=dark] .colab-df-convert {\n",
              "      background-color: #3B4455;\n",
              "      fill: #D2E3FC;\n",
              "    }\n",
              "\n",
              "    [theme=dark] .colab-df-convert:hover {\n",
              "      background-color: #434B5C;\n",
              "      box-shadow: 0px 1px 3px 1px rgba(0, 0, 0, 0.15);\n",
              "      filter: drop-shadow(0px 1px 2px rgba(0, 0, 0, 0.3));\n",
              "      fill: #FFFFFF;\n",
              "    }\n",
              "  </style>\n",
              "\n",
              "      <script>\n",
              "        const buttonEl =\n",
              "          document.querySelector('#df-8a017fcd-f64c-4e9a-a791-3dbfdae4c549 button.colab-df-convert');\n",
              "        buttonEl.style.display =\n",
              "          google.colab.kernel.accessAllowed ? 'block' : 'none';\n",
              "\n",
              "        async function convertToInteractive(key) {\n",
              "          const element = document.querySelector('#df-8a017fcd-f64c-4e9a-a791-3dbfdae4c549');\n",
              "          const dataTable =\n",
              "            await google.colab.kernel.invokeFunction('convertToInteractive',\n",
              "                                                     [key], {});\n",
              "          if (!dataTable) return;\n",
              "\n",
              "          const docLinkHtml = 'Like what you see? Visit the ' +\n",
              "            '<a target=\"_blank\" href=https://colab.research.google.com/notebooks/data_table.ipynb>data table notebook</a>'\n",
              "            + ' to learn more about interactive tables.';\n",
              "          element.innerHTML = '';\n",
              "          dataTable['output_type'] = 'display_data';\n",
              "          await google.colab.output.renderOutput(dataTable, element);\n",
              "          const docLink = document.createElement('div');\n",
              "          docLink.innerHTML = docLinkHtml;\n",
              "          element.appendChild(docLink);\n",
              "        }\n",
              "      </script>\n",
              "    </div>\n",
              "  </div>\n",
              "  "
            ],
            "text/plain": [
              "   EmpNr       Dest  Amount\n",
              "0      5  The Hague    10.0\n",
              "1      3  Amsterdam     NaN\n",
              "2      9  Rotterdam     5.0"
            ]
          },
          "metadata": {},
          "execution_count": 144
        }
      ]
    },
    {
      "cell_type": "markdown",
      "source": [
        "---\n",
        "# Missing Values\n",
        "---\n",
        "## Check missing values"
      ],
      "metadata": {
        "id": "Xn2Jp-ag3LEF"
      }
    },
    {
      "cell_type": "code",
      "source": [
        "# isnull() return true or false\n",
        "df.isnull()"
      ],
      "metadata": {
        "colab": {
          "base_uri": "https://localhost:8080/",
          "height": 502
        },
        "id": "bz0CI2yb2QSw",
        "outputId": "d84c8498-7e32-4bc7-885a-598a874d8fd4"
      },
      "execution_count": 146,
      "outputs": [
        {
          "output_type": "execute_result",
          "data": {
            "text/html": [
              "\n",
              "  <div id=\"df-8a1c162f-2ebc-4607-a323-64347a76cd5c\">\n",
              "    <div class=\"colab-df-container\">\n",
              "      <div>\n",
              "<style scoped>\n",
              "    .dataframe tbody tr th:only-of-type {\n",
              "        vertical-align: middle;\n",
              "    }\n",
              "\n",
              "    .dataframe tbody tr th {\n",
              "        vertical-align: top;\n",
              "    }\n",
              "\n",
              "    .dataframe thead th {\n",
              "        text-align: right;\n",
              "    }\n",
              "</style>\n",
              "<table border=\"1\" class=\"dataframe\">\n",
              "  <thead>\n",
              "    <tr style=\"text-align: right;\">\n",
              "      <th></th>\n",
              "      <th>Country</th>\n",
              "      <th>CountryID</th>\n",
              "      <th>Continent</th>\n",
              "      <th>Adolescent fertility rate (%)</th>\n",
              "      <th>Adult literacy rate (%)</th>\n",
              "      <th>Gross national income per capita (PPP international $)</th>\n",
              "      <th>Net primary school enrolment ratio female (%)</th>\n",
              "      <th>Net primary school enrolment ratio male (%)</th>\n",
              "      <th>Population (in thousands) total</th>\n",
              "    </tr>\n",
              "  </thead>\n",
              "  <tbody>\n",
              "    <tr>\n",
              "      <th>0</th>\n",
              "      <td>False</td>\n",
              "      <td>False</td>\n",
              "      <td>False</td>\n",
              "      <td>False</td>\n",
              "      <td>False</td>\n",
              "      <td>True</td>\n",
              "      <td>True</td>\n",
              "      <td>True</td>\n",
              "      <td>False</td>\n",
              "    </tr>\n",
              "    <tr>\n",
              "      <th>1</th>\n",
              "      <td>False</td>\n",
              "      <td>False</td>\n",
              "      <td>False</td>\n",
              "      <td>False</td>\n",
              "      <td>False</td>\n",
              "      <td>False</td>\n",
              "      <td>False</td>\n",
              "      <td>False</td>\n",
              "      <td>False</td>\n",
              "    </tr>\n",
              "    <tr>\n",
              "      <th>2</th>\n",
              "      <td>False</td>\n",
              "      <td>False</td>\n",
              "      <td>False</td>\n",
              "      <td>False</td>\n",
              "      <td>False</td>\n",
              "      <td>False</td>\n",
              "      <td>False</td>\n",
              "      <td>False</td>\n",
              "      <td>False</td>\n",
              "    </tr>\n",
              "    <tr>\n",
              "      <th>3</th>\n",
              "      <td>False</td>\n",
              "      <td>False</td>\n",
              "      <td>False</td>\n",
              "      <td>True</td>\n",
              "      <td>True</td>\n",
              "      <td>True</td>\n",
              "      <td>False</td>\n",
              "      <td>False</td>\n",
              "      <td>False</td>\n",
              "    </tr>\n",
              "    <tr>\n",
              "      <th>4</th>\n",
              "      <td>False</td>\n",
              "      <td>False</td>\n",
              "      <td>False</td>\n",
              "      <td>False</td>\n",
              "      <td>False</td>\n",
              "      <td>False</td>\n",
              "      <td>False</td>\n",
              "      <td>False</td>\n",
              "      <td>False</td>\n",
              "    </tr>\n",
              "    <tr>\n",
              "      <th>...</th>\n",
              "      <td>...</td>\n",
              "      <td>...</td>\n",
              "      <td>...</td>\n",
              "      <td>...</td>\n",
              "      <td>...</td>\n",
              "      <td>...</td>\n",
              "      <td>...</td>\n",
              "      <td>...</td>\n",
              "      <td>...</td>\n",
              "    </tr>\n",
              "    <tr>\n",
              "      <th>197</th>\n",
              "      <td>False</td>\n",
              "      <td>False</td>\n",
              "      <td>False</td>\n",
              "      <td>False</td>\n",
              "      <td>False</td>\n",
              "      <td>False</td>\n",
              "      <td>False</td>\n",
              "      <td>False</td>\n",
              "      <td>False</td>\n",
              "    </tr>\n",
              "    <tr>\n",
              "      <th>198</th>\n",
              "      <td>False</td>\n",
              "      <td>False</td>\n",
              "      <td>False</td>\n",
              "      <td>True</td>\n",
              "      <td>True</td>\n",
              "      <td>True</td>\n",
              "      <td>True</td>\n",
              "      <td>True</td>\n",
              "      <td>True</td>\n",
              "    </tr>\n",
              "    <tr>\n",
              "      <th>199</th>\n",
              "      <td>False</td>\n",
              "      <td>False</td>\n",
              "      <td>False</td>\n",
              "      <td>False</td>\n",
              "      <td>False</td>\n",
              "      <td>False</td>\n",
              "      <td>False</td>\n",
              "      <td>False</td>\n",
              "      <td>False</td>\n",
              "    </tr>\n",
              "    <tr>\n",
              "      <th>200</th>\n",
              "      <td>False</td>\n",
              "      <td>False</td>\n",
              "      <td>False</td>\n",
              "      <td>False</td>\n",
              "      <td>False</td>\n",
              "      <td>False</td>\n",
              "      <td>False</td>\n",
              "      <td>False</td>\n",
              "      <td>False</td>\n",
              "    </tr>\n",
              "    <tr>\n",
              "      <th>201</th>\n",
              "      <td>False</td>\n",
              "      <td>False</td>\n",
              "      <td>False</td>\n",
              "      <td>False</td>\n",
              "      <td>False</td>\n",
              "      <td>True</td>\n",
              "      <td>False</td>\n",
              "      <td>False</td>\n",
              "      <td>False</td>\n",
              "    </tr>\n",
              "  </tbody>\n",
              "</table>\n",
              "<p>202 rows × 9 columns</p>\n",
              "</div>\n",
              "      <button class=\"colab-df-convert\" onclick=\"convertToInteractive('df-8a1c162f-2ebc-4607-a323-64347a76cd5c')\"\n",
              "              title=\"Convert this dataframe to an interactive table.\"\n",
              "              style=\"display:none;\">\n",
              "        \n",
              "  <svg xmlns=\"http://www.w3.org/2000/svg\" height=\"24px\"viewBox=\"0 0 24 24\"\n",
              "       width=\"24px\">\n",
              "    <path d=\"M0 0h24v24H0V0z\" fill=\"none\"/>\n",
              "    <path d=\"M18.56 5.44l.94 2.06.94-2.06 2.06-.94-2.06-.94-.94-2.06-.94 2.06-2.06.94zm-11 1L8.5 8.5l.94-2.06 2.06-.94-2.06-.94L8.5 2.5l-.94 2.06-2.06.94zm10 10l.94 2.06.94-2.06 2.06-.94-2.06-.94-.94-2.06-.94 2.06-2.06.94z\"/><path d=\"M17.41 7.96l-1.37-1.37c-.4-.4-.92-.59-1.43-.59-.52 0-1.04.2-1.43.59L10.3 9.45l-7.72 7.72c-.78.78-.78 2.05 0 2.83L4 21.41c.39.39.9.59 1.41.59.51 0 1.02-.2 1.41-.59l7.78-7.78 2.81-2.81c.8-.78.8-2.07 0-2.86zM5.41 20L4 18.59l7.72-7.72 1.47 1.35L5.41 20z\"/>\n",
              "  </svg>\n",
              "      </button>\n",
              "      \n",
              "  <style>\n",
              "    .colab-df-container {\n",
              "      display:flex;\n",
              "      flex-wrap:wrap;\n",
              "      gap: 12px;\n",
              "    }\n",
              "\n",
              "    .colab-df-convert {\n",
              "      background-color: #E8F0FE;\n",
              "      border: none;\n",
              "      border-radius: 50%;\n",
              "      cursor: pointer;\n",
              "      display: none;\n",
              "      fill: #1967D2;\n",
              "      height: 32px;\n",
              "      padding: 0 0 0 0;\n",
              "      width: 32px;\n",
              "    }\n",
              "\n",
              "    .colab-df-convert:hover {\n",
              "      background-color: #E2EBFA;\n",
              "      box-shadow: 0px 1px 2px rgba(60, 64, 67, 0.3), 0px 1px 3px 1px rgba(60, 64, 67, 0.15);\n",
              "      fill: #174EA6;\n",
              "    }\n",
              "\n",
              "    [theme=dark] .colab-df-convert {\n",
              "      background-color: #3B4455;\n",
              "      fill: #D2E3FC;\n",
              "    }\n",
              "\n",
              "    [theme=dark] .colab-df-convert:hover {\n",
              "      background-color: #434B5C;\n",
              "      box-shadow: 0px 1px 3px 1px rgba(0, 0, 0, 0.15);\n",
              "      filter: drop-shadow(0px 1px 2px rgba(0, 0, 0, 0.3));\n",
              "      fill: #FFFFFF;\n",
              "    }\n",
              "  </style>\n",
              "\n",
              "      <script>\n",
              "        const buttonEl =\n",
              "          document.querySelector('#df-8a1c162f-2ebc-4607-a323-64347a76cd5c button.colab-df-convert');\n",
              "        buttonEl.style.display =\n",
              "          google.colab.kernel.accessAllowed ? 'block' : 'none';\n",
              "\n",
              "        async function convertToInteractive(key) {\n",
              "          const element = document.querySelector('#df-8a1c162f-2ebc-4607-a323-64347a76cd5c');\n",
              "          const dataTable =\n",
              "            await google.colab.kernel.invokeFunction('convertToInteractive',\n",
              "                                                     [key], {});\n",
              "          if (!dataTable) return;\n",
              "\n",
              "          const docLinkHtml = 'Like what you see? Visit the ' +\n",
              "            '<a target=\"_blank\" href=https://colab.research.google.com/notebooks/data_table.ipynb>data table notebook</a>'\n",
              "            + ' to learn more about interactive tables.';\n",
              "          element.innerHTML = '';\n",
              "          dataTable['output_type'] = 'display_data';\n",
              "          await google.colab.output.renderOutput(dataTable, element);\n",
              "          const docLink = document.createElement('div');\n",
              "          docLink.innerHTML = docLinkHtml;\n",
              "          element.appendChild(docLink);\n",
              "        }\n",
              "      </script>\n",
              "    </div>\n",
              "  </div>\n",
              "  "
            ],
            "text/plain": [
              "     Country  ...  Population (in thousands) total\n",
              "0      False  ...                            False\n",
              "1      False  ...                            False\n",
              "2      False  ...                            False\n",
              "3      False  ...                            False\n",
              "4      False  ...                            False\n",
              "..       ...  ...                              ...\n",
              "197    False  ...                            False\n",
              "198    False  ...                             True\n",
              "199    False  ...                            False\n",
              "200    False  ...                            False\n",
              "201    False  ...                            False\n",
              "\n",
              "[202 rows x 9 columns]"
            ]
          },
          "metadata": {},
          "execution_count": 146
        }
      ]
    },
    {
      "cell_type": "code",
      "source": [
        "# sum isnull values\n",
        "df.isnull().sum()"
      ],
      "metadata": {
        "colab": {
          "base_uri": "https://localhost:8080/"
        },
        "id": "jYV6IIJv4IM_",
        "outputId": "db7b352b-eff8-41c3-e854-6ec9f907fb1d"
      },
      "execution_count": 147,
      "outputs": [
        {
          "output_type": "execute_result",
          "data": {
            "text/plain": [
              "Country                                                    0\n",
              "CountryID                                                  0\n",
              "Continent                                                  0\n",
              "Adolescent fertility rate (%)                             25\n",
              "Adult literacy rate (%)                                   71\n",
              "Gross national income per capita (PPP international $)    24\n",
              "Net primary school enrolment ratio female (%)             23\n",
              "Net primary school enrolment ratio male (%)               23\n",
              "Population (in thousands) total                           13\n",
              "dtype: int64"
            ]
          },
          "metadata": {},
          "execution_count": 147
        }
      ]
    },
    {
      "cell_type": "markdown",
      "source": [
        "## Drop missing values\n",
        "`dropna()` is the very naive approach to deal with missing values.\n"
      ],
      "metadata": {
        "id": "HWm8vj5e47pl"
      }
    },
    {
      "cell_type": "code",
      "source": [
        "# Drop all the missing values\n",
        "# df.dropna(inplace=True)"
      ],
      "metadata": {
        "id": "TJFKolAl4U-q"
      },
      "execution_count": 148,
      "outputs": []
    },
    {
      "cell_type": "markdown",
      "source": [
        "## Fill the missing values\n",
        "`fillna()` is another approach to fill the missing values with zero, mean, median, or constant values."
      ],
      "metadata": {
        "id": "Dp6Eyv265lEV"
      }
    },
    {
      "cell_type": "code",
      "source": [
        "# Fill missing values with median\n",
        "# df.fillna(df.median(),inplace=True)"
      ],
      "metadata": {
        "id": "ANRoslim5gps"
      },
      "execution_count": 151,
      "outputs": []
    },
    {
      "cell_type": "markdown",
      "source": [
        "---\n",
        "# Pivot Table\n",
        "---\n",
        "A pivot table is a summary table.  \n",
        "A DataFrame is summarized using an aggregate function, such as mean, min, max, or sum. "
      ],
      "metadata": {
        "id": "WfgbwzHX6boH"
      }
    },
    {
      "cell_type": "code",
      "source": [
        "purchase = pd.read_csv('purchase.csv')\n",
        "purchase"
      ],
      "metadata": {
        "colab": {
          "base_uri": "https://localhost:8080/",
          "height": 269
        },
        "id": "CCq_sAdR54Hn",
        "outputId": "54255d3b-a96b-435a-9a2e-12a78031cda9"
      },
      "execution_count": 153,
      "outputs": [
        {
          "output_type": "execute_result",
          "data": {
            "text/html": [
              "\n",
              "  <div id=\"df-a6e64ffe-4b0d-49bd-919d-9c972f67df24\">\n",
              "    <div class=\"colab-df-container\">\n",
              "      <div>\n",
              "<style scoped>\n",
              "    .dataframe tbody tr th:only-of-type {\n",
              "        vertical-align: middle;\n",
              "    }\n",
              "\n",
              "    .dataframe tbody tr th {\n",
              "        vertical-align: top;\n",
              "    }\n",
              "\n",
              "    .dataframe thead th {\n",
              "        text-align: right;\n",
              "    }\n",
              "</style>\n",
              "<table border=\"1\" class=\"dataframe\">\n",
              "  <thead>\n",
              "    <tr style=\"text-align: right;\">\n",
              "      <th></th>\n",
              "      <th>Weather</th>\n",
              "      <th>Food</th>\n",
              "      <th>Price</th>\n",
              "      <th>Number</th>\n",
              "    </tr>\n",
              "  </thead>\n",
              "  <tbody>\n",
              "    <tr>\n",
              "      <th>0</th>\n",
              "      <td>cold</td>\n",
              "      <td>soup</td>\n",
              "      <td>3.745401</td>\n",
              "      <td>8</td>\n",
              "    </tr>\n",
              "    <tr>\n",
              "      <th>1</th>\n",
              "      <td>hot</td>\n",
              "      <td>soup</td>\n",
              "      <td>9.507143</td>\n",
              "      <td>8</td>\n",
              "    </tr>\n",
              "    <tr>\n",
              "      <th>2</th>\n",
              "      <td>cold</td>\n",
              "      <td>icecream</td>\n",
              "      <td>7.319939</td>\n",
              "      <td>8</td>\n",
              "    </tr>\n",
              "    <tr>\n",
              "      <th>3</th>\n",
              "      <td>hot</td>\n",
              "      <td>chocolate</td>\n",
              "      <td>5.986585</td>\n",
              "      <td>8</td>\n",
              "    </tr>\n",
              "    <tr>\n",
              "      <th>4</th>\n",
              "      <td>cold</td>\n",
              "      <td>icecream</td>\n",
              "      <td>1.560186</td>\n",
              "      <td>8</td>\n",
              "    </tr>\n",
              "    <tr>\n",
              "      <th>5</th>\n",
              "      <td>hot</td>\n",
              "      <td>icecream</td>\n",
              "      <td>1.559945</td>\n",
              "      <td>8</td>\n",
              "    </tr>\n",
              "    <tr>\n",
              "      <th>6</th>\n",
              "      <td>cold</td>\n",
              "      <td>soup</td>\n",
              "      <td>0.580836</td>\n",
              "      <td>8</td>\n",
              "    </tr>\n",
              "  </tbody>\n",
              "</table>\n",
              "</div>\n",
              "      <button class=\"colab-df-convert\" onclick=\"convertToInteractive('df-a6e64ffe-4b0d-49bd-919d-9c972f67df24')\"\n",
              "              title=\"Convert this dataframe to an interactive table.\"\n",
              "              style=\"display:none;\">\n",
              "        \n",
              "  <svg xmlns=\"http://www.w3.org/2000/svg\" height=\"24px\"viewBox=\"0 0 24 24\"\n",
              "       width=\"24px\">\n",
              "    <path d=\"M0 0h24v24H0V0z\" fill=\"none\"/>\n",
              "    <path d=\"M18.56 5.44l.94 2.06.94-2.06 2.06-.94-2.06-.94-.94-2.06-.94 2.06-2.06.94zm-11 1L8.5 8.5l.94-2.06 2.06-.94-2.06-.94L8.5 2.5l-.94 2.06-2.06.94zm10 10l.94 2.06.94-2.06 2.06-.94-2.06-.94-.94-2.06-.94 2.06-2.06.94z\"/><path d=\"M17.41 7.96l-1.37-1.37c-.4-.4-.92-.59-1.43-.59-.52 0-1.04.2-1.43.59L10.3 9.45l-7.72 7.72c-.78.78-.78 2.05 0 2.83L4 21.41c.39.39.9.59 1.41.59.51 0 1.02-.2 1.41-.59l7.78-7.78 2.81-2.81c.8-.78.8-2.07 0-2.86zM5.41 20L4 18.59l7.72-7.72 1.47 1.35L5.41 20z\"/>\n",
              "  </svg>\n",
              "      </button>\n",
              "      \n",
              "  <style>\n",
              "    .colab-df-container {\n",
              "      display:flex;\n",
              "      flex-wrap:wrap;\n",
              "      gap: 12px;\n",
              "    }\n",
              "\n",
              "    .colab-df-convert {\n",
              "      background-color: #E8F0FE;\n",
              "      border: none;\n",
              "      border-radius: 50%;\n",
              "      cursor: pointer;\n",
              "      display: none;\n",
              "      fill: #1967D2;\n",
              "      height: 32px;\n",
              "      padding: 0 0 0 0;\n",
              "      width: 32px;\n",
              "    }\n",
              "\n",
              "    .colab-df-convert:hover {\n",
              "      background-color: #E2EBFA;\n",
              "      box-shadow: 0px 1px 2px rgba(60, 64, 67, 0.3), 0px 1px 3px 1px rgba(60, 64, 67, 0.15);\n",
              "      fill: #174EA6;\n",
              "    }\n",
              "\n",
              "    [theme=dark] .colab-df-convert {\n",
              "      background-color: #3B4455;\n",
              "      fill: #D2E3FC;\n",
              "    }\n",
              "\n",
              "    [theme=dark] .colab-df-convert:hover {\n",
              "      background-color: #434B5C;\n",
              "      box-shadow: 0px 1px 3px 1px rgba(0, 0, 0, 0.15);\n",
              "      filter: drop-shadow(0px 1px 2px rgba(0, 0, 0, 0.3));\n",
              "      fill: #FFFFFF;\n",
              "    }\n",
              "  </style>\n",
              "\n",
              "      <script>\n",
              "        const buttonEl =\n",
              "          document.querySelector('#df-a6e64ffe-4b0d-49bd-919d-9c972f67df24 button.colab-df-convert');\n",
              "        buttonEl.style.display =\n",
              "          google.colab.kernel.accessAllowed ? 'block' : 'none';\n",
              "\n",
              "        async function convertToInteractive(key) {\n",
              "          const element = document.querySelector('#df-a6e64ffe-4b0d-49bd-919d-9c972f67df24');\n",
              "          const dataTable =\n",
              "            await google.colab.kernel.invokeFunction('convertToInteractive',\n",
              "                                                     [key], {});\n",
              "          if (!dataTable) return;\n",
              "\n",
              "          const docLinkHtml = 'Like what you see? Visit the ' +\n",
              "            '<a target=\"_blank\" href=https://colab.research.google.com/notebooks/data_table.ipynb>data table notebook</a>'\n",
              "            + ' to learn more about interactive tables.';\n",
              "          element.innerHTML = '';\n",
              "          dataTable['output_type'] = 'display_data';\n",
              "          await google.colab.output.renderOutput(dataTable, element);\n",
              "          const docLink = document.createElement('div');\n",
              "          docLink.innerHTML = docLinkHtml;\n",
              "          element.appendChild(docLink);\n",
              "        }\n",
              "      </script>\n",
              "    </div>\n",
              "  </div>\n",
              "  "
            ],
            "text/plain": [
              "  Weather       Food     Price  Number\n",
              "0    cold       soup  3.745401       8\n",
              "1     hot       soup  9.507143       8\n",
              "2    cold   icecream  7.319939       8\n",
              "3     hot  chocolate  5.986585       8\n",
              "4    cold   icecream  1.560186       8\n",
              "5     hot   icecream  1.559945       8\n",
              "6    cold       soup  0.580836       8"
            ]
          },
          "metadata": {},
          "execution_count": 153
        }
      ]
    },
    {
      "cell_type": "code",
      "source": [
        "# Summarise dataframe using pivot table\n",
        "pd.pivot_table(purchase, values='Number', index='Weather', columns='Food', aggfunc=np.sum)"
      ],
      "metadata": {
        "colab": {
          "base_uri": "https://localhost:8080/",
          "height": 143
        },
        "id": "n5zCPCQv6_Ff",
        "outputId": "4fbfbe37-a06a-40dd-aeec-b177b60ff2f3"
      },
      "execution_count": 156,
      "outputs": [
        {
          "output_type": "execute_result",
          "data": {
            "text/html": [
              "\n",
              "  <div id=\"df-da353fdf-a466-4a18-b361-ad7c46aca0fa\">\n",
              "    <div class=\"colab-df-container\">\n",
              "      <div>\n",
              "<style scoped>\n",
              "    .dataframe tbody tr th:only-of-type {\n",
              "        vertical-align: middle;\n",
              "    }\n",
              "\n",
              "    .dataframe tbody tr th {\n",
              "        vertical-align: top;\n",
              "    }\n",
              "\n",
              "    .dataframe thead th {\n",
              "        text-align: right;\n",
              "    }\n",
              "</style>\n",
              "<table border=\"1\" class=\"dataframe\">\n",
              "  <thead>\n",
              "    <tr style=\"text-align: right;\">\n",
              "      <th>Food</th>\n",
              "      <th>chocolate</th>\n",
              "      <th>icecream</th>\n",
              "      <th>soup</th>\n",
              "    </tr>\n",
              "    <tr>\n",
              "      <th>Weather</th>\n",
              "      <th></th>\n",
              "      <th></th>\n",
              "      <th></th>\n",
              "    </tr>\n",
              "  </thead>\n",
              "  <tbody>\n",
              "    <tr>\n",
              "      <th>cold</th>\n",
              "      <td>NaN</td>\n",
              "      <td>16.0</td>\n",
              "      <td>16.0</td>\n",
              "    </tr>\n",
              "    <tr>\n",
              "      <th>hot</th>\n",
              "      <td>8.0</td>\n",
              "      <td>8.0</td>\n",
              "      <td>8.0</td>\n",
              "    </tr>\n",
              "  </tbody>\n",
              "</table>\n",
              "</div>\n",
              "      <button class=\"colab-df-convert\" onclick=\"convertToInteractive('df-da353fdf-a466-4a18-b361-ad7c46aca0fa')\"\n",
              "              title=\"Convert this dataframe to an interactive table.\"\n",
              "              style=\"display:none;\">\n",
              "        \n",
              "  <svg xmlns=\"http://www.w3.org/2000/svg\" height=\"24px\"viewBox=\"0 0 24 24\"\n",
              "       width=\"24px\">\n",
              "    <path d=\"M0 0h24v24H0V0z\" fill=\"none\"/>\n",
              "    <path d=\"M18.56 5.44l.94 2.06.94-2.06 2.06-.94-2.06-.94-.94-2.06-.94 2.06-2.06.94zm-11 1L8.5 8.5l.94-2.06 2.06-.94-2.06-.94L8.5 2.5l-.94 2.06-2.06.94zm10 10l.94 2.06.94-2.06 2.06-.94-2.06-.94-.94-2.06-.94 2.06-2.06.94z\"/><path d=\"M17.41 7.96l-1.37-1.37c-.4-.4-.92-.59-1.43-.59-.52 0-1.04.2-1.43.59L10.3 9.45l-7.72 7.72c-.78.78-.78 2.05 0 2.83L4 21.41c.39.39.9.59 1.41.59.51 0 1.02-.2 1.41-.59l7.78-7.78 2.81-2.81c.8-.78.8-2.07 0-2.86zM5.41 20L4 18.59l7.72-7.72 1.47 1.35L5.41 20z\"/>\n",
              "  </svg>\n",
              "      </button>\n",
              "      \n",
              "  <style>\n",
              "    .colab-df-container {\n",
              "      display:flex;\n",
              "      flex-wrap:wrap;\n",
              "      gap: 12px;\n",
              "    }\n",
              "\n",
              "    .colab-df-convert {\n",
              "      background-color: #E8F0FE;\n",
              "      border: none;\n",
              "      border-radius: 50%;\n",
              "      cursor: pointer;\n",
              "      display: none;\n",
              "      fill: #1967D2;\n",
              "      height: 32px;\n",
              "      padding: 0 0 0 0;\n",
              "      width: 32px;\n",
              "    }\n",
              "\n",
              "    .colab-df-convert:hover {\n",
              "      background-color: #E2EBFA;\n",
              "      box-shadow: 0px 1px 2px rgba(60, 64, 67, 0.3), 0px 1px 3px 1px rgba(60, 64, 67, 0.15);\n",
              "      fill: #174EA6;\n",
              "    }\n",
              "\n",
              "    [theme=dark] .colab-df-convert {\n",
              "      background-color: #3B4455;\n",
              "      fill: #D2E3FC;\n",
              "    }\n",
              "\n",
              "    [theme=dark] .colab-df-convert:hover {\n",
              "      background-color: #434B5C;\n",
              "      box-shadow: 0px 1px 3px 1px rgba(0, 0, 0, 0.15);\n",
              "      filter: drop-shadow(0px 1px 2px rgba(0, 0, 0, 0.3));\n",
              "      fill: #FFFFFF;\n",
              "    }\n",
              "  </style>\n",
              "\n",
              "      <script>\n",
              "        const buttonEl =\n",
              "          document.querySelector('#df-da353fdf-a466-4a18-b361-ad7c46aca0fa button.colab-df-convert');\n",
              "        buttonEl.style.display =\n",
              "          google.colab.kernel.accessAllowed ? 'block' : 'none';\n",
              "\n",
              "        async function convertToInteractive(key) {\n",
              "          const element = document.querySelector('#df-da353fdf-a466-4a18-b361-ad7c46aca0fa');\n",
              "          const dataTable =\n",
              "            await google.colab.kernel.invokeFunction('convertToInteractive',\n",
              "                                                     [key], {});\n",
              "          if (!dataTable) return;\n",
              "\n",
              "          const docLinkHtml = 'Like what you see? Visit the ' +\n",
              "            '<a target=\"_blank\" href=https://colab.research.google.com/notebooks/data_table.ipynb>data table notebook</a>'\n",
              "            + ' to learn more about interactive tables.';\n",
              "          element.innerHTML = '';\n",
              "          dataTable['output_type'] = 'display_data';\n",
              "          await google.colab.output.renderOutput(dataTable, element);\n",
              "          const docLink = document.createElement('div');\n",
              "          docLink.innerHTML = docLinkHtml;\n",
              "          element.appendChild(docLink);\n",
              "        }\n",
              "      </script>\n",
              "    </div>\n",
              "  </div>\n",
              "  "
            ],
            "text/plain": [
              "Food     chocolate  icecream  soup\n",
              "Weather                           \n",
              "cold           NaN      16.0  16.0\n",
              "hot            8.0       8.0   8.0"
            ]
          },
          "metadata": {},
          "execution_count": 156
        }
      ]
    },
    {
      "cell_type": "markdown",
      "source": [
        "---\n",
        "# Dealing with dates\n",
        "---\n"
      ],
      "metadata": {
        "id": "G0WgrQKd9AuN"
      }
    },
    {
      "cell_type": "code",
      "source": [
        "# Date range function\n",
        "pd.date_range(start='2022-01-11', periods=45, freq='D')"
      ],
      "metadata": {
        "colab": {
          "base_uri": "https://localhost:8080/"
        },
        "id": "zyigSusR8Nt5",
        "outputId": "24f5da80-283b-4ad6-a17d-382aeafdfd89"
      },
      "execution_count": 158,
      "outputs": [
        {
          "output_type": "execute_result",
          "data": {
            "text/plain": [
              "DatetimeIndex(['2022-01-11', '2022-01-12', '2022-01-13', '2022-01-14',\n",
              "               '2022-01-15', '2022-01-16', '2022-01-17', '2022-01-18',\n",
              "               '2022-01-19', '2022-01-20', '2022-01-21', '2022-01-22',\n",
              "               '2022-01-23', '2022-01-24', '2022-01-25', '2022-01-26',\n",
              "               '2022-01-27', '2022-01-28', '2022-01-29', '2022-01-30',\n",
              "               '2022-01-31', '2022-02-01', '2022-02-02', '2022-02-03',\n",
              "               '2022-02-04', '2022-02-05', '2022-02-06', '2022-02-07',\n",
              "               '2022-02-08', '2022-02-09', '2022-02-10', '2022-02-11',\n",
              "               '2022-02-12', '2022-02-13', '2022-02-14', '2022-02-15',\n",
              "               '2022-02-16', '2022-02-17', '2022-02-18', '2022-02-19',\n",
              "               '2022-02-20', '2022-02-21', '2022-02-22', '2022-02-23',\n",
              "               '2022-02-24'],\n",
              "              dtype='datetime64[ns]', freq='D')"
            ]
          },
          "metadata": {},
          "execution_count": 158
        }
      ]
    },
    {
      "cell_type": "code",
      "source": [
        "# Convert argument to datetime\n",
        "pd.to_datetime('30/10/2017')"
      ],
      "metadata": {
        "colab": {
          "base_uri": "https://localhost:8080/"
        },
        "id": "jND4LtVH93Hs",
        "outputId": "86858d05-4ec1-4c79-9684-630b955b9a0d"
      },
      "execution_count": 159,
      "outputs": [
        {
          "output_type": "execute_result",
          "data": {
            "text/plain": [
              "Timestamp('2017-10-30 00:00:00')"
            ]
          },
          "metadata": {},
          "execution_count": 159
        }
      ]
    },
    {
      "cell_type": "code",
      "source": [
        "# Convert argument to datetime in specified format\n",
        "pd.to_datetime(['20200101', '20200102'], format='%Y%m%d')"
      ],
      "metadata": {
        "colab": {
          "base_uri": "https://localhost:8080/"
        },
        "id": "HxEMB4ls-tuO",
        "outputId": "abc98a6d-ddea-459f-cbc5-9598854267a6"
      },
      "execution_count": 160,
      "outputs": [
        {
          "output_type": "execute_result",
          "data": {
            "text/plain": [
              "DatetimeIndex(['2020-01-01', '2020-01-02'], dtype='datetime64[ns]', freq=None)"
            ]
          },
          "metadata": {},
          "execution_count": 160
        }
      ]
    },
    {
      "cell_type": "code",
      "source": [
        "# Value Error\n",
        "# pd.to_datetime(['20200101', 'not a date'])"
      ],
      "metadata": {
        "id": "rQ5ArmuE_HYN"
      },
      "execution_count": 161,
      "outputs": []
    },
    {
      "cell_type": "code",
      "source": [
        "# Handle value error\n",
        "pd.to_datetime(['20220111', 'not a date'], errors='coerce')"
      ],
      "metadata": {
        "colab": {
          "base_uri": "https://localhost:8080/"
        },
        "id": "1GH86QyZ_X3J",
        "outputId": "dd65c2c8-8e67-4b80-d347-02419fe7c6b4"
      },
      "execution_count": 162,
      "outputs": [
        {
          "output_type": "execute_result",
          "data": {
            "text/plain": [
              "DatetimeIndex(['2022-01-11', 'NaT'], dtype='datetime64[ns]', freq=None)"
            ]
          },
          "metadata": {},
          "execution_count": 162
        }
      ]
    },
    {
      "cell_type": "code",
      "source": [
        ""
      ],
      "metadata": {
        "id": "YEjf5NmZ_woz"
      },
      "execution_count": null,
      "outputs": []
    }
  ]
}