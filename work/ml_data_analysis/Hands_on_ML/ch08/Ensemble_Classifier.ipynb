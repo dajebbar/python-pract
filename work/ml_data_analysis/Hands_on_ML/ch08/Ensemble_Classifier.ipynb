{
  "nbformat": 4,
  "nbformat_minor": 0,
  "metadata": {
    "colab": {
      "name": "Ensemble_Classifier.ipynb",
      "provenance": []
    },
    "kernelspec": {
      "name": "python3",
      "display_name": "Python 3"
    },
    "language_info": {
      "name": "python"
    }
  },
  "cells": [
    {
      "cell_type": "markdown",
      "source": [
        "# Random Forest Classification"
      ],
      "metadata": {
        "id": "Owbj_Y6zwJhQ"
      }
    },
    {
      "cell_type": "code",
      "execution_count": 1,
      "metadata": {
        "id": "APxw6fNhviyr"
      },
      "outputs": [],
      "source": [
        "import numpy as np\n",
        "from sklearn.datasets import make_hastie_10_2\n",
        "\n",
        "x, y = make_hastie_10_2(n_samples=6000, random_state=42)"
      ]
    },
    {
      "cell_type": "code",
      "source": [
        "(y >= 0.).mean()"
      ],
      "metadata": {
        "colab": {
          "base_uri": "https://localhost:8080/"
        },
        "id": "epzGzD6KwNYv",
        "outputId": "cd2f0949-d92c-48aa-f458-42fa80e40f75"
      },
      "execution_count": 2,
      "outputs": [
        {
          "output_type": "execute_result",
          "data": {
            "text/plain": [
              "0.5031666666666667"
            ]
          },
          "metadata": {},
          "execution_count": 2
        }
      ]
    },
    {
      "cell_type": "code",
      "source": [
        "from sklearn.model_selection import train_test_split\n",
        "\n",
        "x_train, x_test, y_train, y_test  = train_test_split(\n",
        "    x, y, \n",
        "    test_size=0.25, \n",
        "    random_state=42,\n",
        ")\n",
        "\n",
        "x_train.shape, y_train.shape, x_test.shape, y_test.shape"
      ],
      "metadata": {
        "colab": {
          "base_uri": "https://localhost:8080/"
        },
        "id": "nqdlpME7wdFK",
        "outputId": "50bb5492-fbb6-4823-f4ca-87ca16651f29"
      },
      "execution_count": 3,
      "outputs": [
        {
          "output_type": "execute_result",
          "data": {
            "text/plain": [
              "((4500, 10), (4500,), (1500, 10), (1500,))"
            ]
          },
          "metadata": {},
          "execution_count": 3
        }
      ]
    },
    {
      "cell_type": "code",
      "source": [
        "from sklearn.ensemble import RandomForestClassifier\n",
        "\n",
        "clf = RandomForestClassifier(\n",
        "    n_estimators=100,\n",
        "    oob_score=True,\n",
        "    n_jobs=-1,\n",
        ")\n",
        "\n",
        "clf.fit(x_train, y_train)\n",
        "y_pred = clf.predict_proba(x_test)[:1]"
      ],
      "metadata": {
        "id": "Dgg8nBYJww8N"
      },
      "execution_count": 11,
      "outputs": []
    },
    {
      "cell_type": "code",
      "source": [
        ""
      ],
      "metadata": {
        "id": "22su0owYw7b2"
      },
      "execution_count": 4,
      "outputs": []
    }
  ]
}