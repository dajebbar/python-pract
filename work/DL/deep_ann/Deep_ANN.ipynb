{
  "nbformat": 4,
  "nbformat_minor": 0,
  "metadata": {
    "colab": {
      "name": "Deep_ANN.ipynb",
      "provenance": []
    },
    "kernelspec": {
      "name": "python3",
      "display_name": "Python 3"
    },
    "language_info": {
      "name": "python"
    }
  },
  "cells": [
    {
      "cell_type": "code",
      "execution_count": 1,
      "metadata": {
        "id": "gtK7Ja16glhW"
      },
      "outputs": [],
      "source": [
        "import numpy as np\n",
        "import matplotlib.pyplot as plt\n",
        "from sklearn.datasets import make_blobs, make_circles\n",
        "from sklearn.metrics import accuracy_score, log_loss\n",
        "from tqdm import tqdm\n",
        "plt.style.use('ggplot')\n",
        "%matplotlib inline"
      ]
    },
    {
      "cell_type": "markdown",
      "source": [
        "# Functions"
      ],
      "metadata": {
        "id": "uZDlWlOhhQts"
      }
    },
    {
      "cell_type": "code",
      "source": [
        "def initialize(dimensions):\n",
        "  parameters = {}\n",
        "  layers = len(dimensions)\n",
        "\n",
        "  for layer in range(1, layers):\n",
        "    parameters[f'W{layer}'] = np.random.randn(\n",
        "        dimensions[layer], \n",
        "        dimensions[layer-1]\n",
        "        )\n",
        "    parameters[f'b{layer}'] = np.random.randn(dimensions[layer], 1)\n",
        "  \n",
        "  return parameters"
      ],
      "metadata": {
        "id": "OxlLUFJjhOOd"
      },
      "execution_count": 2,
      "outputs": []
    },
    {
      "cell_type": "code",
      "source": [
        "params = initialize((2, 32, 32, 2))\n",
        "for k, v in params.items():\n",
        "  print(k, ' : ', v.shape)"
      ],
      "metadata": {
        "colab": {
          "base_uri": "https://localhost:8080/"
        },
        "id": "LVvRcwUHieQR",
        "outputId": "b02430c4-a49e-4f36-b6ef-8891ccc8c99b"
      },
      "execution_count": 4,
      "outputs": [
        {
          "output_type": "stream",
          "name": "stdout",
          "text": [
            "W1  :  (32, 2)\n",
            "b1  :  (32, 1)\n",
            "W2  :  (32, 32)\n",
            "b2  :  (32, 1)\n",
            "W3  :  (2, 32)\n",
            "b3  :  (2, 1)\n"
          ]
        }
      ]
    },
    {
      "cell_type": "code",
      "source": [
        "def forward_propagation(X, parameters):\n",
        "  activations = {'A0': X}\n",
        "  layers = len(parameters) // 2\n",
        "\n",
        "  for layer in range(1, layers+1):\n",
        "    Z = parameters[f'W{layer}'].dot(activations[f'A{layer-1}']) + parameters[f'b{layer}']\n",
        "    activations[f'A{layer}'] = 1 / (1 + np.exp(Z))\n",
        "  \n",
        "  return activations"
      ],
      "metadata": {
        "id": "bWfx0XSSjOl3"
      },
      "execution_count": 5,
      "outputs": []
    },
    {
      "cell_type": "code",
      "source": [
        "def backpropagation(y, parameters, activations):\n",
        "  m = y.shape[1]\n",
        "  layers = len(parameters) // 2\n",
        "\n",
        "  dZ = activations['A' + str(layers)] - y\n",
        "  gradients = {}\n",
        "\n",
        "  for layer in reversed(range(1, layers + 1)):\n",
        "    gradients[f'dW{layer}'] = 1/m * np.dot(dZ, activations[f'A{layer - 1}'].T)\n",
        "    gradients[f'db{layer}'] = 1/m * np.sum(dZ, axis=1, keepdims=True)\n",
        "    if layer > 1:\n",
        "      dZ = np.dot(parameters['W' + str(layer)].T, dZ) * activations['A' + str(layer - 1)] * (1 - activations['A' + str(layer - 1)])\n",
        "\n",
        "  return gradients"
      ],
      "metadata": {
        "id": "irkexhn6mXCi"
      },
      "execution_count": 6,
      "outputs": []
    },
    {
      "cell_type": "code",
      "source": [
        "def update(gradients, parametres, learning_rate):\n",
        "\n",
        "    C = len(parametres) // 2\n",
        "\n",
        "    for c in range(1, C + 1):\n",
        "        parametres['W' + str(c)] = parametres['W' + str(c)] - learning_rate * gradients['dW' + str(c)]\n",
        "        parametres['b' + str(c)] = parametres['b' + str(c)] - learning_rate * gradients['db' + str(c)]\n",
        "\n",
        "    return parametres"
      ],
      "metadata": {
        "id": "KFqJl-RLorv2"
      },
      "execution_count": 7,
      "outputs": []
    },
    {
      "cell_type": "code",
      "source": [
        ""
      ],
      "metadata": {
        "id": "f3V1cLKrpiSv"
      },
      "execution_count": null,
      "outputs": []
    }
  ]
}