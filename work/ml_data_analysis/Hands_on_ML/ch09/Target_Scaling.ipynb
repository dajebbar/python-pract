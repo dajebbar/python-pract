{
  "nbformat": 4,
  "nbformat_minor": 0,
  "metadata": {
    "colab": {
      "name": "Target_Scaling.ipynb",
      "provenance": []
    },
    "kernelspec": {
      "name": "python3",
      "display_name": "Python 3"
    },
    "language_info": {
      "name": "python"
    }
  },
  "cells": [
    {
      "cell_type": "markdown",
      "source": [
        "# Target Scaling"
      ],
      "metadata": {
        "id": "ne1PbdPaJzjp"
      }
    },
    {
      "cell_type": "code",
      "source": [
        "import pandas as pd\n",
        "import numpy as np\n",
        "import matplotlib.pyplot as plt\n",
        "plt.style.use('ggplot')\n",
        "%matplotlib inline"
      ],
      "metadata": {
        "id": "5mAloKhgKFAp"
      },
      "execution_count": 1,
      "outputs": []
    },
    {
      "cell_type": "code",
      "execution_count": 2,
      "metadata": {
        "id": "u_iQk6zJF1k5"
      },
      "outputs": [],
      "source": [
        "x = np.random.uniform(low=5, high=20, size=100)\n",
        "e = np.random.normal(loc=0, scale=0.5, size=100)\n",
        "\n",
        "y = (x + e) ** 3"
      ]
    },
    {
      "cell_type": "code",
      "source": [
        "fig, ax = plt.subplots(figsize=(10, 8))\n",
        "\n",
        "pd.DataFrame({'x': x, 'y': y}).plot(\n",
        "    title='Y is non-linear',\n",
        "    kind='scatter',\n",
        "    x='x', y='y', \n",
        "    ax=ax\n",
        ")\n",
        "\n",
        "fig.show()"
      ],
      "metadata": {
        "colab": {
          "base_uri": "https://localhost:8080/",
          "height": 517
        },
        "id": "q4gb0J_sJ-y_",
        "outputId": "9eadf121-67f6-4ef2-849c-802c32270394"
      },
      "execution_count": 3,
      "outputs": [
        {
          "output_type": "display_data",
          "data": {
            "text/plain": [
              "<Figure size 720x576 with 1 Axes>"
            ],
            "image/png": "[encoded data removed]"
          },
          "metadata": {
            "needs_background": "light"
          }
        }
      ]
    },
    {
      "cell_type": "code",
      "source": [
        "x"
      ],
      "metadata": {
        "colab": {
          "base_uri": "https://localhost:8080/"
        },
        "id": "wZlIvJovKqT9",
        "outputId": "1b84937c-0cad-4624-911b-0c088b8e397a"
      },
      "execution_count": 4,
      "outputs": [
        {
          "output_type": "execute_result",
          "data": {
            "text/plain": [
              "array([18.09103175, 18.54291248, 10.18595125,  5.95571629, 15.00784433,\n",
              "       17.37714194, 19.54058226, 15.71558088, 18.6363761 ,  8.9015629 ,\n",
              "        7.21448724, 14.9396964 , 11.75822176, 14.23208728,  6.40829824,\n",
              "       12.413946  ,  5.96940947, 18.72294814, 12.23273289, 13.79518888,\n",
              "        5.16959384,  6.80585043, 14.69168623, 16.89593583,  5.84830945,\n",
              "        9.29643104,  7.88126266,  6.55994978, 15.83710013,  6.703728  ,\n",
              "       17.55462506, 16.74381239, 12.3968921 , 17.21780039, 12.7391676 ,\n",
              "       11.91871089, 13.83063962, 13.90248796,  7.49305588,  8.35541402,\n",
              "       14.31204705, 10.53438339, 13.78857801, 15.21714082,  6.5276111 ,\n",
              "       17.99247992, 18.73293396, 16.57644685, 13.42074461,  6.95197027,\n",
              "       11.79387127, 17.16054378, 10.60098947,  5.6375051 , 17.71021119,\n",
              "        7.35715919,  5.01363829, 16.60107846, 12.90292707, 12.53854694,\n",
              "       18.79440552,  6.48012105, 16.34415132, 15.91741028, 13.60540916,\n",
              "       12.47021834, 15.15345322, 13.99922884, 19.72939993, 18.98925461,\n",
              "       19.8899757 , 14.42334249, 16.21114433, 15.0129663 , 18.38700471,\n",
              "       10.31795255,  9.55805317, 12.37580162, 18.96292413, 14.18302192,\n",
              "        8.76876924, 11.10290364, 17.78438895, 10.66407792, 17.27307327,\n",
              "       14.76861993,  8.47061397,  6.02905986,  6.71247976, 19.68732695,\n",
              "       17.81671416,  6.10433589, 16.74442228,  8.5318723 , 19.12813971,\n",
              "        7.8995908 ,  6.48629862, 17.81242513,  6.98266037,  5.98257946])"
            ]
          },
          "metadata": {},
          "execution_count": 4
        }
      ]
    },
    {
      "cell_type": "code",
      "source": [
        "x = x.reshape((x.shape[0],1))\n",
        "x"
      ],
      "metadata": {
        "colab": {
          "base_uri": "https://localhost:8080/"
        },
        "id": "QPhTvJvCKrhp",
        "outputId": "1fa9815c-1b60-478e-ee80-b4229986b289"
      },
      "execution_count": 5,
      "outputs": [
        {
          "output_type": "execute_result",
          "data": {
            "text/plain": [
              "array([[18.09103175],\n",
              "       [18.54291248],\n",
              "       [10.18595125],\n",
              "       [ 5.95571629],\n",
              "       [15.00784433],\n",
              "       [17.37714194],\n",
              "       [19.54058226],\n",
              "       [15.71558088],\n",
              "       [18.6363761 ],\n",
              "       [ 8.9015629 ],\n",
              "       [ 7.21448724],\n",
              "       [14.9396964 ],\n",
              "       [11.75822176],\n",
              "       [14.23208728],\n",
              "       [ 6.40829824],\n",
              "       [12.413946  ],\n",
              "       [ 5.96940947],\n",
              "       [18.72294814],\n",
              "       [12.23273289],\n",
              "       [13.79518888],\n",
              "       [ 5.16959384],\n",
              "       [ 6.80585043],\n",
              "       [14.69168623],\n",
              "       [16.89593583],\n",
              "       [ 5.84830945],\n",
              "       [ 9.29643104],\n",
              "       [ 7.88126266],\n",
              "       [ 6.55994978],\n",
              "       [15.83710013],\n",
              "       [ 6.703728  ],\n",
              "       [17.55462506],\n",
              "       [16.74381239],\n",
              "       [12.3968921 ],\n",
              "       [17.21780039],\n",
              "       [12.7391676 ],\n",
              "       [11.91871089],\n",
              "       [13.83063962],\n",
              "       [13.90248796],\n",
              "       [ 7.49305588],\n",
              "       [ 8.35541402],\n",
              "       [14.31204705],\n",
              "       [10.53438339],\n",
              "       [13.78857801],\n",
              "       [15.21714082],\n",
              "       [ 6.5276111 ],\n",
              "       [17.99247992],\n",
              "       [18.73293396],\n",
              "       [16.57644685],\n",
              "       [13.42074461],\n",
              "       [ 6.95197027],\n",
              "       [11.79387127],\n",
              "       [17.16054378],\n",
              "       [10.60098947],\n",
              "       [ 5.6375051 ],\n",
              "       [17.71021119],\n",
              "       [ 7.35715919],\n",
              "       [ 5.01363829],\n",
              "       [16.60107846],\n",
              "       [12.90292707],\n",
              "       [12.53854694],\n",
              "       [18.79440552],\n",
              "       [ 6.48012105],\n",
              "       [16.34415132],\n",
              "       [15.91741028],\n",
              "       [13.60540916],\n",
              "       [12.47021834],\n",
              "       [15.15345322],\n",
              "       [13.99922884],\n",
              "       [19.72939993],\n",
              "       [18.98925461],\n",
              "       [19.8899757 ],\n",
              "       [14.42334249],\n",
              "       [16.21114433],\n",
              "       [15.0129663 ],\n",
              "       [18.38700471],\n",
              "       [10.31795255],\n",
              "       [ 9.55805317],\n",
              "       [12.37580162],\n",
              "       [18.96292413],\n",
              "       [14.18302192],\n",
              "       [ 8.76876924],\n",
              "       [11.10290364],\n",
              "       [17.78438895],\n",
              "       [10.66407792],\n",
              "       [17.27307327],\n",
              "       [14.76861993],\n",
              "       [ 8.47061397],\n",
              "       [ 6.02905986],\n",
              "       [ 6.71247976],\n",
              "       [19.68732695],\n",
              "       [17.81671416],\n",
              "       [ 6.10433589],\n",
              "       [16.74442228],\n",
              "       [ 8.5318723 ],\n",
              "       [19.12813971],\n",
              "       [ 7.8995908 ],\n",
              "       [ 6.48629862],\n",
              "       [17.81242513],\n",
              "       [ 6.98266037],\n",
              "       [ 5.98257946]])"
            ]
          },
          "metadata": {},
          "execution_count": 5
        }
      ]
    },
    {
      "cell_type": "code",
      "source": [
        "y"
      ],
      "metadata": {
        "colab": {
          "base_uri": "https://localhost:8080/"
        },
        "id": "QJj9QC0LKvjN",
        "outputId": "9f85c108-6b19-4b86-f0ea-6a874d7fddef"
      },
      "execution_count": 6,
      "outputs": [
        {
          "output_type": "execute_result",
          "data": {
            "text/plain": [
              "array([6165.07930796, 6523.73053674,  879.21778941,  262.60353061,\n",
              "       3818.98075929, 5552.74253059, 6607.9461331 , 3656.49192497,\n",
              "       6363.78424892,  723.73806331,  525.88839594, 2532.06833827,\n",
              "       1630.02256436, 3030.98795796,  173.36912333, 1610.50510928,\n",
              "        232.73594262, 7150.21895171, 1721.58439372, 2704.92519026,\n",
              "        147.67757238,  246.48662513, 3158.52333854, 4052.79293111,\n",
              "        168.43879838,  818.71579337,  492.22431904,  327.47965758,\n",
              "       4462.92887789,  402.47316078, 4790.56129008, 5319.03484796,\n",
              "       1788.89708729, 5166.82728481, 2241.6697518 , 2158.71751426,\n",
              "       2676.05924744, 2495.16235877,  635.91859739,  438.91477409,\n",
              "       3012.17813784, 1110.93357118, 2398.03588246, 3390.68488153,\n",
              "        268.38365532, 5712.14008438, 6451.74016801, 4782.36415679,\n",
              "       1891.82149884,  305.46031101, 1575.77811518, 4576.51485181,\n",
              "       1378.11005522,  150.46650782, 5553.26955969,  261.07638073,\n",
              "        124.04197988, 4244.91744668, 2342.09977697, 2061.2188021 ,\n",
              "       6738.19445011,  338.30389441, 4218.34277281, 3958.10831047,\n",
              "       2539.45512242, 2052.17947738, 4274.41643282, 2840.8300413 ,\n",
              "       7431.24321083, 7555.7120965 , 7705.66974997, 2979.80178236,\n",
              "       4344.62611567, 3179.58845476, 6349.94608021, 1217.80880049,\n",
              "        831.46501897, 2405.65235749, 6031.68300067, 2721.32336024,\n",
              "        743.58229471, 1138.11230038, 5750.83541914, 1034.87931096,\n",
              "       5244.75924776, 3029.55593777,  648.94236734,  282.75857659,\n",
              "        237.2807541 , 7247.89922896, 5264.9565892 ,  315.7214092 ,\n",
              "       4368.63199286,  682.39791245, 6776.01659234,  445.01179001,\n",
              "        224.63174146, 5456.22613084,  292.86201589,  220.77567237])"
            ]
          },
          "metadata": {},
          "execution_count": 6
        }
      ]
    },
    {
      "cell_type": "code",
      "source": [
        "from sklearn.model_selection import train_test_split\n",
        "\n",
        "x_train, x_test, y_train, y_test = train_test_split(x, y, test_size=0.25)"
      ],
      "metadata": {
        "id": "y2A8m_haK1M2"
      },
      "execution_count": 7,
      "outputs": []
    },
    {
      "cell_type": "code",
      "source": [
        "from sklearn.linear_model import Ridge\n",
        "\n",
        "rgs = Ridge()\n",
        "rgs.fit(x_train, y_train)\n",
        "y_pred = rgs.predict(x_test)"
      ],
      "metadata": {
        "id": "1hQWLEtLK6ur"
      },
      "execution_count": 8,
      "outputs": []
    },
    {
      "cell_type": "code",
      "source": [
        "from sklearn.metrics import mean_absolute_error\n",
        "from sklearn.metrics import r2_score\n",
        "\n",
        "print(\n",
        "    'MAE={:.0f}, R2={:2f}'.format(\n",
        "        mean_absolute_error(y_test, y_pred),\n",
        "        r2_score(y_test, y_pred),\n",
        "    )\n",
        ")"
      ],
      "metadata": {
        "colab": {
          "base_uri": "https://localhost:8080/"
        },
        "id": "DoryHbzaK-p_",
        "outputId": "a54b3c7d-2f8c-4efa-c395-9a5af9508b2f"
      },
      "execution_count": 9,
      "outputs": [
        {
          "output_type": "stream",
          "name": "stdout",
          "text": [
            "MAE=626, R2=0.861536\n"
          ]
        }
      ]
    },
    {
      "cell_type": "code",
      "source": [
        "class YTransformer:\n",
        "    \n",
        "    def __init__(self, power=1):\n",
        "        self.power = power\n",
        "        \n",
        "    def fit(self, x, y):\n",
        "        pass\n",
        "    \n",
        "    def transform(self, x, y):\n",
        "        return x, np.power(y, self.power)\n",
        "    \n",
        "    def inverse_transform(self, x, y):\n",
        "        return x, np.power(y, 1/self.power)\n",
        "    \n",
        "    \n",
        "    def fit_transform(self, x, y):\n",
        "        return self.transform(x, y)"
      ],
      "metadata": {
        "id": "izjGxBwzLBR2"
      },
      "execution_count": 10,
      "outputs": []
    },
    {
      "cell_type": "code",
      "source": [
        "from sklearn.linear_model import Ridge\n",
        "from sklearn.metrics import mean_absolute_error\n",
        "from sklearn.metrics import r2_score\n",
        "\n",
        "for power in [1, 1/2, 1/3, 1/4, 1/5]:\n",
        "\n",
        "    yt = YTransformer(power)\n",
        "    _, y_train_t = yt.fit_transform(None, y_train)\n",
        "    _, y_test_t = yt.transform(None, y_test)\n",
        "    \n",
        "    rgs = Ridge()\n",
        "\n",
        "    rgs.fit(x_train, y_train_t)\n",
        "    y_pred_t = rgs.predict(x_test)\n",
        "    \n",
        "    _, y_pred = yt.inverse_transform(None, y_pred_t)\n",
        "\n",
        "    print(\n",
        "        'Trasfomed y^{:.2f}: MAE={:.0f}, R2={:.2f}'.format(\n",
        "            power,\n",
        "            mean_absolute_error(y_test, y_pred),\n",
        "            r2_score(y_test, y_pred),\n",
        "        )\n",
        "    )"
      ],
      "metadata": {
        "colab": {
          "base_uri": "https://localhost:8080/"
        },
        "id": "TW0ap51dLRUS",
        "outputId": "c7e25f74-7bfb-48c6-906a-e8e9b2bc7fd4"
      },
      "execution_count": 11,
      "outputs": [
        {
          "output_type": "stream",
          "name": "stdout",
          "text": [
            "Trasfomed y^1.00: MAE=626, R2=0.86\n",
            "Trasfomed y^0.50: MAE=264, R2=0.97\n",
            "Trasfomed y^0.33: MAE=210, R2=0.98\n",
            "Trasfomed y^0.25: MAE=231, R2=0.97\n",
            "Trasfomed y^0.20: MAE=259, R2=0.96\n"
          ]
        }
      ]
    },
    {
      "cell_type": "code",
      "source": [
        ""
      ],
      "metadata": {
        "id": "6poa49kKLVtG"
      },
      "execution_count": null,
      "outputs": []
    }
  ]
}