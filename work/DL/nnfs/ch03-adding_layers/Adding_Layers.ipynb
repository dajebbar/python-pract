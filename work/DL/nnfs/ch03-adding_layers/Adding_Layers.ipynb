{
  "nbformat": 4,
  "nbformat_minor": 0,
  "metadata": {
    "colab": {
      "name": "Adding_Layers.ipynb",
      "provenance": []
    },
    "kernelspec": {
      "name": "python3",
      "display_name": "Python 3"
    },
    "language_info": {
      "name": "python"
    }
  },
  "cells": [
    {
      "cell_type": "code",
      "execution_count": null,
      "metadata": {
        "id": "BccKtl1PgOch"
      },
      "outputs": [],
      "source": [
        "class Layer_Dense:\n",
        "  def __init__(self, n_inputs, n_neurons):\n",
        "    # initialize weights and biases\n",
        "    pass\n",
        "  \n",
        "  # forward\n",
        "  def forward(self, inputs):\n",
        "    # calculate output values from inputs, weights and biases\n",
        "    pass\n"
      ]
    }
  ]
}