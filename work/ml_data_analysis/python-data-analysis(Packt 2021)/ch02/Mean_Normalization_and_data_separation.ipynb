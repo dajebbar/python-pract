{
  "nbformat": 4,
  "nbformat_minor": 0,
  "metadata": {
    "colab": {
      "name": "Mean_Normalization_and_data_separation.ipynb",
      "provenance": [],
      "collapsed_sections": []
    },
    "kernelspec": {
      "name": "python3",
      "display_name": "Python 3"
    },
    "language_info": {
      "name": "python"
    }
  },
  "cells": [
    {
      "cell_type": "markdown",
      "source": [
        "---\n",
        "# Mean Normalization\n",
        "---\n",
        "In machine learning we use large amounts of data to train our models. Some machine learning algorithms may require that the data is *normalized* in order to work correctly. The idea of normalization, also known as *feature scaling*, is to ensure that all the data is on a similar scale, i.e. that all the data takes on a similar range of values. For example, we might have a dataset that has values between 0 and 5,000. By normalizing the data we can make the range of values be between 0 and 1.\n",
        "\n",
        "In this lab, you will be performing a different kind of feature scaling known as *mean normalization*. Mean normalization will scale the data, but instead of making the values be between 0 and 1, it will distribute the values evenly in some small interval around zero. For example, if we have a dataset that has values between 0 and 5,000, after mean normalization the range of values will be distributed in some small range around 0, for example between -3 to 3. Because the range of values are distributed evenly around zero, this guarantees that the average (mean) of all elements will be zero. Therefore, when you perform *mean normalization* your data will not only be scaled but it will also have an average of zero."
      ],
      "metadata": {
        "id": "UpvJ_DhPXzB_"
      }
    },
    {
      "cell_type": "markdown",
      "source": [
        "## To Do:\n",
        "You will start by importing NumPy and creating a rank 2 ndarray of random integers between 0 and 5,000 (inclusive) with 1000 rows and 20 columns. This array will simulate a dataset with a wide range of values. Fill in the code below"
      ],
      "metadata": {
        "id": "WDrpyQH8YhwO"
      }
    },
    {
      "cell_type": "code",
      "execution_count": 1,
      "metadata": {
        "colab": {
          "base_uri": "https://localhost:8080/"
        },
        "id": "3b-NHMm1pZTm",
        "outputId": "487eeca8-0a4d-4a1f-c477-906017f60fc0"
      },
      "outputs": [
        {
          "output_type": "stream",
          "name": "stdout",
          "text": [
            "(1000, 20)\n"
          ]
        }
      ],
      "source": [
        "import numpy as np\n",
        "np.random.seed(42)\n",
        "\n",
        "# Create a 1000 x 20 ndarray with random integers in the half-open interval [0, 5001).\n",
        "X = np.random.randint(5001, size=(1000, 20))\n",
        "print(X.shape)"
      ]
    },
    {
      "cell_type": "markdown",
      "source": [
        "Now that you created the array we will mean normalize it. We will perform mean normalization using the following equation:\n",
        "## $NormCol_{i} = \\frac{C_{i} - \\mu{i}}{\\sigma{i}}$  \n",
        "where $Col_{i}$ is the $i$th column of $X, \\mu_{i}$  ,  is average of the values in the $i$th column of $X$, and $\\sigma_{i}$   is the standard deviation of the values in the $i$th column of $X$ . In other words, *mean normalization* is performed by subtracting from each column of $X$ the average of its values, and then by dividing by the standard deviation of its values. In the space below, you will first calculate the average and standard deviation of each column of $X$."
      ],
      "metadata": {
        "id": "oKTi9OrRYu4w"
      }
    },
    {
      "cell_type": "code",
      "source": [
        "# Average of the values in each column of X\n",
        "ave_cols = X.mean(axis=0)\n",
        "\n",
        "# Standard Deviation of the values in each column of X\n",
        "std_cols = X.std(axis=0)"
      ],
      "metadata": {
        "id": "JBSnn7M1qBaB"
      },
      "execution_count": 2,
      "outputs": []
    },
    {
      "cell_type": "markdown",
      "source": [
        "If you have done the above calculations correctly, then `ave_cols` and `std_cols`, should both be vectors with shape `(20,)` since $X$ has 20 columns. You can verify this by filling the code below:"
      ],
      "metadata": {
        "id": "euYKZ-kPdJen"
      }
    },
    {
      "cell_type": "code",
      "source": [
        "# Print the shape of ave_cols\n",
        "print(ave_cols.shape)\n",
        "\n",
        "# Print the shape of std_cols\n",
        "print(std_cols.shape)"
      ],
      "metadata": {
        "colab": {
          "base_uri": "https://localhost:8080/"
        },
        "id": "5uUMAywCq4wY",
        "outputId": "859658fa-54f6-4b9d-f29e-6a52e53d843d"
      },
      "execution_count": 3,
      "outputs": [
        {
          "output_type": "stream",
          "name": "stdout",
          "text": [
            "(20,)\n",
            "(20,)\n"
          ]
        }
      ]
    },
    {
      "cell_type": "markdown",
      "source": [
        "You can now take advantage of Broadcasting to calculate the mean normalized version of $X$ in just one line of code using the equation above. Fill in the code below"
      ],
      "metadata": {
        "id": "SwR66MC3dfoB"
      }
    },
    {
      "cell_type": "code",
      "source": [
        "# Mean normalize X\n",
        "X_norm = (X - ave_cols) / std_cols\n",
        "print(X_norm)"
      ],
      "metadata": {
        "colab": {
          "base_uri": "https://localhost:8080/"
        },
        "id": "Mm1nzDxArAoA",
        "outputId": "b94df98c-4643-4b80-d82c-cdc9dce8350c"
      },
      "execution_count": 4,
      "outputs": [
        {
          "output_type": "stream",
          "name": "stdout",
          "text": [
            "[[-1.12035362  0.88855332  0.42990311 ...  1.57509877  0.29989809\n",
            "  -1.42886235]\n",
            " [-0.96443035  0.06223017 -0.29382901 ...  0.21866778 -0.0418956\n",
            "  -1.34223405]\n",
            " [-0.06471096 -0.27605864 -1.54460432 ... -1.07670648  0.70582363\n",
            "   0.04175622]\n",
            " ...\n",
            " [-1.14493612 -1.60402937  0.30454855 ... -1.66992822  0.15851648\n",
            "   0.73684522]\n",
            " [-0.07594868 -0.72325329 -0.65534878 ... -1.25571374  0.63221774\n",
            "   0.61721566]\n",
            " [-0.21642009  0.6319439   1.35240185 ...  0.27209243  0.15341508\n",
            "  -0.38038488]]\n"
          ]
        }
      ]
    },
    {
      "cell_type": "code",
      "source": [
        "# Print the average of all the values of X_norm\n",
        "X_average = X_norm.mean()\n",
        "print(X_average)\n",
        "\n",
        "# Print the average of the minimum value in each column of X_norm\n",
        "X_ave_min = X_norm.min()\n",
        "print()\n",
        "print(X_ave_min)\n",
        "\n",
        "# Print the average of the maximum value in each column of X_norm\n",
        "X_ave_max = X_norm.max()\n",
        "print()\n",
        "print(X_ave_max)"
      ],
      "metadata": {
        "colab": {
          "base_uri": "https://localhost:8080/"
        },
        "id": "3gubOW0XsQHK",
        "outputId": "60230880-56d8-4a3e-95c4-cdae26a953a6"
      },
      "execution_count": 5,
      "outputs": [
        {
          "output_type": "stream",
          "name": "stdout",
          "text": [
            "-8.881784197001253e-18\n",
            "\n",
            "-1.842403905084743\n",
            "\n",
            "1.8244873956083083\n"
          ]
        }
      ]
    },
    {
      "cell_type": "markdown",
      "source": [
        "You should note that since $X$ was created using random integers, the above values will vary.\n",
        "\n"
      ],
      "metadata": {
        "id": "MTfkljhGdvH5"
      }
    },
    {
      "cell_type": "markdown",
      "source": [
        "---\n",
        "# Data Separation\n",
        "---\n"
      ],
      "metadata": {
        "id": "a3y3fURkd4xV"
      }
    },
    {
      "cell_type": "code",
      "source": [
        "np.random.permutation(5)"
      ],
      "metadata": {
        "id": "b4p5veSSu3wi",
        "colab": {
          "base_uri": "https://localhost:8080/"
        },
        "outputId": "7d6f3e43-d051-497c-8df4-b5ef0f13ae0b"
      },
      "execution_count": 8,
      "outputs": [
        {
          "output_type": "execute_result",
          "data": {
            "text/plain": [
              "array([3, 4, 2, 0, 1])"
            ]
          },
          "metadata": {},
          "execution_count": 8
        }
      ]
    },
    {
      "cell_type": "code",
      "source": [
        "# Create a rank 1 ndarray that contains a random permutation of the row indices of `X_norm`\n",
        "row_indices = np.random.permutation(X_norm.shape[0])\n",
        "print(row_indices)"
      ],
      "metadata": {
        "colab": {
          "base_uri": "https://localhost:8080/"
        },
        "id": "k6lESs8zgCU7",
        "outputId": "a2840c20-e2be-409f-d78d-ba09ad87c30d"
      },
      "execution_count": 10,
      "outputs": [
        {
          "output_type": "stream",
          "name": "stdout",
          "text": [
            "[420 494 105 403 186 771 187 112 942 206 811  53 510 776 141 409 798 628\n",
            " 954 361 894 325  63 508 298 423 196 537 777 123 280 110 158 486 758 697\n",
            " 104  48 492 166 814 760 734 237 909  27 323 203 754 291 212  46 747 281\n",
            " 940 194 138 344 827 711 516 840 156 425 939 287 816 235 150  30 801 675\n",
            " 500 782 681 295 338 857 368 584  64 932  34 267 998 575   3 246 638 225\n",
            " 826 893 265 121 487 249 472 721 986 319 654 694 718 160 392 520 788 199\n",
            "  77 230 714 416 170 970 278 852 469 515 644 765 808 737 322 829 950 285\n",
            " 600 259 924 456 745  36 715 901 695 591 395 377 903 406 528 900 618 165\n",
            " 670 477 241 969 171 324 283 650 550  66 879 496 345 532 299 451 253 579\n",
            " 120  75  57 293 383 523 431  24 725 313  35 149 671 648 786 846 488 817\n",
            " 622 934 300 304 749 381 768 833 111 540 232  44 844 266 428 781 535  78\n",
            " 717 151 519 902 624 390 943 752 728 576 214 270 766 462  99 382 136 436\n",
            " 862 200 261 845 722  47 885 780 549 687 506  56 474 774 147 178 117 982\n",
            " 977 489 957 916 531 179 883 437 719 126 882 564  94 873 432 699 228 975\n",
            " 402  96 891 124 346 606 429 371 869 268 906  40 314 810 448 735 856 837\n",
            " 712 248  90 174 407 336 545 935 417 497 269 333 709 504 603 666 116 684\n",
            " 243   4 921 320  28 493 215 161 634 828 567  11 693 354 183 800 673 172\n",
            " 157 130 962  22 806 723 847 101 596 337 163 521  86 135 756 778 601 676\n",
            " 312 476 877 974 271 727 825 886 288  49 931 653 380 637 302 180 536 455\n",
            " 887 630 640 426 290 184 643 878 842 369 920  69 142 408 238 586 330 959\n",
            " 378 250 441 867 544 412 660 470 109 173  52 866 152 340 424 790 495 185\n",
            " 953 863  83 983 612 914 616  32 207  81 849 968 967 995 949 889  23 836\n",
            " 433 859 979 691 391 972 218  89 400 593  38  70 274  97 439 868 252   8\n",
            " 832 205 585  45 224 327 739 139 966 599  73 401 419 445 994 159 449 375\n",
            " 830 779 557 168 118 490 394 388 263 483 175  25 580 347 450 929 961 741\n",
            " 655 990 871 460 915 415 353 614 229  19 626 561  82 144 708 787 341 822\n",
            " 468 242 577 195  84 385 566 667 543 459 466 176 479 865 129 941 795 744\n",
            " 464 623 769 578  41 726 453 971  85 374 594 411 731 753 405 188 899 588\n",
            " 308 513 517 604 611 397 636 387 505 710 763 793 292 289 227 348 220  59\n",
            " 898 530 608 928 372 910 552 260  80 938 583 730  12  98  51 683 547 767\n",
            " 373 192 226 264 855 716 404 923 306 563 952 907 762 562 143 534 499 107\n",
            " 137  87 802 359  55 384 746 310 461   7 642 733 234 570 370  17 342  61\n",
            "   0 809 679 705 331 555   6 980 197  37 991 127 277 919 674 755 556 621\n",
            " 720 945  14 204 706 773 615 629 527 529 145 305 393   1 221 262 442 365\n",
            " 565 820 951 997 438 663 587 503 988 912 789 672 507  26 944 904 366 307\n",
            " 702 103 463 115 533 272 102   2 558 701 876  67 446 202 607 473 917 554\n",
            " 223 641 191 976 421 213 703 955 815 294  93 610 841 690 440 926 652 349\n",
            " 692 625  42 662 524 870 526 783 106 956 890  95 362 193 590  74 984 358\n",
            " 851 482 356  13 743 321 541 677 592  43 155  54 363 665 317 355 542 177\n",
            " 258 502 751 518 208 999 973 140 713 569 131 256 276 164 509 838 937 597\n",
            " 963 236 657 379 113 478 216 759 989 785 992  15  62 987 122 240 148 471\n",
            " 498 114 831 874 568 647 772 219 993 398 933 581 848 981 485 639 376 794\n",
            " 444  50 210 257 761 332   5 645 454 182 352   9 154 770 326 100 162 960\n",
            " 329 664 823 669 858 854 649 821 217  16 198 589 750 651 334 364  71 602\n",
            " 678 551 896 275 286  18  21 797 812 905 724 688 386 244 410 335 799 315\n",
            " 231 805 613 282 245 897  20 936 985 501 595 740 875 413 913 343 452 190\n",
            "  79 318 659 803 522 134 251 357 279 435 128 133 668 764 807 311 834 546\n",
            " 350 254 153 574 605 617 958 908 146  72 682 255 209 791 818 169 918 729\n",
            " 525 609 399 211 434 239 925 861 571 422 819 367 895 414 108 631 656 635\n",
            "  65 796 553 284 328 689  39 598 888 892 465 784 850  91 658 548 514 946\n",
            "  76 484 539 880 964 835 447 860 930 303 457  60 297 965 911 704 443 804\n",
            " 467 418 922 132 843 627  92 738 824 573 480 646 339  33 748 996 813 511\n",
            " 700 792  10 491 222 696  58 201 559 948 632 189 427 119 572 125 742 167\n",
            " 233  88 396 736 316 481 351 947 872 475 301  29 927 775 296 881 619 247\n",
            " 680 685 181 512 864 620 978  31 707 757 884 430 698 661 582  68 360 633\n",
            " 732 458 389 839 538 273 309 853 560 686]\n"
          ]
        }
      ]
    },
    {
      "cell_type": "code",
      "source": [
        "train_i = row_indices[:600]\n",
        "cross_i = row_indices[600: 800]\n",
        "test_i = row_indices[800:]\n",
        "print('train_i', len(train_i))\n",
        "print('cross_i', len(cross_i))\n",
        "print('test_i', len(test_i))\n"
      ],
      "metadata": {
        "colab": {
          "base_uri": "https://localhost:8080/"
        },
        "id": "rMT9g7J8iZ4b",
        "outputId": "26d254bb-9f7e-4dbc-a3d3-5d33d9f80c38"
      },
      "execution_count": 19,
      "outputs": [
        {
          "output_type": "stream",
          "name": "stdout",
          "text": [
            "train_i 600\n",
            "cross_i 200\n",
            "test_i 200\n"
          ]
        }
      ]
    },
    {
      "cell_type": "code",
      "source": [
        "# Make any necessary calculations.\n",
        "# You can save your calculations into variables to use later.\n",
        "train_i = row_indices[:600]\n",
        "cross_i = row_indices[600: 800]\n",
        "test_i = row_indices[800:]\n",
        "\n",
        "# Create a Training Set\n",
        "X_train = X_norm[train_i]\n",
        "\n",
        "# Create a Cross Validation Set\n",
        "X_crossVal = X_norm[cross_i]\n",
        "\n",
        "# Create a Test Set\n",
        "X_test = X_norm[test_i]"
      ],
      "metadata": {
        "id": "2JsGdPUPg2KV"
      },
      "execution_count": 20,
      "outputs": []
    },
    {
      "cell_type": "code",
      "source": [
        "# Print the shape of X_train\n",
        "print(X_train.shape)\n",
        "\n",
        "# Print the shape of X_crossVal\n",
        "print(X_crossVal.shape)\n",
        "\n",
        "# Print the shape of X_test\n",
        "print(X_test.shape)"
      ],
      "metadata": {
        "colab": {
          "base_uri": "https://localhost:8080/"
        },
        "id": "PCBKUJkbksv9",
        "outputId": "a7774764-3236-4753-a673-88c14131f2ef"
      },
      "execution_count": 21,
      "outputs": [
        {
          "output_type": "stream",
          "name": "stdout",
          "text": [
            "(600, 20)\n",
            "(200, 20)\n",
            "(200, 20)\n"
          ]
        }
      ]
    },
    {
      "cell_type": "code",
      "source": [
        ""
      ],
      "metadata": {
        "id": "VHaGiP_2lAQ9"
      },
      "execution_count": null,
      "outputs": []
    }
  ]
}