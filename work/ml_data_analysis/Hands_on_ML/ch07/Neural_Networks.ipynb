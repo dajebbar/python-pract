{
  "nbformat": 4,
  "nbformat_minor": 0,
  "metadata": {
    "colab": {
      "name": "Neural Networks.ipynb",
      "provenance": []
    },
    "kernelspec": {
      "name": "python3",
      "display_name": "Python 3"
    },
    "language_info": {
      "name": "python"
    }
  },
  "cells": [
    {
      "cell_type": "markdown",
      "source": [
        "# Fashion MNIST"
      ],
      "metadata": {
        "id": "uB8UVBn32Pa7"
      }
    },
    {
      "cell_type": "code",
      "execution_count": 1,
      "metadata": {
        "id": "ejV30Vsv2OFG"
      },
      "outputs": [],
      "source": [
        "import numpy as np\n",
        "import pandas as pd\n",
        "import matplotlib.pyplot as plt\n",
        "plt.style.use('ggplot')\n",
        "%matplotlib inline"
      ]
    },
    {
      "cell_type": "code",
      "source": [
        "from sklearn.datasets import fetch_openml\n",
        "fashion_mnist = fetch_openml(data_id=40996) "
      ],
      "metadata": {
        "id": "w-K2pIvT3cFv"
      },
      "execution_count": 2,
      "outputs": []
    },
    {
      "cell_type": "code",
      "source": [
        "labels_s = '0 T-shirt/top \\n1 Trouser \\n2 Pullover \\n3 Dress \\n4 Coat \\n5 Sandal \\n6 Shirt \\n7 Sneaker \\n8 Bag \\n9 Ankle boot'\n",
        "\n",
        "fashion_label_translation = {\n",
        "    int(k): v for k, v in [\n",
        "        item.split(maxsplit=1) for item in labels_s.split('\\n')\n",
        "    ]\n",
        "}\n",
        "\n",
        "def translate_label(y, translation=fashion_label_translation):\n",
        "    return pd.Series(y).apply(lambda y: translation[int(y)]).values"
      ],
      "metadata": {
        "id": "APgPPexl3fFI"
      },
      "execution_count": 3,
      "outputs": []
    },
    {
      "cell_type": "code",
      "source": [
        "def display_fashion(img, target, ax):\n",
        "    \n",
        "    if len(img.shape):\n",
        "        w = int(np.sqrt(img.shape[0]))\n",
        "        img = img.reshape((w, w))\n",
        "    \n",
        "    ax.imshow(img, cmap='Greys')\n",
        "    ax.set_title(f'{target}')\n",
        "    ax.grid(False)"
      ],
      "metadata": {
        "id": "flypewAq36Dj"
      },
      "execution_count": 4,
      "outputs": []
    },
    {
      "cell_type": "code",
      "source": [
        ""
      ],
      "metadata": {
        "id": "OOAwzDby3-RX"
      },
      "execution_count": null,
      "outputs": []
    }
  ]
}