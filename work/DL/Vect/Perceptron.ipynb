{
  "nbformat": 4,
  "nbformat_minor": 0,
  "metadata": {
    "colab": {
      "name": "Perceptron.ipynb",
      "provenance": []
    },
    "kernelspec": {
      "name": "python3",
      "display_name": "Python 3"
    },
    "language_info": {
      "name": "python"
    }
  },
  "cells": [
    {
      "cell_type": "code",
      "execution_count": 1,
      "metadata": {
        "id": "cUM_Vuju3vON"
      },
      "outputs": [],
      "source": [
        "import numpy as np\n",
        "import matplotlib.pyplot as plt\n",
        "from sklearn.datasets import make_blobs\n",
        "\n",
        "plt.style.use('ggplot')"
      ]
    },
    {
      "cell_type": "code",
      "source": [
        "X, y = make_blobs(n_samples=100, n_features=2, centers=2, random_state=0)\n",
        "y = y.reshape(y.shape[0], 1)\n",
        "\n",
        "dims = X.shape, y.shape\n",
        "print(f'Dimensions of X and y: {dims}')"
      ],
      "metadata": {
        "colab": {
          "base_uri": "https://localhost:8080/"
        },
        "id": "hofDV1h34IFT",
        "outputId": "95cf604c-0e88-46ca-da3e-e3517404329f"
      },
      "execution_count": 2,
      "outputs": [
        {
          "output_type": "stream",
          "name": "stdout",
          "text": [
            "Dimensions of X and y: ((100, 2), (100, 1))\n"
          ]
        }
      ]
    },
    {
      "cell_type": "code",
      "source": [
        "plt.scatter(\n",
        "    X[:, 0],\n",
        "    X[:, 1],\n",
        "    c=y,\n",
        "    cmap='summer',\n",
        ")"
      ],
      "metadata": {
        "colab": {
          "base_uri": "https://localhost:8080/",
          "height": 283
        },
        "id": "_MFwo6Ny4yJf",
        "outputId": "6e27181b-b428-4d8c-8166-279ca378b2a9"
      },
      "execution_count": 3,
      "outputs": [
        {
          "output_type": "execute_result",
          "data": {
            "text/plain": [
              "<matplotlib.collections.PathCollection at 0x7f3cf0c12810>"
            ]
          },
          "metadata": {},
          "execution_count": 3
        },
        {
          "output_type": "display_data",
          "data": {
            "text/plain": [
              "<Figure size 432x288 with 1 Axes>"
            ],
            "image/png": "[encoded data removed]"
          },
          "metadata": {
            "needs_background": "light"
          }
        }
      ]
    },
    {
      "cell_type": "code",
      "source": [
        "# inistialization of Weights and bias\n",
        "def initialize(x):\n",
        "  W = np.random.randn(X.shape[1], 1)\n",
        "  b = np.random.randn(1)\n",
        "\n",
        "  return W, b"
      ],
      "metadata": {
        "id": "iC_tZKGe4_zZ"
      },
      "execution_count": 4,
      "outputs": []
    },
    {
      "cell_type": "code",
      "source": [
        "W, b = initialize(X)\n",
        "W.shape, b.shape"
      ],
      "metadata": {
        "colab": {
          "base_uri": "https://localhost:8080/"
        },
        "id": "sxgx2COS6MzG",
        "outputId": "b983de14-191a-4467-dea4-89e082c123a3"
      },
      "execution_count": 5,
      "outputs": [
        {
          "output_type": "execute_result",
          "data": {
            "text/plain": [
              "((2, 1), (1,))"
            ]
          },
          "metadata": {},
          "execution_count": 5
        }
      ]
    },
    {
      "cell_type": "code",
      "source": [
        "# model\n",
        "def model(X, W, b):\n",
        "  Z = X.dot(W) + b\n",
        "  A = 1 / (1 + np.exp(-Z))\n",
        "\n",
        "  return A\n"
      ],
      "metadata": {
        "id": "sFAiD3JX6U1r"
      },
      "execution_count": 6,
      "outputs": []
    },
    {
      "cell_type": "code",
      "source": [
        "A = model(X,W,b)\n",
        "A"
      ],
      "metadata": {
        "colab": {
          "base_uri": "https://localhost:8080/"
        },
        "id": "XS068y8v7mAr",
        "outputId": "3d1e8c7f-ad14-444b-bead-5e626318661d"
      },
      "execution_count": 7,
      "outputs": [
        {
          "output_type": "execute_result",
          "data": {
            "text/plain": [
              "array([[9.87123340e-02],\n",
              "       [4.27025001e-01],\n",
              "       [2.00870297e-03],\n",
              "       [6.23619334e-02],\n",
              "       [2.64490837e-01],\n",
              "       [4.14187047e-02],\n",
              "       [7.57626032e-03],\n",
              "       [8.20394569e-02],\n",
              "       [8.39918289e-03],\n",
              "       [5.13587817e-01],\n",
              "       [4.75673690e-03],\n",
              "       [3.84568574e-01],\n",
              "       [1.79434591e-03],\n",
              "       [5.14393288e-03],\n",
              "       [1.45671649e-01],\n",
              "       [1.54636132e-01],\n",
              "       [6.73830223e-01],\n",
              "       [8.78370756e-03],\n",
              "       [4.30465250e-01],\n",
              "       [1.84596011e-01],\n",
              "       [3.77789049e-03],\n",
              "       [5.40928833e-03],\n",
              "       [6.04769867e-02],\n",
              "       [1.73517329e-03],\n",
              "       [3.84216151e-01],\n",
              "       [3.54119340e-03],\n",
              "       [5.57681552e-01],\n",
              "       [6.38322910e-04],\n",
              "       [4.10331937e-03],\n",
              "       [8.51950789e-02],\n",
              "       [6.63662327e-01],\n",
              "       [4.11886133e-03],\n",
              "       [2.87974831e-01],\n",
              "       [6.62293967e-01],\n",
              "       [4.31433658e-02],\n",
              "       [8.34264024e-03],\n",
              "       [3.01665734e-01],\n",
              "       [5.24489593e-02],\n",
              "       [3.05596862e-02],\n",
              "       [1.93447228e-01],\n",
              "       [3.13812074e-02],\n",
              "       [1.09508276e-03],\n",
              "       [4.41853916e-04],\n",
              "       [1.45312447e-02],\n",
              "       [3.60263566e-02],\n",
              "       [1.79761913e-01],\n",
              "       [6.74132014e-01],\n",
              "       [7.22556047e-01],\n",
              "       [2.87603449e-03],\n",
              "       [1.24506843e-03],\n",
              "       [5.21919169e-01],\n",
              "       [2.32767629e-01],\n",
              "       [6.38592570e-04],\n",
              "       [2.55204164e-03],\n",
              "       [4.41351352e-02],\n",
              "       [3.65734730e-03],\n",
              "       [3.74896082e-02],\n",
              "       [3.09846007e-01],\n",
              "       [2.59215202e-01],\n",
              "       [7.91531603e-01],\n",
              "       [1.61757975e-01],\n",
              "       [7.88156566e-03],\n",
              "       [1.44389127e-03],\n",
              "       [2.34192917e-01],\n",
              "       [9.79866339e-04],\n",
              "       [3.89474670e-02],\n",
              "       [1.13260479e-02],\n",
              "       [2.38423313e-02],\n",
              "       [1.89098645e-01],\n",
              "       [1.62790619e-02],\n",
              "       [1.77647694e-02],\n",
              "       [5.40816215e-01],\n",
              "       [1.54624974e-01],\n",
              "       [5.44246093e-03],\n",
              "       [4.63972835e-02],\n",
              "       [8.84994608e-03],\n",
              "       [1.55901359e-01],\n",
              "       [1.37451980e-01],\n",
              "       [9.83263572e-03],\n",
              "       [3.48785093e-03],\n",
              "       [3.85892396e-02],\n",
              "       [1.00179234e-02],\n",
              "       [1.57662086e-03],\n",
              "       [5.50874658e-03],\n",
              "       [2.46063854e-02],\n",
              "       [3.38746310e-03],\n",
              "       [3.88719559e-01],\n",
              "       [1.48783224e-03],\n",
              "       [3.51282253e-01],\n",
              "       [3.96387365e-01],\n",
              "       [1.54741708e-01],\n",
              "       [5.40331313e-01],\n",
              "       [9.75784778e-02],\n",
              "       [7.52095994e-01],\n",
              "       [8.86495367e-03],\n",
              "       [2.07724747e-03],\n",
              "       [8.80316346e-01],\n",
              "       [3.19280165e-01],\n",
              "       [6.70168970e-03],\n",
              "       [1.28827546e-01]])"
            ]
          },
          "metadata": {},
          "execution_count": 7
        }
      ]
    },
    {
      "cell_type": "code",
      "source": [
        "A.shape"
      ],
      "metadata": {
        "colab": {
          "base_uri": "https://localhost:8080/"
        },
        "id": "1IN53nJd7qrS",
        "outputId": "d5ce05c5-cec3-4ae7-867a-1960bcd8b961"
      },
      "execution_count": 8,
      "outputs": [
        {
          "output_type": "execute_result",
          "data": {
            "text/plain": [
              "(100, 1)"
            ]
          },
          "metadata": {},
          "execution_count": 8
        }
      ]
    },
    {
      "cell_type": "code",
      "source": [
        "#  cost function\n",
        "def log_loss(A, y):\n",
        "  return -1 * 1/len(y) * np.sum(y * np.log(A) - (1-y) * np.log(1-A))"
      ],
      "metadata": {
        "id": "o5kOVMdN75I9"
      },
      "execution_count": 9,
      "outputs": []
    },
    {
      "cell_type": "code",
      "source": [
        "log_loss(A,y)"
      ],
      "metadata": {
        "colab": {
          "base_uri": "https://localhost:8080/"
        },
        "id": "4uHspK9A8xNK",
        "outputId": "2a15c42c-b825-43e3-b0cf-77e2a263fe97"
      },
      "execution_count": 10,
      "outputs": [
        {
          "output_type": "execute_result",
          "data": {
            "text/plain": [
              "0.7229113025880719"
            ]
          },
          "metadata": {},
          "execution_count": 10
        }
      ]
    },
    {
      "cell_type": "code",
      "source": [
        "# gradient descent\n",
        "def gradients(A, X, y):\n",
        "  dw = 1/len(y) * np.dot(X.T, A-y)\n",
        "  db = 1/len(y) * np.sum(A-y)\n",
        "  return dw, db"
      ],
      "metadata": {
        "id": "Jv2CiG8281Do"
      },
      "execution_count": 11,
      "outputs": []
    },
    {
      "cell_type": "code",
      "source": [
        "dw, db = gradients(A, X, y)\n",
        "\n",
        "dw.shape, db.shape"
      ],
      "metadata": {
        "colab": {
          "base_uri": "https://localhost:8080/"
        },
        "id": "GIFBe0M--LqJ",
        "outputId": "593f346d-dd31-46ed-8f88-8810230fe25d"
      },
      "execution_count": 12,
      "outputs": [
        {
          "output_type": "execute_result",
          "data": {
            "text/plain": [
              "((2, 1), ())"
            ]
          },
          "metadata": {},
          "execution_count": 12
        }
      ]
    },
    {
      "cell_type": "code",
      "source": [
        "# update of errors minimization\n",
        "def update(dw, db, w, b, lr):\n",
        "  w = w - lr * dw\n",
        "  b = b - lr * db\n",
        "  return w, b"
      ],
      "metadata": {
        "id": "9FTbrTgk-Spb"
      },
      "execution_count": 13,
      "outputs": []
    },
    {
      "cell_type": "code",
      "source": [
        "# prediction\n",
        "def predict(x, w, b):\n",
        "  A = model(x, w, b)\n",
        "  return A >= .5"
      ],
      "metadata": {
        "id": "cbwsL2GeE1iD"
      },
      "execution_count": 14,
      "outputs": []
    },
    {
      "cell_type": "code",
      "source": [
        "from sklearn.metrics import accuracy_score"
      ],
      "metadata": {
        "id": "f0YLLyMTFNjz"
      },
      "execution_count": 15,
      "outputs": []
    },
    {
      "cell_type": "code",
      "source": [
        "# Preceptron\n",
        "def artificial_nn(X, y, lr=1.e-4, n_iter=300):\n",
        "  loss = []\n",
        "  # initialize W, b\n",
        "  W, b = initialize(X)\n",
        "\n",
        "  for i in range(n_iter):\n",
        "        A = model(X, W, b)\n",
        "        loss.append(log_loss(A, y))\n",
        "        dW, db = gradients(A, X, y)\n",
        "        W, b = update(dW, db, W, b, lr)\n",
        "  \n",
        "  y_pred = predict(X, W, b)\n",
        "  print(f'Acuuracy: {accuracy_score(y, y_pred)}')\n",
        "\n",
        "  plt.plot(loss)\n",
        "  plt.show()\n",
        "\n",
        "  return W, b"
      ],
      "metadata": {
        "id": "wqQJkTmbAqm2"
      },
      "execution_count": 16,
      "outputs": []
    },
    {
      "cell_type": "code",
      "source": [
        "artificial_nn(X, y)"
      ],
      "metadata": {
        "colab": {
          "base_uri": "https://localhost:8080/",
          "height": 320
        },
        "id": "6L2EPSFgC8OK",
        "outputId": "51d12b82-021b-4e19-d88c-ff07a4127a14"
      },
      "execution_count": 17,
      "outputs": [
        {
          "output_type": "stream",
          "name": "stdout",
          "text": [
            "Acuuracy: 0.51\n"
          ]
        },
        {
          "output_type": "display_data",
          "data": {
            "text/plain": [
              "<Figure size 432x288 with 1 Axes>"
            ],
            "image/png": "[encoded data removed]"
          },
          "metadata": {
            "needs_background": "light"
          }
        },
        {
          "output_type": "execute_result",
          "data": {
            "text/plain": [
              "(array([[-0.74665029],\n",
              "        [-1.72474551]]), array([-0.94874426]))"
            ]
          },
          "metadata": {},
          "execution_count": 17
        }
      ]
    },
    {
      "cell_type": "code",
      "source": [
        "artificial_nn(X, y, n_iter=100)"
      ],
      "metadata": {
        "colab": {
          "base_uri": "https://localhost:8080/",
          "height": 324
        },
        "id": "DrbSlT09DBAO",
        "outputId": "f2516351-2ec1-46e4-c636-a4995b3c8399"
      },
      "execution_count": 18,
      "outputs": [
        {
          "output_type": "stream",
          "name": "stdout",
          "text": [
            "Acuuracy: 0.52\n"
          ]
        },
        {
          "output_type": "display_data",
          "data": {
            "text/plain": [
              "<Figure size 432x288 with 1 Axes>"
            ],
            "image/png": "[encoded data removed]"
          },
          "metadata": {
            "needs_background": "light"
          }
        },
        {
          "output_type": "execute_result",
          "data": {
            "text/plain": [
              "(array([[-0.68509188],\n",
              "        [-0.5717522 ]]), array([0.420735]))"
            ]
          },
          "metadata": {},
          "execution_count": 18
        }
      ]
    },
    {
      "cell_type": "code",
      "source": [
        "artificial_nn(X, y, lr=0.1, n_iter=100)"
      ],
      "metadata": {
        "colab": {
          "base_uri": "https://localhost:8080/",
          "height": 320
        },
        "id": "kwpg1sA-DKNd",
        "outputId": "47f55b89-82c3-4d1a-9488-fed422005b3e"
      },
      "execution_count": 19,
      "outputs": [
        {
          "output_type": "stream",
          "name": "stdout",
          "text": [
            "Acuuracy: 0.89\n"
          ]
        },
        {
          "output_type": "display_data",
          "data": {
            "text/plain": [
              "<Figure size 432x288 with 1 Axes>"
            ],
            "image/png": "[encoded data removed]"
          },
          "metadata": {
            "needs_background": "light"
          }
        },
        {
          "output_type": "execute_result",
          "data": {
            "text/plain": [
              "(array([[ 1.15338847],\n",
              "        [-1.02035   ]]), array([0.57657445]))"
            ]
          },
          "metadata": {},
          "execution_count": 19
        }
      ]
    },
    {
      "cell_type": "code",
      "source": [
        "artificial_nn(X, y, lr=0.1, n_iter=300)"
      ],
      "metadata": {
        "colab": {
          "base_uri": "https://localhost:8080/",
          "height": 320
        },
        "id": "9z9a1OeODp9r",
        "outputId": "620e057f-e598-49eb-b72d-646e1004b930"
      },
      "execution_count": 20,
      "outputs": [
        {
          "output_type": "stream",
          "name": "stdout",
          "text": [
            "Acuuracy: 0.86\n"
          ]
        },
        {
          "output_type": "display_data",
          "data": {
            "text/plain": [
              "<Figure size 432x288 with 1 Axes>"
            ],
            "image/png": "[encoded data removed]"
          },
          "metadata": {
            "needs_background": "light"
          }
        },
        {
          "output_type": "execute_result",
          "data": {
            "text/plain": [
              "(array([[ 2.02568073],\n",
              "        [-1.26599988]]), array([-0.1831263]))"
            ]
          },
          "metadata": {},
          "execution_count": 20
        }
      ]
    },
    {
      "cell_type": "code",
      "source": [
        "artificial_nn(X, y, lr=0.1, n_iter=500)"
      ],
      "metadata": {
        "colab": {
          "base_uri": "https://localhost:8080/",
          "height": 320
        },
        "id": "42eHJv4eDumA",
        "outputId": "e9feb6f2-eedb-4034-c8d6-e5befa817980"
      },
      "execution_count": 21,
      "outputs": [
        {
          "output_type": "stream",
          "name": "stdout",
          "text": [
            "Acuuracy: 0.94\n"
          ]
        },
        {
          "output_type": "display_data",
          "data": {
            "text/plain": [
              "<Figure size 432x288 with 1 Axes>"
            ],
            "image/png": "[encoded data removed]"
          },
          "metadata": {
            "needs_background": "light"
          }
        },
        {
          "output_type": "execute_result",
          "data": {
            "text/plain": [
              "(array([[ 1.00864797],\n",
              "        [-1.8481307 ]]), array([3.1874182]))"
            ]
          },
          "metadata": {},
          "execution_count": 21
        }
      ]
    },
    {
      "cell_type": "code",
      "source": [
        "W, b = artificial_nn(X, y, lr=0.1, n_iter=500)\n",
        "print(W)\n",
        "print(b)"
      ],
      "metadata": {
        "colab": {
          "base_uri": "https://localhost:8080/",
          "height": 338
        },
        "id": "gyyhu5PaGqFE",
        "outputId": "6e60d03d-e3f5-4533-d865-7768d698f758"
      },
      "execution_count": 22,
      "outputs": [
        {
          "output_type": "stream",
          "name": "stdout",
          "text": [
            "Acuuracy: 0.92\n"
          ]
        },
        {
          "output_type": "display_data",
          "data": {
            "text/plain": [
              "<Figure size 432x288 with 1 Axes>"
            ],
            "image/png": "[encoded data removed]"
          },
          "metadata": {
            "needs_background": "light"
          }
        },
        {
          "output_type": "stream",
          "name": "stdout",
          "text": [
            "[[ 1.32520709]\n",
            " [-1.74344096]]\n",
            "[2.35269827]\n"
          ]
        }
      ]
    },
    {
      "cell_type": "code",
      "source": [
        ""
      ],
      "metadata": {
        "id": "2BqXJmEDHWBp"
      },
      "execution_count": 22,
      "outputs": []
    }
  ]
}