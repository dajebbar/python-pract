{
  "nbformat": 4,
  "nbformat_minor": 0,
  "metadata": {
    "colab": {
      "name": "Vectorisation.ipynb",
      "provenance": []
    },
    "kernelspec": {
      "name": "python3",
      "display_name": "Python 3"
    },
    "language_info": {
      "name": "python"
    }
  },
  "cells": [
    {
      "cell_type": "code",
      "execution_count": 1,
      "metadata": {
        "id": "XYbHK4G6vOQL"
      },
      "outputs": [],
      "source": [
        "import numpy as np"
      ]
    },
    {
      "cell_type": "code",
      "source": [
        "# inputs\n",
        "def inputs(m, n=None):\n",
        "  if n:\n",
        "    return np.random.randint(2, 5, (m, n)).astype(float)\n",
        "  \n",
        "  return np.random.randint(2, 5, (m,)).astype(float)\n",
        "  "
      ],
      "metadata": {
        "id": "u4JrTC6ovYkW"
      },
      "execution_count": 4,
      "outputs": []
    },
    {
      "cell_type": "code",
      "source": [
        "X = inputs(10, 3)\n",
        "X"
      ],
      "metadata": {
        "colab": {
          "base_uri": "https://localhost:8080/"
        },
        "id": "bVwa26d0wF-Q",
        "outputId": "f934a57b-058d-4c02-8087-28fdadc27087"
      },
      "execution_count": 5,
      "outputs": [
        {
          "output_type": "execute_result",
          "data": {
            "text/plain": [
              "array([[3., 2., 4.],\n",
              "       [4., 3., 2.],\n",
              "       [3., 2., 3.],\n",
              "       [2., 4., 4.],\n",
              "       [4., 4., 4.],\n",
              "       [4., 3., 2.],\n",
              "       [4., 2., 3.],\n",
              "       [4., 4., 3.],\n",
              "       [2., 4., 4.],\n",
              "       [2., 3., 3.]])"
            ]
          },
          "metadata": {},
          "execution_count": 5
        }
      ]
    },
    {
      "cell_type": "code",
      "source": [
        "W = inputs(10)\n",
        "W"
      ],
      "metadata": {
        "colab": {
          "base_uri": "https://localhost:8080/"
        },
        "id": "ucwmL1SdwNF3",
        "outputId": "a8126565-2b42-45f6-fd74-2963043e15b6"
      },
      "execution_count": 7,
      "outputs": [
        {
          "output_type": "execute_result",
          "data": {
            "text/plain": [
              "array([4., 2., 2., 3., 4., 4., 2., 3., 3., 2.])"
            ]
          },
          "metadata": {},
          "execution_count": 7
        }
      ]
    },
    {
      "cell_type": "code",
      "source": [
        ""
      ],
      "metadata": {
        "id": "Mja7uqiZw4cw"
      },
      "execution_count": null,
      "outputs": []
    }
  ]
}