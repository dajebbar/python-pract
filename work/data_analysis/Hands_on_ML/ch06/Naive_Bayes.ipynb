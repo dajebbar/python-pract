{
  "nbformat": 4,
  "nbformat_minor": 0,
  "metadata": {
    "colab": {
      "name": "Naive_Bayes",
      "provenance": []
    },
    "kernelspec": {
      "name": "python3",
      "display_name": "Python 3"
    },
    "language_info": {
      "name": "python"
    }
  },
  "cells": [
    {
      "cell_type": "markdown",
      "source": [
        "# Classifying Text Using Naive Bayes"
      ],
      "metadata": {
        "id": "cZcG3VlLQBiZ"
      }
    },
    {
      "cell_type": "markdown",
      "source": [
        "## Tokenization"
      ],
      "metadata": {
        "id": "ucRYTBhTSf6C"
      }
    },
    {
      "cell_type": "code",
      "execution_count": 1,
      "metadata": {
        "colab": {
          "base_uri": "https://localhost:8080/"
        },
        "id": "Dtr74UbYPpOW",
        "outputId": "21f6805c-7727-4a23-85d4-2028a438b467"
      },
      "outputs": [
        {
          "output_type": "execute_result",
          "data": {
            "text/plain": [
              "['How to tokenize?\\nLike a boss.',\n",
              " 'Google is accessible via http://www.google.com',\n",
              " '1000 new followers! #TwitterFamous']"
            ]
          },
          "metadata": {},
          "execution_count": 1
        }
      ],
      "source": [
        "lines = [\n",
        "    'How to tokenize?\\nLike a boss.',\n",
        "    'Google is accessible via http://www.google.com',\n",
        "    '1000 new followers! #TwitterFamous',\n",
        "]\n",
        "\n",
        "lines"
      ]
    },
    {
      "cell_type": "code",
      "source": [
        "for line in lines:\n",
        "  print(line.split())"
      ],
      "metadata": {
        "colab": {
          "base_uri": "https://localhost:8080/"
        },
        "id": "geWMMSyHbi8t",
        "outputId": "9c427ce2-5135-434c-9504-1ed92fc14313"
      },
      "execution_count": 2,
      "outputs": [
        {
          "output_type": "stream",
          "name": "stdout",
          "text": [
            "['How', 'to', 'tokenize?', 'Like', 'a', 'boss.']\n",
            "['Google', 'is', 'accessible', 'via', 'http://www.google.com']\n",
            "['1000', 'new', 'followers!', '#TwitterFamous']\n"
          ]
        }
      ]
    },
    {
      "cell_type": "code",
      "source": [
        ""
      ],
      "metadata": {
        "id": "d6P3DKqLbwEv"
      },
      "execution_count": null,
      "outputs": []
    }
  ]
}