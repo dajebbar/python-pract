{
  "nbformat": 4,
  "nbformat_minor": 0,
  "metadata": {
    "colab": {
      "name": "Deep_ANN.ipynb",
      "provenance": []
    },
    "kernelspec": {
      "name": "python3",
      "display_name": "Python 3"
    },
    "language_info": {
      "name": "python"
    }
  },
  "cells": [
    {
      "cell_type": "code",
      "execution_count": 1,
      "metadata": {
        "id": "gtK7Ja16glhW"
      },
      "outputs": [],
      "source": [
        "import numpy as np\n",
        "import matplotlib.pyplot as plt\n",
        "from sklearn.datasets import make_blobs, make_circles\n",
        "from sklearn.metrics import accuracy_score, log_loss\n",
        "from tqdm import tqdm\n",
        "plt.style.use('ggplot')\n",
        "%matplotlib inline"
      ]
    },
    {
      "cell_type": "markdown",
      "source": [
        "# Functions"
      ],
      "metadata": {
        "id": "uZDlWlOhhQts"
      }
    },
    {
      "cell_type": "code",
      "source": [
        "def initialize(dimensions):\n",
        "  parameters = {}\n",
        "  layers = len(dimensions)\n",
        "\n",
        "  for layer in range(1, layers):\n",
        "    parameters[f'W{layer}'] = np.random.randn(\n",
        "        dimensions[layer], \n",
        "        dimensions[layer-1]\n",
        "        )\n",
        "    parameters[f'b{layer}'] = np.random.randn(dimensions[layer], 1)\n",
        "  \n",
        "  return parameters"
      ],
      "metadata": {
        "id": "OxlLUFJjhOOd"
      },
      "execution_count": 2,
      "outputs": []
    },
    {
      "cell_type": "code",
      "source": [
        "params = initialize((2, 32, 32, 2))\n",
        "for k, v in params.items():\n",
        "  print(k, ' : ', v.shape)"
      ],
      "metadata": {
        "colab": {
          "base_uri": "https://localhost:8080/"
        },
        "id": "LVvRcwUHieQR",
        "outputId": "b02430c4-a49e-4f36-b6ef-8891ccc8c99b"
      },
      "execution_count": 4,
      "outputs": [
        {
          "output_type": "stream",
          "name": "stdout",
          "text": [
            "W1  :  (32, 2)\n",
            "b1  :  (32, 1)\n",
            "W2  :  (32, 32)\n",
            "b2  :  (32, 1)\n",
            "W3  :  (2, 32)\n",
            "b3  :  (2, 1)\n"
          ]
        }
      ]
    },
    {
      "cell_type": "code",
      "source": [
        "def forward_propagation(X, parameters):\n",
        "  activations = {'A0': X}\n",
        "  layers = len(parameters) // 2\n",
        "\n",
        "  for layer in range(1, layers+1):\n",
        "    Z = parameters[f'W{layer}'].dot(activations[f'A{layer-1}']) + parameters[f'b{layer}']\n",
        "    activations[f'A{layer}'] = 1 / (1 + np.exp(Z))\n",
        "  \n",
        "  return activations"
      ],
      "metadata": {
        "id": "bWfx0XSSjOl3"
      },
      "execution_count": 5,
      "outputs": []
    },
    {
      "cell_type": "code",
      "source": [
        "def backpropagation(y, parameters, activations):\n",
        "  m = y.shape[1]\n",
        "  layers = len(parameters) // 2\n",
        "\n",
        "  dZ = activations['A' + str(layers)] - y\n",
        "  gradients = {}\n",
        "\n",
        "  for layer in reversed(range(1, layers + 1)):\n",
        "    gradients[f'dW{layer}'] = 1/m * np.dot(dZ, activations[f'A{layer - 1}'].T)\n",
        "    gradients[f'db{layer}'] = 1/m * np.sum(dZ, axis=1, keepdims=True)\n",
        "    if layer > 1:\n",
        "      dZ = np.dot(parameters['W' + str(layer)].T, dZ) * activations['A' + str(layer - 1)] * (1 - activations['A' + str(layer - 1)])\n",
        "\n",
        "  return gradients"
      ],
      "metadata": {
        "id": "irkexhn6mXCi"
      },
      "execution_count": 6,
      "outputs": []
    },
    {
      "cell_type": "code",
      "source": [
        "def update(gradients, parametres, learning_rate):\n",
        "\n",
        "    C = len(parametres) // 2\n",
        "\n",
        "    for c in range(1, C + 1):\n",
        "        parametres['W' + str(c)] = parametres['W' + str(c)] - learning_rate * gradients['dW' + str(c)]\n",
        "        parametres['b' + str(c)] = parametres['b' + str(c)] - learning_rate * gradients['db' + str(c)]\n",
        "\n",
        "    return parametres"
      ],
      "metadata": {
        "id": "KFqJl-RLorv2"
      },
      "execution_count": 7,
      "outputs": []
    },
    {
      "cell_type": "code",
      "source": [
        "def predict(X, parametres):\n",
        "  activations = forward_propagation(X, parametres)\n",
        "  C = len(parametres) // 2\n",
        "  Af = activations['A' + str(C)]\n",
        "  return Af >= 0.5"
      ],
      "metadata": {
        "id": "f3V1cLKrpiSv"
      },
      "execution_count": 8,
      "outputs": []
    },
    {
      "cell_type": "code",
      "source": [
        "def deep_neural_network(X, y, hidden_layers = (16, 16, 16), learning_rate = 0.001, n_iter = 3000):\n",
        "    \n",
        "    # initialisation parametres\n",
        "    dimensions = list(hidden_layers)\n",
        "    dimensions.insert(0, X.shape[0])\n",
        "    dimensions.append(y.shape[0])\n",
        "    np.random.seed(1)\n",
        "    parametres = initialize(dimensions)\n",
        "\n",
        "    # tableau numpy contenant les futures accuracy et log_loss\n",
        "    training_history = np.zeros((int(n_iter), 2))\n",
        "\n",
        "    C = len(parametres) // 2\n",
        "\n",
        "    # gradient descent\n",
        "    for i in tqdm(range(n_iter)):\n",
        "\n",
        "        activations = forward_propagation(X, parametres)\n",
        "        gradients = backpropagation(y, parametres, activations)\n",
        "        parametres = update(gradients, parametres, learning_rate)\n",
        "        Af = activations['A' + str(C)]\n",
        "\n",
        "        # calcul du log_loss et de l'accuracy\n",
        "        training_history[i, 0] = (log_loss(y.flatten(), Af.flatten()))\n",
        "        y_pred = predict(X, parametres)\n",
        "        training_history[i, 1] = (accuracy_score(y.flatten(), y_pred.flatten()))\n",
        "\n",
        "    # Plot courbe d'apprentissage\n",
        "    plt.figure(figsize=(12, 4))\n",
        "    plt.subplot(1, 2, 1)\n",
        "    plt.plot(training_history[:, 0], label='train loss')\n",
        "    plt.legend()\n",
        "    plt.subplot(1, 2, 2)\n",
        "    plt.plot(training_history[:, 1], label='train acc')\n",
        "    plt.legend()\n",
        "    plt.show()\n",
        "\n",
        "    return training_history"
      ],
      "metadata": {
        "id": "ocTuy_1sputg"
      },
      "execution_count": 10,
      "outputs": []
    },
    {
      "cell_type": "markdown",
      "source": [
        "# Dataset"
      ],
      "metadata": {
        "id": "q3RhkwRDqAmv"
      }
    },
    {
      "cell_type": "code",
      "source": [
        "X, y = make_circles(n_samples=100, noise=0.1, factor=0.3, random_state=0)\n",
        "X = X.T\n",
        "y = y.reshape((1, y.shape[0]))\n",
        "\n",
        "print('dimensions de X:', X.shape)\n",
        "print('dimensions de y:', y.shape)\n",
        "\n",
        "plt.scatter(X[0, :], X[1, :], c=y, cmap='summer')\n",
        "plt.show()"
      ],
      "metadata": {
        "colab": {
          "base_uri": "https://localhost:8080/",
          "height": 302
        },
        "id": "cW_boV0spzpG",
        "outputId": "ed8866b5-103a-46f7-8716-db34cab1c472"
      },
      "execution_count": 11,
      "outputs": [
        {
          "output_type": "stream",
          "name": "stdout",
          "text": [
            "dimensions de X: (2, 100)\n",
            "dimensions de y: (1, 100)\n"
          ]
        },
        {
          "output_type": "display_data",
          "data": {
            "text/plain": [
              "<Figure size 432x288 with 1 Axes>"
            ],
            "image/png": "[encoded data removed]"
          },
          "metadata": {
            "needs_background": "light"
          }
        }
      ]
    },
    {
      "cell_type": "code",
      "source": [
        "deep_neural_network(X, y, \n",
        "                    hidden_layers = (32, 32, 32), \n",
        "                    learning_rate = 0.0001, \n",
        "                    n_iter = 3000)"
      ],
      "metadata": {
        "colab": {
          "base_uri": "https://localhost:8080/",
          "height": 414
        },
        "id": "EDEn0UkQqDzK",
        "outputId": "6b287ade-7652-4723-ee85-b4069994fbe4"
      },
      "execution_count": 18,
      "outputs": [
        {
          "output_type": "stream",
          "name": "stderr",
          "text": [
            "100%|██████████| 3000/3000 [00:04<00:00, 608.17it/s]\n"
          ]
        },
        {
          "output_type": "display_data",
          "data": {
            "text/plain": [
              "<Figure size 864x288 with 2 Axes>"
            ],
            "image/png": "[encoded data removed]"
          },
          "metadata": {
            "needs_background": "light"
          }
        },
        {
          "output_type": "execute_result",
          "data": {
            "text/plain": [
              "array([[0.6789104 , 0.57      ],\n",
              "       [0.67890961, 0.57      ],\n",
              "       [0.67890883, 0.57      ],\n",
              "       ...,\n",
              "       [0.67656365, 0.59      ],\n",
              "       [0.67656287, 0.59      ],\n",
              "       [0.67656209, 0.59      ]])"
            ]
          },
          "metadata": {},
          "execution_count": 18
        }
      ]
    },
    {
      "cell_type": "code",
      "source": [
        ""
      ],
      "metadata": {
        "id": "GZDahLEdqQJA"
      },
      "execution_count": null,
      "outputs": []
    }
  ]
}