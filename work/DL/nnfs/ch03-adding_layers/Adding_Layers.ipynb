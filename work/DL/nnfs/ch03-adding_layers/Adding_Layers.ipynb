{
  "nbformat": 4,
  "nbformat_minor": 0,
  "metadata": {
    "colab": {
      "name": "Adding_Layers.ipynb",
      "provenance": []
    },
    "kernelspec": {
      "name": "python3",
      "display_name": "Python 3"
    },
    "language_info": {
      "name": "python"
    }
  },
  "cells": [
    {
      "cell_type": "code",
      "source": [
        "!pip install nnfs --quiet"
      ],
      "metadata": {
        "id": "umeK5hrVrFoF"
      },
      "execution_count": 1,
      "outputs": []
    },
    {
      "cell_type": "code",
      "source": [
        "import numpy as np\n",
        "import nnfs"
      ],
      "metadata": {
        "id": "aO4pBD74jy9H"
      },
      "execution_count": 2,
      "outputs": []
    },
    {
      "cell_type": "code",
      "execution_count": 3,
      "metadata": {
        "id": "BccKtl1PgOch"
      },
      "outputs": [],
      "source": [
        "class Layer_Dense:\n",
        "  def __init__(self, n_inputs, n_neurons):\n",
        "    # initialize weights and biases\n",
        "    self.weights = np.random.randn(n_inputs, n_neurons) * .01\n",
        "    self.biases = np.zeros((1, n_neurons))\n",
        "  \n",
        "  # forward\n",
        "  def forward(self, inputs):\n",
        "    # calculate output values from inputs, weights and biases\n",
        "    self.output = np.dot(inputs, self.weights) + self.biases\n"
      ]
    },
    {
      "cell_type": "code",
      "source": [
        "from nnfs.datasets import spiral_data\n",
        "\n",
        "# Create dataset\n",
        "X, y = spiral_data(samples=100, classes=3)"
      ],
      "metadata": {
        "id": "E0ownXlpsAx7"
      },
      "execution_count": 4,
      "outputs": []
    },
    {
      "cell_type": "code",
      "source": [
        "# Create Dense layer with 2 input features and 3 output values\n",
        "dense_1 = Layer_Dense(2, 3)"
      ],
      "metadata": {
        "id": "WznEojuhsQLX"
      },
      "execution_count": 5,
      "outputs": []
    },
    {
      "cell_type": "code",
      "source": [
        "# Perform a forward pass of our training data through this layer\n",
        "dense_1.forward(X)"
      ],
      "metadata": {
        "id": "OagTQQdwu3-U"
      },
      "execution_count": 6,
      "outputs": []
    },
    {
      "cell_type": "code",
      "source": [
        "print(dense_1.output[:5])"
      ],
      "metadata": {
        "colab": {
          "base_uri": "https://localhost:8080/"
        },
        "id": "szHpPDPEvUvt",
        "outputId": "1bd6beaa-4609-499f-a0a6-5cda9d9d478f"
      },
      "execution_count": 7,
      "outputs": [
        {
          "output_type": "stream",
          "name": "stdout",
          "text": [
            "[[ 0.00000000e+00  0.00000000e+00  0.00000000e+00]\n",
            " [-4.45865529e-05  3.04041836e-05  2.83764363e-05]\n",
            " [ 1.07105200e-04 -7.75101361e-05 -4.00159858e-04]\n",
            " [-2.44462297e-05  1.30358498e-05 -2.54153468e-04]\n",
            " [-1.47192023e-05  4.72066181e-06 -3.85182161e-04]]\n"
          ]
        }
      ]
    },
    {
      "cell_type": "code",
      "source": [
        ""
      ],
      "metadata": {
        "id": "qoCGcO0uvYcp"
      },
      "execution_count": null,
      "outputs": []
    }
  ]
}