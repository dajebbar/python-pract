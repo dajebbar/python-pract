{
  "nbformat": 4,
  "nbformat_minor": 0,
  "metadata": {
    "colab": {
      "name": "2_Layers.ipynb",
      "provenance": []
    },
    "kernelspec": {
      "name": "python3",
      "display_name": "Python 3"
    },
    "language_info": {
      "name": "python"
    }
  },
  "cells": [
    {
      "cell_type": "code",
      "source": [
        "import numpy as np\n",
        "import matplotlib.pyplot as plt\n",
        "from sklearn import metrics\n",
        "plt.style.use('ggplot')\n",
        "%matplotlib inline"
      ],
      "metadata": {
        "id": "JHlz0LsMSPUd"
      },
      "execution_count": 1,
      "outputs": []
    },
    {
      "cell_type": "code",
      "execution_count": 2,
      "metadata": {
        "id": "EA-n9iGRR8Ff"
      },
      "outputs": [],
      "source": [
        "def initialize(n0, n1, n2):\n",
        "  W1 = np.random.randn(n1, n0)\n",
        "  b1 = np.random.randn(n1, 1)\n",
        "\n",
        "  W2 = np.random.randn(n2, n1)\n",
        "  b2 = np.random.randn(n2, 1)\n",
        "\n",
        "  parameters = {\n",
        "      'W1': W1,\n",
        "      'b1': b1,\n",
        "      'W2': W2,\n",
        "      'b2': b2,\n",
        "  }\n",
        "\n",
        "  return parameters"
      ]
    },
    {
      "cell_type": "code",
      "source": [
        "def forward_propagation(X, parameters):\n",
        "  W1 = parameters['W1']\n",
        "  b1 = parameters['b1']\n",
        "  Z1 = W1.dot(X) + b1\n",
        "  \n",
        "  A1 = 1 / (1 + np.exp(-Z1))\n",
        "\n",
        "\n",
        "  W2 = parameters['W2']\n",
        "  b2 = parameters['b2']\n",
        "  Z2 = W2.dot(X) + b2\n",
        "\n",
        "  A2 = 1 / (1 + np.exp(-Z2))\n",
        "\n",
        "  activations = {\n",
        "      'A1': A1,\n",
        "      'A2': A2,\n",
        "  }\n",
        "\n",
        "  return activations"
      ],
      "metadata": {
        "id": "odVympv8TqSB"
      },
      "execution_count": 3,
      "outputs": []
    },
    {
      "cell_type": "code",
      "source": [
        "def backpropagtion(X, y, activations, parameters):\n",
        "  A1 = activations['A1']\n",
        "  A2 = activations['A2']\n",
        "  W2 = parameters['W2']\n",
        "\n",
        "  m = y.shape[1]\n",
        "\n",
        "  dZ2 = A2 -y\n",
        "  dW2 = 1/m * dZ2.dot(A1.T)\n",
        "  db2 = 1/m * np.sum(dZ2, axis=1, keepdims=1)\n",
        "\n",
        "  dZ1 = np.dot(W2.T, dZ2) * A1 * (1 - A1)\n",
        "  dW1 = 1 / m * dZ1.dot(X.T)\n",
        "  db1 = 1 / m * np.sum(dZ1, axis=1, keepdims = True)\n",
        "\n",
        "  gradients = {\n",
        "        'dW1' : dW1,\n",
        "        'db1' : db1,\n",
        "        'dW2' : dW2,\n",
        "        'db2' : db2\n",
        "    }\n",
        "    \n",
        "  return gradients"
      ],
      "metadata": {
        "id": "9ErgDh_-VxF5"
      },
      "execution_count": 4,
      "outputs": []
    },
    {
      "cell_type": "code",
      "source": [
        ""
      ],
      "metadata": {
        "id": "q3iSQC-7Yr5h"
      },
      "execution_count": null,
      "outputs": []
    }
  ]
}