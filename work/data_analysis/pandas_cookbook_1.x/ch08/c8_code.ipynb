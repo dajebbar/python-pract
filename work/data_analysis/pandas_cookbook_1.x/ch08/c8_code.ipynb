{
  "nbformat": 4,
  "nbformat_minor": 0,
  "metadata": {
    "colab": {
      "name": "c8_code.ipynb",
      "provenance": [],
      "collapsed_sections": []
    },
    "kernelspec": {
      "name": "python3",
      "display_name": "Python 3"
    },
    "language_info": {
      "name": "python"
    }
  },
  "cells": [
    {
      "cell_type": "markdown",
      "source": [
        "---\n",
        "# Index Alignment\n",
        "---"
      ],
      "metadata": {
        "id": "5OlvQ70HOGD5"
      }
    },
    {
      "cell_type": "markdown",
      "source": [
        "## Examining the Index object\n",
        "All Index objects, except for the MultiIndex, are single-dimensional data structures that combine the functionality of Python sets and NumPy ndarrays."
      ],
      "metadata": {
        "id": "TzGR6MaxQ13p"
      }
    },
    {
      "cell_type": "markdown",
      "source": [
        "Examine the column index of the college dataset and explore much\n",
        "of its functionality.  \n",
        "Read in the college dataset, and create a variable columns that holds the column index"
      ],
      "metadata": {
        "id": "AV9ImOLPRVX_"
      }
    },
    {
      "cell_type": "code",
      "execution_count": 1,
      "metadata": {
        "id": "H35ERNuYN61W"
      },
      "outputs": [],
      "source": [
        "import numpy as np\n",
        "import pandas as pd"
      ]
    },
    {
      "cell_type": "code",
      "source": [
        "college = pd.read_csv('./college.csv')\n",
        "cols = college.columns\n",
        "cols"
      ],
      "metadata": {
        "colab": {
          "base_uri": "https://localhost:8080/"
        },
        "id": "TYuw2ssuR0Kg",
        "outputId": "f6bb5f89-10c7-4896-b843-435dc8d29680"
      },
      "execution_count": 2,
      "outputs": [
        {
          "output_type": "execute_result",
          "data": {
            "text/plain": [
              "Index(['INSTNM', 'CITY', 'STABBR', 'HBCU', 'MENONLY', 'WOMENONLY', 'RELAFFIL',\n",
              "       'SATVRMID', 'SATMTMID', 'DISTANCEONLY', 'UGDS', 'UGDS_WHITE',\n",
              "       'UGDS_BLACK', 'UGDS_HISP', 'UGDS_ASIAN', 'UGDS_AIAN', 'UGDS_NHPI',\n",
              "       'UGDS_2MOR', 'UGDS_NRA', 'UGDS_UNKN', 'PPTUG_EF', 'CURROPER', 'PCTPELL',\n",
              "       'PCTFLOAN', 'UG25ABV', 'MD_EARN_WNE_P10', 'GRAD_DEBT_MDN_SUPP'],\n",
              "      dtype='object')"
            ]
          },
          "metadata": {},
          "execution_count": 2
        }
      ]
    },
    {
      "cell_type": "markdown",
      "source": [
        "Use the `.values` attribute to access the underlying NumPy array"
      ],
      "metadata": {
        "id": "igp1tAnCSLjh"
      }
    },
    {
      "cell_type": "code",
      "source": [
        "cols.values"
      ],
      "metadata": {
        "colab": {
          "base_uri": "https://localhost:8080/"
        },
        "id": "egi8L4u2SA8U",
        "outputId": "73aaad2a-5bc2-4072-8835-27d2f810624a"
      },
      "execution_count": 3,
      "outputs": [
        {
          "output_type": "execute_result",
          "data": {
            "text/plain": [
              "array(['INSTNM', 'CITY', 'STABBR', 'HBCU', 'MENONLY', 'WOMENONLY',\n",
              "       'RELAFFIL', 'SATVRMID', 'SATMTMID', 'DISTANCEONLY', 'UGDS',\n",
              "       'UGDS_WHITE', 'UGDS_BLACK', 'UGDS_HISP', 'UGDS_ASIAN', 'UGDS_AIAN',\n",
              "       'UGDS_NHPI', 'UGDS_2MOR', 'UGDS_NRA', 'UGDS_UNKN', 'PPTUG_EF',\n",
              "       'CURROPER', 'PCTPELL', 'PCTFLOAN', 'UG25ABV', 'MD_EARN_WNE_P10',\n",
              "       'GRAD_DEBT_MDN_SUPP'], dtype=object)"
            ]
          },
          "metadata": {},
          "execution_count": 3
        }
      ]
    },
    {
      "cell_type": "markdown",
      "source": [
        "Select items from the index by position with a scalar, list, or slice"
      ],
      "metadata": {
        "id": "njysUm2zSoia"
      }
    },
    {
      "cell_type": "code",
      "source": [
        "cols[5]"
      ],
      "metadata": {
        "colab": {
          "base_uri": "https://localhost:8080/",
          "height": 35
        },
        "id": "luT75u_USP7T",
        "outputId": "e92e2126-eb5a-4aca-f2ef-e20032486e56"
      },
      "execution_count": 4,
      "outputs": [
        {
          "output_type": "execute_result",
          "data": {
            "application/vnd.google.colaboratory.intrinsic+json": {
              "type": "string"
            },
            "text/plain": [
              "'WOMENONLY'"
            ]
          },
          "metadata": {},
          "execution_count": 4
        }
      ]
    },
    {
      "cell_type": "code",
      "source": [
        "cols[[1, 8, -1]]"
      ],
      "metadata": {
        "colab": {
          "base_uri": "https://localhost:8080/"
        },
        "id": "ptKneCNvSq6E",
        "outputId": "1469951b-e2c5-44dc-f820-e2fd0a1d8d4b"
      },
      "execution_count": 5,
      "outputs": [
        {
          "output_type": "execute_result",
          "data": {
            "text/plain": [
              "Index(['CITY', 'SATMTMID', 'GRAD_DEBT_MDN_SUPP'], dtype='object')"
            ]
          },
          "metadata": {},
          "execution_count": 5
        }
      ]
    },
    {
      "cell_type": "code",
      "source": [
        "cols[2:6]"
      ],
      "metadata": {
        "colab": {
          "base_uri": "https://localhost:8080/"
        },
        "id": "VWmR9ZK-Sv7o",
        "outputId": "8979115c-8758-4579-c3b7-4e5188c5dd5f"
      },
      "execution_count": 6,
      "outputs": [
        {
          "output_type": "execute_result",
          "data": {
            "text/plain": [
              "Index(['STABBR', 'HBCU', 'MENONLY', 'WOMENONLY'], dtype='object')"
            ]
          },
          "metadata": {},
          "execution_count": 6
        }
      ]
    },
    {
      "cell_type": "markdown",
      "source": [
        "Indexes share many of the same methods as Series and DataFrames:"
      ],
      "metadata": {
        "id": "HpXHDc1QTDdn"
      }
    },
    {
      "cell_type": "code",
      "source": [
        "cols.min(), cols.max(), cols.isnull().sum(), cols.value_counts().sum()"
      ],
      "metadata": {
        "colab": {
          "base_uri": "https://localhost:8080/"
        },
        "id": "82eCYyABS8K_",
        "outputId": "1e23f8de-211f-4798-f29a-cd34b740699f"
      },
      "execution_count": 7,
      "outputs": [
        {
          "output_type": "execute_result",
          "data": {
            "text/plain": [
              "('CITY', 'WOMENONLY', 0, 27)"
            ]
          },
          "metadata": {},
          "execution_count": 7
        }
      ]
    },
    {
      "cell_type": "markdown",
      "source": [
        " Basic arithmetic and comparison operators on Index objects"
      ],
      "metadata": {
        "id": "ZOViETjLTb2x"
      }
    },
    {
      "cell_type": "code",
      "source": [
        "cols + '_A'"
      ],
      "metadata": {
        "colab": {
          "base_uri": "https://localhost:8080/"
        },
        "id": "6lrg7LdjTPzS",
        "outputId": "234b279f-c007-4eda-c6f8-d067f66f83c9"
      },
      "execution_count": 8,
      "outputs": [
        {
          "output_type": "execute_result",
          "data": {
            "text/plain": [
              "Index(['INSTNM_A', 'CITY_A', 'STABBR_A', 'HBCU_A', 'MENONLY_A', 'WOMENONLY_A',\n",
              "       'RELAFFIL_A', 'SATVRMID_A', 'SATMTMID_A', 'DISTANCEONLY_A', 'UGDS_A',\n",
              "       'UGDS_WHITE_A', 'UGDS_BLACK_A', 'UGDS_HISP_A', 'UGDS_ASIAN_A',\n",
              "       'UGDS_AIAN_A', 'UGDS_NHPI_A', 'UGDS_2MOR_A', 'UGDS_NRA_A',\n",
              "       'UGDS_UNKN_A', 'PPTUG_EF_A', 'CURROPER_A', 'PCTPELL_A', 'PCTFLOAN_A',\n",
              "       'UG25ABV_A', 'MD_EARN_WNE_P10_A', 'GRAD_DEBT_MDN_SUPP_A'],\n",
              "      dtype='object')"
            ]
          },
          "metadata": {},
          "execution_count": 8
        }
      ]
    },
    {
      "cell_type": "code",
      "source": [
        "cols > 'G'"
      ],
      "metadata": {
        "colab": {
          "base_uri": "https://localhost:8080/"
        },
        "id": "r_nEVnNTTj3Y",
        "outputId": "e193373f-a39f-492a-e0b2-f421cc7ecf13"
      },
      "execution_count": 9,
      "outputs": [
        {
          "output_type": "execute_result",
          "data": {
            "text/plain": [
              "array([ True, False,  True,  True,  True,  True,  True,  True,  True,\n",
              "       False,  True,  True,  True,  True,  True,  True,  True,  True,\n",
              "        True,  True,  True, False,  True,  True,  True,  True,  True])"
            ]
          },
          "metadata": {},
          "execution_count": 9
        }
      ]
    },
    {
      "cell_type": "code",
      "source": [
        "uniq, cnt = np.unique((cols > 'G'), return_counts=True)  \n",
        "dict(zip(uniq, cnt))"
      ],
      "metadata": {
        "colab": {
          "base_uri": "https://localhost:8080/"
        },
        "id": "9CAQ1cV6Tq_a",
        "outputId": "53e2c12a-e4f9-4158-8646-85b0dee3020f"
      },
      "execution_count": 10,
      "outputs": [
        {
          "output_type": "execute_result",
          "data": {
            "text/plain": [
              "{False: 3, True: 24}"
            ]
          },
          "metadata": {},
          "execution_count": 10
        }
      ]
    },
    {
      "cell_type": "markdown",
      "source": [
        "Trying to change an Index value after its creation fails. Indexes are immutable\n",
        "objects:"
      ],
      "metadata": {
        "id": "L5HimO8jVIOH"
      }
    },
    {
      "cell_type": "code",
      "source": [
        "# cols[1] = 'city'"
      ],
      "metadata": {
        "id": "YgJjV56UTyBf"
      },
      "execution_count": 11,
      "outputs": []
    },
    {
      "cell_type": "markdown",
      "source": [
        "Indexes support the set operations—union, intersection, difference, and symmetric difference"
      ],
      "metadata": {
        "id": "LdodQYgrVr07"
      }
    },
    {
      "cell_type": "code",
      "source": [
        " c1 = cols[:4]\n",
        " c1"
      ],
      "metadata": {
        "colab": {
          "base_uri": "https://localhost:8080/"
        },
        "id": "3ejbv2-mVMOj",
        "outputId": "ae78ddc1-14ad-40cc-e604-0fdb2d80b29d"
      },
      "execution_count": 12,
      "outputs": [
        {
          "output_type": "execute_result",
          "data": {
            "text/plain": [
              "Index(['INSTNM', 'CITY', 'STABBR', 'HBCU'], dtype='object')"
            ]
          },
          "metadata": {},
          "execution_count": 12
        }
      ]
    },
    {
      "cell_type": "code",
      "source": [
        "c2 = cols[2:6]\n",
        "c2"
      ],
      "metadata": {
        "colab": {
          "base_uri": "https://localhost:8080/"
        },
        "id": "qq1308LZVv0X",
        "outputId": "b5d79041-977e-4474-fac8-06dcf88b8c74"
      },
      "execution_count": 13,
      "outputs": [
        {
          "output_type": "execute_result",
          "data": {
            "text/plain": [
              "Index(['STABBR', 'HBCU', 'MENONLY', 'WOMENONLY'], dtype='object')"
            ]
          },
          "metadata": {},
          "execution_count": 13
        }
      ]
    },
    {
      "cell_type": "code",
      "source": [
        "c1.union(c2)"
      ],
      "metadata": {
        "colab": {
          "base_uri": "https://localhost:8080/"
        },
        "id": "e26Myy2CV1pX",
        "outputId": "7a02e6d1-e952-4161-dcca-81a376ffcd37"
      },
      "execution_count": 14,
      "outputs": [
        {
          "output_type": "execute_result",
          "data": {
            "text/plain": [
              "Index(['CITY', 'HBCU', 'INSTNM', 'MENONLY', 'STABBR', 'WOMENONLY'], dtype='object')"
            ]
          },
          "metadata": {},
          "execution_count": 14
        }
      ]
    },
    {
      "cell_type": "code",
      "source": [
        "c1 | c2"
      ],
      "metadata": {
        "colab": {
          "base_uri": "https://localhost:8080/"
        },
        "id": "yAdrRDI4V-IG",
        "outputId": "a78511a9-37c9-43ae-d55c-30f1f9789894"
      },
      "execution_count": 15,
      "outputs": [
        {
          "output_type": "execute_result",
          "data": {
            "text/plain": [
              "Index(['CITY', 'HBCU', 'INSTNM', 'MENONLY', 'STABBR', 'WOMENONLY'], dtype='object')"
            ]
          },
          "metadata": {},
          "execution_count": 15
        }
      ]
    },
    {
      "cell_type": "code",
      "source": [
        "c1.symmetric_difference(c2)"
      ],
      "metadata": {
        "colab": {
          "base_uri": "https://localhost:8080/"
        },
        "id": "NQSdrPvlWGnc",
        "outputId": "7d43f6d1-8bfd-4980-ac17-5e0d96d522df"
      },
      "execution_count": 16,
      "outputs": [
        {
          "output_type": "execute_result",
          "data": {
            "text/plain": [
              "Index(['CITY', 'INSTNM', 'MENONLY', 'WOMENONLY'], dtype='object')"
            ]
          },
          "metadata": {},
          "execution_count": 16
        }
      ]
    },
    {
      "cell_type": "code",
      "source": [
        "c1 ^ c2"
      ],
      "metadata": {
        "colab": {
          "base_uri": "https://localhost:8080/"
        },
        "id": "BydD-NPdWMFb",
        "outputId": "c12b74b3-d592-46e1-ca1c-1005838039e6"
      },
      "execution_count": 17,
      "outputs": [
        {
          "output_type": "execute_result",
          "data": {
            "text/plain": [
              "Index(['CITY', 'INSTNM', 'MENONLY', 'WOMENONLY'], dtype='object')"
            ]
          },
          "metadata": {},
          "execution_count": 17
        }
      ]
    },
    {
      "cell_type": "markdown",
      "source": [
        "## Producing Cartesian products\n",
        "Construct two Series that have indexes that are different but contain some of the\n",
        "same values:"
      ],
      "metadata": {
        "id": "A89uvFYMWkN6"
      }
    },
    {
      "cell_type": "code",
      "source": [
        "s1 = pd.Series(data=list(range(4)), index=list('aaab'))\n",
        "s1"
      ],
      "metadata": {
        "colab": {
          "base_uri": "https://localhost:8080/"
        },
        "id": "L1y1oFvXWQhv",
        "outputId": "b4b25109-3c6a-4991-d16c-ab3f27cce615"
      },
      "execution_count": 18,
      "outputs": [
        {
          "output_type": "execute_result",
          "data": {
            "text/plain": [
              "a    0\n",
              "a    1\n",
              "a    2\n",
              "b    3\n",
              "dtype: int64"
            ]
          },
          "metadata": {},
          "execution_count": 18
        }
      ]
    },
    {
      "cell_type": "code",
      "source": [
        "s2 = pd.Series(data=list(range(6)), index=list('cababb'))\n",
        "s2"
      ],
      "metadata": {
        "colab": {
          "base_uri": "https://localhost:8080/"
        },
        "id": "Cj6tftZgdXkM",
        "outputId": "906486d0-492a-4ed6-a16c-137faae58922"
      },
      "execution_count": 19,
      "outputs": [
        {
          "output_type": "execute_result",
          "data": {
            "text/plain": [
              "c    0\n",
              "a    1\n",
              "b    2\n",
              "a    3\n",
              "b    4\n",
              "b    5\n",
              "dtype: int64"
            ]
          },
          "metadata": {},
          "execution_count": 19
        }
      ]
    },
    {
      "cell_type": "markdown",
      "source": [
        "Add the two Series together to produce a Cartesian product.  For each a index value\n",
        "in s1, we add every a in s2"
      ],
      "metadata": {
        "id": "7HP9rjG5d3ZI"
      }
    },
    {
      "cell_type": "code",
      "source": [
        "s1 + s2"
      ],
      "metadata": {
        "colab": {
          "base_uri": "https://localhost:8080/"
        },
        "id": "LFp1zFnKdsu2",
        "outputId": "6dd03d39-85de-4e89-b5f2-3f8dd7e46268"
      },
      "execution_count": 20,
      "outputs": [
        {
          "output_type": "execute_result",
          "data": {
            "text/plain": [
              "a    1.0\n",
              "a    3.0\n",
              "a    2.0\n",
              "a    4.0\n",
              "a    3.0\n",
              "a    5.0\n",
              "b    5.0\n",
              "b    7.0\n",
              "b    8.0\n",
              "c    NaN\n",
              "dtype: float64"
            ]
          },
          "metadata": {},
          "execution_count": 20
        }
      ]
    },
    {
      "cell_type": "code",
      "source": [
        "(s1+s2).apply(type).unique()"
      ],
      "metadata": {
        "colab": {
          "base_uri": "https://localhost:8080/"
        },
        "id": "NUdIj058eDZt",
        "outputId": "2e8d2bbd-afb1-4510-c134-075065331af8"
      },
      "execution_count": 21,
      "outputs": [
        {
          "output_type": "execute_result",
          "data": {
            "text/plain": [
              "array([<class 'float'>], dtype=object)"
            ]
          },
          "metadata": {},
          "execution_count": 21
        }
      ]
    },
    {
      "cell_type": "markdown",
      "source": [
        "## Exploding indexes\n",
        "Add two larger Series that have indexes with only a few unique values but in\n",
        "different orders. The result will explode the number of values in the indexes"
      ],
      "metadata": {
        "id": "3VHLDg5EgGPN"
      }
    },
    {
      "cell_type": "markdown",
      "source": [
        "Read in the employee data and set the index to the RACE column:"
      ],
      "metadata": {
        "id": "HHFujWeyg0Qn"
      }
    },
    {
      "cell_type": "code",
      "source": [
        "employee = pd.read_csv('./employee.csv', index_col='RACE')\n",
        "employee.head(3)"
      ],
      "metadata": {
        "colab": {
          "base_uri": "https://localhost:8080/",
          "height": 271
        },
        "id": "1zTttRgNe2I5",
        "outputId": "c47fb81a-1c5e-4b8e-c044-8173844c180c"
      },
      "execution_count": 22,
      "outputs": [
        {
          "output_type": "execute_result",
          "data": {
            "text/html": [
              "\n",
              "  <div id=\"df-13680328-fb8c-4a65-bb48-9fd42dcd0a6a\">\n",
              "    <div class=\"colab-df-container\">\n",
              "      <div>\n",
              "<style scoped>\n",
              "    .dataframe tbody tr th:only-of-type {\n",
              "        vertical-align: middle;\n",
              "    }\n",
              "\n",
              "    .dataframe tbody tr th {\n",
              "        vertical-align: top;\n",
              "    }\n",
              "\n",
              "    .dataframe thead th {\n",
              "        text-align: right;\n",
              "    }\n",
              "</style>\n",
              "<table border=\"1\" class=\"dataframe\">\n",
              "  <thead>\n",
              "    <tr style=\"text-align: right;\">\n",
              "      <th></th>\n",
              "      <th>UNIQUE_ID</th>\n",
              "      <th>POSITION_TITLE</th>\n",
              "      <th>DEPARTMENT</th>\n",
              "      <th>BASE_SALARY</th>\n",
              "      <th>EMPLOYMENT_TYPE</th>\n",
              "      <th>GENDER</th>\n",
              "      <th>EMPLOYMENT_STATUS</th>\n",
              "      <th>HIRE_DATE</th>\n",
              "      <th>JOB_DATE</th>\n",
              "    </tr>\n",
              "    <tr>\n",
              "      <th>RACE</th>\n",
              "      <th></th>\n",
              "      <th></th>\n",
              "      <th></th>\n",
              "      <th></th>\n",
              "      <th></th>\n",
              "      <th></th>\n",
              "      <th></th>\n",
              "      <th></th>\n",
              "      <th></th>\n",
              "    </tr>\n",
              "  </thead>\n",
              "  <tbody>\n",
              "    <tr>\n",
              "      <th>Hispanic/Latino</th>\n",
              "      <td>0</td>\n",
              "      <td>ASSISTANT DIRECTOR (EX LVL)</td>\n",
              "      <td>Municipal Courts Department</td>\n",
              "      <td>121862.0</td>\n",
              "      <td>Full Time</td>\n",
              "      <td>Female</td>\n",
              "      <td>Active</td>\n",
              "      <td>2006-06-12</td>\n",
              "      <td>2012-10-13</td>\n",
              "    </tr>\n",
              "    <tr>\n",
              "      <th>Hispanic/Latino</th>\n",
              "      <td>1</td>\n",
              "      <td>LIBRARY ASSISTANT</td>\n",
              "      <td>Library</td>\n",
              "      <td>26125.0</td>\n",
              "      <td>Full Time</td>\n",
              "      <td>Female</td>\n",
              "      <td>Active</td>\n",
              "      <td>2000-07-19</td>\n",
              "      <td>2010-09-18</td>\n",
              "    </tr>\n",
              "    <tr>\n",
              "      <th>White</th>\n",
              "      <td>2</td>\n",
              "      <td>POLICE OFFICER</td>\n",
              "      <td>Houston Police Department-HPD</td>\n",
              "      <td>45279.0</td>\n",
              "      <td>Full Time</td>\n",
              "      <td>Male</td>\n",
              "      <td>Active</td>\n",
              "      <td>2015-02-03</td>\n",
              "      <td>2015-02-03</td>\n",
              "    </tr>\n",
              "  </tbody>\n",
              "</table>\n",
              "</div>\n",
              "      <button class=\"colab-df-convert\" onclick=\"convertToInteractive('df-13680328-fb8c-4a65-bb48-9fd42dcd0a6a')\"\n",
              "              title=\"Convert this dataframe to an interactive table.\"\n",
              "              style=\"display:none;\">\n",
              "        \n",
              "  <svg xmlns=\"http://www.w3.org/2000/svg\" height=\"24px\"viewBox=\"0 0 24 24\"\n",
              "       width=\"24px\">\n",
              "    <path d=\"M0 0h24v24H0V0z\" fill=\"none\"/>\n",
              "    <path d=\"M18.56 5.44l.94 2.06.94-2.06 2.06-.94-2.06-.94-.94-2.06-.94 2.06-2.06.94zm-11 1L8.5 8.5l.94-2.06 2.06-.94-2.06-.94L8.5 2.5l-.94 2.06-2.06.94zm10 10l.94 2.06.94-2.06 2.06-.94-2.06-.94-.94-2.06-.94 2.06-2.06.94z\"/><path d=\"M17.41 7.96l-1.37-1.37c-.4-.4-.92-.59-1.43-.59-.52 0-1.04.2-1.43.59L10.3 9.45l-7.72 7.72c-.78.78-.78 2.05 0 2.83L4 21.41c.39.39.9.59 1.41.59.51 0 1.02-.2 1.41-.59l7.78-7.78 2.81-2.81c.8-.78.8-2.07 0-2.86zM5.41 20L4 18.59l7.72-7.72 1.47 1.35L5.41 20z\"/>\n",
              "  </svg>\n",
              "      </button>\n",
              "      \n",
              "  <style>\n",
              "    .colab-df-container {\n",
              "      display:flex;\n",
              "      flex-wrap:wrap;\n",
              "      gap: 12px;\n",
              "    }\n",
              "\n",
              "    .colab-df-convert {\n",
              "      background-color: #E8F0FE;\n",
              "      border: none;\n",
              "      border-radius: 50%;\n",
              "      cursor: pointer;\n",
              "      display: none;\n",
              "      fill: #1967D2;\n",
              "      height: 32px;\n",
              "      padding: 0 0 0 0;\n",
              "      width: 32px;\n",
              "    }\n",
              "\n",
              "    .colab-df-convert:hover {\n",
              "      background-color: #E2EBFA;\n",
              "      box-shadow: 0px 1px 2px rgba(60, 64, 67, 0.3), 0px 1px 3px 1px rgba(60, 64, 67, 0.15);\n",
              "      fill: #174EA6;\n",
              "    }\n",
              "\n",
              "    [theme=dark] .colab-df-convert {\n",
              "      background-color: #3B4455;\n",
              "      fill: #D2E3FC;\n",
              "    }\n",
              "\n",
              "    [theme=dark] .colab-df-convert:hover {\n",
              "      background-color: #434B5C;\n",
              "      box-shadow: 0px 1px 3px 1px rgba(0, 0, 0, 0.15);\n",
              "      filter: drop-shadow(0px 1px 2px rgba(0, 0, 0, 0.3));\n",
              "      fill: #FFFFFF;\n",
              "    }\n",
              "  </style>\n",
              "\n",
              "      <script>\n",
              "        const buttonEl =\n",
              "          document.querySelector('#df-13680328-fb8c-4a65-bb48-9fd42dcd0a6a button.colab-df-convert');\n",
              "        buttonEl.style.display =\n",
              "          google.colab.kernel.accessAllowed ? 'block' : 'none';\n",
              "\n",
              "        async function convertToInteractive(key) {\n",
              "          const element = document.querySelector('#df-13680328-fb8c-4a65-bb48-9fd42dcd0a6a');\n",
              "          const dataTable =\n",
              "            await google.colab.kernel.invokeFunction('convertToInteractive',\n",
              "                                                     [key], {});\n",
              "          if (!dataTable) return;\n",
              "\n",
              "          const docLinkHtml = 'Like what you see? Visit the ' +\n",
              "            '<a target=\"_blank\" href=https://colab.research.google.com/notebooks/data_table.ipynb>data table notebook</a>'\n",
              "            + ' to learn more about interactive tables.';\n",
              "          element.innerHTML = '';\n",
              "          dataTable['output_type'] = 'display_data';\n",
              "          await google.colab.output.renderOutput(dataTable, element);\n",
              "          const docLink = document.createElement('div');\n",
              "          docLink.innerHTML = docLinkHtml;\n",
              "          element.appendChild(docLink);\n",
              "        }\n",
              "      </script>\n",
              "    </div>\n",
              "  </div>\n",
              "  "
            ],
            "text/plain": [
              "                 UNIQUE_ID               POSITION_TITLE  ...   HIRE_DATE    JOB_DATE\n",
              "RACE                                                     ...                        \n",
              "Hispanic/Latino          0  ASSISTANT DIRECTOR (EX LVL)  ...  2006-06-12  2012-10-13\n",
              "Hispanic/Latino          1            LIBRARY ASSISTANT  ...  2000-07-19  2010-09-18\n",
              "White                    2               POLICE OFFICER  ...  2015-02-03  2015-02-03\n",
              "\n",
              "[3 rows x 9 columns]"
            ]
          },
          "metadata": {},
          "execution_count": 22
        }
      ]
    },
    {
      "cell_type": "markdown",
      "source": [
        "Select the BASE_SALARY column as two different Series. Check to see whether this\n",
        "operation created two new objects:"
      ],
      "metadata": {
        "id": "rNyzcnEahxSL"
      }
    },
    {
      "cell_type": "code",
      "source": [
        "salary_1 = employee['BASE_SALARY']\n",
        "salary_2 = employee['BASE_SALARY']\n",
        "salary_1 is salary_2"
      ],
      "metadata": {
        "colab": {
          "base_uri": "https://localhost:8080/"
        },
        "id": "DxZYnZY5ho38",
        "outputId": "86318c77-8bf5-40b4-f489-47876140de87"
      },
      "execution_count": 23,
      "outputs": [
        {
          "output_type": "execute_result",
          "data": {
            "text/plain": [
              "True"
            ]
          },
          "metadata": {},
          "execution_count": 23
        }
      ]
    },
    {
      "cell_type": "code",
      "source": [
        "salary_2 = employee['BASE_SALARY'].copy()\n",
        "salary_1 is salary_2"
      ],
      "metadata": {
        "colab": {
          "base_uri": "https://localhost:8080/"
        },
        "id": "LbH9k4rRiDYW",
        "outputId": "26561a21-4d62-42a4-b265-8ae4c5930103"
      },
      "execution_count": 24,
      "outputs": [
        {
          "output_type": "execute_result",
          "data": {
            "text/plain": [
              "False"
            ]
          },
          "metadata": {},
          "execution_count": 24
        }
      ]
    },
    {
      "cell_type": "markdown",
      "source": [
        "Let's change the order of the index for one of the Series by sorting it:"
      ],
      "metadata": {
        "id": "fEnjkN5ZicBd"
      }
    },
    {
      "cell_type": "code",
      "source": [
        "salary_1 = salary_1.sort_index()\n",
        "salary_1.head(3)"
      ],
      "metadata": {
        "colab": {
          "base_uri": "https://localhost:8080/"
        },
        "id": "9E367DLgiT-B",
        "outputId": "52d21569-419f-46d8-9d7d-df48d4674f04"
      },
      "execution_count": 25,
      "outputs": [
        {
          "output_type": "execute_result",
          "data": {
            "text/plain": [
              "RACE\n",
              "American Indian or Alaskan Native    78355.0\n",
              "American Indian or Alaskan Native    26125.0\n",
              "American Indian or Alaskan Native    98536.0\n",
              "Name: BASE_SALARY, dtype: float64"
            ]
          },
          "metadata": {},
          "execution_count": 25
        }
      ]
    },
    {
      "cell_type": "code",
      "source": [
        "salary_2.head(3)"
      ],
      "metadata": {
        "colab": {
          "base_uri": "https://localhost:8080/"
        },
        "id": "K9OXEAVKiki2",
        "outputId": "d6166c73-9144-40e7-d322-fb4b3cebe91b"
      },
      "execution_count": 27,
      "outputs": [
        {
          "output_type": "execute_result",
          "data": {
            "text/plain": [
              "RACE\n",
              "Hispanic/Latino    121862.0\n",
              "Hispanic/Latino     26125.0\n",
              "White               45279.0\n",
              "Name: BASE_SALARY, dtype: float64"
            ]
          },
          "metadata": {},
          "execution_count": 27
        }
      ]
    },
    {
      "cell_type": "markdown",
      "source": [
        "Let's add these salary Series together"
      ],
      "metadata": {
        "id": "yLlIRGmNjAz-"
      }
    },
    {
      "cell_type": "code",
      "source": [
        "salary_add = salary_1 + salary_2\n",
        "salary_add.head()"
      ],
      "metadata": {
        "colab": {
          "base_uri": "https://localhost:8080/"
        },
        "id": "Z8x5G077i5F3",
        "outputId": "784d4bab-748a-457a-bdd9-d628665bf70e"
      },
      "execution_count": 28,
      "outputs": [
        {
          "output_type": "execute_result",
          "data": {
            "text/plain": [
              "RACE\n",
              "American Indian or Alaskan Native    138702.0\n",
              "American Indian or Alaskan Native    156710.0\n",
              "American Indian or Alaskan Native    176891.0\n",
              "American Indian or Alaskan Native    159594.0\n",
              "American Indian or Alaskan Native    127734.0\n",
              "Name: BASE_SALARY, dtype: float64"
            ]
          },
          "metadata": {},
          "execution_count": 28
        }
      ]
    },
    {
      "cell_type": "markdown",
      "source": [
        "Let's create one more Series of salary1\n",
        "added to itself and then output the lengths of each Series."
      ],
      "metadata": {
        "id": "6S2MY-RXjY4o"
      }
    },
    {
      "cell_type": "code",
      "source": [
        "salary_add_1 = salary_1 + salary_1\n",
        "len(salary_1), len(salary_2), len(salary_add), len(salary_add_1)"
      ],
      "metadata": {
        "colab": {
          "base_uri": "https://localhost:8080/"
        },
        "id": "t0UFLM7MjHTI",
        "outputId": "40ee0ec5-0247-4e61-b0e4-d8b0da2f35be"
      },
      "execution_count": 29,
      "outputs": [
        {
          "output_type": "execute_result",
          "data": {
            "text/plain": [
              "(2000, 2000, 1175424, 2000)"
            ]
          },
          "metadata": {},
          "execution_count": 29
        }
      ]
    },
    {
      "cell_type": "markdown",
      "source": [
        "## Filling values with unequal indexes\n",
        "add together multiple Series from the baseball dataset with unequal (but\n",
        "unique) indexes using the .add method with the fill_value parameter to ensure that\n",
        "there are no missing values in the result."
      ],
      "metadata": {
        "id": "IDQiBIuykuO-"
      }
    },
    {
      "cell_type": "markdown",
      "source": [
        "Read in the three baseball datasets and set playerID as the index"
      ],
      "metadata": {
        "id": "fjFgH89UpQ4J"
      }
    },
    {
      "cell_type": "code",
      "source": [
        "baseball_14 = pd.read_csv('./baseball14.csv', index_col='playerID')\n",
        "baseball_15 = pd.read_csv('./baseball15.csv', index_col='playerID')\n",
        "baseball_16 = pd.read_csv('./baseball16.csv', index_col='playerID')"
      ],
      "metadata": {
        "id": "gNWtyLQNjmr6"
      },
      "execution_count": 30,
      "outputs": []
    },
    {
      "cell_type": "code",
      "source": [
        "baseball_14.head()"
      ],
      "metadata": {
        "colab": {
          "base_uri": "https://localhost:8080/",
          "height": 238
        },
        "id": "SVi_krSWp9V5",
        "outputId": "49fb82b0-6e85-4f20-eea2-6c235e1bc8c5"
      },
      "execution_count": 31,
      "outputs": [
        {
          "output_type": "execute_result",
          "data": {
            "text/html": [
              "\n",
              "  <div id=\"df-b7e55675-6db7-47ef-926d-7c4b33fd7293\">\n",
              "    <div class=\"colab-df-container\">\n",
              "      <div>\n",
              "<style scoped>\n",
              "    .dataframe tbody tr th:only-of-type {\n",
              "        vertical-align: middle;\n",
              "    }\n",
              "\n",
              "    .dataframe tbody tr th {\n",
              "        vertical-align: top;\n",
              "    }\n",
              "\n",
              "    .dataframe thead th {\n",
              "        text-align: right;\n",
              "    }\n",
              "</style>\n",
              "<table border=\"1\" class=\"dataframe\">\n",
              "  <thead>\n",
              "    <tr style=\"text-align: right;\">\n",
              "      <th></th>\n",
              "      <th>yearID</th>\n",
              "      <th>stint</th>\n",
              "      <th>teamID</th>\n",
              "      <th>lgID</th>\n",
              "      <th>G</th>\n",
              "      <th>AB</th>\n",
              "      <th>R</th>\n",
              "      <th>H</th>\n",
              "      <th>2B</th>\n",
              "      <th>3B</th>\n",
              "      <th>HR</th>\n",
              "      <th>RBI</th>\n",
              "      <th>SB</th>\n",
              "      <th>CS</th>\n",
              "      <th>BB</th>\n",
              "      <th>SO</th>\n",
              "      <th>IBB</th>\n",
              "      <th>HBP</th>\n",
              "      <th>SH</th>\n",
              "      <th>SF</th>\n",
              "      <th>GIDP</th>\n",
              "    </tr>\n",
              "    <tr>\n",
              "      <th>playerID</th>\n",
              "      <th></th>\n",
              "      <th></th>\n",
              "      <th></th>\n",
              "      <th></th>\n",
              "      <th></th>\n",
              "      <th></th>\n",
              "      <th></th>\n",
              "      <th></th>\n",
              "      <th></th>\n",
              "      <th></th>\n",
              "      <th></th>\n",
              "      <th></th>\n",
              "      <th></th>\n",
              "      <th></th>\n",
              "      <th></th>\n",
              "      <th></th>\n",
              "      <th></th>\n",
              "      <th></th>\n",
              "      <th></th>\n",
              "      <th></th>\n",
              "      <th></th>\n",
              "    </tr>\n",
              "  </thead>\n",
              "  <tbody>\n",
              "    <tr>\n",
              "      <th>altuvjo01</th>\n",
              "      <td>2014</td>\n",
              "      <td>1</td>\n",
              "      <td>HOU</td>\n",
              "      <td>AL</td>\n",
              "      <td>158</td>\n",
              "      <td>660</td>\n",
              "      <td>85</td>\n",
              "      <td>225</td>\n",
              "      <td>47</td>\n",
              "      <td>3</td>\n",
              "      <td>7</td>\n",
              "      <td>59.0</td>\n",
              "      <td>56.0</td>\n",
              "      <td>9.0</td>\n",
              "      <td>36</td>\n",
              "      <td>53.0</td>\n",
              "      <td>7.0</td>\n",
              "      <td>5.0</td>\n",
              "      <td>1.0</td>\n",
              "      <td>5.0</td>\n",
              "      <td>20.0</td>\n",
              "    </tr>\n",
              "    <tr>\n",
              "      <th>cartech02</th>\n",
              "      <td>2014</td>\n",
              "      <td>1</td>\n",
              "      <td>HOU</td>\n",
              "      <td>AL</td>\n",
              "      <td>145</td>\n",
              "      <td>507</td>\n",
              "      <td>68</td>\n",
              "      <td>115</td>\n",
              "      <td>21</td>\n",
              "      <td>1</td>\n",
              "      <td>37</td>\n",
              "      <td>88.0</td>\n",
              "      <td>5.0</td>\n",
              "      <td>2.0</td>\n",
              "      <td>56</td>\n",
              "      <td>182.0</td>\n",
              "      <td>6.0</td>\n",
              "      <td>5.0</td>\n",
              "      <td>0.0</td>\n",
              "      <td>4.0</td>\n",
              "      <td>12.0</td>\n",
              "    </tr>\n",
              "    <tr>\n",
              "      <th>castrja01</th>\n",
              "      <td>2014</td>\n",
              "      <td>1</td>\n",
              "      <td>HOU</td>\n",
              "      <td>AL</td>\n",
              "      <td>126</td>\n",
              "      <td>465</td>\n",
              "      <td>43</td>\n",
              "      <td>103</td>\n",
              "      <td>21</td>\n",
              "      <td>2</td>\n",
              "      <td>14</td>\n",
              "      <td>56.0</td>\n",
              "      <td>1.0</td>\n",
              "      <td>0.0</td>\n",
              "      <td>34</td>\n",
              "      <td>151.0</td>\n",
              "      <td>1.0</td>\n",
              "      <td>9.0</td>\n",
              "      <td>1.0</td>\n",
              "      <td>3.0</td>\n",
              "      <td>11.0</td>\n",
              "    </tr>\n",
              "    <tr>\n",
              "      <th>corpoca01</th>\n",
              "      <td>2014</td>\n",
              "      <td>1</td>\n",
              "      <td>HOU</td>\n",
              "      <td>AL</td>\n",
              "      <td>55</td>\n",
              "      <td>170</td>\n",
              "      <td>22</td>\n",
              "      <td>40</td>\n",
              "      <td>6</td>\n",
              "      <td>0</td>\n",
              "      <td>6</td>\n",
              "      <td>19.0</td>\n",
              "      <td>0.0</td>\n",
              "      <td>0.0</td>\n",
              "      <td>14</td>\n",
              "      <td>37.0</td>\n",
              "      <td>0.0</td>\n",
              "      <td>3.0</td>\n",
              "      <td>1.0</td>\n",
              "      <td>2.0</td>\n",
              "      <td>3.0</td>\n",
              "    </tr>\n",
              "    <tr>\n",
              "      <th>dominma01</th>\n",
              "      <td>2014</td>\n",
              "      <td>1</td>\n",
              "      <td>HOU</td>\n",
              "      <td>AL</td>\n",
              "      <td>157</td>\n",
              "      <td>564</td>\n",
              "      <td>51</td>\n",
              "      <td>121</td>\n",
              "      <td>17</td>\n",
              "      <td>0</td>\n",
              "      <td>16</td>\n",
              "      <td>57.0</td>\n",
              "      <td>0.0</td>\n",
              "      <td>1.0</td>\n",
              "      <td>29</td>\n",
              "      <td>125.0</td>\n",
              "      <td>2.0</td>\n",
              "      <td>5.0</td>\n",
              "      <td>2.0</td>\n",
              "      <td>7.0</td>\n",
              "      <td>23.0</td>\n",
              "    </tr>\n",
              "  </tbody>\n",
              "</table>\n",
              "</div>\n",
              "      <button class=\"colab-df-convert\" onclick=\"convertToInteractive('df-b7e55675-6db7-47ef-926d-7c4b33fd7293')\"\n",
              "              title=\"Convert this dataframe to an interactive table.\"\n",
              "              style=\"display:none;\">\n",
              "        \n",
              "  <svg xmlns=\"http://www.w3.org/2000/svg\" height=\"24px\"viewBox=\"0 0 24 24\"\n",
              "       width=\"24px\">\n",
              "    <path d=\"M0 0h24v24H0V0z\" fill=\"none\"/>\n",
              "    <path d=\"M18.56 5.44l.94 2.06.94-2.06 2.06-.94-2.06-.94-.94-2.06-.94 2.06-2.06.94zm-11 1L8.5 8.5l.94-2.06 2.06-.94-2.06-.94L8.5 2.5l-.94 2.06-2.06.94zm10 10l.94 2.06.94-2.06 2.06-.94-2.06-.94-.94-2.06-.94 2.06-2.06.94z\"/><path d=\"M17.41 7.96l-1.37-1.37c-.4-.4-.92-.59-1.43-.59-.52 0-1.04.2-1.43.59L10.3 9.45l-7.72 7.72c-.78.78-.78 2.05 0 2.83L4 21.41c.39.39.9.59 1.41.59.51 0 1.02-.2 1.41-.59l7.78-7.78 2.81-2.81c.8-.78.8-2.07 0-2.86zM5.41 20L4 18.59l7.72-7.72 1.47 1.35L5.41 20z\"/>\n",
              "  </svg>\n",
              "      </button>\n",
              "      \n",
              "  <style>\n",
              "    .colab-df-container {\n",
              "      display:flex;\n",
              "      flex-wrap:wrap;\n",
              "      gap: 12px;\n",
              "    }\n",
              "\n",
              "    .colab-df-convert {\n",
              "      background-color: #E8F0FE;\n",
              "      border: none;\n",
              "      border-radius: 50%;\n",
              "      cursor: pointer;\n",
              "      display: none;\n",
              "      fill: #1967D2;\n",
              "      height: 32px;\n",
              "      padding: 0 0 0 0;\n",
              "      width: 32px;\n",
              "    }\n",
              "\n",
              "    .colab-df-convert:hover {\n",
              "      background-color: #E2EBFA;\n",
              "      box-shadow: 0px 1px 2px rgba(60, 64, 67, 0.3), 0px 1px 3px 1px rgba(60, 64, 67, 0.15);\n",
              "      fill: #174EA6;\n",
              "    }\n",
              "\n",
              "    [theme=dark] .colab-df-convert {\n",
              "      background-color: #3B4455;\n",
              "      fill: #D2E3FC;\n",
              "    }\n",
              "\n",
              "    [theme=dark] .colab-df-convert:hover {\n",
              "      background-color: #434B5C;\n",
              "      box-shadow: 0px 1px 3px 1px rgba(0, 0, 0, 0.15);\n",
              "      filter: drop-shadow(0px 1px 2px rgba(0, 0, 0, 0.3));\n",
              "      fill: #FFFFFF;\n",
              "    }\n",
              "  </style>\n",
              "\n",
              "      <script>\n",
              "        const buttonEl =\n",
              "          document.querySelector('#df-b7e55675-6db7-47ef-926d-7c4b33fd7293 button.colab-df-convert');\n",
              "        buttonEl.style.display =\n",
              "          google.colab.kernel.accessAllowed ? 'block' : 'none';\n",
              "\n",
              "        async function convertToInteractive(key) {\n",
              "          const element = document.querySelector('#df-b7e55675-6db7-47ef-926d-7c4b33fd7293');\n",
              "          const dataTable =\n",
              "            await google.colab.kernel.invokeFunction('convertToInteractive',\n",
              "                                                     [key], {});\n",
              "          if (!dataTable) return;\n",
              "\n",
              "          const docLinkHtml = 'Like what you see? Visit the ' +\n",
              "            '<a target=\"_blank\" href=https://colab.research.google.com/notebooks/data_table.ipynb>data table notebook</a>'\n",
              "            + ' to learn more about interactive tables.';\n",
              "          element.innerHTML = '';\n",
              "          dataTable['output_type'] = 'display_data';\n",
              "          await google.colab.output.renderOutput(dataTable, element);\n",
              "          const docLink = document.createElement('div');\n",
              "          docLink.innerHTML = docLinkHtml;\n",
              "          element.appendChild(docLink);\n",
              "        }\n",
              "      </script>\n",
              "    </div>\n",
              "  </div>\n",
              "  "
            ],
            "text/plain": [
              "           yearID  stint teamID lgID    G   AB  ...     SO  IBB  HBP   SH   SF  GIDP\n",
              "playerID                                        ...                                 \n",
              "altuvjo01    2014      1    HOU   AL  158  660  ...   53.0  7.0  5.0  1.0  5.0  20.0\n",
              "cartech02    2014      1    HOU   AL  145  507  ...  182.0  6.0  5.0  0.0  4.0  12.0\n",
              "castrja01    2014      1    HOU   AL  126  465  ...  151.0  1.0  9.0  1.0  3.0  11.0\n",
              "corpoca01    2014      1    HOU   AL   55  170  ...   37.0  0.0  3.0  1.0  2.0   3.0\n",
              "dominma01    2014      1    HOU   AL  157  564  ...  125.0  2.0  5.0  2.0  7.0  23.0\n",
              "\n",
              "[5 rows x 21 columns]"
            ]
          },
          "metadata": {},
          "execution_count": 31
        }
      ]
    },
    {
      "cell_type": "markdown",
      "source": [
        "Use the .difference method on the index to discover which index labels are in\n",
        "baseball_14 and not in baseball_15, and vice versa"
      ],
      "metadata": {
        "id": "GvcUHpCsqWy8"
      }
    },
    {
      "cell_type": "code",
      "source": [
        "baseball_14.index.difference(baseball_15.index)"
      ],
      "metadata": {
        "colab": {
          "base_uri": "https://localhost:8080/"
        },
        "id": "JhIB5y5xqAH4",
        "outputId": "47e5569f-4c3b-4dad-c119-80efe6ecefb4"
      },
      "execution_count": 34,
      "outputs": [
        {
          "output_type": "execute_result",
          "data": {
            "text/plain": [
              "Index(['corpoca01', 'dominma01', 'fowlede01', 'grossro01', 'guzmaje01',\n",
              "       'hoeslj01', 'krausma01', 'preslal01', 'singljo02'],\n",
              "      dtype='object', name='playerID')"
            ]
          },
          "metadata": {},
          "execution_count": 34
        }
      ]
    },
    {
      "cell_type": "code",
      "source": [
        "baseball_15.index.difference(baseball_14.index)\n"
      ],
      "metadata": {
        "colab": {
          "base_uri": "https://localhost:8080/"
        },
        "id": "cbgs2GfaqfKX",
        "outputId": "428abb6e-680d-4ede-ee42-6511b3670ed7"
      },
      "execution_count": 35,
      "outputs": [
        {
          "output_type": "execute_result",
          "data": {
            "text/plain": [
              "Index(['congeha01', 'correca01', 'gattiev01', 'gomezca01', 'lowrije01',\n",
              "       'rasmuco01', 'tuckepr01', 'valbulu01'],\n",
              "      dtype='object', name='playerID')"
            ]
          },
          "metadata": {},
          "execution_count": 35
        }
      ]
    },
    {
      "cell_type": "markdown",
      "source": [
        "There are quite a few players unique to each index. Let's find out how many hits each\n",
        "player has in total over the three-year period. The H column contains the number of\n",
        "hits:"
      ],
      "metadata": {
        "id": "t4lrCIdHrFX1"
      }
    },
    {
      "cell_type": "code",
      "source": [
        "hits_14 = baseball_14['H']\n",
        "hits_15 = baseball_15['H']\n",
        "hits_16 = baseball_16['H']\n",
        "hits_14.head()"
      ],
      "metadata": {
        "colab": {
          "base_uri": "https://localhost:8080/"
        },
        "id": "zqTvgG0iqnJX",
        "outputId": "ec18fb41-faf4-4360-ed07-801cbc2cf143"
      },
      "execution_count": 36,
      "outputs": [
        {
          "output_type": "execute_result",
          "data": {
            "text/plain": [
              "playerID\n",
              "altuvjo01    225\n",
              "cartech02    115\n",
              "castrja01    103\n",
              "corpoca01     40\n",
              "dominma01    121\n",
              "Name: H, dtype: int64"
            ]
          },
          "metadata": {},
          "execution_count": 36
        }
      ]
    },
    {
      "cell_type": "markdown",
      "source": [
        "Let's first add together two Series using the plus operator"
      ],
      "metadata": {
        "id": "utmjHPdkrj8I"
      }
    },
    {
      "cell_type": "code",
      "source": [
        "(hits_14 + hits_15).head()"
      ],
      "metadata": {
        "colab": {
          "base_uri": "https://localhost:8080/"
        },
        "id": "MuxGhHCjrbfa",
        "outputId": "0aca7cde-668e-42d0-cff6-4ddc94bd0d43"
      },
      "execution_count": 37,
      "outputs": [
        {
          "output_type": "execute_result",
          "data": {
            "text/plain": [
              "playerID\n",
              "altuvjo01    425.0\n",
              "cartech02    193.0\n",
              "castrja01    174.0\n",
              "congeha01      NaN\n",
              "corpoca01      NaN\n",
              "Name: H, dtype: float64"
            ]
          },
          "metadata": {},
          "execution_count": 37
        }
      ]
    },
    {
      "cell_type": "markdown",
      "source": [
        "Even though players congeha01 and corpoca01 have values for 2015, their result\n",
        "is missing. Let's use the .add method with the fill_value parameter to avoid\n",
        "missing values:"
      ],
      "metadata": {
        "id": "wxcta7zXr1Nd"
      }
    },
    {
      "cell_type": "code",
      "source": [
        "hits_14.add(hits_15, fill_value=0).head()"
      ],
      "metadata": {
        "colab": {
          "base_uri": "https://localhost:8080/"
        },
        "id": "_jXc5bE3rrod",
        "outputId": "d71df20e-4e26-4321-dd9e-d32e79388a7e"
      },
      "execution_count": 38,
      "outputs": [
        {
          "output_type": "execute_result",
          "data": {
            "text/plain": [
              "playerID\n",
              "altuvjo01    425.0\n",
              "cartech02    193.0\n",
              "castrja01    174.0\n",
              "congeha01     46.0\n",
              "corpoca01     40.0\n",
              "Name: H, dtype: float64"
            ]
          },
          "metadata": {},
          "execution_count": 38
        }
      ]
    },
    {
      "cell_type": "markdown",
      "source": [
        "Add hits from 2016 by chaining the add method once more:"
      ],
      "metadata": {
        "id": "20Q8c7HisQ47"
      }
    },
    {
      "cell_type": "code",
      "source": [
        "hits_total = hits_14.add(hits_15, fill_value=0).add(hits_16, fill_value=0)\n",
        "hits_total.head()"
      ],
      "metadata": {
        "colab": {
          "base_uri": "https://localhost:8080/"
        },
        "id": "yPg_4mlXsADy",
        "outputId": "2796d4cd-6417-4395-dd3d-93fb807198bc"
      },
      "execution_count": 39,
      "outputs": [
        {
          "output_type": "execute_result",
          "data": {
            "text/plain": [
              "playerID\n",
              "altuvjo01    641.0\n",
              "bregmal01     53.0\n",
              "cartech02    193.0\n",
              "castrja01    243.0\n",
              "congeha01     46.0\n",
              "Name: H, dtype: float64"
            ]
          },
          "metadata": {},
          "execution_count": 39
        }
      ]
    },
    {
      "cell_type": "markdown",
      "source": [
        "Check for missing values in the result"
      ],
      "metadata": {
        "id": "UbYSoir6ssBK"
      }
    },
    {
      "cell_type": "code",
      "source": [
        "hits_total.hasnans"
      ],
      "metadata": {
        "colab": {
          "base_uri": "https://localhost:8080/"
        },
        "id": "hp0OjRNBsmva",
        "outputId": "1d7560a1-8be5-4fc4-b8fa-f297c47d62a5"
      },
      "execution_count": 41,
      "outputs": [
        {
          "output_type": "execute_result",
          "data": {
            "text/plain": [
              "False"
            ]
          },
          "metadata": {},
          "execution_count": 41
        }
      ]
    },
    {
      "cell_type": "code",
      "source": [
        ""
      ],
      "metadata": {
        "id": "l1cCuxg1svxB"
      },
      "execution_count": null,
      "outputs": []
    }
  ]
}