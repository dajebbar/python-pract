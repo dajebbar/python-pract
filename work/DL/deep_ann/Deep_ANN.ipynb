{
  "nbformat": 4,
  "nbformat_minor": 0,
  "metadata": {
    "colab": {
      "name": "Deep_ANN.ipynb",
      "provenance": []
    },
    "kernelspec": {
      "name": "python3",
      "display_name": "Python 3"
    },
    "language_info": {
      "name": "python"
    }
  },
  "cells": [
    {
      "cell_type": "code",
      "execution_count": 1,
      "metadata": {
        "id": "gtK7Ja16glhW"
      },
      "outputs": [],
      "source": [
        "import numpy as np\n",
        "import matplotlib.pyplot as plt\n",
        "from sklearn.datasets import make_blobs, make_circles\n",
        "from sklearn.metrics import accuracy_score, log_loss\n",
        "from tqdm import tqdm\n",
        "plt.style.use('ggplot')\n",
        "%matplotlib inline"
      ]
    },
    {
      "cell_type": "markdown",
      "source": [
        "# Functions"
      ],
      "metadata": {
        "id": "uZDlWlOhhQts"
      }
    },
    {
      "cell_type": "code",
      "source": [
        "def initialize(dimensions):\n",
        "  parameters = {}\n",
        "  layers = len(dimensions)\n",
        "\n",
        "  for layer in range(1, layers):\n",
        "    parameters[f'W{layer}'] = np.random.randn(\n",
        "        dimensions[layer], \n",
        "        dimensions[layer-1]\n",
        "        )\n",
        "    parameters[f'b{layer}'] = np.random.randn(dimensions[layer], 1)\n",
        "  \n",
        "  return parameters"
      ],
      "metadata": {
        "id": "OxlLUFJjhOOd"
      },
      "execution_count": 2,
      "outputs": []
    },
    {
      "cell_type": "code",
      "source": [
        ""
      ],
      "metadata": {
        "id": "LVvRcwUHieQR"
      },
      "execution_count": null,
      "outputs": []
    }
  ]
}