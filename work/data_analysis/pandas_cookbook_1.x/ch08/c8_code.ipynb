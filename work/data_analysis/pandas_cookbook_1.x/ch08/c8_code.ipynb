{
  "nbformat": 4,
  "nbformat_minor": 0,
  "metadata": {
    "colab": {
      "name": "c8_code.ipynb",
      "provenance": [],
      "collapsed_sections": []
    },
    "kernelspec": {
      "name": "python3",
      "display_name": "Python 3"
    },
    "language_info": {
      "name": "python"
    }
  },
  "cells": [
    {
      "cell_type": "markdown",
      "source": [
        "---\n",
        "# Index Alignment\n",
        "---"
      ],
      "metadata": {
        "id": "5OlvQ70HOGD5"
      }
    },
    {
      "cell_type": "markdown",
      "source": [
        "## Examining the Index object\n",
        "All Index objects, except for the MultiIndex, are single-dimensional data structures that combine the functionality of Python sets and NumPy ndarrays."
      ],
      "metadata": {
        "id": "TzGR6MaxQ13p"
      }
    },
    {
      "cell_type": "markdown",
      "source": [
        "Examine the column index of the college dataset and explore much\n",
        "of its functionality.  \n",
        "Read in the college dataset, and create a variable columns that holds the column index"
      ],
      "metadata": {
        "id": "AV9ImOLPRVX_"
      }
    },
    {
      "cell_type": "code",
      "execution_count": 1,
      "metadata": {
        "id": "H35ERNuYN61W"
      },
      "outputs": [],
      "source": [
        "import numpy as np\n",
        "import pandas as pd"
      ]
    },
    {
      "cell_type": "code",
      "source": [
        "college = pd.read_csv('./college.csv')\n",
        "cols = college.columns\n",
        "cols"
      ],
      "metadata": {
        "colab": {
          "base_uri": "https://localhost:8080/"
        },
        "id": "TYuw2ssuR0Kg",
        "outputId": "2e3ce0a0-bcaa-4c4c-9783-ce265da662db"
      },
      "execution_count": 2,
      "outputs": [
        {
          "output_type": "execute_result",
          "data": {
            "text/plain": [
              "Index(['INSTNM', 'CITY', 'STABBR', 'HBCU', 'MENONLY', 'WOMENONLY', 'RELAFFIL',\n",
              "       'SATVRMID', 'SATMTMID', 'DISTANCEONLY', 'UGDS', 'UGDS_WHITE',\n",
              "       'UGDS_BLACK', 'UGDS_HISP', 'UGDS_ASIAN', 'UGDS_AIAN', 'UGDS_NHPI',\n",
              "       'UGDS_2MOR', 'UGDS_NRA', 'UGDS_UNKN', 'PPTUG_EF', 'CURROPER', 'PCTPELL',\n",
              "       'PCTFLOAN', 'UG25ABV', 'MD_EARN_WNE_P10', 'GRAD_DEBT_MDN_SUPP'],\n",
              "      dtype='object')"
            ]
          },
          "metadata": {},
          "execution_count": 2
        }
      ]
    },
    {
      "cell_type": "markdown",
      "source": [
        "Use the `.values` attribute to access the underlying NumPy array"
      ],
      "metadata": {
        "id": "igp1tAnCSLjh"
      }
    },
    {
      "cell_type": "code",
      "source": [
        "cols.values"
      ],
      "metadata": {
        "colab": {
          "base_uri": "https://localhost:8080/"
        },
        "id": "egi8L4u2SA8U",
        "outputId": "20e79ee7-ba9e-4c60-bd3d-149c637f7624"
      },
      "execution_count": 3,
      "outputs": [
        {
          "output_type": "execute_result",
          "data": {
            "text/plain": [
              "array(['INSTNM', 'CITY', 'STABBR', 'HBCU', 'MENONLY', 'WOMENONLY',\n",
              "       'RELAFFIL', 'SATVRMID', 'SATMTMID', 'DISTANCEONLY', 'UGDS',\n",
              "       'UGDS_WHITE', 'UGDS_BLACK', 'UGDS_HISP', 'UGDS_ASIAN', 'UGDS_AIAN',\n",
              "       'UGDS_NHPI', 'UGDS_2MOR', 'UGDS_NRA', 'UGDS_UNKN', 'PPTUG_EF',\n",
              "       'CURROPER', 'PCTPELL', 'PCTFLOAN', 'UG25ABV', 'MD_EARN_WNE_P10',\n",
              "       'GRAD_DEBT_MDN_SUPP'], dtype=object)"
            ]
          },
          "metadata": {},
          "execution_count": 3
        }
      ]
    },
    {
      "cell_type": "markdown",
      "source": [
        "Select items from the index by position with a scalar, list, or slice"
      ],
      "metadata": {
        "id": "njysUm2zSoia"
      }
    },
    {
      "cell_type": "code",
      "source": [
        "cols[5]"
      ],
      "metadata": {
        "colab": {
          "base_uri": "https://localhost:8080/",
          "height": 35
        },
        "id": "luT75u_USP7T",
        "outputId": "7503e998-8bd1-4ca8-d1d2-5cdb4c06a010"
      },
      "execution_count": 4,
      "outputs": [
        {
          "output_type": "execute_result",
          "data": {
            "application/vnd.google.colaboratory.intrinsic+json": {
              "type": "string"
            },
            "text/plain": [
              "'WOMENONLY'"
            ]
          },
          "metadata": {},
          "execution_count": 4
        }
      ]
    },
    {
      "cell_type": "code",
      "source": [
        "cols[[1, 8, -1]]"
      ],
      "metadata": {
        "colab": {
          "base_uri": "https://localhost:8080/"
        },
        "id": "ptKneCNvSq6E",
        "outputId": "8d1a1f90-692c-448a-8442-ce9a6bc43355"
      },
      "execution_count": 5,
      "outputs": [
        {
          "output_type": "execute_result",
          "data": {
            "text/plain": [
              "Index(['CITY', 'SATMTMID', 'GRAD_DEBT_MDN_SUPP'], dtype='object')"
            ]
          },
          "metadata": {},
          "execution_count": 5
        }
      ]
    },
    {
      "cell_type": "code",
      "source": [
        "cols[2:6]"
      ],
      "metadata": {
        "colab": {
          "base_uri": "https://localhost:8080/"
        },
        "id": "VWmR9ZK-Sv7o",
        "outputId": "59e54e60-41e3-44a7-c0ad-d109d0d6b05c"
      },
      "execution_count": 6,
      "outputs": [
        {
          "output_type": "execute_result",
          "data": {
            "text/plain": [
              "Index(['STABBR', 'HBCU', 'MENONLY', 'WOMENONLY'], dtype='object')"
            ]
          },
          "metadata": {},
          "execution_count": 6
        }
      ]
    },
    {
      "cell_type": "markdown",
      "source": [
        "Indexes share many of the same methods as Series and DataFrames:"
      ],
      "metadata": {
        "id": "HpXHDc1QTDdn"
      }
    },
    {
      "cell_type": "code",
      "source": [
        "cols.min(), cols.max(), cols.isnull().sum(), cols.value_counts().sum()"
      ],
      "metadata": {
        "colab": {
          "base_uri": "https://localhost:8080/"
        },
        "id": "82eCYyABS8K_",
        "outputId": "1719d157-8047-41cf-cf42-e891f2205e4e"
      },
      "execution_count": 7,
      "outputs": [
        {
          "output_type": "execute_result",
          "data": {
            "text/plain": [
              "('CITY', 'WOMENONLY', 0, 27)"
            ]
          },
          "metadata": {},
          "execution_count": 7
        }
      ]
    },
    {
      "cell_type": "markdown",
      "source": [
        " Basic arithmetic and comparison operators on Index objects"
      ],
      "metadata": {
        "id": "ZOViETjLTb2x"
      }
    },
    {
      "cell_type": "code",
      "source": [
        "cols + '_A'"
      ],
      "metadata": {
        "colab": {
          "base_uri": "https://localhost:8080/"
        },
        "id": "6lrg7LdjTPzS",
        "outputId": "6fa7b583-ab6f-4022-94fd-58feb37fc020"
      },
      "execution_count": 8,
      "outputs": [
        {
          "output_type": "execute_result",
          "data": {
            "text/plain": [
              "Index(['INSTNM_A', 'CITY_A', 'STABBR_A', 'HBCU_A', 'MENONLY_A', 'WOMENONLY_A',\n",
              "       'RELAFFIL_A', 'SATVRMID_A', 'SATMTMID_A', 'DISTANCEONLY_A', 'UGDS_A',\n",
              "       'UGDS_WHITE_A', 'UGDS_BLACK_A', 'UGDS_HISP_A', 'UGDS_ASIAN_A',\n",
              "       'UGDS_AIAN_A', 'UGDS_NHPI_A', 'UGDS_2MOR_A', 'UGDS_NRA_A',\n",
              "       'UGDS_UNKN_A', 'PPTUG_EF_A', 'CURROPER_A', 'PCTPELL_A', 'PCTFLOAN_A',\n",
              "       'UG25ABV_A', 'MD_EARN_WNE_P10_A', 'GRAD_DEBT_MDN_SUPP_A'],\n",
              "      dtype='object')"
            ]
          },
          "metadata": {},
          "execution_count": 8
        }
      ]
    },
    {
      "cell_type": "code",
      "source": [
        "cols > 'G'"
      ],
      "metadata": {
        "colab": {
          "base_uri": "https://localhost:8080/"
        },
        "id": "r_nEVnNTTj3Y",
        "outputId": "4ce025cd-9d5c-439a-92ae-a34a31ad8fa6"
      },
      "execution_count": 9,
      "outputs": [
        {
          "output_type": "execute_result",
          "data": {
            "text/plain": [
              "array([ True, False,  True,  True,  True,  True,  True,  True,  True,\n",
              "       False,  True,  True,  True,  True,  True,  True,  True,  True,\n",
              "        True,  True,  True, False,  True,  True,  True,  True,  True])"
            ]
          },
          "metadata": {},
          "execution_count": 9
        }
      ]
    },
    {
      "cell_type": "code",
      "source": [
        "uniq, cnt = np.unique((cols > 'G'), return_counts=True)  \n",
        "dict(zip(uniq, cnt))"
      ],
      "metadata": {
        "colab": {
          "base_uri": "https://localhost:8080/"
        },
        "id": "9CAQ1cV6Tq_a",
        "outputId": "1326b86d-269f-444b-b133-468b8402d0d8"
      },
      "execution_count": 10,
      "outputs": [
        {
          "output_type": "execute_result",
          "data": {
            "text/plain": [
              "{False: 3, True: 24}"
            ]
          },
          "metadata": {},
          "execution_count": 10
        }
      ]
    },
    {
      "cell_type": "markdown",
      "source": [
        "Trying to change an Index value after its creation fails. Indexes are immutable\n",
        "objects:"
      ],
      "metadata": {
        "id": "L5HimO8jVIOH"
      }
    },
    {
      "cell_type": "code",
      "source": [
        "# cols[1] = 'city'"
      ],
      "metadata": {
        "id": "YgJjV56UTyBf"
      },
      "execution_count": 11,
      "outputs": []
    },
    {
      "cell_type": "markdown",
      "source": [
        "Indexes support the set operations—union, intersection, difference, and symmetric difference"
      ],
      "metadata": {
        "id": "LdodQYgrVr07"
      }
    },
    {
      "cell_type": "code",
      "source": [
        " c1 = cols[:4]\n",
        " c1"
      ],
      "metadata": {
        "colab": {
          "base_uri": "https://localhost:8080/"
        },
        "id": "3ejbv2-mVMOj",
        "outputId": "f9514ae6-fcd1-4788-a741-6ca3737fd62b"
      },
      "execution_count": 12,
      "outputs": [
        {
          "output_type": "execute_result",
          "data": {
            "text/plain": [
              "Index(['INSTNM', 'CITY', 'STABBR', 'HBCU'], dtype='object')"
            ]
          },
          "metadata": {},
          "execution_count": 12
        }
      ]
    },
    {
      "cell_type": "code",
      "source": [
        "c2 = cols[2:6]\n",
        "c2"
      ],
      "metadata": {
        "colab": {
          "base_uri": "https://localhost:8080/"
        },
        "id": "qq1308LZVv0X",
        "outputId": "b310f780-265b-4dcd-beb5-4d8590dde457"
      },
      "execution_count": 13,
      "outputs": [
        {
          "output_type": "execute_result",
          "data": {
            "text/plain": [
              "Index(['STABBR', 'HBCU', 'MENONLY', 'WOMENONLY'], dtype='object')"
            ]
          },
          "metadata": {},
          "execution_count": 13
        }
      ]
    },
    {
      "cell_type": "code",
      "source": [
        "c1.union(c2)"
      ],
      "metadata": {
        "colab": {
          "base_uri": "https://localhost:8080/"
        },
        "id": "e26Myy2CV1pX",
        "outputId": "c0372923-f15e-40db-b496-ef6a45df21ad"
      },
      "execution_count": 14,
      "outputs": [
        {
          "output_type": "execute_result",
          "data": {
            "text/plain": [
              "Index(['CITY', 'HBCU', 'INSTNM', 'MENONLY', 'STABBR', 'WOMENONLY'], dtype='object')"
            ]
          },
          "metadata": {},
          "execution_count": 14
        }
      ]
    },
    {
      "cell_type": "code",
      "source": [
        "c1 | c2"
      ],
      "metadata": {
        "colab": {
          "base_uri": "https://localhost:8080/"
        },
        "id": "yAdrRDI4V-IG",
        "outputId": "5aac759d-0ce1-4ab3-bc61-4f02c6f09dad"
      },
      "execution_count": 15,
      "outputs": [
        {
          "output_type": "execute_result",
          "data": {
            "text/plain": [
              "Index(['CITY', 'HBCU', 'INSTNM', 'MENONLY', 'STABBR', 'WOMENONLY'], dtype='object')"
            ]
          },
          "metadata": {},
          "execution_count": 15
        }
      ]
    },
    {
      "cell_type": "code",
      "source": [
        "c1.symmetric_difference(c2)"
      ],
      "metadata": {
        "colab": {
          "base_uri": "https://localhost:8080/"
        },
        "id": "NQSdrPvlWGnc",
        "outputId": "6a701c97-56eb-41d7-8aef-dfbe738c59f6"
      },
      "execution_count": 16,
      "outputs": [
        {
          "output_type": "execute_result",
          "data": {
            "text/plain": [
              "Index(['CITY', 'INSTNM', 'MENONLY', 'WOMENONLY'], dtype='object')"
            ]
          },
          "metadata": {},
          "execution_count": 16
        }
      ]
    },
    {
      "cell_type": "code",
      "source": [
        "c1 ^ c2"
      ],
      "metadata": {
        "colab": {
          "base_uri": "https://localhost:8080/"
        },
        "id": "BydD-NPdWMFb",
        "outputId": "c35d004f-f6ec-4337-f6e8-3fdd26defa3b"
      },
      "execution_count": 17,
      "outputs": [
        {
          "output_type": "execute_result",
          "data": {
            "text/plain": [
              "Index(['CITY', 'INSTNM', 'MENONLY', 'WOMENONLY'], dtype='object')"
            ]
          },
          "metadata": {},
          "execution_count": 17
        }
      ]
    },
    {
      "cell_type": "markdown",
      "source": [
        "## Producing Cartesian products\n",
        "Construct two Series that have indexes that are different but contain some of the\n",
        "same values:"
      ],
      "metadata": {
        "id": "A89uvFYMWkN6"
      }
    },
    {
      "cell_type": "code",
      "source": [
        "s1 = pd.Series(data=list(range(4)), index=list('aaab'))\n",
        "s1"
      ],
      "metadata": {
        "colab": {
          "base_uri": "https://localhost:8080/"
        },
        "id": "L1y1oFvXWQhv",
        "outputId": "a1559af0-f047-4d28-dded-0e17eed5499d"
      },
      "execution_count": 18,
      "outputs": [
        {
          "output_type": "execute_result",
          "data": {
            "text/plain": [
              "a    0\n",
              "a    1\n",
              "a    2\n",
              "b    3\n",
              "dtype: int64"
            ]
          },
          "metadata": {},
          "execution_count": 18
        }
      ]
    },
    {
      "cell_type": "code",
      "source": [
        "s2 = pd.Series(data=list(range(6)), index=list('cababb'))\n",
        "s2"
      ],
      "metadata": {
        "colab": {
          "base_uri": "https://localhost:8080/"
        },
        "id": "Cj6tftZgdXkM",
        "outputId": "c6c2e038-55f5-4321-d19b-cc72a4970f50"
      },
      "execution_count": 19,
      "outputs": [
        {
          "output_type": "execute_result",
          "data": {
            "text/plain": [
              "c    0\n",
              "a    1\n",
              "b    2\n",
              "a    3\n",
              "b    4\n",
              "b    5\n",
              "dtype: int64"
            ]
          },
          "metadata": {},
          "execution_count": 19
        }
      ]
    },
    {
      "cell_type": "markdown",
      "source": [
        "Add the two Series together to produce a Cartesian product.  For each a index value\n",
        "in s1, we add every a in s2"
      ],
      "metadata": {
        "id": "7HP9rjG5d3ZI"
      }
    },
    {
      "cell_type": "code",
      "source": [
        "s1 + s2"
      ],
      "metadata": {
        "colab": {
          "base_uri": "https://localhost:8080/"
        },
        "id": "LFp1zFnKdsu2",
        "outputId": "1bb6c70d-217d-4954-fa69-bd61a3a652b9"
      },
      "execution_count": 20,
      "outputs": [
        {
          "output_type": "execute_result",
          "data": {
            "text/plain": [
              "a    1.0\n",
              "a    3.0\n",
              "a    2.0\n",
              "a    4.0\n",
              "a    3.0\n",
              "a    5.0\n",
              "b    5.0\n",
              "b    7.0\n",
              "b    8.0\n",
              "c    NaN\n",
              "dtype: float64"
            ]
          },
          "metadata": {},
          "execution_count": 20
        }
      ]
    },
    {
      "cell_type": "code",
      "source": [
        "(s1+s2).apply(type).unique()"
      ],
      "metadata": {
        "colab": {
          "base_uri": "https://localhost:8080/"
        },
        "id": "NUdIj058eDZt",
        "outputId": "db3a2ed1-1364-43b4-fad7-8fe40ac45a3b"
      },
      "execution_count": 21,
      "outputs": [
        {
          "output_type": "execute_result",
          "data": {
            "text/plain": [
              "array([<class 'float'>], dtype=object)"
            ]
          },
          "metadata": {},
          "execution_count": 21
        }
      ]
    },
    {
      "cell_type": "markdown",
      "source": [
        "## Exploding indexes\n",
        "Add two larger Series that have indexes with only a few unique values but in\n",
        "different orders. The result will explode the number of values in the indexes"
      ],
      "metadata": {
        "id": "3VHLDg5EgGPN"
      }
    },
    {
      "cell_type": "markdown",
      "source": [
        "Read in the employee data and set the index to the RACE column:"
      ],
      "metadata": {
        "id": "HHFujWeyg0Qn"
      }
    },
    {
      "cell_type": "code",
      "source": [
        "employee = pd.read_csv('./employee.csv', index_col='RACE')\n",
        "employee.head(3)"
      ],
      "metadata": {
        "colab": {
          "base_uri": "https://localhost:8080/",
          "height": 271
        },
        "id": "1zTttRgNe2I5",
        "outputId": "066b3d4a-5a82-4100-b0f7-3b1cc92dbefc"
      },
      "execution_count": 22,
      "outputs": [
        {
          "output_type": "execute_result",
          "data": {
            "text/html": [
              "\n",
              "  <div id=\"df-a1ba6800-4b4b-4db4-bdfa-1723a6e83657\">\n",
              "    <div class=\"colab-df-container\">\n",
              "      <div>\n",
              "<style scoped>\n",
              "    .dataframe tbody tr th:only-of-type {\n",
              "        vertical-align: middle;\n",
              "    }\n",
              "\n",
              "    .dataframe tbody tr th {\n",
              "        vertical-align: top;\n",
              "    }\n",
              "\n",
              "    .dataframe thead th {\n",
              "        text-align: right;\n",
              "    }\n",
              "</style>\n",
              "<table border=\"1\" class=\"dataframe\">\n",
              "  <thead>\n",
              "    <tr style=\"text-align: right;\">\n",
              "      <th></th>\n",
              "      <th>UNIQUE_ID</th>\n",
              "      <th>POSITION_TITLE</th>\n",
              "      <th>DEPARTMENT</th>\n",
              "      <th>BASE_SALARY</th>\n",
              "      <th>EMPLOYMENT_TYPE</th>\n",
              "      <th>GENDER</th>\n",
              "      <th>EMPLOYMENT_STATUS</th>\n",
              "      <th>HIRE_DATE</th>\n",
              "      <th>JOB_DATE</th>\n",
              "    </tr>\n",
              "    <tr>\n",
              "      <th>RACE</th>\n",
              "      <th></th>\n",
              "      <th></th>\n",
              "      <th></th>\n",
              "      <th></th>\n",
              "      <th></th>\n",
              "      <th></th>\n",
              "      <th></th>\n",
              "      <th></th>\n",
              "      <th></th>\n",
              "    </tr>\n",
              "  </thead>\n",
              "  <tbody>\n",
              "    <tr>\n",
              "      <th>Hispanic/Latino</th>\n",
              "      <td>0</td>\n",
              "      <td>ASSISTANT DIRECTOR (EX LVL)</td>\n",
              "      <td>Municipal Courts Department</td>\n",
              "      <td>121862.0</td>\n",
              "      <td>Full Time</td>\n",
              "      <td>Female</td>\n",
              "      <td>Active</td>\n",
              "      <td>2006-06-12</td>\n",
              "      <td>2012-10-13</td>\n",
              "    </tr>\n",
              "    <tr>\n",
              "      <th>Hispanic/Latino</th>\n",
              "      <td>1</td>\n",
              "      <td>LIBRARY ASSISTANT</td>\n",
              "      <td>Library</td>\n",
              "      <td>26125.0</td>\n",
              "      <td>Full Time</td>\n",
              "      <td>Female</td>\n",
              "      <td>Active</td>\n",
              "      <td>2000-07-19</td>\n",
              "      <td>2010-09-18</td>\n",
              "    </tr>\n",
              "    <tr>\n",
              "      <th>White</th>\n",
              "      <td>2</td>\n",
              "      <td>POLICE OFFICER</td>\n",
              "      <td>Houston Police Department-HPD</td>\n",
              "      <td>45279.0</td>\n",
              "      <td>Full Time</td>\n",
              "      <td>Male</td>\n",
              "      <td>Active</td>\n",
              "      <td>2015-02-03</td>\n",
              "      <td>2015-02-03</td>\n",
              "    </tr>\n",
              "  </tbody>\n",
              "</table>\n",
              "</div>\n",
              "      <button class=\"colab-df-convert\" onclick=\"convertToInteractive('df-a1ba6800-4b4b-4db4-bdfa-1723a6e83657')\"\n",
              "              title=\"Convert this dataframe to an interactive table.\"\n",
              "              style=\"display:none;\">\n",
              "        \n",
              "  <svg xmlns=\"http://www.w3.org/2000/svg\" height=\"24px\"viewBox=\"0 0 24 24\"\n",
              "       width=\"24px\">\n",
              "    <path d=\"M0 0h24v24H0V0z\" fill=\"none\"/>\n",
              "    <path d=\"M18.56 5.44l.94 2.06.94-2.06 2.06-.94-2.06-.94-.94-2.06-.94 2.06-2.06.94zm-11 1L8.5 8.5l.94-2.06 2.06-.94-2.06-.94L8.5 2.5l-.94 2.06-2.06.94zm10 10l.94 2.06.94-2.06 2.06-.94-2.06-.94-.94-2.06-.94 2.06-2.06.94z\"/><path d=\"M17.41 7.96l-1.37-1.37c-.4-.4-.92-.59-1.43-.59-.52 0-1.04.2-1.43.59L10.3 9.45l-7.72 7.72c-.78.78-.78 2.05 0 2.83L4 21.41c.39.39.9.59 1.41.59.51 0 1.02-.2 1.41-.59l7.78-7.78 2.81-2.81c.8-.78.8-2.07 0-2.86zM5.41 20L4 18.59l7.72-7.72 1.47 1.35L5.41 20z\"/>\n",
              "  </svg>\n",
              "      </button>\n",
              "      \n",
              "  <style>\n",
              "    .colab-df-container {\n",
              "      display:flex;\n",
              "      flex-wrap:wrap;\n",
              "      gap: 12px;\n",
              "    }\n",
              "\n",
              "    .colab-df-convert {\n",
              "      background-color: #E8F0FE;\n",
              "      border: none;\n",
              "      border-radius: 50%;\n",
              "      cursor: pointer;\n",
              "      display: none;\n",
              "      fill: #1967D2;\n",
              "      height: 32px;\n",
              "      padding: 0 0 0 0;\n",
              "      width: 32px;\n",
              "    }\n",
              "\n",
              "    .colab-df-convert:hover {\n",
              "      background-color: #E2EBFA;\n",
              "      box-shadow: 0px 1px 2px rgba(60, 64, 67, 0.3), 0px 1px 3px 1px rgba(60, 64, 67, 0.15);\n",
              "      fill: #174EA6;\n",
              "    }\n",
              "\n",
              "    [theme=dark] .colab-df-convert {\n",
              "      background-color: #3B4455;\n",
              "      fill: #D2E3FC;\n",
              "    }\n",
              "\n",
              "    [theme=dark] .colab-df-convert:hover {\n",
              "      background-color: #434B5C;\n",
              "      box-shadow: 0px 1px 3px 1px rgba(0, 0, 0, 0.15);\n",
              "      filter: drop-shadow(0px 1px 2px rgba(0, 0, 0, 0.3));\n",
              "      fill: #FFFFFF;\n",
              "    }\n",
              "  </style>\n",
              "\n",
              "      <script>\n",
              "        const buttonEl =\n",
              "          document.querySelector('#df-a1ba6800-4b4b-4db4-bdfa-1723a6e83657 button.colab-df-convert');\n",
              "        buttonEl.style.display =\n",
              "          google.colab.kernel.accessAllowed ? 'block' : 'none';\n",
              "\n",
              "        async function convertToInteractive(key) {\n",
              "          const element = document.querySelector('#df-a1ba6800-4b4b-4db4-bdfa-1723a6e83657');\n",
              "          const dataTable =\n",
              "            await google.colab.kernel.invokeFunction('convertToInteractive',\n",
              "                                                     [key], {});\n",
              "          if (!dataTable) return;\n",
              "\n",
              "          const docLinkHtml = 'Like what you see? Visit the ' +\n",
              "            '<a target=\"_blank\" href=https://colab.research.google.com/notebooks/data_table.ipynb>data table notebook</a>'\n",
              "            + ' to learn more about interactive tables.';\n",
              "          element.innerHTML = '';\n",
              "          dataTable['output_type'] = 'display_data';\n",
              "          await google.colab.output.renderOutput(dataTable, element);\n",
              "          const docLink = document.createElement('div');\n",
              "          docLink.innerHTML = docLinkHtml;\n",
              "          element.appendChild(docLink);\n",
              "        }\n",
              "      </script>\n",
              "    </div>\n",
              "  </div>\n",
              "  "
            ],
            "text/plain": [
              "                 UNIQUE_ID               POSITION_TITLE  ...   HIRE_DATE    JOB_DATE\n",
              "RACE                                                     ...                        \n",
              "Hispanic/Latino          0  ASSISTANT DIRECTOR (EX LVL)  ...  2006-06-12  2012-10-13\n",
              "Hispanic/Latino          1            LIBRARY ASSISTANT  ...  2000-07-19  2010-09-18\n",
              "White                    2               POLICE OFFICER  ...  2015-02-03  2015-02-03\n",
              "\n",
              "[3 rows x 9 columns]"
            ]
          },
          "metadata": {},
          "execution_count": 22
        }
      ]
    },
    {
      "cell_type": "markdown",
      "source": [
        "Select the BASE_SALARY column as two different Series. Check to see whether this\n",
        "operation created two new objects:"
      ],
      "metadata": {
        "id": "rNyzcnEahxSL"
      }
    },
    {
      "cell_type": "code",
      "source": [
        "salary_1 = employee['BASE_SALARY']\n",
        "salary_2 = employee['BASE_SALARY']\n",
        "salary_1 is salary_2"
      ],
      "metadata": {
        "colab": {
          "base_uri": "https://localhost:8080/"
        },
        "id": "DxZYnZY5ho38",
        "outputId": "0ac6e23b-2a53-43dd-e975-1f5e9b4ac958"
      },
      "execution_count": 23,
      "outputs": [
        {
          "output_type": "execute_result",
          "data": {
            "text/plain": [
              "True"
            ]
          },
          "metadata": {},
          "execution_count": 23
        }
      ]
    },
    {
      "cell_type": "code",
      "source": [
        "salary_2 = employee['BASE_SALARY'].copy()\n",
        "salary_1 is salary_2"
      ],
      "metadata": {
        "colab": {
          "base_uri": "https://localhost:8080/"
        },
        "id": "LbH9k4rRiDYW",
        "outputId": "a9289056-e6fa-44a3-b085-fa9266da7734"
      },
      "execution_count": 24,
      "outputs": [
        {
          "output_type": "execute_result",
          "data": {
            "text/plain": [
              "False"
            ]
          },
          "metadata": {},
          "execution_count": 24
        }
      ]
    },
    {
      "cell_type": "markdown",
      "source": [
        "Let's change the order of the index for one of the Series by sorting it:"
      ],
      "metadata": {
        "id": "fEnjkN5ZicBd"
      }
    },
    {
      "cell_type": "code",
      "source": [
        "salary_1 = salary_1.sort_index()\n",
        "salary_1.head(3)"
      ],
      "metadata": {
        "colab": {
          "base_uri": "https://localhost:8080/"
        },
        "id": "9E367DLgiT-B",
        "outputId": "6003a6c5-192a-4b5d-e4a6-98fc536d67fc"
      },
      "execution_count": 25,
      "outputs": [
        {
          "output_type": "execute_result",
          "data": {
            "text/plain": [
              "RACE\n",
              "American Indian or Alaskan Native    78355.0\n",
              "American Indian or Alaskan Native    26125.0\n",
              "American Indian or Alaskan Native    98536.0\n",
              "Name: BASE_SALARY, dtype: float64"
            ]
          },
          "metadata": {},
          "execution_count": 25
        }
      ]
    },
    {
      "cell_type": "code",
      "source": [
        "salary_2.head(3)"
      ],
      "metadata": {
        "colab": {
          "base_uri": "https://localhost:8080/"
        },
        "id": "K9OXEAVKiki2",
        "outputId": "83b56cd0-3b0b-45a1-f924-9fca987d717b"
      },
      "execution_count": 26,
      "outputs": [
        {
          "output_type": "execute_result",
          "data": {
            "text/plain": [
              "RACE\n",
              "Hispanic/Latino    121862.0\n",
              "Hispanic/Latino     26125.0\n",
              "White               45279.0\n",
              "Name: BASE_SALARY, dtype: float64"
            ]
          },
          "metadata": {},
          "execution_count": 26
        }
      ]
    },
    {
      "cell_type": "markdown",
      "source": [
        "Let's add these salary Series together"
      ],
      "metadata": {
        "id": "yLlIRGmNjAz-"
      }
    },
    {
      "cell_type": "code",
      "source": [
        "salary_add = salary_1 + salary_2\n",
        "salary_add.head()"
      ],
      "metadata": {
        "colab": {
          "base_uri": "https://localhost:8080/"
        },
        "id": "Z8x5G077i5F3",
        "outputId": "b44d375a-d055-46c0-a8b6-7557db58ffe7"
      },
      "execution_count": 27,
      "outputs": [
        {
          "output_type": "execute_result",
          "data": {
            "text/plain": [
              "RACE\n",
              "American Indian or Alaskan Native    138702.0\n",
              "American Indian or Alaskan Native    156710.0\n",
              "American Indian or Alaskan Native    176891.0\n",
              "American Indian or Alaskan Native    159594.0\n",
              "American Indian or Alaskan Native    127734.0\n",
              "Name: BASE_SALARY, dtype: float64"
            ]
          },
          "metadata": {},
          "execution_count": 27
        }
      ]
    },
    {
      "cell_type": "markdown",
      "source": [
        "Let's create one more Series of salary1\n",
        "added to itself and then output the lengths of each Series."
      ],
      "metadata": {
        "id": "6S2MY-RXjY4o"
      }
    },
    {
      "cell_type": "code",
      "source": [
        "salary_add_1 = salary_1 + salary_1\n",
        "len(salary_1), len(salary_2), len(salary_add), len(salary_add_1)"
      ],
      "metadata": {
        "colab": {
          "base_uri": "https://localhost:8080/"
        },
        "id": "t0UFLM7MjHTI",
        "outputId": "2fb35f5e-c14c-424c-ab97-6d684fd27306"
      },
      "execution_count": 28,
      "outputs": [
        {
          "output_type": "execute_result",
          "data": {
            "text/plain": [
              "(2000, 2000, 1175424, 2000)"
            ]
          },
          "metadata": {},
          "execution_count": 28
        }
      ]
    },
    {
      "cell_type": "markdown",
      "source": [
        "## Filling values with unequal indexes\n",
        "add together multiple Series from the baseball dataset with unequal (but\n",
        "unique) indexes using the .add method with the fill_value parameter to ensure that\n",
        "there are no missing values in the result."
      ],
      "metadata": {
        "id": "IDQiBIuykuO-"
      }
    },
    {
      "cell_type": "markdown",
      "source": [
        "Read in the three baseball datasets and set playerID as the index"
      ],
      "metadata": {
        "id": "fjFgH89UpQ4J"
      }
    },
    {
      "cell_type": "code",
      "source": [
        "baseball_14 = pd.read_csv('./baseball14.csv', index_col='playerID')\n",
        "baseball_15 = pd.read_csv('./baseball15.csv', index_col='playerID')\n",
        "baseball_16 = pd.read_csv('./baseball16.csv', index_col='playerID')"
      ],
      "metadata": {
        "id": "gNWtyLQNjmr6"
      },
      "execution_count": 29,
      "outputs": []
    },
    {
      "cell_type": "code",
      "source": [
        "baseball_14.head()"
      ],
      "metadata": {
        "colab": {
          "base_uri": "https://localhost:8080/",
          "height": 238
        },
        "id": "SVi_krSWp9V5",
        "outputId": "d0bbed84-2860-4944-8448-5aad6f655d42"
      },
      "execution_count": 30,
      "outputs": [
        {
          "output_type": "execute_result",
          "data": {
            "text/html": [
              "\n",
              "  <div id=\"df-c7d38610-2a8e-4aba-a4df-7f63ad0ff48f\">\n",
              "    <div class=\"colab-df-container\">\n",
              "      <div>\n",
              "<style scoped>\n",
              "    .dataframe tbody tr th:only-of-type {\n",
              "        vertical-align: middle;\n",
              "    }\n",
              "\n",
              "    .dataframe tbody tr th {\n",
              "        vertical-align: top;\n",
              "    }\n",
              "\n",
              "    .dataframe thead th {\n",
              "        text-align: right;\n",
              "    }\n",
              "</style>\n",
              "<table border=\"1\" class=\"dataframe\">\n",
              "  <thead>\n",
              "    <tr style=\"text-align: right;\">\n",
              "      <th></th>\n",
              "      <th>yearID</th>\n",
              "      <th>stint</th>\n",
              "      <th>teamID</th>\n",
              "      <th>lgID</th>\n",
              "      <th>G</th>\n",
              "      <th>AB</th>\n",
              "      <th>R</th>\n",
              "      <th>H</th>\n",
              "      <th>2B</th>\n",
              "      <th>3B</th>\n",
              "      <th>HR</th>\n",
              "      <th>RBI</th>\n",
              "      <th>SB</th>\n",
              "      <th>CS</th>\n",
              "      <th>BB</th>\n",
              "      <th>SO</th>\n",
              "      <th>IBB</th>\n",
              "      <th>HBP</th>\n",
              "      <th>SH</th>\n",
              "      <th>SF</th>\n",
              "      <th>GIDP</th>\n",
              "    </tr>\n",
              "    <tr>\n",
              "      <th>playerID</th>\n",
              "      <th></th>\n",
              "      <th></th>\n",
              "      <th></th>\n",
              "      <th></th>\n",
              "      <th></th>\n",
              "      <th></th>\n",
              "      <th></th>\n",
              "      <th></th>\n",
              "      <th></th>\n",
              "      <th></th>\n",
              "      <th></th>\n",
              "      <th></th>\n",
              "      <th></th>\n",
              "      <th></th>\n",
              "      <th></th>\n",
              "      <th></th>\n",
              "      <th></th>\n",
              "      <th></th>\n",
              "      <th></th>\n",
              "      <th></th>\n",
              "      <th></th>\n",
              "    </tr>\n",
              "  </thead>\n",
              "  <tbody>\n",
              "    <tr>\n",
              "      <th>altuvjo01</th>\n",
              "      <td>2014</td>\n",
              "      <td>1</td>\n",
              "      <td>HOU</td>\n",
              "      <td>AL</td>\n",
              "      <td>158</td>\n",
              "      <td>660</td>\n",
              "      <td>85</td>\n",
              "      <td>225</td>\n",
              "      <td>47</td>\n",
              "      <td>3</td>\n",
              "      <td>7</td>\n",
              "      <td>59.0</td>\n",
              "      <td>56.0</td>\n",
              "      <td>9.0</td>\n",
              "      <td>36</td>\n",
              "      <td>53.0</td>\n",
              "      <td>7.0</td>\n",
              "      <td>5.0</td>\n",
              "      <td>1.0</td>\n",
              "      <td>5.0</td>\n",
              "      <td>20.0</td>\n",
              "    </tr>\n",
              "    <tr>\n",
              "      <th>cartech02</th>\n",
              "      <td>2014</td>\n",
              "      <td>1</td>\n",
              "      <td>HOU</td>\n",
              "      <td>AL</td>\n",
              "      <td>145</td>\n",
              "      <td>507</td>\n",
              "      <td>68</td>\n",
              "      <td>115</td>\n",
              "      <td>21</td>\n",
              "      <td>1</td>\n",
              "      <td>37</td>\n",
              "      <td>88.0</td>\n",
              "      <td>5.0</td>\n",
              "      <td>2.0</td>\n",
              "      <td>56</td>\n",
              "      <td>182.0</td>\n",
              "      <td>6.0</td>\n",
              "      <td>5.0</td>\n",
              "      <td>0.0</td>\n",
              "      <td>4.0</td>\n",
              "      <td>12.0</td>\n",
              "    </tr>\n",
              "    <tr>\n",
              "      <th>castrja01</th>\n",
              "      <td>2014</td>\n",
              "      <td>1</td>\n",
              "      <td>HOU</td>\n",
              "      <td>AL</td>\n",
              "      <td>126</td>\n",
              "      <td>465</td>\n",
              "      <td>43</td>\n",
              "      <td>103</td>\n",
              "      <td>21</td>\n",
              "      <td>2</td>\n",
              "      <td>14</td>\n",
              "      <td>56.0</td>\n",
              "      <td>1.0</td>\n",
              "      <td>0.0</td>\n",
              "      <td>34</td>\n",
              "      <td>151.0</td>\n",
              "      <td>1.0</td>\n",
              "      <td>9.0</td>\n",
              "      <td>1.0</td>\n",
              "      <td>3.0</td>\n",
              "      <td>11.0</td>\n",
              "    </tr>\n",
              "    <tr>\n",
              "      <th>corpoca01</th>\n",
              "      <td>2014</td>\n",
              "      <td>1</td>\n",
              "      <td>HOU</td>\n",
              "      <td>AL</td>\n",
              "      <td>55</td>\n",
              "      <td>170</td>\n",
              "      <td>22</td>\n",
              "      <td>40</td>\n",
              "      <td>6</td>\n",
              "      <td>0</td>\n",
              "      <td>6</td>\n",
              "      <td>19.0</td>\n",
              "      <td>0.0</td>\n",
              "      <td>0.0</td>\n",
              "      <td>14</td>\n",
              "      <td>37.0</td>\n",
              "      <td>0.0</td>\n",
              "      <td>3.0</td>\n",
              "      <td>1.0</td>\n",
              "      <td>2.0</td>\n",
              "      <td>3.0</td>\n",
              "    </tr>\n",
              "    <tr>\n",
              "      <th>dominma01</th>\n",
              "      <td>2014</td>\n",
              "      <td>1</td>\n",
              "      <td>HOU</td>\n",
              "      <td>AL</td>\n",
              "      <td>157</td>\n",
              "      <td>564</td>\n",
              "      <td>51</td>\n",
              "      <td>121</td>\n",
              "      <td>17</td>\n",
              "      <td>0</td>\n",
              "      <td>16</td>\n",
              "      <td>57.0</td>\n",
              "      <td>0.0</td>\n",
              "      <td>1.0</td>\n",
              "      <td>29</td>\n",
              "      <td>125.0</td>\n",
              "      <td>2.0</td>\n",
              "      <td>5.0</td>\n",
              "      <td>2.0</td>\n",
              "      <td>7.0</td>\n",
              "      <td>23.0</td>\n",
              "    </tr>\n",
              "  </tbody>\n",
              "</table>\n",
              "</div>\n",
              "      <button class=\"colab-df-convert\" onclick=\"convertToInteractive('df-c7d38610-2a8e-4aba-a4df-7f63ad0ff48f')\"\n",
              "              title=\"Convert this dataframe to an interactive table.\"\n",
              "              style=\"display:none;\">\n",
              "        \n",
              "  <svg xmlns=\"http://www.w3.org/2000/svg\" height=\"24px\"viewBox=\"0 0 24 24\"\n",
              "       width=\"24px\">\n",
              "    <path d=\"M0 0h24v24H0V0z\" fill=\"none\"/>\n",
              "    <path d=\"M18.56 5.44l.94 2.06.94-2.06 2.06-.94-2.06-.94-.94-2.06-.94 2.06-2.06.94zm-11 1L8.5 8.5l.94-2.06 2.06-.94-2.06-.94L8.5 2.5l-.94 2.06-2.06.94zm10 10l.94 2.06.94-2.06 2.06-.94-2.06-.94-.94-2.06-.94 2.06-2.06.94z\"/><path d=\"M17.41 7.96l-1.37-1.37c-.4-.4-.92-.59-1.43-.59-.52 0-1.04.2-1.43.59L10.3 9.45l-7.72 7.72c-.78.78-.78 2.05 0 2.83L4 21.41c.39.39.9.59 1.41.59.51 0 1.02-.2 1.41-.59l7.78-7.78 2.81-2.81c.8-.78.8-2.07 0-2.86zM5.41 20L4 18.59l7.72-7.72 1.47 1.35L5.41 20z\"/>\n",
              "  </svg>\n",
              "      </button>\n",
              "      \n",
              "  <style>\n",
              "    .colab-df-container {\n",
              "      display:flex;\n",
              "      flex-wrap:wrap;\n",
              "      gap: 12px;\n",
              "    }\n",
              "\n",
              "    .colab-df-convert {\n",
              "      background-color: #E8F0FE;\n",
              "      border: none;\n",
              "      border-radius: 50%;\n",
              "      cursor: pointer;\n",
              "      display: none;\n",
              "      fill: #1967D2;\n",
              "      height: 32px;\n",
              "      padding: 0 0 0 0;\n",
              "      width: 32px;\n",
              "    }\n",
              "\n",
              "    .colab-df-convert:hover {\n",
              "      background-color: #E2EBFA;\n",
              "      box-shadow: 0px 1px 2px rgba(60, 64, 67, 0.3), 0px 1px 3px 1px rgba(60, 64, 67, 0.15);\n",
              "      fill: #174EA6;\n",
              "    }\n",
              "\n",
              "    [theme=dark] .colab-df-convert {\n",
              "      background-color: #3B4455;\n",
              "      fill: #D2E3FC;\n",
              "    }\n",
              "\n",
              "    [theme=dark] .colab-df-convert:hover {\n",
              "      background-color: #434B5C;\n",
              "      box-shadow: 0px 1px 3px 1px rgba(0, 0, 0, 0.15);\n",
              "      filter: drop-shadow(0px 1px 2px rgba(0, 0, 0, 0.3));\n",
              "      fill: #FFFFFF;\n",
              "    }\n",
              "  </style>\n",
              "\n",
              "      <script>\n",
              "        const buttonEl =\n",
              "          document.querySelector('#df-c7d38610-2a8e-4aba-a4df-7f63ad0ff48f button.colab-df-convert');\n",
              "        buttonEl.style.display =\n",
              "          google.colab.kernel.accessAllowed ? 'block' : 'none';\n",
              "\n",
              "        async function convertToInteractive(key) {\n",
              "          const element = document.querySelector('#df-c7d38610-2a8e-4aba-a4df-7f63ad0ff48f');\n",
              "          const dataTable =\n",
              "            await google.colab.kernel.invokeFunction('convertToInteractive',\n",
              "                                                     [key], {});\n",
              "          if (!dataTable) return;\n",
              "\n",
              "          const docLinkHtml = 'Like what you see? Visit the ' +\n",
              "            '<a target=\"_blank\" href=https://colab.research.google.com/notebooks/data_table.ipynb>data table notebook</a>'\n",
              "            + ' to learn more about interactive tables.';\n",
              "          element.innerHTML = '';\n",
              "          dataTable['output_type'] = 'display_data';\n",
              "          await google.colab.output.renderOutput(dataTable, element);\n",
              "          const docLink = document.createElement('div');\n",
              "          docLink.innerHTML = docLinkHtml;\n",
              "          element.appendChild(docLink);\n",
              "        }\n",
              "      </script>\n",
              "    </div>\n",
              "  </div>\n",
              "  "
            ],
            "text/plain": [
              "           yearID  stint teamID lgID    G   AB  ...     SO  IBB  HBP   SH   SF  GIDP\n",
              "playerID                                        ...                                 \n",
              "altuvjo01    2014      1    HOU   AL  158  660  ...   53.0  7.0  5.0  1.0  5.0  20.0\n",
              "cartech02    2014      1    HOU   AL  145  507  ...  182.0  6.0  5.0  0.0  4.0  12.0\n",
              "castrja01    2014      1    HOU   AL  126  465  ...  151.0  1.0  9.0  1.0  3.0  11.0\n",
              "corpoca01    2014      1    HOU   AL   55  170  ...   37.0  0.0  3.0  1.0  2.0   3.0\n",
              "dominma01    2014      1    HOU   AL  157  564  ...  125.0  2.0  5.0  2.0  7.0  23.0\n",
              "\n",
              "[5 rows x 21 columns]"
            ]
          },
          "metadata": {},
          "execution_count": 30
        }
      ]
    },
    {
      "cell_type": "markdown",
      "source": [
        "Use the .difference method on the index to discover which index labels are in\n",
        "baseball_14 and not in baseball_15, and vice versa"
      ],
      "metadata": {
        "id": "GvcUHpCsqWy8"
      }
    },
    {
      "cell_type": "code",
      "source": [
        "baseball_14.index.difference(baseball_15.index)"
      ],
      "metadata": {
        "colab": {
          "base_uri": "https://localhost:8080/"
        },
        "id": "JhIB5y5xqAH4",
        "outputId": "85ed3514-db89-4ef9-9367-e14744a35f43"
      },
      "execution_count": 31,
      "outputs": [
        {
          "output_type": "execute_result",
          "data": {
            "text/plain": [
              "Index(['corpoca01', 'dominma01', 'fowlede01', 'grossro01', 'guzmaje01',\n",
              "       'hoeslj01', 'krausma01', 'preslal01', 'singljo02'],\n",
              "      dtype='object', name='playerID')"
            ]
          },
          "metadata": {},
          "execution_count": 31
        }
      ]
    },
    {
      "cell_type": "code",
      "source": [
        "baseball_15.index.difference(baseball_14.index)\n"
      ],
      "metadata": {
        "colab": {
          "base_uri": "https://localhost:8080/"
        },
        "id": "cbgs2GfaqfKX",
        "outputId": "c679e6b1-cba7-457d-b16d-bb1a3890e93d"
      },
      "execution_count": 32,
      "outputs": [
        {
          "output_type": "execute_result",
          "data": {
            "text/plain": [
              "Index(['congeha01', 'correca01', 'gattiev01', 'gomezca01', 'lowrije01',\n",
              "       'rasmuco01', 'tuckepr01', 'valbulu01'],\n",
              "      dtype='object', name='playerID')"
            ]
          },
          "metadata": {},
          "execution_count": 32
        }
      ]
    },
    {
      "cell_type": "markdown",
      "source": [
        "There are quite a few players unique to each index. Let's find out how many hits each\n",
        "player has in total over the three-year period. The H column contains the number of\n",
        "hits:"
      ],
      "metadata": {
        "id": "t4lrCIdHrFX1"
      }
    },
    {
      "cell_type": "code",
      "source": [
        "hits_14 = baseball_14['H']\n",
        "hits_15 = baseball_15['H']\n",
        "hits_16 = baseball_16['H']\n",
        "hits_14.head()"
      ],
      "metadata": {
        "colab": {
          "base_uri": "https://localhost:8080/"
        },
        "id": "zqTvgG0iqnJX",
        "outputId": "86fc3e26-0260-4d34-aa81-c39f7ea9f8f1"
      },
      "execution_count": 33,
      "outputs": [
        {
          "output_type": "execute_result",
          "data": {
            "text/plain": [
              "playerID\n",
              "altuvjo01    225\n",
              "cartech02    115\n",
              "castrja01    103\n",
              "corpoca01     40\n",
              "dominma01    121\n",
              "Name: H, dtype: int64"
            ]
          },
          "metadata": {},
          "execution_count": 33
        }
      ]
    },
    {
      "cell_type": "markdown",
      "source": [
        "Let's first add together two Series using the plus operator"
      ],
      "metadata": {
        "id": "utmjHPdkrj8I"
      }
    },
    {
      "cell_type": "code",
      "source": [
        "(hits_14 + hits_15).head()"
      ],
      "metadata": {
        "colab": {
          "base_uri": "https://localhost:8080/"
        },
        "id": "MuxGhHCjrbfa",
        "outputId": "849e7372-5495-4d2f-e41d-98165a58b024"
      },
      "execution_count": 34,
      "outputs": [
        {
          "output_type": "execute_result",
          "data": {
            "text/plain": [
              "playerID\n",
              "altuvjo01    425.0\n",
              "cartech02    193.0\n",
              "castrja01    174.0\n",
              "congeha01      NaN\n",
              "corpoca01      NaN\n",
              "Name: H, dtype: float64"
            ]
          },
          "metadata": {},
          "execution_count": 34
        }
      ]
    },
    {
      "cell_type": "markdown",
      "source": [
        "Even though players congeha01 and corpoca01 have values for 2015, their result\n",
        "is missing. Let's use the .add method with the fill_value parameter to avoid\n",
        "missing values:"
      ],
      "metadata": {
        "id": "wxcta7zXr1Nd"
      }
    },
    {
      "cell_type": "code",
      "source": [
        "hits_14.add(hits_15, fill_value=0).head()"
      ],
      "metadata": {
        "colab": {
          "base_uri": "https://localhost:8080/"
        },
        "id": "_jXc5bE3rrod",
        "outputId": "5da1508b-fa44-430d-d632-83b4a1a19940"
      },
      "execution_count": 35,
      "outputs": [
        {
          "output_type": "execute_result",
          "data": {
            "text/plain": [
              "playerID\n",
              "altuvjo01    425.0\n",
              "cartech02    193.0\n",
              "castrja01    174.0\n",
              "congeha01     46.0\n",
              "corpoca01     40.0\n",
              "Name: H, dtype: float64"
            ]
          },
          "metadata": {},
          "execution_count": 35
        }
      ]
    },
    {
      "cell_type": "markdown",
      "source": [
        "Add hits from 2016 by chaining the add method once more:"
      ],
      "metadata": {
        "id": "20Q8c7HisQ47"
      }
    },
    {
      "cell_type": "code",
      "source": [
        "hits_total = hits_14.add(hits_15, fill_value=0).add(hits_16, fill_value=0)\n",
        "hits_total.head()"
      ],
      "metadata": {
        "colab": {
          "base_uri": "https://localhost:8080/"
        },
        "id": "yPg_4mlXsADy",
        "outputId": "8bb62ff0-82b7-42fa-9d3e-dc6a0b6a9f87"
      },
      "execution_count": 36,
      "outputs": [
        {
          "output_type": "execute_result",
          "data": {
            "text/plain": [
              "playerID\n",
              "altuvjo01    641.0\n",
              "bregmal01     53.0\n",
              "cartech02    193.0\n",
              "castrja01    243.0\n",
              "congeha01     46.0\n",
              "Name: H, dtype: float64"
            ]
          },
          "metadata": {},
          "execution_count": 36
        }
      ]
    },
    {
      "cell_type": "markdown",
      "source": [
        "Check for missing values in the result"
      ],
      "metadata": {
        "id": "UbYSoir6ssBK"
      }
    },
    {
      "cell_type": "code",
      "source": [
        "hits_total.hasnans"
      ],
      "metadata": {
        "colab": {
          "base_uri": "https://localhost:8080/"
        },
        "id": "hp0OjRNBsmva",
        "outputId": "d71d0e78-0b3d-41fa-ef8c-a25331d4937f"
      },
      "execution_count": 37,
      "outputs": [
        {
          "output_type": "execute_result",
          "data": {
            "text/plain": [
              "False"
            ]
          },
          "metadata": {},
          "execution_count": 37
        }
      ]
    },
    {
      "cell_type": "markdown",
      "source": [
        "Adding two DataFrames together will align both the index and\n",
        "columns before computation and insert missing values for non-matching indexes."
      ],
      "metadata": {
        "id": "9wL4lFPa7AnE"
      }
    },
    {
      "cell_type": "markdown",
      "source": [
        "Selecting a few of the columns from the 2014 baseball dataset"
      ],
      "metadata": {
        "id": "IgGAamTc7Eq9"
      }
    },
    {
      "cell_type": "code",
      "source": [
        "df_14 = baseball_14[[\"G\", \"AB\", \"R\", \"H\"]]\n",
        "df_14.head()"
      ],
      "metadata": {
        "colab": {
          "base_uri": "https://localhost:8080/",
          "height": 238
        },
        "id": "l1cCuxg1svxB",
        "outputId": "a557e9e9-f2f8-4241-ea91-c020866dd7da"
      },
      "execution_count": 39,
      "outputs": [
        {
          "output_type": "execute_result",
          "data": {
            "text/html": [
              "\n",
              "  <div id=\"df-9788126c-14cb-4e32-87fe-c560062fce01\">\n",
              "    <div class=\"colab-df-container\">\n",
              "      <div>\n",
              "<style scoped>\n",
              "    .dataframe tbody tr th:only-of-type {\n",
              "        vertical-align: middle;\n",
              "    }\n",
              "\n",
              "    .dataframe tbody tr th {\n",
              "        vertical-align: top;\n",
              "    }\n",
              "\n",
              "    .dataframe thead th {\n",
              "        text-align: right;\n",
              "    }\n",
              "</style>\n",
              "<table border=\"1\" class=\"dataframe\">\n",
              "  <thead>\n",
              "    <tr style=\"text-align: right;\">\n",
              "      <th></th>\n",
              "      <th>G</th>\n",
              "      <th>AB</th>\n",
              "      <th>R</th>\n",
              "      <th>H</th>\n",
              "    </tr>\n",
              "    <tr>\n",
              "      <th>playerID</th>\n",
              "      <th></th>\n",
              "      <th></th>\n",
              "      <th></th>\n",
              "      <th></th>\n",
              "    </tr>\n",
              "  </thead>\n",
              "  <tbody>\n",
              "    <tr>\n",
              "      <th>altuvjo01</th>\n",
              "      <td>158</td>\n",
              "      <td>660</td>\n",
              "      <td>85</td>\n",
              "      <td>225</td>\n",
              "    </tr>\n",
              "    <tr>\n",
              "      <th>cartech02</th>\n",
              "      <td>145</td>\n",
              "      <td>507</td>\n",
              "      <td>68</td>\n",
              "      <td>115</td>\n",
              "    </tr>\n",
              "    <tr>\n",
              "      <th>castrja01</th>\n",
              "      <td>126</td>\n",
              "      <td>465</td>\n",
              "      <td>43</td>\n",
              "      <td>103</td>\n",
              "    </tr>\n",
              "    <tr>\n",
              "      <th>corpoca01</th>\n",
              "      <td>55</td>\n",
              "      <td>170</td>\n",
              "      <td>22</td>\n",
              "      <td>40</td>\n",
              "    </tr>\n",
              "    <tr>\n",
              "      <th>dominma01</th>\n",
              "      <td>157</td>\n",
              "      <td>564</td>\n",
              "      <td>51</td>\n",
              "      <td>121</td>\n",
              "    </tr>\n",
              "  </tbody>\n",
              "</table>\n",
              "</div>\n",
              "      <button class=\"colab-df-convert\" onclick=\"convertToInteractive('df-9788126c-14cb-4e32-87fe-c560062fce01')\"\n",
              "              title=\"Convert this dataframe to an interactive table.\"\n",
              "              style=\"display:none;\">\n",
              "        \n",
              "  <svg xmlns=\"http://www.w3.org/2000/svg\" height=\"24px\"viewBox=\"0 0 24 24\"\n",
              "       width=\"24px\">\n",
              "    <path d=\"M0 0h24v24H0V0z\" fill=\"none\"/>\n",
              "    <path d=\"M18.56 5.44l.94 2.06.94-2.06 2.06-.94-2.06-.94-.94-2.06-.94 2.06-2.06.94zm-11 1L8.5 8.5l.94-2.06 2.06-.94-2.06-.94L8.5 2.5l-.94 2.06-2.06.94zm10 10l.94 2.06.94-2.06 2.06-.94-2.06-.94-.94-2.06-.94 2.06-2.06.94z\"/><path d=\"M17.41 7.96l-1.37-1.37c-.4-.4-.92-.59-1.43-.59-.52 0-1.04.2-1.43.59L10.3 9.45l-7.72 7.72c-.78.78-.78 2.05 0 2.83L4 21.41c.39.39.9.59 1.41.59.51 0 1.02-.2 1.41-.59l7.78-7.78 2.81-2.81c.8-.78.8-2.07 0-2.86zM5.41 20L4 18.59l7.72-7.72 1.47 1.35L5.41 20z\"/>\n",
              "  </svg>\n",
              "      </button>\n",
              "      \n",
              "  <style>\n",
              "    .colab-df-container {\n",
              "      display:flex;\n",
              "      flex-wrap:wrap;\n",
              "      gap: 12px;\n",
              "    }\n",
              "\n",
              "    .colab-df-convert {\n",
              "      background-color: #E8F0FE;\n",
              "      border: none;\n",
              "      border-radius: 50%;\n",
              "      cursor: pointer;\n",
              "      display: none;\n",
              "      fill: #1967D2;\n",
              "      height: 32px;\n",
              "      padding: 0 0 0 0;\n",
              "      width: 32px;\n",
              "    }\n",
              "\n",
              "    .colab-df-convert:hover {\n",
              "      background-color: #E2EBFA;\n",
              "      box-shadow: 0px 1px 2px rgba(60, 64, 67, 0.3), 0px 1px 3px 1px rgba(60, 64, 67, 0.15);\n",
              "      fill: #174EA6;\n",
              "    }\n",
              "\n",
              "    [theme=dark] .colab-df-convert {\n",
              "      background-color: #3B4455;\n",
              "      fill: #D2E3FC;\n",
              "    }\n",
              "\n",
              "    [theme=dark] .colab-df-convert:hover {\n",
              "      background-color: #434B5C;\n",
              "      box-shadow: 0px 1px 3px 1px rgba(0, 0, 0, 0.15);\n",
              "      filter: drop-shadow(0px 1px 2px rgba(0, 0, 0, 0.3));\n",
              "      fill: #FFFFFF;\n",
              "    }\n",
              "  </style>\n",
              "\n",
              "      <script>\n",
              "        const buttonEl =\n",
              "          document.querySelector('#df-9788126c-14cb-4e32-87fe-c560062fce01 button.colab-df-convert');\n",
              "        buttonEl.style.display =\n",
              "          google.colab.kernel.accessAllowed ? 'block' : 'none';\n",
              "\n",
              "        async function convertToInteractive(key) {\n",
              "          const element = document.querySelector('#df-9788126c-14cb-4e32-87fe-c560062fce01');\n",
              "          const dataTable =\n",
              "            await google.colab.kernel.invokeFunction('convertToInteractive',\n",
              "                                                     [key], {});\n",
              "          if (!dataTable) return;\n",
              "\n",
              "          const docLinkHtml = 'Like what you see? Visit the ' +\n",
              "            '<a target=\"_blank\" href=https://colab.research.google.com/notebooks/data_table.ipynb>data table notebook</a>'\n",
              "            + ' to learn more about interactive tables.';\n",
              "          element.innerHTML = '';\n",
              "          dataTable['output_type'] = 'display_data';\n",
              "          await google.colab.output.renderOutput(dataTable, element);\n",
              "          const docLink = document.createElement('div');\n",
              "          docLink.innerHTML = docLinkHtml;\n",
              "          element.appendChild(docLink);\n",
              "        }\n",
              "      </script>\n",
              "    </div>\n",
              "  </div>\n",
              "  "
            ],
            "text/plain": [
              "             G   AB   R    H\n",
              "playerID                    \n",
              "altuvjo01  158  660  85  225\n",
              "cartech02  145  507  68  115\n",
              "castrja01  126  465  43  103\n",
              "corpoca01   55  170  22   40\n",
              "dominma01  157  564  51  121"
            ]
          },
          "metadata": {},
          "execution_count": 39
        }
      ]
    },
    {
      "cell_type": "markdown",
      "source": [
        "select a few of the same and a few different columns from the 2015 baseball\n",
        "dataset"
      ],
      "metadata": {
        "id": "ghm7kaUR7heN"
      }
    },
    {
      "cell_type": "code",
      "source": [
        "df_15 = baseball_15[[\"AB\", \"R\", \"H\", \"HR\"]]"
      ],
      "metadata": {
        "id": "7ZfejaMR7Uw2"
      },
      "execution_count": 40,
      "outputs": []
    },
    {
      "cell_type": "markdown",
      "source": [
        "Adding the two DataFrames together creates missing values wherever rows or column labels\n",
        "cannot align. Use the `.style` attribute and call the `.highlight_null` method to\n",
        "see where the missing values are"
      ],
      "metadata": {
        "id": "PfJerXh67rhT"
      }
    },
    {
      "cell_type": "code",
      "source": [
        "(\n",
        "    (df_15 + df_14).sample(n=15, random_state=42)\n",
        "    .style.highlight_null('#f8961e')\n",
        ")"
      ],
      "metadata": {
        "colab": {
          "base_uri": "https://localhost:8080/",
          "height": 551
        },
        "id": "Ny2pC38z7k81",
        "outputId": "e3d60e6a-3e0e-44f4-afa0-8a231e1064f7"
      },
      "execution_count": 44,
      "outputs": [
        {
          "output_type": "execute_result",
          "data": {
            "text/html": [
              "<style  type=\"text/css\" >\n",
              "#T_e2b79bf2_7d0c_11ec_a83b_0242ac1c0002row0_col0,#T_e2b79bf2_7d0c_11ec_a83b_0242ac1c0002row0_col1,#T_e2b79bf2_7d0c_11ec_a83b_0242ac1c0002row0_col2,#T_e2b79bf2_7d0c_11ec_a83b_0242ac1c0002row0_col3,#T_e2b79bf2_7d0c_11ec_a83b_0242ac1c0002row0_col4,#T_e2b79bf2_7d0c_11ec_a83b_0242ac1c0002row1_col1,#T_e2b79bf2_7d0c_11ec_a83b_0242ac1c0002row1_col3,#T_e2b79bf2_7d0c_11ec_a83b_0242ac1c0002row2_col1,#T_e2b79bf2_7d0c_11ec_a83b_0242ac1c0002row2_col3,#T_e2b79bf2_7d0c_11ec_a83b_0242ac1c0002row3_col0,#T_e2b79bf2_7d0c_11ec_a83b_0242ac1c0002row3_col1,#T_e2b79bf2_7d0c_11ec_a83b_0242ac1c0002row3_col2,#T_e2b79bf2_7d0c_11ec_a83b_0242ac1c0002row3_col3,#T_e2b79bf2_7d0c_11ec_a83b_0242ac1c0002row3_col4,#T_e2b79bf2_7d0c_11ec_a83b_0242ac1c0002row4_col0,#T_e2b79bf2_7d0c_11ec_a83b_0242ac1c0002row4_col1,#T_e2b79bf2_7d0c_11ec_a83b_0242ac1c0002row4_col2,#T_e2b79bf2_7d0c_11ec_a83b_0242ac1c0002row4_col3,#T_e2b79bf2_7d0c_11ec_a83b_0242ac1c0002row4_col4,#T_e2b79bf2_7d0c_11ec_a83b_0242ac1c0002row5_col0,#T_e2b79bf2_7d0c_11ec_a83b_0242ac1c0002row5_col1,#T_e2b79bf2_7d0c_11ec_a83b_0242ac1c0002row5_col2,#T_e2b79bf2_7d0c_11ec_a83b_0242ac1c0002row5_col3,#T_e2b79bf2_7d0c_11ec_a83b_0242ac1c0002row5_col4,#T_e2b79bf2_7d0c_11ec_a83b_0242ac1c0002row6_col0,#T_e2b79bf2_7d0c_11ec_a83b_0242ac1c0002row6_col1,#T_e2b79bf2_7d0c_11ec_a83b_0242ac1c0002row6_col2,#T_e2b79bf2_7d0c_11ec_a83b_0242ac1c0002row6_col3,#T_e2b79bf2_7d0c_11ec_a83b_0242ac1c0002row6_col4,#T_e2b79bf2_7d0c_11ec_a83b_0242ac1c0002row7_col1,#T_e2b79bf2_7d0c_11ec_a83b_0242ac1c0002row7_col3,#T_e2b79bf2_7d0c_11ec_a83b_0242ac1c0002row8_col0,#T_e2b79bf2_7d0c_11ec_a83b_0242ac1c0002row8_col1,#T_e2b79bf2_7d0c_11ec_a83b_0242ac1c0002row8_col2,#T_e2b79bf2_7d0c_11ec_a83b_0242ac1c0002row8_col3,#T_e2b79bf2_7d0c_11ec_a83b_0242ac1c0002row8_col4,#T_e2b79bf2_7d0c_11ec_a83b_0242ac1c0002row9_col0,#T_e2b79bf2_7d0c_11ec_a83b_0242ac1c0002row9_col1,#T_e2b79bf2_7d0c_11ec_a83b_0242ac1c0002row9_col2,#T_e2b79bf2_7d0c_11ec_a83b_0242ac1c0002row9_col3,#T_e2b79bf2_7d0c_11ec_a83b_0242ac1c0002row9_col4,#T_e2b79bf2_7d0c_11ec_a83b_0242ac1c0002row10_col1,#T_e2b79bf2_7d0c_11ec_a83b_0242ac1c0002row10_col3,#T_e2b79bf2_7d0c_11ec_a83b_0242ac1c0002row11_col0,#T_e2b79bf2_7d0c_11ec_a83b_0242ac1c0002row11_col1,#T_e2b79bf2_7d0c_11ec_a83b_0242ac1c0002row11_col2,#T_e2b79bf2_7d0c_11ec_a83b_0242ac1c0002row11_col3,#T_e2b79bf2_7d0c_11ec_a83b_0242ac1c0002row11_col4,#T_e2b79bf2_7d0c_11ec_a83b_0242ac1c0002row12_col0,#T_e2b79bf2_7d0c_11ec_a83b_0242ac1c0002row12_col1,#T_e2b79bf2_7d0c_11ec_a83b_0242ac1c0002row12_col2,#T_e2b79bf2_7d0c_11ec_a83b_0242ac1c0002row12_col3,#T_e2b79bf2_7d0c_11ec_a83b_0242ac1c0002row12_col4,#T_e2b79bf2_7d0c_11ec_a83b_0242ac1c0002row13_col0,#T_e2b79bf2_7d0c_11ec_a83b_0242ac1c0002row13_col1,#T_e2b79bf2_7d0c_11ec_a83b_0242ac1c0002row13_col2,#T_e2b79bf2_7d0c_11ec_a83b_0242ac1c0002row13_col3,#T_e2b79bf2_7d0c_11ec_a83b_0242ac1c0002row13_col4,#T_e2b79bf2_7d0c_11ec_a83b_0242ac1c0002row14_col0,#T_e2b79bf2_7d0c_11ec_a83b_0242ac1c0002row14_col1,#T_e2b79bf2_7d0c_11ec_a83b_0242ac1c0002row14_col2,#T_e2b79bf2_7d0c_11ec_a83b_0242ac1c0002row14_col3,#T_e2b79bf2_7d0c_11ec_a83b_0242ac1c0002row14_col4{\n",
              "            background-color:  #f8961e;\n",
              "        }</style><table id=\"T_e2b79bf2_7d0c_11ec_a83b_0242ac1c0002\" class=\"dataframe\"><thead>    <tr>        <th class=\"blank level0\" ></th>        <th class=\"col_heading level0 col0\" >AB</th>        <th class=\"col_heading level0 col1\" >G</th>        <th class=\"col_heading level0 col2\" >H</th>        <th class=\"col_heading level0 col3\" >HR</th>        <th class=\"col_heading level0 col4\" >R</th>    </tr>    <tr>        <th class=\"index_name level0\" >playerID</th>        <th class=\"blank\" ></th>        <th class=\"blank\" ></th>        <th class=\"blank\" ></th>        <th class=\"blank\" ></th>        <th class=\"blank\" ></th>    </tr></thead><tbody>\n",
              "                <tr>\n",
              "                        <th id=\"T_e2b79bf2_7d0c_11ec_a83b_0242ac1c0002level0_row0\" class=\"row_heading level0 row0\" >gattiev01</th>\n",
              "                        <td id=\"T_e2b79bf2_7d0c_11ec_a83b_0242ac1c0002row0_col0\" class=\"data row0 col0\" >nan</td>\n",
              "                        <td id=\"T_e2b79bf2_7d0c_11ec_a83b_0242ac1c0002row0_col1\" class=\"data row0 col1\" >nan</td>\n",
              "                        <td id=\"T_e2b79bf2_7d0c_11ec_a83b_0242ac1c0002row0_col2\" class=\"data row0 col2\" >nan</td>\n",
              "                        <td id=\"T_e2b79bf2_7d0c_11ec_a83b_0242ac1c0002row0_col3\" class=\"data row0 col3\" >nan</td>\n",
              "                        <td id=\"T_e2b79bf2_7d0c_11ec_a83b_0242ac1c0002row0_col4\" class=\"data row0 col4\" >nan</td>\n",
              "            </tr>\n",
              "            <tr>\n",
              "                        <th id=\"T_e2b79bf2_7d0c_11ec_a83b_0242ac1c0002level0_row1\" class=\"row_heading level0 row1\" >marisja01</th>\n",
              "                        <td id=\"T_e2b79bf2_7d0c_11ec_a83b_0242ac1c0002row1_col0\" class=\"data row1 col0\" >512.000000</td>\n",
              "                        <td id=\"T_e2b79bf2_7d0c_11ec_a83b_0242ac1c0002row1_col1\" class=\"data row1 col1\" >nan</td>\n",
              "                        <td id=\"T_e2b79bf2_7d0c_11ec_a83b_0242ac1c0002row1_col2\" class=\"data row1 col2\" >127.000000</td>\n",
              "                        <td id=\"T_e2b79bf2_7d0c_11ec_a83b_0242ac1c0002row1_col3\" class=\"data row1 col3\" >nan</td>\n",
              "                        <td id=\"T_e2b79bf2_7d0c_11ec_a83b_0242ac1c0002row1_col4\" class=\"data row1 col4\" >64.000000</td>\n",
              "            </tr>\n",
              "            <tr>\n",
              "                        <th id=\"T_e2b79bf2_7d0c_11ec_a83b_0242ac1c0002level0_row2\" class=\"row_heading level0 row2\" >altuvjo01</th>\n",
              "                        <td id=\"T_e2b79bf2_7d0c_11ec_a83b_0242ac1c0002row2_col0\" class=\"data row2 col0\" >1298.000000</td>\n",
              "                        <td id=\"T_e2b79bf2_7d0c_11ec_a83b_0242ac1c0002row2_col1\" class=\"data row2 col1\" >nan</td>\n",
              "                        <td id=\"T_e2b79bf2_7d0c_11ec_a83b_0242ac1c0002row2_col2\" class=\"data row2 col2\" >425.000000</td>\n",
              "                        <td id=\"T_e2b79bf2_7d0c_11ec_a83b_0242ac1c0002row2_col3\" class=\"data row2 col3\" >nan</td>\n",
              "                        <td id=\"T_e2b79bf2_7d0c_11ec_a83b_0242ac1c0002row2_col4\" class=\"data row2 col4\" >171.000000</td>\n",
              "            </tr>\n",
              "            <tr>\n",
              "                        <th id=\"T_e2b79bf2_7d0c_11ec_a83b_0242ac1c0002level0_row3\" class=\"row_heading level0 row3\" >rasmuco01</th>\n",
              "                        <td id=\"T_e2b79bf2_7d0c_11ec_a83b_0242ac1c0002row3_col0\" class=\"data row3 col0\" >nan</td>\n",
              "                        <td id=\"T_e2b79bf2_7d0c_11ec_a83b_0242ac1c0002row3_col1\" class=\"data row3 col1\" >nan</td>\n",
              "                        <td id=\"T_e2b79bf2_7d0c_11ec_a83b_0242ac1c0002row3_col2\" class=\"data row3 col2\" >nan</td>\n",
              "                        <td id=\"T_e2b79bf2_7d0c_11ec_a83b_0242ac1c0002row3_col3\" class=\"data row3 col3\" >nan</td>\n",
              "                        <td id=\"T_e2b79bf2_7d0c_11ec_a83b_0242ac1c0002row3_col4\" class=\"data row3 col4\" >nan</td>\n",
              "            </tr>\n",
              "            <tr>\n",
              "                        <th id=\"T_e2b79bf2_7d0c_11ec_a83b_0242ac1c0002level0_row4\" class=\"row_heading level0 row4\" >grossro01</th>\n",
              "                        <td id=\"T_e2b79bf2_7d0c_11ec_a83b_0242ac1c0002row4_col0\" class=\"data row4 col0\" >nan</td>\n",
              "                        <td id=\"T_e2b79bf2_7d0c_11ec_a83b_0242ac1c0002row4_col1\" class=\"data row4 col1\" >nan</td>\n",
              "                        <td id=\"T_e2b79bf2_7d0c_11ec_a83b_0242ac1c0002row4_col2\" class=\"data row4 col2\" >nan</td>\n",
              "                        <td id=\"T_e2b79bf2_7d0c_11ec_a83b_0242ac1c0002row4_col3\" class=\"data row4 col3\" >nan</td>\n",
              "                        <td id=\"T_e2b79bf2_7d0c_11ec_a83b_0242ac1c0002row4_col4\" class=\"data row4 col4\" >nan</td>\n",
              "            </tr>\n",
              "            <tr>\n",
              "                        <th id=\"T_e2b79bf2_7d0c_11ec_a83b_0242ac1c0002level0_row5\" class=\"row_heading level0 row5\" >gomezca01</th>\n",
              "                        <td id=\"T_e2b79bf2_7d0c_11ec_a83b_0242ac1c0002row5_col0\" class=\"data row5 col0\" >nan</td>\n",
              "                        <td id=\"T_e2b79bf2_7d0c_11ec_a83b_0242ac1c0002row5_col1\" class=\"data row5 col1\" >nan</td>\n",
              "                        <td id=\"T_e2b79bf2_7d0c_11ec_a83b_0242ac1c0002row5_col2\" class=\"data row5 col2\" >nan</td>\n",
              "                        <td id=\"T_e2b79bf2_7d0c_11ec_a83b_0242ac1c0002row5_col3\" class=\"data row5 col3\" >nan</td>\n",
              "                        <td id=\"T_e2b79bf2_7d0c_11ec_a83b_0242ac1c0002row5_col4\" class=\"data row5 col4\" >nan</td>\n",
              "            </tr>\n",
              "            <tr>\n",
              "                        <th id=\"T_e2b79bf2_7d0c_11ec_a83b_0242ac1c0002level0_row6\" class=\"row_heading level0 row6\" >hoeslj01</th>\n",
              "                        <td id=\"T_e2b79bf2_7d0c_11ec_a83b_0242ac1c0002row6_col0\" class=\"data row6 col0\" >nan</td>\n",
              "                        <td id=\"T_e2b79bf2_7d0c_11ec_a83b_0242ac1c0002row6_col1\" class=\"data row6 col1\" >nan</td>\n",
              "                        <td id=\"T_e2b79bf2_7d0c_11ec_a83b_0242ac1c0002row6_col2\" class=\"data row6 col2\" >nan</td>\n",
              "                        <td id=\"T_e2b79bf2_7d0c_11ec_a83b_0242ac1c0002row6_col3\" class=\"data row6 col3\" >nan</td>\n",
              "                        <td id=\"T_e2b79bf2_7d0c_11ec_a83b_0242ac1c0002row6_col4\" class=\"data row6 col4\" >nan</td>\n",
              "            </tr>\n",
              "            <tr>\n",
              "                        <th id=\"T_e2b79bf2_7d0c_11ec_a83b_0242ac1c0002level0_row7\" class=\"row_heading level0 row7\" >cartech02</th>\n",
              "                        <td id=\"T_e2b79bf2_7d0c_11ec_a83b_0242ac1c0002row7_col0\" class=\"data row7 col0\" >898.000000</td>\n",
              "                        <td id=\"T_e2b79bf2_7d0c_11ec_a83b_0242ac1c0002row7_col1\" class=\"data row7 col1\" >nan</td>\n",
              "                        <td id=\"T_e2b79bf2_7d0c_11ec_a83b_0242ac1c0002row7_col2\" class=\"data row7 col2\" >193.000000</td>\n",
              "                        <td id=\"T_e2b79bf2_7d0c_11ec_a83b_0242ac1c0002row7_col3\" class=\"data row7 col3\" >nan</td>\n",
              "                        <td id=\"T_e2b79bf2_7d0c_11ec_a83b_0242ac1c0002row7_col4\" class=\"data row7 col4\" >118.000000</td>\n",
              "            </tr>\n",
              "            <tr>\n",
              "                        <th id=\"T_e2b79bf2_7d0c_11ec_a83b_0242ac1c0002level0_row8\" class=\"row_heading level0 row8\" >tuckepr01</th>\n",
              "                        <td id=\"T_e2b79bf2_7d0c_11ec_a83b_0242ac1c0002row8_col0\" class=\"data row8 col0\" >nan</td>\n",
              "                        <td id=\"T_e2b79bf2_7d0c_11ec_a83b_0242ac1c0002row8_col1\" class=\"data row8 col1\" >nan</td>\n",
              "                        <td id=\"T_e2b79bf2_7d0c_11ec_a83b_0242ac1c0002row8_col2\" class=\"data row8 col2\" >nan</td>\n",
              "                        <td id=\"T_e2b79bf2_7d0c_11ec_a83b_0242ac1c0002row8_col3\" class=\"data row8 col3\" >nan</td>\n",
              "                        <td id=\"T_e2b79bf2_7d0c_11ec_a83b_0242ac1c0002row8_col4\" class=\"data row8 col4\" >nan</td>\n",
              "            </tr>\n",
              "            <tr>\n",
              "                        <th id=\"T_e2b79bf2_7d0c_11ec_a83b_0242ac1c0002level0_row9\" class=\"row_heading level0 row9\" >correca01</th>\n",
              "                        <td id=\"T_e2b79bf2_7d0c_11ec_a83b_0242ac1c0002row9_col0\" class=\"data row9 col0\" >nan</td>\n",
              "                        <td id=\"T_e2b79bf2_7d0c_11ec_a83b_0242ac1c0002row9_col1\" class=\"data row9 col1\" >nan</td>\n",
              "                        <td id=\"T_e2b79bf2_7d0c_11ec_a83b_0242ac1c0002row9_col2\" class=\"data row9 col2\" >nan</td>\n",
              "                        <td id=\"T_e2b79bf2_7d0c_11ec_a83b_0242ac1c0002row9_col3\" class=\"data row9 col3\" >nan</td>\n",
              "                        <td id=\"T_e2b79bf2_7d0c_11ec_a83b_0242ac1c0002row9_col4\" class=\"data row9 col4\" >nan</td>\n",
              "            </tr>\n",
              "            <tr>\n",
              "                        <th id=\"T_e2b79bf2_7d0c_11ec_a83b_0242ac1c0002level0_row10\" class=\"row_heading level0 row10\" >castrja01</th>\n",
              "                        <td id=\"T_e2b79bf2_7d0c_11ec_a83b_0242ac1c0002row10_col0\" class=\"data row10 col0\" >802.000000</td>\n",
              "                        <td id=\"T_e2b79bf2_7d0c_11ec_a83b_0242ac1c0002row10_col1\" class=\"data row10 col1\" >nan</td>\n",
              "                        <td id=\"T_e2b79bf2_7d0c_11ec_a83b_0242ac1c0002row10_col2\" class=\"data row10 col2\" >174.000000</td>\n",
              "                        <td id=\"T_e2b79bf2_7d0c_11ec_a83b_0242ac1c0002row10_col3\" class=\"data row10 col3\" >nan</td>\n",
              "                        <td id=\"T_e2b79bf2_7d0c_11ec_a83b_0242ac1c0002row10_col4\" class=\"data row10 col4\" >81.000000</td>\n",
              "            </tr>\n",
              "            <tr>\n",
              "                        <th id=\"T_e2b79bf2_7d0c_11ec_a83b_0242ac1c0002level0_row11\" class=\"row_heading level0 row11\" >guzmaje01</th>\n",
              "                        <td id=\"T_e2b79bf2_7d0c_11ec_a83b_0242ac1c0002row11_col0\" class=\"data row11 col0\" >nan</td>\n",
              "                        <td id=\"T_e2b79bf2_7d0c_11ec_a83b_0242ac1c0002row11_col1\" class=\"data row11 col1\" >nan</td>\n",
              "                        <td id=\"T_e2b79bf2_7d0c_11ec_a83b_0242ac1c0002row11_col2\" class=\"data row11 col2\" >nan</td>\n",
              "                        <td id=\"T_e2b79bf2_7d0c_11ec_a83b_0242ac1c0002row11_col3\" class=\"data row11 col3\" >nan</td>\n",
              "                        <td id=\"T_e2b79bf2_7d0c_11ec_a83b_0242ac1c0002row11_col4\" class=\"data row11 col4\" >nan</td>\n",
              "            </tr>\n",
              "            <tr>\n",
              "                        <th id=\"T_e2b79bf2_7d0c_11ec_a83b_0242ac1c0002level0_row12\" class=\"row_heading level0 row12\" >lowrije01</th>\n",
              "                        <td id=\"T_e2b79bf2_7d0c_11ec_a83b_0242ac1c0002row12_col0\" class=\"data row12 col0\" >nan</td>\n",
              "                        <td id=\"T_e2b79bf2_7d0c_11ec_a83b_0242ac1c0002row12_col1\" class=\"data row12 col1\" >nan</td>\n",
              "                        <td id=\"T_e2b79bf2_7d0c_11ec_a83b_0242ac1c0002row12_col2\" class=\"data row12 col2\" >nan</td>\n",
              "                        <td id=\"T_e2b79bf2_7d0c_11ec_a83b_0242ac1c0002row12_col3\" class=\"data row12 col3\" >nan</td>\n",
              "                        <td id=\"T_e2b79bf2_7d0c_11ec_a83b_0242ac1c0002row12_col4\" class=\"data row12 col4\" >nan</td>\n",
              "            </tr>\n",
              "            <tr>\n",
              "                        <th id=\"T_e2b79bf2_7d0c_11ec_a83b_0242ac1c0002level0_row13\" class=\"row_heading level0 row13\" >congeha01</th>\n",
              "                        <td id=\"T_e2b79bf2_7d0c_11ec_a83b_0242ac1c0002row13_col0\" class=\"data row13 col0\" >nan</td>\n",
              "                        <td id=\"T_e2b79bf2_7d0c_11ec_a83b_0242ac1c0002row13_col1\" class=\"data row13 col1\" >nan</td>\n",
              "                        <td id=\"T_e2b79bf2_7d0c_11ec_a83b_0242ac1c0002row13_col2\" class=\"data row13 col2\" >nan</td>\n",
              "                        <td id=\"T_e2b79bf2_7d0c_11ec_a83b_0242ac1c0002row13_col3\" class=\"data row13 col3\" >nan</td>\n",
              "                        <td id=\"T_e2b79bf2_7d0c_11ec_a83b_0242ac1c0002row13_col4\" class=\"data row13 col4\" >nan</td>\n",
              "            </tr>\n",
              "            <tr>\n",
              "                        <th id=\"T_e2b79bf2_7d0c_11ec_a83b_0242ac1c0002level0_row14\" class=\"row_heading level0 row14\" >corpoca01</th>\n",
              "                        <td id=\"T_e2b79bf2_7d0c_11ec_a83b_0242ac1c0002row14_col0\" class=\"data row14 col0\" >nan</td>\n",
              "                        <td id=\"T_e2b79bf2_7d0c_11ec_a83b_0242ac1c0002row14_col1\" class=\"data row14 col1\" >nan</td>\n",
              "                        <td id=\"T_e2b79bf2_7d0c_11ec_a83b_0242ac1c0002row14_col2\" class=\"data row14 col2\" >nan</td>\n",
              "                        <td id=\"T_e2b79bf2_7d0c_11ec_a83b_0242ac1c0002row14_col3\" class=\"data row14 col3\" >nan</td>\n",
              "                        <td id=\"T_e2b79bf2_7d0c_11ec_a83b_0242ac1c0002row14_col4\" class=\"data row14 col4\" >nan</td>\n",
              "            </tr>\n",
              "    </tbody></table>"
            ],
            "text/plain": [
              "<pandas.io.formats.style.Styler at 0x7f9681aae0d0>"
            ]
          },
          "metadata": {},
          "execution_count": 44
        }
      ]
    },
    {
      "cell_type": "markdown",
      "source": [
        "Only the rows where playerID appears in both DataFrames will be available. Similarly, the\n",
        "columns AB, H, and R are the only ones that appear in both DataFrames. Even if we use the\n",
        ".add method with the fill_value parameter specified, we still might have missing values.\n",
        "This is because some combinations of rows and columns never existed in our input data; for\n",
        "example, the intersection of playerID congeha01 and column G. That player only appeared in\n",
        "the 2015 dataset that did not have the G column. Therefore, that value was missing:"
      ],
      "metadata": {
        "id": "0nRpT4Mo9KSM"
      }
    },
    {
      "cell_type": "code",
      "source": [
        "(\n",
        "    df_14.add(df_15, fill_value=0)\n",
        "    .sample(n=15, random_state=42)\n",
        "    .style.highlight_null('#f8961e')\n",
        ")"
      ],
      "metadata": {
        "colab": {
          "base_uri": "https://localhost:8080/",
          "height": 551
        },
        "id": "entwrF7V8aPH",
        "outputId": "4d6c6386-c672-4735-a312-cb48fd038ce6"
      },
      "execution_count": 45,
      "outputs": [
        {
          "output_type": "execute_result",
          "data": {
            "text/html": [
              "<style  type=\"text/css\" >\n",
              "#T_55cce48a_7d0d_11ec_a83b_0242ac1c0002row0_col1,#T_55cce48a_7d0d_11ec_a83b_0242ac1c0002row3_col1,#T_55cce48a_7d0d_11ec_a83b_0242ac1c0002row4_col3,#T_55cce48a_7d0d_11ec_a83b_0242ac1c0002row5_col1,#T_55cce48a_7d0d_11ec_a83b_0242ac1c0002row6_col3,#T_55cce48a_7d0d_11ec_a83b_0242ac1c0002row8_col1,#T_55cce48a_7d0d_11ec_a83b_0242ac1c0002row9_col1,#T_55cce48a_7d0d_11ec_a83b_0242ac1c0002row11_col3,#T_55cce48a_7d0d_11ec_a83b_0242ac1c0002row12_col1,#T_55cce48a_7d0d_11ec_a83b_0242ac1c0002row13_col1,#T_55cce48a_7d0d_11ec_a83b_0242ac1c0002row14_col3{\n",
              "            background-color:  #f8961e;\n",
              "        }</style><table id=\"T_55cce48a_7d0d_11ec_a83b_0242ac1c0002\" class=\"dataframe\"><thead>    <tr>        <th class=\"blank level0\" ></th>        <th class=\"col_heading level0 col0\" >AB</th>        <th class=\"col_heading level0 col1\" >G</th>        <th class=\"col_heading level0 col2\" >H</th>        <th class=\"col_heading level0 col3\" >HR</th>        <th class=\"col_heading level0 col4\" >R</th>    </tr>    <tr>        <th class=\"index_name level0\" >playerID</th>        <th class=\"blank\" ></th>        <th class=\"blank\" ></th>        <th class=\"blank\" ></th>        <th class=\"blank\" ></th>        <th class=\"blank\" ></th>    </tr></thead><tbody>\n",
              "                <tr>\n",
              "                        <th id=\"T_55cce48a_7d0d_11ec_a83b_0242ac1c0002level0_row0\" class=\"row_heading level0 row0\" >gattiev01</th>\n",
              "                        <td id=\"T_55cce48a_7d0d_11ec_a83b_0242ac1c0002row0_col0\" class=\"data row0 col0\" >566.000000</td>\n",
              "                        <td id=\"T_55cce48a_7d0d_11ec_a83b_0242ac1c0002row0_col1\" class=\"data row0 col1\" >nan</td>\n",
              "                        <td id=\"T_55cce48a_7d0d_11ec_a83b_0242ac1c0002row0_col2\" class=\"data row0 col2\" >139.000000</td>\n",
              "                        <td id=\"T_55cce48a_7d0d_11ec_a83b_0242ac1c0002row0_col3\" class=\"data row0 col3\" >27.000000</td>\n",
              "                        <td id=\"T_55cce48a_7d0d_11ec_a83b_0242ac1c0002row0_col4\" class=\"data row0 col4\" >66.000000</td>\n",
              "            </tr>\n",
              "            <tr>\n",
              "                        <th id=\"T_55cce48a_7d0d_11ec_a83b_0242ac1c0002level0_row1\" class=\"row_heading level0 row1\" >marisja01</th>\n",
              "                        <td id=\"T_55cce48a_7d0d_11ec_a83b_0242ac1c0002row1_col0\" class=\"data row1 col0\" >512.000000</td>\n",
              "                        <td id=\"T_55cce48a_7d0d_11ec_a83b_0242ac1c0002row1_col1\" class=\"data row1 col1\" >51.000000</td>\n",
              "                        <td id=\"T_55cce48a_7d0d_11ec_a83b_0242ac1c0002row1_col2\" class=\"data row1 col2\" >127.000000</td>\n",
              "                        <td id=\"T_55cce48a_7d0d_11ec_a83b_0242ac1c0002row1_col3\" class=\"data row1 col3\" >9.000000</td>\n",
              "                        <td id=\"T_55cce48a_7d0d_11ec_a83b_0242ac1c0002row1_col4\" class=\"data row1 col4\" >64.000000</td>\n",
              "            </tr>\n",
              "            <tr>\n",
              "                        <th id=\"T_55cce48a_7d0d_11ec_a83b_0242ac1c0002level0_row2\" class=\"row_heading level0 row2\" >altuvjo01</th>\n",
              "                        <td id=\"T_55cce48a_7d0d_11ec_a83b_0242ac1c0002row2_col0\" class=\"data row2 col0\" >1298.000000</td>\n",
              "                        <td id=\"T_55cce48a_7d0d_11ec_a83b_0242ac1c0002row2_col1\" class=\"data row2 col1\" >158.000000</td>\n",
              "                        <td id=\"T_55cce48a_7d0d_11ec_a83b_0242ac1c0002row2_col2\" class=\"data row2 col2\" >425.000000</td>\n",
              "                        <td id=\"T_55cce48a_7d0d_11ec_a83b_0242ac1c0002row2_col3\" class=\"data row2 col3\" >15.000000</td>\n",
              "                        <td id=\"T_55cce48a_7d0d_11ec_a83b_0242ac1c0002row2_col4\" class=\"data row2 col4\" >171.000000</td>\n",
              "            </tr>\n",
              "            <tr>\n",
              "                        <th id=\"T_55cce48a_7d0d_11ec_a83b_0242ac1c0002level0_row3\" class=\"row_heading level0 row3\" >rasmuco01</th>\n",
              "                        <td id=\"T_55cce48a_7d0d_11ec_a83b_0242ac1c0002row3_col0\" class=\"data row3 col0\" >432.000000</td>\n",
              "                        <td id=\"T_55cce48a_7d0d_11ec_a83b_0242ac1c0002row3_col1\" class=\"data row3 col1\" >nan</td>\n",
              "                        <td id=\"T_55cce48a_7d0d_11ec_a83b_0242ac1c0002row3_col2\" class=\"data row3 col2\" >103.000000</td>\n",
              "                        <td id=\"T_55cce48a_7d0d_11ec_a83b_0242ac1c0002row3_col3\" class=\"data row3 col3\" >25.000000</td>\n",
              "                        <td id=\"T_55cce48a_7d0d_11ec_a83b_0242ac1c0002row3_col4\" class=\"data row3 col4\" >67.000000</td>\n",
              "            </tr>\n",
              "            <tr>\n",
              "                        <th id=\"T_55cce48a_7d0d_11ec_a83b_0242ac1c0002level0_row4\" class=\"row_heading level0 row4\" >grossro01</th>\n",
              "                        <td id=\"T_55cce48a_7d0d_11ec_a83b_0242ac1c0002row4_col0\" class=\"data row4 col0\" >360.000000</td>\n",
              "                        <td id=\"T_55cce48a_7d0d_11ec_a83b_0242ac1c0002row4_col1\" class=\"data row4 col1\" >103.000000</td>\n",
              "                        <td id=\"T_55cce48a_7d0d_11ec_a83b_0242ac1c0002row4_col2\" class=\"data row4 col2\" >84.000000</td>\n",
              "                        <td id=\"T_55cce48a_7d0d_11ec_a83b_0242ac1c0002row4_col3\" class=\"data row4 col3\" >nan</td>\n",
              "                        <td id=\"T_55cce48a_7d0d_11ec_a83b_0242ac1c0002row4_col4\" class=\"data row4 col4\" >42.000000</td>\n",
              "            </tr>\n",
              "            <tr>\n",
              "                        <th id=\"T_55cce48a_7d0d_11ec_a83b_0242ac1c0002level0_row5\" class=\"row_heading level0 row5\" >gomezca01</th>\n",
              "                        <td id=\"T_55cce48a_7d0d_11ec_a83b_0242ac1c0002row5_col0\" class=\"data row5 col0\" >149.000000</td>\n",
              "                        <td id=\"T_55cce48a_7d0d_11ec_a83b_0242ac1c0002row5_col1\" class=\"data row5 col1\" >nan</td>\n",
              "                        <td id=\"T_55cce48a_7d0d_11ec_a83b_0242ac1c0002row5_col2\" class=\"data row5 col2\" >36.000000</td>\n",
              "                        <td id=\"T_55cce48a_7d0d_11ec_a83b_0242ac1c0002row5_col3\" class=\"data row5 col3\" >4.000000</td>\n",
              "                        <td id=\"T_55cce48a_7d0d_11ec_a83b_0242ac1c0002row5_col4\" class=\"data row5 col4\" >19.000000</td>\n",
              "            </tr>\n",
              "            <tr>\n",
              "                        <th id=\"T_55cce48a_7d0d_11ec_a83b_0242ac1c0002level0_row6\" class=\"row_heading level0 row6\" >hoeslj01</th>\n",
              "                        <td id=\"T_55cce48a_7d0d_11ec_a83b_0242ac1c0002row6_col0\" class=\"data row6 col0\" >122.000000</td>\n",
              "                        <td id=\"T_55cce48a_7d0d_11ec_a83b_0242ac1c0002row6_col1\" class=\"data row6 col1\" >55.000000</td>\n",
              "                        <td id=\"T_55cce48a_7d0d_11ec_a83b_0242ac1c0002row6_col2\" class=\"data row6 col2\" >21.000000</td>\n",
              "                        <td id=\"T_55cce48a_7d0d_11ec_a83b_0242ac1c0002row6_col3\" class=\"data row6 col3\" >nan</td>\n",
              "                        <td id=\"T_55cce48a_7d0d_11ec_a83b_0242ac1c0002row6_col4\" class=\"data row6 col4\" >12.000000</td>\n",
              "            </tr>\n",
              "            <tr>\n",
              "                        <th id=\"T_55cce48a_7d0d_11ec_a83b_0242ac1c0002level0_row7\" class=\"row_heading level0 row7\" >cartech02</th>\n",
              "                        <td id=\"T_55cce48a_7d0d_11ec_a83b_0242ac1c0002row7_col0\" class=\"data row7 col0\" >898.000000</td>\n",
              "                        <td id=\"T_55cce48a_7d0d_11ec_a83b_0242ac1c0002row7_col1\" class=\"data row7 col1\" >145.000000</td>\n",
              "                        <td id=\"T_55cce48a_7d0d_11ec_a83b_0242ac1c0002row7_col2\" class=\"data row7 col2\" >193.000000</td>\n",
              "                        <td id=\"T_55cce48a_7d0d_11ec_a83b_0242ac1c0002row7_col3\" class=\"data row7 col3\" >24.000000</td>\n",
              "                        <td id=\"T_55cce48a_7d0d_11ec_a83b_0242ac1c0002row7_col4\" class=\"data row7 col4\" >118.000000</td>\n",
              "            </tr>\n",
              "            <tr>\n",
              "                        <th id=\"T_55cce48a_7d0d_11ec_a83b_0242ac1c0002level0_row8\" class=\"row_heading level0 row8\" >tuckepr01</th>\n",
              "                        <td id=\"T_55cce48a_7d0d_11ec_a83b_0242ac1c0002row8_col0\" class=\"data row8 col0\" >300.000000</td>\n",
              "                        <td id=\"T_55cce48a_7d0d_11ec_a83b_0242ac1c0002row8_col1\" class=\"data row8 col1\" >nan</td>\n",
              "                        <td id=\"T_55cce48a_7d0d_11ec_a83b_0242ac1c0002row8_col2\" class=\"data row8 col2\" >73.000000</td>\n",
              "                        <td id=\"T_55cce48a_7d0d_11ec_a83b_0242ac1c0002row8_col3\" class=\"data row8 col3\" >13.000000</td>\n",
              "                        <td id=\"T_55cce48a_7d0d_11ec_a83b_0242ac1c0002row8_col4\" class=\"data row8 col4\" >35.000000</td>\n",
              "            </tr>\n",
              "            <tr>\n",
              "                        <th id=\"T_55cce48a_7d0d_11ec_a83b_0242ac1c0002level0_row9\" class=\"row_heading level0 row9\" >correca01</th>\n",
              "                        <td id=\"T_55cce48a_7d0d_11ec_a83b_0242ac1c0002row9_col0\" class=\"data row9 col0\" >387.000000</td>\n",
              "                        <td id=\"T_55cce48a_7d0d_11ec_a83b_0242ac1c0002row9_col1\" class=\"data row9 col1\" >nan</td>\n",
              "                        <td id=\"T_55cce48a_7d0d_11ec_a83b_0242ac1c0002row9_col2\" class=\"data row9 col2\" >108.000000</td>\n",
              "                        <td id=\"T_55cce48a_7d0d_11ec_a83b_0242ac1c0002row9_col3\" class=\"data row9 col3\" >22.000000</td>\n",
              "                        <td id=\"T_55cce48a_7d0d_11ec_a83b_0242ac1c0002row9_col4\" class=\"data row9 col4\" >52.000000</td>\n",
              "            </tr>\n",
              "            <tr>\n",
              "                        <th id=\"T_55cce48a_7d0d_11ec_a83b_0242ac1c0002level0_row10\" class=\"row_heading level0 row10\" >castrja01</th>\n",
              "                        <td id=\"T_55cce48a_7d0d_11ec_a83b_0242ac1c0002row10_col0\" class=\"data row10 col0\" >802.000000</td>\n",
              "                        <td id=\"T_55cce48a_7d0d_11ec_a83b_0242ac1c0002row10_col1\" class=\"data row10 col1\" >126.000000</td>\n",
              "                        <td id=\"T_55cce48a_7d0d_11ec_a83b_0242ac1c0002row10_col2\" class=\"data row10 col2\" >174.000000</td>\n",
              "                        <td id=\"T_55cce48a_7d0d_11ec_a83b_0242ac1c0002row10_col3\" class=\"data row10 col3\" >11.000000</td>\n",
              "                        <td id=\"T_55cce48a_7d0d_11ec_a83b_0242ac1c0002row10_col4\" class=\"data row10 col4\" >81.000000</td>\n",
              "            </tr>\n",
              "            <tr>\n",
              "                        <th id=\"T_55cce48a_7d0d_11ec_a83b_0242ac1c0002level0_row11\" class=\"row_heading level0 row11\" >guzmaje01</th>\n",
              "                        <td id=\"T_55cce48a_7d0d_11ec_a83b_0242ac1c0002row11_col0\" class=\"data row11 col0\" >165.000000</td>\n",
              "                        <td id=\"T_55cce48a_7d0d_11ec_a83b_0242ac1c0002row11_col1\" class=\"data row11 col1\" >69.000000</td>\n",
              "                        <td id=\"T_55cce48a_7d0d_11ec_a83b_0242ac1c0002row11_col2\" class=\"data row11 col2\" >31.000000</td>\n",
              "                        <td id=\"T_55cce48a_7d0d_11ec_a83b_0242ac1c0002row11_col3\" class=\"data row11 col3\" >nan</td>\n",
              "                        <td id=\"T_55cce48a_7d0d_11ec_a83b_0242ac1c0002row11_col4\" class=\"data row11 col4\" >10.000000</td>\n",
              "            </tr>\n",
              "            <tr>\n",
              "                        <th id=\"T_55cce48a_7d0d_11ec_a83b_0242ac1c0002level0_row12\" class=\"row_heading level0 row12\" >lowrije01</th>\n",
              "                        <td id=\"T_55cce48a_7d0d_11ec_a83b_0242ac1c0002row12_col0\" class=\"data row12 col0\" >230.000000</td>\n",
              "                        <td id=\"T_55cce48a_7d0d_11ec_a83b_0242ac1c0002row12_col1\" class=\"data row12 col1\" >nan</td>\n",
              "                        <td id=\"T_55cce48a_7d0d_11ec_a83b_0242ac1c0002row12_col2\" class=\"data row12 col2\" >51.000000</td>\n",
              "                        <td id=\"T_55cce48a_7d0d_11ec_a83b_0242ac1c0002row12_col3\" class=\"data row12 col3\" >9.000000</td>\n",
              "                        <td id=\"T_55cce48a_7d0d_11ec_a83b_0242ac1c0002row12_col4\" class=\"data row12 col4\" >35.000000</td>\n",
              "            </tr>\n",
              "            <tr>\n",
              "                        <th id=\"T_55cce48a_7d0d_11ec_a83b_0242ac1c0002level0_row13\" class=\"row_heading level0 row13\" >congeha01</th>\n",
              "                        <td id=\"T_55cce48a_7d0d_11ec_a83b_0242ac1c0002row13_col0\" class=\"data row13 col0\" >201.000000</td>\n",
              "                        <td id=\"T_55cce48a_7d0d_11ec_a83b_0242ac1c0002row13_col1\" class=\"data row13 col1\" >nan</td>\n",
              "                        <td id=\"T_55cce48a_7d0d_11ec_a83b_0242ac1c0002row13_col2\" class=\"data row13 col2\" >46.000000</td>\n",
              "                        <td id=\"T_55cce48a_7d0d_11ec_a83b_0242ac1c0002row13_col3\" class=\"data row13 col3\" >11.000000</td>\n",
              "                        <td id=\"T_55cce48a_7d0d_11ec_a83b_0242ac1c0002row13_col4\" class=\"data row13 col4\" >25.000000</td>\n",
              "            </tr>\n",
              "            <tr>\n",
              "                        <th id=\"T_55cce48a_7d0d_11ec_a83b_0242ac1c0002level0_row14\" class=\"row_heading level0 row14\" >corpoca01</th>\n",
              "                        <td id=\"T_55cce48a_7d0d_11ec_a83b_0242ac1c0002row14_col0\" class=\"data row14 col0\" >170.000000</td>\n",
              "                        <td id=\"T_55cce48a_7d0d_11ec_a83b_0242ac1c0002row14_col1\" class=\"data row14 col1\" >55.000000</td>\n",
              "                        <td id=\"T_55cce48a_7d0d_11ec_a83b_0242ac1c0002row14_col2\" class=\"data row14 col2\" >40.000000</td>\n",
              "                        <td id=\"T_55cce48a_7d0d_11ec_a83b_0242ac1c0002row14_col3\" class=\"data row14 col3\" >nan</td>\n",
              "                        <td id=\"T_55cce48a_7d0d_11ec_a83b_0242ac1c0002row14_col4\" class=\"data row14 col4\" >22.000000</td>\n",
              "            </tr>\n",
              "    </tbody></table>"
            ],
            "text/plain": [
              "<pandas.io.formats.style.Styler at 0x7f9681378d50>"
            ]
          },
          "metadata": {},
          "execution_count": 45
        }
      ]
    },
    {
      "cell_type": "code",
      "source": [
        ""
      ],
      "metadata": {
        "id": "IgIVtT0_9jkm"
      },
      "execution_count": null,
      "outputs": []
    }
  ]
}