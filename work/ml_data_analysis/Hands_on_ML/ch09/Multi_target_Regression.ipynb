{
  "nbformat": 4,
  "nbformat_minor": 0,
  "metadata": {
    "colab": {
      "name": "Multi_target_Regression.ipynb",
      "provenance": []
    },
    "kernelspec": {
      "name": "python3",
      "display_name": "Python 3"
    },
    "language_info": {
      "name": "python"
    }
  },
  "cells": [
    {
      "cell_type": "markdown",
      "source": [
        "# Multi-target Regression"
      ],
      "metadata": {
        "id": "Ta-gF_6LNst-"
      }
    },
    {
      "cell_type": "code",
      "execution_count": 1,
      "metadata": {
        "id": "J6Z-64WJNolq"
      },
      "outputs": [],
      "source": [
        "import pandas as pd\n",
        "import numpy as np\n",
        "import matplotlib.pyplot as plt\n",
        "plt.style.use('ggplot')\n",
        "%matplotlib inline"
      ]
    },
    {
      "cell_type": "code",
      "source": [
        "from sklearn.datasets import make_regression\n",
        "\n",
        "x, y = make_regression(\n",
        "    n_samples=500, n_features=8, n_informative=8, n_targets=3, noise=30.0\n",
        ")"
      ],
      "metadata": {
        "id": "RSGhN_zNNy8Y"
      },
      "execution_count": 2,
      "outputs": []
    },
    {
      "cell_type": "code",
      "source": [
        "x.shape, y.shape"
      ],
      "metadata": {
        "colab": {
          "base_uri": "https://localhost:8080/"
        },
        "id": "v2PrY0OmN12p",
        "outputId": "0bf36cd3-6282-40be-c059-91082e9833af"
      },
      "execution_count": 3,
      "outputs": [
        {
          "output_type": "execute_result",
          "data": {
            "text/plain": [
              "((500, 8), (500, 3))"
            ]
          },
          "metadata": {},
          "execution_count": 3
        }
      ]
    },
    {
      "cell_type": "code",
      "source": [
        "feature_names = [f'Feature # {i}' for i in range(x.shape[1])]\n",
        "\n",
        "dfx = pd.DataFrame(\n",
        "    x, columns=feature_names\n",
        ")\n",
        "\n",
        "dfx.head(5)"
      ],
      "metadata": {
        "colab": {
          "base_uri": "https://localhost:8080/",
          "height": 206
        },
        "id": "SJcL-1UtN6C_",
        "outputId": "2e9c68a0-1f1a-4a62-c0a4-38162b744fc2"
      },
      "execution_count": 4,
      "outputs": [
        {
          "output_type": "execute_result",
          "data": {
            "text/plain": [
              "   Feature # 0  Feature # 1  Feature # 2  Feature # 3  Feature # 4  \\\n",
              "0     0.511110    -1.238440     0.926158     0.837739    -0.069713   \n",
              "1    -0.101650     0.333000     0.021271    -0.956027    -1.099317   \n",
              "2     0.322240     0.567546    -0.774132    -1.125328     0.078272   \n",
              "3    -1.205350    -1.055370     0.647800     1.919123    -1.168752   \n",
              "4    -0.573225     2.139462     2.076481    -0.866694    -1.961697   \n",
              "\n",
              "   Feature # 5  Feature # 6  Feature # 7  \n",
              "0    -0.466571     0.673847     0.096787  \n",
              "1     0.497471    -1.226324     1.211072  \n",
              "2    -0.537235    -0.309283    -0.282478  \n",
              "3    -0.073463     0.067616     2.445373  \n",
              "4     0.619480     0.754257    -1.855199  "
            ],
            "text/html": [
              "\n",
              "  <div id=\"df-a7992ede-7ad1-42b7-b8d8-3d9fc19426d3\">\n",
              "    <div class=\"colab-df-container\">\n",
              "      <div>\n",
              "<style scoped>\n",
              "    .dataframe tbody tr th:only-of-type {\n",
              "        vertical-align: middle;\n",
              "    }\n",
              "\n",
              "    .dataframe tbody tr th {\n",
              "        vertical-align: top;\n",
              "    }\n",
              "\n",
              "    .dataframe thead th {\n",
              "        text-align: right;\n",
              "    }\n",
              "</style>\n",
              "<table border=\"1\" class=\"dataframe\">\n",
              "  <thead>\n",
              "    <tr style=\"text-align: right;\">\n",
              "      <th></th>\n",
              "      <th>Feature # 0</th>\n",
              "      <th>Feature # 1</th>\n",
              "      <th>Feature # 2</th>\n",
              "      <th>Feature # 3</th>\n",
              "      <th>Feature # 4</th>\n",
              "      <th>Feature # 5</th>\n",
              "      <th>Feature # 6</th>\n",
              "      <th>Feature # 7</th>\n",
              "    </tr>\n",
              "  </thead>\n",
              "  <tbody>\n",
              "    <tr>\n",
              "      <th>0</th>\n",
              "      <td>0.511110</td>\n",
              "      <td>-1.238440</td>\n",
              "      <td>0.926158</td>\n",
              "      <td>0.837739</td>\n",
              "      <td>-0.069713</td>\n",
              "      <td>-0.466571</td>\n",
              "      <td>0.673847</td>\n",
              "      <td>0.096787</td>\n",
              "    </tr>\n",
              "    <tr>\n",
              "      <th>1</th>\n",
              "      <td>-0.101650</td>\n",
              "      <td>0.333000</td>\n",
              "      <td>0.021271</td>\n",
              "      <td>-0.956027</td>\n",
              "      <td>-1.099317</td>\n",
              "      <td>0.497471</td>\n",
              "      <td>-1.226324</td>\n",
              "      <td>1.211072</td>\n",
              "    </tr>\n",
              "    <tr>\n",
              "      <th>2</th>\n",
              "      <td>0.322240</td>\n",
              "      <td>0.567546</td>\n",
              "      <td>-0.774132</td>\n",
              "      <td>-1.125328</td>\n",
              "      <td>0.078272</td>\n",
              "      <td>-0.537235</td>\n",
              "      <td>-0.309283</td>\n",
              "      <td>-0.282478</td>\n",
              "    </tr>\n",
              "    <tr>\n",
              "      <th>3</th>\n",
              "      <td>-1.205350</td>\n",
              "      <td>-1.055370</td>\n",
              "      <td>0.647800</td>\n",
              "      <td>1.919123</td>\n",
              "      <td>-1.168752</td>\n",
              "      <td>-0.073463</td>\n",
              "      <td>0.067616</td>\n",
              "      <td>2.445373</td>\n",
              "    </tr>\n",
              "    <tr>\n",
              "      <th>4</th>\n",
              "      <td>-0.573225</td>\n",
              "      <td>2.139462</td>\n",
              "      <td>2.076481</td>\n",
              "      <td>-0.866694</td>\n",
              "      <td>-1.961697</td>\n",
              "      <td>0.619480</td>\n",
              "      <td>0.754257</td>\n",
              "      <td>-1.855199</td>\n",
              "    </tr>\n",
              "  </tbody>\n",
              "</table>\n",
              "</div>\n",
              "      <button class=\"colab-df-convert\" onclick=\"convertToInteractive('df-a7992ede-7ad1-42b7-b8d8-3d9fc19426d3')\"\n",
              "              title=\"Convert this dataframe to an interactive table.\"\n",
              "              style=\"display:none;\">\n",
              "        \n",
              "  <svg xmlns=\"http://www.w3.org/2000/svg\" height=\"24px\"viewBox=\"0 0 24 24\"\n",
              "       width=\"24px\">\n",
              "    <path d=\"M0 0h24v24H0V0z\" fill=\"none\"/>\n",
              "    <path d=\"M18.56 5.44l.94 2.06.94-2.06 2.06-.94-2.06-.94-.94-2.06-.94 2.06-2.06.94zm-11 1L8.5 8.5l.94-2.06 2.06-.94-2.06-.94L8.5 2.5l-.94 2.06-2.06.94zm10 10l.94 2.06.94-2.06 2.06-.94-2.06-.94-.94-2.06-.94 2.06-2.06.94z\"/><path d=\"M17.41 7.96l-1.37-1.37c-.4-.4-.92-.59-1.43-.59-.52 0-1.04.2-1.43.59L10.3 9.45l-7.72 7.72c-.78.78-.78 2.05 0 2.83L4 21.41c.39.39.9.59 1.41.59.51 0 1.02-.2 1.41-.59l7.78-7.78 2.81-2.81c.8-.78.8-2.07 0-2.86zM5.41 20L4 18.59l7.72-7.72 1.47 1.35L5.41 20z\"/>\n",
              "  </svg>\n",
              "      </button>\n",
              "      \n",
              "  <style>\n",
              "    .colab-df-container {\n",
              "      display:flex;\n",
              "      flex-wrap:wrap;\n",
              "      gap: 12px;\n",
              "    }\n",
              "\n",
              "    .colab-df-convert {\n",
              "      background-color: #E8F0FE;\n",
              "      border: none;\n",
              "      border-radius: 50%;\n",
              "      cursor: pointer;\n",
              "      display: none;\n",
              "      fill: #1967D2;\n",
              "      height: 32px;\n",
              "      padding: 0 0 0 0;\n",
              "      width: 32px;\n",
              "    }\n",
              "\n",
              "    .colab-df-convert:hover {\n",
              "      background-color: #E2EBFA;\n",
              "      box-shadow: 0px 1px 2px rgba(60, 64, 67, 0.3), 0px 1px 3px 1px rgba(60, 64, 67, 0.15);\n",
              "      fill: #174EA6;\n",
              "    }\n",
              "\n",
              "    [theme=dark] .colab-df-convert {\n",
              "      background-color: #3B4455;\n",
              "      fill: #D2E3FC;\n",
              "    }\n",
              "\n",
              "    [theme=dark] .colab-df-convert:hover {\n",
              "      background-color: #434B5C;\n",
              "      box-shadow: 0px 1px 3px 1px rgba(0, 0, 0, 0.15);\n",
              "      filter: drop-shadow(0px 1px 2px rgba(0, 0, 0, 0.3));\n",
              "      fill: #FFFFFF;\n",
              "    }\n",
              "  </style>\n",
              "\n",
              "      <script>\n",
              "        const buttonEl =\n",
              "          document.querySelector('#df-a7992ede-7ad1-42b7-b8d8-3d9fc19426d3 button.colab-df-convert');\n",
              "        buttonEl.style.display =\n",
              "          google.colab.kernel.accessAllowed ? 'block' : 'none';\n",
              "\n",
              "        async function convertToInteractive(key) {\n",
              "          const element = document.querySelector('#df-a7992ede-7ad1-42b7-b8d8-3d9fc19426d3');\n",
              "          const dataTable =\n",
              "            await google.colab.kernel.invokeFunction('convertToInteractive',\n",
              "                                                     [key], {});\n",
              "          if (!dataTable) return;\n",
              "\n",
              "          const docLinkHtml = 'Like what you see? Visit the ' +\n",
              "            '<a target=\"_blank\" href=https://colab.research.google.com/notebooks/data_table.ipynb>data table notebook</a>'\n",
              "            + ' to learn more about interactive tables.';\n",
              "          element.innerHTML = '';\n",
              "          dataTable['output_type'] = 'display_data';\n",
              "          await google.colab.output.renderOutput(dataTable, element);\n",
              "          const docLink = document.createElement('div');\n",
              "          docLink.innerHTML = docLinkHtml;\n",
              "          element.appendChild(docLink);\n",
              "        }\n",
              "      </script>\n",
              "    </div>\n",
              "  </div>\n",
              "  "
            ]
          },
          "metadata": {},
          "execution_count": 4
        }
      ]
    },
    {
      "cell_type": "code",
      "source": [
        "target_names = [f'Target # {i}' for i in range(y.shape[1])]\n",
        "\n",
        "dfy = pd.DataFrame(\n",
        "    y, columns=target_names\n",
        ")\n",
        "\n",
        "dfy.head(5)"
      ],
      "metadata": {
        "colab": {
          "base_uri": "https://localhost:8080/",
          "height": 206
        },
        "id": "4DNtGrYMODCN",
        "outputId": "83b4d0fc-6ea8-434d-984a-dec07dea3d1c"
      },
      "execution_count": 5,
      "outputs": [
        {
          "output_type": "execute_result",
          "data": {
            "text/plain": [
              "   Target # 0  Target # 1  Target # 2\n",
              "0   78.490009  124.931967  153.523731\n",
              "1 -130.006436  -65.709570  -47.959996\n",
              "2  -83.284112 -119.237490 -148.808124\n",
              "3    5.997546   84.586193  291.334203\n",
              "4  159.676750   74.142029 -145.348040"
            ],
            "text/html": [
              "\n",
              "  <div id=\"df-0d48ffa9-88c4-4c69-b9e3-3bfb3d259a94\">\n",
              "    <div class=\"colab-df-container\">\n",
              "      <div>\n",
              "<style scoped>\n",
              "    .dataframe tbody tr th:only-of-type {\n",
              "        vertical-align: middle;\n",
              "    }\n",
              "\n",
              "    .dataframe tbody tr th {\n",
              "        vertical-align: top;\n",
              "    }\n",
              "\n",
              "    .dataframe thead th {\n",
              "        text-align: right;\n",
              "    }\n",
              "</style>\n",
              "<table border=\"1\" class=\"dataframe\">\n",
              "  <thead>\n",
              "    <tr style=\"text-align: right;\">\n",
              "      <th></th>\n",
              "      <th>Target # 0</th>\n",
              "      <th>Target # 1</th>\n",
              "      <th>Target # 2</th>\n",
              "    </tr>\n",
              "  </thead>\n",
              "  <tbody>\n",
              "    <tr>\n",
              "      <th>0</th>\n",
              "      <td>78.490009</td>\n",
              "      <td>124.931967</td>\n",
              "      <td>153.523731</td>\n",
              "    </tr>\n",
              "    <tr>\n",
              "      <th>1</th>\n",
              "      <td>-130.006436</td>\n",
              "      <td>-65.709570</td>\n",
              "      <td>-47.959996</td>\n",
              "    </tr>\n",
              "    <tr>\n",
              "      <th>2</th>\n",
              "      <td>-83.284112</td>\n",
              "      <td>-119.237490</td>\n",
              "      <td>-148.808124</td>\n",
              "    </tr>\n",
              "    <tr>\n",
              "      <th>3</th>\n",
              "      <td>5.997546</td>\n",
              "      <td>84.586193</td>\n",
              "      <td>291.334203</td>\n",
              "    </tr>\n",
              "    <tr>\n",
              "      <th>4</th>\n",
              "      <td>159.676750</td>\n",
              "      <td>74.142029</td>\n",
              "      <td>-145.348040</td>\n",
              "    </tr>\n",
              "  </tbody>\n",
              "</table>\n",
              "</div>\n",
              "      <button class=\"colab-df-convert\" onclick=\"convertToInteractive('df-0d48ffa9-88c4-4c69-b9e3-3bfb3d259a94')\"\n",
              "              title=\"Convert this dataframe to an interactive table.\"\n",
              "              style=\"display:none;\">\n",
              "        \n",
              "  <svg xmlns=\"http://www.w3.org/2000/svg\" height=\"24px\"viewBox=\"0 0 24 24\"\n",
              "       width=\"24px\">\n",
              "    <path d=\"M0 0h24v24H0V0z\" fill=\"none\"/>\n",
              "    <path d=\"M18.56 5.44l.94 2.06.94-2.06 2.06-.94-2.06-.94-.94-2.06-.94 2.06-2.06.94zm-11 1L8.5 8.5l.94-2.06 2.06-.94-2.06-.94L8.5 2.5l-.94 2.06-2.06.94zm10 10l.94 2.06.94-2.06 2.06-.94-2.06-.94-.94-2.06-.94 2.06-2.06.94z\"/><path d=\"M17.41 7.96l-1.37-1.37c-.4-.4-.92-.59-1.43-.59-.52 0-1.04.2-1.43.59L10.3 9.45l-7.72 7.72c-.78.78-.78 2.05 0 2.83L4 21.41c.39.39.9.59 1.41.59.51 0 1.02-.2 1.41-.59l7.78-7.78 2.81-2.81c.8-.78.8-2.07 0-2.86zM5.41 20L4 18.59l7.72-7.72 1.47 1.35L5.41 20z\"/>\n",
              "  </svg>\n",
              "      </button>\n",
              "      \n",
              "  <style>\n",
              "    .colab-df-container {\n",
              "      display:flex;\n",
              "      flex-wrap:wrap;\n",
              "      gap: 12px;\n",
              "    }\n",
              "\n",
              "    .colab-df-convert {\n",
              "      background-color: #E8F0FE;\n",
              "      border: none;\n",
              "      border-radius: 50%;\n",
              "      cursor: pointer;\n",
              "      display: none;\n",
              "      fill: #1967D2;\n",
              "      height: 32px;\n",
              "      padding: 0 0 0 0;\n",
              "      width: 32px;\n",
              "    }\n",
              "\n",
              "    .colab-df-convert:hover {\n",
              "      background-color: #E2EBFA;\n",
              "      box-shadow: 0px 1px 2px rgba(60, 64, 67, 0.3), 0px 1px 3px 1px rgba(60, 64, 67, 0.15);\n",
              "      fill: #174EA6;\n",
              "    }\n",
              "\n",
              "    [theme=dark] .colab-df-convert {\n",
              "      background-color: #3B4455;\n",
              "      fill: #D2E3FC;\n",
              "    }\n",
              "\n",
              "    [theme=dark] .colab-df-convert:hover {\n",
              "      background-color: #434B5C;\n",
              "      box-shadow: 0px 1px 3px 1px rgba(0, 0, 0, 0.15);\n",
              "      filter: drop-shadow(0px 1px 2px rgba(0, 0, 0, 0.3));\n",
              "      fill: #FFFFFF;\n",
              "    }\n",
              "  </style>\n",
              "\n",
              "      <script>\n",
              "        const buttonEl =\n",
              "          document.querySelector('#df-0d48ffa9-88c4-4c69-b9e3-3bfb3d259a94 button.colab-df-convert');\n",
              "        buttonEl.style.display =\n",
              "          google.colab.kernel.accessAllowed ? 'block' : 'none';\n",
              "\n",
              "        async function convertToInteractive(key) {\n",
              "          const element = document.querySelector('#df-0d48ffa9-88c4-4c69-b9e3-3bfb3d259a94');\n",
              "          const dataTable =\n",
              "            await google.colab.kernel.invokeFunction('convertToInteractive',\n",
              "                                                     [key], {});\n",
              "          if (!dataTable) return;\n",
              "\n",
              "          const docLinkHtml = 'Like what you see? Visit the ' +\n",
              "            '<a target=\"_blank\" href=https://colab.research.google.com/notebooks/data_table.ipynb>data table notebook</a>'\n",
              "            + ' to learn more about interactive tables.';\n",
              "          element.innerHTML = '';\n",
              "          dataTable['output_type'] = 'display_data';\n",
              "          await google.colab.output.renderOutput(dataTable, element);\n",
              "          const docLink = document.createElement('div');\n",
              "          docLink.innerHTML = docLinkHtml;\n",
              "          element.appendChild(docLink);\n",
              "        }\n",
              "      </script>\n",
              "    </div>\n",
              "  </div>\n",
              "  "
            ]
          },
          "metadata": {},
          "execution_count": 5
        }
      ]
    },
    {
      "cell_type": "code",
      "source": [
        "from sklearn.model_selection import train_test_split\n",
        "\n",
        "x_train, x_test, y_train, y_test = train_test_split(x, y, test_size=0.25)\n",
        "\n",
        "x_train.shape, y_train.shape, x_test.shape, y_test.shape"
      ],
      "metadata": {
        "colab": {
          "base_uri": "https://localhost:8080/"
        },
        "id": "z4rOHdKPOHgC",
        "outputId": "a4668e92-5e3b-4465-90c6-d95bedcd6335"
      },
      "execution_count": 6,
      "outputs": [
        {
          "output_type": "execute_result",
          "data": {
            "text/plain": [
              "((375, 8), (375, 3), (125, 8), (125, 3))"
            ]
          },
          "metadata": {},
          "execution_count": 6
        }
      ]
    },
    {
      "cell_type": "code",
      "source": [
        "# This code will throw a `ValueError: bad input shape`\n",
        "\n",
        "\n",
        "# from sklearn.linear_model import SGDRegressor\n",
        "\n",
        "# rgr = SGDRegressor()\n",
        "# rgr.fit(x_train, y_train)\n",
        "\n",
        "# y_pred = rgr.predict(x_test)"
      ],
      "metadata": {
        "id": "GkfZZx_9OoLU"
      },
      "execution_count": 7,
      "outputs": []
    },
    {
      "cell_type": "markdown",
      "source": [
        "## MultiOutput Regressor"
      ],
      "metadata": {
        "id": "qhBGWRn7O72S"
      }
    },
    {
      "cell_type": "code",
      "source": [
        "from sklearn.multioutput import MultiOutputRegressor\n",
        "from sklearn.linear_model import SGDRegressor\n",
        "\n",
        "rgr = MultiOutputRegressor(\n",
        "    estimator=SGDRegressor(), \n",
        "    n_jobs=-1\n",
        ")\n",
        "rgr.fit(x_train, y_train)\n",
        "y_pred = rgr.predict(x_test)"
      ],
      "metadata": {
        "id": "KMyoOS5COxGY"
      },
      "execution_count": 8,
      "outputs": []
    },
    {
      "cell_type": "code",
      "source": [
        "df_pred = pd.DataFrame(\n",
        "    y_pred, columns=target_names\n",
        ")\n",
        "\n",
        "df_pred.head(4)"
      ],
      "metadata": {
        "colab": {
          "base_uri": "https://localhost:8080/",
          "height": 175
        },
        "id": "0fUWoKd9PAoK",
        "outputId": "2a7ca1e8-27a6-4cce-9491-572135fd1989"
      },
      "execution_count": 9,
      "outputs": [
        {
          "output_type": "execute_result",
          "data": {
            "text/plain": [
              "   Target # 0  Target # 1  Target # 2\n",
              "0  149.762382  -12.336530   60.694292\n",
              "1 -171.946382 -239.652778 -185.660044\n",
              "2    5.426488  107.258200  302.530738\n",
              "3    6.080888  308.431638  241.819225"
            ],
            "text/html": [
              "\n",
              "  <div id=\"df-13a8a92a-3864-4c7b-8ec2-d0066bd47a1e\">\n",
              "    <div class=\"colab-df-container\">\n",
              "      <div>\n",
              "<style scoped>\n",
              "    .dataframe tbody tr th:only-of-type {\n",
              "        vertical-align: middle;\n",
              "    }\n",
              "\n",
              "    .dataframe tbody tr th {\n",
              "        vertical-align: top;\n",
              "    }\n",
              "\n",
              "    .dataframe thead th {\n",
              "        text-align: right;\n",
              "    }\n",
              "</style>\n",
              "<table border=\"1\" class=\"dataframe\">\n",
              "  <thead>\n",
              "    <tr style=\"text-align: right;\">\n",
              "      <th></th>\n",
              "      <th>Target # 0</th>\n",
              "      <th>Target # 1</th>\n",
              "      <th>Target # 2</th>\n",
              "    </tr>\n",
              "  </thead>\n",
              "  <tbody>\n",
              "    <tr>\n",
              "      <th>0</th>\n",
              "      <td>149.762382</td>\n",
              "      <td>-12.336530</td>\n",
              "      <td>60.694292</td>\n",
              "    </tr>\n",
              "    <tr>\n",
              "      <th>1</th>\n",
              "      <td>-171.946382</td>\n",
              "      <td>-239.652778</td>\n",
              "      <td>-185.660044</td>\n",
              "    </tr>\n",
              "    <tr>\n",
              "      <th>2</th>\n",
              "      <td>5.426488</td>\n",
              "      <td>107.258200</td>\n",
              "      <td>302.530738</td>\n",
              "    </tr>\n",
              "    <tr>\n",
              "      <th>3</th>\n",
              "      <td>6.080888</td>\n",
              "      <td>308.431638</td>\n",
              "      <td>241.819225</td>\n",
              "    </tr>\n",
              "  </tbody>\n",
              "</table>\n",
              "</div>\n",
              "      <button class=\"colab-df-convert\" onclick=\"convertToInteractive('df-13a8a92a-3864-4c7b-8ec2-d0066bd47a1e')\"\n",
              "              title=\"Convert this dataframe to an interactive table.\"\n",
              "              style=\"display:none;\">\n",
              "        \n",
              "  <svg xmlns=\"http://www.w3.org/2000/svg\" height=\"24px\"viewBox=\"0 0 24 24\"\n",
              "       width=\"24px\">\n",
              "    <path d=\"M0 0h24v24H0V0z\" fill=\"none\"/>\n",
              "    <path d=\"M18.56 5.44l.94 2.06.94-2.06 2.06-.94-2.06-.94-.94-2.06-.94 2.06-2.06.94zm-11 1L8.5 8.5l.94-2.06 2.06-.94-2.06-.94L8.5 2.5l-.94 2.06-2.06.94zm10 10l.94 2.06.94-2.06 2.06-.94-2.06-.94-.94-2.06-.94 2.06-2.06.94z\"/><path d=\"M17.41 7.96l-1.37-1.37c-.4-.4-.92-.59-1.43-.59-.52 0-1.04.2-1.43.59L10.3 9.45l-7.72 7.72c-.78.78-.78 2.05 0 2.83L4 21.41c.39.39.9.59 1.41.59.51 0 1.02-.2 1.41-.59l7.78-7.78 2.81-2.81c.8-.78.8-2.07 0-2.86zM5.41 20L4 18.59l7.72-7.72 1.47 1.35L5.41 20z\"/>\n",
              "  </svg>\n",
              "      </button>\n",
              "      \n",
              "  <style>\n",
              "    .colab-df-container {\n",
              "      display:flex;\n",
              "      flex-wrap:wrap;\n",
              "      gap: 12px;\n",
              "    }\n",
              "\n",
              "    .colab-df-convert {\n",
              "      background-color: #E8F0FE;\n",
              "      border: none;\n",
              "      border-radius: 50%;\n",
              "      cursor: pointer;\n",
              "      display: none;\n",
              "      fill: #1967D2;\n",
              "      height: 32px;\n",
              "      padding: 0 0 0 0;\n",
              "      width: 32px;\n",
              "    }\n",
              "\n",
              "    .colab-df-convert:hover {\n",
              "      background-color: #E2EBFA;\n",
              "      box-shadow: 0px 1px 2px rgba(60, 64, 67, 0.3), 0px 1px 3px 1px rgba(60, 64, 67, 0.15);\n",
              "      fill: #174EA6;\n",
              "    }\n",
              "\n",
              "    [theme=dark] .colab-df-convert {\n",
              "      background-color: #3B4455;\n",
              "      fill: #D2E3FC;\n",
              "    }\n",
              "\n",
              "    [theme=dark] .colab-df-convert:hover {\n",
              "      background-color: #434B5C;\n",
              "      box-shadow: 0px 1px 3px 1px rgba(0, 0, 0, 0.15);\n",
              "      filter: drop-shadow(0px 1px 2px rgba(0, 0, 0, 0.3));\n",
              "      fill: #FFFFFF;\n",
              "    }\n",
              "  </style>\n",
              "\n",
              "      <script>\n",
              "        const buttonEl =\n",
              "          document.querySelector('#df-13a8a92a-3864-4c7b-8ec2-d0066bd47a1e button.colab-df-convert');\n",
              "        buttonEl.style.display =\n",
              "          google.colab.kernel.accessAllowed ? 'block' : 'none';\n",
              "\n",
              "        async function convertToInteractive(key) {\n",
              "          const element = document.querySelector('#df-13a8a92a-3864-4c7b-8ec2-d0066bd47a1e');\n",
              "          const dataTable =\n",
              "            await google.colab.kernel.invokeFunction('convertToInteractive',\n",
              "                                                     [key], {});\n",
              "          if (!dataTable) return;\n",
              "\n",
              "          const docLinkHtml = 'Like what you see? Visit the ' +\n",
              "            '<a target=\"_blank\" href=https://colab.research.google.com/notebooks/data_table.ipynb>data table notebook</a>'\n",
              "            + ' to learn more about interactive tables.';\n",
              "          element.innerHTML = '';\n",
              "          dataTable['output_type'] = 'display_data';\n",
              "          await google.colab.output.renderOutput(dataTable, element);\n",
              "          const docLink = document.createElement('div');\n",
              "          docLink.innerHTML = docLinkHtml;\n",
              "          element.appendChild(docLink);\n",
              "        }\n",
              "      </script>\n",
              "    </div>\n",
              "  </div>\n",
              "  "
            ]
          },
          "metadata": {},
          "execution_count": 9
        }
      ]
    },
    {
      "cell_type": "code",
      "source": [
        "df_pred.describe().T"
      ],
      "metadata": {
        "colab": {
          "base_uri": "https://localhost:8080/",
          "height": 143
        },
        "id": "tNy8XgNSPG5V",
        "outputId": "86fb0541-8fd4-4f52-ab29-532d275e2aee"
      },
      "execution_count": 10,
      "outputs": [
        {
          "output_type": "execute_result",
          "data": {
            "text/plain": [
              "            count       mean         std         min        25%        50%  \\\n",
              "Target # 0  125.0  34.306920  147.359668 -257.026243 -77.345482  17.324678   \n",
              "Target # 1  125.0  17.456002  120.641229 -239.652778 -65.102881   8.560058   \n",
              "Target # 2  125.0   8.005350  143.701129 -318.002277 -94.432830  -1.848464   \n",
              "\n",
              "                   75%         max  \n",
              "Target # 0  128.482219  397.138182  \n",
              "Target # 1   78.417982  403.316400  \n",
              "Target # 2   94.619744  440.267602  "
            ],
            "text/html": [
              "\n",
              "  <div id=\"df-b9ef79d3-a532-4265-a9d9-8959f8d5ba04\">\n",
              "    <div class=\"colab-df-container\">\n",
              "      <div>\n",
              "<style scoped>\n",
              "    .dataframe tbody tr th:only-of-type {\n",
              "        vertical-align: middle;\n",
              "    }\n",
              "\n",
              "    .dataframe tbody tr th {\n",
              "        vertical-align: top;\n",
              "    }\n",
              "\n",
              "    .dataframe thead th {\n",
              "        text-align: right;\n",
              "    }\n",
              "</style>\n",
              "<table border=\"1\" class=\"dataframe\">\n",
              "  <thead>\n",
              "    <tr style=\"text-align: right;\">\n",
              "      <th></th>\n",
              "      <th>count</th>\n",
              "      <th>mean</th>\n",
              "      <th>std</th>\n",
              "      <th>min</th>\n",
              "      <th>25%</th>\n",
              "      <th>50%</th>\n",
              "      <th>75%</th>\n",
              "      <th>max</th>\n",
              "    </tr>\n",
              "  </thead>\n",
              "  <tbody>\n",
              "    <tr>\n",
              "      <th>Target # 0</th>\n",
              "      <td>125.0</td>\n",
              "      <td>34.306920</td>\n",
              "      <td>147.359668</td>\n",
              "      <td>-257.026243</td>\n",
              "      <td>-77.345482</td>\n",
              "      <td>17.324678</td>\n",
              "      <td>128.482219</td>\n",
              "      <td>397.138182</td>\n",
              "    </tr>\n",
              "    <tr>\n",
              "      <th>Target # 1</th>\n",
              "      <td>125.0</td>\n",
              "      <td>17.456002</td>\n",
              "      <td>120.641229</td>\n",
              "      <td>-239.652778</td>\n",
              "      <td>-65.102881</td>\n",
              "      <td>8.560058</td>\n",
              "      <td>78.417982</td>\n",
              "      <td>403.316400</td>\n",
              "    </tr>\n",
              "    <tr>\n",
              "      <th>Target # 2</th>\n",
              "      <td>125.0</td>\n",
              "      <td>8.005350</td>\n",
              "      <td>143.701129</td>\n",
              "      <td>-318.002277</td>\n",
              "      <td>-94.432830</td>\n",
              "      <td>-1.848464</td>\n",
              "      <td>94.619744</td>\n",
              "      <td>440.267602</td>\n",
              "    </tr>\n",
              "  </tbody>\n",
              "</table>\n",
              "</div>\n",
              "      <button class=\"colab-df-convert\" onclick=\"convertToInteractive('df-b9ef79d3-a532-4265-a9d9-8959f8d5ba04')\"\n",
              "              title=\"Convert this dataframe to an interactive table.\"\n",
              "              style=\"display:none;\">\n",
              "        \n",
              "  <svg xmlns=\"http://www.w3.org/2000/svg\" height=\"24px\"viewBox=\"0 0 24 24\"\n",
              "       width=\"24px\">\n",
              "    <path d=\"M0 0h24v24H0V0z\" fill=\"none\"/>\n",
              "    <path d=\"M18.56 5.44l.94 2.06.94-2.06 2.06-.94-2.06-.94-.94-2.06-.94 2.06-2.06.94zm-11 1L8.5 8.5l.94-2.06 2.06-.94-2.06-.94L8.5 2.5l-.94 2.06-2.06.94zm10 10l.94 2.06.94-2.06 2.06-.94-2.06-.94-.94-2.06-.94 2.06-2.06.94z\"/><path d=\"M17.41 7.96l-1.37-1.37c-.4-.4-.92-.59-1.43-.59-.52 0-1.04.2-1.43.59L10.3 9.45l-7.72 7.72c-.78.78-.78 2.05 0 2.83L4 21.41c.39.39.9.59 1.41.59.51 0 1.02-.2 1.41-.59l7.78-7.78 2.81-2.81c.8-.78.8-2.07 0-2.86zM5.41 20L4 18.59l7.72-7.72 1.47 1.35L5.41 20z\"/>\n",
              "  </svg>\n",
              "      </button>\n",
              "      \n",
              "  <style>\n",
              "    .colab-df-container {\n",
              "      display:flex;\n",
              "      flex-wrap:wrap;\n",
              "      gap: 12px;\n",
              "    }\n",
              "\n",
              "    .colab-df-convert {\n",
              "      background-color: #E8F0FE;\n",
              "      border: none;\n",
              "      border-radius: 50%;\n",
              "      cursor: pointer;\n",
              "      display: none;\n",
              "      fill: #1967D2;\n",
              "      height: 32px;\n",
              "      padding: 0 0 0 0;\n",
              "      width: 32px;\n",
              "    }\n",
              "\n",
              "    .colab-df-convert:hover {\n",
              "      background-color: #E2EBFA;\n",
              "      box-shadow: 0px 1px 2px rgba(60, 64, 67, 0.3), 0px 1px 3px 1px rgba(60, 64, 67, 0.15);\n",
              "      fill: #174EA6;\n",
              "    }\n",
              "\n",
              "    [theme=dark] .colab-df-convert {\n",
              "      background-color: #3B4455;\n",
              "      fill: #D2E3FC;\n",
              "    }\n",
              "\n",
              "    [theme=dark] .colab-df-convert:hover {\n",
              "      background-color: #434B5C;\n",
              "      box-shadow: 0px 1px 3px 1px rgba(0, 0, 0, 0.15);\n",
              "      filter: drop-shadow(0px 1px 2px rgba(0, 0, 0, 0.3));\n",
              "      fill: #FFFFFF;\n",
              "    }\n",
              "  </style>\n",
              "\n",
              "      <script>\n",
              "        const buttonEl =\n",
              "          document.querySelector('#df-b9ef79d3-a532-4265-a9d9-8959f8d5ba04 button.colab-df-convert');\n",
              "        buttonEl.style.display =\n",
              "          google.colab.kernel.accessAllowed ? 'block' : 'none';\n",
              "\n",
              "        async function convertToInteractive(key) {\n",
              "          const element = document.querySelector('#df-b9ef79d3-a532-4265-a9d9-8959f8d5ba04');\n",
              "          const dataTable =\n",
              "            await google.colab.kernel.invokeFunction('convertToInteractive',\n",
              "                                                     [key], {});\n",
              "          if (!dataTable) return;\n",
              "\n",
              "          const docLinkHtml = 'Like what you see? Visit the ' +\n",
              "            '<a target=\"_blank\" href=https://colab.research.google.com/notebooks/data_table.ipynb>data table notebook</a>'\n",
              "            + ' to learn more about interactive tables.';\n",
              "          element.innerHTML = '';\n",
              "          dataTable['output_type'] = 'display_data';\n",
              "          await google.colab.output.renderOutput(dataTable, element);\n",
              "          const docLink = document.createElement('div');\n",
              "          docLink.innerHTML = docLinkHtml;\n",
              "          element.appendChild(docLink);\n",
              "        }\n",
              "      </script>\n",
              "    </div>\n",
              "  </div>\n",
              "  "
            ]
          },
          "metadata": {},
          "execution_count": 10
        }
      ]
    },
    {
      "cell_type": "code",
      "source": [
        "fig, ax = plt.subplots(figsize=(15, 8))\n",
        "\n",
        "df_pred.plot(\n",
        "    title='Predictions',\n",
        "    kind='box',\n",
        "    color='k',\n",
        "    ax=ax\n",
        ")\n",
        "\n",
        "fig.show()"
      ],
      "metadata": {
        "colab": {
          "base_uri": "https://localhost:8080/",
          "height": 500
        },
        "id": "q4NxPt5kPWzJ",
        "outputId": "c5a6a5e0-1454-4500-9446-ae50f691ccda"
      },
      "execution_count": 11,
      "outputs": [
        {
          "output_type": "display_data",
          "data": {
            "text/plain": [
              "<Figure size 1080x576 with 1 Axes>"
            ],
            "image/png": "[encoded data removed]"
          },
          "metadata": {
            "needs_background": "light"
          }
        }
      ]
    },
    {
      "cell_type": "code",
      "source": [
        "from sklearn.metrics import mean_absolute_error\n",
        "from sklearn.metrics import r2_score\n",
        "\n",
        "for t in range(y_train.shape[1]):\n",
        "    print(\n",
        "        'Target # {}: MAE={:.2f}, R2={:.2f}'.format(\n",
        "            t,\n",
        "            mean_absolute_error(y_test[t], y_pred[t]),\n",
        "            r2_score(y_test[t], y_pred[t]),\n",
        "        )\n",
        "    )"
      ],
      "metadata": {
        "colab": {
          "base_uri": "https://localhost:8080/"
        },
        "id": "eHYWgC-8Pj6D",
        "outputId": "59b98a3f-3491-4875-ba08-620f4ae76736"
      },
      "execution_count": 12,
      "outputs": [
        {
          "output_type": "stream",
          "name": "stdout",
          "text": [
            "Target # 0: MAE=28.01, R2=0.84\n",
            "Target # 1: MAE=22.31, R2=0.71\n",
            "Target # 2: MAE=11.48, R2=0.99\n"
          ]
        }
      ]
    },
    {
      "cell_type": "markdown",
      "source": [
        "## Regressor Chain"
      ],
      "metadata": {
        "id": "yo9WSK9DQJd0"
      }
    },
    {
      "cell_type": "code",
      "source": [
        "from sklearn.multioutput import RegressorChain\n",
        "from sklearn.linear_model import Ridge\n",
        "\n",
        "rgr = RegressorChain(\n",
        "    base_estimator=Ridge(\n",
        "        alpha=1\n",
        "    ), \n",
        "    order=[0,1,2],\n",
        ")\n",
        "rgr.fit(x_train, y_train)\n",
        "y_pred = rgr.predict(x_test)"
      ],
      "metadata": {
        "id": "TFCrsT4dP0LV"
      },
      "execution_count": 13,
      "outputs": []
    },
    {
      "cell_type": "code",
      "source": [
        "df_pred = pd.DataFrame(\n",
        "    y_pred, columns=[f'Target # {i}' for i in range(y.shape[1])]\n",
        ")\n",
        "\n",
        "df_pred.head(5)"
      ],
      "metadata": {
        "colab": {
          "base_uri": "https://localhost:8080/",
          "height": 206
        },
        "id": "fKM56VMKSOwm",
        "outputId": "cecc08b7-630b-4ae9-cdce-c16b1330e67b"
      },
      "execution_count": 14,
      "outputs": [
        {
          "output_type": "execute_result",
          "data": {
            "text/plain": [
              "   Target # 0  Target # 1  Target # 2\n",
              "0  149.416283  -12.116778   60.500127\n",
              "1 -171.106053 -238.725082 -185.295670\n",
              "2    5.419850  107.045144  301.899906\n",
              "3    5.998317  307.166631  240.944917\n",
              "4   91.915639  -87.066211 -265.202071"
            ],
            "text/html": [
              "\n",
              "  <div id=\"df-e22c771e-4a76-457a-9daf-fd6a5f25ff8c\">\n",
              "    <div class=\"colab-df-container\">\n",
              "      <div>\n",
              "<style scoped>\n",
              "    .dataframe tbody tr th:only-of-type {\n",
              "        vertical-align: middle;\n",
              "    }\n",
              "\n",
              "    .dataframe tbody tr th {\n",
              "        vertical-align: top;\n",
              "    }\n",
              "\n",
              "    .dataframe thead th {\n",
              "        text-align: right;\n",
              "    }\n",
              "</style>\n",
              "<table border=\"1\" class=\"dataframe\">\n",
              "  <thead>\n",
              "    <tr style=\"text-align: right;\">\n",
              "      <th></th>\n",
              "      <th>Target # 0</th>\n",
              "      <th>Target # 1</th>\n",
              "      <th>Target # 2</th>\n",
              "    </tr>\n",
              "  </thead>\n",
              "  <tbody>\n",
              "    <tr>\n",
              "      <th>0</th>\n",
              "      <td>149.416283</td>\n",
              "      <td>-12.116778</td>\n",
              "      <td>60.500127</td>\n",
              "    </tr>\n",
              "    <tr>\n",
              "      <th>1</th>\n",
              "      <td>-171.106053</td>\n",
              "      <td>-238.725082</td>\n",
              "      <td>-185.295670</td>\n",
              "    </tr>\n",
              "    <tr>\n",
              "      <th>2</th>\n",
              "      <td>5.419850</td>\n",
              "      <td>107.045144</td>\n",
              "      <td>301.899906</td>\n",
              "    </tr>\n",
              "    <tr>\n",
              "      <th>3</th>\n",
              "      <td>5.998317</td>\n",
              "      <td>307.166631</td>\n",
              "      <td>240.944917</td>\n",
              "    </tr>\n",
              "    <tr>\n",
              "      <th>4</th>\n",
              "      <td>91.915639</td>\n",
              "      <td>-87.066211</td>\n",
              "      <td>-265.202071</td>\n",
              "    </tr>\n",
              "  </tbody>\n",
              "</table>\n",
              "</div>\n",
              "      <button class=\"colab-df-convert\" onclick=\"convertToInteractive('df-e22c771e-4a76-457a-9daf-fd6a5f25ff8c')\"\n",
              "              title=\"Convert this dataframe to an interactive table.\"\n",
              "              style=\"display:none;\">\n",
              "        \n",
              "  <svg xmlns=\"http://www.w3.org/2000/svg\" height=\"24px\"viewBox=\"0 0 24 24\"\n",
              "       width=\"24px\">\n",
              "    <path d=\"M0 0h24v24H0V0z\" fill=\"none\"/>\n",
              "    <path d=\"M18.56 5.44l.94 2.06.94-2.06 2.06-.94-2.06-.94-.94-2.06-.94 2.06-2.06.94zm-11 1L8.5 8.5l.94-2.06 2.06-.94-2.06-.94L8.5 2.5l-.94 2.06-2.06.94zm10 10l.94 2.06.94-2.06 2.06-.94-2.06-.94-.94-2.06-.94 2.06-2.06.94z\"/><path d=\"M17.41 7.96l-1.37-1.37c-.4-.4-.92-.59-1.43-.59-.52 0-1.04.2-1.43.59L10.3 9.45l-7.72 7.72c-.78.78-.78 2.05 0 2.83L4 21.41c.39.39.9.59 1.41.59.51 0 1.02-.2 1.41-.59l7.78-7.78 2.81-2.81c.8-.78.8-2.07 0-2.86zM5.41 20L4 18.59l7.72-7.72 1.47 1.35L5.41 20z\"/>\n",
              "  </svg>\n",
              "      </button>\n",
              "      \n",
              "  <style>\n",
              "    .colab-df-container {\n",
              "      display:flex;\n",
              "      flex-wrap:wrap;\n",
              "      gap: 12px;\n",
              "    }\n",
              "\n",
              "    .colab-df-convert {\n",
              "      background-color: #E8F0FE;\n",
              "      border: none;\n",
              "      border-radius: 50%;\n",
              "      cursor: pointer;\n",
              "      display: none;\n",
              "      fill: #1967D2;\n",
              "      height: 32px;\n",
              "      padding: 0 0 0 0;\n",
              "      width: 32px;\n",
              "    }\n",
              "\n",
              "    .colab-df-convert:hover {\n",
              "      background-color: #E2EBFA;\n",
              "      box-shadow: 0px 1px 2px rgba(60, 64, 67, 0.3), 0px 1px 3px 1px rgba(60, 64, 67, 0.15);\n",
              "      fill: #174EA6;\n",
              "    }\n",
              "\n",
              "    [theme=dark] .colab-df-convert {\n",
              "      background-color: #3B4455;\n",
              "      fill: #D2E3FC;\n",
              "    }\n",
              "\n",
              "    [theme=dark] .colab-df-convert:hover {\n",
              "      background-color: #434B5C;\n",
              "      box-shadow: 0px 1px 3px 1px rgba(0, 0, 0, 0.15);\n",
              "      filter: drop-shadow(0px 1px 2px rgba(0, 0, 0, 0.3));\n",
              "      fill: #FFFFFF;\n",
              "    }\n",
              "  </style>\n",
              "\n",
              "      <script>\n",
              "        const buttonEl =\n",
              "          document.querySelector('#df-e22c771e-4a76-457a-9daf-fd6a5f25ff8c button.colab-df-convert');\n",
              "        buttonEl.style.display =\n",
              "          google.colab.kernel.accessAllowed ? 'block' : 'none';\n",
              "\n",
              "        async function convertToInteractive(key) {\n",
              "          const element = document.querySelector('#df-e22c771e-4a76-457a-9daf-fd6a5f25ff8c');\n",
              "          const dataTable =\n",
              "            await google.colab.kernel.invokeFunction('convertToInteractive',\n",
              "                                                     [key], {});\n",
              "          if (!dataTable) return;\n",
              "\n",
              "          const docLinkHtml = 'Like what you see? Visit the ' +\n",
              "            '<a target=\"_blank\" href=https://colab.research.google.com/notebooks/data_table.ipynb>data table notebook</a>'\n",
              "            + ' to learn more about interactive tables.';\n",
              "          element.innerHTML = '';\n",
              "          dataTable['output_type'] = 'display_data';\n",
              "          await google.colab.output.renderOutput(dataTable, element);\n",
              "          const docLink = document.createElement('div');\n",
              "          docLink.innerHTML = docLinkHtml;\n",
              "          element.appendChild(docLink);\n",
              "        }\n",
              "      </script>\n",
              "    </div>\n",
              "  </div>\n",
              "  "
            ]
          },
          "metadata": {},
          "execution_count": 14
        }
      ]
    },
    {
      "cell_type": "code",
      "source": [
        "df_pred.describe().T"
      ],
      "metadata": {
        "colab": {
          "base_uri": "https://localhost:8080/",
          "height": 143
        },
        "id": "6w3_uwK6SSX-",
        "outputId": "8b1902c7-ae49-4655-f834-8c48e2f746de"
      },
      "execution_count": 15,
      "outputs": [
        {
          "output_type": "execute_result",
          "data": {
            "text/plain": [
              "            count       mean         std         min        25%        50%  \\\n",
              "Target # 0  125.0  34.150311  146.855505 -256.393529 -77.041713  17.159657   \n",
              "Target # 1  125.0  17.453949  120.287826 -238.725082 -64.483998   8.429085   \n",
              "Target # 2  125.0   8.037628  143.315582 -316.933463 -94.320210  -1.851119   \n",
              "\n",
              "                   75%         max  \n",
              "Target # 0  128.084996  395.844719  \n",
              "Target # 1   78.189154  402.463678  \n",
              "Target # 2   94.573970  439.090120  "
            ],
            "text/html": [
              "\n",
              "  <div id=\"df-a8f4795b-fc04-4f13-8f3b-fa31c85c4c0d\">\n",
              "    <div class=\"colab-df-container\">\n",
              "      <div>\n",
              "<style scoped>\n",
              "    .dataframe tbody tr th:only-of-type {\n",
              "        vertical-align: middle;\n",
              "    }\n",
              "\n",
              "    .dataframe tbody tr th {\n",
              "        vertical-align: top;\n",
              "    }\n",
              "\n",
              "    .dataframe thead th {\n",
              "        text-align: right;\n",
              "    }\n",
              "</style>\n",
              "<table border=\"1\" class=\"dataframe\">\n",
              "  <thead>\n",
              "    <tr style=\"text-align: right;\">\n",
              "      <th></th>\n",
              "      <th>count</th>\n",
              "      <th>mean</th>\n",
              "      <th>std</th>\n",
              "      <th>min</th>\n",
              "      <th>25%</th>\n",
              "      <th>50%</th>\n",
              "      <th>75%</th>\n",
              "      <th>max</th>\n",
              "    </tr>\n",
              "  </thead>\n",
              "  <tbody>\n",
              "    <tr>\n",
              "      <th>Target # 0</th>\n",
              "      <td>125.0</td>\n",
              "      <td>34.150311</td>\n",
              "      <td>146.855505</td>\n",
              "      <td>-256.393529</td>\n",
              "      <td>-77.041713</td>\n",
              "      <td>17.159657</td>\n",
              "      <td>128.084996</td>\n",
              "      <td>395.844719</td>\n",
              "    </tr>\n",
              "    <tr>\n",
              "      <th>Target # 1</th>\n",
              "      <td>125.0</td>\n",
              "      <td>17.453949</td>\n",
              "      <td>120.287826</td>\n",
              "      <td>-238.725082</td>\n",
              "      <td>-64.483998</td>\n",
              "      <td>8.429085</td>\n",
              "      <td>78.189154</td>\n",
              "      <td>402.463678</td>\n",
              "    </tr>\n",
              "    <tr>\n",
              "      <th>Target # 2</th>\n",
              "      <td>125.0</td>\n",
              "      <td>8.037628</td>\n",
              "      <td>143.315582</td>\n",
              "      <td>-316.933463</td>\n",
              "      <td>-94.320210</td>\n",
              "      <td>-1.851119</td>\n",
              "      <td>94.573970</td>\n",
              "      <td>439.090120</td>\n",
              "    </tr>\n",
              "  </tbody>\n",
              "</table>\n",
              "</div>\n",
              "      <button class=\"colab-df-convert\" onclick=\"convertToInteractive('df-a8f4795b-fc04-4f13-8f3b-fa31c85c4c0d')\"\n",
              "              title=\"Convert this dataframe to an interactive table.\"\n",
              "              style=\"display:none;\">\n",
              "        \n",
              "  <svg xmlns=\"http://www.w3.org/2000/svg\" height=\"24px\"viewBox=\"0 0 24 24\"\n",
              "       width=\"24px\">\n",
              "    <path d=\"M0 0h24v24H0V0z\" fill=\"none\"/>\n",
              "    <path d=\"M18.56 5.44l.94 2.06.94-2.06 2.06-.94-2.06-.94-.94-2.06-.94 2.06-2.06.94zm-11 1L8.5 8.5l.94-2.06 2.06-.94-2.06-.94L8.5 2.5l-.94 2.06-2.06.94zm10 10l.94 2.06.94-2.06 2.06-.94-2.06-.94-.94-2.06-.94 2.06-2.06.94z\"/><path d=\"M17.41 7.96l-1.37-1.37c-.4-.4-.92-.59-1.43-.59-.52 0-1.04.2-1.43.59L10.3 9.45l-7.72 7.72c-.78.78-.78 2.05 0 2.83L4 21.41c.39.39.9.59 1.41.59.51 0 1.02-.2 1.41-.59l7.78-7.78 2.81-2.81c.8-.78.8-2.07 0-2.86zM5.41 20L4 18.59l7.72-7.72 1.47 1.35L5.41 20z\"/>\n",
              "  </svg>\n",
              "      </button>\n",
              "      \n",
              "  <style>\n",
              "    .colab-df-container {\n",
              "      display:flex;\n",
              "      flex-wrap:wrap;\n",
              "      gap: 12px;\n",
              "    }\n",
              "\n",
              "    .colab-df-convert {\n",
              "      background-color: #E8F0FE;\n",
              "      border: none;\n",
              "      border-radius: 50%;\n",
              "      cursor: pointer;\n",
              "      display: none;\n",
              "      fill: #1967D2;\n",
              "      height: 32px;\n",
              "      padding: 0 0 0 0;\n",
              "      width: 32px;\n",
              "    }\n",
              "\n",
              "    .colab-df-convert:hover {\n",
              "      background-color: #E2EBFA;\n",
              "      box-shadow: 0px 1px 2px rgba(60, 64, 67, 0.3), 0px 1px 3px 1px rgba(60, 64, 67, 0.15);\n",
              "      fill: #174EA6;\n",
              "    }\n",
              "\n",
              "    [theme=dark] .colab-df-convert {\n",
              "      background-color: #3B4455;\n",
              "      fill: #D2E3FC;\n",
              "    }\n",
              "\n",
              "    [theme=dark] .colab-df-convert:hover {\n",
              "      background-color: #434B5C;\n",
              "      box-shadow: 0px 1px 3px 1px rgba(0, 0, 0, 0.15);\n",
              "      filter: drop-shadow(0px 1px 2px rgba(0, 0, 0, 0.3));\n",
              "      fill: #FFFFFF;\n",
              "    }\n",
              "  </style>\n",
              "\n",
              "      <script>\n",
              "        const buttonEl =\n",
              "          document.querySelector('#df-a8f4795b-fc04-4f13-8f3b-fa31c85c4c0d button.colab-df-convert');\n",
              "        buttonEl.style.display =\n",
              "          google.colab.kernel.accessAllowed ? 'block' : 'none';\n",
              "\n",
              "        async function convertToInteractive(key) {\n",
              "          const element = document.querySelector('#df-a8f4795b-fc04-4f13-8f3b-fa31c85c4c0d');\n",
              "          const dataTable =\n",
              "            await google.colab.kernel.invokeFunction('convertToInteractive',\n",
              "                                                     [key], {});\n",
              "          if (!dataTable) return;\n",
              "\n",
              "          const docLinkHtml = 'Like what you see? Visit the ' +\n",
              "            '<a target=\"_blank\" href=https://colab.research.google.com/notebooks/data_table.ipynb>data table notebook</a>'\n",
              "            + ' to learn more about interactive tables.';\n",
              "          element.innerHTML = '';\n",
              "          dataTable['output_type'] = 'display_data';\n",
              "          await google.colab.output.renderOutput(dataTable, element);\n",
              "          const docLink = document.createElement('div');\n",
              "          docLink.innerHTML = docLinkHtml;\n",
              "          element.appendChild(docLink);\n",
              "        }\n",
              "      </script>\n",
              "    </div>\n",
              "  </div>\n",
              "  "
            ]
          },
          "metadata": {},
          "execution_count": 15
        }
      ]
    },
    {
      "cell_type": "code",
      "source": [
        "from sklearn.metrics import mean_absolute_error\n",
        "from sklearn.metrics import r2_score\n",
        "\n",
        "for t in range(y_train.shape[1]):\n",
        "    print(\n",
        "        'Target # {}: MAE={:.2f}, R2={:2f}'.format(\n",
        "            t,\n",
        "            mean_absolute_error(y_test[t], y_pred[t]),\n",
        "            r2_score(y_test[t], y_pred[t]),\n",
        "        )\n",
        "    )"
      ],
      "metadata": {
        "colab": {
          "base_uri": "https://localhost:8080/"
        },
        "id": "HCxDWfF2Sepv",
        "outputId": "e92b0f3d-ecec-4b14-b3b9-3ea53cd9e702"
      },
      "execution_count": 16,
      "outputs": [
        {
          "output_type": "stream",
          "name": "stdout",
          "text": [
            "Target # 0: MAE=28.12, R2=0.838865\n",
            "Target # 1: MAE=22.21, R2=0.715727\n",
            "Target # 2: MAE=11.20, R2=0.985813\n"
          ]
        }
      ]
    },
    {
      "cell_type": "code",
      "source": [
        "for t, estimator in enumerate(rgr.estimators_):\n",
        "    print(f'\\nEstimator for Target # {t}:')\n",
        "    df_coef = pd.DataFrame(\n",
        "        zip(\n",
        "            rgr.estimators_[t].coef_, \n",
        "            feature_names + target_names\n",
        "        ),\n",
        "        columns=['Coeff', 'Feature']\n",
        "    )\n",
        "    print(df_coef)"
      ],
      "metadata": {
        "colab": {
          "base_uri": "https://localhost:8080/"
        },
        "id": "NoJnA0AuSo8z",
        "outputId": "db345b76-90c7-46fd-9dd0-4237e134686f"
      },
      "execution_count": 17,
      "outputs": [
        {
          "output_type": "stream",
          "name": "stdout",
          "text": [
            "\n",
            "Estimator for Target # 0:\n",
            "       Coeff      Feature\n",
            "0  29.325056  Feature # 0\n",
            "1  26.818106  Feature # 1\n",
            "2  85.649404  Feature # 2\n",
            "3   5.070184  Feature # 3\n",
            "4  31.073190  Feature # 4\n",
            "5   5.450657  Feature # 5\n",
            "6  94.535778  Feature # 6\n",
            "7  13.859516  Feature # 7\n",
            "\n",
            "Estimator for Target # 1:\n",
            "       Coeff      Feature\n",
            "0   3.373563  Feature # 0\n",
            "1  -0.130338  Feature # 1\n",
            "2  91.609424  Feature # 2\n",
            "3  37.932612  Feature # 3\n",
            "4  44.065941  Feature # 4\n",
            "5  36.437354  Feature # 5\n",
            "6  -4.469544  Feature # 6\n",
            "7  13.377261  Feature # 7\n",
            "8   0.064276   Target # 0\n",
            "\n",
            "Estimator for Target # 2:\n",
            "       Coeff      Feature\n",
            "0   3.005745  Feature # 0\n",
            "1  -1.197618  Feature # 1\n",
            "2  56.514349  Feature # 2\n",
            "3  77.580493  Feature # 3\n",
            "4  54.117677  Feature # 4\n",
            "5  -0.647124  Feature # 5\n",
            "6  -7.763930  Feature # 6\n",
            "7  69.406391  Feature # 7\n",
            "8   0.075349   Target # 0\n",
            "9   0.099610   Target # 1\n"
          ]
        }
      ]
    },
    {
      "cell_type": "code",
      "source": [
        "pd.DataFrame(\n",
        "    zip(\n",
        "        rgr.estimators_[0].coef_, \n",
        "        feature_names + target_names\n",
        "    ),\n",
        "    columns=['Coeff', 'Feature']\n",
        ")[\n",
        "    ['Feature', 'Coeff']\n",
        "].style.bar(\n",
        "    subset=['Coeff'], align='mid', color='#AAAAAA'\n",
        ")"
      ],
      "metadata": {
        "colab": {
          "base_uri": "https://localhost:8080/",
          "height": 300
        },
        "id": "rxZEVyg1SuLB",
        "outputId": "afe520ae-abec-4bae-c87f-a66a53a54c47"
      },
      "execution_count": 18,
      "outputs": [
        {
          "output_type": "execute_result",
          "data": {
            "text/plain": [
              "<pandas.io.formats.style.Styler at 0x7ffb40805350>"
            ],
            "text/html": [
              "<style type=\"text/css\">\n",
              "#T_48802_row0_col1 {\n",
              "  width: 10em;\n",
              "  height: 80%;\n",
              "  background: linear-gradient(90deg,#AAAAAA 31.0%, transparent 31.0%);\n",
              "}\n",
              "#T_48802_row1_col1 {\n",
              "  width: 10em;\n",
              "  height: 80%;\n",
              "  background: linear-gradient(90deg,#AAAAAA 28.4%, transparent 28.4%);\n",
              "}\n",
              "#T_48802_row2_col1 {\n",
              "  width: 10em;\n",
              "  height: 80%;\n",
              "  background: linear-gradient(90deg,#AAAAAA 90.6%, transparent 90.6%);\n",
              "}\n",
              "#T_48802_row3_col1 {\n",
              "  width: 10em;\n",
              "  height: 80%;\n",
              "  background: linear-gradient(90deg,#AAAAAA 5.4%, transparent 5.4%);\n",
              "}\n",
              "#T_48802_row4_col1 {\n",
              "  width: 10em;\n",
              "  height: 80%;\n",
              "  background: linear-gradient(90deg,#AAAAAA 32.9%, transparent 32.9%);\n",
              "}\n",
              "#T_48802_row5_col1 {\n",
              "  width: 10em;\n",
              "  height: 80%;\n",
              "  background: linear-gradient(90deg,#AAAAAA 5.8%, transparent 5.8%);\n",
              "}\n",
              "#T_48802_row6_col1 {\n",
              "  width: 10em;\n",
              "  height: 80%;\n",
              "  background: linear-gradient(90deg,#AAAAAA 100.0%, transparent 100.0%);\n",
              "}\n",
              "#T_48802_row7_col1 {\n",
              "  width: 10em;\n",
              "  height: 80%;\n",
              "  background: linear-gradient(90deg,#AAAAAA 14.7%, transparent 14.7%);\n",
              "}\n",
              "</style>\n",
              "<table id=\"T_48802_\" class=\"dataframe\">\n",
              "  <thead>\n",
              "    <tr>\n",
              "      <th class=\"blank level0\" >&nbsp;</th>\n",
              "      <th class=\"col_heading level0 col0\" >Feature</th>\n",
              "      <th class=\"col_heading level0 col1\" >Coeff</th>\n",
              "    </tr>\n",
              "  </thead>\n",
              "  <tbody>\n",
              "    <tr>\n",
              "      <th id=\"T_48802_level0_row0\" class=\"row_heading level0 row0\" >0</th>\n",
              "      <td id=\"T_48802_row0_col0\" class=\"data row0 col0\" >Feature # 0</td>\n",
              "      <td id=\"T_48802_row0_col1\" class=\"data row0 col1\" >29.325056</td>\n",
              "    </tr>\n",
              "    <tr>\n",
              "      <th id=\"T_48802_level0_row1\" class=\"row_heading level0 row1\" >1</th>\n",
              "      <td id=\"T_48802_row1_col0\" class=\"data row1 col0\" >Feature # 1</td>\n",
              "      <td id=\"T_48802_row1_col1\" class=\"data row1 col1\" >26.818106</td>\n",
              "    </tr>\n",
              "    <tr>\n",
              "      <th id=\"T_48802_level0_row2\" class=\"row_heading level0 row2\" >2</th>\n",
              "      <td id=\"T_48802_row2_col0\" class=\"data row2 col0\" >Feature # 2</td>\n",
              "      <td id=\"T_48802_row2_col1\" class=\"data row2 col1\" >85.649404</td>\n",
              "    </tr>\n",
              "    <tr>\n",
              "      <th id=\"T_48802_level0_row3\" class=\"row_heading level0 row3\" >3</th>\n",
              "      <td id=\"T_48802_row3_col0\" class=\"data row3 col0\" >Feature # 3</td>\n",
              "      <td id=\"T_48802_row3_col1\" class=\"data row3 col1\" >5.070184</td>\n",
              "    </tr>\n",
              "    <tr>\n",
              "      <th id=\"T_48802_level0_row4\" class=\"row_heading level0 row4\" >4</th>\n",
              "      <td id=\"T_48802_row4_col0\" class=\"data row4 col0\" >Feature # 4</td>\n",
              "      <td id=\"T_48802_row4_col1\" class=\"data row4 col1\" >31.073190</td>\n",
              "    </tr>\n",
              "    <tr>\n",
              "      <th id=\"T_48802_level0_row5\" class=\"row_heading level0 row5\" >5</th>\n",
              "      <td id=\"T_48802_row5_col0\" class=\"data row5 col0\" >Feature # 5</td>\n",
              "      <td id=\"T_48802_row5_col1\" class=\"data row5 col1\" >5.450657</td>\n",
              "    </tr>\n",
              "    <tr>\n",
              "      <th id=\"T_48802_level0_row6\" class=\"row_heading level0 row6\" >6</th>\n",
              "      <td id=\"T_48802_row6_col0\" class=\"data row6 col0\" >Feature # 6</td>\n",
              "      <td id=\"T_48802_row6_col1\" class=\"data row6 col1\" >94.535778</td>\n",
              "    </tr>\n",
              "    <tr>\n",
              "      <th id=\"T_48802_level0_row7\" class=\"row_heading level0 row7\" >7</th>\n",
              "      <td id=\"T_48802_row7_col0\" class=\"data row7 col0\" >Feature # 7</td>\n",
              "      <td id=\"T_48802_row7_col1\" class=\"data row7 col1\" >13.859516</td>\n",
              "    </tr>\n",
              "  </tbody>\n",
              "</table>\n"
            ]
          },
          "metadata": {},
          "execution_count": 18
        }
      ]
    },
    {
      "cell_type": "code",
      "source": [
        "pd.DataFrame(\n",
        "    zip(\n",
        "        rgr.estimators_[-1].coef_, \n",
        "        feature_names + target_names\n",
        "    ),\n",
        "    columns=['Coeff', 'Feature']\n",
        ")[\n",
        "    ['Feature', 'Coeff']\n",
        "].style.bar(\n",
        "    subset=['Coeff'], align='mid', color='#AAAAAA'\n",
        ")"
      ],
      "metadata": {
        "colab": {
          "base_uri": "https://localhost:8080/",
          "height": 363
        },
        "id": "vqYsDjvsS6MJ",
        "outputId": "97901d4e-9b4b-4fce-81ea-057c035d423a"
      },
      "execution_count": 19,
      "outputs": [
        {
          "output_type": "execute_result",
          "data": {
            "text/plain": [
              "<pandas.io.formats.style.Styler at 0x7ffb3febc750>"
            ],
            "text/html": [
              "<style type=\"text/css\">\n",
              "#T_6ff49_row0_col1 {\n",
              "  width: 10em;\n",
              "  height: 80%;\n",
              "  background: linear-gradient(90deg, transparent 9.1%, #AAAAAA 9.1%, #AAAAAA 12.6%, transparent 12.6%);\n",
              "}\n",
              "#T_6ff49_row1_col1 {\n",
              "  width: 10em;\n",
              "  height: 80%;\n",
              "  background: linear-gradient(90deg, transparent 7.7%, #AAAAAA 7.7%, #AAAAAA 9.1%, transparent 9.1%);\n",
              "}\n",
              "#T_6ff49_row2_col1 {\n",
              "  width: 10em;\n",
              "  height: 80%;\n",
              "  background: linear-gradient(90deg, transparent 9.1%, #AAAAAA 9.1%, #AAAAAA 75.3%, transparent 75.3%);\n",
              "}\n",
              "#T_6ff49_row3_col1 {\n",
              "  width: 10em;\n",
              "  height: 80%;\n",
              "  background: linear-gradient(90deg, transparent 9.1%, #AAAAAA 9.1%, #AAAAAA 100.0%, transparent 100.0%);\n",
              "}\n",
              "#T_6ff49_row4_col1 {\n",
              "  width: 10em;\n",
              "  height: 80%;\n",
              "  background: linear-gradient(90deg, transparent 9.1%, #AAAAAA 9.1%, #AAAAAA 72.5%, transparent 72.5%);\n",
              "}\n",
              "#T_6ff49_row5_col1 {\n",
              "  width: 10em;\n",
              "  height: 80%;\n",
              "  background: linear-gradient(90deg, transparent 8.3%, #AAAAAA 8.3%, #AAAAAA 9.1%, transparent 9.1%);\n",
              "}\n",
              "#T_6ff49_row6_col1 {\n",
              "  width: 10em;\n",
              "  height: 80%;\n",
              "  background: linear-gradient(90deg,#AAAAAA 9.1%, transparent 9.1%);\n",
              "}\n",
              "#T_6ff49_row7_col1 {\n",
              "  width: 10em;\n",
              "  height: 80%;\n",
              "  background: linear-gradient(90deg, transparent 9.1%, #AAAAAA 9.1%, #AAAAAA 90.4%, transparent 90.4%);\n",
              "}\n",
              "#T_6ff49_row8_col1, #T_6ff49_row9_col1 {\n",
              "  width: 10em;\n",
              "  height: 80%;\n",
              "  background: linear-gradient(90deg, transparent 9.1%, #AAAAAA 9.1%, #AAAAAA 9.2%, transparent 9.2%);\n",
              "}\n",
              "</style>\n",
              "<table id=\"T_6ff49_\" class=\"dataframe\">\n",
              "  <thead>\n",
              "    <tr>\n",
              "      <th class=\"blank level0\" >&nbsp;</th>\n",
              "      <th class=\"col_heading level0 col0\" >Feature</th>\n",
              "      <th class=\"col_heading level0 col1\" >Coeff</th>\n",
              "    </tr>\n",
              "  </thead>\n",
              "  <tbody>\n",
              "    <tr>\n",
              "      <th id=\"T_6ff49_level0_row0\" class=\"row_heading level0 row0\" >0</th>\n",
              "      <td id=\"T_6ff49_row0_col0\" class=\"data row0 col0\" >Feature # 0</td>\n",
              "      <td id=\"T_6ff49_row0_col1\" class=\"data row0 col1\" >3.005745</td>\n",
              "    </tr>\n",
              "    <tr>\n",
              "      <th id=\"T_6ff49_level0_row1\" class=\"row_heading level0 row1\" >1</th>\n",
              "      <td id=\"T_6ff49_row1_col0\" class=\"data row1 col0\" >Feature # 1</td>\n",
              "      <td id=\"T_6ff49_row1_col1\" class=\"data row1 col1\" >-1.197618</td>\n",
              "    </tr>\n",
              "    <tr>\n",
              "      <th id=\"T_6ff49_level0_row2\" class=\"row_heading level0 row2\" >2</th>\n",
              "      <td id=\"T_6ff49_row2_col0\" class=\"data row2 col0\" >Feature # 2</td>\n",
              "      <td id=\"T_6ff49_row2_col1\" class=\"data row2 col1\" >56.514349</td>\n",
              "    </tr>\n",
              "    <tr>\n",
              "      <th id=\"T_6ff49_level0_row3\" class=\"row_heading level0 row3\" >3</th>\n",
              "      <td id=\"T_6ff49_row3_col0\" class=\"data row3 col0\" >Feature # 3</td>\n",
              "      <td id=\"T_6ff49_row3_col1\" class=\"data row3 col1\" >77.580493</td>\n",
              "    </tr>\n",
              "    <tr>\n",
              "      <th id=\"T_6ff49_level0_row4\" class=\"row_heading level0 row4\" >4</th>\n",
              "      <td id=\"T_6ff49_row4_col0\" class=\"data row4 col0\" >Feature # 4</td>\n",
              "      <td id=\"T_6ff49_row4_col1\" class=\"data row4 col1\" >54.117677</td>\n",
              "    </tr>\n",
              "    <tr>\n",
              "      <th id=\"T_6ff49_level0_row5\" class=\"row_heading level0 row5\" >5</th>\n",
              "      <td id=\"T_6ff49_row5_col0\" class=\"data row5 col0\" >Feature # 5</td>\n",
              "      <td id=\"T_6ff49_row5_col1\" class=\"data row5 col1\" >-0.647124</td>\n",
              "    </tr>\n",
              "    <tr>\n",
              "      <th id=\"T_6ff49_level0_row6\" class=\"row_heading level0 row6\" >6</th>\n",
              "      <td id=\"T_6ff49_row6_col0\" class=\"data row6 col0\" >Feature # 6</td>\n",
              "      <td id=\"T_6ff49_row6_col1\" class=\"data row6 col1\" >-7.763930</td>\n",
              "    </tr>\n",
              "    <tr>\n",
              "      <th id=\"T_6ff49_level0_row7\" class=\"row_heading level0 row7\" >7</th>\n",
              "      <td id=\"T_6ff49_row7_col0\" class=\"data row7 col0\" >Feature # 7</td>\n",
              "      <td id=\"T_6ff49_row7_col1\" class=\"data row7 col1\" >69.406391</td>\n",
              "    </tr>\n",
              "    <tr>\n",
              "      <th id=\"T_6ff49_level0_row8\" class=\"row_heading level0 row8\" >8</th>\n",
              "      <td id=\"T_6ff49_row8_col0\" class=\"data row8 col0\" >Target # 0</td>\n",
              "      <td id=\"T_6ff49_row8_col1\" class=\"data row8 col1\" >0.075349</td>\n",
              "    </tr>\n",
              "    <tr>\n",
              "      <th id=\"T_6ff49_level0_row9\" class=\"row_heading level0 row9\" >9</th>\n",
              "      <td id=\"T_6ff49_row9_col0\" class=\"data row9 col0\" >Target # 1</td>\n",
              "      <td id=\"T_6ff49_row9_col1\" class=\"data row9 col1\" >0.099610</td>\n",
              "    </tr>\n",
              "  </tbody>\n",
              "</table>\n"
            ]
          },
          "metadata": {},
          "execution_count": 19
        }
      ]
    },
    {
      "cell_type": "markdown",
      "source": [
        "## Multi-target Regression\n",
        "\n",
        "**Multiclass classification**: classification task with more than two classes. Each sample can only be labelled as one class. For example, classification using features extracted from a set of images of fruit, where each image may either be of an orange, an apple, or a pear. Each image is one sample and is labelled as one of the 3 possible classes.\n",
        "\n",
        "**Multilabel classification**: classification task labelling each sample with x labels from n_classes. For example, prediction of the topics relevant to a text document or video. The document or video may be about one of ‘religion’, ‘politics’, ‘finance’ or ‘education’, several of the topic classes or all of the topic classes."
      ],
      "metadata": {
        "id": "ZY3eaPaxTgDl"
      }
    },
    {
      "cell_type": "code",
      "source": [
        "from sklearn.datasets import make_multilabel_classification\n",
        "\n",
        "x, y = make_multilabel_classification(\n",
        "    n_samples=500, n_features=8, n_classes=3, n_labels=2\n",
        ")"
      ],
      "metadata": {
        "id": "xaTnX5EVTI1P"
      },
      "execution_count": 20,
      "outputs": []
    },
    {
      "cell_type": "code",
      "source": [
        "x.shape, y.shape"
      ],
      "metadata": {
        "colab": {
          "base_uri": "https://localhost:8080/"
        },
        "id": "62Z_uXKIWL4Z",
        "outputId": "392702b9-f810-45c6-9180-1f0c06c4ad83"
      },
      "execution_count": 21,
      "outputs": [
        {
          "output_type": "execute_result",
          "data": {
            "text/plain": [
              "((500, 8), (500, 3))"
            ]
          },
          "metadata": {},
          "execution_count": 21
        }
      ]
    },
    {
      "cell_type": "code",
      "source": [
        "np.unique(y)"
      ],
      "metadata": {
        "colab": {
          "base_uri": "https://localhost:8080/"
        },
        "id": "2PeYKUdwWOfp",
        "outputId": "3f846470-8954-4abd-e4e3-8fecf837c7d8"
      },
      "execution_count": 22,
      "outputs": [
        {
          "output_type": "execute_result",
          "data": {
            "text/plain": [
              "array([0, 1])"
            ]
          },
          "metadata": {},
          "execution_count": 22
        }
      ]
    },
    {
      "cell_type": "code",
      "source": [
        "y[:,-1] = y[:,0]"
      ],
      "metadata": {
        "id": "nPPwWcSMWSpr"
      },
      "execution_count": 23,
      "outputs": []
    },
    {
      "cell_type": "code",
      "source": [
        "feature_names = [f'Feature # {i}' for i in range(x.shape[1])]\n",
        "target_names = [f'Target # {i}' for i in range(y.shape[1])]"
      ],
      "metadata": {
        "id": "G8_sLo5oWXB7"
      },
      "execution_count": 24,
      "outputs": []
    },
    {
      "cell_type": "code",
      "source": [
        "from sklearn.model_selection import train_test_split\n",
        "\n",
        "x_train, x_test, y_train, y_test = train_test_split(x, y, test_size=0.25)"
      ],
      "metadata": {
        "id": "h7tu0fivWa5_"
      },
      "execution_count": 25,
      "outputs": []
    },
    {
      "cell_type": "code",
      "source": [
        "from sklearn.multioutput import MultiOutputClassifier\n",
        "from sklearn.ensemble import GradientBoostingClassifier\n",
        "\n",
        "clf = MultiOutputClassifier(\n",
        "    estimator=GradientBoostingClassifier(\n",
        "        n_estimators=500,\n",
        "        learning_rate=0.01,\n",
        "        subsample=0.8,\n",
        "    ),\n",
        "    n_jobs=-1\n",
        ")\n",
        "clf.fit(x_train, y_train)\n",
        "y_pred_multioutput = clf.predict(x_test)"
      ],
      "metadata": {
        "id": "geXnrSnJWeMy"
      },
      "execution_count": 26,
      "outputs": []
    },
    {
      "cell_type": "code",
      "source": [
        "from sklearn.multioutput import ClassifierChain\n",
        "from sklearn.ensemble import GradientBoostingClassifier\n",
        "\n",
        "clf = ClassifierChain(\n",
        "    base_estimator=GradientBoostingClassifier(\n",
        "        n_estimators=500,\n",
        "        learning_rate=0.01,\n",
        "        subsample=0.8,\n",
        "    ),\n",
        "    order=[0,1,2]\n",
        ")\n",
        "clf.fit(x_train, y_train)\n",
        "y_pred_chain = clf.predict(x_test)"
      ],
      "metadata": {
        "id": "iecx-03tWj6l"
      },
      "execution_count": 27,
      "outputs": []
    },
    {
      "cell_type": "code",
      "source": [
        "pd.DataFrame(\n",
        "    zip(\n",
        "        clf.estimators_[-2].feature_importances_, \n",
        "        feature_names + target_names\n",
        "    ),\n",
        "    columns=['Coeff', 'Feature']\n",
        ")[\n",
        "    ['Feature', 'Coeff']\n",
        "].style.bar(\n",
        "    subset=['Coeff'], align='mid', color='#AAAAAA'\n",
        ")"
      ],
      "metadata": {
        "colab": {
          "base_uri": "https://localhost:8080/",
          "height": 332
        },
        "id": "atFmxZd3Wojj",
        "outputId": "770150b6-d7d9-419c-98f1-7e1a9cb9a651"
      },
      "execution_count": 28,
      "outputs": [
        {
          "output_type": "execute_result",
          "data": {
            "text/plain": [
              "<pandas.io.formats.style.Styler at 0x7ffb3f29f2d0>"
            ],
            "text/html": [
              "<style type=\"text/css\">\n",
              "#T_3a4a8_row0_col1 {\n",
              "  width: 10em;\n",
              "  height: 80%;\n",
              "  background: linear-gradient(90deg,#AAAAAA 33.3%, transparent 33.3%);\n",
              "}\n",
              "#T_3a4a8_row1_col1 {\n",
              "  width: 10em;\n",
              "  height: 80%;\n",
              "  background: linear-gradient(90deg,#AAAAAA 27.4%, transparent 27.4%);\n",
              "}\n",
              "#T_3a4a8_row2_col1 {\n",
              "  width: 10em;\n",
              "  height: 80%;\n",
              "  background: linear-gradient(90deg,#AAAAAA 100.0%, transparent 100.0%);\n",
              "}\n",
              "#T_3a4a8_row3_col1 {\n",
              "  width: 10em;\n",
              "  height: 80%;\n",
              "  background: linear-gradient(90deg,#AAAAAA 92.6%, transparent 92.6%);\n",
              "}\n",
              "#T_3a4a8_row4_col1 {\n",
              "  width: 10em;\n",
              "  height: 80%;\n",
              "  background: linear-gradient(90deg,#AAAAAA 68.3%, transparent 68.3%);\n",
              "}\n",
              "#T_3a4a8_row5_col1 {\n",
              "  width: 10em;\n",
              "  height: 80%;\n",
              "  background: linear-gradient(90deg,#AAAAAA 22.7%, transparent 22.7%);\n",
              "}\n",
              "#T_3a4a8_row6_col1 {\n",
              "  width: 10em;\n",
              "  height: 80%;\n",
              "  background: linear-gradient(90deg,#AAAAAA 22.0%, transparent 22.0%);\n",
              "}\n",
              "#T_3a4a8_row7_col1 {\n",
              "  width: 10em;\n",
              "  height: 80%;\n",
              "  background: linear-gradient(90deg,#AAAAAA 49.9%, transparent 49.9%);\n",
              "}\n",
              "#T_3a4a8_row8_col1 {\n",
              "  width: 10em;\n",
              "  height: 80%;\n",
              "  background: linear-gradient(90deg,#AAAAAA 90.7%, transparent 90.7%);\n",
              "}\n",
              "</style>\n",
              "<table id=\"T_3a4a8_\" class=\"dataframe\">\n",
              "  <thead>\n",
              "    <tr>\n",
              "      <th class=\"blank level0\" >&nbsp;</th>\n",
              "      <th class=\"col_heading level0 col0\" >Feature</th>\n",
              "      <th class=\"col_heading level0 col1\" >Coeff</th>\n",
              "    </tr>\n",
              "  </thead>\n",
              "  <tbody>\n",
              "    <tr>\n",
              "      <th id=\"T_3a4a8_level0_row0\" class=\"row_heading level0 row0\" >0</th>\n",
              "      <td id=\"T_3a4a8_row0_col0\" class=\"data row0 col0\" >Feature # 0</td>\n",
              "      <td id=\"T_3a4a8_row0_col1\" class=\"data row0 col1\" >0.065790</td>\n",
              "    </tr>\n",
              "    <tr>\n",
              "      <th id=\"T_3a4a8_level0_row1\" class=\"row_heading level0 row1\" >1</th>\n",
              "      <td id=\"T_3a4a8_row1_col0\" class=\"data row1 col0\" >Feature # 1</td>\n",
              "      <td id=\"T_3a4a8_row1_col1\" class=\"data row1 col1\" >0.054041</td>\n",
              "    </tr>\n",
              "    <tr>\n",
              "      <th id=\"T_3a4a8_level0_row2\" class=\"row_heading level0 row2\" >2</th>\n",
              "      <td id=\"T_3a4a8_row2_col0\" class=\"data row2 col0\" >Feature # 2</td>\n",
              "      <td id=\"T_3a4a8_row2_col1\" class=\"data row2 col1\" >0.197296</td>\n",
              "    </tr>\n",
              "    <tr>\n",
              "      <th id=\"T_3a4a8_level0_row3\" class=\"row_heading level0 row3\" >3</th>\n",
              "      <td id=\"T_3a4a8_row3_col0\" class=\"data row3 col0\" >Feature # 3</td>\n",
              "      <td id=\"T_3a4a8_row3_col1\" class=\"data row3 col1\" >0.182702</td>\n",
              "    </tr>\n",
              "    <tr>\n",
              "      <th id=\"T_3a4a8_level0_row4\" class=\"row_heading level0 row4\" >4</th>\n",
              "      <td id=\"T_3a4a8_row4_col0\" class=\"data row4 col0\" >Feature # 4</td>\n",
              "      <td id=\"T_3a4a8_row4_col1\" class=\"data row4 col1\" >0.134703</td>\n",
              "    </tr>\n",
              "    <tr>\n",
              "      <th id=\"T_3a4a8_level0_row5\" class=\"row_heading level0 row5\" >5</th>\n",
              "      <td id=\"T_3a4a8_row5_col0\" class=\"data row5 col0\" >Feature # 5</td>\n",
              "      <td id=\"T_3a4a8_row5_col1\" class=\"data row5 col1\" >0.044692</td>\n",
              "    </tr>\n",
              "    <tr>\n",
              "      <th id=\"T_3a4a8_level0_row6\" class=\"row_heading level0 row6\" >6</th>\n",
              "      <td id=\"T_3a4a8_row6_col0\" class=\"data row6 col0\" >Feature # 6</td>\n",
              "      <td id=\"T_3a4a8_row6_col1\" class=\"data row6 col1\" >0.043445</td>\n",
              "    </tr>\n",
              "    <tr>\n",
              "      <th id=\"T_3a4a8_level0_row7\" class=\"row_heading level0 row7\" >7</th>\n",
              "      <td id=\"T_3a4a8_row7_col0\" class=\"data row7 col0\" >Feature # 7</td>\n",
              "      <td id=\"T_3a4a8_row7_col1\" class=\"data row7 col1\" >0.098395</td>\n",
              "    </tr>\n",
              "    <tr>\n",
              "      <th id=\"T_3a4a8_level0_row8\" class=\"row_heading level0 row8\" >8</th>\n",
              "      <td id=\"T_3a4a8_row8_col0\" class=\"data row8 col0\" >Target # 0</td>\n",
              "      <td id=\"T_3a4a8_row8_col1\" class=\"data row8 col1\" >0.178937</td>\n",
              "    </tr>\n",
              "  </tbody>\n",
              "</table>\n"
            ]
          },
          "metadata": {},
          "execution_count": 28
        }
      ]
    },
    {
      "cell_type": "code",
      "source": [
        "pd.DataFrame(\n",
        "    zip(\n",
        "        clf.estimators_[-1].feature_importances_, \n",
        "        feature_names + target_names\n",
        "    ),\n",
        "    columns=['Coeff', 'Feature']\n",
        ")[\n",
        "    ['Feature', 'Coeff']\n",
        "].style.bar(\n",
        "    subset=['Coeff'], align='mid', color='#AAAAAA'\n",
        ")"
      ],
      "metadata": {
        "colab": {
          "base_uri": "https://localhost:8080/",
          "height": 363
        },
        "id": "g4BNavxzWsOE",
        "outputId": "39f7d5f6-5040-49bc-edd6-2a5d95b74900"
      },
      "execution_count": 29,
      "outputs": [
        {
          "output_type": "execute_result",
          "data": {
            "text/plain": [
              "<pandas.io.formats.style.Styler at 0x7ffb3f1ef0d0>"
            ],
            "text/html": [
              "<style type=\"text/css\">\n",
              "#T_8ddf5_row0_col1, #T_8ddf5_row1_col1, #T_8ddf5_row2_col1, #T_8ddf5_row3_col1, #T_8ddf5_row4_col1, #T_8ddf5_row5_col1, #T_8ddf5_row6_col1, #T_8ddf5_row7_col1, #T_8ddf5_row9_col1 {\n",
              "  width: 10em;\n",
              "  height: 80%;\n",
              "  background: linear-gradient(90deg,#AAAAAA 0.0%, transparent 0.0%);\n",
              "}\n",
              "#T_8ddf5_row8_col1 {\n",
              "  width: 10em;\n",
              "  height: 80%;\n",
              "  background: linear-gradient(90deg,#AAAAAA 100.0%, transparent 100.0%);\n",
              "}\n",
              "</style>\n",
              "<table id=\"T_8ddf5_\" class=\"dataframe\">\n",
              "  <thead>\n",
              "    <tr>\n",
              "      <th class=\"blank level0\" >&nbsp;</th>\n",
              "      <th class=\"col_heading level0 col0\" >Feature</th>\n",
              "      <th class=\"col_heading level0 col1\" >Coeff</th>\n",
              "    </tr>\n",
              "  </thead>\n",
              "  <tbody>\n",
              "    <tr>\n",
              "      <th id=\"T_8ddf5_level0_row0\" class=\"row_heading level0 row0\" >0</th>\n",
              "      <td id=\"T_8ddf5_row0_col0\" class=\"data row0 col0\" >Feature # 0</td>\n",
              "      <td id=\"T_8ddf5_row0_col1\" class=\"data row0 col1\" >0.000000</td>\n",
              "    </tr>\n",
              "    <tr>\n",
              "      <th id=\"T_8ddf5_level0_row1\" class=\"row_heading level0 row1\" >1</th>\n",
              "      <td id=\"T_8ddf5_row1_col0\" class=\"data row1 col0\" >Feature # 1</td>\n",
              "      <td id=\"T_8ddf5_row1_col1\" class=\"data row1 col1\" >0.000000</td>\n",
              "    </tr>\n",
              "    <tr>\n",
              "      <th id=\"T_8ddf5_level0_row2\" class=\"row_heading level0 row2\" >2</th>\n",
              "      <td id=\"T_8ddf5_row2_col0\" class=\"data row2 col0\" >Feature # 2</td>\n",
              "      <td id=\"T_8ddf5_row2_col1\" class=\"data row2 col1\" >0.000000</td>\n",
              "    </tr>\n",
              "    <tr>\n",
              "      <th id=\"T_8ddf5_level0_row3\" class=\"row_heading level0 row3\" >3</th>\n",
              "      <td id=\"T_8ddf5_row3_col0\" class=\"data row3 col0\" >Feature # 3</td>\n",
              "      <td id=\"T_8ddf5_row3_col1\" class=\"data row3 col1\" >0.000000</td>\n",
              "    </tr>\n",
              "    <tr>\n",
              "      <th id=\"T_8ddf5_level0_row4\" class=\"row_heading level0 row4\" >4</th>\n",
              "      <td id=\"T_8ddf5_row4_col0\" class=\"data row4 col0\" >Feature # 4</td>\n",
              "      <td id=\"T_8ddf5_row4_col1\" class=\"data row4 col1\" >0.000000</td>\n",
              "    </tr>\n",
              "    <tr>\n",
              "      <th id=\"T_8ddf5_level0_row5\" class=\"row_heading level0 row5\" >5</th>\n",
              "      <td id=\"T_8ddf5_row5_col0\" class=\"data row5 col0\" >Feature # 5</td>\n",
              "      <td id=\"T_8ddf5_row5_col1\" class=\"data row5 col1\" >0.000000</td>\n",
              "    </tr>\n",
              "    <tr>\n",
              "      <th id=\"T_8ddf5_level0_row6\" class=\"row_heading level0 row6\" >6</th>\n",
              "      <td id=\"T_8ddf5_row6_col0\" class=\"data row6 col0\" >Feature # 6</td>\n",
              "      <td id=\"T_8ddf5_row6_col1\" class=\"data row6 col1\" >0.000000</td>\n",
              "    </tr>\n",
              "    <tr>\n",
              "      <th id=\"T_8ddf5_level0_row7\" class=\"row_heading level0 row7\" >7</th>\n",
              "      <td id=\"T_8ddf5_row7_col0\" class=\"data row7 col0\" >Feature # 7</td>\n",
              "      <td id=\"T_8ddf5_row7_col1\" class=\"data row7 col1\" >0.000000</td>\n",
              "    </tr>\n",
              "    <tr>\n",
              "      <th id=\"T_8ddf5_level0_row8\" class=\"row_heading level0 row8\" >8</th>\n",
              "      <td id=\"T_8ddf5_row8_col0\" class=\"data row8 col0\" >Target # 0</td>\n",
              "      <td id=\"T_8ddf5_row8_col1\" class=\"data row8 col1\" >1.000000</td>\n",
              "    </tr>\n",
              "    <tr>\n",
              "      <th id=\"T_8ddf5_level0_row9\" class=\"row_heading level0 row9\" >9</th>\n",
              "      <td id=\"T_8ddf5_row9_col0\" class=\"data row9 col0\" >Target # 1</td>\n",
              "      <td id=\"T_8ddf5_row9_col1\" class=\"data row9 col1\" >0.000000</td>\n",
              "    </tr>\n",
              "  </tbody>\n",
              "</table>\n"
            ]
          },
          "metadata": {},
          "execution_count": 29
        }
      ]
    },
    {
      "cell_type": "code",
      "source": [
        "from sklearn.metrics import f1_score\n",
        "\n",
        "print(\n",
        "    'F1-Score; MultiOutputClassifier={:.2f}, ClassifierChain={:.2f}'.format(\n",
        "        f1_score(y_test, y_pred_multioutput, average='macro'),\n",
        "        f1_score(y_test, y_pred_chain, average='macro'),\n",
        "    )\n",
        ")"
      ],
      "metadata": {
        "colab": {
          "base_uri": "https://localhost:8080/"
        },
        "id": "4jNbEFLyW6L8",
        "outputId": "5239506e-46f3-4ad8-d6ee-f6397c588c3e"
      },
      "execution_count": 30,
      "outputs": [
        {
          "output_type": "stream",
          "name": "stdout",
          "text": [
            "F1-Score; MultiOutputClassifier=0.75, ClassifierChain=0.73\n"
          ]
        }
      ]
    },
    {
      "cell_type": "markdown",
      "source": [
        "## One-Vs-The-Rest"
      ],
      "metadata": {
        "id": "L7GuA-RQXEpf"
      }
    },
    {
      "cell_type": "code",
      "source": [
        "from sklearn.datasets import make_classification\n",
        "\n",
        "x, y = make_classification(\n",
        "    n_samples=5000, n_features=15, n_informative=8, n_redundant=2, n_classes=4, class_sep=0.5, # 0.005,\n",
        ")"
      ],
      "metadata": {
        "id": "ykGpZvW7XArA"
      },
      "execution_count": 31,
      "outputs": []
    },
    {
      "cell_type": "code",
      "source": [
        "x.shape, y.shape"
      ],
      "metadata": {
        "colab": {
          "base_uri": "https://localhost:8080/"
        },
        "id": "X6LhzeRjXJy5",
        "outputId": "d86611c6-8de4-4c21-d51f-f4a251099a68"
      },
      "execution_count": 32,
      "outputs": [
        {
          "output_type": "execute_result",
          "data": {
            "text/plain": [
              "((5000, 15), (5000,))"
            ]
          },
          "metadata": {},
          "execution_count": 32
        }
      ]
    },
    {
      "cell_type": "code",
      "source": [
        "from sklearn.model_selection import train_test_split\n",
        "\n",
        "x_train, x_test, y_train, y_test = train_test_split(x, y, test_size=0.25)\n"
      ],
      "metadata": {
        "id": "iZOZS03oXND_"
      },
      "execution_count": 33,
      "outputs": []
    },
    {
      "cell_type": "code",
      "source": [
        "from sklearn.linear_model import LogisticRegression\n",
        "from sklearn.multiclass import OneVsRestClassifier\n",
        "from sklearn.metrics import accuracy_score\n",
        "\n",
        "clf = OneVsRestClassifier(\n",
        "    estimator=LogisticRegression(solver='saga')\n",
        ")\n",
        "clf.fit(x_train, y_train)\n",
        "y_pred = clf.predict(x_test)\n",
        "\n",
        "accuracy_score(y_test, y_pred)"
      ],
      "metadata": {
        "colab": {
          "base_uri": "https://localhost:8080/"
        },
        "id": "HeF3Xr4gXRzd",
        "outputId": "05518106-591f-4013-ed47-900e4fbfbb2c"
      },
      "execution_count": 34,
      "outputs": [
        {
          "output_type": "execute_result",
          "data": {
            "text/plain": [
              "0.4592"
            ]
          },
          "metadata": {},
          "execution_count": 34
        }
      ]
    },
    {
      "cell_type": "code",
      "source": [
        "from sklearn.linear_model import LogisticRegression\n",
        "from sklearn.multiclass import OneVsOneClassifier\n",
        "\n",
        "clf = OneVsOneClassifier(\n",
        "    estimator=LogisticRegression(solver='saga')\n",
        ")\n",
        "clf.fit(x_train, y_train)\n",
        "y_pred = clf.predict(x_test)\n",
        "\n",
        "accuracy_score(y_test, y_pred)"
      ],
      "metadata": {
        "colab": {
          "base_uri": "https://localhost:8080/"
        },
        "id": "MmoyNbagXVSh",
        "outputId": "ba126a00-7712-48f9-9eb2-513755220191"
      },
      "execution_count": 35,
      "outputs": [
        {
          "output_type": "execute_result",
          "data": {
            "text/plain": [
              "0.4704"
            ]
          },
          "metadata": {},
          "execution_count": 35
        }
      ]
    },
    {
      "cell_type": "code",
      "source": [
        "from sklearn.linear_model import LogisticRegression\n",
        "from sklearn.multiclass import OutputCodeClassifier\n",
        "\n",
        "clf = OutputCodeClassifier(\n",
        "    estimator=LogisticRegression(solver='saga'),\n",
        "    code_size=0.8\n",
        ")\n",
        "clf.fit(x_train, y_train)\n",
        "y_pred = clf.predict(x_test)\n",
        "\n",
        "accuracy_score(y_test, y_pred)"
      ],
      "metadata": {
        "colab": {
          "base_uri": "https://localhost:8080/"
        },
        "id": "yyD_KNbxXgCN",
        "outputId": "e29e4ad0-8a0a-427f-d44c-a8d006096e0b"
      },
      "execution_count": 36,
      "outputs": [
        {
          "output_type": "execute_result",
          "data": {
            "text/plain": [
              "0.3392"
            ]
          },
          "metadata": {},
          "execution_count": 36
        }
      ]
    },
    {
      "cell_type": "code",
      "source": [
        "from sklearn.linear_model import LogisticRegression\n",
        "from sklearn.multiclass import OutputCodeClassifier\n",
        "\n",
        "clf = OutputCodeClassifier(\n",
        "    estimator=LogisticRegression(solver='saga'),\n",
        "    code_size=0.6\n",
        ")\n",
        "clf.fit(x_train, y_train)\n",
        "y_pred = clf.predict(x_test)\n",
        "\n",
        "accuracy_score(y_test, y_pred)"
      ],
      "metadata": {
        "colab": {
          "base_uri": "https://localhost:8080/"
        },
        "id": "tUcr7g3vXl8q",
        "outputId": "e9ea7637-6100-4542-ef77-6985e427937b"
      },
      "execution_count": 37,
      "outputs": [
        {
          "output_type": "execute_result",
          "data": {
            "text/plain": [
              "0.3368"
            ]
          },
          "metadata": {},
          "execution_count": 37
        }
      ]
    },
    {
      "cell_type": "markdown",
      "source": [
        "## Calibration"
      ],
      "metadata": {
        "id": "A3kQulMZX1Y0"
      }
    },
    {
      "cell_type": "markdown",
      "source": [
        "For a perfectly calibrated model, we should get the following 45° line whenever we plot the % of samples in the target class versus the classifier's predicted probabilities."
      ],
      "metadata": {
        "id": "F0mZF8JjZG9N"
      }
    },
    {
      "cell_type": "code",
      "source": [
        "from sklearn.calibration import calibration_curve\n",
        "\n",
        "fig, ax = plt.subplots(1, 1, figsize=(10, 8))\n",
        "\n",
        "ax.plot(\n",
        "    [0, 1], [0, 1], \n",
        "    linestyle=':', \n",
        "    lw=2, color='k',\n",
        "    label='Ideal Calibration', alpha=0.5\n",
        ")\n",
        "\n",
        "ax.set_title('Probability Calibration Curve')\n",
        "ax.set_xlabel('Predicted Probability')\n",
        "ax.set_ylabel('% of samples in Class 1')\n",
        "\n",
        "ax.legend(loc=\"upper left\", fontsize='x-large', shadow=True)\n",
        "\n",
        "fig.show()"
      ],
      "metadata": {
        "colab": {
          "base_uri": "https://localhost:8080/",
          "height": 517
        },
        "id": "jiT6FV3BXqsb",
        "outputId": "ef3ff15b-77ef-474c-ca3a-d82e7fec2a03"
      },
      "execution_count": 38,
      "outputs": [
        {
          "output_type": "display_data",
          "data": {
            "text/plain": [
              "<Figure size 720x576 with 1 Axes>"
            ],
            "image/png": "[encoded data removed]"
          },
          "metadata": {
            "needs_background": "light"
          }
        }
      ]
    },
    {
      "cell_type": "code",
      "source": [
        "from sklearn.datasets import make_classification\n",
        "\n",
        "x, y = make_classification(\n",
        "    n_samples=50000, n_features=15, n_informative=5, n_redundant=10, n_classes=2, class_sep=0.001\n",
        ")\n",
        "\n",
        "x.shape, y.shape"
      ],
      "metadata": {
        "colab": {
          "base_uri": "https://localhost:8080/"
        },
        "id": "BMBTUZcUY6K-",
        "outputId": "634530d1-7667-40d3-db5f-d7c39abca3d6"
      },
      "execution_count": 39,
      "outputs": [
        {
          "output_type": "execute_result",
          "data": {
            "text/plain": [
              "((50000, 15), (50000,))"
            ]
          },
          "metadata": {},
          "execution_count": 39
        }
      ]
    },
    {
      "cell_type": "code",
      "source": [
        "from sklearn.model_selection import train_test_split\n",
        "\n",
        "x_train, x_test, y_train, y_test = train_test_split(x, y, test_size=0.25)"
      ],
      "metadata": {
        "id": "Rvu9whNGaJqI"
      },
      "execution_count": 40,
      "outputs": []
    },
    {
      "cell_type": "code",
      "source": [
        "from sklearn.naive_bayes import GaussianNB\n",
        "\n",
        "clf = GaussianNB()\n",
        "clf.fit(x_train, y_train)\n",
        "y_pred = clf.predict(x_test)\n",
        "y_pred_proba = clf.predict_proba(x_test)[:,-1]"
      ],
      "metadata": {
        "id": "f-NvK0qzaOUD"
      },
      "execution_count": 41,
      "outputs": []
    },
    {
      "cell_type": "code",
      "source": [
        "from sklearn.calibration import calibration_curve\n",
        "\n",
        "fraction_of_positives, mean_predicted_value = calibration_curve(y_test, y_pred_proba, n_bins=10)\n",
        "\n",
        "fig, ax = plt.subplots(1, 1, figsize=(10, 8))\n",
        "\n",
        "ax.plot(\n",
        "    [0, 1], [0, 1], \n",
        "    linestyle=':', \n",
        "    lw=2, color='k',\n",
        "    label='Ideal Calibration', alpha=0.5\n",
        ")\n",
        "\n",
        "ax.plot(\n",
        "    mean_predicted_value, fraction_of_positives, \"--\", label='Uncalibrated GaussianNB', color='k'\n",
        ")\n",
        "\n",
        "ax.set_title('Probability Calibration Curve')\n",
        "ax.set_xlabel('Predicted Probability')\n",
        "ax.set_ylabel('% of samples in Class 1')\n",
        "ax.set_xlim((0,1))\n",
        "ax.set_ylim((0,1))\n",
        "\n",
        "ax.legend(loc=\"upper left\", fontsize='x-large', shadow=True)\n",
        "\n",
        "fig.show()"
      ],
      "metadata": {
        "colab": {
          "base_uri": "https://localhost:8080/",
          "height": 517
        },
        "id": "KVZHzjPfaRNr",
        "outputId": "213ecb14-ce35-4b04-cf12-f10a525b0559"
      },
      "execution_count": 42,
      "outputs": [
        {
          "output_type": "display_data",
          "data": {
            "text/plain": [
              "<Figure size 720x576 with 1 Axes>"
            ],
            "image/png": "[encoded data removed]"
          },
          "metadata": {
            "needs_background": "light"
          }
        }
      ]
    },
    {
      "cell_type": "code",
      "source": [
        "from sklearn.calibration import CalibratedClassifierCV\n",
        "from sklearn.naive_bayes import GaussianNB\n",
        "\n",
        "clf_calib = CalibratedClassifierCV(GaussianNB(), cv=3, method='isotonic')\n",
        "clf_calib.fit(x_train, y_train)\n",
        "y_pred_calib = clf_calib.predict(x_test)\n",
        "y_pred_proba_calib = clf_calib.predict_proba(x_test)[:,-1]"
      ],
      "metadata": {
        "id": "sFPsNLOYaVRh"
      },
      "execution_count": 43,
      "outputs": []
    },
    {
      "cell_type": "code",
      "source": [
        "from sklearn.calibration import calibration_curve\n",
        "\n",
        "fig, ax = plt.subplots(1, 1, figsize=(10, 8))\n",
        "\n",
        "ax.plot(\n",
        "    [0, 1], [0, 1], \n",
        "    linestyle=':', \n",
        "    lw=2, color='k',\n",
        "    label='Ideal Calibration', alpha=0.5\n",
        ")\n",
        "\n",
        "fraction_of_positives, mean_predicted_value = calibration_curve(y_test, y_pred_proba, n_bins=10)\n",
        "\n",
        "ax.plot(\n",
        "    mean_predicted_value, fraction_of_positives, \"--\", label='Uncalibrated GaussianNB', color='k', alpha=0.85\n",
        ")\n",
        "\n",
        "fraction_of_positives, mean_predicted_value = calibration_curve(y_test, y_pred_proba_calib, n_bins=10)\n",
        "\n",
        "ax.plot(\n",
        "    mean_predicted_value, fraction_of_positives, \"-\", label='Calibrated GaussianNB', color='k', alpha=0.85\n",
        ")\n",
        "\n",
        "ax.set_title('Probability Calibration Curve')\n",
        "ax.set_xlabel('Predicted Probability')\n",
        "ax.set_ylabel('% of samples in Class 1')\n",
        "\n",
        "ax.legend(loc=\"upper left\", fontsize='x-large', shadow=True)\n",
        "\n",
        "fig.show()"
      ],
      "metadata": {
        "colab": {
          "base_uri": "https://localhost:8080/",
          "height": 517
        },
        "id": "QLo0y4L9bIr0",
        "outputId": "6417f230-06b4-4082-c476-3f8625a9540a"
      },
      "execution_count": 44,
      "outputs": [
        {
          "output_type": "display_data",
          "data": {
            "text/plain": [
              "<Figure size 720x576 with 1 Axes>"
            ],
            "image/png": "[encoded data removed]"
          },
          "metadata": {
            "needs_background": "light"
          }
        }
      ]
    },
    {
      "cell_type": "markdown",
      "source": [
        "# Calculating the precision @ k"
      ],
      "metadata": {
        "id": "IssPa-uJbvgc"
      }
    },
    {
      "cell_type": "code",
      "source": [
        "def precision_at_k_score(y_true, y_pred_proba, k=1000, pos_label=1):\n",
        "    topk = [\n",
        "        y_true_ == pos_label \n",
        "        for y_true_, y_pred_proba_ \n",
        "        in sorted(\n",
        "            zip(y_true, y_pred_proba), \n",
        "            key=lambda y: y[1], \n",
        "            reverse=True\n",
        "        )[:k]\n",
        "    ]\n",
        "    return sum(topk) / len(topk)"
      ],
      "metadata": {
        "id": "RAkT35XqbNA6"
      },
      "execution_count": 45,
      "outputs": []
    },
    {
      "cell_type": "code",
      "source": [
        "precision_at_k_score(y_test, y_pred_proba, k=500)"
      ],
      "metadata": {
        "colab": {
          "base_uri": "https://localhost:8080/"
        },
        "id": "Pn8ZUXNXds4y",
        "outputId": "02ca0bb0-ac79-414a-99de-bbc9ca13a926"
      },
      "execution_count": 46,
      "outputs": [
        {
          "output_type": "execute_result",
          "data": {
            "text/plain": [
              "0.994"
            ]
          },
          "metadata": {},
          "execution_count": 46
        }
      ]
    },
    {
      "cell_type": "code",
      "source": [
        "for k in 1000, 1500, 3000, 6000:\n",
        "    print(\n",
        "        'precision @ k={:,}: {:.2%}'.format(\n",
        "            k, precision_at_k_score(y_test, y_pred_proba, k=k)\n",
        "        )\n",
        "    )"
      ],
      "metadata": {
        "colab": {
          "base_uri": "https://localhost:8080/"
        },
        "id": "0wlMrAaLdvtu",
        "outputId": "bce0de94-5394-43df-d76e-b4108efa7178"
      },
      "execution_count": 47,
      "outputs": [
        {
          "output_type": "stream",
          "name": "stdout",
          "text": [
            "precision @ k=1,000: 97.70%\n",
            "precision @ k=1,500: 95.67%\n",
            "precision @ k=3,000: 88.90%\n",
            "precision @ k=6,000: 78.78%\n"
          ]
        }
      ]
    },
    {
      "cell_type": "code",
      "source": [
        "from sklearn.metrics import precision_score\n",
        "\n",
        "precision_score(y_test, y_pred)"
      ],
      "metadata": {
        "colab": {
          "base_uri": "https://localhost:8080/"
        },
        "id": "Y-lMu2u0d5qb",
        "outputId": "15421a06-c8ff-4f5f-c0cf-b0ac9d6f7ba8"
      },
      "execution_count": 48,
      "outputs": [
        {
          "output_type": "execute_result",
          "data": {
            "text/plain": [
              "0.820553049617572"
            ]
          },
          "metadata": {},
          "execution_count": 48
        }
      ]
    },
    {
      "cell_type": "code",
      "source": [
        ""
      ],
      "metadata": {
        "id": "T6cK76iBd_2T"
      },
      "execution_count": null,
      "outputs": []
    }
  ]
}