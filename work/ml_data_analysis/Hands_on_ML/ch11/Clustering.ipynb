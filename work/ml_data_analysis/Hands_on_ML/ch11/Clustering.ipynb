{
  "nbformat": 4,
  "nbformat_minor": 0,
  "metadata": {
    "colab": {
      "name": "Clustering.ipynb",
      "provenance": [],
      "collapsed_sections": []
    },
    "kernelspec": {
      "name": "python3",
      "display_name": "Python 3"
    },
    "language_info": {
      "name": "python"
    }
  },
  "cells": [
    {
      "cell_type": "markdown",
      "source": [
        "# Clustering"
      ],
      "metadata": {
        "id": "Z8ZXOH8HdUEv"
      }
    },
    {
      "cell_type": "code",
      "execution_count": 1,
      "metadata": {
        "id": "yjm0A-FQTDSM"
      },
      "outputs": [],
      "source": [
        "import numpy as np\n",
        "import pandas as pd\n",
        "import matplotlib.pyplot as plt\n",
        "plt.style.use('ggplot')\n",
        "%matplotlib inline"
      ]
    },
    {
      "cell_type": "code",
      "source": [
        "from sklearn.datasets import make_blobs\n",
        "\n",
        "x, y = make_blobs(n_samples=100, \n",
        "                  centers=4, \n",
        "                  n_features=2, \n",
        "                  cluster_std=[1, 1.5, 2, 2], \n",
        "                  random_state=7\n",
        ")\n",
        "\n",
        "df_blobs = pd.DataFrame(\n",
        "    {\n",
        "        'x1': x[:,0],\n",
        "        'x2': x[:,1],\n",
        "        'y': y\n",
        "    }\n",
        ")"
      ],
      "metadata": {
        "id": "C3gCb8VWdjcE"
      },
      "execution_count": 2,
      "outputs": []
    },
    {
      "cell_type": "code",
      "source": [
        "def plot_2d_clusters(x, y, ax):\n",
        "    \n",
        "    y_uniques = pd.Series(y).unique()\n",
        "    \n",
        "    for y_unique_item in y_uniques:\n",
        "        x[\n",
        "            y == y_unique_item\n",
        "        ].plot(\n",
        "            title=f'{len(y_uniques)} Clusters',\n",
        "            kind='scatter',\n",
        "            x='x1',\n",
        "            y='x2',\n",
        "            marker=f'${y_unique_item}$',\n",
        "            s=60,\n",
        "            color='k',\n",
        "            ax=ax,\n",
        "            alpha=0.7\n",
        "        )"
      ],
      "metadata": {
        "id": "3CvaHicZdnQm"
      },
      "execution_count": 3,
      "outputs": []
    },
    {
      "cell_type": "code",
      "source": [
        "fig, ax = plt.subplots(1, 1, figsize=(10, 6), sharey=False)\n",
        "\n",
        "x, y = df_blobs[['x1', 'x2']], df_blobs['y']\n",
        "plot_2d_clusters(x, y, ax)"
      ],
      "metadata": {
        "colab": {
          "base_uri": "https://localhost:8080/",
          "height": 408
        },
        "id": "4tk5B2vrdr-s",
        "outputId": "9241cf97-bceb-4fbd-dc68-73635288befd"
      },
      "execution_count": 4,
      "outputs": [
        {
          "output_type": "display_data",
          "data": {
            "text/plain": [
              "<Figure size 720x432 with 1 Axes>"
            ],
            "image/png": "[encoded data removed]"
          },
          "metadata": {
            "needs_background": "light"
          }
        }
      ]
    },
    {
      "cell_type": "code",
      "source": [
        ""
      ],
      "metadata": {
        "id": "vKd2y8KgdzfP"
      },
      "execution_count": 4,
      "outputs": []
    }
  ]
}