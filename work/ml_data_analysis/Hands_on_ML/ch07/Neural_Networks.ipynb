{
  "nbformat": 4,
  "nbformat_minor": 0,
  "metadata": {
    "colab": {
      "name": "Neural Networks.ipynb",
      "provenance": []
    },
    "kernelspec": {
      "name": "python3",
      "display_name": "Python 3"
    },
    "language_info": {
      "name": "python"
    }
  },
  "cells": [
    {
      "cell_type": "markdown",
      "source": [
        "# Fashion MNIST"
      ],
      "metadata": {
        "id": "uB8UVBn32Pa7"
      }
    },
    {
      "cell_type": "code",
      "execution_count": 1,
      "metadata": {
        "id": "ejV30Vsv2OFG"
      },
      "outputs": [],
      "source": [
        "import numpy as np\n",
        "import pandas as pd\n",
        "import matplotlib.pyplot as plt\n",
        "plt.style.use('ggplot')\n",
        "%matplotlib inline"
      ]
    },
    {
      "cell_type": "code",
      "source": [
        "from sklearn.datasets import fetch_openml\n",
        "fashion_mnist = fetch_openml(data_id=40996) "
      ],
      "metadata": {
        "id": "w-K2pIvT3cFv"
      },
      "execution_count": 2,
      "outputs": []
    },
    {
      "cell_type": "code",
      "source": [
        "type(fashion_mnist)"
      ],
      "metadata": {
        "colab": {
          "base_uri": "https://localhost:8080/"
        },
        "id": "j__EwGkv7IXt",
        "outputId": "504840db-b176-43ab-cb53-ba6a17603be8"
      },
      "execution_count": 3,
      "outputs": [
        {
          "output_type": "execute_result",
          "data": {
            "text/plain": [
              "sklearn.utils.Bunch"
            ]
          },
          "metadata": {},
          "execution_count": 3
        }
      ]
    },
    {
      "cell_type": "code",
      "source": [
        "labels_s = '0 T-shirt/top \\n1 Trouser \\n2 Pullover \\n3 Dress \\n4 Coat \\n5 Sandal \\n6 Shirt \\n7 Sneaker \\n8 Bag \\n9 Ankle boot'\n",
        "\n",
        "fashion_label_translation = {\n",
        "    int(k): v for k, v in [\n",
        "        item.split(maxsplit=1) for item in labels_s.split('\\n')\n",
        "    ]\n",
        "}\n",
        "\n",
        "def translate_label(y, translation=fashion_label_translation):\n",
        "    return pd.Series(y).apply(lambda y: translation[int(y)]).values"
      ],
      "metadata": {
        "id": "APgPPexl3fFI"
      },
      "execution_count": 4,
      "outputs": []
    },
    {
      "cell_type": "code",
      "source": [
        "def display_fashion(img, target, ax):\n",
        "    \n",
        "    if len(img.shape):\n",
        "        w = int(np.sqrt(img.shape[0]))\n",
        "        img = img.reshape((w, w))\n",
        "    \n",
        "    ax.imshow(img, cmap='Greys')\n",
        "    ax.set_title(f'{target}')\n",
        "    ax.grid(False)"
      ],
      "metadata": {
        "id": "flypewAq36Dj"
      },
      "execution_count": 5,
      "outputs": []
    },
    {
      "cell_type": "code",
      "source": [
        "from sklearn.model_selection import train_test_split\n",
        "\n",
        "fashion_mnist_sample = {}\n",
        "\n",
        "fashion_mnist_sample['data'], _, fashion_mnist_sample['target'], _ = train_test_split(\n",
        "    fashion_mnist['data'],\n",
        "    fashion_mnist['target'],\n",
        "    train_size = 10_000,\n",
        "    random_state= 121,\n",
        ")\n",
        "\n",
        "x, y = fashion_mnist_sample['data'], fashion_mnist_sample['target']\n",
        "x_train, x_test, y_train, y_test = train_test_split(\n",
        "    x, \n",
        "    y, \n",
        "    test_size=0.2, \n",
        "    random_state=121,\n",
        ")"
      ],
      "metadata": {
        "id": "OOAwzDby3-RX"
      },
      "execution_count": 6,
      "outputs": []
    },
    {
      "cell_type": "code",
      "source": [
        "from sklearn.preprocessing import MinMaxScaler\n",
        "\n",
        "scaler =MinMaxScaler()\n",
        "\n",
        "x_train = scaler.fit_transform(x_train)\n",
        "x_test = scaler.transform(x_test)"
      ],
      "metadata": {
        "id": "baAvD5dg6sgq"
      },
      "execution_count": 7,
      "outputs": []
    },
    {
      "cell_type": "code",
      "source": [
        ""
      ],
      "metadata": {
        "id": "kmX6t2CL-wAW"
      },
      "execution_count": null,
      "outputs": []
    }
  ]
}