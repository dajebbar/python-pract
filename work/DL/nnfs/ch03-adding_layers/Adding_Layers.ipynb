{
  "nbformat": 4,
  "nbformat_minor": 0,
  "metadata": {
    "colab": {
      "name": "Adding_Layers.ipynb",
      "provenance": []
    },
    "kernelspec": {
      "name": "python3",
      "display_name": "Python 3"
    },
    "language_info": {
      "name": "python"
    }
  },
  "cells": [
    {
      "cell_type": "code",
      "source": [
        "!pip install nnfs --quiet"
      ],
      "metadata": {
        "id": "umeK5hrVrFoF"
      },
      "execution_count": 1,
      "outputs": []
    },
    {
      "cell_type": "code",
      "source": [
        "import numpy as np\n",
        "import nnfs"
      ],
      "metadata": {
        "id": "aO4pBD74jy9H"
      },
      "execution_count": 2,
      "outputs": []
    },
    {
      "cell_type": "code",
      "execution_count": 3,
      "metadata": {
        "id": "BccKtl1PgOch"
      },
      "outputs": [],
      "source": [
        "class Layer_Dense:\n",
        "  def __init__(self, n_inputs, n_neurons):\n",
        "    # initialize weights and biases\n",
        "    self.weights = np.random.randn(n_inputs, n_neurons) * .01\n",
        "    self.biases = np.zeros(1, n_neurons)\n",
        "  \n",
        "  # forward\n",
        "  def forward(self, inputs):\n",
        "    # calculate output values from inputs, weights and biases\n",
        "    self.output = np.dot(inputs, self.weights) + self.biases\n"
      ]
    },
    {
      "cell_type": "code",
      "source": [
        "from nnfs.datasets import spiral_data\n",
        "\n",
        "# Create dataset\n",
        "X, y = spiral_data(samples=100, classes=3)"
      ],
      "metadata": {
        "id": "E0ownXlpsAx7"
      },
      "execution_count": 5,
      "outputs": []
    },
    {
      "cell_type": "code",
      "source": [
        ""
      ],
      "metadata": {
        "id": "WznEojuhsQLX"
      },
      "execution_count": null,
      "outputs": []
    }
  ]
}