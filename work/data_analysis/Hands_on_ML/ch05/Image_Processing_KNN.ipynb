{
  "nbformat": 4,
  "nbformat_minor": 0,
  "metadata": {
    "colab": {
      "name": "Image_Processing_KNN.ipynb",
      "provenance": []
    },
    "kernelspec": {
      "name": "python3",
      "display_name": "Python 3"
    },
    "language_info": {
      "name": "python"
    }
  },
  "cells": [
    {
      "cell_type": "markdown",
      "source": [
        "# Image Processing with Nearest Neighbors"
      ],
      "metadata": {
        "id": "LPlyQAGGgGi6"
      }
    },
    {
      "cell_type": "markdown",
      "source": [
        "## Load Digits Data"
      ],
      "metadata": {
        "id": "J9x1EOCrkxRK"
      }
    },
    {
      "cell_type": "code",
      "execution_count": 1,
      "metadata": {
        "id": "ljigYUSUcpau"
      },
      "outputs": [],
      "source": [
        "from sklearn.datasets import load_digits\n",
        "\n",
        "digit = load_digits()"
      ]
    },
    {
      "cell_type": "code",
      "source": [
        ""
      ],
      "metadata": {
        "id": "N22uhiC9lBv4"
      },
      "execution_count": null,
      "outputs": []
    }
  ]
}