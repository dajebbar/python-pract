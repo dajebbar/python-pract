{
  "nbformat": 4,
  "nbformat_minor": 0,
  "metadata": {
    "colab": {
      "name": "Logistic_Regression.ipynb",
      "provenance": []
    },
    "kernelspec": {
      "name": "python3",
      "display_name": "Python 3"
    },
    "language_info": {
      "name": "python"
    }
  },
  "cells": [
    {
      "cell_type": "markdown",
      "source": [
        "# Using logistic regression for classification"
      ],
      "metadata": {
        "id": "Ga3l2hIE5qJJ"
      }
    },
    {
      "cell_type": "markdown",
      "source": [
        "## Understanding the logistic function\n",
        "The logistic function is a member of the sigmoid (s-shaped) functions and it is represented by the following formula:\n",
        "\n",
        "## $$y = \\frac{1}{1 + e^-\\theta}$$"
      ],
      "metadata": {
        "id": "0EM08Pfb-7NC"
      }
    },
    {
      "cell_type": "code",
      "execution_count": 1,
      "metadata": {
        "id": "fd7unsML5dl5"
      },
      "outputs": [],
      "source": [
        "import numpy as np\n",
        "import pandas as pd\n",
        "import matplotlib.pyplot as plt\n",
        "plt.style.use('ggplot')\n",
        "%matplotlib inline  "
      ]
    },
    {
      "cell_type": "code",
      "source": [
        "fig, ax = plt.subplots(1, 1, figsize=(16, 8))\n",
        "\n",
        "theta = np.arange(-10, 10, 0.05)\n",
        "y = 1 / (1 + np.exp(-1 * theta))\n",
        "\n",
        "pd.DataFrame(\n",
        "    {\n",
        "        'theta': theta,\n",
        "        'y': y\n",
        "    }\n",
        ").plot(\n",
        "    title='Logistic Function', \n",
        "    kind='scatter', x='theta', y='y', \n",
        "    ax=ax\n",
        ")\n",
        "\n",
        "ax.set_yticks(np.arange(0, 1.25, step=0.5))"
      ],
      "metadata": {
        "colab": {
          "base_uri": "https://localhost:8080/",
          "height": 572
        },
        "id": "eIkA0GLMAYVo",
        "outputId": "85a411f1-7915-4207-f35b-72b2573695db"
      },
      "execution_count": 2,
      "outputs": [
        {
          "output_type": "execute_result",
          "data": {
            "text/plain": [
              "[<matplotlib.axis.YTick at 0x7f2519844750>,\n",
              " <matplotlib.axis.YTick at 0x7f250d8ec390>,\n",
              " <matplotlib.axis.YTick at 0x7f250d8c9990>]"
            ]
          },
          "metadata": {},
          "execution_count": 2
        },
        {
          "output_type": "display_data",
          "data": {
            "text/plain": [
              "<Figure size 1152x576 with 1 Axes>"
            ],
            "image/png": "[encoded data removed]"
          },
          "metadata": {
            "needs_background": "light"
          }
        }
      ]
    },
    {
      "cell_type": "code",
      "source": [
        ""
      ],
      "metadata": {
        "id": "yJKGgvYiAiiU"
      },
      "execution_count": null,
      "outputs": []
    }
  ]
}