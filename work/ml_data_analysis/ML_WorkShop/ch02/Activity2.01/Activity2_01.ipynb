{
  "nbformat": 4,
  "nbformat_minor": 0,
  "metadata": {
    "colab": {
      "name": "Activity2_01.ipynb",
      "provenance": []
    },
    "kernelspec": {
      "name": "python3",
      "display_name": "Python 3"
    },
    "language_info": {
      "name": "python"
    }
  },
  "cells": [
    {
      "cell_type": "code",
      "execution_count": 1,
      "metadata": {
        "id": "AAsU9I-GhaCT"
      },
      "outputs": [],
      "source": [
        "import pandas as pd\n",
        "import numpy as np\n",
        "import matplotlib.pyplot as plt\n",
        "import seaborn as sns\n",
        "import missingno as msno\n",
        "plt.style.use('ggplot')\n",
        "%matplotlib inline"
      ]
    },
    {
      "cell_type": "code",
      "source": [
        "df = pd.read_csv('wholesale_customers_data.csv')\n",
        "df.head()"
      ],
      "metadata": {
        "colab": {
          "base_uri": "https://localhost:8080/",
          "height": 206
        },
        "id": "B9DtOrgchvLp",
        "outputId": "70d81945-690b-48e2-e8f9-f19535c0b6dc"
      },
      "execution_count": 2,
      "outputs": [
        {
          "output_type": "execute_result",
          "data": {
            "text/plain": [
              "   Channel  Region  Fresh  Milk  Grocery  Frozen  Detergents_Paper  Delicassen\n",
              "0        2       3  12669  9656     7561     214              2674        1338\n",
              "1        2       3   7057  9810     9568    1762              3293        1776\n",
              "2        2       3   6353  8808     7684    2405              3516        7844\n",
              "3        1       3  13265  1196     4221    6404               507        1788\n",
              "4        2       3  22615  5410     7198    3915              1777        5185"
            ],
            "text/html": [
              "\n",
              "  <div id=\"df-742138ad-fae3-41f1-9439-d6edfec305b2\">\n",
              "    <div class=\"colab-df-container\">\n",
              "      <div>\n",
              "<style scoped>\n",
              "    .dataframe tbody tr th:only-of-type {\n",
              "        vertical-align: middle;\n",
              "    }\n",
              "\n",
              "    .dataframe tbody tr th {\n",
              "        vertical-align: top;\n",
              "    }\n",
              "\n",
              "    .dataframe thead th {\n",
              "        text-align: right;\n",
              "    }\n",
              "</style>\n",
              "<table border=\"1\" class=\"dataframe\">\n",
              "  <thead>\n",
              "    <tr style=\"text-align: right;\">\n",
              "      <th></th>\n",
              "      <th>Channel</th>\n",
              "      <th>Region</th>\n",
              "      <th>Fresh</th>\n",
              "      <th>Milk</th>\n",
              "      <th>Grocery</th>\n",
              "      <th>Frozen</th>\n",
              "      <th>Detergents_Paper</th>\n",
              "      <th>Delicassen</th>\n",
              "    </tr>\n",
              "  </thead>\n",
              "  <tbody>\n",
              "    <tr>\n",
              "      <th>0</th>\n",
              "      <td>2</td>\n",
              "      <td>3</td>\n",
              "      <td>12669</td>\n",
              "      <td>9656</td>\n",
              "      <td>7561</td>\n",
              "      <td>214</td>\n",
              "      <td>2674</td>\n",
              "      <td>1338</td>\n",
              "    </tr>\n",
              "    <tr>\n",
              "      <th>1</th>\n",
              "      <td>2</td>\n",
              "      <td>3</td>\n",
              "      <td>7057</td>\n",
              "      <td>9810</td>\n",
              "      <td>9568</td>\n",
              "      <td>1762</td>\n",
              "      <td>3293</td>\n",
              "      <td>1776</td>\n",
              "    </tr>\n",
              "    <tr>\n",
              "      <th>2</th>\n",
              "      <td>2</td>\n",
              "      <td>3</td>\n",
              "      <td>6353</td>\n",
              "      <td>8808</td>\n",
              "      <td>7684</td>\n",
              "      <td>2405</td>\n",
              "      <td>3516</td>\n",
              "      <td>7844</td>\n",
              "    </tr>\n",
              "    <tr>\n",
              "      <th>3</th>\n",
              "      <td>1</td>\n",
              "      <td>3</td>\n",
              "      <td>13265</td>\n",
              "      <td>1196</td>\n",
              "      <td>4221</td>\n",
              "      <td>6404</td>\n",
              "      <td>507</td>\n",
              "      <td>1788</td>\n",
              "    </tr>\n",
              "    <tr>\n",
              "      <th>4</th>\n",
              "      <td>2</td>\n",
              "      <td>3</td>\n",
              "      <td>22615</td>\n",
              "      <td>5410</td>\n",
              "      <td>7198</td>\n",
              "      <td>3915</td>\n",
              "      <td>1777</td>\n",
              "      <td>5185</td>\n",
              "    </tr>\n",
              "  </tbody>\n",
              "</table>\n",
              "</div>\n",
              "      <button class=\"colab-df-convert\" onclick=\"convertToInteractive('df-742138ad-fae3-41f1-9439-d6edfec305b2')\"\n",
              "              title=\"Convert this dataframe to an interactive table.\"\n",
              "              style=\"display:none;\">\n",
              "        \n",
              "  <svg xmlns=\"http://www.w3.org/2000/svg\" height=\"24px\"viewBox=\"0 0 24 24\"\n",
              "       width=\"24px\">\n",
              "    <path d=\"M0 0h24v24H0V0z\" fill=\"none\"/>\n",
              "    <path d=\"M18.56 5.44l.94 2.06.94-2.06 2.06-.94-2.06-.94-.94-2.06-.94 2.06-2.06.94zm-11 1L8.5 8.5l.94-2.06 2.06-.94-2.06-.94L8.5 2.5l-.94 2.06-2.06.94zm10 10l.94 2.06.94-2.06 2.06-.94-2.06-.94-.94-2.06-.94 2.06-2.06.94z\"/><path d=\"M17.41 7.96l-1.37-1.37c-.4-.4-.92-.59-1.43-.59-.52 0-1.04.2-1.43.59L10.3 9.45l-7.72 7.72c-.78.78-.78 2.05 0 2.83L4 21.41c.39.39.9.59 1.41.59.51 0 1.02-.2 1.41-.59l7.78-7.78 2.81-2.81c.8-.78.8-2.07 0-2.86zM5.41 20L4 18.59l7.72-7.72 1.47 1.35L5.41 20z\"/>\n",
              "  </svg>\n",
              "      </button>\n",
              "      \n",
              "  <style>\n",
              "    .colab-df-container {\n",
              "      display:flex;\n",
              "      flex-wrap:wrap;\n",
              "      gap: 12px;\n",
              "    }\n",
              "\n",
              "    .colab-df-convert {\n",
              "      background-color: #E8F0FE;\n",
              "      border: none;\n",
              "      border-radius: 50%;\n",
              "      cursor: pointer;\n",
              "      display: none;\n",
              "      fill: #1967D2;\n",
              "      height: 32px;\n",
              "      padding: 0 0 0 0;\n",
              "      width: 32px;\n",
              "    }\n",
              "\n",
              "    .colab-df-convert:hover {\n",
              "      background-color: #E2EBFA;\n",
              "      box-shadow: 0px 1px 2px rgba(60, 64, 67, 0.3), 0px 1px 3px 1px rgba(60, 64, 67, 0.15);\n",
              "      fill: #174EA6;\n",
              "    }\n",
              "\n",
              "    [theme=dark] .colab-df-convert {\n",
              "      background-color: #3B4455;\n",
              "      fill: #D2E3FC;\n",
              "    }\n",
              "\n",
              "    [theme=dark] .colab-df-convert:hover {\n",
              "      background-color: #434B5C;\n",
              "      box-shadow: 0px 1px 3px 1px rgba(0, 0, 0, 0.15);\n",
              "      filter: drop-shadow(0px 1px 2px rgba(0, 0, 0, 0.3));\n",
              "      fill: #FFFFFF;\n",
              "    }\n",
              "  </style>\n",
              "\n",
              "      <script>\n",
              "        const buttonEl =\n",
              "          document.querySelector('#df-742138ad-fae3-41f1-9439-d6edfec305b2 button.colab-df-convert');\n",
              "        buttonEl.style.display =\n",
              "          google.colab.kernel.accessAllowed ? 'block' : 'none';\n",
              "\n",
              "        async function convertToInteractive(key) {\n",
              "          const element = document.querySelector('#df-742138ad-fae3-41f1-9439-d6edfec305b2');\n",
              "          const dataTable =\n",
              "            await google.colab.kernel.invokeFunction('convertToInteractive',\n",
              "                                                     [key], {});\n",
              "          if (!dataTable) return;\n",
              "\n",
              "          const docLinkHtml = 'Like what you see? Visit the ' +\n",
              "            '<a target=\"_blank\" href=https://colab.research.google.com/notebooks/data_table.ipynb>data table notebook</a>'\n",
              "            + ' to learn more about interactive tables.';\n",
              "          element.innerHTML = '';\n",
              "          dataTable['output_type'] = 'display_data';\n",
              "          await google.colab.output.renderOutput(dataTable, element);\n",
              "          const docLink = document.createElement('div');\n",
              "          docLink.innerHTML = docLinkHtml;\n",
              "          element.appendChild(docLink);\n",
              "        }\n",
              "      </script>\n",
              "    </div>\n",
              "  </div>\n",
              "  "
            ]
          },
          "metadata": {},
          "execution_count": 2
        }
      ]
    },
    {
      "cell_type": "markdown",
      "source": [
        "# Exploratory Data Analysis(EDA)"
      ],
      "metadata": {
        "id": "hTG25MTAiHfN"
      }
    },
    {
      "cell_type": "markdown",
      "source": [
        "- shape of dataset"
      ],
      "metadata": {
        "id": "lj0EWrA_kYpf"
      }
    },
    {
      "cell_type": "code",
      "source": [
        "df.shape"
      ],
      "metadata": {
        "colab": {
          "base_uri": "https://localhost:8080/"
        },
        "id": "mTCeCrRjh8H9",
        "outputId": "bacddb34-ece6-4cc3-c551-5fbf1bbb8848"
      },
      "execution_count": 3,
      "outputs": [
        {
          "output_type": "execute_result",
          "data": {
            "text/plain": [
              "(440, 8)"
            ]
          },
          "metadata": {},
          "execution_count": 3
        }
      ]
    },
    {
      "cell_type": "markdown",
      "source": [
        "The wholesale customers dataset contains 440 rows and 8 columns"
      ],
      "metadata": {
        "id": "posgmhVOj9b5"
      }
    },
    {
      "cell_type": "markdown",
      "source": [
        "- Check columns name"
      ],
      "metadata": {
        "id": "AEAwO7PkkK2M"
      }
    },
    {
      "cell_type": "code",
      "source": [
        "df.columns.tolist()"
      ],
      "metadata": {
        "colab": {
          "base_uri": "https://localhost:8080/"
        },
        "id": "5Fe_VBq5j5i_",
        "outputId": "a77ace4e-de66-4e5f-f82d-84fa6c8ce281"
      },
      "execution_count": 4,
      "outputs": [
        {
          "output_type": "execute_result",
          "data": {
            "text/plain": [
              "['Channel',\n",
              " 'Region',\n",
              " 'Fresh',\n",
              " 'Milk',\n",
              " 'Grocery',\n",
              " 'Frozen',\n",
              " 'Detergents_Paper',\n",
              " 'Delicassen']"
            ]
          },
          "metadata": {},
          "execution_count": 4
        }
      ]
    },
    {
      "cell_type": "markdown",
      "source": [
        "- Check the columns types"
      ],
      "metadata": {
        "id": "_CHFPeNvkWLQ"
      }
    },
    {
      "cell_type": "code",
      "source": [
        "df.dtypes.value_counts()"
      ],
      "metadata": {
        "colab": {
          "base_uri": "https://localhost:8080/"
        },
        "id": "Sez7OqpAkPO8",
        "outputId": "046f6dd2-747d-4a27-bdc4-8650ece284ce"
      },
      "execution_count": 5,
      "outputs": [
        {
          "output_type": "execute_result",
          "data": {
            "text/plain": [
              "int64    8\n",
              "dtype: int64"
            ]
          },
          "metadata": {},
          "execution_count": 5
        }
      ]
    },
    {
      "cell_type": "markdown",
      "source": [
        "All features are numeric (integers 64 bit)"
      ],
      "metadata": {
        "id": "A275KuSskw2w"
      }
    },
    {
      "cell_type": "markdown",
      "source": [
        "- Check dataset info"
      ],
      "metadata": {
        "id": "r7IZy2WxlLL_"
      }
    },
    {
      "cell_type": "code",
      "source": [
        "df.info(memory_usage='deep')"
      ],
      "metadata": {
        "colab": {
          "base_uri": "https://localhost:8080/"
        },
        "id": "dIZ5mNfGklYr",
        "outputId": "16dfaaed-91ca-486f-a0c1-ce1081674708"
      },
      "execution_count": 6,
      "outputs": [
        {
          "output_type": "stream",
          "name": "stdout",
          "text": [
            "<class 'pandas.core.frame.DataFrame'>\n",
            "RangeIndex: 440 entries, 0 to 439\n",
            "Data columns (total 8 columns):\n",
            " #   Column            Non-Null Count  Dtype\n",
            "---  ------            --------------  -----\n",
            " 0   Channel           440 non-null    int64\n",
            " 1   Region            440 non-null    int64\n",
            " 2   Fresh             440 non-null    int64\n",
            " 3   Milk              440 non-null    int64\n",
            " 4   Grocery           440 non-null    int64\n",
            " 5   Frozen            440 non-null    int64\n",
            " 6   Detergents_Paper  440 non-null    int64\n",
            " 7   Delicassen        440 non-null    int64\n",
            "dtypes: int64(8)\n",
            "memory usage: 27.6 KB\n"
          ]
        }
      ]
    },
    {
      "cell_type": "markdown",
      "source": [
        "We remark that dataset does not contain missing values"
      ],
      "metadata": {
        "id": "NTZoaSQylQ1p"
      }
    },
    {
      "cell_type": "code",
      "source": [
        "msno.bar(df=df, figsize=(14,8), color='k')"
      ],
      "metadata": {
        "colab": {
          "base_uri": "https://localhost:8080/",
          "height": 643
        },
        "id": "aHFOFJCmlbxm",
        "outputId": "7eda87cd-a0aa-4e13-88a2-2dedc934229e"
      },
      "execution_count": 7,
      "outputs": [
        {
          "output_type": "execute_result",
          "data": {
            "text/plain": [
              "<matplotlib.axes._subplots.AxesSubplot at 0x7f8637a53190>"
            ]
          },
          "metadata": {},
          "execution_count": 7
        },
        {
          "output_type": "display_data",
          "data": {
            "text/plain": [
              "<Figure size 1008x576 with 3 Axes>"
            ],
            "image/png": "[encoded data removed]"
          },
          "metadata": {
            "needs_background": "light"
          }
        }
      ]
    },
    {
      "cell_type": "markdown",
      "source": [
        "# Statictical Summary"
      ],
      "metadata": {
        "id": "GILTPqPvl-Od"
      }
    },
    {
      "cell_type": "code",
      "source": [
        "df.describe().T"
      ],
      "metadata": {
        "colab": {
          "base_uri": "https://localhost:8080/",
          "height": 300
        },
        "id": "jLzXagcOlm-c",
        "outputId": "e11c2ab8-14cd-4f12-8c94-e080f07bcdff"
      },
      "execution_count": 8,
      "outputs": [
        {
          "output_type": "execute_result",
          "data": {
            "text/plain": [
              "                  count          mean           std   min      25%     50%  \\\n",
              "Channel           440.0      1.322727      0.468052   1.0     1.00     1.0   \n",
              "Region            440.0      2.543182      0.774272   1.0     2.00     3.0   \n",
              "Fresh             440.0  12000.297727  12647.328865   3.0  3127.75  8504.0   \n",
              "Milk              440.0   5796.265909   7380.377175  55.0  1533.00  3627.0   \n",
              "Grocery           440.0   7951.277273   9503.162829   3.0  2153.00  4755.5   \n",
              "Frozen            440.0   3071.931818   4854.673333  25.0   742.25  1526.0   \n",
              "Detergents_Paper  440.0   2881.493182   4767.854448   3.0   256.75   816.5   \n",
              "Delicassen        440.0   1524.870455   2820.105937   3.0   408.25   965.5   \n",
              "\n",
              "                       75%       max  \n",
              "Channel               2.00       2.0  \n",
              "Region                3.00       3.0  \n",
              "Fresh             16933.75  112151.0  \n",
              "Milk               7190.25   73498.0  \n",
              "Grocery           10655.75   92780.0  \n",
              "Frozen             3554.25   60869.0  \n",
              "Detergents_Paper   3922.00   40827.0  \n",
              "Delicassen         1820.25   47943.0  "
            ],
            "text/html": [
              "\n",
              "  <div id=\"df-4726e244-4de0-49b3-8b50-66414a53eaa6\">\n",
              "    <div class=\"colab-df-container\">\n",
              "      <div>\n",
              "<style scoped>\n",
              "    .dataframe tbody tr th:only-of-type {\n",
              "        vertical-align: middle;\n",
              "    }\n",
              "\n",
              "    .dataframe tbody tr th {\n",
              "        vertical-align: top;\n",
              "    }\n",
              "\n",
              "    .dataframe thead th {\n",
              "        text-align: right;\n",
              "    }\n",
              "</style>\n",
              "<table border=\"1\" class=\"dataframe\">\n",
              "  <thead>\n",
              "    <tr style=\"text-align: right;\">\n",
              "      <th></th>\n",
              "      <th>count</th>\n",
              "      <th>mean</th>\n",
              "      <th>std</th>\n",
              "      <th>min</th>\n",
              "      <th>25%</th>\n",
              "      <th>50%</th>\n",
              "      <th>75%</th>\n",
              "      <th>max</th>\n",
              "    </tr>\n",
              "  </thead>\n",
              "  <tbody>\n",
              "    <tr>\n",
              "      <th>Channel</th>\n",
              "      <td>440.0</td>\n",
              "      <td>1.322727</td>\n",
              "      <td>0.468052</td>\n",
              "      <td>1.0</td>\n",
              "      <td>1.00</td>\n",
              "      <td>1.0</td>\n",
              "      <td>2.00</td>\n",
              "      <td>2.0</td>\n",
              "    </tr>\n",
              "    <tr>\n",
              "      <th>Region</th>\n",
              "      <td>440.0</td>\n",
              "      <td>2.543182</td>\n",
              "      <td>0.774272</td>\n",
              "      <td>1.0</td>\n",
              "      <td>2.00</td>\n",
              "      <td>3.0</td>\n",
              "      <td>3.00</td>\n",
              "      <td>3.0</td>\n",
              "    </tr>\n",
              "    <tr>\n",
              "      <th>Fresh</th>\n",
              "      <td>440.0</td>\n",
              "      <td>12000.297727</td>\n",
              "      <td>12647.328865</td>\n",
              "      <td>3.0</td>\n",
              "      <td>3127.75</td>\n",
              "      <td>8504.0</td>\n",
              "      <td>16933.75</td>\n",
              "      <td>112151.0</td>\n",
              "    </tr>\n",
              "    <tr>\n",
              "      <th>Milk</th>\n",
              "      <td>440.0</td>\n",
              "      <td>5796.265909</td>\n",
              "      <td>7380.377175</td>\n",
              "      <td>55.0</td>\n",
              "      <td>1533.00</td>\n",
              "      <td>3627.0</td>\n",
              "      <td>7190.25</td>\n",
              "      <td>73498.0</td>\n",
              "    </tr>\n",
              "    <tr>\n",
              "      <th>Grocery</th>\n",
              "      <td>440.0</td>\n",
              "      <td>7951.277273</td>\n",
              "      <td>9503.162829</td>\n",
              "      <td>3.0</td>\n",
              "      <td>2153.00</td>\n",
              "      <td>4755.5</td>\n",
              "      <td>10655.75</td>\n",
              "      <td>92780.0</td>\n",
              "    </tr>\n",
              "    <tr>\n",
              "      <th>Frozen</th>\n",
              "      <td>440.0</td>\n",
              "      <td>3071.931818</td>\n",
              "      <td>4854.673333</td>\n",
              "      <td>25.0</td>\n",
              "      <td>742.25</td>\n",
              "      <td>1526.0</td>\n",
              "      <td>3554.25</td>\n",
              "      <td>60869.0</td>\n",
              "    </tr>\n",
              "    <tr>\n",
              "      <th>Detergents_Paper</th>\n",
              "      <td>440.0</td>\n",
              "      <td>2881.493182</td>\n",
              "      <td>4767.854448</td>\n",
              "      <td>3.0</td>\n",
              "      <td>256.75</td>\n",
              "      <td>816.5</td>\n",
              "      <td>3922.00</td>\n",
              "      <td>40827.0</td>\n",
              "    </tr>\n",
              "    <tr>\n",
              "      <th>Delicassen</th>\n",
              "      <td>440.0</td>\n",
              "      <td>1524.870455</td>\n",
              "      <td>2820.105937</td>\n",
              "      <td>3.0</td>\n",
              "      <td>408.25</td>\n",
              "      <td>965.5</td>\n",
              "      <td>1820.25</td>\n",
              "      <td>47943.0</td>\n",
              "    </tr>\n",
              "  </tbody>\n",
              "</table>\n",
              "</div>\n",
              "      <button class=\"colab-df-convert\" onclick=\"convertToInteractive('df-4726e244-4de0-49b3-8b50-66414a53eaa6')\"\n",
              "              title=\"Convert this dataframe to an interactive table.\"\n",
              "              style=\"display:none;\">\n",
              "        \n",
              "  <svg xmlns=\"http://www.w3.org/2000/svg\" height=\"24px\"viewBox=\"0 0 24 24\"\n",
              "       width=\"24px\">\n",
              "    <path d=\"M0 0h24v24H0V0z\" fill=\"none\"/>\n",
              "    <path d=\"M18.56 5.44l.94 2.06.94-2.06 2.06-.94-2.06-.94-.94-2.06-.94 2.06-2.06.94zm-11 1L8.5 8.5l.94-2.06 2.06-.94-2.06-.94L8.5 2.5l-.94 2.06-2.06.94zm10 10l.94 2.06.94-2.06 2.06-.94-2.06-.94-.94-2.06-.94 2.06-2.06.94z\"/><path d=\"M17.41 7.96l-1.37-1.37c-.4-.4-.92-.59-1.43-.59-.52 0-1.04.2-1.43.59L10.3 9.45l-7.72 7.72c-.78.78-.78 2.05 0 2.83L4 21.41c.39.39.9.59 1.41.59.51 0 1.02-.2 1.41-.59l7.78-7.78 2.81-2.81c.8-.78.8-2.07 0-2.86zM5.41 20L4 18.59l7.72-7.72 1.47 1.35L5.41 20z\"/>\n",
              "  </svg>\n",
              "      </button>\n",
              "      \n",
              "  <style>\n",
              "    .colab-df-container {\n",
              "      display:flex;\n",
              "      flex-wrap:wrap;\n",
              "      gap: 12px;\n",
              "    }\n",
              "\n",
              "    .colab-df-convert {\n",
              "      background-color: #E8F0FE;\n",
              "      border: none;\n",
              "      border-radius: 50%;\n",
              "      cursor: pointer;\n",
              "      display: none;\n",
              "      fill: #1967D2;\n",
              "      height: 32px;\n",
              "      padding: 0 0 0 0;\n",
              "      width: 32px;\n",
              "    }\n",
              "\n",
              "    .colab-df-convert:hover {\n",
              "      background-color: #E2EBFA;\n",
              "      box-shadow: 0px 1px 2px rgba(60, 64, 67, 0.3), 0px 1px 3px 1px rgba(60, 64, 67, 0.15);\n",
              "      fill: #174EA6;\n",
              "    }\n",
              "\n",
              "    [theme=dark] .colab-df-convert {\n",
              "      background-color: #3B4455;\n",
              "      fill: #D2E3FC;\n",
              "    }\n",
              "\n",
              "    [theme=dark] .colab-df-convert:hover {\n",
              "      background-color: #434B5C;\n",
              "      box-shadow: 0px 1px 3px 1px rgba(0, 0, 0, 0.15);\n",
              "      filter: drop-shadow(0px 1px 2px rgba(0, 0, 0, 0.3));\n",
              "      fill: #FFFFFF;\n",
              "    }\n",
              "  </style>\n",
              "\n",
              "      <script>\n",
              "        const buttonEl =\n",
              "          document.querySelector('#df-4726e244-4de0-49b3-8b50-66414a53eaa6 button.colab-df-convert');\n",
              "        buttonEl.style.display =\n",
              "          google.colab.kernel.accessAllowed ? 'block' : 'none';\n",
              "\n",
              "        async function convertToInteractive(key) {\n",
              "          const element = document.querySelector('#df-4726e244-4de0-49b3-8b50-66414a53eaa6');\n",
              "          const dataTable =\n",
              "            await google.colab.kernel.invokeFunction('convertToInteractive',\n",
              "                                                     [key], {});\n",
              "          if (!dataTable) return;\n",
              "\n",
              "          const docLinkHtml = 'Like what you see? Visit the ' +\n",
              "            '<a target=\"_blank\" href=https://colab.research.google.com/notebooks/data_table.ipynb>data table notebook</a>'\n",
              "            + ' to learn more about interactive tables.';\n",
              "          element.innerHTML = '';\n",
              "          dataTable['output_type'] = 'display_data';\n",
              "          await google.colab.output.renderOutput(dataTable, element);\n",
              "          const docLink = document.createElement('div');\n",
              "          docLink.innerHTML = docLinkHtml;\n",
              "          element.appendChild(docLink);\n",
              "        }\n",
              "      </script>\n",
              "    </div>\n",
              "  </div>\n",
              "  "
            ]
          },
          "metadata": {},
          "execution_count": 8
        }
      ]
    },
    {
      "cell_type": "markdown",
      "source": [
        "Since data does not contain missing values the type of features can be easily arranged in adequat dtype"
      ],
      "metadata": {
        "id": "yTgwpBntmdym"
      }
    },
    {
      "cell_type": "code",
      "source": [
        "df = df.assign(\n",
        "    Channel = df.Channel.astype(np.int8),\n",
        "    Region = df.Region.astype(np.int8),\n",
        "    Fresh = df.Fresh.astype(np.int32),\n",
        "    Milk = df.Milk.astype(np.int32),\n",
        "    Grocery = df.Grocery.astype(np.int32),\n",
        "    Frozen = df.Frozen.astype(np.int32),\n",
        "    Detergents_Paper = df.Detergents_Paper.astype(np.int32),\n",
        "    Delicassen = df.Delicassen.astype(np.int32),\n",
        ")\n",
        "\n",
        "df.info(memory_usage='deep')"
      ],
      "metadata": {
        "colab": {
          "base_uri": "https://localhost:8080/"
        },
        "id": "YvTTJst-mB2Y",
        "outputId": "1da4fc08-48ce-4ca9-901c-e482235dacc5"
      },
      "execution_count": 9,
      "outputs": [
        {
          "output_type": "stream",
          "name": "stdout",
          "text": [
            "<class 'pandas.core.frame.DataFrame'>\n",
            "RangeIndex: 440 entries, 0 to 439\n",
            "Data columns (total 8 columns):\n",
            " #   Column            Non-Null Count  Dtype\n",
            "---  ------            --------------  -----\n",
            " 0   Channel           440 non-null    int8 \n",
            " 1   Region            440 non-null    int8 \n",
            " 2   Fresh             440 non-null    int32\n",
            " 3   Milk              440 non-null    int32\n",
            " 4   Grocery           440 non-null    int32\n",
            " 5   Frozen            440 non-null    int32\n",
            " 6   Detergents_Paper  440 non-null    int32\n",
            " 7   Delicassen        440 non-null    int32\n",
            "dtypes: int32(6), int8(2)\n",
            "memory usage: 11.3 KB\n"
          ]
        }
      ]
    },
    {
      "cell_type": "markdown",
      "source": [
        "We can easily ditemine that Channel and region both of them are categorical features"
      ],
      "metadata": {
        "id": "6PZ6XYGrorkb"
      }
    },
    {
      "cell_type": "markdown",
      "source": [
        "# Data Cleaning"
      ],
      "metadata": {
        "id": "5G3S0cUBo6wJ"
      }
    },
    {
      "cell_type": "markdown",
      "source": [
        "- Check for duplicates"
      ],
      "metadata": {
        "id": "Q162R4ACo_AO"
      }
    },
    {
      "cell_type": "code",
      "source": [
        "df.duplicated().any()"
      ],
      "metadata": {
        "colab": {
          "base_uri": "https://localhost:8080/"
        },
        "id": "edsHzIUwmNqQ",
        "outputId": "1722128e-0748-49bf-f60b-4d8088eba684"
      },
      "execution_count": 10,
      "outputs": [
        {
          "output_type": "execute_result",
          "data": {
            "text/plain": [
              "False"
            ]
          },
          "metadata": {},
          "execution_count": 10
        }
      ]
    },
    {
      "cell_type": "markdown",
      "source": [
        "There are no duplicates"
      ],
      "metadata": {
        "id": "mOzzDrihpIGq"
      }
    },
    {
      "cell_type": "markdown",
      "source": [
        "# Visualization"
      ],
      "metadata": {
        "id": "Ps16QNJtpZtE"
      }
    },
    {
      "cell_type": "markdown",
      "source": [
        "- Distribution"
      ],
      "metadata": {
        "id": "8EUMwNd_pfj-"
      }
    },
    {
      "cell_type": "code",
      "source": [
        "df.median()"
      ],
      "metadata": {
        "colab": {
          "base_uri": "https://localhost:8080/"
        },
        "id": "dSKH4PbWpisV",
        "outputId": "f9775edf-6850-4d40-96c2-2c9b7136e05c"
      },
      "execution_count": 11,
      "outputs": [
        {
          "output_type": "execute_result",
          "data": {
            "text/plain": [
              "Channel                1.0\n",
              "Region                 3.0\n",
              "Fresh               8504.0\n",
              "Milk                3627.0\n",
              "Grocery             4755.5\n",
              "Frozen              1526.0\n",
              "Detergents_Paper     816.5\n",
              "Delicassen           965.5\n",
              "dtype: float64"
            ]
          },
          "metadata": {},
          "execution_count": 11
        }
      ]
    },
    {
      "cell_type": "markdown",
      "source": [
        "- histogram"
      ],
      "metadata": {
        "id": "njga388ypz-h"
      }
    },
    {
      "cell_type": "code",
      "source": [
        "df.hist(figsize=(15, 10), bins=30, xlabelsize=8, ylabelsize=8, color='k')"
      ],
      "metadata": {
        "colab": {
          "base_uri": "https://localhost:8080/",
          "height": 792
        },
        "id": "DuDsTv9fps2X",
        "outputId": "3f291366-8cc9-48c8-b615-10ee90c743ff"
      },
      "execution_count": 12,
      "outputs": [
        {
          "output_type": "execute_result",
          "data": {
            "text/plain": [
              "array([[<matplotlib.axes._subplots.AxesSubplot object at 0x7f8637a1fdd0>,\n",
              "        <matplotlib.axes._subplots.AxesSubplot object at 0x7f863432a1d0>,\n",
              "        <matplotlib.axes._subplots.AxesSubplot object at 0x7f863435d7d0>],\n",
              "       [<matplotlib.axes._subplots.AxesSubplot object at 0x7f8634313dd0>,\n",
              "        <matplotlib.axes._subplots.AxesSubplot object at 0x7f86342d7410>,\n",
              "        <matplotlib.axes._subplots.AxesSubplot object at 0x7f863428fa10>],\n",
              "       [<matplotlib.axes._subplots.AxesSubplot object at 0x7f8634245fd0>,\n",
              "        <matplotlib.axes._subplots.AxesSubplot object at 0x7f8634209610>,\n",
              "        <matplotlib.axes._subplots.AxesSubplot object at 0x7f8634209650>]],\n",
              "      dtype=object)"
            ]
          },
          "metadata": {},
          "execution_count": 12
        },
        {
          "output_type": "display_data",
          "data": {
            "text/plain": [
              "<Figure size 1080x720 with 9 Axes>"
            ],
            "image/png": "[encoded data removed]"
          },
          "metadata": {
            "needs_background": "light"
          }
        }
      ]
    },
    {
      "cell_type": "markdown",
      "source": [
        "The countinous featrues are right skiwed and contains outliers"
      ],
      "metadata": {
        "id": "pTtp3EIAqKcd"
      }
    },
    {
      "cell_type": "markdown",
      "source": [
        "- Correlation analysis"
      ],
      "metadata": {
        "id": "nK51YYJ_qkvK"
      }
    },
    {
      "cell_type": "code",
      "source": [
        "corr_mat = df.corr()\n",
        "\n",
        "mask = np.array(corr_mat)\n",
        "mask[np.tril_indices_from(mask)] = False\n",
        "\n",
        "fig,ax= plt.subplots()\n",
        "fig.set_size_inches(20,10)\n",
        "\n",
        "sns.heatmap(corr_mat, mask=mask,vmax=.9, square=True,annot=True)"
      ],
      "metadata": {
        "colab": {
          "base_uri": "https://localhost:8080/",
          "height": 689
        },
        "id": "3sFMi546p5Yt",
        "outputId": "4ffa6e36-f953-407c-f56b-e2a6f173c497"
      },
      "execution_count": 13,
      "outputs": [
        {
          "output_type": "execute_result",
          "data": {
            "text/plain": [
              "<matplotlib.axes._subplots.AxesSubplot at 0x7f8633d40c10>"
            ]
          },
          "metadata": {},
          "execution_count": 13
        },
        {
          "output_type": "display_data",
          "data": {
            "text/plain": [
              "<Figure size 1440x720 with 2 Axes>"
            ],
            "image/png": "[encoded data removed]"
          },
          "metadata": {
            "needs_background": "light"
          }
        }
      ]
    },
    {
      "cell_type": "markdown",
      "source": [
        "It can be seen that Detergents_Paper and grocery featrure are highly positive correlated between them. Also Grocery and Milk are moderately correlated."
      ],
      "metadata": {
        "id": "qBHmZP-mrD8Z"
      }
    },
    {
      "cell_type": "markdown",
      "source": [
        "# Dealing with outliers"
      ],
      "metadata": {
        "id": "j02eSuO23bex"
      }
    },
    {
      "cell_type": "code",
      "source": [
        "df.shape"
      ],
      "metadata": {
        "colab": {
          "base_uri": "https://localhost:8080/"
        },
        "id": "fykNPTO74Ogt",
        "outputId": "46b92536-ed45-4729-d990-128b49712dc5"
      },
      "execution_count": 14,
      "outputs": [
        {
          "output_type": "execute_result",
          "data": {
            "text/plain": [
              "(440, 8)"
            ]
          },
          "metadata": {},
          "execution_count": 14
        }
      ]
    },
    {
      "cell_type": "code",
      "source": [
        "outliers = {}\n",
        "for i in range(df.shape[1]):\n",
        "    min_t = df[df.columns[i]].mean() - (3 * df[df.columns[i]].std())\n",
        "    max_t = df[df.columns[i]].mean() + (3 * df[df.columns[i]].std())\n",
        "    count = 0\n",
        "    for j in df[df.columns[i]]:\n",
        "        if j < min_t or j > max_t:\n",
        "            count += 1\n",
        "    outliers[df.columns[i]] = [count,df.shape[0]-count]\n",
        "print(outliers)"
      ],
      "metadata": {
        "colab": {
          "base_uri": "https://localhost:8080/"
        },
        "id": "J4RrI4A74R-r",
        "outputId": "39436e25-3b37-432d-e69b-47de3332b17a"
      },
      "execution_count": 15,
      "outputs": [
        {
          "output_type": "stream",
          "name": "stdout",
          "text": [
            "{'Channel': [0, 440], 'Region': [0, 440], 'Fresh': [7, 433], 'Milk': [9, 431], 'Grocery': [7, 433], 'Frozen': [6, 434], 'Detergents_Paper': [10, 430], 'Delicassen': [4, 436]}\n"
          ]
        }
      ]
    },
    {
      "cell_type": "code",
      "source": [
        "from sklearn.preprocessing import MinMaxScaler\n",
        "\n",
        "scaler = MinMaxScaler()\n",
        "\n",
        "df[df.columns] = scaler.fit_transform(df[df.columns])\n",
        "\n",
        "df.head()"
      ],
      "metadata": {
        "colab": {
          "base_uri": "https://localhost:8080/",
          "height": 206
        },
        "id": "NDkhBRzr6yMN",
        "outputId": "0fb45c26-5ef0-467d-955c-19491f0fa11f"
      },
      "execution_count": 16,
      "outputs": [
        {
          "output_type": "execute_result",
          "data": {
            "text/plain": [
              "   Channel  Region     Fresh      Milk   Grocery    Frozen  Detergents_Paper  \\\n",
              "0      1.0     1.0  0.112940  0.130727  0.081464  0.003106          0.065427   \n",
              "1      1.0     1.0  0.062899  0.132824  0.103097  0.028548          0.080590   \n",
              "2      1.0     1.0  0.056622  0.119181  0.082790  0.039116          0.086052   \n",
              "3      0.0     1.0  0.118254  0.015536  0.045464  0.104842          0.012346   \n",
              "4      1.0     1.0  0.201626  0.072914  0.077552  0.063934          0.043455   \n",
              "\n",
              "   Delicassen  \n",
              "0    0.027847  \n",
              "1    0.036984  \n",
              "2    0.163559  \n",
              "3    0.037234  \n",
              "4    0.108093  "
            ],
            "text/html": [
              "\n",
              "  <div id=\"df-b11985c1-3302-4d11-a275-8a9d0455ec97\">\n",
              "    <div class=\"colab-df-container\">\n",
              "      <div>\n",
              "<style scoped>\n",
              "    .dataframe tbody tr th:only-of-type {\n",
              "        vertical-align: middle;\n",
              "    }\n",
              "\n",
              "    .dataframe tbody tr th {\n",
              "        vertical-align: top;\n",
              "    }\n",
              "\n",
              "    .dataframe thead th {\n",
              "        text-align: right;\n",
              "    }\n",
              "</style>\n",
              "<table border=\"1\" class=\"dataframe\">\n",
              "  <thead>\n",
              "    <tr style=\"text-align: right;\">\n",
              "      <th></th>\n",
              "      <th>Channel</th>\n",
              "      <th>Region</th>\n",
              "      <th>Fresh</th>\n",
              "      <th>Milk</th>\n",
              "      <th>Grocery</th>\n",
              "      <th>Frozen</th>\n",
              "      <th>Detergents_Paper</th>\n",
              "      <th>Delicassen</th>\n",
              "    </tr>\n",
              "  </thead>\n",
              "  <tbody>\n",
              "    <tr>\n",
              "      <th>0</th>\n",
              "      <td>1.0</td>\n",
              "      <td>1.0</td>\n",
              "      <td>0.112940</td>\n",
              "      <td>0.130727</td>\n",
              "      <td>0.081464</td>\n",
              "      <td>0.003106</td>\n",
              "      <td>0.065427</td>\n",
              "      <td>0.027847</td>\n",
              "    </tr>\n",
              "    <tr>\n",
              "      <th>1</th>\n",
              "      <td>1.0</td>\n",
              "      <td>1.0</td>\n",
              "      <td>0.062899</td>\n",
              "      <td>0.132824</td>\n",
              "      <td>0.103097</td>\n",
              "      <td>0.028548</td>\n",
              "      <td>0.080590</td>\n",
              "      <td>0.036984</td>\n",
              "    </tr>\n",
              "    <tr>\n",
              "      <th>2</th>\n",
              "      <td>1.0</td>\n",
              "      <td>1.0</td>\n",
              "      <td>0.056622</td>\n",
              "      <td>0.119181</td>\n",
              "      <td>0.082790</td>\n",
              "      <td>0.039116</td>\n",
              "      <td>0.086052</td>\n",
              "      <td>0.163559</td>\n",
              "    </tr>\n",
              "    <tr>\n",
              "      <th>3</th>\n",
              "      <td>0.0</td>\n",
              "      <td>1.0</td>\n",
              "      <td>0.118254</td>\n",
              "      <td>0.015536</td>\n",
              "      <td>0.045464</td>\n",
              "      <td>0.104842</td>\n",
              "      <td>0.012346</td>\n",
              "      <td>0.037234</td>\n",
              "    </tr>\n",
              "    <tr>\n",
              "      <th>4</th>\n",
              "      <td>1.0</td>\n",
              "      <td>1.0</td>\n",
              "      <td>0.201626</td>\n",
              "      <td>0.072914</td>\n",
              "      <td>0.077552</td>\n",
              "      <td>0.063934</td>\n",
              "      <td>0.043455</td>\n",
              "      <td>0.108093</td>\n",
              "    </tr>\n",
              "  </tbody>\n",
              "</table>\n",
              "</div>\n",
              "      <button class=\"colab-df-convert\" onclick=\"convertToInteractive('df-b11985c1-3302-4d11-a275-8a9d0455ec97')\"\n",
              "              title=\"Convert this dataframe to an interactive table.\"\n",
              "              style=\"display:none;\">\n",
              "        \n",
              "  <svg xmlns=\"http://www.w3.org/2000/svg\" height=\"24px\"viewBox=\"0 0 24 24\"\n",
              "       width=\"24px\">\n",
              "    <path d=\"M0 0h24v24H0V0z\" fill=\"none\"/>\n",
              "    <path d=\"M18.56 5.44l.94 2.06.94-2.06 2.06-.94-2.06-.94-.94-2.06-.94 2.06-2.06.94zm-11 1L8.5 8.5l.94-2.06 2.06-.94-2.06-.94L8.5 2.5l-.94 2.06-2.06.94zm10 10l.94 2.06.94-2.06 2.06-.94-2.06-.94-.94-2.06-.94 2.06-2.06.94z\"/><path d=\"M17.41 7.96l-1.37-1.37c-.4-.4-.92-.59-1.43-.59-.52 0-1.04.2-1.43.59L10.3 9.45l-7.72 7.72c-.78.78-.78 2.05 0 2.83L4 21.41c.39.39.9.59 1.41.59.51 0 1.02-.2 1.41-.59l7.78-7.78 2.81-2.81c.8-.78.8-2.07 0-2.86zM5.41 20L4 18.59l7.72-7.72 1.47 1.35L5.41 20z\"/>\n",
              "  </svg>\n",
              "      </button>\n",
              "      \n",
              "  <style>\n",
              "    .colab-df-container {\n",
              "      display:flex;\n",
              "      flex-wrap:wrap;\n",
              "      gap: 12px;\n",
              "    }\n",
              "\n",
              "    .colab-df-convert {\n",
              "      background-color: #E8F0FE;\n",
              "      border: none;\n",
              "      border-radius: 50%;\n",
              "      cursor: pointer;\n",
              "      display: none;\n",
              "      fill: #1967D2;\n",
              "      height: 32px;\n",
              "      padding: 0 0 0 0;\n",
              "      width: 32px;\n",
              "    }\n",
              "\n",
              "    .colab-df-convert:hover {\n",
              "      background-color: #E2EBFA;\n",
              "      box-shadow: 0px 1px 2px rgba(60, 64, 67, 0.3), 0px 1px 3px 1px rgba(60, 64, 67, 0.15);\n",
              "      fill: #174EA6;\n",
              "    }\n",
              "\n",
              "    [theme=dark] .colab-df-convert {\n",
              "      background-color: #3B4455;\n",
              "      fill: #D2E3FC;\n",
              "    }\n",
              "\n",
              "    [theme=dark] .colab-df-convert:hover {\n",
              "      background-color: #434B5C;\n",
              "      box-shadow: 0px 1px 3px 1px rgba(0, 0, 0, 0.15);\n",
              "      filter: drop-shadow(0px 1px 2px rgba(0, 0, 0, 0.3));\n",
              "      fill: #FFFFFF;\n",
              "    }\n",
              "  </style>\n",
              "\n",
              "      <script>\n",
              "        const buttonEl =\n",
              "          document.querySelector('#df-b11985c1-3302-4d11-a275-8a9d0455ec97 button.colab-df-convert');\n",
              "        buttonEl.style.display =\n",
              "          google.colab.kernel.accessAllowed ? 'block' : 'none';\n",
              "\n",
              "        async function convertToInteractive(key) {\n",
              "          const element = document.querySelector('#df-b11985c1-3302-4d11-a275-8a9d0455ec97');\n",
              "          const dataTable =\n",
              "            await google.colab.kernel.invokeFunction('convertToInteractive',\n",
              "                                                     [key], {});\n",
              "          if (!dataTable) return;\n",
              "\n",
              "          const docLinkHtml = 'Like what you see? Visit the ' +\n",
              "            '<a target=\"_blank\" href=https://colab.research.google.com/notebooks/data_table.ipynb>data table notebook</a>'\n",
              "            + ' to learn more about interactive tables.';\n",
              "          element.innerHTML = '';\n",
              "          dataTable['output_type'] = 'display_data';\n",
              "          await google.colab.output.renderOutput(dataTable, element);\n",
              "          const docLink = document.createElement('div');\n",
              "          docLink.innerHTML = docLinkHtml;\n",
              "          element.appendChild(docLink);\n",
              "        }\n",
              "      </script>\n",
              "    </div>\n",
              "  </div>\n",
              "  "
            ]
          },
          "metadata": {},
          "execution_count": 16
        }
      ]
    },
    {
      "cell_type": "code",
      "source": [
        "from sklearn.cluster import KMeans\n",
        "\n",
        "ideal_k = []\n",
        "for i in range(1,21):\n",
        "    est_kmeans = KMeans(n_clusters=i, random_state = 0)\n",
        "    est_kmeans.fit(df)\n",
        "    \n",
        "    ideal_k.append([i,est_kmeans.inertia_])"
      ],
      "metadata": {
        "id": "BOJsGajZ5kFE"
      },
      "execution_count": 17,
      "outputs": []
    },
    {
      "cell_type": "code",
      "source": [
        "ideal_k = np.array(ideal_k)\n",
        "plt.plot(ideal_k[:,0],ideal_k[:,1])\n",
        "plt.show()"
      ],
      "metadata": {
        "colab": {
          "base_uri": "https://localhost:8080/",
          "height": 265
        },
        "id": "sV2iS8b57WMD",
        "outputId": "88f0ad6d-64b2-4623-d96f-bab0c5a5432b"
      },
      "execution_count": 18,
      "outputs": [
        {
          "output_type": "display_data",
          "data": {
            "text/plain": [
              "<Figure size 432x288 with 1 Axes>"
            ],
            "image/png": "[encoded data removed]"
          },
          "metadata": {
            "needs_background": "light"
          }
        }
      ]
    },
    {
      "cell_type": "code",
      "source": [
        "est_kmeans = KMeans(n_clusters=6, random_state = 0)\n",
        "est_kmeans.fit(df)\n",
        "pred_kmeans = est_kmeans.predict(df)"
      ],
      "metadata": {
        "id": "LGGdGmND7pnI"
      },
      "execution_count": 19,
      "outputs": []
    },
    {
      "cell_type": "code",
      "source": [
        "plt.subplots(1, 2, sharex='col', sharey='row', figsize=(16,8))\n",
        "plt.scatter(df.iloc[:,5], df.iloc[:,3], c=pred_kmeans, s=20)\n",
        "\n",
        "plt.xlabel('Frozen')\n",
        "plt.subplot(1, 2, 1)\n",
        "plt.scatter(df.iloc[:,4], df.iloc[:,3], c=pred_kmeans, s=20)\n",
        "\n",
        "plt.xlabel('Grocery')\n",
        "plt.ylabel('Milk')\n",
        "plt.show()"
      ],
      "metadata": {
        "colab": {
          "base_uri": "https://localhost:8080/",
          "height": 500
        },
        "id": "droFXwMF79q2",
        "outputId": "600c6d48-1923-4102-f735-bffb85f96010"
      },
      "execution_count": 22,
      "outputs": [
        {
          "output_type": "display_data",
          "data": {
            "text/plain": [
              "<Figure size 1152x576 with 2 Axes>"
            ],
            "image/png": "[encoded data removed]"
          },
          "metadata": {
            "needs_background": "light"
          }
        }
      ]
    },
    {
      "cell_type": "code",
      "source": [
        ""
      ],
      "metadata": {
        "id": "0mStrtKt8Fyk"
      },
      "execution_count": 20,
      "outputs": []
    }
  ]
}