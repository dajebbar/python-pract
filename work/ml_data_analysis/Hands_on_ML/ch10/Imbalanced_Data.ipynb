{
  "nbformat": 4,
  "nbformat_minor": 0,
  "metadata": {
    "colab": {
      "name": "Imbalanced_Data.ipynb",
      "provenance": []
    },
    "kernelspec": {
      "name": "python3",
      "display_name": "Python 3"
    },
    "language_info": {
      "name": "python"
    }
  },
  "cells": [
    {
      "cell_type": "markdown",
      "source": [
        "# Imbalanced Data"
      ],
      "metadata": {
        "id": "A64TTRlKnUXK"
      }
    },
    {
      "cell_type": "code",
      "execution_count": 1,
      "metadata": {
        "id": "4Mv1mI6XkgAo"
      },
      "outputs": [],
      "source": [
        "# https://www.openml.org/d/1220\n",
        "# https://www.openml.org/d/1241\n",
        "# https://www.openml.org/d/37\n",
        "# https://www.openml.org/d/44\n",
        "\n",
        "from sklearn.datasets import fetch_openml\n",
        "\n",
        "data = fetch_openml(data_id=1220)"
      ]
    },
    {
      "cell_type": "code",
      "source": [
        "import numpy as np\n",
        "import pandas as pd\n",
        "import matplotlib.pyplot as plt\n",
        "plt.style.use('ggplot')\n",
        "%matplotlib inline"
      ],
      "metadata": {
        "id": "spkJCKUenaOW"
      },
      "execution_count": 2,
      "outputs": []
    },
    {
      "cell_type": "code",
      "source": [
        "df = pd.DataFrame(\n",
        "    data['data'],\n",
        "    columns=data['feature_names']\n",
        ").astype(float)\n",
        "\n",
        "df['target'] = pd.Series(data['target']).astype(int) "
      ],
      "metadata": {
        "id": "D8Se9mwpns3w"
      },
      "execution_count": 3,
      "outputs": []
    },
    {
      "cell_type": "code",
      "source": [
        "df.sample(n=5)"
      ],
      "metadata": {
        "colab": {
          "base_uri": "https://localhost:8080/",
          "height": 206
        },
        "id": "imwKKHRrnxOS",
        "outputId": "ee60c2b9-5df5-4c73-9e80-97c6af19ed46"
      },
      "execution_count": 4,
      "outputs": [
        {
          "output_type": "execute_result",
          "data": {
            "text/plain": [
              "       impression       ad_id  advertiser_id  depth  position  keyword_id  \\\n",
              "7245          1.0  21193219.0        35900.0    3.0       1.0         5.0   \n",
              "16040         1.0  21818926.0        37716.0    1.0       1.0      5846.0   \n",
              "35455         1.0  20192676.0        27961.0    1.0       1.0        39.0   \n",
              "16429         1.0  20001249.0         1381.0    2.0       2.0       361.0   \n",
              "35609         1.0   4241447.0        18226.0    2.0       2.0      8248.0   \n",
              "\n",
              "       title_id  description_id     user_id  target  \n",
              "7245      148.0           195.0   5003639.0       0  \n",
              "16040   33576.0         26849.0   1338874.0       0  \n",
              "35455     131.0           440.0   2405920.0       0  \n",
              "16429    5581.0          5890.0         0.0       0  \n",
              "35609  245292.0        213698.0  11225727.0       0  "
            ],
            "text/html": [
              "\n",
              "  <div id=\"df-13a1c628-4e6f-4ff1-836f-f5e260f37a5c\">\n",
              "    <div class=\"colab-df-container\">\n",
              "      <div>\n",
              "<style scoped>\n",
              "    .dataframe tbody tr th:only-of-type {\n",
              "        vertical-align: middle;\n",
              "    }\n",
              "\n",
              "    .dataframe tbody tr th {\n",
              "        vertical-align: top;\n",
              "    }\n",
              "\n",
              "    .dataframe thead th {\n",
              "        text-align: right;\n",
              "    }\n",
              "</style>\n",
              "<table border=\"1\" class=\"dataframe\">\n",
              "  <thead>\n",
              "    <tr style=\"text-align: right;\">\n",
              "      <th></th>\n",
              "      <th>impression</th>\n",
              "      <th>ad_id</th>\n",
              "      <th>advertiser_id</th>\n",
              "      <th>depth</th>\n",
              "      <th>position</th>\n",
              "      <th>keyword_id</th>\n",
              "      <th>title_id</th>\n",
              "      <th>description_id</th>\n",
              "      <th>user_id</th>\n",
              "      <th>target</th>\n",
              "    </tr>\n",
              "  </thead>\n",
              "  <tbody>\n",
              "    <tr>\n",
              "      <th>7245</th>\n",
              "      <td>1.0</td>\n",
              "      <td>21193219.0</td>\n",
              "      <td>35900.0</td>\n",
              "      <td>3.0</td>\n",
              "      <td>1.0</td>\n",
              "      <td>5.0</td>\n",
              "      <td>148.0</td>\n",
              "      <td>195.0</td>\n",
              "      <td>5003639.0</td>\n",
              "      <td>0</td>\n",
              "    </tr>\n",
              "    <tr>\n",
              "      <th>16040</th>\n",
              "      <td>1.0</td>\n",
              "      <td>21818926.0</td>\n",
              "      <td>37716.0</td>\n",
              "      <td>1.0</td>\n",
              "      <td>1.0</td>\n",
              "      <td>5846.0</td>\n",
              "      <td>33576.0</td>\n",
              "      <td>26849.0</td>\n",
              "      <td>1338874.0</td>\n",
              "      <td>0</td>\n",
              "    </tr>\n",
              "    <tr>\n",
              "      <th>35455</th>\n",
              "      <td>1.0</td>\n",
              "      <td>20192676.0</td>\n",
              "      <td>27961.0</td>\n",
              "      <td>1.0</td>\n",
              "      <td>1.0</td>\n",
              "      <td>39.0</td>\n",
              "      <td>131.0</td>\n",
              "      <td>440.0</td>\n",
              "      <td>2405920.0</td>\n",
              "      <td>0</td>\n",
              "    </tr>\n",
              "    <tr>\n",
              "      <th>16429</th>\n",
              "      <td>1.0</td>\n",
              "      <td>20001249.0</td>\n",
              "      <td>1381.0</td>\n",
              "      <td>2.0</td>\n",
              "      <td>2.0</td>\n",
              "      <td>361.0</td>\n",
              "      <td>5581.0</td>\n",
              "      <td>5890.0</td>\n",
              "      <td>0.0</td>\n",
              "      <td>0</td>\n",
              "    </tr>\n",
              "    <tr>\n",
              "      <th>35609</th>\n",
              "      <td>1.0</td>\n",
              "      <td>4241447.0</td>\n",
              "      <td>18226.0</td>\n",
              "      <td>2.0</td>\n",
              "      <td>2.0</td>\n",
              "      <td>8248.0</td>\n",
              "      <td>245292.0</td>\n",
              "      <td>213698.0</td>\n",
              "      <td>11225727.0</td>\n",
              "      <td>0</td>\n",
              "    </tr>\n",
              "  </tbody>\n",
              "</table>\n",
              "</div>\n",
              "      <button class=\"colab-df-convert\" onclick=\"convertToInteractive('df-13a1c628-4e6f-4ff1-836f-f5e260f37a5c')\"\n",
              "              title=\"Convert this dataframe to an interactive table.\"\n",
              "              style=\"display:none;\">\n",
              "        \n",
              "  <svg xmlns=\"http://www.w3.org/2000/svg\" height=\"24px\"viewBox=\"0 0 24 24\"\n",
              "       width=\"24px\">\n",
              "    <path d=\"M0 0h24v24H0V0z\" fill=\"none\"/>\n",
              "    <path d=\"M18.56 5.44l.94 2.06.94-2.06 2.06-.94-2.06-.94-.94-2.06-.94 2.06-2.06.94zm-11 1L8.5 8.5l.94-2.06 2.06-.94-2.06-.94L8.5 2.5l-.94 2.06-2.06.94zm10 10l.94 2.06.94-2.06 2.06-.94-2.06-.94-.94-2.06-.94 2.06-2.06.94z\"/><path d=\"M17.41 7.96l-1.37-1.37c-.4-.4-.92-.59-1.43-.59-.52 0-1.04.2-1.43.59L10.3 9.45l-7.72 7.72c-.78.78-.78 2.05 0 2.83L4 21.41c.39.39.9.59 1.41.59.51 0 1.02-.2 1.41-.59l7.78-7.78 2.81-2.81c.8-.78.8-2.07 0-2.86zM5.41 20L4 18.59l7.72-7.72 1.47 1.35L5.41 20z\"/>\n",
              "  </svg>\n",
              "      </button>\n",
              "      \n",
              "  <style>\n",
              "    .colab-df-container {\n",
              "      display:flex;\n",
              "      flex-wrap:wrap;\n",
              "      gap: 12px;\n",
              "    }\n",
              "\n",
              "    .colab-df-convert {\n",
              "      background-color: #E8F0FE;\n",
              "      border: none;\n",
              "      border-radius: 50%;\n",
              "      cursor: pointer;\n",
              "      display: none;\n",
              "      fill: #1967D2;\n",
              "      height: 32px;\n",
              "      padding: 0 0 0 0;\n",
              "      width: 32px;\n",
              "    }\n",
              "\n",
              "    .colab-df-convert:hover {\n",
              "      background-color: #E2EBFA;\n",
              "      box-shadow: 0px 1px 2px rgba(60, 64, 67, 0.3), 0px 1px 3px 1px rgba(60, 64, 67, 0.15);\n",
              "      fill: #174EA6;\n",
              "    }\n",
              "\n",
              "    [theme=dark] .colab-df-convert {\n",
              "      background-color: #3B4455;\n",
              "      fill: #D2E3FC;\n",
              "    }\n",
              "\n",
              "    [theme=dark] .colab-df-convert:hover {\n",
              "      background-color: #434B5C;\n",
              "      box-shadow: 0px 1px 3px 1px rgba(0, 0, 0, 0.15);\n",
              "      filter: drop-shadow(0px 1px 2px rgba(0, 0, 0, 0.3));\n",
              "      fill: #FFFFFF;\n",
              "    }\n",
              "  </style>\n",
              "\n",
              "      <script>\n",
              "        const buttonEl =\n",
              "          document.querySelector('#df-13a1c628-4e6f-4ff1-836f-f5e260f37a5c button.colab-df-convert');\n",
              "        buttonEl.style.display =\n",
              "          google.colab.kernel.accessAllowed ? 'block' : 'none';\n",
              "\n",
              "        async function convertToInteractive(key) {\n",
              "          const element = document.querySelector('#df-13a1c628-4e6f-4ff1-836f-f5e260f37a5c');\n",
              "          const dataTable =\n",
              "            await google.colab.kernel.invokeFunction('convertToInteractive',\n",
              "                                                     [key], {});\n",
              "          if (!dataTable) return;\n",
              "\n",
              "          const docLinkHtml = 'Like what you see? Visit the ' +\n",
              "            '<a target=\"_blank\" href=https://colab.research.google.com/notebooks/data_table.ipynb>data table notebook</a>'\n",
              "            + ' to learn more about interactive tables.';\n",
              "          element.innerHTML = '';\n",
              "          dataTable['output_type'] = 'display_data';\n",
              "          await google.colab.output.renderOutput(dataTable, element);\n",
              "          const docLink = document.createElement('div');\n",
              "          docLink.innerHTML = docLinkHtml;\n",
              "          element.appendChild(docLink);\n",
              "        }\n",
              "      </script>\n",
              "    </div>\n",
              "  </div>\n",
              "  "
            ]
          },
          "metadata": {},
          "execution_count": 4
        }
      ]
    },
    {
      "cell_type": "code",
      "source": [
        "df.target.value_counts(normalize=True)"
      ],
      "metadata": {
        "colab": {
          "base_uri": "https://localhost:8080/"
        },
        "id": "mmnndL6Bn1Bd",
        "outputId": "ceb8f359-1dbe-4ce4-f814-00a9038c1251"
      },
      "execution_count": 5,
      "outputs": [
        {
          "output_type": "execute_result",
          "data": {
            "text/plain": [
              "0    0.831581\n",
              "1    0.168419\n",
              "Name: target, dtype: float64"
            ]
          },
          "metadata": {},
          "execution_count": 5
        }
      ]
    },
    {
      "cell_type": "code",
      "source": [
        "df.shape"
      ],
      "metadata": {
        "colab": {
          "base_uri": "https://localhost:8080/"
        },
        "id": "JxNM_mJdo1-y",
        "outputId": "d9c3ce55-1651-409e-c13e-226fd783c8f8"
      },
      "execution_count": 6,
      "outputs": [
        {
          "output_type": "execute_result",
          "data": {
            "text/plain": [
              "(39948, 10)"
            ]
          },
          "metadata": {},
          "execution_count": 6
        }
      ]
    },
    {
      "cell_type": "code",
      "source": [
        "for feature in df.columns[:-1].tolist():\n",
        "  print(f'Cardinality of {feature}: {df[feature].value_counts().shape[0]:,}')"
      ],
      "metadata": {
        "colab": {
          "base_uri": "https://localhost:8080/"
        },
        "id": "1hLzOCwZpmQb",
        "outputId": "ecc66a9d-4e84-434f-eaa6-1474ed329079"
      },
      "execution_count": 11,
      "outputs": [
        {
          "output_type": "stream",
          "name": "stdout",
          "text": [
            "Cardinality of impression: 99\n",
            "Cardinality of ad_id: 19,228\n",
            "Cardinality of advertiser_id: 6,064\n",
            "Cardinality of depth: 3\n",
            "Cardinality of position: 3\n",
            "Cardinality of keyword_id: 19,803\n",
            "Cardinality of title_id: 25,321\n",
            "Cardinality of description_id: 22,381\n",
            "Cardinality of user_id: 30,114\n"
          ]
        }
      ]
    },
    {
      "cell_type": "code",
      "source": [
        "import seaborn as sns\n",
        "\n",
        "cor_matt = df.corr()\n",
        "mask = np.array(cor_matt)\n",
        "mask[np.tril_indices_from(mask)] = False\n",
        "fig,ax= plt.subplots()\n",
        "fig.set_size_inches(20,10)\n",
        "sns.heatmap(cor_matt, mask=mask,vmax=.95, square=True,annot=True)"
      ],
      "metadata": {
        "colab": {
          "base_uri": "https://localhost:8080/",
          "height": 610
        },
        "id": "n_5azuo6qDMy",
        "outputId": "d4eae330-9d61-4071-cd3e-9ed9716cfb5d"
      },
      "execution_count": 12,
      "outputs": [
        {
          "output_type": "execute_result",
          "data": {
            "text/plain": [
              "<matplotlib.axes._subplots.AxesSubplot at 0x7f5dcc1bd610>"
            ]
          },
          "metadata": {},
          "execution_count": 12
        },
        {
          "output_type": "display_data",
          "data": {
            "text/plain": [
              "<Figure size 1440x720 with 2 Axes>"
            ],
            "image/png": "[encoded data removed]"
          },
          "metadata": {
            "needs_background": "light"
          }
        }
      ]
    },
    {
      "cell_type": "code",
      "source": [
        "feature_names = data['feature_names']\n",
        "\n",
        "x = df[feature_names]\n",
        "y = df['target']"
      ],
      "metadata": {
        "id": "bTngIM5srk0x"
      },
      "execution_count": 13,
      "outputs": []
    },
    {
      "cell_type": "code",
      "source": [
        "from sklearn.model_selection import train_test_split\n",
        "\n",
        "x_train, x_test, y_train, y_test = train_test_split(\n",
        "    x, y, \n",
        "    test_size=0.25, \n",
        "    random_state=42,\n",
        ")"
      ],
      "metadata": {
        "id": "qGZbk68CsO8y"
      },
      "execution_count": 14,
      "outputs": []
    },
    {
      "cell_type": "code",
      "source": [
        "print(y_train.value_counts(normalize=True))\n",
        "print(y_test.value_counts(normalize=True))"
      ],
      "metadata": {
        "colab": {
          "base_uri": "https://localhost:8080/"
        },
        "id": "WtXe584_sdo7",
        "outputId": "a17a7052-c2dd-4ac0-d95a-f036bf3796fa"
      },
      "execution_count": 15,
      "outputs": [
        {
          "output_type": "stream",
          "name": "stdout",
          "text": [
            "0    0.831581\n",
            "1    0.168419\n",
            "Name: target, dtype: float64\n",
            "0    0.831581\n",
            "1    0.168419\n",
            "Name: target, dtype: float64\n"
          ]
        }
      ]
    },
    {
      "cell_type": "code",
      "source": [
        "from sklearn.preprocessing import MaxAbsScaler\n",
        "from sklearn.linear_model import LogisticRegression\n",
        "from sklearn.ensemble import RandomTreesEmbedding\n",
        "from sklearn.pipeline import Pipeline\n",
        "from sklearn.metrics import precision_score, recall_score\n",
        "from imblearn.metrics import geometric_mean_score\n",
        "\n",
        "\n",
        "def predict_and_evalutate(x_train, y_train, x_test, y_test, sample_weight=None, title='Unweighted'):\n",
        "    \n",
        "    \n",
        "    clf = Pipeline(\n",
        "        [\n",
        "            ('Embedder', RandomTreesEmbedding(n_estimators=10, max_leaf_nodes=20, random_state=42)), \n",
        "            ('Sclaer', MaxAbsScaler()),\n",
        "            ('Classifier', LogisticRegression(solver='saga', max_iter=1000, random_state=42))\n",
        "        ]\n",
        "    )\n",
        "    clf.fit(x_train, y_train, Classifier__sample_weight=sample_weight)\n",
        "    y_test_pred = clf.predict(x_test)\n",
        "    \n",
        "    print(\n",
        "        'Precision: {:.02%}, Recall: {:.02%}; G-mean: {:.02%} @  {}'.format(\n",
        "            precision_score(y_test, y_test_pred),\n",
        "            recall_score(y_test, y_test_pred),\n",
        "            geometric_mean_score(y_test, y_test_pred),\n",
        "            title\n",
        "        )\n",
        "    )\n",
        "    \n",
        "    return clf"
      ],
      "metadata": {
        "id": "HZrA8O7gsobs"
      },
      "execution_count": 16,
      "outputs": []
    },
    {
      "cell_type": "code",
      "source": [
        "clf = predict_and_evalutate(x_train, y_train, x_test, y_test)"
      ],
      "metadata": {
        "colab": {
          "base_uri": "https://localhost:8080/"
        },
        "id": "d9IJACyIvm6x",
        "outputId": "46a8ca2c-aab1-452d-91b0-27bf5f9a09ff"
      },
      "execution_count": 17,
      "outputs": [
        {
          "output_type": "stream",
          "name": "stdout",
          "text": [
            "Precision: 62.50%, Recall: 0.30%; G-mean: 5.45% @  Unweighted\n"
          ]
        }
      ]
    },
    {
      "cell_type": "code",
      "source": [
        "y_train.mean()"
      ],
      "metadata": {
        "colab": {
          "base_uri": "https://localhost:8080/"
        },
        "id": "3yHss2dSwAib",
        "outputId": "739e9b0a-e784-4500-e56f-57ea080d02e1"
      },
      "execution_count": 18,
      "outputs": [
        {
          "output_type": "execute_result",
          "data": {
            "text/plain": [
              "0.16841894462801643"
            ]
          },
          "metadata": {},
          "execution_count": 18
        }
      ]
    },
    {
      "cell_type": "code",
      "source": [
        "(1 - y_train.mean()) / y_train.mean()"
      ],
      "metadata": {
        "colab": {
          "base_uri": "https://localhost:8080/"
        },
        "id": "8cNxmQ4sxv27",
        "outputId": "dae1bd4b-54ac-413b-a95f-8fae3a820a81"
      },
      "execution_count": 19,
      "outputs": [
        {
          "output_type": "execute_result",
          "data": {
            "text/plain": [
              "4.937574316290131"
            ]
          },
          "metadata": {},
          "execution_count": 19
        }
      ]
    },
    {
      "cell_type": "markdown",
      "source": [
        "The number of samples in the majority class is about five times those in the minority class."
      ],
      "metadata": {
        "id": "I2YjAVFgyD_w"
      }
    },
    {
      "cell_type": "code",
      "source": [
        "sample_weight = (1 * (y_train == 0)) + (5 * (y_train == 1))\n",
        "\n",
        "clf = predict_and_evalutate(x_train, y_train, x_test, y_test, \n",
        "                            sample_weight=sample_weight, title='Unweighted')"
      ],
      "metadata": {
        "colab": {
          "base_uri": "https://localhost:8080/"
        },
        "id": "h_vh6na6x8cO",
        "outputId": "fb58e23a-9cdf-47f8-edf7-d5786056c667"
      },
      "execution_count": 20,
      "outputs": [
        {
          "output_type": "stream",
          "name": "stdout",
          "text": [
            "Precision: 24.78%, Recall: 13.38%; G-mean: 35.04% @  Unweighted\n"
          ]
        },
        {
          "output_type": "stream",
          "name": "stderr",
          "text": [
            "/usr/local/lib/python3.7/dist-packages/sklearn/linear_model/_sag.py:354: ConvergenceWarning: The max_iter was reached which means the coef_ did not converge\n",
            "  ConvergenceWarning,\n"
          ]
        }
      ]
    },
    {
      "cell_type": "code",
      "source": [
        "def calculate_feature_coeff(clf):\n",
        "    return pd.DataFrame(\n",
        "        {\n",
        "            'Features': [\n",
        "                f'EmbFeature{e}' \n",
        "                for e in range(len(clf[-1].coef_[0]))\n",
        "            ] + ['Intercept'],\n",
        "            'Coeff': list(\n",
        "                clf[-1].coef_[0]\n",
        "            ) + [clf[-1].intercept_[0]]\n",
        "        }\n",
        "\n",
        "    ).set_index('Features').tail(10)"
      ],
      "metadata": {
        "id": "U1Fj0PCjy5fn"
      },
      "execution_count": 21,
      "outputs": []
    },
    {
      "cell_type": "code",
      "source": [
        "calculate_feature_coeff(clf)"
      ],
      "metadata": {
        "colab": {
          "base_uri": "https://localhost:8080/",
          "height": 394
        },
        "id": "C4YB8xGQ0B1x",
        "outputId": "99cb0c28-ae13-4315-e5b4-fbf18e8fb492"
      },
      "execution_count": 22,
      "outputs": [
        {
          "output_type": "execute_result",
          "data": {
            "text/plain": [
              "                  Coeff\n",
              "Features               \n",
              "EmbFeature187  0.442264\n",
              "EmbFeature188 -1.540624\n",
              "EmbFeature189 -0.427968\n",
              "EmbFeature190  0.596631\n",
              "EmbFeature191  0.514360\n",
              "EmbFeature192  0.866120\n",
              "EmbFeature193 -0.925437\n",
              "EmbFeature194 -0.150263\n",
              "EmbFeature195 -0.294957\n",
              "Intercept      0.692070"
            ],
            "text/html": [
              "\n",
              "  <div id=\"df-0d293047-7642-4aac-acb6-a200791e5aaf\">\n",
              "    <div class=\"colab-df-container\">\n",
              "      <div>\n",
              "<style scoped>\n",
              "    .dataframe tbody tr th:only-of-type {\n",
              "        vertical-align: middle;\n",
              "    }\n",
              "\n",
              "    .dataframe tbody tr th {\n",
              "        vertical-align: top;\n",
              "    }\n",
              "\n",
              "    .dataframe thead th {\n",
              "        text-align: right;\n",
              "    }\n",
              "</style>\n",
              "<table border=\"1\" class=\"dataframe\">\n",
              "  <thead>\n",
              "    <tr style=\"text-align: right;\">\n",
              "      <th></th>\n",
              "      <th>Coeff</th>\n",
              "    </tr>\n",
              "    <tr>\n",
              "      <th>Features</th>\n",
              "      <th></th>\n",
              "    </tr>\n",
              "  </thead>\n",
              "  <tbody>\n",
              "    <tr>\n",
              "      <th>EmbFeature187</th>\n",
              "      <td>0.442264</td>\n",
              "    </tr>\n",
              "    <tr>\n",
              "      <th>EmbFeature188</th>\n",
              "      <td>-1.540624</td>\n",
              "    </tr>\n",
              "    <tr>\n",
              "      <th>EmbFeature189</th>\n",
              "      <td>-0.427968</td>\n",
              "    </tr>\n",
              "    <tr>\n",
              "      <th>EmbFeature190</th>\n",
              "      <td>0.596631</td>\n",
              "    </tr>\n",
              "    <tr>\n",
              "      <th>EmbFeature191</th>\n",
              "      <td>0.514360</td>\n",
              "    </tr>\n",
              "    <tr>\n",
              "      <th>EmbFeature192</th>\n",
              "      <td>0.866120</td>\n",
              "    </tr>\n",
              "    <tr>\n",
              "      <th>EmbFeature193</th>\n",
              "      <td>-0.925437</td>\n",
              "    </tr>\n",
              "    <tr>\n",
              "      <th>EmbFeature194</th>\n",
              "      <td>-0.150263</td>\n",
              "    </tr>\n",
              "    <tr>\n",
              "      <th>EmbFeature195</th>\n",
              "      <td>-0.294957</td>\n",
              "    </tr>\n",
              "    <tr>\n",
              "      <th>Intercept</th>\n",
              "      <td>0.692070</td>\n",
              "    </tr>\n",
              "  </tbody>\n",
              "</table>\n",
              "</div>\n",
              "      <button class=\"colab-df-convert\" onclick=\"convertToInteractive('df-0d293047-7642-4aac-acb6-a200791e5aaf')\"\n",
              "              title=\"Convert this dataframe to an interactive table.\"\n",
              "              style=\"display:none;\">\n",
              "        \n",
              "  <svg xmlns=\"http://www.w3.org/2000/svg\" height=\"24px\"viewBox=\"0 0 24 24\"\n",
              "       width=\"24px\">\n",
              "    <path d=\"M0 0h24v24H0V0z\" fill=\"none\"/>\n",
              "    <path d=\"M18.56 5.44l.94 2.06.94-2.06 2.06-.94-2.06-.94-.94-2.06-.94 2.06-2.06.94zm-11 1L8.5 8.5l.94-2.06 2.06-.94-2.06-.94L8.5 2.5l-.94 2.06-2.06.94zm10 10l.94 2.06.94-2.06 2.06-.94-2.06-.94-.94-2.06-.94 2.06-2.06.94z\"/><path d=\"M17.41 7.96l-1.37-1.37c-.4-.4-.92-.59-1.43-.59-.52 0-1.04.2-1.43.59L10.3 9.45l-7.72 7.72c-.78.78-.78 2.05 0 2.83L4 21.41c.39.39.9.59 1.41.59.51 0 1.02-.2 1.41-.59l7.78-7.78 2.81-2.81c.8-.78.8-2.07 0-2.86zM5.41 20L4 18.59l7.72-7.72 1.47 1.35L5.41 20z\"/>\n",
              "  </svg>\n",
              "      </button>\n",
              "      \n",
              "  <style>\n",
              "    .colab-df-container {\n",
              "      display:flex;\n",
              "      flex-wrap:wrap;\n",
              "      gap: 12px;\n",
              "    }\n",
              "\n",
              "    .colab-df-convert {\n",
              "      background-color: #E8F0FE;\n",
              "      border: none;\n",
              "      border-radius: 50%;\n",
              "      cursor: pointer;\n",
              "      display: none;\n",
              "      fill: #1967D2;\n",
              "      height: 32px;\n",
              "      padding: 0 0 0 0;\n",
              "      width: 32px;\n",
              "    }\n",
              "\n",
              "    .colab-df-convert:hover {\n",
              "      background-color: #E2EBFA;\n",
              "      box-shadow: 0px 1px 2px rgba(60, 64, 67, 0.3), 0px 1px 3px 1px rgba(60, 64, 67, 0.15);\n",
              "      fill: #174EA6;\n",
              "    }\n",
              "\n",
              "    [theme=dark] .colab-df-convert {\n",
              "      background-color: #3B4455;\n",
              "      fill: #D2E3FC;\n",
              "    }\n",
              "\n",
              "    [theme=dark] .colab-df-convert:hover {\n",
              "      background-color: #434B5C;\n",
              "      box-shadow: 0px 1px 3px 1px rgba(0, 0, 0, 0.15);\n",
              "      filter: drop-shadow(0px 1px 2px rgba(0, 0, 0, 0.3));\n",
              "      fill: #FFFFFF;\n",
              "    }\n",
              "  </style>\n",
              "\n",
              "      <script>\n",
              "        const buttonEl =\n",
              "          document.querySelector('#df-0d293047-7642-4aac-acb6-a200791e5aaf button.colab-df-convert');\n",
              "        buttonEl.style.display =\n",
              "          google.colab.kernel.accessAllowed ? 'block' : 'none';\n",
              "\n",
              "        async function convertToInteractive(key) {\n",
              "          const element = document.querySelector('#df-0d293047-7642-4aac-acb6-a200791e5aaf');\n",
              "          const dataTable =\n",
              "            await google.colab.kernel.invokeFunction('convertToInteractive',\n",
              "                                                     [key], {});\n",
              "          if (!dataTable) return;\n",
              "\n",
              "          const docLinkHtml = 'Like what you see? Visit the ' +\n",
              "            '<a target=\"_blank\" href=https://colab.research.google.com/notebooks/data_table.ipynb>data table notebook</a>'\n",
              "            + ' to learn more about interactive tables.';\n",
              "          element.innerHTML = '';\n",
              "          dataTable['output_type'] = 'display_data';\n",
              "          await google.colab.output.renderOutput(dataTable, element);\n",
              "          const docLink = document.createElement('div');\n",
              "          docLink.innerHTML = docLinkHtml;\n",
              "          element.appendChild(docLink);\n",
              "        }\n",
              "      </script>\n",
              "    </div>\n",
              "  </div>\n",
              "  "
            ]
          },
          "metadata": {},
          "execution_count": 22
        }
      ]
    },
    {
      "cell_type": "code",
      "source": [
        "calculate_feature_coeff(clf).round(2).style.bar(\n",
        "    subset='Coeff', \n",
        "    color='#999',\n",
        "    align='zero'\n",
        ")"
      ],
      "metadata": {
        "colab": {
          "base_uri": "https://localhost:8080/",
          "height": 394
        },
        "id": "CMrrj0mj0FP7",
        "outputId": "77e3e880-dbc1-476d-8a68-8b352ed86ab8"
      },
      "execution_count": 23,
      "outputs": [
        {
          "output_type": "execute_result",
          "data": {
            "text/plain": [
              "<pandas.io.formats.style.Styler at 0x7f5dc76a4110>"
            ],
            "text/html": [
              "<style type=\"text/css\">\n",
              "#T_f825c_row0_col0 {\n",
              "  width: 10em;\n",
              "  height: 80%;\n",
              "  background: linear-gradient(90deg, transparent 50.0%, #999 50.0%, #999 64.3%, transparent 64.3%);\n",
              "}\n",
              "#T_f825c_row1_col0 {\n",
              "  width: 10em;\n",
              "  height: 80%;\n",
              "  background: linear-gradient(90deg,#999 50.0%, transparent 50.0%);\n",
              "}\n",
              "#T_f825c_row2_col0 {\n",
              "  width: 10em;\n",
              "  height: 80%;\n",
              "  background: linear-gradient(90deg, transparent 36.0%, #999 36.0%, #999 50.0%, transparent 50.0%);\n",
              "}\n",
              "#T_f825c_row3_col0 {\n",
              "  width: 10em;\n",
              "  height: 80%;\n",
              "  background: linear-gradient(90deg, transparent 50.0%, #999 50.0%, #999 69.5%, transparent 69.5%);\n",
              "}\n",
              "#T_f825c_row4_col0 {\n",
              "  width: 10em;\n",
              "  height: 80%;\n",
              "  background: linear-gradient(90deg, transparent 50.0%, #999 50.0%, #999 66.6%, transparent 66.6%);\n",
              "}\n",
              "#T_f825c_row5_col0 {\n",
              "  width: 10em;\n",
              "  height: 80%;\n",
              "  background: linear-gradient(90deg, transparent 50.0%, #999 50.0%, #999 78.2%, transparent 78.2%);\n",
              "}\n",
              "#T_f825c_row6_col0 {\n",
              "  width: 10em;\n",
              "  height: 80%;\n",
              "  background: linear-gradient(90deg, transparent 19.8%, #999 19.8%, #999 50.0%, transparent 50.0%);\n",
              "}\n",
              "#T_f825c_row7_col0 {\n",
              "  width: 10em;\n",
              "  height: 80%;\n",
              "  background: linear-gradient(90deg, transparent 45.1%, #999 45.1%, #999 50.0%, transparent 50.0%);\n",
              "}\n",
              "#T_f825c_row8_col0 {\n",
              "  width: 10em;\n",
              "  height: 80%;\n",
              "  background: linear-gradient(90deg, transparent 40.6%, #999 40.6%, #999 50.0%, transparent 50.0%);\n",
              "}\n",
              "#T_f825c_row9_col0 {\n",
              "  width: 10em;\n",
              "  height: 80%;\n",
              "  background: linear-gradient(90deg, transparent 50.0%, #999 50.0%, #999 72.4%, transparent 72.4%);\n",
              "}\n",
              "</style>\n",
              "<table id=\"T_f825c_\" class=\"dataframe\">\n",
              "  <thead>\n",
              "    <tr>\n",
              "      <th class=\"blank level0\" >&nbsp;</th>\n",
              "      <th class=\"col_heading level0 col0\" >Coeff</th>\n",
              "    </tr>\n",
              "    <tr>\n",
              "      <th class=\"index_name level0\" >Features</th>\n",
              "      <th class=\"blank col0\" >&nbsp;</th>\n",
              "    </tr>\n",
              "  </thead>\n",
              "  <tbody>\n",
              "    <tr>\n",
              "      <th id=\"T_f825c_level0_row0\" class=\"row_heading level0 row0\" >EmbFeature187</th>\n",
              "      <td id=\"T_f825c_row0_col0\" class=\"data row0 col0\" >0.440000</td>\n",
              "    </tr>\n",
              "    <tr>\n",
              "      <th id=\"T_f825c_level0_row1\" class=\"row_heading level0 row1\" >EmbFeature188</th>\n",
              "      <td id=\"T_f825c_row1_col0\" class=\"data row1 col0\" >-1.540000</td>\n",
              "    </tr>\n",
              "    <tr>\n",
              "      <th id=\"T_f825c_level0_row2\" class=\"row_heading level0 row2\" >EmbFeature189</th>\n",
              "      <td id=\"T_f825c_row2_col0\" class=\"data row2 col0\" >-0.430000</td>\n",
              "    </tr>\n",
              "    <tr>\n",
              "      <th id=\"T_f825c_level0_row3\" class=\"row_heading level0 row3\" >EmbFeature190</th>\n",
              "      <td id=\"T_f825c_row3_col0\" class=\"data row3 col0\" >0.600000</td>\n",
              "    </tr>\n",
              "    <tr>\n",
              "      <th id=\"T_f825c_level0_row4\" class=\"row_heading level0 row4\" >EmbFeature191</th>\n",
              "      <td id=\"T_f825c_row4_col0\" class=\"data row4 col0\" >0.510000</td>\n",
              "    </tr>\n",
              "    <tr>\n",
              "      <th id=\"T_f825c_level0_row5\" class=\"row_heading level0 row5\" >EmbFeature192</th>\n",
              "      <td id=\"T_f825c_row5_col0\" class=\"data row5 col0\" >0.870000</td>\n",
              "    </tr>\n",
              "    <tr>\n",
              "      <th id=\"T_f825c_level0_row6\" class=\"row_heading level0 row6\" >EmbFeature193</th>\n",
              "      <td id=\"T_f825c_row6_col0\" class=\"data row6 col0\" >-0.930000</td>\n",
              "    </tr>\n",
              "    <tr>\n",
              "      <th id=\"T_f825c_level0_row7\" class=\"row_heading level0 row7\" >EmbFeature194</th>\n",
              "      <td id=\"T_f825c_row7_col0\" class=\"data row7 col0\" >-0.150000</td>\n",
              "    </tr>\n",
              "    <tr>\n",
              "      <th id=\"T_f825c_level0_row8\" class=\"row_heading level0 row8\" >EmbFeature195</th>\n",
              "      <td id=\"T_f825c_row8_col0\" class=\"data row8 col0\" >-0.290000</td>\n",
              "    </tr>\n",
              "    <tr>\n",
              "      <th id=\"T_f825c_level0_row9\" class=\"row_heading level0 row9\" >Intercept</th>\n",
              "      <td id=\"T_f825c_row9_col0\" class=\"data row9 col0\" >0.690000</td>\n",
              "    </tr>\n",
              "  </tbody>\n",
              "</table>\n"
            ]
          },
          "metadata": {},
          "execution_count": 23
        }
      ]
    },
    {
      "cell_type": "code",
      "source": [
        "df_coef_list = []\n",
        "weight_options = [1, 2, 5]\n",
        "for w in weight_options:\n",
        "  print(f'\\nMinority Class (Positive Class) Weight = Weight x {w}')\n",
        "  sample_weight = (1 * (y_train == 0)) + (w * (y_train == 1))\n",
        "  clf = predict_and_evalutate(\n",
        "      x_train, y_train, x_test, y_test,\n",
        "      sample_weight=sample_weight\n",
        "  )\n",
        "  df_coef = calculate_feature_coeff(clf)\n",
        "  df_coef = df_coef.rename(columns={'Coeff': f'Coeff [w={w}]'})\n",
        "  df_coef_list.append(df_coef)"
      ],
      "metadata": {
        "colab": {
          "base_uri": "https://localhost:8080/"
        },
        "id": "HrJsaGPF0OPt",
        "outputId": "849cf05a-34b6-49d4-d6b5-43b4ff556bb3"
      },
      "execution_count": 24,
      "outputs": [
        {
          "output_type": "stream",
          "name": "stdout",
          "text": [
            "\n",
            "Minority Class (Positive Class) Weight = Weight x 1\n",
            "Precision: 62.50%, Recall: 0.30%; G-mean: 5.45% @  Unweighted\n",
            "\n",
            "Minority Class (Positive Class) Weight = Weight x 2\n",
            "Precision: 36.36%, Recall: 2.14%; G-mean: 14.57% @  Unweighted\n",
            "\n",
            "Minority Class (Positive Class) Weight = Weight x 5\n",
            "Precision: 24.78%, Recall: 13.38%; G-mean: 35.04% @  Unweighted\n"
          ]
        },
        {
          "output_type": "stream",
          "name": "stderr",
          "text": [
            "/usr/local/lib/python3.7/dist-packages/sklearn/linear_model/_sag.py:354: ConvergenceWarning: The max_iter was reached which means the coef_ did not converge\n",
            "  ConvergenceWarning,\n"
          ]
        }
      ]
    },
    {
      "cell_type": "code",
      "source": [
        "pd.concat(df_coef_list, axis=1).round(2).style.bar(\n",
        "    subset=[f'Coeff [w={w}]' for w in weight_options], \n",
        "    color='#999',\n",
        "    align='zero'\n",
        ")"
      ],
      "metadata": {
        "colab": {
          "base_uri": "https://localhost:8080/",
          "height": 394
        },
        "id": "GIhrOg7w1VHQ",
        "outputId": "99ac72b6-7303-4540-eec3-c26ddf760911"
      },
      "execution_count": 25,
      "outputs": [
        {
          "output_type": "execute_result",
          "data": {
            "text/plain": [
              "<pandas.io.formats.style.Styler at 0x7f5dc7318990>"
            ],
            "text/html": [
              "<style type=\"text/css\">\n",
              "#T_45369_row0_col0 {\n",
              "  width: 10em;\n",
              "  height: 80%;\n",
              "  background: linear-gradient(90deg, transparent 50.0%, #999 50.0%, #999 53.8%, transparent 53.8%);\n",
              "}\n",
              "#T_45369_row0_col1 {\n",
              "  width: 10em;\n",
              "  height: 80%;\n",
              "  background: linear-gradient(90deg, transparent 50.0%, #999 50.0%, #999 56.2%, transparent 56.2%);\n",
              "}\n",
              "#T_45369_row0_col2 {\n",
              "  width: 10em;\n",
              "  height: 80%;\n",
              "  background: linear-gradient(90deg, transparent 50.0%, #999 50.0%, #999 64.3%, transparent 64.3%);\n",
              "}\n",
              "#T_45369_row1_col0, #T_45369_row1_col1, #T_45369_row1_col2 {\n",
              "  width: 10em;\n",
              "  height: 80%;\n",
              "  background: linear-gradient(90deg,#999 50.0%, transparent 50.0%);\n",
              "}\n",
              "#T_45369_row2_col0 {\n",
              "  width: 10em;\n",
              "  height: 80%;\n",
              "  background: linear-gradient(90deg, transparent 42.8%, #999 42.8%, #999 50.0%, transparent 50.0%);\n",
              "}\n",
              "#T_45369_row2_col1 {\n",
              "  width: 10em;\n",
              "  height: 80%;\n",
              "  background: linear-gradient(90deg, transparent 40.5%, #999 40.5%, #999 50.0%, transparent 50.0%);\n",
              "}\n",
              "#T_45369_row2_col2 {\n",
              "  width: 10em;\n",
              "  height: 80%;\n",
              "  background: linear-gradient(90deg, transparent 36.0%, #999 36.0%, #999 50.0%, transparent 50.0%);\n",
              "}\n",
              "#T_45369_row3_col0, #T_45369_row4_col0 {\n",
              "  width: 10em;\n",
              "  height: 80%;\n",
              "  background: linear-gradient(90deg, transparent 50.0%, #999 50.0%, #999 65.7%, transparent 65.7%);\n",
              "}\n",
              "#T_45369_row3_col1 {\n",
              "  width: 10em;\n",
              "  height: 80%;\n",
              "  background: linear-gradient(90deg, transparent 50.0%, #999 50.0%, #999 66.4%, transparent 66.4%);\n",
              "}\n",
              "#T_45369_row3_col2 {\n",
              "  width: 10em;\n",
              "  height: 80%;\n",
              "  background: linear-gradient(90deg, transparent 50.0%, #999 50.0%, #999 69.5%, transparent 69.5%);\n",
              "}\n",
              "#T_45369_row4_col1 {\n",
              "  width: 10em;\n",
              "  height: 80%;\n",
              "  background: linear-gradient(90deg, transparent 50.0%, #999 50.0%, #999 66.1%, transparent 66.1%);\n",
              "}\n",
              "#T_45369_row4_col2 {\n",
              "  width: 10em;\n",
              "  height: 80%;\n",
              "  background: linear-gradient(90deg, transparent 50.0%, #999 50.0%, #999 66.6%, transparent 66.6%);\n",
              "}\n",
              "#T_45369_row5_col0 {\n",
              "  width: 10em;\n",
              "  height: 80%;\n",
              "  background: linear-gradient(90deg, transparent 50.0%, #999 50.0%, #999 75.4%, transparent 75.4%);\n",
              "}\n",
              "#T_45369_row5_col1 {\n",
              "  width: 10em;\n",
              "  height: 80%;\n",
              "  background: linear-gradient(90deg, transparent 50.0%, #999 50.0%, #999 77.7%, transparent 77.7%);\n",
              "}\n",
              "#T_45369_row5_col2 {\n",
              "  width: 10em;\n",
              "  height: 80%;\n",
              "  background: linear-gradient(90deg, transparent 50.0%, #999 50.0%, #999 78.2%, transparent 78.2%);\n",
              "}\n",
              "#T_45369_row6_col0 {\n",
              "  width: 10em;\n",
              "  height: 80%;\n",
              "  background: linear-gradient(90deg, transparent 11.0%, #999 11.0%, #999 50.0%, transparent 50.0%);\n",
              "}\n",
              "#T_45369_row6_col1 {\n",
              "  width: 10em;\n",
              "  height: 80%;\n",
              "  background: linear-gradient(90deg, transparent 17.9%, #999 17.9%, #999 50.0%, transparent 50.0%);\n",
              "}\n",
              "#T_45369_row6_col2 {\n",
              "  width: 10em;\n",
              "  height: 80%;\n",
              "  background: linear-gradient(90deg, transparent 19.8%, #999 19.8%, #999 50.0%, transparent 50.0%);\n",
              "}\n",
              "#T_45369_row7_col0 {\n",
              "  width: 10em;\n",
              "  height: 80%;\n",
              "  background: linear-gradient(90deg, transparent 39.8%, #999 39.8%, #999 50.0%, transparent 50.0%);\n",
              "}\n",
              "#T_45369_row7_col1 {\n",
              "  width: 10em;\n",
              "  height: 80%;\n",
              "  background: linear-gradient(90deg, transparent 42.7%, #999 42.7%, #999 50.0%, transparent 50.0%);\n",
              "}\n",
              "#T_45369_row7_col2 {\n",
              "  width: 10em;\n",
              "  height: 80%;\n",
              "  background: linear-gradient(90deg, transparent 45.1%, #999 45.1%, #999 50.0%, transparent 50.0%);\n",
              "}\n",
              "#T_45369_row8_col0 {\n",
              "  width: 10em;\n",
              "  height: 80%;\n",
              "  background: linear-gradient(90deg, transparent 44.5%, #999 44.5%, #999 50.0%, transparent 50.0%);\n",
              "}\n",
              "#T_45369_row8_col1 {\n",
              "  width: 10em;\n",
              "  height: 80%;\n",
              "  background: linear-gradient(90deg, transparent 43.4%, #999 43.4%, #999 50.0%, transparent 50.0%);\n",
              "}\n",
              "#T_45369_row8_col2 {\n",
              "  width: 10em;\n",
              "  height: 80%;\n",
              "  background: linear-gradient(90deg, transparent 40.6%, #999 40.6%, #999 50.0%, transparent 50.0%);\n",
              "}\n",
              "#T_45369_row9_col0 {\n",
              "  width: 10em;\n",
              "  height: 80%;\n",
              "  background: linear-gradient(90deg, transparent 43.6%, #999 43.6%, #999 50.0%, transparent 50.0%);\n",
              "}\n",
              "#T_45369_row9_col1 {\n",
              "  width: 10em;\n",
              "  height: 80%;\n",
              "  background: linear-gradient(90deg, transparent 50.0%, #999 50.0%, #999 53.6%, transparent 53.6%);\n",
              "}\n",
              "#T_45369_row9_col2 {\n",
              "  width: 10em;\n",
              "  height: 80%;\n",
              "  background: linear-gradient(90deg, transparent 50.0%, #999 50.0%, #999 72.4%, transparent 72.4%);\n",
              "}\n",
              "</style>\n",
              "<table id=\"T_45369_\" class=\"dataframe\">\n",
              "  <thead>\n",
              "    <tr>\n",
              "      <th class=\"blank level0\" >&nbsp;</th>\n",
              "      <th class=\"col_heading level0 col0\" >Coeff [w=1]</th>\n",
              "      <th class=\"col_heading level0 col1\" >Coeff [w=2]</th>\n",
              "      <th class=\"col_heading level0 col2\" >Coeff [w=5]</th>\n",
              "    </tr>\n",
              "    <tr>\n",
              "      <th class=\"index_name level0\" >Features</th>\n",
              "      <th class=\"blank col0\" >&nbsp;</th>\n",
              "      <th class=\"blank col1\" >&nbsp;</th>\n",
              "      <th class=\"blank col2\" >&nbsp;</th>\n",
              "    </tr>\n",
              "  </thead>\n",
              "  <tbody>\n",
              "    <tr>\n",
              "      <th id=\"T_45369_level0_row0\" class=\"row_heading level0 row0\" >EmbFeature187</th>\n",
              "      <td id=\"T_45369_row0_col0\" class=\"data row0 col0\" >0.090000</td>\n",
              "      <td id=\"T_45369_row0_col1\" class=\"data row0 col1\" >0.170000</td>\n",
              "      <td id=\"T_45369_row0_col2\" class=\"data row0 col2\" >0.440000</td>\n",
              "    </tr>\n",
              "    <tr>\n",
              "      <th id=\"T_45369_level0_row1\" class=\"row_heading level0 row1\" >EmbFeature188</th>\n",
              "      <td id=\"T_45369_row1_col0\" class=\"data row1 col0\" >-1.180000</td>\n",
              "      <td id=\"T_45369_row1_col1\" class=\"data row1 col1\" >-1.370000</td>\n",
              "      <td id=\"T_45369_row1_col2\" class=\"data row1 col2\" >-1.540000</td>\n",
              "    </tr>\n",
              "    <tr>\n",
              "      <th id=\"T_45369_level0_row2\" class=\"row_heading level0 row2\" >EmbFeature189</th>\n",
              "      <td id=\"T_45369_row2_col0\" class=\"data row2 col0\" >-0.170000</td>\n",
              "      <td id=\"T_45369_row2_col1\" class=\"data row2 col1\" >-0.260000</td>\n",
              "      <td id=\"T_45369_row2_col2\" class=\"data row2 col2\" >-0.430000</td>\n",
              "    </tr>\n",
              "    <tr>\n",
              "      <th id=\"T_45369_level0_row3\" class=\"row_heading level0 row3\" >EmbFeature190</th>\n",
              "      <td id=\"T_45369_row3_col0\" class=\"data row3 col0\" >0.370000</td>\n",
              "      <td id=\"T_45369_row3_col1\" class=\"data row3 col1\" >0.450000</td>\n",
              "      <td id=\"T_45369_row3_col2\" class=\"data row3 col2\" >0.600000</td>\n",
              "    </tr>\n",
              "    <tr>\n",
              "      <th id=\"T_45369_level0_row4\" class=\"row_heading level0 row4\" >EmbFeature191</th>\n",
              "      <td id=\"T_45369_row4_col0\" class=\"data row4 col0\" >0.370000</td>\n",
              "      <td id=\"T_45369_row4_col1\" class=\"data row4 col1\" >0.440000</td>\n",
              "      <td id=\"T_45369_row4_col2\" class=\"data row4 col2\" >0.510000</td>\n",
              "    </tr>\n",
              "    <tr>\n",
              "      <th id=\"T_45369_level0_row5\" class=\"row_heading level0 row5\" >EmbFeature192</th>\n",
              "      <td id=\"T_45369_row5_col0\" class=\"data row5 col0\" >0.600000</td>\n",
              "      <td id=\"T_45369_row5_col1\" class=\"data row5 col1\" >0.760000</td>\n",
              "      <td id=\"T_45369_row5_col2\" class=\"data row5 col2\" >0.870000</td>\n",
              "    </tr>\n",
              "    <tr>\n",
              "      <th id=\"T_45369_level0_row6\" class=\"row_heading level0 row6\" >EmbFeature193</th>\n",
              "      <td id=\"T_45369_row6_col0\" class=\"data row6 col0\" >-0.920000</td>\n",
              "      <td id=\"T_45369_row6_col1\" class=\"data row6 col1\" >-0.880000</td>\n",
              "      <td id=\"T_45369_row6_col2\" class=\"data row6 col2\" >-0.930000</td>\n",
              "    </tr>\n",
              "    <tr>\n",
              "      <th id=\"T_45369_level0_row7\" class=\"row_heading level0 row7\" >EmbFeature194</th>\n",
              "      <td id=\"T_45369_row7_col0\" class=\"data row7 col0\" >-0.240000</td>\n",
              "      <td id=\"T_45369_row7_col1\" class=\"data row7 col1\" >-0.200000</td>\n",
              "      <td id=\"T_45369_row7_col2\" class=\"data row7 col2\" >-0.150000</td>\n",
              "    </tr>\n",
              "    <tr>\n",
              "      <th id=\"T_45369_level0_row8\" class=\"row_heading level0 row8\" >EmbFeature195</th>\n",
              "      <td id=\"T_45369_row8_col0\" class=\"data row8 col0\" >-0.130000</td>\n",
              "      <td id=\"T_45369_row8_col1\" class=\"data row8 col1\" >-0.180000</td>\n",
              "      <td id=\"T_45369_row8_col2\" class=\"data row8 col2\" >-0.290000</td>\n",
              "    </tr>\n",
              "    <tr>\n",
              "      <th id=\"T_45369_level0_row9\" class=\"row_heading level0 row9\" >Intercept</th>\n",
              "      <td id=\"T_45369_row9_col0\" class=\"data row9 col0\" >-0.150000</td>\n",
              "      <td id=\"T_45369_row9_col1\" class=\"data row9 col1\" >0.100000</td>\n",
              "      <td id=\"T_45369_row9_col2\" class=\"data row9 col2\" >0.690000</td>\n",
              "    </tr>\n",
              "  </tbody>\n",
              "</table>\n"
            ]
          },
          "metadata": {},
          "execution_count": 25
        }
      ]
    },
    {
      "cell_type": "code",
      "source": [
        "from sklearn.metrics import roc_curve, auc\n",
        "\n",
        "def plot_roc_curve(y, y_proba, ax, label):\n",
        "    fpr, tpr, thr = roc_curve(y, y_proba)\n",
        "    auc_value = auc(fpr, tpr)\n",
        "    pd.DataFrame(\n",
        "        {\n",
        "            'FPR': fpr,\n",
        "            'TPR': tpr\n",
        "        }\n",
        "    ).set_index('FPR')['TPR'].plot(\n",
        "        label=label + f'; AUC = {auc_value:.3f}',\n",
        "        kind='line',\n",
        "        xlim=(0,1),\n",
        "        ylim=(0,1),\n",
        "        # color='k',\n",
        "        ax=ax\n",
        "    )\n",
        "    return (fpr, tpr, auc_value)"
      ],
      "metadata": {
        "id": "Y1qwDAS11w5F"
      },
      "execution_count": 28,
      "outputs": []
    },
    {
      "cell_type": "code",
      "source": [
        "fig, ax = plt.subplots(1, 1, figsize=(15, 8), sharey=False)\n",
        "\n",
        "ax.plot(\n",
        "    [0, 1], [0, 1], \n",
        "    linestyle='--', \n",
        "    lw=2, color='k',\n",
        "    label='Chance', alpha=.8\n",
        ")\n",
        "\n",
        "for w in weight_options:\n",
        "\n",
        "    sample_weight = (1 * (y_train == 0)) + (w * (y_train == 1))\n",
        "    \n",
        "    clf = Pipeline(\n",
        "        [\n",
        "            ('Embedder', RandomTreesEmbedding(n_estimators=20, max_leaf_nodes=20, random_state=42)), \n",
        "            ('Sclaer', MaxAbsScaler()),\n",
        "            ('Classifier', LogisticRegression(solver='lbfgs', max_iter=2000, random_state=42))\n",
        "        ]\n",
        "    )\n",
        "    clf.fit(x_train, y_train, Classifier__sample_weight=sample_weight)\n",
        "    y_test_pred_proba = clf.predict_proba(x_test)[:,1]\n",
        "\n",
        "    plot_roc_curve(\n",
        "        y_test, y_test_pred_proba, \n",
        "        label=f'\\nMinority Class Weight = Weight x {w}',\n",
        "        ax=ax\n",
        "    ) \n",
        "\n",
        "ax.set_title('Receiver Operating Characteristic (ROC)')\n",
        "ax.set_xlabel('False Positive Rate')\n",
        "ax.set_ylabel('True Positive Rate')\n",
        "\n",
        "ax.legend(ncol=1, fontsize='large', shadow=True)\n",
        "\n",
        "fig.show()"
      ],
      "metadata": {
        "colab": {
          "base_uri": "https://localhost:8080/",
          "height": 517
        },
        "id": "yAHAmLig4O_p",
        "outputId": "eea0de45-5bc3-42ac-c776-e517ea55d02b"
      },
      "execution_count": 29,
      "outputs": [
        {
          "output_type": "display_data",
          "data": {
            "text/plain": [
              "<Figure size 1080x576 with 1 Axes>"
            ],
            "image/png": "[encoded data removed]"
          },
          "metadata": {
            "needs_background": "light"
          }
        }
      ]
    },
    {
      "cell_type": "markdown",
      "source": [
        "# Sampling the training data"
      ],
      "metadata": {
        "id": "esQBtOJ26C7R"
      }
    },
    {
      "cell_type": "markdown",
      "source": [
        "## Imbalanced Learn"
      ],
      "metadata": {
        "id": "9RsRQH7a8-vh"
      }
    },
    {
      "cell_type": "code",
      "source": [
        "from sklearn.preprocessing import MaxAbsScaler\n",
        "from sklearn.linear_model import LogisticRegression\n",
        "from sklearn.ensemble import RandomTreesEmbedding\n",
        "from sklearn.pipeline import Pipeline\n",
        "\n",
        "def sample_and_predict(x_train, y_train, x_test, y_test, sampler=None):\n",
        "    \n",
        "    if sampler:\n",
        "        x_train, y_train = sampler.fit_resample(x_train, y_train)\n",
        "    \n",
        "    clf = Pipeline(\n",
        "        [\n",
        "            ('Embedder', RandomTreesEmbedding(n_estimators=10, max_leaf_nodes=20, random_state=42)), \n",
        "            ('Sclaer', MaxAbsScaler()),\n",
        "            ('Classifier', LogisticRegression(solver='lbfgs', max_iter=2000, random_state=42))\n",
        "        ]\n",
        "    )\n",
        "    clf.fit(x_train, y_train)\n",
        "    y_test_pred_proba = clf.predict_proba(x_test)[:,1]\n",
        "    \n",
        "    return y_test, y_test_pred_proba"
      ],
      "metadata": {
        "id": "bItbr4Or4U_I"
      },
      "execution_count": 30,
      "outputs": []
    },
    {
      "cell_type": "markdown",
      "source": [
        "## Under-Sampling\n",
        "### Random Under-Sampling"
      ],
      "metadata": {
        "id": "Fa1rhenH9F0Z"
      }
    },
    {
      "cell_type": "code",
      "source": [
        "from imblearn.under_sampling import RandomUnderSampler\n",
        "rus = RandomUnderSampler(random_state=42)\n",
        "\n",
        "x_train_resampled, y_train_resampled = rus.fit_resample(x_train, y_train)\n",
        "\n",
        "print(f'% of Positive Class = {y_train_resampled.mean():.2%}') "
      ],
      "metadata": {
        "colab": {
          "base_uri": "https://localhost:8080/"
        },
        "id": "RyPnOyY_9CZx",
        "outputId": "8a5f765e-25d4-47f1-811b-99970ec018cb"
      },
      "execution_count": 31,
      "outputs": [
        {
          "output_type": "stream",
          "name": "stdout",
          "text": [
            "% of Positive Class = 50.00%\n"
          ]
        }
      ]
    },
    {
      "cell_type": "code",
      "source": [
        "clf = predict_and_evalutate(x_train_resampled, \n",
        "                            y_train_resampled,\n",
        "                            x_test, y_test, \n",
        "                            title='Random Under Sampler'\n",
        ")"
      ],
      "metadata": {
        "colab": {
          "base_uri": "https://localhost:8080/"
        },
        "id": "OwzsKRjk9Ojb",
        "outputId": "913284d1-c26e-4bc0-8c8b-e1e016996f45"
      },
      "execution_count": 32,
      "outputs": [
        {
          "output_type": "stream",
          "name": "stdout",
          "text": [
            "Precision: 22.96%, Recall: 56.48%; G-mean: 58.99% @  Random Under Sampler\n"
          ]
        }
      ]
    },
    {
      "cell_type": "code",
      "source": [
        ""
      ],
      "metadata": {
        "id": "YAv4Nky-9f9c"
      },
      "execution_count": null,
      "outputs": []
    }
  ]
}