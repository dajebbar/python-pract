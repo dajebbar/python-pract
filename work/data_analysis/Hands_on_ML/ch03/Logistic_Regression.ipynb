{
  "nbformat": 4,
  "nbformat_minor": 0,
  "metadata": {
    "colab": {
      "name": "Logistic_Regression.ipynb",
      "provenance": []
    },
    "kernelspec": {
      "name": "python3",
      "display_name": "Python 3"
    },
    "language_info": {
      "name": "python"
    }
  },
  "cells": [
    {
      "cell_type": "markdown",
      "source": [
        "# Using logistic regression for classification"
      ],
      "metadata": {
        "id": "Ga3l2hIE5qJJ"
      }
    },
    {
      "cell_type": "markdown",
      "source": [
        "## Understanding the logistic function\n",
        "The logistic function is a member of the sigmoid (s-shaped) functions and it is represented by the following formula:\n",
        "\n",
        "## $$y = \\frac{1}{1 + e^-z}$$\n",
        "with $z = x.\\theta^T$"
      ],
      "metadata": {
        "id": "0EM08Pfb-7NC"
      }
    },
    {
      "cell_type": "code",
      "execution_count": 1,
      "metadata": {
        "id": "fd7unsML5dl5"
      },
      "outputs": [],
      "source": [
        "import numpy as np\n",
        "import pandas as pd\n",
        "import matplotlib.pyplot as plt\n",
        "plt.style.use('ggplot')\n",
        "%matplotlib inline  "
      ]
    },
    {
      "cell_type": "code",
      "source": [
        "fig, ax = plt.subplots(1, 1, figsize=(16, 8))\n",
        "\n",
        "theta = np.arange(-10, 10, 0.05)\n",
        "y = 1 / (1 + np.exp(-1 * theta))\n",
        "\n",
        "pd.DataFrame(\n",
        "    {\n",
        "        'theta': theta,\n",
        "        'y': y\n",
        "    }\n",
        ").plot(\n",
        "    title='Logistic Function', \n",
        "    kind='scatter', x='theta', y='y', \n",
        "    ax=ax\n",
        ")\n",
        "\n",
        "ax.set_yticks(np.arange(0, 1.25, step=0.5))"
      ],
      "metadata": {
        "colab": {
          "base_uri": "https://localhost:8080/",
          "height": 572
        },
        "id": "eIkA0GLMAYVo",
        "outputId": "ab6a4162-ba06-4228-cdf8-f14a5971301f"
      },
      "execution_count": 2,
      "outputs": [
        {
          "output_type": "execute_result",
          "data": {
            "text/plain": [
              "[<matplotlib.axis.YTick at 0x7f2c3e97d3d0>,\n",
              " <matplotlib.axis.YTick at 0x7f2c3e7d8b90>,\n",
              " <matplotlib.axis.YTick at 0x7f2c320d67d0>]"
            ]
          },
          "metadata": {},
          "execution_count": 2
        },
        {
          "output_type": "display_data",
          "data": {
            "text/plain": [
              "<Figure size 1152x576 with 1 Axes>"
            ],
            "image/png": "[encoded data removed]"
          },
          "metadata": {
            "needs_background": "light"
          }
        }
      ]
    },
    {
      "cell_type": "markdown",
      "source": [
        "Two key characteristics to notice in the logistic function are as follows:\n",
        "- y only goes between 0 and 1. It approaches 1 as theta approaches infinity, and approaches 0 as theta approaches negative infinity.\n",
        "- y takes the value of 0.5 when theta is 0."
      ],
      "metadata": {
        "id": "r6Vg0EJ7A4cj"
      }
    },
    {
      "cell_type": "markdown",
      "source": [
        "## Objective function\n",
        "During the training phase, the algorithm loops through the data trying to find the coefficients that minimize a predefined objective (loss) function. The **loss function** we try to minimize in the case of logistic regression is called **log loss**. It measures how far the\n",
        "predicted probabilities (ŷ) are from the actual class labels (y) using the following formula:\n",
        "\n",
        "$$-log(ŷ) if y $$ $$else -log(1 - ŷ)$$"
      ],
      "metadata": {
        "id": "-L_8VdeaDBIJ"
      }
    },
    {
      "cell_type": "markdown",
      "source": [
        "# Iris Dataset"
      ],
      "metadata": {
        "id": "LgN16mk6GU-C"
      }
    },
    {
      "cell_type": "code",
      "source": [
        "from sklearn import datasets\n",
        "iris = datasets.load_iris()\n",
        "\n",
        "df = pd.DataFrame(\n",
        "    iris.data,\n",
        "    columns=iris.feature_names\n",
        ")\n",
        "\n",
        "df['target'] = pd.Series(\n",
        "    iris.target\n",
        ")\n",
        "\n",
        "df.sample(n=5)"
      ],
      "metadata": {
        "colab": {
          "base_uri": "https://localhost:8080/",
          "height": 206
        },
        "id": "yJKGgvYiAiiU",
        "outputId": "e7b26ebb-1550-43c2-aed7-e007b62c76df"
      },
      "execution_count": 3,
      "outputs": [
        {
          "output_type": "execute_result",
          "data": {
            "text/plain": [
              "     sepal length (cm)  sepal width (cm)  petal length (cm)  petal width (cm)  \\\n",
              "27                 5.2               3.5                1.5               0.2   \n",
              "2                  4.7               3.2                1.3               0.2   \n",
              "111                6.4               2.7                5.3               1.9   \n",
              "140                6.7               3.1                5.6               2.4   \n",
              "29                 4.7               3.2                1.6               0.2   \n",
              "\n",
              "     target  \n",
              "27        0  \n",
              "2         0  \n",
              "111       2  \n",
              "140       2  \n",
              "29        0  "
            ],
            "text/html": [
              "\n",
              "  <div id=\"df-211d3ad0-fef9-4dd5-89db-fd0f62428a28\">\n",
              "    <div class=\"colab-df-container\">\n",
              "      <div>\n",
              "<style scoped>\n",
              "    .dataframe tbody tr th:only-of-type {\n",
              "        vertical-align: middle;\n",
              "    }\n",
              "\n",
              "    .dataframe tbody tr th {\n",
              "        vertical-align: top;\n",
              "    }\n",
              "\n",
              "    .dataframe thead th {\n",
              "        text-align: right;\n",
              "    }\n",
              "</style>\n",
              "<table border=\"1\" class=\"dataframe\">\n",
              "  <thead>\n",
              "    <tr style=\"text-align: right;\">\n",
              "      <th></th>\n",
              "      <th>sepal length (cm)</th>\n",
              "      <th>sepal width (cm)</th>\n",
              "      <th>petal length (cm)</th>\n",
              "      <th>petal width (cm)</th>\n",
              "      <th>target</th>\n",
              "    </tr>\n",
              "  </thead>\n",
              "  <tbody>\n",
              "    <tr>\n",
              "      <th>27</th>\n",
              "      <td>5.2</td>\n",
              "      <td>3.5</td>\n",
              "      <td>1.5</td>\n",
              "      <td>0.2</td>\n",
              "      <td>0</td>\n",
              "    </tr>\n",
              "    <tr>\n",
              "      <th>2</th>\n",
              "      <td>4.7</td>\n",
              "      <td>3.2</td>\n",
              "      <td>1.3</td>\n",
              "      <td>0.2</td>\n",
              "      <td>0</td>\n",
              "    </tr>\n",
              "    <tr>\n",
              "      <th>111</th>\n",
              "      <td>6.4</td>\n",
              "      <td>2.7</td>\n",
              "      <td>5.3</td>\n",
              "      <td>1.9</td>\n",
              "      <td>2</td>\n",
              "    </tr>\n",
              "    <tr>\n",
              "      <th>140</th>\n",
              "      <td>6.7</td>\n",
              "      <td>3.1</td>\n",
              "      <td>5.6</td>\n",
              "      <td>2.4</td>\n",
              "      <td>2</td>\n",
              "    </tr>\n",
              "    <tr>\n",
              "      <th>29</th>\n",
              "      <td>4.7</td>\n",
              "      <td>3.2</td>\n",
              "      <td>1.6</td>\n",
              "      <td>0.2</td>\n",
              "      <td>0</td>\n",
              "    </tr>\n",
              "  </tbody>\n",
              "</table>\n",
              "</div>\n",
              "      <button class=\"colab-df-convert\" onclick=\"convertToInteractive('df-211d3ad0-fef9-4dd5-89db-fd0f62428a28')\"\n",
              "              title=\"Convert this dataframe to an interactive table.\"\n",
              "              style=\"display:none;\">\n",
              "        \n",
              "  <svg xmlns=\"http://www.w3.org/2000/svg\" height=\"24px\"viewBox=\"0 0 24 24\"\n",
              "       width=\"24px\">\n",
              "    <path d=\"M0 0h24v24H0V0z\" fill=\"none\"/>\n",
              "    <path d=\"M18.56 5.44l.94 2.06.94-2.06 2.06-.94-2.06-.94-.94-2.06-.94 2.06-2.06.94zm-11 1L8.5 8.5l.94-2.06 2.06-.94-2.06-.94L8.5 2.5l-.94 2.06-2.06.94zm10 10l.94 2.06.94-2.06 2.06-.94-2.06-.94-.94-2.06-.94 2.06-2.06.94z\"/><path d=\"M17.41 7.96l-1.37-1.37c-.4-.4-.92-.59-1.43-.59-.52 0-1.04.2-1.43.59L10.3 9.45l-7.72 7.72c-.78.78-.78 2.05 0 2.83L4 21.41c.39.39.9.59 1.41.59.51 0 1.02-.2 1.41-.59l7.78-7.78 2.81-2.81c.8-.78.8-2.07 0-2.86zM5.41 20L4 18.59l7.72-7.72 1.47 1.35L5.41 20z\"/>\n",
              "  </svg>\n",
              "      </button>\n",
              "      \n",
              "  <style>\n",
              "    .colab-df-container {\n",
              "      display:flex;\n",
              "      flex-wrap:wrap;\n",
              "      gap: 12px;\n",
              "    }\n",
              "\n",
              "    .colab-df-convert {\n",
              "      background-color: #E8F0FE;\n",
              "      border: none;\n",
              "      border-radius: 50%;\n",
              "      cursor: pointer;\n",
              "      display: none;\n",
              "      fill: #1967D2;\n",
              "      height: 32px;\n",
              "      padding: 0 0 0 0;\n",
              "      width: 32px;\n",
              "    }\n",
              "\n",
              "    .colab-df-convert:hover {\n",
              "      background-color: #E2EBFA;\n",
              "      box-shadow: 0px 1px 2px rgba(60, 64, 67, 0.3), 0px 1px 3px 1px rgba(60, 64, 67, 0.15);\n",
              "      fill: #174EA6;\n",
              "    }\n",
              "\n",
              "    [theme=dark] .colab-df-convert {\n",
              "      background-color: #3B4455;\n",
              "      fill: #D2E3FC;\n",
              "    }\n",
              "\n",
              "    [theme=dark] .colab-df-convert:hover {\n",
              "      background-color: #434B5C;\n",
              "      box-shadow: 0px 1px 3px 1px rgba(0, 0, 0, 0.15);\n",
              "      filter: drop-shadow(0px 1px 2px rgba(0, 0, 0, 0.3));\n",
              "      fill: #FFFFFF;\n",
              "    }\n",
              "  </style>\n",
              "\n",
              "      <script>\n",
              "        const buttonEl =\n",
              "          document.querySelector('#df-211d3ad0-fef9-4dd5-89db-fd0f62428a28 button.colab-df-convert');\n",
              "        buttonEl.style.display =\n",
              "          google.colab.kernel.accessAllowed ? 'block' : 'none';\n",
              "\n",
              "        async function convertToInteractive(key) {\n",
              "          const element = document.querySelector('#df-211d3ad0-fef9-4dd5-89db-fd0f62428a28');\n",
              "          const dataTable =\n",
              "            await google.colab.kernel.invokeFunction('convertToInteractive',\n",
              "                                                     [key], {});\n",
              "          if (!dataTable) return;\n",
              "\n",
              "          const docLinkHtml = 'Like what you see? Visit the ' +\n",
              "            '<a target=\"_blank\" href=https://colab.research.google.com/notebooks/data_table.ipynb>data table notebook</a>'\n",
              "            + ' to learn more about interactive tables.';\n",
              "          element.innerHTML = '';\n",
              "          dataTable['output_type'] = 'display_data';\n",
              "          await google.colab.output.renderOutput(dataTable, element);\n",
              "          const docLink = document.createElement('div');\n",
              "          docLink.innerHTML = docLinkHtml;\n",
              "          element.appendChild(docLink);\n",
              "        }\n",
              "      </script>\n",
              "    </div>\n",
              "  </div>\n",
              "  "
            ]
          },
          "metadata": {},
          "execution_count": 3
        }
      ]
    },
    {
      "cell_type": "code",
      "source": [
        "df.target.value_counts(normalize=True)"
      ],
      "metadata": {
        "colab": {
          "base_uri": "https://localhost:8080/"
        },
        "id": "ytGV-pXvHM7w",
        "outputId": "36ee7db9-7544-4f06-d1ad-4b16320b48df"
      },
      "execution_count": 4,
      "outputs": [
        {
          "output_type": "execute_result",
          "data": {
            "text/plain": [
              "0    0.333333\n",
              "1    0.333333\n",
              "2    0.333333\n",
              "Name: target, dtype: float64"
            ]
          },
          "metadata": {},
          "execution_count": 4
        }
      ]
    },
    {
      "cell_type": "code",
      "source": [
        "data, target = df.drop(columns=['target']), df.target"
      ],
      "metadata": {
        "id": "A2QExZTQJkA9"
      },
      "execution_count": 5,
      "outputs": []
    },
    {
      "cell_type": "code",
      "source": [
        "from sklearn.preprocessing import StandardScaler\n",
        "\n",
        "scaler = StandardScaler()\n",
        "data[data.columns] = scaler.fit_transform(data[data.columns])"
      ],
      "metadata": {
        "id": "vhgVBmQ0JL5c"
      },
      "execution_count": 6,
      "outputs": []
    },
    {
      "cell_type": "code",
      "source": [
        "from sklearn.model_selection import train_test_split\n",
        "\n",
        "X_train, X_test, y_train, y_test = train_test_split(\n",
        "    data,\n",
        "    target,\n",
        "    test_size=.3,\n",
        "    random_state=0,\n",
        ")"
      ],
      "metadata": {
        "id": "MfUbT-SbGkPW"
      },
      "execution_count": 7,
      "outputs": []
    },
    {
      "cell_type": "code",
      "source": [
        "from sklearn.linear_model import LogisticRegression\n",
        "from sklearn.model_selection import cross_validate\n",
        "\n",
        "\n",
        "num_folds = 6\n",
        "\n",
        "clf = LogisticRegression(solver='lbfgs', multi_class='multinomial', max_iter=1000)\n",
        "\n",
        "accuracy_scores = cross_validate(clf, \n",
        "                                 data, \n",
        "                                 target, \n",
        "                                 cv=num_folds, \n",
        "                                 scoring=['accuracy'],\n",
        "                  )\n",
        "\n",
        "accuracy_mean = pd.Series(accuracy_scores['test_accuracy']).mean()\n",
        "accuracy_std = pd.Series(accuracy_scores['test_accuracy']).std()\n",
        "accuracy_sterror = accuracy_std / np.sqrt(num_folds)\n",
        "\n",
        "print(\n",
        "    'Logistic Regression: Accuracy ({}-fold): {:.2f} ~ {:.2f}'.format(\n",
        "        num_folds,\n",
        "        (accuracy_mean - 1.96 * accuracy_sterror),\n",
        "        (accuracy_mean + 1.96 * accuracy_sterror),\n",
        "    )\n",
        ")"
      ],
      "metadata": {
        "colab": {
          "base_uri": "https://localhost:8080/"
        },
        "id": "fQ800EJBHiG0",
        "outputId": "d38dfe4c-ca48-4b1c-e8ea-71f1afdb714a"
      },
      "execution_count": 8,
      "outputs": [
        {
          "output_type": "stream",
          "name": "stdout",
          "text": [
            "Logistic Regression: Accuracy (6-fold): 0.93 ~ 0.99\n"
          ]
        }
      ]
    },
    {
      "cell_type": "code",
      "source": [
        "clf.fit(X_train, y_train)\n",
        "\n",
        "# We use dictionary comprehension instead of a for-loop\n",
        "df_coef = pd.DataFrame(\n",
        "   {\n",
        "        f'Coef [Class {class_id}]': clf.coef_[class_id]\n",
        "        for class_id in range(clf.coef_.shape[0])\n",
        "    },\n",
        "    index=iris.feature_names\n",
        ")\n",
        "df_coef.loc['intercept', :] = clf.intercept_\n",
        "\n",
        "df_coef"
      ],
      "metadata": {
        "colab": {
          "base_uri": "https://localhost:8080/",
          "height": 206
        },
        "id": "J_UWH32PH1HP",
        "outputId": "401b2d5a-62ae-4503-c2eb-71887625c6dc"
      },
      "execution_count": 10,
      "outputs": [
        {
          "output_type": "execute_result",
          "data": {
            "text/plain": [
              "                   Coef [Class 0]  Coef [Class 1]  Coef [Class 2]\n",
              "sepal length (cm)       -0.984543        0.545920        0.438623\n",
              "sepal width (cm)         1.022548       -0.354755       -0.667793\n",
              "petal length (cm)       -1.723182       -0.280995        2.004177\n",
              "petal width (cm)        -1.621239       -0.686734        2.307973\n",
              "intercept               -0.301365        1.756716       -1.455351"
            ],
            "text/html": [
              "\n",
              "  <div id=\"df-38b2cec2-d9c0-4e32-906c-89a1a2bdbcc3\">\n",
              "    <div class=\"colab-df-container\">\n",
              "      <div>\n",
              "<style scoped>\n",
              "    .dataframe tbody tr th:only-of-type {\n",
              "        vertical-align: middle;\n",
              "    }\n",
              "\n",
              "    .dataframe tbody tr th {\n",
              "        vertical-align: top;\n",
              "    }\n",
              "\n",
              "    .dataframe thead th {\n",
              "        text-align: right;\n",
              "    }\n",
              "</style>\n",
              "<table border=\"1\" class=\"dataframe\">\n",
              "  <thead>\n",
              "    <tr style=\"text-align: right;\">\n",
              "      <th></th>\n",
              "      <th>Coef [Class 0]</th>\n",
              "      <th>Coef [Class 1]</th>\n",
              "      <th>Coef [Class 2]</th>\n",
              "    </tr>\n",
              "  </thead>\n",
              "  <tbody>\n",
              "    <tr>\n",
              "      <th>sepal length (cm)</th>\n",
              "      <td>-0.984543</td>\n",
              "      <td>0.545920</td>\n",
              "      <td>0.438623</td>\n",
              "    </tr>\n",
              "    <tr>\n",
              "      <th>sepal width (cm)</th>\n",
              "      <td>1.022548</td>\n",
              "      <td>-0.354755</td>\n",
              "      <td>-0.667793</td>\n",
              "    </tr>\n",
              "    <tr>\n",
              "      <th>petal length (cm)</th>\n",
              "      <td>-1.723182</td>\n",
              "      <td>-0.280995</td>\n",
              "      <td>2.004177</td>\n",
              "    </tr>\n",
              "    <tr>\n",
              "      <th>petal width (cm)</th>\n",
              "      <td>-1.621239</td>\n",
              "      <td>-0.686734</td>\n",
              "      <td>2.307973</td>\n",
              "    </tr>\n",
              "    <tr>\n",
              "      <th>intercept</th>\n",
              "      <td>-0.301365</td>\n",
              "      <td>1.756716</td>\n",
              "      <td>-1.455351</td>\n",
              "    </tr>\n",
              "  </tbody>\n",
              "</table>\n",
              "</div>\n",
              "      <button class=\"colab-df-convert\" onclick=\"convertToInteractive('df-38b2cec2-d9c0-4e32-906c-89a1a2bdbcc3')\"\n",
              "              title=\"Convert this dataframe to an interactive table.\"\n",
              "              style=\"display:none;\">\n",
              "        \n",
              "  <svg xmlns=\"http://www.w3.org/2000/svg\" height=\"24px\"viewBox=\"0 0 24 24\"\n",
              "       width=\"24px\">\n",
              "    <path d=\"M0 0h24v24H0V0z\" fill=\"none\"/>\n",
              "    <path d=\"M18.56 5.44l.94 2.06.94-2.06 2.06-.94-2.06-.94-.94-2.06-.94 2.06-2.06.94zm-11 1L8.5 8.5l.94-2.06 2.06-.94-2.06-.94L8.5 2.5l-.94 2.06-2.06.94zm10 10l.94 2.06.94-2.06 2.06-.94-2.06-.94-.94-2.06-.94 2.06-2.06.94z\"/><path d=\"M17.41 7.96l-1.37-1.37c-.4-.4-.92-.59-1.43-.59-.52 0-1.04.2-1.43.59L10.3 9.45l-7.72 7.72c-.78.78-.78 2.05 0 2.83L4 21.41c.39.39.9.59 1.41.59.51 0 1.02-.2 1.41-.59l7.78-7.78 2.81-2.81c.8-.78.8-2.07 0-2.86zM5.41 20L4 18.59l7.72-7.72 1.47 1.35L5.41 20z\"/>\n",
              "  </svg>\n",
              "      </button>\n",
              "      \n",
              "  <style>\n",
              "    .colab-df-container {\n",
              "      display:flex;\n",
              "      flex-wrap:wrap;\n",
              "      gap: 12px;\n",
              "    }\n",
              "\n",
              "    .colab-df-convert {\n",
              "      background-color: #E8F0FE;\n",
              "      border: none;\n",
              "      border-radius: 50%;\n",
              "      cursor: pointer;\n",
              "      display: none;\n",
              "      fill: #1967D2;\n",
              "      height: 32px;\n",
              "      padding: 0 0 0 0;\n",
              "      width: 32px;\n",
              "    }\n",
              "\n",
              "    .colab-df-convert:hover {\n",
              "      background-color: #E2EBFA;\n",
              "      box-shadow: 0px 1px 2px rgba(60, 64, 67, 0.3), 0px 1px 3px 1px rgba(60, 64, 67, 0.15);\n",
              "      fill: #174EA6;\n",
              "    }\n",
              "\n",
              "    [theme=dark] .colab-df-convert {\n",
              "      background-color: #3B4455;\n",
              "      fill: #D2E3FC;\n",
              "    }\n",
              "\n",
              "    [theme=dark] .colab-df-convert:hover {\n",
              "      background-color: #434B5C;\n",
              "      box-shadow: 0px 1px 3px 1px rgba(0, 0, 0, 0.15);\n",
              "      filter: drop-shadow(0px 1px 2px rgba(0, 0, 0, 0.3));\n",
              "      fill: #FFFFFF;\n",
              "    }\n",
              "  </style>\n",
              "\n",
              "      <script>\n",
              "        const buttonEl =\n",
              "          document.querySelector('#df-38b2cec2-d9c0-4e32-906c-89a1a2bdbcc3 button.colab-df-convert');\n",
              "        buttonEl.style.display =\n",
              "          google.colab.kernel.accessAllowed ? 'block' : 'none';\n",
              "\n",
              "        async function convertToInteractive(key) {\n",
              "          const element = document.querySelector('#df-38b2cec2-d9c0-4e32-906c-89a1a2bdbcc3');\n",
              "          const dataTable =\n",
              "            await google.colab.kernel.invokeFunction('convertToInteractive',\n",
              "                                                     [key], {});\n",
              "          if (!dataTable) return;\n",
              "\n",
              "          const docLinkHtml = 'Like what you see? Visit the ' +\n",
              "            '<a target=\"_blank\" href=https://colab.research.google.com/notebooks/data_table.ipynb>data table notebook</a>'\n",
              "            + ' to learn more about interactive tables.';\n",
              "          element.innerHTML = '';\n",
              "          dataTable['output_type'] = 'display_data';\n",
              "          await google.colab.output.renderOutput(dataTable, element);\n",
              "          const docLink = document.createElement('div');\n",
              "          docLink.innerHTML = docLinkHtml;\n",
              "          element.appendChild(docLink);\n",
              "        }\n",
              "      </script>\n",
              "    </div>\n",
              "  </div>\n",
              "  "
            ]
          },
          "metadata": {},
          "execution_count": 10
        }
      ]
    },
    {
      "cell_type": "code",
      "source": [
        "from sklearn.tree import DecisionTreeClassifier\n",
        "\n",
        "num_folds = 6\n",
        "\n",
        "clf = DecisionTreeClassifier(max_depth=3)\n",
        "accuracy_scores = cross_validate(clf, data, target, cv=num_folds, scoring=['accuracy'])\n",
        "\n",
        "accuracy_mean = pd.Series(accuracy_scores['test_accuracy']).mean()\n",
        "accuracy_std = pd.Series(accuracy_scores['test_accuracy']).std()\n",
        "accuracy_sterror = accuracy_std / np.sqrt(num_folds)\n",
        "\n",
        "print(\n",
        "    'Decision Tree Classifier: Accuracy ({}-fold): {:.2f} ~ {:.2f}'.format(\n",
        "        num_folds,\n",
        "        (accuracy_mean - 1.96 * accuracy_sterror),\n",
        "        (accuracy_mean + 1.96 * accuracy_sterror),\n",
        "    )\n",
        ")"
      ],
      "metadata": {
        "colab": {
          "base_uri": "https://localhost:8080/"
        },
        "id": "HlPmqmuRJ3LF",
        "outputId": "55f608b0-1129-439b-b05e-936876e88f93"
      },
      "execution_count": 11,
      "outputs": [
        {
          "output_type": "stream",
          "name": "stdout",
          "text": [
            "Decision Tree Classifier: Accuracy (6-fold): 0.91 ~ 0.99\n"
          ]
        }
      ]
    },
    {
      "cell_type": "code",
      "source": [
        "# Function to Plot the Decision Boundaries\n",
        "\n",
        "def plot_decision_boundary(clf, x, y, ax, title):\n",
        "    \n",
        "    cmap='Paired_r'\n",
        "    \n",
        "    feature_names = x.columns\n",
        "    x, y = x.values, y.values\n",
        "    \n",
        "    x_min, x_max = x[:,0].min(), x[:,0].max()\n",
        "    y_min, y_max = x[:,1].min(), x[:,1].max()\n",
        "    \n",
        "    step = 0.02\n",
        "    \n",
        "    xx, yy = np.meshgrid(\n",
        "        np.arange(x_min, x_max, step),\n",
        "        np.arange(y_min, y_max, step)\n",
        "    )\n",
        "    Z = clf.predict(np.c_[xx.ravel(), yy.ravel()])\n",
        "    Z = Z.reshape(xx.shape)\n",
        "\n",
        "    ax.contourf(xx, yy, Z, cmap=cmap, alpha=0.25)\n",
        "    ax.contour(xx, yy, Z, colors='k', linewidths=0.7)\n",
        "    ax.scatter(x[:,0], x[:,1], c=y, edgecolors='k')\n",
        "    ax.set_title(title)\n",
        "    ax.set_xlabel(feature_names[0])\n",
        "    ax.set_ylabel(feature_names[1])"
      ],
      "metadata": {
        "id": "-GIBXG1RKNOZ"
      },
      "execution_count": 12,
      "outputs": []
    },
    {
      "cell_type": "code",
      "source": [
        "X_train, X_test, y_train, y_test = train_test_split(\n",
        "    data,\n",
        "    target,\n",
        "    test_size=.3,\n",
        "    random_state=0,\n",
        ")"
      ],
      "metadata": {
        "id": "1LfcR1IuKX-z"
      },
      "execution_count": 13,
      "outputs": []
    },
    {
      "cell_type": "code",
      "source": [
        "from sklearn.metrics import accuracy_score\n",
        "    \n",
        "fig, axs = plt.subplots(1, 2, figsize=(12, 6))\n",
        "\n",
        "two_features = ['petal width (cm)', 'petal length (cm)']\n",
        "\n",
        "\n",
        "clf_lr = LogisticRegression()\n",
        "clf_lr.fit(X_train[two_features], y_train)\n",
        "accuracy = accuracy_score(\n",
        "    y_test, \n",
        "    clf_lr.predict(X_test[two_features])\n",
        ")\n",
        "plot_decision_boundary(\n",
        "    clf_lr, X_test[two_features], y_test, ax=axs[0], \n",
        "    title=f'Logistic Regression Classifier\\nAccuracy: {accuracy:.2%}'\n",
        ")\n",
        "\n",
        "clf_dt = DecisionTreeClassifier(max_depth=3)\n",
        "clf_dt.fit(X_train[two_features], y_train)\n",
        "accuracy = accuracy_score(\n",
        "    y_test, \n",
        "    clf_dt.predict(X_test[two_features])\n",
        ")\n",
        "plot_decision_boundary(\n",
        "    clf_dt, X_test[two_features], y_test, ax=axs[1], \n",
        "    title=f'Decision Tree Classifier\\nAccuracy: {accuracy:.2%}'\n",
        ")"
      ],
      "metadata": {
        "colab": {
          "base_uri": "https://localhost:8080/",
          "height": 517
        },
        "id": "eDgR71_gKmUF",
        "outputId": "42440494-177c-40c5-f200-7cc6b54805e6"
      },
      "execution_count": 14,
      "outputs": [
        {
          "output_type": "stream",
          "name": "stderr",
          "text": [
            "/usr/local/lib/python3.7/dist-packages/sklearn/base.py:451: UserWarning: X does not have valid feature names, but LogisticRegression was fitted with feature names\n",
            "  \"X does not have valid feature names, but\"\n",
            "/usr/local/lib/python3.7/dist-packages/sklearn/base.py:451: UserWarning: X does not have valid feature names, but DecisionTreeClassifier was fitted with feature names\n",
            "  \"X does not have valid feature names, but\"\n"
          ]
        },
        {
          "output_type": "display_data",
          "data": {
            "text/plain": [
              "<Figure size 864x432 with 2 Axes>"
            ],
            "image/png": "[encoded data removed]"
          },
          "metadata": {
            "needs_background": "light"
          }
        }
      ]
    },
    {
      "cell_type": "code",
      "source": [
        ""
      ],
      "metadata": {
        "id": "ZE1YY623LI1l"
      },
      "execution_count": null,
      "outputs": []
    }
  ]
}