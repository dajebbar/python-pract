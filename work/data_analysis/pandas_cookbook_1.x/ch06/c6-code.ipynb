{
  "nbformat": 4,
  "nbformat_minor": 0,
  "metadata": {
    "colab": {
      "name": "Untitled0.ipynb",
      "provenance": []
    },
    "kernelspec": {
      "name": "python3",
      "display_name": "Python 3"
    },
    "language_info": {
      "name": "python"
    }
  },
  "cells": [
    {
      "cell_type": "markdown",
      "source": [
        "---\n",
        "# Selecting Subsets of Data\n",
        "---"
      ],
      "metadata": {
        "id": "CzXGvUehDS67"
      }
    },
    {
      "cell_type": "markdown",
      "source": [
        "## Selecting Series data\n",
        "Series and DataFrames allow selection by position (like Python lists) and by label (like Python\n",
        "dictionaries). When we index off of the `.iloc` attribute, pandas selects only by position and\n",
        "works similarly to Python lists. The `.loc` attribute selects only by index label, which is similar\n",
        "to how Python dictionaries work."
      ],
      "metadata": {
        "id": "ItfT7Z2tE1ZF"
      }
    },
    {
      "cell_type": "code",
      "execution_count": 1,
      "metadata": {
        "id": "VYCtI1PVBgIz"
      },
      "outputs": [],
      "source": [
        "import numpy as np\n",
        "import pandas as pd"
      ]
    },
    {
      "cell_type": "code",
      "source": [
        "college = pd.read_csv('./college.csv', index_col='INSTNM')\n",
        "college.columns"
      ],
      "metadata": {
        "colab": {
          "base_uri": "https://localhost:8080/"
        },
        "id": "LeYRelOmG0_6",
        "outputId": "f8456ef9-204c-4cd5-9747-a0fd2f10ee5d"
      },
      "execution_count": 2,
      "outputs": [
        {
          "output_type": "execute_result",
          "data": {
            "text/plain": [
              "Index(['CITY', 'STABBR', 'HBCU', 'MENONLY', 'WOMENONLY', 'RELAFFIL',\n",
              "       'SATVRMID', 'SATMTMID', 'DISTANCEONLY', 'UGDS', 'UGDS_WHITE',\n",
              "       'UGDS_BLACK', 'UGDS_HISP', 'UGDS_ASIAN', 'UGDS_AIAN', 'UGDS_NHPI',\n",
              "       'UGDS_2MOR', 'UGDS_NRA', 'UGDS_UNKN', 'PPTUG_EF', 'CURROPER', 'PCTPELL',\n",
              "       'PCTFLOAN', 'UG25ABV', 'MD_EARN_WNE_P10', 'GRAD_DEBT_MDN_SUPP'],\n",
              "      dtype='object')"
            ]
          },
          "metadata": {},
          "execution_count": 2
        }
      ]
    },
    {
      "cell_type": "code",
      "source": [
        "city = college['CITY']\n",
        "city"
      ],
      "metadata": {
        "colab": {
          "base_uri": "https://localhost:8080/"
        },
        "id": "F2355SR2HeGq",
        "outputId": "569b81f9-1238-4974-937d-91ffaba4b231"
      },
      "execution_count": 3,
      "outputs": [
        {
          "output_type": "execute_result",
          "data": {
            "text/plain": [
              "INSTNM\n",
              "Alabama A & M University                                            Normal\n",
              "University of Alabama at Birmingham                             Birmingham\n",
              "Amridge University                                              Montgomery\n",
              "University of Alabama in Huntsville                             Huntsville\n",
              "Alabama State University                                        Montgomery\n",
              "                                                                ...       \n",
              "SAE Institute of Technology  San Francisco                      Emeryville\n",
              "Rasmussen College - Overland Park                            Overland Park\n",
              "National Personal Training Institute of Cleveland         Highland Heights\n",
              "Bay Area Medical Academy - San Jose Satellite Location            San Jose\n",
              "Excel Learning Center-San Antonio South                        San Antonio\n",
              "Name: CITY, Length: 7535, dtype: object"
            ]
          },
          "metadata": {},
          "execution_count": 3
        }
      ]
    },
    {
      "cell_type": "markdown",
      "source": [
        "Pull out a scalar value from the Series directly"
      ],
      "metadata": {
        "id": "P025hBePH82Q"
      }
    },
    {
      "cell_type": "code",
      "source": [
        "city['Amridge University']"
      ],
      "metadata": {
        "colab": {
          "base_uri": "https://localhost:8080/",
          "height": 35
        },
        "id": "8V0IJ4p9HuVm",
        "outputId": "ffc040f2-7497-45f1-9ea6-076aa11da26f"
      },
      "execution_count": 4,
      "outputs": [
        {
          "output_type": "execute_result",
          "data": {
            "application/vnd.google.colaboratory.intrinsic+json": {
              "type": "string"
            },
            "text/plain": [
              "'Montgomery'"
            ]
          },
          "metadata": {},
          "execution_count": 4
        }
      ]
    },
    {
      "cell_type": "markdown",
      "source": [
        "Pull out a scalar value using the `.loc` attribute by name"
      ],
      "metadata": {
        "id": "Zju2RLgBINba"
      }
    },
    {
      "cell_type": "code",
      "source": [
        "city.loc['Amridge University']"
      ],
      "metadata": {
        "colab": {
          "base_uri": "https://localhost:8080/",
          "height": 35
        },
        "id": "8aWN5CMSIGUE",
        "outputId": "dc115a8e-bb83-4a56-fbba-6a8501a4ba8c"
      },
      "execution_count": 5,
      "outputs": [
        {
          "output_type": "execute_result",
          "data": {
            "application/vnd.google.colaboratory.intrinsic+json": {
              "type": "string"
            },
            "text/plain": [
              "'Montgomery'"
            ]
          },
          "metadata": {},
          "execution_count": 5
        }
      ]
    },
    {
      "cell_type": "markdown",
      "source": [
        "Pull out a scalar value using the `.iloc` attribute by position:"
      ],
      "metadata": {
        "id": "jOioZk0vIkaU"
      }
    },
    {
      "cell_type": "code",
      "source": [
        "city.iloc[2]"
      ],
      "metadata": {
        "colab": {
          "base_uri": "https://localhost:8080/",
          "height": 35
        },
        "id": "dhnr5oYZIeGj",
        "outputId": "37efc694-ffcf-431f-c541-95dc93fb9aea"
      },
      "execution_count": 6,
      "outputs": [
        {
          "output_type": "execute_result",
          "data": {
            "application/vnd.google.colaboratory.intrinsic+json": {
              "type": "string"
            },
            "text/plain": [
              "'Montgomery'"
            ]
          },
          "metadata": {},
          "execution_count": 6
        }
      ]
    },
    {
      "cell_type": "markdown",
      "source": [
        "Pull out several values by indexing. Note that if we pass in a list to the index\n",
        "operation, pandas will now return a Series instead of a scalar"
      ],
      "metadata": {
        "id": "iL1CC7-eJeN5"
      }
    },
    {
      "cell_type": "code",
      "source": [
        "city[['Amridge University', 'University of Alabama in Huntsville', 'Rasmussen College - Overland Park']]"
      ],
      "metadata": {
        "colab": {
          "base_uri": "https://localhost:8080/"
        },
        "id": "Dibun1AAIwXU",
        "outputId": "698b285d-cf7c-4308-f9c5-1e6333985ab3"
      },
      "execution_count": 10,
      "outputs": [
        {
          "output_type": "execute_result",
          "data": {
            "text/plain": [
              "INSTNM\n",
              "Amridge University                        Montgomery\n",
              "University of Alabama in Huntsville       Huntsville\n",
              "Rasmussen College - Overland Park      Overland Park\n",
              "Name: CITY, dtype: object"
            ]
          },
          "metadata": {},
          "execution_count": 10
        }
      ]
    },
    {
      "cell_type": "markdown",
      "source": [
        "Repeat the above using `.loc`"
      ],
      "metadata": {
        "id": "mCGdLudlKRdw"
      }
    },
    {
      "cell_type": "code",
      "source": [
        "city.loc[['Amridge University', 'University of Alabama in Huntsville', 'Rasmussen College - Overland Park']]"
      ],
      "metadata": {
        "colab": {
          "base_uri": "https://localhost:8080/"
        },
        "id": "Rwz9bMDgJygC",
        "outputId": "d2f6ec58-973f-4ab6-dedb-ca5dd546a4bd"
      },
      "execution_count": 11,
      "outputs": [
        {
          "output_type": "execute_result",
          "data": {
            "text/plain": [
              "INSTNM\n",
              "Amridge University                        Montgomery\n",
              "University of Alabama in Huntsville       Huntsville\n",
              "Rasmussen College - Overland Park      Overland Park\n",
              "Name: CITY, dtype: object"
            ]
          },
          "metadata": {},
          "execution_count": 11
        }
      ]
    },
    {
      "cell_type": "markdown",
      "source": [
        "Repeat the above using `.iloc`"
      ],
      "metadata": {
        "id": "QGyBzOJyK2H7"
      }
    },
    {
      "cell_type": "code",
      "source": [
        "city.iloc[[2, 4]]"
      ],
      "metadata": {
        "colab": {
          "base_uri": "https://localhost:8080/"
        },
        "id": "Gz4ElgAYKdkW",
        "outputId": "9db0872f-17de-45a6-eda7-20936c5e1dc7"
      },
      "execution_count": 12,
      "outputs": [
        {
          "output_type": "execute_result",
          "data": {
            "text/plain": [
              "INSTNM\n",
              "Amridge University          Montgomery\n",
              "Alabama State University    Montgomery\n",
              "Name: CITY, dtype: object"
            ]
          },
          "metadata": {},
          "execution_count": 12
        }
      ]
    },
    {
      "cell_type": "markdown",
      "source": [
        "Use a slice to pull out many values"
      ],
      "metadata": {
        "id": "d_Y5TWr4L0cD"
      }
    },
    {
      "cell_type": "code",
      "source": [
        "city['Alabama State University': 'Auburn University at Montgomery']"
      ],
      "metadata": {
        "colab": {
          "base_uri": "https://localhost:8080/"
        },
        "id": "jRB5wXrbLks-",
        "outputId": "490ac30d-732f-4818-da47-6111fd4d3480"
      },
      "execution_count": 14,
      "outputs": [
        {
          "output_type": "execute_result",
          "data": {
            "text/plain": [
              "INSTNM\n",
              "Alabama State University                 Montgomery\n",
              "The University of Alabama                Tuscaloosa\n",
              "Central Alabama Community College    Alexander City\n",
              "Athens State University                      Athens\n",
              "Auburn University at Montgomery          Montgomery\n",
              "Name: CITY, dtype: object"
            ]
          },
          "metadata": {},
          "execution_count": 14
        }
      ]
    },
    {
      "cell_type": "markdown",
      "source": [
        "Use a slice to pull out many values by position:"
      ],
      "metadata": {
        "id": "h5Cx2DBFMlUT"
      }
    },
    {
      "cell_type": "code",
      "source": [
        "city.iloc[0: 4]"
      ],
      "metadata": {
        "colab": {
          "base_uri": "https://localhost:8080/"
        },
        "id": "IQqe2scEMWnt",
        "outputId": "66febe68-684d-47fe-f886-adcf933359bc"
      },
      "execution_count": 15,
      "outputs": [
        {
          "output_type": "execute_result",
          "data": {
            "text/plain": [
              "INSTNM\n",
              "Alabama A & M University                   Normal\n",
              "University of Alabama at Birmingham    Birmingham\n",
              "Amridge University                     Montgomery\n",
              "University of Alabama in Huntsville    Huntsville\n",
              "Name: CITY, dtype: object"
            ]
          },
          "metadata": {},
          "execution_count": 15
        }
      ]
    },
    {
      "cell_type": "markdown",
      "source": [
        "Use a Boolean array to pull out certain values"
      ],
      "metadata": {
        "id": "TABPcbhPNA-x"
      }
    },
    {
      "cell_type": "code",
      "source": [
        "alabama_mask = city.isin([\"Birmingham\", \"Montgomery\"])\n",
        "city[alabama_mask]"
      ],
      "metadata": {
        "colab": {
          "base_uri": "https://localhost:8080/"
        },
        "id": "40DQ5SnjMw3J",
        "outputId": "4c71f0e2-0db5-44b4-f354-864636b46b31"
      },
      "execution_count": 17,
      "outputs": [
        {
          "output_type": "execute_result",
          "data": {
            "text/plain": [
              "INSTNM\n",
              "University of Alabama at Birmingham                 Birmingham\n",
              "Amridge University                                  Montgomery\n",
              "Alabama State University                            Montgomery\n",
              "Auburn University at Montgomery                     Montgomery\n",
              "Birmingham Southern College                         Birmingham\n",
              "South University-Montgomery                         Montgomery\n",
              "Faulkner University                                 Montgomery\n",
              "Herzing University-Birmingham                       Birmingham\n",
              "Huntingdon College                                  Montgomery\n",
              "Jefferson State Community College                   Birmingham\n",
              "Lawson State Community College-Birmingham Campus    Birmingham\n",
              "Samford University                                  Birmingham\n",
              "Southeastern Bible College                          Birmingham\n",
              "H Councill Trenholm State Community College         Montgomery\n",
              "West Virginia University Institute of Technology    Montgomery\n",
              "Virginia College-Birmingham                         Birmingham\n",
              "Southeastern School of Cosmetology                  Birmingham\n",
              "Strayer University-Alabama                          Birmingham\n",
              "University of Phoenix-Alabama                       Birmingham\n",
              "Virginia College-Montgomery                         Montgomery\n",
              "Fortis College-Montgomery                           Montgomery\n",
              "Fortis Institute-Birmingham                         Birmingham\n",
              "Hair Academy                                        Montgomery\n",
              "Brown Mackie College-Birmingham                     Birmingham\n",
              "Nunation School of Cosmetology                      Birmingham\n",
              "Troy University-Montgomery Campus                   Montgomery\n",
              "Name: CITY, dtype: object"
            ]
          },
          "metadata": {},
          "execution_count": 17
        }
      ]
    },
    {
      "cell_type": "code",
      "source": [
        ""
      ],
      "metadata": {
        "id": "6k4vRiZuNRf6"
      },
      "execution_count": null,
      "outputs": []
    }
  ]
}