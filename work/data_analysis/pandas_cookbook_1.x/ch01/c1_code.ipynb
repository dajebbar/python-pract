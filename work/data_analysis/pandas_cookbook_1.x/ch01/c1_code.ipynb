{
  "nbformat": 4,
  "nbformat_minor": 0,
  "metadata": {
    "colab": {
      "name": "c1-code.ipynb",
      "provenance": []
    },
    "kernelspec": {
      "name": "python3",
      "display_name": "Python 3"
    },
    "language_info": {
      "name": "python"
    }
  },
  "cells": [
    {
      "cell_type": "markdown",
      "source": [
        "---\n",
        "# Pandas Foundation\n",
        "---\n"
      ],
      "metadata": {
        "id": "wkARpXA9SG6A"
      }
    },
    {
      "cell_type": "code",
      "execution_count": 3,
      "metadata": {
        "id": "PVUmE1ccNyMS"
      },
      "outputs": [],
      "source": [
        "import numpy as np\n",
        "import pandas as pd\n",
        "import matplotlib.pyplot as plt\n",
        "\n",
        "plt.style.use('fivethirtyeight')\n",
        "%matplotlib inline"
      ]
    },
    {
      "cell_type": "code",
      "source": [
        "movies = pd.read_csv('./movie.csv')\n",
        "movies.head()"
      ],
      "metadata": {
        "colab": {
          "base_uri": "https://localhost:8080/",
          "height": 409
        },
        "id": "5Akshcq0OJ_a",
        "outputId": "562200a3-a680-454c-aa0b-2f81c7919efe"
      },
      "execution_count": 4,
      "outputs": [
        {
          "output_type": "execute_result",
          "data": {
            "text/html": [
              "\n",
              "  <div id=\"df-dcf4086b-47e7-4ce0-8123-97c6f55c4ffc\">\n",
              "    <div class=\"colab-df-container\">\n",
              "      <div>\n",
              "<style scoped>\n",
              "    .dataframe tbody tr th:only-of-type {\n",
              "        vertical-align: middle;\n",
              "    }\n",
              "\n",
              "    .dataframe tbody tr th {\n",
              "        vertical-align: top;\n",
              "    }\n",
              "\n",
              "    .dataframe thead th {\n",
              "        text-align: right;\n",
              "    }\n",
              "</style>\n",
              "<table border=\"1\" class=\"dataframe\">\n",
              "  <thead>\n",
              "    <tr style=\"text-align: right;\">\n",
              "      <th></th>\n",
              "      <th>color</th>\n",
              "      <th>director_name</th>\n",
              "      <th>num_critic_for_reviews</th>\n",
              "      <th>duration</th>\n",
              "      <th>director_facebook_likes</th>\n",
              "      <th>actor_3_facebook_likes</th>\n",
              "      <th>actor_2_name</th>\n",
              "      <th>actor_1_facebook_likes</th>\n",
              "      <th>gross</th>\n",
              "      <th>genres</th>\n",
              "      <th>actor_1_name</th>\n",
              "      <th>movie_title</th>\n",
              "      <th>num_voted_users</th>\n",
              "      <th>cast_total_facebook_likes</th>\n",
              "      <th>actor_3_name</th>\n",
              "      <th>facenumber_in_poster</th>\n",
              "      <th>plot_keywords</th>\n",
              "      <th>movie_imdb_link</th>\n",
              "      <th>num_user_for_reviews</th>\n",
              "      <th>language</th>\n",
              "      <th>country</th>\n",
              "      <th>content_rating</th>\n",
              "      <th>budget</th>\n",
              "      <th>title_year</th>\n",
              "      <th>actor_2_facebook_likes</th>\n",
              "      <th>imdb_score</th>\n",
              "      <th>aspect_ratio</th>\n",
              "      <th>movie_facebook_likes</th>\n",
              "    </tr>\n",
              "  </thead>\n",
              "  <tbody>\n",
              "    <tr>\n",
              "      <th>0</th>\n",
              "      <td>Color</td>\n",
              "      <td>James Cameron</td>\n",
              "      <td>723.0</td>\n",
              "      <td>178.0</td>\n",
              "      <td>0.0</td>\n",
              "      <td>855.0</td>\n",
              "      <td>Joel David Moore</td>\n",
              "      <td>1000.0</td>\n",
              "      <td>760505847.0</td>\n",
              "      <td>Action|Adventure|Fantasy|Sci-Fi</td>\n",
              "      <td>CCH Pounder</td>\n",
              "      <td>Avatar</td>\n",
              "      <td>886204</td>\n",
              "      <td>4834</td>\n",
              "      <td>Wes Studi</td>\n",
              "      <td>0.0</td>\n",
              "      <td>avatar|future|marine|native|paraplegic</td>\n",
              "      <td>http://www.imdb.com/title/tt0499549/?ref_=fn_t...</td>\n",
              "      <td>3054.0</td>\n",
              "      <td>English</td>\n",
              "      <td>USA</td>\n",
              "      <td>PG-13</td>\n",
              "      <td>237000000.0</td>\n",
              "      <td>2009.0</td>\n",
              "      <td>936.0</td>\n",
              "      <td>7.9</td>\n",
              "      <td>1.78</td>\n",
              "      <td>33000</td>\n",
              "    </tr>\n",
              "    <tr>\n",
              "      <th>1</th>\n",
              "      <td>Color</td>\n",
              "      <td>Gore Verbinski</td>\n",
              "      <td>302.0</td>\n",
              "      <td>169.0</td>\n",
              "      <td>563.0</td>\n",
              "      <td>1000.0</td>\n",
              "      <td>Orlando Bloom</td>\n",
              "      <td>40000.0</td>\n",
              "      <td>309404152.0</td>\n",
              "      <td>Action|Adventure|Fantasy</td>\n",
              "      <td>Johnny Depp</td>\n",
              "      <td>Pirates of the Caribbean: At World's End</td>\n",
              "      <td>471220</td>\n",
              "      <td>48350</td>\n",
              "      <td>Jack Davenport</td>\n",
              "      <td>0.0</td>\n",
              "      <td>goddess|marriage ceremony|marriage proposal|pi...</td>\n",
              "      <td>http://www.imdb.com/title/tt0449088/?ref_=fn_t...</td>\n",
              "      <td>1238.0</td>\n",
              "      <td>English</td>\n",
              "      <td>USA</td>\n",
              "      <td>PG-13</td>\n",
              "      <td>300000000.0</td>\n",
              "      <td>2007.0</td>\n",
              "      <td>5000.0</td>\n",
              "      <td>7.1</td>\n",
              "      <td>2.35</td>\n",
              "      <td>0</td>\n",
              "    </tr>\n",
              "    <tr>\n",
              "      <th>2</th>\n",
              "      <td>Color</td>\n",
              "      <td>Sam Mendes</td>\n",
              "      <td>602.0</td>\n",
              "      <td>148.0</td>\n",
              "      <td>0.0</td>\n",
              "      <td>161.0</td>\n",
              "      <td>Rory Kinnear</td>\n",
              "      <td>11000.0</td>\n",
              "      <td>200074175.0</td>\n",
              "      <td>Action|Adventure|Thriller</td>\n",
              "      <td>Christoph Waltz</td>\n",
              "      <td>Spectre</td>\n",
              "      <td>275868</td>\n",
              "      <td>11700</td>\n",
              "      <td>Stephanie Sigman</td>\n",
              "      <td>1.0</td>\n",
              "      <td>bomb|espionage|sequel|spy|terrorist</td>\n",
              "      <td>http://www.imdb.com/title/tt2379713/?ref_=fn_t...</td>\n",
              "      <td>994.0</td>\n",
              "      <td>English</td>\n",
              "      <td>UK</td>\n",
              "      <td>PG-13</td>\n",
              "      <td>245000000.0</td>\n",
              "      <td>2015.0</td>\n",
              "      <td>393.0</td>\n",
              "      <td>6.8</td>\n",
              "      <td>2.35</td>\n",
              "      <td>85000</td>\n",
              "    </tr>\n",
              "    <tr>\n",
              "      <th>3</th>\n",
              "      <td>Color</td>\n",
              "      <td>Christopher Nolan</td>\n",
              "      <td>813.0</td>\n",
              "      <td>164.0</td>\n",
              "      <td>22000.0</td>\n",
              "      <td>23000.0</td>\n",
              "      <td>Christian Bale</td>\n",
              "      <td>27000.0</td>\n",
              "      <td>448130642.0</td>\n",
              "      <td>Action|Thriller</td>\n",
              "      <td>Tom Hardy</td>\n",
              "      <td>The Dark Knight Rises</td>\n",
              "      <td>1144337</td>\n",
              "      <td>106759</td>\n",
              "      <td>Joseph Gordon-Levitt</td>\n",
              "      <td>0.0</td>\n",
              "      <td>deception|imprisonment|lawlessness|police offi...</td>\n",
              "      <td>http://www.imdb.com/title/tt1345836/?ref_=fn_t...</td>\n",
              "      <td>2701.0</td>\n",
              "      <td>English</td>\n",
              "      <td>USA</td>\n",
              "      <td>PG-13</td>\n",
              "      <td>250000000.0</td>\n",
              "      <td>2012.0</td>\n",
              "      <td>23000.0</td>\n",
              "      <td>8.5</td>\n",
              "      <td>2.35</td>\n",
              "      <td>164000</td>\n",
              "    </tr>\n",
              "    <tr>\n",
              "      <th>4</th>\n",
              "      <td>NaN</td>\n",
              "      <td>Doug Walker</td>\n",
              "      <td>NaN</td>\n",
              "      <td>NaN</td>\n",
              "      <td>131.0</td>\n",
              "      <td>NaN</td>\n",
              "      <td>Rob Walker</td>\n",
              "      <td>131.0</td>\n",
              "      <td>NaN</td>\n",
              "      <td>Documentary</td>\n",
              "      <td>Doug Walker</td>\n",
              "      <td>Star Wars: Episode VII - The Force Awakens</td>\n",
              "      <td>8</td>\n",
              "      <td>143</td>\n",
              "      <td>NaN</td>\n",
              "      <td>0.0</td>\n",
              "      <td>NaN</td>\n",
              "      <td>http://www.imdb.com/title/tt5289954/?ref_=fn_t...</td>\n",
              "      <td>NaN</td>\n",
              "      <td>NaN</td>\n",
              "      <td>NaN</td>\n",
              "      <td>NaN</td>\n",
              "      <td>NaN</td>\n",
              "      <td>NaN</td>\n",
              "      <td>12.0</td>\n",
              "      <td>7.1</td>\n",
              "      <td>NaN</td>\n",
              "      <td>0</td>\n",
              "    </tr>\n",
              "  </tbody>\n",
              "</table>\n",
              "</div>\n",
              "      <button class=\"colab-df-convert\" onclick=\"convertToInteractive('df-dcf4086b-47e7-4ce0-8123-97c6f55c4ffc')\"\n",
              "              title=\"Convert this dataframe to an interactive table.\"\n",
              "              style=\"display:none;\">\n",
              "        \n",
              "  <svg xmlns=\"http://www.w3.org/2000/svg\" height=\"24px\"viewBox=\"0 0 24 24\"\n",
              "       width=\"24px\">\n",
              "    <path d=\"M0 0h24v24H0V0z\" fill=\"none\"/>\n",
              "    <path d=\"M18.56 5.44l.94 2.06.94-2.06 2.06-.94-2.06-.94-.94-2.06-.94 2.06-2.06.94zm-11 1L8.5 8.5l.94-2.06 2.06-.94-2.06-.94L8.5 2.5l-.94 2.06-2.06.94zm10 10l.94 2.06.94-2.06 2.06-.94-2.06-.94-.94-2.06-.94 2.06-2.06.94z\"/><path d=\"M17.41 7.96l-1.37-1.37c-.4-.4-.92-.59-1.43-.59-.52 0-1.04.2-1.43.59L10.3 9.45l-7.72 7.72c-.78.78-.78 2.05 0 2.83L4 21.41c.39.39.9.59 1.41.59.51 0 1.02-.2 1.41-.59l7.78-7.78 2.81-2.81c.8-.78.8-2.07 0-2.86zM5.41 20L4 18.59l7.72-7.72 1.47 1.35L5.41 20z\"/>\n",
              "  </svg>\n",
              "      </button>\n",
              "      \n",
              "  <style>\n",
              "    .colab-df-container {\n",
              "      display:flex;\n",
              "      flex-wrap:wrap;\n",
              "      gap: 12px;\n",
              "    }\n",
              "\n",
              "    .colab-df-convert {\n",
              "      background-color: #E8F0FE;\n",
              "      border: none;\n",
              "      border-radius: 50%;\n",
              "      cursor: pointer;\n",
              "      display: none;\n",
              "      fill: #1967D2;\n",
              "      height: 32px;\n",
              "      padding: 0 0 0 0;\n",
              "      width: 32px;\n",
              "    }\n",
              "\n",
              "    .colab-df-convert:hover {\n",
              "      background-color: #E2EBFA;\n",
              "      box-shadow: 0px 1px 2px rgba(60, 64, 67, 0.3), 0px 1px 3px 1px rgba(60, 64, 67, 0.15);\n",
              "      fill: #174EA6;\n",
              "    }\n",
              "\n",
              "    [theme=dark] .colab-df-convert {\n",
              "      background-color: #3B4455;\n",
              "      fill: #D2E3FC;\n",
              "    }\n",
              "\n",
              "    [theme=dark] .colab-df-convert:hover {\n",
              "      background-color: #434B5C;\n",
              "      box-shadow: 0px 1px 3px 1px rgba(0, 0, 0, 0.15);\n",
              "      filter: drop-shadow(0px 1px 2px rgba(0, 0, 0, 0.3));\n",
              "      fill: #FFFFFF;\n",
              "    }\n",
              "  </style>\n",
              "\n",
              "      <script>\n",
              "        const buttonEl =\n",
              "          document.querySelector('#df-dcf4086b-47e7-4ce0-8123-97c6f55c4ffc button.colab-df-convert');\n",
              "        buttonEl.style.display =\n",
              "          google.colab.kernel.accessAllowed ? 'block' : 'none';\n",
              "\n",
              "        async function convertToInteractive(key) {\n",
              "          const element = document.querySelector('#df-dcf4086b-47e7-4ce0-8123-97c6f55c4ffc');\n",
              "          const dataTable =\n",
              "            await google.colab.kernel.invokeFunction('convertToInteractive',\n",
              "                                                     [key], {});\n",
              "          if (!dataTable) return;\n",
              "\n",
              "          const docLinkHtml = 'Like what you see? Visit the ' +\n",
              "            '<a target=\"_blank\" href=https://colab.research.google.com/notebooks/data_table.ipynb>data table notebook</a>'\n",
              "            + ' to learn more about interactive tables.';\n",
              "          element.innerHTML = '';\n",
              "          dataTable['output_type'] = 'display_data';\n",
              "          await google.colab.output.renderOutput(dataTable, element);\n",
              "          const docLink = document.createElement('div');\n",
              "          docLink.innerHTML = docLinkHtml;\n",
              "          element.appendChild(docLink);\n",
              "        }\n",
              "      </script>\n",
              "    </div>\n",
              "  </div>\n",
              "  "
            ],
            "text/plain": [
              "   color      director_name  ...  aspect_ratio  movie_facebook_likes\n",
              "0  Color      James Cameron  ...          1.78                 33000\n",
              "1  Color     Gore Verbinski  ...          2.35                     0\n",
              "2  Color         Sam Mendes  ...          2.35                 85000\n",
              "3  Color  Christopher Nolan  ...          2.35                164000\n",
              "4    NaN        Doug Walker  ...           NaN                     0\n",
              "\n",
              "[5 rows x 28 columns]"
            ]
          },
          "metadata": {},
          "execution_count": 4
        }
      ]
    },
    {
      "cell_type": "code",
      "source": [
        "movies.shape"
      ],
      "metadata": {
        "colab": {
          "base_uri": "https://localhost:8080/"
        },
        "id": "DtRJbpHtRLWx",
        "outputId": "73cb8a26-3df3-49ca-c7eb-6e94642e8624"
      },
      "execution_count": 5,
      "outputs": [
        {
          "output_type": "execute_result",
          "data": {
            "text/plain": [
              "(4916, 28)"
            ]
          },
          "metadata": {},
          "execution_count": 5
        }
      ]
    },
    {
      "cell_type": "code",
      "source": [
        "movies.isnull().sum()"
      ],
      "metadata": {
        "colab": {
          "base_uri": "https://localhost:8080/"
        },
        "id": "lH2_6OwuRVmb",
        "outputId": "9f06004a-dd1e-4d66-a2bd-7e0602f16add"
      },
      "execution_count": 6,
      "outputs": [
        {
          "output_type": "execute_result",
          "data": {
            "text/plain": [
              "color                         19\n",
              "director_name                102\n",
              "num_critic_for_reviews        49\n",
              "duration                      15\n",
              "director_facebook_likes      102\n",
              "actor_3_facebook_likes        23\n",
              "actor_2_name                  13\n",
              "actor_1_facebook_likes         7\n",
              "gross                        862\n",
              "genres                         0\n",
              "actor_1_name                   7\n",
              "movie_title                    0\n",
              "num_voted_users                0\n",
              "cast_total_facebook_likes      0\n",
              "actor_3_name                  23\n",
              "facenumber_in_poster          13\n",
              "plot_keywords                152\n",
              "movie_imdb_link                0\n",
              "num_user_for_reviews          21\n",
              "language                      12\n",
              "country                        5\n",
              "content_rating               300\n",
              "budget                       484\n",
              "title_year                   106\n",
              "actor_2_facebook_likes        13\n",
              "imdb_score                     0\n",
              "aspect_ratio                 326\n",
              "movie_facebook_likes           0\n",
              "dtype: int64"
            ]
          },
          "metadata": {},
          "execution_count": 6
        }
      ]
    },
    {
      "cell_type": "markdown",
      "source": [
        "## Dissecting the anatomy of a DataFrame"
      ],
      "metadata": {
        "id": "59j8sVxqSVH0"
      }
    },
    {
      "cell_type": "markdown",
      "source": [
        "![anatomy.png](data:image/png;base64,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)"
      ],
      "metadata": {
        "id": "tnOkJnZtSXQ3"
      }
    },
    {
      "cell_type": "markdown",
      "source": [
        "Use the DataFrame attributes index, columns, and values to assign the index, columns, and data to their own variables:"
      ],
      "metadata": {
        "id": "qWpD0NTkUBRp"
      }
    },
    {
      "cell_type": "code",
      "source": [
        "index = movies.index\n",
        "index"
      ],
      "metadata": {
        "colab": {
          "base_uri": "https://localhost:8080/"
        },
        "id": "DuSKtmSiRkFG",
        "outputId": "edd9b122-6a39-4b3b-f762-4038ae453655"
      },
      "execution_count": 7,
      "outputs": [
        {
          "output_type": "execute_result",
          "data": {
            "text/plain": [
              "RangeIndex(start=0, stop=4916, step=1)"
            ]
          },
          "metadata": {},
          "execution_count": 7
        }
      ]
    },
    {
      "cell_type": "code",
      "source": [
        "column = movies.columns\n",
        "column"
      ],
      "metadata": {
        "colab": {
          "base_uri": "https://localhost:8080/"
        },
        "id": "rLsUA26JUIBN",
        "outputId": "341c164f-e286-4dfb-e868-5ce14d081fb7"
      },
      "execution_count": 8,
      "outputs": [
        {
          "output_type": "execute_result",
          "data": {
            "text/plain": [
              "Index(['color', 'director_name', 'num_critic_for_reviews', 'duration',\n",
              "       'director_facebook_likes', 'actor_3_facebook_likes', 'actor_2_name',\n",
              "       'actor_1_facebook_likes', 'gross', 'genres', 'actor_1_name',\n",
              "       'movie_title', 'num_voted_users', 'cast_total_facebook_likes',\n",
              "       'actor_3_name', 'facenumber_in_poster', 'plot_keywords',\n",
              "       'movie_imdb_link', 'num_user_for_reviews', 'language', 'country',\n",
              "       'content_rating', 'budget', 'title_year', 'actor_2_facebook_likes',\n",
              "       'imdb_score', 'aspect_ratio', 'movie_facebook_likes'],\n",
              "      dtype='object')"
            ]
          },
          "metadata": {},
          "execution_count": 8
        }
      ]
    },
    {
      "cell_type": "code",
      "source": [
        "data = movies.to_numpy()\n",
        "data[:5]"
      ],
      "metadata": {
        "colab": {
          "base_uri": "https://localhost:8080/"
        },
        "id": "jEE8lO5DUPaw",
        "outputId": "41b2b885-de75-4ca2-bdb9-d85e0c929f81"
      },
      "execution_count": 9,
      "outputs": [
        {
          "output_type": "execute_result",
          "data": {
            "text/plain": [
              "array([['Color', 'James Cameron', 723.0, 178.0, 0.0, 855.0,\n",
              "        'Joel David Moore', 1000.0, 760505847.0,\n",
              "        'Action|Adventure|Fantasy|Sci-Fi', 'CCH Pounder', 'Avatar',\n",
              "        886204, 4834, 'Wes Studi', 0.0,\n",
              "        'avatar|future|marine|native|paraplegic',\n",
              "        'http://www.imdb.com/title/tt0499549/?ref_=fn_tt_tt_1', 3054.0,\n",
              "        'English', 'USA', 'PG-13', 237000000.0, 2009.0, 936.0, 7.9, 1.78,\n",
              "        33000],\n",
              "       ['Color', 'Gore Verbinski', 302.0, 169.0, 563.0, 1000.0,\n",
              "        'Orlando Bloom', 40000.0, 309404152.0,\n",
              "        'Action|Adventure|Fantasy', 'Johnny Depp',\n",
              "        \"Pirates of the Caribbean: At World's End\", 471220, 48350,\n",
              "        'Jack Davenport', 0.0,\n",
              "        'goddess|marriage ceremony|marriage proposal|pirate|singapore',\n",
              "        'http://www.imdb.com/title/tt0449088/?ref_=fn_tt_tt_1', 1238.0,\n",
              "        'English', 'USA', 'PG-13', 300000000.0, 2007.0, 5000.0, 7.1,\n",
              "        2.35, 0],\n",
              "       ['Color', 'Sam Mendes', 602.0, 148.0, 0.0, 161.0, 'Rory Kinnear',\n",
              "        11000.0, 200074175.0, 'Action|Adventure|Thriller',\n",
              "        'Christoph Waltz', 'Spectre', 275868, 11700, 'Stephanie Sigman',\n",
              "        1.0, 'bomb|espionage|sequel|spy|terrorist',\n",
              "        'http://www.imdb.com/title/tt2379713/?ref_=fn_tt_tt_1', 994.0,\n",
              "        'English', 'UK', 'PG-13', 245000000.0, 2015.0, 393.0, 6.8, 2.35,\n",
              "        85000],\n",
              "       ['Color', 'Christopher Nolan', 813.0, 164.0, 22000.0, 23000.0,\n",
              "        'Christian Bale', 27000.0, 448130642.0, 'Action|Thriller',\n",
              "        'Tom Hardy', 'The Dark Knight Rises', 1144337, 106759,\n",
              "        'Joseph Gordon-Levitt', 0.0,\n",
              "        'deception|imprisonment|lawlessness|police officer|terrorist plot',\n",
              "        'http://www.imdb.com/title/tt1345836/?ref_=fn_tt_tt_1', 2701.0,\n",
              "        'English', 'USA', 'PG-13', 250000000.0, 2012.0, 23000.0, 8.5,\n",
              "        2.35, 164000],\n",
              "       [nan, 'Doug Walker', nan, nan, 131.0, nan, 'Rob Walker', 131.0,\n",
              "        nan, 'Documentary', 'Doug Walker',\n",
              "        'Star Wars: Episode VII - The Force Awakens', 8, 143, nan, 0.0,\n",
              "        nan, 'http://www.imdb.com/title/tt5289954/?ref_=fn_tt_tt_1', nan,\n",
              "        nan, nan, nan, nan, nan, 12.0, 7.1, nan, 0]], dtype=object)"
            ]
          },
          "metadata": {},
          "execution_count": 9
        }
      ]
    },
    {
      "cell_type": "markdown",
      "source": [
        "Output the Python type of each DataFrame component"
      ],
      "metadata": {
        "id": "KMXPn0lFU3et"
      }
    },
    {
      "cell_type": "code",
      "source": [
        "type(index)"
      ],
      "metadata": {
        "colab": {
          "base_uri": "https://localhost:8080/"
        },
        "id": "aYCJVWrYUhcU",
        "outputId": "aefef51e-35d7-4d44-d38f-7a8925a6def9"
      },
      "execution_count": 10,
      "outputs": [
        {
          "output_type": "execute_result",
          "data": {
            "text/plain": [
              "pandas.core.indexes.range.RangeIndex"
            ]
          },
          "metadata": {},
          "execution_count": 10
        }
      ]
    },
    {
      "cell_type": "code",
      "source": [
        "type(column)"
      ],
      "metadata": {
        "colab": {
          "base_uri": "https://localhost:8080/"
        },
        "id": "QvCzDDGSU6n8",
        "outputId": "ce7bc3c3-14ca-4ae1-bb31-0c9b3d29c783"
      },
      "execution_count": 11,
      "outputs": [
        {
          "output_type": "execute_result",
          "data": {
            "text/plain": [
              "pandas.core.indexes.base.Index"
            ]
          },
          "metadata": {},
          "execution_count": 11
        }
      ]
    },
    {
      "cell_type": "code",
      "source": [
        "type(data), data.shape"
      ],
      "metadata": {
        "colab": {
          "base_uri": "https://localhost:8080/"
        },
        "id": "uNU4-9gGU98b",
        "outputId": "f9f4bb5e-fdd5-4dbe-efdf-6d95ffde800b"
      },
      "execution_count": 12,
      "outputs": [
        {
          "output_type": "execute_result",
          "data": {
            "text/plain": [
              "(numpy.ndarray, (4916, 28))"
            ]
          },
          "metadata": {},
          "execution_count": 12
        }
      ]
    },
    {
      "cell_type": "markdown",
      "source": [
        "The index and the columns are closely related. Both of them are subclasses of Index. This allows you to perform similar operations on both the index and the columns:"
      ],
      "metadata": {
        "id": "reIAedF-VVbW"
      }
    },
    {
      "cell_type": "code",
      "source": [
        "issubclass(pd.RangeIndex, pd.Index)"
      ],
      "metadata": {
        "colab": {
          "base_uri": "https://localhost:8080/"
        },
        "id": "rYiGPAcHVCJN",
        "outputId": "383606d4-621e-4542-c038-2b772a2b877b"
      },
      "execution_count": 13,
      "outputs": [
        {
          "output_type": "execute_result",
          "data": {
            "text/plain": [
              "True"
            ]
          },
          "metadata": {},
          "execution_count": 13
        }
      ]
    },
    {
      "cell_type": "code",
      "source": [
        "issubclass(column.__class__, pd.Index)"
      ],
      "metadata": {
        "colab": {
          "base_uri": "https://localhost:8080/"
        },
        "id": "TAXMs4YcVn6o",
        "outputId": "ad06c16e-df27-4aa9-c084-0022315d3634"
      },
      "execution_count": 14,
      "outputs": [
        {
          "output_type": "execute_result",
          "data": {
            "text/plain": [
              "True"
            ]
          },
          "metadata": {},
          "execution_count": 14
        }
      ]
    },
    {
      "cell_type": "markdown",
      "source": [
        "Most of pandas relies heavily on the ndarray. Beneath the index, columns, and\n",
        "data are NumPy ndarrays. They could be considered the base object for pandas that many\n",
        "other objects are built upon."
      ],
      "metadata": {
        "id": "2xLmr9ujYflN"
      }
    },
    {
      "cell_type": "code",
      "source": [
        "data = movies.values\n",
        "data"
      ],
      "metadata": {
        "colab": {
          "base_uri": "https://localhost:8080/"
        },
        "id": "P-788TifV00G",
        "outputId": "db87d980-11cb-4f21-8e2b-2029add534b6"
      },
      "execution_count": 15,
      "outputs": [
        {
          "output_type": "execute_result",
          "data": {
            "text/plain": [
              "array([['Color', 'James Cameron', 723.0, ..., 7.9, 1.78, 33000],\n",
              "       ['Color', 'Gore Verbinski', 302.0, ..., 7.1, 2.35, 0],\n",
              "       ['Color', 'Sam Mendes', 602.0, ..., 6.8, 2.35, 85000],\n",
              "       ...,\n",
              "       ['Color', 'Benjamin Roberds', 13.0, ..., 6.3, nan, 16],\n",
              "       ['Color', 'Daniel Hsia', 14.0, ..., 6.3, 2.35, 660],\n",
              "       ['Color', 'Jon Gunn', 43.0, ..., 6.6, 1.85, 456]], dtype=object)"
            ]
          },
          "metadata": {},
          "execution_count": 15
        }
      ]
    },
    {
      "cell_type": "code",
      "source": [
        "data = movies.to_numpy()\n",
        "data"
      ],
      "metadata": {
        "colab": {
          "base_uri": "https://localhost:8080/"
        },
        "id": "fOnYbF4gXwPh",
        "outputId": "fcbbd2ea-d8e3-4fcd-e12e-caaf1e7d62ab"
      },
      "execution_count": 16,
      "outputs": [
        {
          "output_type": "execute_result",
          "data": {
            "text/plain": [
              "array([['Color', 'James Cameron', 723.0, ..., 7.9, 1.78, 33000],\n",
              "       ['Color', 'Gore Verbinski', 302.0, ..., 7.1, 2.35, 0],\n",
              "       ['Color', 'Sam Mendes', 602.0, ..., 6.8, 2.35, 85000],\n",
              "       ...,\n",
              "       ['Color', 'Benjamin Roberds', 13.0, ..., 6.3, nan, 16],\n",
              "       ['Color', 'Daniel Hsia', 14.0, ..., 6.3, 2.35, 660],\n",
              "       ['Color', 'Jon Gunn', 43.0, ..., 6.6, 1.85, 456]], dtype=object)"
            ]
          },
          "metadata": {},
          "execution_count": 16
        }
      ]
    },
    {
      "cell_type": "code",
      "source": [
        "index.to_numpy()"
      ],
      "metadata": {
        "colab": {
          "base_uri": "https://localhost:8080/"
        },
        "id": "ahNyhsMMX4je",
        "outputId": "234c2ea6-8e46-4244-e985-687702ee08a1"
      },
      "execution_count": 17,
      "outputs": [
        {
          "output_type": "execute_result",
          "data": {
            "text/plain": [
              "array([   0,    1,    2, ..., 4913, 4914, 4915])"
            ]
          },
          "metadata": {},
          "execution_count": 17
        }
      ]
    },
    {
      "cell_type": "code",
      "source": [
        "column.to_numpy()"
      ],
      "metadata": {
        "colab": {
          "base_uri": "https://localhost:8080/"
        },
        "id": "xDPxjF4jYHuk",
        "outputId": "2e4ffdfb-5c9e-4d39-986a-2e13ec31e21c"
      },
      "execution_count": 18,
      "outputs": [
        {
          "output_type": "execute_result",
          "data": {
            "text/plain": [
              "array(['color', 'director_name', 'num_critic_for_reviews', 'duration',\n",
              "       'director_facebook_likes', 'actor_3_facebook_likes',\n",
              "       'actor_2_name', 'actor_1_facebook_likes', 'gross', 'genres',\n",
              "       'actor_1_name', 'movie_title', 'num_voted_users',\n",
              "       'cast_total_facebook_likes', 'actor_3_name',\n",
              "       'facenumber_in_poster', 'plot_keywords', 'movie_imdb_link',\n",
              "       'num_user_for_reviews', 'language', 'country', 'content_rating',\n",
              "       'budget', 'title_year', 'actor_2_facebook_likes', 'imdb_score',\n",
              "       'aspect_ratio', 'movie_facebook_likes'], dtype=object)"
            ]
          },
          "metadata": {},
          "execution_count": 18
        }
      ]
    },
    {
      "cell_type": "markdown",
      "source": [
        "---\n",
        "# Understanding data types\n",
        "---\n",
        "We display the data type of each column in a DataFrame. After ingest data, it is crucial to know the type of data held in each column as it fundamentally changes the kind of operations that are possible with it.\n",
        "\n",
        "**How to do it**:  \n",
        "Use the `.dtypes` attribute to display each column name along with its data type."
      ],
      "metadata": {
        "id": "aR2gEhbWZEQz"
      }
    },
    {
      "cell_type": "code",
      "source": [
        "movies.dtypes"
      ],
      "metadata": {
        "colab": {
          "base_uri": "https://localhost:8080/"
        },
        "id": "E50VgcU3YMWa",
        "outputId": "607a9a4d-9829-4825-f93f-a3e9329aa33e"
      },
      "execution_count": 19,
      "outputs": [
        {
          "output_type": "execute_result",
          "data": {
            "text/plain": [
              "color                         object\n",
              "director_name                 object\n",
              "num_critic_for_reviews       float64\n",
              "duration                     float64\n",
              "director_facebook_likes      float64\n",
              "actor_3_facebook_likes       float64\n",
              "actor_2_name                  object\n",
              "actor_1_facebook_likes       float64\n",
              "gross                        float64\n",
              "genres                        object\n",
              "actor_1_name                  object\n",
              "movie_title                   object\n",
              "num_voted_users                int64\n",
              "cast_total_facebook_likes      int64\n",
              "actor_3_name                  object\n",
              "facenumber_in_poster         float64\n",
              "plot_keywords                 object\n",
              "movie_imdb_link               object\n",
              "num_user_for_reviews         float64\n",
              "language                      object\n",
              "country                       object\n",
              "content_rating                object\n",
              "budget                       float64\n",
              "title_year                   float64\n",
              "actor_2_facebook_likes       float64\n",
              "imdb_score                   float64\n",
              "aspect_ratio                 float64\n",
              "movie_facebook_likes           int64\n",
              "dtype: object"
            ]
          },
          "metadata": {},
          "execution_count": 19
        }
      ]
    },
    {
      "cell_type": "markdown",
      "source": [
        "Use the `.value_counts` method to return the counts of each data type"
      ],
      "metadata": {
        "id": "47ehcrOBbMbN"
      }
    },
    {
      "cell_type": "code",
      "source": [
        "movies.dtypes.value_counts()"
      ],
      "metadata": {
        "colab": {
          "base_uri": "https://localhost:8080/"
        },
        "id": "cOhvPTO6a3g-",
        "outputId": "d1f47922-6646-4dbf-9fb6-6775cf0aa6ee"
      },
      "execution_count": 20,
      "outputs": [
        {
          "output_type": "execute_result",
          "data": {
            "text/plain": [
              "float64    13\n",
              "object     12\n",
              "int64       3\n",
              "dtype: int64"
            ]
          },
          "metadata": {},
          "execution_count": 20
        }
      ]
    },
    {
      "cell_type": "markdown",
      "source": [
        "Look at the `.info` method"
      ],
      "metadata": {
        "id": "AvxmHE9pbazN"
      }
    },
    {
      "cell_type": "code",
      "source": [
        "movies.info()"
      ],
      "metadata": {
        "colab": {
          "base_uri": "https://localhost:8080/"
        },
        "id": "NwU4WEQAbTY7",
        "outputId": "e8f22afe-8e79-4fec-ca8d-2d37031e9a3e"
      },
      "execution_count": 21,
      "outputs": [
        {
          "output_type": "stream",
          "name": "stdout",
          "text": [
            "<class 'pandas.core.frame.DataFrame'>\n",
            "RangeIndex: 4916 entries, 0 to 4915\n",
            "Data columns (total 28 columns):\n",
            " #   Column                     Non-Null Count  Dtype  \n",
            "---  ------                     --------------  -----  \n",
            " 0   color                      4897 non-null   object \n",
            " 1   director_name              4814 non-null   object \n",
            " 2   num_critic_for_reviews     4867 non-null   float64\n",
            " 3   duration                   4901 non-null   float64\n",
            " 4   director_facebook_likes    4814 non-null   float64\n",
            " 5   actor_3_facebook_likes     4893 non-null   float64\n",
            " 6   actor_2_name               4903 non-null   object \n",
            " 7   actor_1_facebook_likes     4909 non-null   float64\n",
            " 8   gross                      4054 non-null   float64\n",
            " 9   genres                     4916 non-null   object \n",
            " 10  actor_1_name               4909 non-null   object \n",
            " 11  movie_title                4916 non-null   object \n",
            " 12  num_voted_users            4916 non-null   int64  \n",
            " 13  cast_total_facebook_likes  4916 non-null   int64  \n",
            " 14  actor_3_name               4893 non-null   object \n",
            " 15  facenumber_in_poster       4903 non-null   float64\n",
            " 16  plot_keywords              4764 non-null   object \n",
            " 17  movie_imdb_link            4916 non-null   object \n",
            " 18  num_user_for_reviews       4895 non-null   float64\n",
            " 19  language                   4904 non-null   object \n",
            " 20  country                    4911 non-null   object \n",
            " 21  content_rating             4616 non-null   object \n",
            " 22  budget                     4432 non-null   float64\n",
            " 23  title_year                 4810 non-null   float64\n",
            " 24  actor_2_facebook_likes     4903 non-null   float64\n",
            " 25  imdb_score                 4916 non-null   float64\n",
            " 26  aspect_ratio               4590 non-null   float64\n",
            " 27  movie_facebook_likes       4916 non-null   int64  \n",
            "dtypes: float64(13), int64(3), object(12)\n",
            "memory usage: 1.1+ MB\n"
          ]
        }
      ]
    },
    {
      "cell_type": "markdown",
      "source": [
        "Typically, when a column is of the object data type, it signals that the entire column is strings.When you load CSV files and string columns are missing values, pandas will stick in a NaN (float) for that cell.\n",
        "So the column might have both object and float (missing) values in it. \n",
        "The .dtypes attribute will show the column as an object (or O on the series). It will not show it as a mixed type column (that contains both strings and floats):"
      ],
      "metadata": {
        "id": "ZGnJ-x-dc24Q"
      }
    },
    {
      "cell_type": "code",
      "source": [
        "mixte = ['Paul', np.nan, 'Eve']\n",
        "mixte_serie = pd.Series(mixte)\n",
        "mixte_serie"
      ],
      "metadata": {
        "colab": {
          "base_uri": "https://localhost:8080/"
        },
        "id": "1-uSdgVbbfG3",
        "outputId": "c8428a89-7798-4536-b156-f0d72b2fb0ea"
      },
      "execution_count": 22,
      "outputs": [
        {
          "output_type": "execute_result",
          "data": {
            "text/plain": [
              "0    Paul\n",
              "1     NaN\n",
              "2     Eve\n",
              "dtype: object"
            ]
          },
          "metadata": {},
          "execution_count": 22
        }
      ]
    },
    {
      "cell_type": "code",
      "source": [
        "mixte_serie.dtype"
      ],
      "metadata": {
        "colab": {
          "base_uri": "https://localhost:8080/"
        },
        "id": "qGtkAp7QdQ9_",
        "outputId": "b68234fe-9917-4f4f-e434-04bff9d125aa"
      },
      "execution_count": 23,
      "outputs": [
        {
          "output_type": "execute_result",
          "data": {
            "text/plain": [
              "dtype('O')"
            ]
          },
          "metadata": {},
          "execution_count": 23
        }
      ]
    },
    {
      "cell_type": "markdown",
      "source": [
        "## Selecting a column\n",
        "Selected a single column from a DataFrame returns a Series (that has the same index as the\n",
        "DataFrame)."
      ],
      "metadata": {
        "id": "bUJm4f-ReV4b"
      }
    },
    {
      "cell_type": "code",
      "source": [
        "# Pass a column name as a string to the indexing operator to select a Series \n",
        "# of data\n",
        "movies['director_name']"
      ],
      "metadata": {
        "colab": {
          "base_uri": "https://localhost:8080/"
        },
        "id": "qpSmjuCadeZX",
        "outputId": "d008e197-4364-4365-bba2-2076e87c7b40"
      },
      "execution_count": 24,
      "outputs": [
        {
          "output_type": "execute_result",
          "data": {
            "text/plain": [
              "0           James Cameron\n",
              "1          Gore Verbinski\n",
              "2              Sam Mendes\n",
              "3       Christopher Nolan\n",
              "4             Doug Walker\n",
              "              ...        \n",
              "4911          Scott Smith\n",
              "4912                  NaN\n",
              "4913     Benjamin Roberds\n",
              "4914          Daniel Hsia\n",
              "4915             Jon Gunn\n",
              "Name: director_name, Length: 4916, dtype: object"
            ]
          },
          "metadata": {},
          "execution_count": 24
        }
      ]
    },
    {
      "cell_type": "code",
      "source": [
        "# Alternatively, may use attribute access to accomplish the same task\n",
        "movies.director_name"
      ],
      "metadata": {
        "colab": {
          "base_uri": "https://localhost:8080/"
        },
        "id": "I3xDZSHLe8yv",
        "outputId": "439eff0f-b0b4-4794-af6b-06847945eabb"
      },
      "execution_count": 25,
      "outputs": [
        {
          "output_type": "execute_result",
          "data": {
            "text/plain": [
              "0           James Cameron\n",
              "1          Gore Verbinski\n",
              "2              Sam Mendes\n",
              "3       Christopher Nolan\n",
              "4             Doug Walker\n",
              "              ...        \n",
              "4911          Scott Smith\n",
              "4912                  NaN\n",
              "4913     Benjamin Roberds\n",
              "4914          Daniel Hsia\n",
              "4915             Jon Gunn\n",
              "Name: director_name, Length: 4916, dtype: object"
            ]
          },
          "metadata": {},
          "execution_count": 25
        }
      ]
    },
    {
      "cell_type": "code",
      "source": [
        "# We can also index off of the .loc and .iloc attributes to pull out a Series. \n",
        "# The former allows us to pull out by column name, while the latter by position.\n",
        "movies.loc[:, ['director_name']]"
      ],
      "metadata": {
        "colab": {
          "base_uri": "https://localhost:8080/",
          "height": 0
        },
        "id": "85v5LXNFfRFy",
        "outputId": "3e0e9ffe-0b0d-4649-a27d-f6304f85414f"
      },
      "execution_count": 26,
      "outputs": [
        {
          "output_type": "execute_result",
          "data": {
            "text/html": [
              "\n",
              "  <div id=\"df-2323e2b9-345d-49f3-91ba-90dc53bf60ca\">\n",
              "    <div class=\"colab-df-container\">\n",
              "      <div>\n",
              "<style scoped>\n",
              "    .dataframe tbody tr th:only-of-type {\n",
              "        vertical-align: middle;\n",
              "    }\n",
              "\n",
              "    .dataframe tbody tr th {\n",
              "        vertical-align: top;\n",
              "    }\n",
              "\n",
              "    .dataframe thead th {\n",
              "        text-align: right;\n",
              "    }\n",
              "</style>\n",
              "<table border=\"1\" class=\"dataframe\">\n",
              "  <thead>\n",
              "    <tr style=\"text-align: right;\">\n",
              "      <th></th>\n",
              "      <th>director_name</th>\n",
              "    </tr>\n",
              "  </thead>\n",
              "  <tbody>\n",
              "    <tr>\n",
              "      <th>0</th>\n",
              "      <td>James Cameron</td>\n",
              "    </tr>\n",
              "    <tr>\n",
              "      <th>1</th>\n",
              "      <td>Gore Verbinski</td>\n",
              "    </tr>\n",
              "    <tr>\n",
              "      <th>2</th>\n",
              "      <td>Sam Mendes</td>\n",
              "    </tr>\n",
              "    <tr>\n",
              "      <th>3</th>\n",
              "      <td>Christopher Nolan</td>\n",
              "    </tr>\n",
              "    <tr>\n",
              "      <th>4</th>\n",
              "      <td>Doug Walker</td>\n",
              "    </tr>\n",
              "    <tr>\n",
              "      <th>...</th>\n",
              "      <td>...</td>\n",
              "    </tr>\n",
              "    <tr>\n",
              "      <th>4911</th>\n",
              "      <td>Scott Smith</td>\n",
              "    </tr>\n",
              "    <tr>\n",
              "      <th>4912</th>\n",
              "      <td>NaN</td>\n",
              "    </tr>\n",
              "    <tr>\n",
              "      <th>4913</th>\n",
              "      <td>Benjamin Roberds</td>\n",
              "    </tr>\n",
              "    <tr>\n",
              "      <th>4914</th>\n",
              "      <td>Daniel Hsia</td>\n",
              "    </tr>\n",
              "    <tr>\n",
              "      <th>4915</th>\n",
              "      <td>Jon Gunn</td>\n",
              "    </tr>\n",
              "  </tbody>\n",
              "</table>\n",
              "<p>4916 rows × 1 columns</p>\n",
              "</div>\n",
              "      <button class=\"colab-df-convert\" onclick=\"convertToInteractive('df-2323e2b9-345d-49f3-91ba-90dc53bf60ca')\"\n",
              "              title=\"Convert this dataframe to an interactive table.\"\n",
              "              style=\"display:none;\">\n",
              "        \n",
              "  <svg xmlns=\"http://www.w3.org/2000/svg\" height=\"24px\"viewBox=\"0 0 24 24\"\n",
              "       width=\"24px\">\n",
              "    <path d=\"M0 0h24v24H0V0z\" fill=\"none\"/>\n",
              "    <path d=\"M18.56 5.44l.94 2.06.94-2.06 2.06-.94-2.06-.94-.94-2.06-.94 2.06-2.06.94zm-11 1L8.5 8.5l.94-2.06 2.06-.94-2.06-.94L8.5 2.5l-.94 2.06-2.06.94zm10 10l.94 2.06.94-2.06 2.06-.94-2.06-.94-.94-2.06-.94 2.06-2.06.94z\"/><path d=\"M17.41 7.96l-1.37-1.37c-.4-.4-.92-.59-1.43-.59-.52 0-1.04.2-1.43.59L10.3 9.45l-7.72 7.72c-.78.78-.78 2.05 0 2.83L4 21.41c.39.39.9.59 1.41.59.51 0 1.02-.2 1.41-.59l7.78-7.78 2.81-2.81c.8-.78.8-2.07 0-2.86zM5.41 20L4 18.59l7.72-7.72 1.47 1.35L5.41 20z\"/>\n",
              "  </svg>\n",
              "      </button>\n",
              "      \n",
              "  <style>\n",
              "    .colab-df-container {\n",
              "      display:flex;\n",
              "      flex-wrap:wrap;\n",
              "      gap: 12px;\n",
              "    }\n",
              "\n",
              "    .colab-df-convert {\n",
              "      background-color: #E8F0FE;\n",
              "      border: none;\n",
              "      border-radius: 50%;\n",
              "      cursor: pointer;\n",
              "      display: none;\n",
              "      fill: #1967D2;\n",
              "      height: 32px;\n",
              "      padding: 0 0 0 0;\n",
              "      width: 32px;\n",
              "    }\n",
              "\n",
              "    .colab-df-convert:hover {\n",
              "      background-color: #E2EBFA;\n",
              "      box-shadow: 0px 1px 2px rgba(60, 64, 67, 0.3), 0px 1px 3px 1px rgba(60, 64, 67, 0.15);\n",
              "      fill: #174EA6;\n",
              "    }\n",
              "\n",
              "    [theme=dark] .colab-df-convert {\n",
              "      background-color: #3B4455;\n",
              "      fill: #D2E3FC;\n",
              "    }\n",
              "\n",
              "    [theme=dark] .colab-df-convert:hover {\n",
              "      background-color: #434B5C;\n",
              "      box-shadow: 0px 1px 3px 1px rgba(0, 0, 0, 0.15);\n",
              "      filter: drop-shadow(0px 1px 2px rgba(0, 0, 0, 0.3));\n",
              "      fill: #FFFFFF;\n",
              "    }\n",
              "  </style>\n",
              "\n",
              "      <script>\n",
              "        const buttonEl =\n",
              "          document.querySelector('#df-2323e2b9-345d-49f3-91ba-90dc53bf60ca button.colab-df-convert');\n",
              "        buttonEl.style.display =\n",
              "          google.colab.kernel.accessAllowed ? 'block' : 'none';\n",
              "\n",
              "        async function convertToInteractive(key) {\n",
              "          const element = document.querySelector('#df-2323e2b9-345d-49f3-91ba-90dc53bf60ca');\n",
              "          const dataTable =\n",
              "            await google.colab.kernel.invokeFunction('convertToInteractive',\n",
              "                                                     [key], {});\n",
              "          if (!dataTable) return;\n",
              "\n",
              "          const docLinkHtml = 'Like what you see? Visit the ' +\n",
              "            '<a target=\"_blank\" href=https://colab.research.google.com/notebooks/data_table.ipynb>data table notebook</a>'\n",
              "            + ' to learn more about interactive tables.';\n",
              "          element.innerHTML = '';\n",
              "          dataTable['output_type'] = 'display_data';\n",
              "          await google.colab.output.renderOutput(dataTable, element);\n",
              "          const docLink = document.createElement('div');\n",
              "          docLink.innerHTML = docLinkHtml;\n",
              "          element.appendChild(docLink);\n",
              "        }\n",
              "      </script>\n",
              "    </div>\n",
              "  </div>\n",
              "  "
            ],
            "text/plain": [
              "          director_name\n",
              "0         James Cameron\n",
              "1        Gore Verbinski\n",
              "2            Sam Mendes\n",
              "3     Christopher Nolan\n",
              "4           Doug Walker\n",
              "...                 ...\n",
              "4911        Scott Smith\n",
              "4912                NaN\n",
              "4913   Benjamin Roberds\n",
              "4914        Daniel Hsia\n",
              "4915           Jon Gunn\n",
              "\n",
              "[4916 rows x 1 columns]"
            ]
          },
          "metadata": {},
          "execution_count": 26
        }
      ]
    },
    {
      "cell_type": "code",
      "source": [
        "movies.iloc[:, [1]]"
      ],
      "metadata": {
        "colab": {
          "base_uri": "https://localhost:8080/",
          "height": 0
        },
        "id": "Or5ttonugJnH",
        "outputId": "1944587f-009a-4bd8-de7d-43051a945664"
      },
      "execution_count": 27,
      "outputs": [
        {
          "output_type": "execute_result",
          "data": {
            "text/html": [
              "\n",
              "  <div id=\"df-5880ff80-e5e6-4463-bf75-64f55e767ebf\">\n",
              "    <div class=\"colab-df-container\">\n",
              "      <div>\n",
              "<style scoped>\n",
              "    .dataframe tbody tr th:only-of-type {\n",
              "        vertical-align: middle;\n",
              "    }\n",
              "\n",
              "    .dataframe tbody tr th {\n",
              "        vertical-align: top;\n",
              "    }\n",
              "\n",
              "    .dataframe thead th {\n",
              "        text-align: right;\n",
              "    }\n",
              "</style>\n",
              "<table border=\"1\" class=\"dataframe\">\n",
              "  <thead>\n",
              "    <tr style=\"text-align: right;\">\n",
              "      <th></th>\n",
              "      <th>director_name</th>\n",
              "    </tr>\n",
              "  </thead>\n",
              "  <tbody>\n",
              "    <tr>\n",
              "      <th>0</th>\n",
              "      <td>James Cameron</td>\n",
              "    </tr>\n",
              "    <tr>\n",
              "      <th>1</th>\n",
              "      <td>Gore Verbinski</td>\n",
              "    </tr>\n",
              "    <tr>\n",
              "      <th>2</th>\n",
              "      <td>Sam Mendes</td>\n",
              "    </tr>\n",
              "    <tr>\n",
              "      <th>3</th>\n",
              "      <td>Christopher Nolan</td>\n",
              "    </tr>\n",
              "    <tr>\n",
              "      <th>4</th>\n",
              "      <td>Doug Walker</td>\n",
              "    </tr>\n",
              "    <tr>\n",
              "      <th>...</th>\n",
              "      <td>...</td>\n",
              "    </tr>\n",
              "    <tr>\n",
              "      <th>4911</th>\n",
              "      <td>Scott Smith</td>\n",
              "    </tr>\n",
              "    <tr>\n",
              "      <th>4912</th>\n",
              "      <td>NaN</td>\n",
              "    </tr>\n",
              "    <tr>\n",
              "      <th>4913</th>\n",
              "      <td>Benjamin Roberds</td>\n",
              "    </tr>\n",
              "    <tr>\n",
              "      <th>4914</th>\n",
              "      <td>Daniel Hsia</td>\n",
              "    </tr>\n",
              "    <tr>\n",
              "      <th>4915</th>\n",
              "      <td>Jon Gunn</td>\n",
              "    </tr>\n",
              "  </tbody>\n",
              "</table>\n",
              "<p>4916 rows × 1 columns</p>\n",
              "</div>\n",
              "      <button class=\"colab-df-convert\" onclick=\"convertToInteractive('df-5880ff80-e5e6-4463-bf75-64f55e767ebf')\"\n",
              "              title=\"Convert this dataframe to an interactive table.\"\n",
              "              style=\"display:none;\">\n",
              "        \n",
              "  <svg xmlns=\"http://www.w3.org/2000/svg\" height=\"24px\"viewBox=\"0 0 24 24\"\n",
              "       width=\"24px\">\n",
              "    <path d=\"M0 0h24v24H0V0z\" fill=\"none\"/>\n",
              "    <path d=\"M18.56 5.44l.94 2.06.94-2.06 2.06-.94-2.06-.94-.94-2.06-.94 2.06-2.06.94zm-11 1L8.5 8.5l.94-2.06 2.06-.94-2.06-.94L8.5 2.5l-.94 2.06-2.06.94zm10 10l.94 2.06.94-2.06 2.06-.94-2.06-.94-.94-2.06-.94 2.06-2.06.94z\"/><path d=\"M17.41 7.96l-1.37-1.37c-.4-.4-.92-.59-1.43-.59-.52 0-1.04.2-1.43.59L10.3 9.45l-7.72 7.72c-.78.78-.78 2.05 0 2.83L4 21.41c.39.39.9.59 1.41.59.51 0 1.02-.2 1.41-.59l7.78-7.78 2.81-2.81c.8-.78.8-2.07 0-2.86zM5.41 20L4 18.59l7.72-7.72 1.47 1.35L5.41 20z\"/>\n",
              "  </svg>\n",
              "      </button>\n",
              "      \n",
              "  <style>\n",
              "    .colab-df-container {\n",
              "      display:flex;\n",
              "      flex-wrap:wrap;\n",
              "      gap: 12px;\n",
              "    }\n",
              "\n",
              "    .colab-df-convert {\n",
              "      background-color: #E8F0FE;\n",
              "      border: none;\n",
              "      border-radius: 50%;\n",
              "      cursor: pointer;\n",
              "      display: none;\n",
              "      fill: #1967D2;\n",
              "      height: 32px;\n",
              "      padding: 0 0 0 0;\n",
              "      width: 32px;\n",
              "    }\n",
              "\n",
              "    .colab-df-convert:hover {\n",
              "      background-color: #E2EBFA;\n",
              "      box-shadow: 0px 1px 2px rgba(60, 64, 67, 0.3), 0px 1px 3px 1px rgba(60, 64, 67, 0.15);\n",
              "      fill: #174EA6;\n",
              "    }\n",
              "\n",
              "    [theme=dark] .colab-df-convert {\n",
              "      background-color: #3B4455;\n",
              "      fill: #D2E3FC;\n",
              "    }\n",
              "\n",
              "    [theme=dark] .colab-df-convert:hover {\n",
              "      background-color: #434B5C;\n",
              "      box-shadow: 0px 1px 3px 1px rgba(0, 0, 0, 0.15);\n",
              "      filter: drop-shadow(0px 1px 2px rgba(0, 0, 0, 0.3));\n",
              "      fill: #FFFFFF;\n",
              "    }\n",
              "  </style>\n",
              "\n",
              "      <script>\n",
              "        const buttonEl =\n",
              "          document.querySelector('#df-5880ff80-e5e6-4463-bf75-64f55e767ebf button.colab-df-convert');\n",
              "        buttonEl.style.display =\n",
              "          google.colab.kernel.accessAllowed ? 'block' : 'none';\n",
              "\n",
              "        async function convertToInteractive(key) {\n",
              "          const element = document.querySelector('#df-5880ff80-e5e6-4463-bf75-64f55e767ebf');\n",
              "          const dataTable =\n",
              "            await google.colab.kernel.invokeFunction('convertToInteractive',\n",
              "                                                     [key], {});\n",
              "          if (!dataTable) return;\n",
              "\n",
              "          const docLinkHtml = 'Like what you see? Visit the ' +\n",
              "            '<a target=\"_blank\" href=https://colab.research.google.com/notebooks/data_table.ipynb>data table notebook</a>'\n",
              "            + ' to learn more about interactive tables.';\n",
              "          element.innerHTML = '';\n",
              "          dataTable['output_type'] = 'display_data';\n",
              "          await google.colab.output.renderOutput(dataTable, element);\n",
              "          const docLink = document.createElement('div');\n",
              "          docLink.innerHTML = docLinkHtml;\n",
              "          element.appendChild(docLink);\n",
              "        }\n",
              "      </script>\n",
              "    </div>\n",
              "  </div>\n",
              "  "
            ],
            "text/plain": [
              "          director_name\n",
              "0         James Cameron\n",
              "1        Gore Verbinski\n",
              "2            Sam Mendes\n",
              "3     Christopher Nolan\n",
              "4           Doug Walker\n",
              "...                 ...\n",
              "4911        Scott Smith\n",
              "4912                NaN\n",
              "4913   Benjamin Roberds\n",
              "4914        Daniel Hsia\n",
              "4915           Jon Gunn\n",
              "\n",
              "[4916 rows x 1 columns]"
            ]
          },
          "metadata": {},
          "execution_count": 27
        }
      ]
    },
    {
      "cell_type": "code",
      "source": [
        "s1 = movies.loc[:, 'director_name']\n",
        "s1"
      ],
      "metadata": {
        "colab": {
          "base_uri": "https://localhost:8080/"
        },
        "id": "vtW3Pu9dgN9u",
        "outputId": "29b78333-31ae-4928-c59d-9e5efede312d"
      },
      "execution_count": 28,
      "outputs": [
        {
          "output_type": "execute_result",
          "data": {
            "text/plain": [
              "0           James Cameron\n",
              "1          Gore Verbinski\n",
              "2              Sam Mendes\n",
              "3       Christopher Nolan\n",
              "4             Doug Walker\n",
              "              ...        \n",
              "4911          Scott Smith\n",
              "4912                  NaN\n",
              "4913     Benjamin Roberds\n",
              "4914          Daniel Hsia\n",
              "4915             Jon Gunn\n",
              "Name: director_name, Length: 4916, dtype: object"
            ]
          },
          "metadata": {},
          "execution_count": 28
        }
      ]
    },
    {
      "cell_type": "code",
      "source": [
        "# Serie index\n",
        "s1.index"
      ],
      "metadata": {
        "colab": {
          "base_uri": "https://localhost:8080/"
        },
        "id": "n8y-_W6VglFl",
        "outputId": "a764a6a4-8698-4037-900b-bdf4c97222dc"
      },
      "execution_count": 29,
      "outputs": [
        {
          "output_type": "execute_result",
          "data": {
            "text/plain": [
              "RangeIndex(start=0, stop=4916, step=1)"
            ]
          },
          "metadata": {},
          "execution_count": 29
        }
      ]
    },
    {
      "cell_type": "code",
      "source": [
        "# data type\n",
        "s1.dtype"
      ],
      "metadata": {
        "colab": {
          "base_uri": "https://localhost:8080/"
        },
        "id": "Ca9s-ssRg-04",
        "outputId": "fd711fec-36d4-4e0a-ff3a-b8fdb6258679"
      },
      "execution_count": 30,
      "outputs": [
        {
          "output_type": "execute_result",
          "data": {
            "text/plain": [
              "dtype('O')"
            ]
          },
          "metadata": {},
          "execution_count": 30
        }
      ]
    },
    {
      "cell_type": "code",
      "source": [
        "# length\n",
        "s1.size"
      ],
      "metadata": {
        "colab": {
          "base_uri": "https://localhost:8080/"
        },
        "id": "DbYMK6TjhCTT",
        "outputId": "2b9d8fc6-7a5d-40bb-dbdb-5545196d22ef"
      },
      "execution_count": 31,
      "outputs": [
        {
          "output_type": "execute_result",
          "data": {
            "text/plain": [
              "4916"
            ]
          },
          "metadata": {},
          "execution_count": 31
        }
      ]
    },
    {
      "cell_type": "code",
      "source": [
        "# name\n",
        "s1.name"
      ],
      "metadata": {
        "colab": {
          "base_uri": "https://localhost:8080/",
          "height": 0
        },
        "id": "HSU1VFeDhJtF",
        "outputId": "45dc6b43-fe88-4ad1-e08c-4ac766a4db0b"
      },
      "execution_count": 32,
      "outputs": [
        {
          "output_type": "execute_result",
          "data": {
            "application/vnd.google.colaboratory.intrinsic+json": {
              "type": "string"
            },
            "text/plain": [
              "'director_name'"
            ]
          },
          "metadata": {},
          "execution_count": 32
        }
      ]
    },
    {
      "cell_type": "code",
      "source": [
        "# Verify that the output is a Series\n",
        "type(s1)"
      ],
      "metadata": {
        "colab": {
          "base_uri": "https://localhost:8080/"
        },
        "id": "_gxq6rR2hSDa",
        "outputId": "8b95600d-3710-4d26-d499-60737a6bce3e"
      },
      "execution_count": 33,
      "outputs": [
        {
          "output_type": "execute_result",
          "data": {
            "text/plain": [
              "pandas.core.series.Series"
            ]
          },
          "metadata": {},
          "execution_count": 33
        }
      ]
    },
    {
      "cell_type": "markdown",
      "source": [
        "Note that even though the type is reported as object, because there are missing values, the Series has both floats and strings in it."
      ],
      "metadata": {
        "id": "ilszYsS8hvq-"
      }
    },
    {
      "cell_type": "code",
      "source": [
        "s1.apply(type).unique()"
      ],
      "metadata": {
        "colab": {
          "base_uri": "https://localhost:8080/"
        },
        "id": "kcOsj26khcZX",
        "outputId": "f568f2e8-2794-4bd3-bb1f-99b97845eb12"
      },
      "execution_count": 34,
      "outputs": [
        {
          "output_type": "execute_result",
          "data": {
            "text/plain": [
              "array([<class 'str'>, <class 'float'>], dtype=object)"
            ]
          },
          "metadata": {},
          "execution_count": 34
        }
      ]
    },
    {
      "cell_type": "markdown",
      "source": [
        "## Calling Series methods\n",
        "Both Series and DataFrames have a tremendous amount of power. We can use the built-in\n",
        "dir function to uncover all the attributes and methods of a Series. In the following code, we\n",
        "also show the number of attributes and methods common to both Series and DataFrames.\n",
        "Both of these objects share the vast majority of attribute and method names"
      ],
      "metadata": {
        "id": "5RFVVL8DlVuO"
      }
    },
    {
      "cell_type": "code",
      "source": [
        "s_attribute_mth = set(dir(pd.Series))\n",
        "print('Series attribute methods:', len(s_attribute_mth))"
      ],
      "metadata": {
        "colab": {
          "base_uri": "https://localhost:8080/"
        },
        "id": "-OAqa-H7h8Z6",
        "outputId": "7e31888a-256d-4654-bfac-aa3a8a09270f"
      },
      "execution_count": 35,
      "outputs": [
        {
          "output_type": "stream",
          "name": "stdout",
          "text": [
            "Series attribute methods: 425\n"
          ]
        }
      ]
    },
    {
      "cell_type": "code",
      "source": [
        "df_attribute_mth = set(dir(pd.DataFrame))\n",
        "print('Dataframe attribute methods:', len(df_attribute_mth))"
      ],
      "metadata": {
        "colab": {
          "base_uri": "https://localhost:8080/"
        },
        "id": "Dx9utm5GmA-Q",
        "outputId": "3442ec92-8e6b-4388-82c0-50818ef0ccd7"
      },
      "execution_count": 36,
      "outputs": [
        {
          "output_type": "stream",
          "name": "stdout",
          "text": [
            "Dataframe attribute methods: 427\n"
          ]
        }
      ]
    },
    {
      "cell_type": "code",
      "source": [
        "common = s_attribute_mth & df_attribute_mth\n",
        "print('Common methods btw Series and Dataframes: ', len(common))"
      ],
      "metadata": {
        "colab": {
          "base_uri": "https://localhost:8080/"
        },
        "id": "RcAKh7YWmbuL",
        "outputId": "182c007f-6d3a-4c4a-d7da-218f35305122"
      },
      "execution_count": 37,
      "outputs": [
        {
          "output_type": "stream",
          "name": "stdout",
          "text": [
            "Common methods btw Series and Dataframes:  372\n"
          ]
        }
      ]
    },
    {
      "cell_type": "code",
      "source": [
        "# Select two Series with different data types\n",
        "director = movies['director_name']\n",
        "fb_likes = movies['actor_1_facebook_likes']"
      ],
      "metadata": {
        "id": "hUJ6wcXZmud4"
      },
      "execution_count": 38,
      "outputs": []
    },
    {
      "cell_type": "code",
      "source": [
        "print(director.dtype)\n",
        "print(fb_likes.dtype)"
      ],
      "metadata": {
        "colab": {
          "base_uri": "https://localhost:8080/"
        },
        "id": "egNudo-5n0CB",
        "outputId": "bcb374dc-1065-4c4e-db4a-b83eff466e69"
      },
      "execution_count": 39,
      "outputs": [
        {
          "output_type": "stream",
          "name": "stdout",
          "text": [
            "object\n",
            "float64\n"
          ]
        }
      ]
    },
    {
      "cell_type": "code",
      "source": [
        "# View some of the director serie data\n",
        "director.sample(n=30, random_state=0)"
      ],
      "metadata": {
        "colab": {
          "base_uri": "https://localhost:8080/"
        },
        "id": "VLMUfbGyn6FJ",
        "outputId": "048cb793-7ab5-48a9-aada-817cbea4630c"
      },
      "execution_count": 40,
      "outputs": [
        {
          "output_type": "execute_result",
          "data": {
            "text/plain": [
              "3327              Will Gluck\n",
              "1013              Doug Liman\n",
              "3561        Patrick Stettner\n",
              "1708          Laurent Tirard\n",
              "873             Karyn Kusama\n",
              "1332        Francis Lawrence\n",
              "3989        Alfred Hitchcock\n",
              "304          Martin Scorsese\n",
              "601               Gary Shore\n",
              "1826    Richard Attenborough\n",
              "3233            Danny Leiner\n",
              "405        Steven Soderbergh\n",
              "1259           Roger Michell\n",
              "716             F. Gary Gray\n",
              "3994          Richard Brooks\n",
              "130          Kenneth Branagh\n",
              "4271         Morgan Spurlock\n",
              "4052            Paolo Monico\n",
              "3429              Ethan Coen\n",
              "2478            Trent Cooper\n",
              "1706          Andrew Dominik\n",
              "3391              Jeta Amata\n",
              "861                Paul King\n",
              "4620         Patrick Creadon\n",
              "1091             Jesse Dylan\n",
              "1581          Steve Oedekerk\n",
              "1702             Steve Boyum\n",
              "1109            Harold Ramis\n",
              "3948         Justin Kerrigan\n",
              "3675          Barry Levinson\n",
              "Name: director_name, dtype: object"
            ]
          },
          "metadata": {},
          "execution_count": 40
        }
      ]
    },
    {
      "cell_type": "code",
      "source": [
        "# View some of the fb likes serie data\n",
        "fb_likes.sample(n=30, random_state=0)\n"
      ],
      "metadata": {
        "colab": {
          "base_uri": "https://localhost:8080/"
        },
        "id": "NXQWH2JgoOjC",
        "outputId": "70ca5d17-ebb7-49bd-e34f-254ad74640f0"
      },
      "execution_count": 41,
      "outputs": [
        {
          "output_type": "execute_result",
          "data": {
            "text/plain": [
              "3327    15000.0\n",
              "1013     6000.0\n",
              "3561      944.0\n",
              "1708      295.0\n",
              "873      9000.0\n",
              "1332    21000.0\n",
              "3989       18.0\n",
              "304     29000.0\n",
              "601      3000.0\n",
              "1826      385.0\n",
              "3233      982.0\n",
              "405     14000.0\n",
              "1259      293.0\n",
              "716     26000.0\n",
              "3994      556.0\n",
              "130     26000.0\n",
              "4271    16000.0\n",
              "4052     1000.0\n",
              "3429      816.0\n",
              "2478      690.0\n",
              "1706    11000.0\n",
              "3391      262.0\n",
              "861       838.0\n",
              "4620      196.0\n",
              "1091    14000.0\n",
              "1581      531.0\n",
              "1702    17000.0\n",
              "1109      905.0\n",
              "3948      798.0\n",
              "3675      801.0\n",
              "Name: actor_1_facebook_likes, dtype: float64"
            ]
          },
          "metadata": {},
          "execution_count": 41
        }
      ]
    },
    {
      "cell_type": "markdown",
      "source": [
        "The data type of the Series usually determines which of the methods will be the most\n",
        "useful. For instance, one of the most useful methods for the *object* data type Series\n",
        "is `.value_counts`, which calculates the frequencies"
      ],
      "metadata": {
        "id": "VjEZamVbonED"
      }
    },
    {
      "cell_type": "code",
      "source": [
        "director.value_counts()"
      ],
      "metadata": {
        "colab": {
          "base_uri": "https://localhost:8080/"
        },
        "id": "JbouMHBeoXUZ",
        "outputId": "b484fc63-8d39-42d3-ce8a-faf1adbc5b38"
      },
      "execution_count": 42,
      "outputs": [
        {
          "output_type": "execute_result",
          "data": {
            "text/plain": [
              "Steven Spielberg    26\n",
              "Woody Allen         22\n",
              "Martin Scorsese     20\n",
              "Clint Eastwood      20\n",
              "Ridley Scott        16\n",
              "                    ..\n",
              "Richard J. Lewis     1\n",
              "Kief Davidson        1\n",
              "Derrick Borte        1\n",
              "Maria Maggenti       1\n",
              "Gabe Ibáñez          1\n",
              "Name: director_name, Length: 2397, dtype: int64"
            ]
          },
          "metadata": {},
          "execution_count": 42
        }
      ]
    },
    {
      "cell_type": "code",
      "source": [
        "director.value_counts(normalize=True)"
      ],
      "metadata": {
        "colab": {
          "base_uri": "https://localhost:8080/"
        },
        "id": "ebhgPfrqwSSc",
        "outputId": "74a92150-fbac-427b-dc09-6e3d553b075a"
      },
      "execution_count": 43,
      "outputs": [
        {
          "output_type": "execute_result",
          "data": {
            "text/plain": [
              "Steven Spielberg    0.005401\n",
              "Woody Allen         0.004570\n",
              "Martin Scorsese     0.004155\n",
              "Clint Eastwood      0.004155\n",
              "Ridley Scott        0.003324\n",
              "                      ...   \n",
              "Richard J. Lewis    0.000208\n",
              "Kief Davidson       0.000208\n",
              "Derrick Borte       0.000208\n",
              "Maria Maggenti      0.000208\n",
              "Gabe Ibáñez         0.000208\n",
              "Name: director_name, Length: 2397, dtype: float64"
            ]
          },
          "metadata": {},
          "execution_count": 43
        }
      ]
    },
    {
      "cell_type": "markdown",
      "source": [
        "The `.value_counts` method is typically more useful for Series with object data\n",
        "types but can occasionally provide insight into numeric Series as well. Used with fb_\n",
        "likes, it appears that higher numbers have been rounded to the nearest thousand\n",
        "as it is unlikely that so many movies received exactly 1,000 likes"
      ],
      "metadata": {
        "id": "PlkB7dFHpD9_"
      }
    },
    {
      "cell_type": "code",
      "source": [
        "fb_likes.value_counts()"
      ],
      "metadata": {
        "colab": {
          "base_uri": "https://localhost:8080/"
        },
        "id": "nltXD3qNovel",
        "outputId": "33d16e1f-bddb-4e49-a1f5-fb8170b4c5f3"
      },
      "execution_count": 44,
      "outputs": [
        {
          "output_type": "execute_result",
          "data": {
            "text/plain": [
              "1000.0     436\n",
              "11000.0    206\n",
              "2000.0     189\n",
              "3000.0     150\n",
              "12000.0    131\n",
              "          ... \n",
              "362.0        1\n",
              "216.0        1\n",
              "859.0        1\n",
              "225.0        1\n",
              "334.0        1\n",
              "Name: actor_1_facebook_likes, Length: 877, dtype: int64"
            ]
          },
          "metadata": {},
          "execution_count": 44
        }
      ]
    },
    {
      "cell_type": "markdown",
      "source": [
        "Counting the number of elements in the Series may be done with the `.size` or `.shape` attribute or the built-in `len` function. \n",
        "The `.unique` method will return a NumPy array with the unique values"
      ],
      "metadata": {
        "id": "gFTPMWEpplZh"
      }
    },
    {
      "cell_type": "code",
      "source": [
        "director.size"
      ],
      "metadata": {
        "colab": {
          "base_uri": "https://localhost:8080/"
        },
        "id": "W2jhIhB_pJUk",
        "outputId": "81b06d63-68df-47c9-b786-d113698618d8"
      },
      "execution_count": 45,
      "outputs": [
        {
          "output_type": "execute_result",
          "data": {
            "text/plain": [
              "4916"
            ]
          },
          "metadata": {},
          "execution_count": 45
        }
      ]
    },
    {
      "cell_type": "code",
      "source": [
        "director.shape[0]"
      ],
      "metadata": {
        "colab": {
          "base_uri": "https://localhost:8080/"
        },
        "id": "1sDnYWKLp2QX",
        "outputId": "aa7c3743-de68-458d-cad4-17129f4a9cad"
      },
      "execution_count": 46,
      "outputs": [
        {
          "output_type": "execute_result",
          "data": {
            "text/plain": [
              "4916"
            ]
          },
          "metadata": {},
          "execution_count": 46
        }
      ]
    },
    {
      "cell_type": "code",
      "source": [
        "len(director)"
      ],
      "metadata": {
        "colab": {
          "base_uri": "https://localhost:8080/"
        },
        "id": "o4inHPPup4tx",
        "outputId": "7aa04826-4ebd-4943-cebd-f4598d154e28"
      },
      "execution_count": 47,
      "outputs": [
        {
          "output_type": "execute_result",
          "data": {
            "text/plain": [
              "4916"
            ]
          },
          "metadata": {},
          "execution_count": 47
        }
      ]
    },
    {
      "cell_type": "code",
      "source": [
        "director.unique()"
      ],
      "metadata": {
        "colab": {
          "base_uri": "https://localhost:8080/"
        },
        "id": "GEQ3QJaQp8J3",
        "outputId": "484b9dd1-72b3-40f0-b161-0541d5aef685"
      },
      "execution_count": 48,
      "outputs": [
        {
          "output_type": "execute_result",
          "data": {
            "text/plain": [
              "array(['James Cameron', 'Gore Verbinski', 'Sam Mendes', ...,\n",
              "       'Scott Smith', 'Benjamin Roberds', 'Daniel Hsia'], dtype=object)"
            ]
          },
          "metadata": {},
          "execution_count": 48
        }
      ]
    },
    {
      "cell_type": "markdown",
      "source": [
        "Additionally, there is the `.count` method, which doesn't return the count of items, but the number of non-missing values"
      ],
      "metadata": {
        "id": "c8yhWNfiqyFr"
      }
    },
    {
      "cell_type": "code",
      "source": [
        "director.count()"
      ],
      "metadata": {
        "colab": {
          "base_uri": "https://localhost:8080/"
        },
        "id": "LgxqHcm0p_rN",
        "outputId": "5507f93f-f74e-45bb-c3b6-715fa0ef3aa3"
      },
      "execution_count": 49,
      "outputs": [
        {
          "output_type": "execute_result",
          "data": {
            "text/plain": [
              "4814"
            ]
          },
          "metadata": {},
          "execution_count": 49
        }
      ]
    },
    {
      "cell_type": "markdown",
      "source": [
        "Basic summary statistics are provided with `.min`, `.max`, `.mean`, \n",
        "`.median`, and `.std`:"
      ],
      "metadata": {
        "id": "Yz3dVmgirb8B"
      }
    },
    {
      "cell_type": "code",
      "source": [
        "fb_likes.min()"
      ],
      "metadata": {
        "colab": {
          "base_uri": "https://localhost:8080/"
        },
        "id": "mytLis9HqFBX",
        "outputId": "f1d1256b-629e-4f21-a15d-dd8599771eb8"
      },
      "execution_count": 50,
      "outputs": [
        {
          "output_type": "execute_result",
          "data": {
            "text/plain": [
              "0.0"
            ]
          },
          "metadata": {},
          "execution_count": 50
        }
      ]
    },
    {
      "cell_type": "code",
      "source": [
        "fb_likes.max()"
      ],
      "metadata": {
        "colab": {
          "base_uri": "https://localhost:8080/"
        },
        "id": "b-YYABT3rEmg",
        "outputId": "9323f34d-d8e7-409c-c731-5c92d86ee02c"
      },
      "execution_count": 51,
      "outputs": [
        {
          "output_type": "execute_result",
          "data": {
            "text/plain": [
              "640000.0"
            ]
          },
          "metadata": {},
          "execution_count": 51
        }
      ]
    },
    {
      "cell_type": "code",
      "source": [
        "fb_likes.mean()"
      ],
      "metadata": {
        "colab": {
          "base_uri": "https://localhost:8080/"
        },
        "id": "kqlq33Ctr1Za",
        "outputId": "2d341ff4-5953-48fd-8abb-b5bec6203256"
      },
      "execution_count": 52,
      "outputs": [
        {
          "output_type": "execute_result",
          "data": {
            "text/plain": [
              "6494.488490527602"
            ]
          },
          "metadata": {},
          "execution_count": 52
        }
      ]
    },
    {
      "cell_type": "code",
      "source": [
        "fb_likes.median()"
      ],
      "metadata": {
        "colab": {
          "base_uri": "https://localhost:8080/"
        },
        "id": "5WVcC-tFr5Sk",
        "outputId": "d7461e82-8b07-4919-b39c-aa2669f04f60"
      },
      "execution_count": 53,
      "outputs": [
        {
          "output_type": "execute_result",
          "data": {
            "text/plain": [
              "982.0"
            ]
          },
          "metadata": {},
          "execution_count": 53
        }
      ]
    },
    {
      "cell_type": "code",
      "source": [
        "fb_likes.std()"
      ],
      "metadata": {
        "colab": {
          "base_uri": "https://localhost:8080/"
        },
        "id": "E8IlU-sSr9KF",
        "outputId": "0083e942-08b4-4c94-f924-e45809d423f2"
      },
      "execution_count": 54,
      "outputs": [
        {
          "output_type": "execute_result",
          "data": {
            "text/plain": [
              "15106.986883848309"
            ]
          },
          "metadata": {},
          "execution_count": 54
        }
      ]
    },
    {
      "cell_type": "markdown",
      "source": [
        "may use the `.describe` method to return both the summary\n",
        "statistics and a few of the quantiles at once. When `.describe` is used with an object data type column, a completely different output is returned"
      ],
      "metadata": {
        "id": "Kwv8AkSVsPv-"
      }
    },
    {
      "cell_type": "code",
      "source": [
        "fb_likes.describe()"
      ],
      "metadata": {
        "colab": {
          "base_uri": "https://localhost:8080/"
        },
        "id": "C8qf-yw5sAlM",
        "outputId": "5d91095b-0bcf-4f80-c1ae-a72c2d90ab4c"
      },
      "execution_count": 55,
      "outputs": [
        {
          "output_type": "execute_result",
          "data": {
            "text/plain": [
              "count      4909.000000\n",
              "mean       6494.488491\n",
              "std       15106.986884\n",
              "min           0.000000\n",
              "25%         607.000000\n",
              "50%         982.000000\n",
              "75%       11000.000000\n",
              "max      640000.000000\n",
              "Name: actor_1_facebook_likes, dtype: float64"
            ]
          },
          "metadata": {},
          "execution_count": 55
        }
      ]
    },
    {
      "cell_type": "code",
      "source": [
        "director.describe()"
      ],
      "metadata": {
        "colab": {
          "base_uri": "https://localhost:8080/"
        },
        "id": "i5l4hXrrsbXP",
        "outputId": "e66c045b-43a1-4185-ed83-9e0c7d0a3960"
      },
      "execution_count": 56,
      "outputs": [
        {
          "output_type": "execute_result",
          "data": {
            "text/plain": [
              "count                 4814\n",
              "unique                2397\n",
              "top       Steven Spielberg\n",
              "freq                    26\n",
              "Name: director_name, dtype: object"
            ]
          },
          "metadata": {},
          "execution_count": 56
        }
      ]
    },
    {
      "cell_type": "markdown",
      "source": [
        "The `.quantile` method calculates the quantile of numeric data. Note that if you\n",
        "pass in a **scaler**, you will get **scalar** output, but if you pass in a **list**, the output is\n",
        "a **pandas Series**:"
      ],
      "metadata": {
        "id": "C3oE45EztHSe"
      }
    },
    {
      "cell_type": "code",
      "source": [
        "fb_likes.quantile(.25)"
      ],
      "metadata": {
        "colab": {
          "base_uri": "https://localhost:8080/"
        },
        "id": "1xZ7D8mksfGw",
        "outputId": "2ac197c8-c34f-43f6-8504-53313c2c7230"
      },
      "execution_count": 57,
      "outputs": [
        {
          "output_type": "execute_result",
          "data": {
            "text/plain": [
              "607.0"
            ]
          },
          "metadata": {},
          "execution_count": 57
        }
      ]
    },
    {
      "cell_type": "code",
      "source": [
        "brn = [.25, .5, .75, .95]\n",
        "fb_likes_brn = fb_likes.quantile(brn)\n",
        "fb_likes_brn"
      ],
      "metadata": {
        "colab": {
          "base_uri": "https://localhost:8080/"
        },
        "id": "XAUnSTzatj9s",
        "outputId": "ebc62d7b-1a7e-4620-ff03-a512f4f22983"
      },
      "execution_count": 58,
      "outputs": [
        {
          "output_type": "execute_result",
          "data": {
            "text/plain": [
              "0.25      607.0\n",
              "0.50      982.0\n",
              "0.75    11000.0\n",
              "0.95    23000.0\n",
              "Name: actor_1_facebook_likes, dtype: float64"
            ]
          },
          "metadata": {},
          "execution_count": 58
        }
      ]
    },
    {
      "cell_type": "code",
      "source": [
        "type(fb_likes_brn)"
      ],
      "metadata": {
        "colab": {
          "base_uri": "https://localhost:8080/"
        },
        "id": "yK6N-hrJtyf7",
        "outputId": "9f88a78e-bb4a-4e78-b48c-97146ddd9d4c"
      },
      "execution_count": 59,
      "outputs": [
        {
          "output_type": "execute_result",
          "data": {
            "text/plain": [
              "pandas.core.series.Series"
            ]
          },
          "metadata": {},
          "execution_count": 59
        }
      ]
    },
    {
      "cell_type": "markdown",
      "source": [
        "## Missing values"
      ],
      "metadata": {
        "id": "V2ldJUgAulKo"
      }
    },
    {
      "cell_type": "code",
      "source": [
        "fb_likes.isnull().sum()"
      ],
      "metadata": {
        "colab": {
          "base_uri": "https://localhost:8080/"
        },
        "id": "sst0J0GjuN7n",
        "outputId": "36e997a7-7b9d-4f00-d069-c9e9fbb77330"
      },
      "execution_count": 60,
      "outputs": [
        {
          "output_type": "execute_result",
          "data": {
            "text/plain": [
              "7"
            ]
          },
          "metadata": {},
          "execution_count": 60
        }
      ]
    },
    {
      "cell_type": "code",
      "source": [
        "director.isnull().sum()"
      ],
      "metadata": {
        "colab": {
          "base_uri": "https://localhost:8080/"
        },
        "id": "PHoz-CF3usCb",
        "outputId": "e1dc0f44-b820-4af6-b30d-528c79908498"
      },
      "execution_count": 61,
      "outputs": [
        {
          "output_type": "execute_result",
          "data": {
            "text/plain": [
              "102"
            ]
          },
          "metadata": {},
          "execution_count": 61
        }
      ]
    },
    {
      "cell_type": "code",
      "source": [
        "# hasnans\n",
        "director.hasnans"
      ],
      "metadata": {
        "colab": {
          "base_uri": "https://localhost:8080/"
        },
        "id": "ZH5u1ph9vKDV",
        "outputId": "948e2183-a323-44a1-e39e-3e8eae2e1eac"
      },
      "execution_count": 62,
      "outputs": [
        {
          "output_type": "execute_result",
          "data": {
            "text/plain": [
              "True"
            ]
          },
          "metadata": {},
          "execution_count": 62
        }
      ]
    },
    {
      "cell_type": "code",
      "source": [
        "director.isna().sum()"
      ],
      "metadata": {
        "colab": {
          "base_uri": "https://localhost:8080/"
        },
        "id": "lHi17V68wpcp",
        "outputId": "8b9ded27-12c3-4efc-e020-40740bd512ca"
      },
      "execution_count": 63,
      "outputs": [
        {
          "output_type": "execute_result",
          "data": {
            "text/plain": [
              "102"
            ]
          },
          "metadata": {},
          "execution_count": 63
        }
      ]
    },
    {
      "cell_type": "code",
      "source": [
        "director.isnull().sum()"
      ],
      "metadata": {
        "colab": {
          "base_uri": "https://localhost:8080/"
        },
        "id": "1iHmcS-qw0of",
        "outputId": "088770ab-8dc2-4018-f82d-85baf0a0178c"
      },
      "execution_count": 64,
      "outputs": [
        {
          "output_type": "execute_result",
          "data": {
            "text/plain": [
              "102"
            ]
          },
          "metadata": {},
          "execution_count": 64
        }
      ]
    },
    {
      "cell_type": "code",
      "source": [
        "director.notna().sum()"
      ],
      "metadata": {
        "colab": {
          "base_uri": "https://localhost:8080/"
        },
        "id": "ukG8osJhw9vS",
        "outputId": "1dd29b20-b0c4-49e4-b6cf-7144b63fb4a3"
      },
      "execution_count": 65,
      "outputs": [
        {
          "output_type": "execute_result",
          "data": {
            "text/plain": [
              "4814"
            ]
          },
          "metadata": {},
          "execution_count": 65
        }
      ]
    },
    {
      "cell_type": "markdown",
      "source": [
        "## Series operations"
      ],
      "metadata": {
        "id": "GEeUODGvxiCh"
      }
    },
    {
      "cell_type": "code",
      "source": [
        "imdb_score = movies['imdb_score']\n",
        "part_imdb = imdb_score.sample(n=30, random_state=0)\n",
        "part_imdb"
      ],
      "metadata": {
        "colab": {
          "base_uri": "https://localhost:8080/"
        },
        "id": "c_Zco6gbxH9m",
        "outputId": "65590a29-6f9f-4db0-80cf-3d1e0ae09f06"
      },
      "execution_count": 66,
      "outputs": [
        {
          "output_type": "execute_result",
          "data": {
            "text/plain": [
              "3327    7.1\n",
              "1013    6.8\n",
              "3561    6.4\n",
              "1708    7.2\n",
              "873     5.5\n",
              "1332    6.9\n",
              "3989    6.7\n",
              "304     8.2\n",
              "601     6.3\n",
              "1826    7.4\n",
              "3233    7.1\n",
              "405     6.9\n",
              "1259    6.5\n",
              "716     7.0\n",
              "3994    7.9\n",
              "130     7.0\n",
              "4271    6.6\n",
              "4052    5.1\n",
              "3429    7.0\n",
              "2478    3.1\n",
              "1706    7.5\n",
              "3391    5.6\n",
              "861     7.2\n",
              "4620    7.4\n",
              "1091    5.6\n",
              "1581    6.3\n",
              "1702    4.0\n",
              "1109    6.0\n",
              "3948    7.1\n",
              "3675    7.2\n",
              "Name: imdb_score, dtype: float64"
            ]
          },
          "metadata": {},
          "execution_count": 66
        }
      ]
    },
    {
      "cell_type": "code",
      "source": [
        "part_imdb += 1"
      ],
      "metadata": {
        "id": "JS2xts4qyl2j"
      },
      "execution_count": 67,
      "outputs": []
    },
    {
      "cell_type": "code",
      "source": [
        "part_imdb"
      ],
      "metadata": {
        "colab": {
          "base_uri": "https://localhost:8080/"
        },
        "id": "fqHmcv4vyt1x",
        "outputId": "8dc06ae7-15f6-4c07-ada2-5a5334fe99f4"
      },
      "execution_count": 68,
      "outputs": [
        {
          "output_type": "execute_result",
          "data": {
            "text/plain": [
              "3327    8.1\n",
              "1013    7.8\n",
              "3561    7.4\n",
              "1708    8.2\n",
              "873     6.5\n",
              "1332    7.9\n",
              "3989    7.7\n",
              "304     9.2\n",
              "601     7.3\n",
              "1826    8.4\n",
              "3233    8.1\n",
              "405     7.9\n",
              "1259    7.5\n",
              "716     8.0\n",
              "3994    8.9\n",
              "130     8.0\n",
              "4271    7.6\n",
              "4052    6.1\n",
              "3429    8.0\n",
              "2478    4.1\n",
              "1706    8.5\n",
              "3391    6.6\n",
              "861     8.2\n",
              "4620    8.4\n",
              "1091    6.6\n",
              "1581    7.3\n",
              "1702    5.0\n",
              "1109    7.0\n",
              "3948    8.1\n",
              "3675    8.2\n",
              "Name: imdb_score, dtype: float64"
            ]
          },
          "metadata": {},
          "execution_count": 68
        }
      ]
    },
    {
      "cell_type": "code",
      "source": [
        "part_imdb *= 2\n",
        "part_imdb"
      ],
      "metadata": {
        "colab": {
          "base_uri": "https://localhost:8080/"
        },
        "id": "n4Tdsgutywwl",
        "outputId": "75c3efc2-dede-4859-a620-5dc91af0637a"
      },
      "execution_count": 69,
      "outputs": [
        {
          "output_type": "execute_result",
          "data": {
            "text/plain": [
              "3327    16.2\n",
              "1013    15.6\n",
              "3561    14.8\n",
              "1708    16.4\n",
              "873     13.0\n",
              "1332    15.8\n",
              "3989    15.4\n",
              "304     18.4\n",
              "601     14.6\n",
              "1826    16.8\n",
              "3233    16.2\n",
              "405     15.8\n",
              "1259    15.0\n",
              "716     16.0\n",
              "3994    17.8\n",
              "130     16.0\n",
              "4271    15.2\n",
              "4052    12.2\n",
              "3429    16.0\n",
              "2478     8.2\n",
              "1706    17.0\n",
              "3391    13.2\n",
              "861     16.4\n",
              "4620    16.8\n",
              "1091    13.2\n",
              "1581    14.6\n",
              "1702    10.0\n",
              "1109    14.0\n",
              "3948    16.2\n",
              "3675    16.4\n",
              "Name: imdb_score, dtype: float64"
            ]
          },
          "metadata": {},
          "execution_count": 69
        }
      ]
    },
    {
      "cell_type": "code",
      "source": [
        "part_imdb /= 1.5\n",
        "part_imdb"
      ],
      "metadata": {
        "colab": {
          "base_uri": "https://localhost:8080/"
        },
        "id": "-4NHqL3vy9Zg",
        "outputId": "bbb59540-0d18-41ac-c0dc-06f4496828d4"
      },
      "execution_count": 70,
      "outputs": [
        {
          "output_type": "execute_result",
          "data": {
            "text/plain": [
              "3327    10.800000\n",
              "1013    10.400000\n",
              "3561     9.866667\n",
              "1708    10.933333\n",
              "873      8.666667\n",
              "1332    10.533333\n",
              "3989    10.266667\n",
              "304     12.266667\n",
              "601      9.733333\n",
              "1826    11.200000\n",
              "3233    10.800000\n",
              "405     10.533333\n",
              "1259    10.000000\n",
              "716     10.666667\n",
              "3994    11.866667\n",
              "130     10.666667\n",
              "4271    10.133333\n",
              "4052     8.133333\n",
              "3429    10.666667\n",
              "2478     5.466667\n",
              "1706    11.333333\n",
              "3391     8.800000\n",
              "861     10.933333\n",
              "4620    11.200000\n",
              "1091     8.800000\n",
              "1581     9.733333\n",
              "1702     6.666667\n",
              "1109     9.333333\n",
              "3948    10.800000\n",
              "3675    10.933333\n",
              "Name: imdb_score, dtype: float64"
            ]
          },
          "metadata": {},
          "execution_count": 70
        }
      ]
    },
    {
      "cell_type": "code",
      "source": [
        "np.sort(part_imdb[part_imdb > 10])"
      ],
      "metadata": {
        "colab": {
          "base_uri": "https://localhost:8080/"
        },
        "id": "WKztbjQYzEIG",
        "outputId": "de78c3e5-a47f-4ed0-b3e0-16442ad95a1f"
      },
      "execution_count": 71,
      "outputs": [
        {
          "output_type": "execute_result",
          "data": {
            "text/plain": [
              "array([10.13333333, 10.26666667, 10.4       , 10.53333333, 10.53333333,\n",
              "       10.66666667, 10.66666667, 10.66666667, 10.8       , 10.8       ,\n",
              "       10.8       , 10.93333333, 10.93333333, 10.93333333, 11.2       ,\n",
              "       11.2       , 11.33333333, 11.86666667, 12.26666667])"
            ]
          },
          "metadata": {},
          "execution_count": 71
        }
      ]
    },
    {
      "cell_type": "code",
      "source": [
        "director[director=='James Cameron']"
      ],
      "metadata": {
        "colab": {
          "base_uri": "https://localhost:8080/"
        },
        "id": "WNRnE0VBzMty",
        "outputId": "63b2c13b-15e2-4ad5-87cc-1a9cfd4f3c23"
      },
      "execution_count": 72,
      "outputs": [
        {
          "output_type": "execute_result",
          "data": {
            "text/plain": [
              "0       James Cameron\n",
              "26      James Cameron\n",
              "285     James Cameron\n",
              "288     James Cameron\n",
              "599     James Cameron\n",
              "2455    James Cameron\n",
              "3508    James Cameron\n",
              "Name: director_name, dtype: object"
            ]
          },
          "metadata": {},
          "execution_count": 72
        }
      ]
    },
    {
      "cell_type": "code",
      "source": [
        "director[director=='James Cameron'].count()"
      ],
      "metadata": {
        "colab": {
          "base_uri": "https://localhost:8080/"
        },
        "id": "Ru6zKX0Hz2MS",
        "outputId": "c24cfca3-c0c8-4911-ca65-468db495cce7"
      },
      "execution_count": 73,
      "outputs": [
        {
          "output_type": "execute_result",
          "data": {
            "text/plain": [
              "7"
            ]
          },
          "metadata": {},
          "execution_count": 73
        }
      ]
    },
    {
      "cell_type": "markdown",
      "source": [
        "###  Table of operators and the corresponding methods\n",
        "![tab.png](data:image/png;base64,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)"
      ],
      "metadata": {
        "id": "pzoUvFdG03Vm"
      }
    },
    {
      "cell_type": "markdown",
      "source": [
        "## Chaining Series Methods"
      ],
      "metadata": {
        "id": "us_b5UT7107o"
      }
    },
    {
      "cell_type": "code",
      "source": [
        "director.value_counts().head(3)"
      ],
      "metadata": {
        "id": "fucN-oXz0BTR",
        "colab": {
          "base_uri": "https://localhost:8080/"
        },
        "outputId": "c9946acc-7998-4d5c-80ab-4a83989ce862"
      },
      "execution_count": 75,
      "outputs": [
        {
          "output_type": "execute_result",
          "data": {
            "text/plain": [
              "Steven Spielberg    26\n",
              "Woody Allen         22\n",
              "Martin Scorsese     20\n",
              "Name: director_name, dtype: int64"
            ]
          },
          "metadata": {},
          "execution_count": 75
        }
      ]
    },
    {
      "cell_type": "markdown",
      "source": [
        "A common way to count the number of missing values is to chain the `.sum` method after a call to `.isna`"
      ],
      "metadata": {
        "id": "d5UQU5_mlydm"
      }
    },
    {
      "cell_type": "code",
      "source": [
        "fb_likes.isna().sum()"
      ],
      "metadata": {
        "colab": {
          "base_uri": "https://localhost:8080/"
        },
        "id": "K0gm39l2lnV5",
        "outputId": "93e8eb4b-afc9-43c7-b6d8-67ab053c5489"
      },
      "execution_count": 76,
      "outputs": [
        {
          "output_type": "execute_result",
          "data": {
            "text/plain": [
              "7"
            ]
          },
          "metadata": {},
          "execution_count": 76
        }
      ]
    },
    {
      "cell_type": "code",
      "source": [
        "fb_likes.dtype"
      ],
      "metadata": {
        "colab": {
          "base_uri": "https://localhost:8080/"
        },
        "id": "stUsiA0Ol_S5",
        "outputId": "5436d7f5-ac2c-46f0-8929-b3b334a7a5cb"
      },
      "execution_count": 77,
      "outputs": [
        {
          "output_type": "execute_result",
          "data": {
            "text/plain": [
              "dtype('float64')"
            ]
          },
          "metadata": {},
          "execution_count": 77
        }
      ]
    },
    {
      "cell_type": "code",
      "source": [
        "(fb_likes.fillna(0).astype('int').head())"
      ],
      "metadata": {
        "colab": {
          "base_uri": "https://localhost:8080/"
        },
        "id": "kaapVTKHmPY-",
        "outputId": "09e80bd6-c6bc-4bdc-ec3d-c7a68247fa8f"
      },
      "execution_count": 78,
      "outputs": [
        {
          "output_type": "execute_result",
          "data": {
            "text/plain": [
              "0     1000\n",
              "1    40000\n",
              "2    11000\n",
              "3    27000\n",
              "4      131\n",
              "Name: actor_1_facebook_likes, dtype: int64"
            ]
          },
          "metadata": {},
          "execution_count": 78
        }
      ]
    },
    {
      "cell_type": "markdown",
      "source": [
        "## Debugging chains with `.pipe`"
      ],
      "metadata": {
        "id": "2opUzXeDoBcQ"
      }
    },
    {
      "cell_type": "code",
      "source": [
        "def debug_ser(ser):\n",
        "  '''print out the value of the intermediate result'''\n",
        "  print('BEFORE')\n",
        "  print(ser)\n",
        "  print('AFTER')\n",
        "  return ser"
      ],
      "metadata": {
        "id": "4Kj04kOemjYB"
      },
      "execution_count": 79,
      "outputs": []
    },
    {
      "cell_type": "code",
      "source": [
        "(fb_likes.fillna(0).pipe(debug_ser).astype(int).head())"
      ],
      "metadata": {
        "colab": {
          "base_uri": "https://localhost:8080/"
        },
        "id": "P73WDSvHokaw",
        "outputId": "853048cd-a2a5-420f-c81a-cf5ac33bc29d"
      },
      "execution_count": 80,
      "outputs": [
        {
          "output_type": "stream",
          "name": "stdout",
          "text": [
            "BEFORE\n",
            "0        1000.0\n",
            "1       40000.0\n",
            "2       11000.0\n",
            "3       27000.0\n",
            "4         131.0\n",
            "         ...   \n",
            "4911      637.0\n",
            "4912      841.0\n",
            "4913        0.0\n",
            "4914      946.0\n",
            "4915       86.0\n",
            "Name: actor_1_facebook_likes, Length: 4916, dtype: float64\n",
            "AFTER\n"
          ]
        },
        {
          "output_type": "execute_result",
          "data": {
            "text/plain": [
              "0     1000\n",
              "1    40000\n",
              "2    11000\n",
              "3    27000\n",
              "4      131\n",
              "Name: actor_1_facebook_likes, dtype: int64"
            ]
          },
          "metadata": {},
          "execution_count": 80
        }
      ]
    },
    {
      "cell_type": "markdown",
      "source": [
        "## Renaming column names"
      ],
      "metadata": {
        "id": "IIplbxcdps6z"
      }
    },
    {
      "cell_type": "code",
      "source": [
        "movies.columns"
      ],
      "metadata": {
        "colab": {
          "base_uri": "https://localhost:8080/"
        },
        "id": "x7HhXC_mo5gH",
        "outputId": "d3015752-f47b-4016-c17f-62056654cadd"
      },
      "execution_count": 81,
      "outputs": [
        {
          "output_type": "execute_result",
          "data": {
            "text/plain": [
              "Index(['color', 'director_name', 'num_critic_for_reviews', 'duration',\n",
              "       'director_facebook_likes', 'actor_3_facebook_likes', 'actor_2_name',\n",
              "       'actor_1_facebook_likes', 'gross', 'genres', 'actor_1_name',\n",
              "       'movie_title', 'num_voted_users', 'cast_total_facebook_likes',\n",
              "       'actor_3_name', 'facenumber_in_poster', 'plot_keywords',\n",
              "       'movie_imdb_link', 'num_user_for_reviews', 'language', 'country',\n",
              "       'content_rating', 'budget', 'title_year', 'actor_2_facebook_likes',\n",
              "       'imdb_score', 'aspect_ratio', 'movie_facebook_likes'],\n",
              "      dtype='object')"
            ]
          },
          "metadata": {},
          "execution_count": 81
        }
      ]
    },
    {
      "cell_type": "code",
      "source": [
        "# Create dict that map the old column names\n",
        "col_map = {'director_name': 'director', 'num_critic_for_reviews': 'critic_reviews'}\n",
        "# rename method to rename cols\n",
        "movies.rename(columns=col_map, inplace=False).head(3)"
      ],
      "metadata": {
        "colab": {
          "base_uri": "https://localhost:8080/",
          "height": 277
        },
        "id": "d5n99YVCqpxi",
        "outputId": "7062c443-b55f-419c-b676-e6c7db5433f7"
      },
      "execution_count": 83,
      "outputs": [
        {
          "output_type": "execute_result",
          "data": {
            "text/html": [
              "\n",
              "  <div id=\"df-9c49116f-130f-40dd-8c8b-c1da5cd6f1e3\">\n",
              "    <div class=\"colab-df-container\">\n",
              "      <div>\n",
              "<style scoped>\n",
              "    .dataframe tbody tr th:only-of-type {\n",
              "        vertical-align: middle;\n",
              "    }\n",
              "\n",
              "    .dataframe tbody tr th {\n",
              "        vertical-align: top;\n",
              "    }\n",
              "\n",
              "    .dataframe thead th {\n",
              "        text-align: right;\n",
              "    }\n",
              "</style>\n",
              "<table border=\"1\" class=\"dataframe\">\n",
              "  <thead>\n",
              "    <tr style=\"text-align: right;\">\n",
              "      <th></th>\n",
              "      <th>color</th>\n",
              "      <th>director</th>\n",
              "      <th>critic_reviews</th>\n",
              "      <th>duration</th>\n",
              "      <th>director_facebook_likes</th>\n",
              "      <th>actor_3_facebook_likes</th>\n",
              "      <th>actor_2_name</th>\n",
              "      <th>actor_1_facebook_likes</th>\n",
              "      <th>gross</th>\n",
              "      <th>genres</th>\n",
              "      <th>actor_1_name</th>\n",
              "      <th>movie_title</th>\n",
              "      <th>num_voted_users</th>\n",
              "      <th>cast_total_facebook_likes</th>\n",
              "      <th>actor_3_name</th>\n",
              "      <th>facenumber_in_poster</th>\n",
              "      <th>plot_keywords</th>\n",
              "      <th>movie_imdb_link</th>\n",
              "      <th>num_user_for_reviews</th>\n",
              "      <th>language</th>\n",
              "      <th>country</th>\n",
              "      <th>content_rating</th>\n",
              "      <th>budget</th>\n",
              "      <th>title_year</th>\n",
              "      <th>actor_2_facebook_likes</th>\n",
              "      <th>imdb_score</th>\n",
              "      <th>aspect_ratio</th>\n",
              "      <th>movie_facebook_likes</th>\n",
              "    </tr>\n",
              "  </thead>\n",
              "  <tbody>\n",
              "    <tr>\n",
              "      <th>0</th>\n",
              "      <td>Color</td>\n",
              "      <td>James Cameron</td>\n",
              "      <td>723.0</td>\n",
              "      <td>178.0</td>\n",
              "      <td>0.0</td>\n",
              "      <td>855.0</td>\n",
              "      <td>Joel David Moore</td>\n",
              "      <td>1000.0</td>\n",
              "      <td>760505847.0</td>\n",
              "      <td>Action|Adventure|Fantasy|Sci-Fi</td>\n",
              "      <td>CCH Pounder</td>\n",
              "      <td>Avatar</td>\n",
              "      <td>886204</td>\n",
              "      <td>4834</td>\n",
              "      <td>Wes Studi</td>\n",
              "      <td>0.0</td>\n",
              "      <td>avatar|future|marine|native|paraplegic</td>\n",
              "      <td>http://www.imdb.com/title/tt0499549/?ref_=fn_t...</td>\n",
              "      <td>3054.0</td>\n",
              "      <td>English</td>\n",
              "      <td>USA</td>\n",
              "      <td>PG-13</td>\n",
              "      <td>237000000.0</td>\n",
              "      <td>2009.0</td>\n",
              "      <td>936.0</td>\n",
              "      <td>7.9</td>\n",
              "      <td>1.78</td>\n",
              "      <td>33000</td>\n",
              "    </tr>\n",
              "    <tr>\n",
              "      <th>1</th>\n",
              "      <td>Color</td>\n",
              "      <td>Gore Verbinski</td>\n",
              "      <td>302.0</td>\n",
              "      <td>169.0</td>\n",
              "      <td>563.0</td>\n",
              "      <td>1000.0</td>\n",
              "      <td>Orlando Bloom</td>\n",
              "      <td>40000.0</td>\n",
              "      <td>309404152.0</td>\n",
              "      <td>Action|Adventure|Fantasy</td>\n",
              "      <td>Johnny Depp</td>\n",
              "      <td>Pirates of the Caribbean: At World's End</td>\n",
              "      <td>471220</td>\n",
              "      <td>48350</td>\n",
              "      <td>Jack Davenport</td>\n",
              "      <td>0.0</td>\n",
              "      <td>goddess|marriage ceremony|marriage proposal|pi...</td>\n",
              "      <td>http://www.imdb.com/title/tt0449088/?ref_=fn_t...</td>\n",
              "      <td>1238.0</td>\n",
              "      <td>English</td>\n",
              "      <td>USA</td>\n",
              "      <td>PG-13</td>\n",
              "      <td>300000000.0</td>\n",
              "      <td>2007.0</td>\n",
              "      <td>5000.0</td>\n",
              "      <td>7.1</td>\n",
              "      <td>2.35</td>\n",
              "      <td>0</td>\n",
              "    </tr>\n",
              "    <tr>\n",
              "      <th>2</th>\n",
              "      <td>Color</td>\n",
              "      <td>Sam Mendes</td>\n",
              "      <td>602.0</td>\n",
              "      <td>148.0</td>\n",
              "      <td>0.0</td>\n",
              "      <td>161.0</td>\n",
              "      <td>Rory Kinnear</td>\n",
              "      <td>11000.0</td>\n",
              "      <td>200074175.0</td>\n",
              "      <td>Action|Adventure|Thriller</td>\n",
              "      <td>Christoph Waltz</td>\n",
              "      <td>Spectre</td>\n",
              "      <td>275868</td>\n",
              "      <td>11700</td>\n",
              "      <td>Stephanie Sigman</td>\n",
              "      <td>1.0</td>\n",
              "      <td>bomb|espionage|sequel|spy|terrorist</td>\n",
              "      <td>http://www.imdb.com/title/tt2379713/?ref_=fn_t...</td>\n",
              "      <td>994.0</td>\n",
              "      <td>English</td>\n",
              "      <td>UK</td>\n",
              "      <td>PG-13</td>\n",
              "      <td>245000000.0</td>\n",
              "      <td>2015.0</td>\n",
              "      <td>393.0</td>\n",
              "      <td>6.8</td>\n",
              "      <td>2.35</td>\n",
              "      <td>85000</td>\n",
              "    </tr>\n",
              "  </tbody>\n",
              "</table>\n",
              "</div>\n",
              "      <button class=\"colab-df-convert\" onclick=\"convertToInteractive('df-9c49116f-130f-40dd-8c8b-c1da5cd6f1e3')\"\n",
              "              title=\"Convert this dataframe to an interactive table.\"\n",
              "              style=\"display:none;\">\n",
              "        \n",
              "  <svg xmlns=\"http://www.w3.org/2000/svg\" height=\"24px\"viewBox=\"0 0 24 24\"\n",
              "       width=\"24px\">\n",
              "    <path d=\"M0 0h24v24H0V0z\" fill=\"none\"/>\n",
              "    <path d=\"M18.56 5.44l.94 2.06.94-2.06 2.06-.94-2.06-.94-.94-2.06-.94 2.06-2.06.94zm-11 1L8.5 8.5l.94-2.06 2.06-.94-2.06-.94L8.5 2.5l-.94 2.06-2.06.94zm10 10l.94 2.06.94-2.06 2.06-.94-2.06-.94-.94-2.06-.94 2.06-2.06.94z\"/><path d=\"M17.41 7.96l-1.37-1.37c-.4-.4-.92-.59-1.43-.59-.52 0-1.04.2-1.43.59L10.3 9.45l-7.72 7.72c-.78.78-.78 2.05 0 2.83L4 21.41c.39.39.9.59 1.41.59.51 0 1.02-.2 1.41-.59l7.78-7.78 2.81-2.81c.8-.78.8-2.07 0-2.86zM5.41 20L4 18.59l7.72-7.72 1.47 1.35L5.41 20z\"/>\n",
              "  </svg>\n",
              "      </button>\n",
              "      \n",
              "  <style>\n",
              "    .colab-df-container {\n",
              "      display:flex;\n",
              "      flex-wrap:wrap;\n",
              "      gap: 12px;\n",
              "    }\n",
              "\n",
              "    .colab-df-convert {\n",
              "      background-color: #E8F0FE;\n",
              "      border: none;\n",
              "      border-radius: 50%;\n",
              "      cursor: pointer;\n",
              "      display: none;\n",
              "      fill: #1967D2;\n",
              "      height: 32px;\n",
              "      padding: 0 0 0 0;\n",
              "      width: 32px;\n",
              "    }\n",
              "\n",
              "    .colab-df-convert:hover {\n",
              "      background-color: #E2EBFA;\n",
              "      box-shadow: 0px 1px 2px rgba(60, 64, 67, 0.3), 0px 1px 3px 1px rgba(60, 64, 67, 0.15);\n",
              "      fill: #174EA6;\n",
              "    }\n",
              "\n",
              "    [theme=dark] .colab-df-convert {\n",
              "      background-color: #3B4455;\n",
              "      fill: #D2E3FC;\n",
              "    }\n",
              "\n",
              "    [theme=dark] .colab-df-convert:hover {\n",
              "      background-color: #434B5C;\n",
              "      box-shadow: 0px 1px 3px 1px rgba(0, 0, 0, 0.15);\n",
              "      filter: drop-shadow(0px 1px 2px rgba(0, 0, 0, 0.3));\n",
              "      fill: #FFFFFF;\n",
              "    }\n",
              "  </style>\n",
              "\n",
              "      <script>\n",
              "        const buttonEl =\n",
              "          document.querySelector('#df-9c49116f-130f-40dd-8c8b-c1da5cd6f1e3 button.colab-df-convert');\n",
              "        buttonEl.style.display =\n",
              "          google.colab.kernel.accessAllowed ? 'block' : 'none';\n",
              "\n",
              "        async function convertToInteractive(key) {\n",
              "          const element = document.querySelector('#df-9c49116f-130f-40dd-8c8b-c1da5cd6f1e3');\n",
              "          const dataTable =\n",
              "            await google.colab.kernel.invokeFunction('convertToInteractive',\n",
              "                                                     [key], {});\n",
              "          if (!dataTable) return;\n",
              "\n",
              "          const docLinkHtml = 'Like what you see? Visit the ' +\n",
              "            '<a target=\"_blank\" href=https://colab.research.google.com/notebooks/data_table.ipynb>data table notebook</a>'\n",
              "            + ' to learn more about interactive tables.';\n",
              "          element.innerHTML = '';\n",
              "          dataTable['output_type'] = 'display_data';\n",
              "          await google.colab.output.renderOutput(dataTable, element);\n",
              "          const docLink = document.createElement('div');\n",
              "          docLink.innerHTML = docLinkHtml;\n",
              "          element.appendChild(docLink);\n",
              "        }\n",
              "      </script>\n",
              "    </div>\n",
              "  </div>\n",
              "  "
            ],
            "text/plain": [
              "   color        director  ...  aspect_ratio  movie_facebook_likes\n",
              "0  Color   James Cameron  ...          1.78                 33000\n",
              "1  Color  Gore Verbinski  ...          2.35                     0\n",
              "2  Color      Sam Mendes  ...          2.35                 85000\n",
              "\n",
              "[3 rows x 28 columns]"
            ]
          },
          "metadata": {},
          "execution_count": 83
        }
      ]
    },
    {
      "cell_type": "markdown",
      "source": [
        "You can also rename the index using\n",
        "the `.rename` method if you want to. This makes more sense if the columns are string values.\n",
        "So we will set the index to the *movie_title* column and then map those values to new ones"
      ],
      "metadata": {
        "id": "R_TOVdW2se5m"
      }
    },
    {
      "cell_type": "code",
      "source": [
        "idx_map = {\n",
        "    'Avatar': 'Ravata',\n",
        "    \"Spectre\": \"Ertceps\",\n",
        "    \"Pirates of the Caribbean: At World's End\": \"POC\",\n",
        "}\n",
        "\n",
        "col_map = {\n",
        "    \"aspect_ratio\": \"aspect\",\n",
        "    \"movie_facebook_likes\": \"fblikes\",\n",
        "}\n",
        "\n",
        "(\n",
        "    movies.set_index('movie_title')\n",
        "    .rename(columns=col_map, index=idx_map, inplace=False)\n",
        "    .head(3)\n",
        ")"
      ],
      "metadata": {
        "colab": {
          "base_uri": "https://localhost:8080/",
          "height": 291
        },
        "id": "NGmyY1VErLrB",
        "outputId": "2a32c454-ae28-4dc2-f8d7-a7ad11347d4c"
      },
      "execution_count": 84,
      "outputs": [
        {
          "output_type": "execute_result",
          "data": {
            "text/html": [
              "\n",
              "  <div id=\"df-b1787a44-a92b-4c17-96be-365262d89250\">\n",
              "    <div class=\"colab-df-container\">\n",
              "      <div>\n",
              "<style scoped>\n",
              "    .dataframe tbody tr th:only-of-type {\n",
              "        vertical-align: middle;\n",
              "    }\n",
              "\n",
              "    .dataframe tbody tr th {\n",
              "        vertical-align: top;\n",
              "    }\n",
              "\n",
              "    .dataframe thead th {\n",
              "        text-align: right;\n",
              "    }\n",
              "</style>\n",
              "<table border=\"1\" class=\"dataframe\">\n",
              "  <thead>\n",
              "    <tr style=\"text-align: right;\">\n",
              "      <th></th>\n",
              "      <th>color</th>\n",
              "      <th>director_name</th>\n",
              "      <th>num_critic_for_reviews</th>\n",
              "      <th>duration</th>\n",
              "      <th>director_facebook_likes</th>\n",
              "      <th>actor_3_facebook_likes</th>\n",
              "      <th>actor_2_name</th>\n",
              "      <th>actor_1_facebook_likes</th>\n",
              "      <th>gross</th>\n",
              "      <th>genres</th>\n",
              "      <th>actor_1_name</th>\n",
              "      <th>num_voted_users</th>\n",
              "      <th>cast_total_facebook_likes</th>\n",
              "      <th>actor_3_name</th>\n",
              "      <th>facenumber_in_poster</th>\n",
              "      <th>plot_keywords</th>\n",
              "      <th>movie_imdb_link</th>\n",
              "      <th>num_user_for_reviews</th>\n",
              "      <th>language</th>\n",
              "      <th>country</th>\n",
              "      <th>content_rating</th>\n",
              "      <th>budget</th>\n",
              "      <th>title_year</th>\n",
              "      <th>actor_2_facebook_likes</th>\n",
              "      <th>imdb_score</th>\n",
              "      <th>aspect</th>\n",
              "      <th>fblikes</th>\n",
              "    </tr>\n",
              "    <tr>\n",
              "      <th>movie_title</th>\n",
              "      <th></th>\n",
              "      <th></th>\n",
              "      <th></th>\n",
              "      <th></th>\n",
              "      <th></th>\n",
              "      <th></th>\n",
              "      <th></th>\n",
              "      <th></th>\n",
              "      <th></th>\n",
              "      <th></th>\n",
              "      <th></th>\n",
              "      <th></th>\n",
              "      <th></th>\n",
              "      <th></th>\n",
              "      <th></th>\n",
              "      <th></th>\n",
              "      <th></th>\n",
              "      <th></th>\n",
              "      <th></th>\n",
              "      <th></th>\n",
              "      <th></th>\n",
              "      <th></th>\n",
              "      <th></th>\n",
              "      <th></th>\n",
              "      <th></th>\n",
              "      <th></th>\n",
              "      <th></th>\n",
              "    </tr>\n",
              "  </thead>\n",
              "  <tbody>\n",
              "    <tr>\n",
              "      <th>Ravata</th>\n",
              "      <td>Color</td>\n",
              "      <td>James Cameron</td>\n",
              "      <td>723.0</td>\n",
              "      <td>178.0</td>\n",
              "      <td>0.0</td>\n",
              "      <td>855.0</td>\n",
              "      <td>Joel David Moore</td>\n",
              "      <td>1000.0</td>\n",
              "      <td>760505847.0</td>\n",
              "      <td>Action|Adventure|Fantasy|Sci-Fi</td>\n",
              "      <td>CCH Pounder</td>\n",
              "      <td>886204</td>\n",
              "      <td>4834</td>\n",
              "      <td>Wes Studi</td>\n",
              "      <td>0.0</td>\n",
              "      <td>avatar|future|marine|native|paraplegic</td>\n",
              "      <td>http://www.imdb.com/title/tt0499549/?ref_=fn_t...</td>\n",
              "      <td>3054.0</td>\n",
              "      <td>English</td>\n",
              "      <td>USA</td>\n",
              "      <td>PG-13</td>\n",
              "      <td>237000000.0</td>\n",
              "      <td>2009.0</td>\n",
              "      <td>936.0</td>\n",
              "      <td>7.9</td>\n",
              "      <td>1.78</td>\n",
              "      <td>33000</td>\n",
              "    </tr>\n",
              "    <tr>\n",
              "      <th>POC</th>\n",
              "      <td>Color</td>\n",
              "      <td>Gore Verbinski</td>\n",
              "      <td>302.0</td>\n",
              "      <td>169.0</td>\n",
              "      <td>563.0</td>\n",
              "      <td>1000.0</td>\n",
              "      <td>Orlando Bloom</td>\n",
              "      <td>40000.0</td>\n",
              "      <td>309404152.0</td>\n",
              "      <td>Action|Adventure|Fantasy</td>\n",
              "      <td>Johnny Depp</td>\n",
              "      <td>471220</td>\n",
              "      <td>48350</td>\n",
              "      <td>Jack Davenport</td>\n",
              "      <td>0.0</td>\n",
              "      <td>goddess|marriage ceremony|marriage proposal|pi...</td>\n",
              "      <td>http://www.imdb.com/title/tt0449088/?ref_=fn_t...</td>\n",
              "      <td>1238.0</td>\n",
              "      <td>English</td>\n",
              "      <td>USA</td>\n",
              "      <td>PG-13</td>\n",
              "      <td>300000000.0</td>\n",
              "      <td>2007.0</td>\n",
              "      <td>5000.0</td>\n",
              "      <td>7.1</td>\n",
              "      <td>2.35</td>\n",
              "      <td>0</td>\n",
              "    </tr>\n",
              "    <tr>\n",
              "      <th>Ertceps</th>\n",
              "      <td>Color</td>\n",
              "      <td>Sam Mendes</td>\n",
              "      <td>602.0</td>\n",
              "      <td>148.0</td>\n",
              "      <td>0.0</td>\n",
              "      <td>161.0</td>\n",
              "      <td>Rory Kinnear</td>\n",
              "      <td>11000.0</td>\n",
              "      <td>200074175.0</td>\n",
              "      <td>Action|Adventure|Thriller</td>\n",
              "      <td>Christoph Waltz</td>\n",
              "      <td>275868</td>\n",
              "      <td>11700</td>\n",
              "      <td>Stephanie Sigman</td>\n",
              "      <td>1.0</td>\n",
              "      <td>bomb|espionage|sequel|spy|terrorist</td>\n",
              "      <td>http://www.imdb.com/title/tt2379713/?ref_=fn_t...</td>\n",
              "      <td>994.0</td>\n",
              "      <td>English</td>\n",
              "      <td>UK</td>\n",
              "      <td>PG-13</td>\n",
              "      <td>245000000.0</td>\n",
              "      <td>2015.0</td>\n",
              "      <td>393.0</td>\n",
              "      <td>6.8</td>\n",
              "      <td>2.35</td>\n",
              "      <td>85000</td>\n",
              "    </tr>\n",
              "  </tbody>\n",
              "</table>\n",
              "</div>\n",
              "      <button class=\"colab-df-convert\" onclick=\"convertToInteractive('df-b1787a44-a92b-4c17-96be-365262d89250')\"\n",
              "              title=\"Convert this dataframe to an interactive table.\"\n",
              "              style=\"display:none;\">\n",
              "        \n",
              "  <svg xmlns=\"http://www.w3.org/2000/svg\" height=\"24px\"viewBox=\"0 0 24 24\"\n",
              "       width=\"24px\">\n",
              "    <path d=\"M0 0h24v24H0V0z\" fill=\"none\"/>\n",
              "    <path d=\"M18.56 5.44l.94 2.06.94-2.06 2.06-.94-2.06-.94-.94-2.06-.94 2.06-2.06.94zm-11 1L8.5 8.5l.94-2.06 2.06-.94-2.06-.94L8.5 2.5l-.94 2.06-2.06.94zm10 10l.94 2.06.94-2.06 2.06-.94-2.06-.94-.94-2.06-.94 2.06-2.06.94z\"/><path d=\"M17.41 7.96l-1.37-1.37c-.4-.4-.92-.59-1.43-.59-.52 0-1.04.2-1.43.59L10.3 9.45l-7.72 7.72c-.78.78-.78 2.05 0 2.83L4 21.41c.39.39.9.59 1.41.59.51 0 1.02-.2 1.41-.59l7.78-7.78 2.81-2.81c.8-.78.8-2.07 0-2.86zM5.41 20L4 18.59l7.72-7.72 1.47 1.35L5.41 20z\"/>\n",
              "  </svg>\n",
              "      </button>\n",
              "      \n",
              "  <style>\n",
              "    .colab-df-container {\n",
              "      display:flex;\n",
              "      flex-wrap:wrap;\n",
              "      gap: 12px;\n",
              "    }\n",
              "\n",
              "    .colab-df-convert {\n",
              "      background-color: #E8F0FE;\n",
              "      border: none;\n",
              "      border-radius: 50%;\n",
              "      cursor: pointer;\n",
              "      display: none;\n",
              "      fill: #1967D2;\n",
              "      height: 32px;\n",
              "      padding: 0 0 0 0;\n",
              "      width: 32px;\n",
              "    }\n",
              "\n",
              "    .colab-df-convert:hover {\n",
              "      background-color: #E2EBFA;\n",
              "      box-shadow: 0px 1px 2px rgba(60, 64, 67, 0.3), 0px 1px 3px 1px rgba(60, 64, 67, 0.15);\n",
              "      fill: #174EA6;\n",
              "    }\n",
              "\n",
              "    [theme=dark] .colab-df-convert {\n",
              "      background-color: #3B4455;\n",
              "      fill: #D2E3FC;\n",
              "    }\n",
              "\n",
              "    [theme=dark] .colab-df-convert:hover {\n",
              "      background-color: #434B5C;\n",
              "      box-shadow: 0px 1px 3px 1px rgba(0, 0, 0, 0.15);\n",
              "      filter: drop-shadow(0px 1px 2px rgba(0, 0, 0, 0.3));\n",
              "      fill: #FFFFFF;\n",
              "    }\n",
              "  </style>\n",
              "\n",
              "      <script>\n",
              "        const buttonEl =\n",
              "          document.querySelector('#df-b1787a44-a92b-4c17-96be-365262d89250 button.colab-df-convert');\n",
              "        buttonEl.style.display =\n",
              "          google.colab.kernel.accessAllowed ? 'block' : 'none';\n",
              "\n",
              "        async function convertToInteractive(key) {\n",
              "          const element = document.querySelector('#df-b1787a44-a92b-4c17-96be-365262d89250');\n",
              "          const dataTable =\n",
              "            await google.colab.kernel.invokeFunction('convertToInteractive',\n",
              "                                                     [key], {});\n",
              "          if (!dataTable) return;\n",
              "\n",
              "          const docLinkHtml = 'Like what you see? Visit the ' +\n",
              "            '<a target=\"_blank\" href=https://colab.research.google.com/notebooks/data_table.ipynb>data table notebook</a>'\n",
              "            + ' to learn more about interactive tables.';\n",
              "          element.innerHTML = '';\n",
              "          dataTable['output_type'] = 'display_data';\n",
              "          await google.colab.output.renderOutput(dataTable, element);\n",
              "          const docLink = document.createElement('div');\n",
              "          docLink.innerHTML = docLinkHtml;\n",
              "          element.appendChild(docLink);\n",
              "        }\n",
              "      </script>\n",
              "    </div>\n",
              "  </div>\n",
              "  "
            ],
            "text/plain": [
              "             color   director_name  ...  aspect  fblikes\n",
              "movie_title                         ...                 \n",
              "Ravata       Color   James Cameron  ...    1.78    33000\n",
              "POC          Color  Gore Verbinski  ...    2.35        0\n",
              "Ertceps      Color      Sam Mendes  ...    2.35    85000\n",
              "\n",
              "[3 rows x 27 columns]"
            ]
          },
          "metadata": {},
          "execution_count": 84
        }
      ]
    },
    {
      "cell_type": "code",
      "source": [
        "movies = pd.read_csv('./movie.csv', index_col='movie_title')\n",
        "movies.head(3)"
      ],
      "metadata": {
        "colab": {
          "base_uri": "https://localhost:8080/",
          "height": 308
        },
        "id": "M7Yts6mKtwjw",
        "outputId": "c0f5f50d-eae3-4f73-931c-51459f3d102a"
      },
      "execution_count": 87,
      "outputs": [
        {
          "output_type": "execute_result",
          "data": {
            "text/html": [
              "\n",
              "  <div id=\"df-141ea479-bc42-4583-ab05-8005986037e5\">\n",
              "    <div class=\"colab-df-container\">\n",
              "      <div>\n",
              "<style scoped>\n",
              "    .dataframe tbody tr th:only-of-type {\n",
              "        vertical-align: middle;\n",
              "    }\n",
              "\n",
              "    .dataframe tbody tr th {\n",
              "        vertical-align: top;\n",
              "    }\n",
              "\n",
              "    .dataframe thead th {\n",
              "        text-align: right;\n",
              "    }\n",
              "</style>\n",
              "<table border=\"1\" class=\"dataframe\">\n",
              "  <thead>\n",
              "    <tr style=\"text-align: right;\">\n",
              "      <th></th>\n",
              "      <th>color</th>\n",
              "      <th>director_name</th>\n",
              "      <th>num_critic_for_reviews</th>\n",
              "      <th>duration</th>\n",
              "      <th>director_facebook_likes</th>\n",
              "      <th>actor_3_facebook_likes</th>\n",
              "      <th>actor_2_name</th>\n",
              "      <th>actor_1_facebook_likes</th>\n",
              "      <th>gross</th>\n",
              "      <th>genres</th>\n",
              "      <th>actor_1_name</th>\n",
              "      <th>num_voted_users</th>\n",
              "      <th>cast_total_facebook_likes</th>\n",
              "      <th>actor_3_name</th>\n",
              "      <th>facenumber_in_poster</th>\n",
              "      <th>plot_keywords</th>\n",
              "      <th>movie_imdb_link</th>\n",
              "      <th>num_user_for_reviews</th>\n",
              "      <th>language</th>\n",
              "      <th>country</th>\n",
              "      <th>content_rating</th>\n",
              "      <th>budget</th>\n",
              "      <th>title_year</th>\n",
              "      <th>actor_2_facebook_likes</th>\n",
              "      <th>imdb_score</th>\n",
              "      <th>aspect_ratio</th>\n",
              "      <th>movie_facebook_likes</th>\n",
              "    </tr>\n",
              "    <tr>\n",
              "      <th>movie_title</th>\n",
              "      <th></th>\n",
              "      <th></th>\n",
              "      <th></th>\n",
              "      <th></th>\n",
              "      <th></th>\n",
              "      <th></th>\n",
              "      <th></th>\n",
              "      <th></th>\n",
              "      <th></th>\n",
              "      <th></th>\n",
              "      <th></th>\n",
              "      <th></th>\n",
              "      <th></th>\n",
              "      <th></th>\n",
              "      <th></th>\n",
              "      <th></th>\n",
              "      <th></th>\n",
              "      <th></th>\n",
              "      <th></th>\n",
              "      <th></th>\n",
              "      <th></th>\n",
              "      <th></th>\n",
              "      <th></th>\n",
              "      <th></th>\n",
              "      <th></th>\n",
              "      <th></th>\n",
              "      <th></th>\n",
              "    </tr>\n",
              "  </thead>\n",
              "  <tbody>\n",
              "    <tr>\n",
              "      <th>Avatar</th>\n",
              "      <td>Color</td>\n",
              "      <td>James Cameron</td>\n",
              "      <td>723.0</td>\n",
              "      <td>178.0</td>\n",
              "      <td>0.0</td>\n",
              "      <td>855.0</td>\n",
              "      <td>Joel David Moore</td>\n",
              "      <td>1000.0</td>\n",
              "      <td>760505847.0</td>\n",
              "      <td>Action|Adventure|Fantasy|Sci-Fi</td>\n",
              "      <td>CCH Pounder</td>\n",
              "      <td>886204</td>\n",
              "      <td>4834</td>\n",
              "      <td>Wes Studi</td>\n",
              "      <td>0.0</td>\n",
              "      <td>avatar|future|marine|native|paraplegic</td>\n",
              "      <td>http://www.imdb.com/title/tt0499549/?ref_=fn_t...</td>\n",
              "      <td>3054.0</td>\n",
              "      <td>English</td>\n",
              "      <td>USA</td>\n",
              "      <td>PG-13</td>\n",
              "      <td>237000000.0</td>\n",
              "      <td>2009.0</td>\n",
              "      <td>936.0</td>\n",
              "      <td>7.9</td>\n",
              "      <td>1.78</td>\n",
              "      <td>33000</td>\n",
              "    </tr>\n",
              "    <tr>\n",
              "      <th>Pirates of the Caribbean: At World's End</th>\n",
              "      <td>Color</td>\n",
              "      <td>Gore Verbinski</td>\n",
              "      <td>302.0</td>\n",
              "      <td>169.0</td>\n",
              "      <td>563.0</td>\n",
              "      <td>1000.0</td>\n",
              "      <td>Orlando Bloom</td>\n",
              "      <td>40000.0</td>\n",
              "      <td>309404152.0</td>\n",
              "      <td>Action|Adventure|Fantasy</td>\n",
              "      <td>Johnny Depp</td>\n",
              "      <td>471220</td>\n",
              "      <td>48350</td>\n",
              "      <td>Jack Davenport</td>\n",
              "      <td>0.0</td>\n",
              "      <td>goddess|marriage ceremony|marriage proposal|pi...</td>\n",
              "      <td>http://www.imdb.com/title/tt0449088/?ref_=fn_t...</td>\n",
              "      <td>1238.0</td>\n",
              "      <td>English</td>\n",
              "      <td>USA</td>\n",
              "      <td>PG-13</td>\n",
              "      <td>300000000.0</td>\n",
              "      <td>2007.0</td>\n",
              "      <td>5000.0</td>\n",
              "      <td>7.1</td>\n",
              "      <td>2.35</td>\n",
              "      <td>0</td>\n",
              "    </tr>\n",
              "    <tr>\n",
              "      <th>Spectre</th>\n",
              "      <td>Color</td>\n",
              "      <td>Sam Mendes</td>\n",
              "      <td>602.0</td>\n",
              "      <td>148.0</td>\n",
              "      <td>0.0</td>\n",
              "      <td>161.0</td>\n",
              "      <td>Rory Kinnear</td>\n",
              "      <td>11000.0</td>\n",
              "      <td>200074175.0</td>\n",
              "      <td>Action|Adventure|Thriller</td>\n",
              "      <td>Christoph Waltz</td>\n",
              "      <td>275868</td>\n",
              "      <td>11700</td>\n",
              "      <td>Stephanie Sigman</td>\n",
              "      <td>1.0</td>\n",
              "      <td>bomb|espionage|sequel|spy|terrorist</td>\n",
              "      <td>http://www.imdb.com/title/tt2379713/?ref_=fn_t...</td>\n",
              "      <td>994.0</td>\n",
              "      <td>English</td>\n",
              "      <td>UK</td>\n",
              "      <td>PG-13</td>\n",
              "      <td>245000000.0</td>\n",
              "      <td>2015.0</td>\n",
              "      <td>393.0</td>\n",
              "      <td>6.8</td>\n",
              "      <td>2.35</td>\n",
              "      <td>85000</td>\n",
              "    </tr>\n",
              "  </tbody>\n",
              "</table>\n",
              "</div>\n",
              "      <button class=\"colab-df-convert\" onclick=\"convertToInteractive('df-141ea479-bc42-4583-ab05-8005986037e5')\"\n",
              "              title=\"Convert this dataframe to an interactive table.\"\n",
              "              style=\"display:none;\">\n",
              "        \n",
              "  <svg xmlns=\"http://www.w3.org/2000/svg\" height=\"24px\"viewBox=\"0 0 24 24\"\n",
              "       width=\"24px\">\n",
              "    <path d=\"M0 0h24v24H0V0z\" fill=\"none\"/>\n",
              "    <path d=\"M18.56 5.44l.94 2.06.94-2.06 2.06-.94-2.06-.94-.94-2.06-.94 2.06-2.06.94zm-11 1L8.5 8.5l.94-2.06 2.06-.94-2.06-.94L8.5 2.5l-.94 2.06-2.06.94zm10 10l.94 2.06.94-2.06 2.06-.94-2.06-.94-.94-2.06-.94 2.06-2.06.94z\"/><path d=\"M17.41 7.96l-1.37-1.37c-.4-.4-.92-.59-1.43-.59-.52 0-1.04.2-1.43.59L10.3 9.45l-7.72 7.72c-.78.78-.78 2.05 0 2.83L4 21.41c.39.39.9.59 1.41.59.51 0 1.02-.2 1.41-.59l7.78-7.78 2.81-2.81c.8-.78.8-2.07 0-2.86zM5.41 20L4 18.59l7.72-7.72 1.47 1.35L5.41 20z\"/>\n",
              "  </svg>\n",
              "      </button>\n",
              "      \n",
              "  <style>\n",
              "    .colab-df-container {\n",
              "      display:flex;\n",
              "      flex-wrap:wrap;\n",
              "      gap: 12px;\n",
              "    }\n",
              "\n",
              "    .colab-df-convert {\n",
              "      background-color: #E8F0FE;\n",
              "      border: none;\n",
              "      border-radius: 50%;\n",
              "      cursor: pointer;\n",
              "      display: none;\n",
              "      fill: #1967D2;\n",
              "      height: 32px;\n",
              "      padding: 0 0 0 0;\n",
              "      width: 32px;\n",
              "    }\n",
              "\n",
              "    .colab-df-convert:hover {\n",
              "      background-color: #E2EBFA;\n",
              "      box-shadow: 0px 1px 2px rgba(60, 64, 67, 0.3), 0px 1px 3px 1px rgba(60, 64, 67, 0.15);\n",
              "      fill: #174EA6;\n",
              "    }\n",
              "\n",
              "    [theme=dark] .colab-df-convert {\n",
              "      background-color: #3B4455;\n",
              "      fill: #D2E3FC;\n",
              "    }\n",
              "\n",
              "    [theme=dark] .colab-df-convert:hover {\n",
              "      background-color: #434B5C;\n",
              "      box-shadow: 0px 1px 3px 1px rgba(0, 0, 0, 0.15);\n",
              "      filter: drop-shadow(0px 1px 2px rgba(0, 0, 0, 0.3));\n",
              "      fill: #FFFFFF;\n",
              "    }\n",
              "  </style>\n",
              "\n",
              "      <script>\n",
              "        const buttonEl =\n",
              "          document.querySelector('#df-141ea479-bc42-4583-ab05-8005986037e5 button.colab-df-convert');\n",
              "        buttonEl.style.display =\n",
              "          google.colab.kernel.accessAllowed ? 'block' : 'none';\n",
              "\n",
              "        async function convertToInteractive(key) {\n",
              "          const element = document.querySelector('#df-141ea479-bc42-4583-ab05-8005986037e5');\n",
              "          const dataTable =\n",
              "            await google.colab.kernel.invokeFunction('convertToInteractive',\n",
              "                                                     [key], {});\n",
              "          if (!dataTable) return;\n",
              "\n",
              "          const docLinkHtml = 'Like what you see? Visit the ' +\n",
              "            '<a target=\"_blank\" href=https://colab.research.google.com/notebooks/data_table.ipynb>data table notebook</a>'\n",
              "            + ' to learn more about interactive tables.';\n",
              "          element.innerHTML = '';\n",
              "          dataTable['output_type'] = 'display_data';\n",
              "          await google.colab.output.renderOutput(dataTable, element);\n",
              "          const docLink = document.createElement('div');\n",
              "          docLink.innerHTML = docLinkHtml;\n",
              "          element.appendChild(docLink);\n",
              "        }\n",
              "      </script>\n",
              "    </div>\n",
              "  </div>\n",
              "  "
            ],
            "text/plain": [
              "                                          color  ... movie_facebook_likes\n",
              "movie_title                                      ...                     \n",
              "Avatar                                    Color  ...                33000\n",
              "Pirates of the Caribbean: At World's End  Color  ...                    0\n",
              "Spectre                                   Color  ...                85000\n",
              "\n",
              "[3 rows x 27 columns]"
            ]
          },
          "metadata": {},
          "execution_count": 87
        }
      ]
    },
    {
      "cell_type": "code",
      "source": [
        "ids = movies.index.to_list()\n",
        "ids[:5]"
      ],
      "metadata": {
        "colab": {
          "base_uri": "https://localhost:8080/"
        },
        "id": "Tutgp9Ku3ta7",
        "outputId": "a3bbb7b7-7c3d-422b-e47f-bc22543d5076"
      },
      "execution_count": 88,
      "outputs": [
        {
          "output_type": "execute_result",
          "data": {
            "text/plain": [
              "['Avatar',\n",
              " \"Pirates of the Caribbean: At World's End\",\n",
              " 'Spectre',\n",
              " 'The Dark Knight Rises',\n",
              " 'Star Wars: Episode VII - The Force Awakens']"
            ]
          },
          "metadata": {},
          "execution_count": 88
        }
      ]
    },
    {
      "cell_type": "code",
      "source": [
        "columns = movies.columns.to_list()\n",
        "columns[:5]"
      ],
      "metadata": {
        "colab": {
          "base_uri": "https://localhost:8080/"
        },
        "id": "2rTBEGhs4UKt",
        "outputId": "86dbc62f-5123-4403-f5e4-1f6dfc841d23"
      },
      "execution_count": 89,
      "outputs": [
        {
          "output_type": "execute_result",
          "data": {
            "text/plain": [
              "['color',\n",
              " 'director_name',\n",
              " 'num_critic_for_reviews',\n",
              " 'duration',\n",
              " 'director_facebook_likes']"
            ]
          },
          "metadata": {},
          "execution_count": 89
        }
      ]
    },
    {
      "cell_type": "code",
      "source": [
        "# rename the row and column labels with list assignments\n",
        "ids[0] = \"Ratava\"\n",
        "ids[1] = \"POC\"\n",
        "ids[2] = \"Ertceps\"\n",
        "columns[1] = \"director\"\n",
        "columns[-2] = \"aspect\"\n",
        "columns[-1] = \"fblikes\"\n",
        "\n",
        "movies.index = ids\n",
        "movies.columns = columns\n",
        "movies.head(3)"
      ],
      "metadata": {
        "colab": {
          "base_uri": "https://localhost:8080/",
          "height": 260
        },
        "id": "3D8aYSN74flN",
        "outputId": "825cde90-5b28-46b9-92fd-843cce16497c"
      },
      "execution_count": 90,
      "outputs": [
        {
          "output_type": "execute_result",
          "data": {
            "text/html": [
              "\n",
              "  <div id=\"df-65658c6b-4f64-4e19-a7d3-574bf55d933b\">\n",
              "    <div class=\"colab-df-container\">\n",
              "      <div>\n",
              "<style scoped>\n",
              "    .dataframe tbody tr th:only-of-type {\n",
              "        vertical-align: middle;\n",
              "    }\n",
              "\n",
              "    .dataframe tbody tr th {\n",
              "        vertical-align: top;\n",
              "    }\n",
              "\n",
              "    .dataframe thead th {\n",
              "        text-align: right;\n",
              "    }\n",
              "</style>\n",
              "<table border=\"1\" class=\"dataframe\">\n",
              "  <thead>\n",
              "    <tr style=\"text-align: right;\">\n",
              "      <th></th>\n",
              "      <th>color</th>\n",
              "      <th>director</th>\n",
              "      <th>num_critic_for_reviews</th>\n",
              "      <th>duration</th>\n",
              "      <th>director_facebook_likes</th>\n",
              "      <th>actor_3_facebook_likes</th>\n",
              "      <th>actor_2_name</th>\n",
              "      <th>actor_1_facebook_likes</th>\n",
              "      <th>gross</th>\n",
              "      <th>genres</th>\n",
              "      <th>actor_1_name</th>\n",
              "      <th>num_voted_users</th>\n",
              "      <th>cast_total_facebook_likes</th>\n",
              "      <th>actor_3_name</th>\n",
              "      <th>facenumber_in_poster</th>\n",
              "      <th>plot_keywords</th>\n",
              "      <th>movie_imdb_link</th>\n",
              "      <th>num_user_for_reviews</th>\n",
              "      <th>language</th>\n",
              "      <th>country</th>\n",
              "      <th>content_rating</th>\n",
              "      <th>budget</th>\n",
              "      <th>title_year</th>\n",
              "      <th>actor_2_facebook_likes</th>\n",
              "      <th>imdb_score</th>\n",
              "      <th>aspect</th>\n",
              "      <th>fblikes</th>\n",
              "    </tr>\n",
              "  </thead>\n",
              "  <tbody>\n",
              "    <tr>\n",
              "      <th>Ratava</th>\n",
              "      <td>Color</td>\n",
              "      <td>James Cameron</td>\n",
              "      <td>723.0</td>\n",
              "      <td>178.0</td>\n",
              "      <td>0.0</td>\n",
              "      <td>855.0</td>\n",
              "      <td>Joel David Moore</td>\n",
              "      <td>1000.0</td>\n",
              "      <td>760505847.0</td>\n",
              "      <td>Action|Adventure|Fantasy|Sci-Fi</td>\n",
              "      <td>CCH Pounder</td>\n",
              "      <td>886204</td>\n",
              "      <td>4834</td>\n",
              "      <td>Wes Studi</td>\n",
              "      <td>0.0</td>\n",
              "      <td>avatar|future|marine|native|paraplegic</td>\n",
              "      <td>http://www.imdb.com/title/tt0499549/?ref_=fn_t...</td>\n",
              "      <td>3054.0</td>\n",
              "      <td>English</td>\n",
              "      <td>USA</td>\n",
              "      <td>PG-13</td>\n",
              "      <td>237000000.0</td>\n",
              "      <td>2009.0</td>\n",
              "      <td>936.0</td>\n",
              "      <td>7.9</td>\n",
              "      <td>1.78</td>\n",
              "      <td>33000</td>\n",
              "    </tr>\n",
              "    <tr>\n",
              "      <th>POC</th>\n",
              "      <td>Color</td>\n",
              "      <td>Gore Verbinski</td>\n",
              "      <td>302.0</td>\n",
              "      <td>169.0</td>\n",
              "      <td>563.0</td>\n",
              "      <td>1000.0</td>\n",
              "      <td>Orlando Bloom</td>\n",
              "      <td>40000.0</td>\n",
              "      <td>309404152.0</td>\n",
              "      <td>Action|Adventure|Fantasy</td>\n",
              "      <td>Johnny Depp</td>\n",
              "      <td>471220</td>\n",
              "      <td>48350</td>\n",
              "      <td>Jack Davenport</td>\n",
              "      <td>0.0</td>\n",
              "      <td>goddess|marriage ceremony|marriage proposal|pi...</td>\n",
              "      <td>http://www.imdb.com/title/tt0449088/?ref_=fn_t...</td>\n",
              "      <td>1238.0</td>\n",
              "      <td>English</td>\n",
              "      <td>USA</td>\n",
              "      <td>PG-13</td>\n",
              "      <td>300000000.0</td>\n",
              "      <td>2007.0</td>\n",
              "      <td>5000.0</td>\n",
              "      <td>7.1</td>\n",
              "      <td>2.35</td>\n",
              "      <td>0</td>\n",
              "    </tr>\n",
              "    <tr>\n",
              "      <th>Ertceps</th>\n",
              "      <td>Color</td>\n",
              "      <td>Sam Mendes</td>\n",
              "      <td>602.0</td>\n",
              "      <td>148.0</td>\n",
              "      <td>0.0</td>\n",
              "      <td>161.0</td>\n",
              "      <td>Rory Kinnear</td>\n",
              "      <td>11000.0</td>\n",
              "      <td>200074175.0</td>\n",
              "      <td>Action|Adventure|Thriller</td>\n",
              "      <td>Christoph Waltz</td>\n",
              "      <td>275868</td>\n",
              "      <td>11700</td>\n",
              "      <td>Stephanie Sigman</td>\n",
              "      <td>1.0</td>\n",
              "      <td>bomb|espionage|sequel|spy|terrorist</td>\n",
              "      <td>http://www.imdb.com/title/tt2379713/?ref_=fn_t...</td>\n",
              "      <td>994.0</td>\n",
              "      <td>English</td>\n",
              "      <td>UK</td>\n",
              "      <td>PG-13</td>\n",
              "      <td>245000000.0</td>\n",
              "      <td>2015.0</td>\n",
              "      <td>393.0</td>\n",
              "      <td>6.8</td>\n",
              "      <td>2.35</td>\n",
              "      <td>85000</td>\n",
              "    </tr>\n",
              "  </tbody>\n",
              "</table>\n",
              "</div>\n",
              "      <button class=\"colab-df-convert\" onclick=\"convertToInteractive('df-65658c6b-4f64-4e19-a7d3-574bf55d933b')\"\n",
              "              title=\"Convert this dataframe to an interactive table.\"\n",
              "              style=\"display:none;\">\n",
              "        \n",
              "  <svg xmlns=\"http://www.w3.org/2000/svg\" height=\"24px\"viewBox=\"0 0 24 24\"\n",
              "       width=\"24px\">\n",
              "    <path d=\"M0 0h24v24H0V0z\" fill=\"none\"/>\n",
              "    <path d=\"M18.56 5.44l.94 2.06.94-2.06 2.06-.94-2.06-.94-.94-2.06-.94 2.06-2.06.94zm-11 1L8.5 8.5l.94-2.06 2.06-.94-2.06-.94L8.5 2.5l-.94 2.06-2.06.94zm10 10l.94 2.06.94-2.06 2.06-.94-2.06-.94-.94-2.06-.94 2.06-2.06.94z\"/><path d=\"M17.41 7.96l-1.37-1.37c-.4-.4-.92-.59-1.43-.59-.52 0-1.04.2-1.43.59L10.3 9.45l-7.72 7.72c-.78.78-.78 2.05 0 2.83L4 21.41c.39.39.9.59 1.41.59.51 0 1.02-.2 1.41-.59l7.78-7.78 2.81-2.81c.8-.78.8-2.07 0-2.86zM5.41 20L4 18.59l7.72-7.72 1.47 1.35L5.41 20z\"/>\n",
              "  </svg>\n",
              "      </button>\n",
              "      \n",
              "  <style>\n",
              "    .colab-df-container {\n",
              "      display:flex;\n",
              "      flex-wrap:wrap;\n",
              "      gap: 12px;\n",
              "    }\n",
              "\n",
              "    .colab-df-convert {\n",
              "      background-color: #E8F0FE;\n",
              "      border: none;\n",
              "      border-radius: 50%;\n",
              "      cursor: pointer;\n",
              "      display: none;\n",
              "      fill: #1967D2;\n",
              "      height: 32px;\n",
              "      padding: 0 0 0 0;\n",
              "      width: 32px;\n",
              "    }\n",
              "\n",
              "    .colab-df-convert:hover {\n",
              "      background-color: #E2EBFA;\n",
              "      box-shadow: 0px 1px 2px rgba(60, 64, 67, 0.3), 0px 1px 3px 1px rgba(60, 64, 67, 0.15);\n",
              "      fill: #174EA6;\n",
              "    }\n",
              "\n",
              "    [theme=dark] .colab-df-convert {\n",
              "      background-color: #3B4455;\n",
              "      fill: #D2E3FC;\n",
              "    }\n",
              "\n",
              "    [theme=dark] .colab-df-convert:hover {\n",
              "      background-color: #434B5C;\n",
              "      box-shadow: 0px 1px 3px 1px rgba(0, 0, 0, 0.15);\n",
              "      filter: drop-shadow(0px 1px 2px rgba(0, 0, 0, 0.3));\n",
              "      fill: #FFFFFF;\n",
              "    }\n",
              "  </style>\n",
              "\n",
              "      <script>\n",
              "        const buttonEl =\n",
              "          document.querySelector('#df-65658c6b-4f64-4e19-a7d3-574bf55d933b button.colab-df-convert');\n",
              "        buttonEl.style.display =\n",
              "          google.colab.kernel.accessAllowed ? 'block' : 'none';\n",
              "\n",
              "        async function convertToInteractive(key) {\n",
              "          const element = document.querySelector('#df-65658c6b-4f64-4e19-a7d3-574bf55d933b');\n",
              "          const dataTable =\n",
              "            await google.colab.kernel.invokeFunction('convertToInteractive',\n",
              "                                                     [key], {});\n",
              "          if (!dataTable) return;\n",
              "\n",
              "          const docLinkHtml = 'Like what you see? Visit the ' +\n",
              "            '<a target=\"_blank\" href=https://colab.research.google.com/notebooks/data_table.ipynb>data table notebook</a>'\n",
              "            + ' to learn more about interactive tables.';\n",
              "          element.innerHTML = '';\n",
              "          dataTable['output_type'] = 'display_data';\n",
              "          await google.colab.output.renderOutput(dataTable, element);\n",
              "          const docLink = document.createElement('div');\n",
              "          docLink.innerHTML = docLinkHtml;\n",
              "          element.appendChild(docLink);\n",
              "        }\n",
              "      </script>\n",
              "    </div>\n",
              "  </div>\n",
              "  "
            ],
            "text/plain": [
              "         color        director  ...  aspect  fblikes\n",
              "Ratava   Color   James Cameron  ...    1.78    33000\n",
              "POC      Color  Gore Verbinski  ...    2.35        0\n",
              "Ertceps  Color      Sam Mendes  ...    2.35    85000\n",
              "\n",
              "[3 rows x 27 columns]"
            ]
          },
          "metadata": {},
          "execution_count": 90
        }
      ]
    },
    {
      "cell_type": "markdown",
      "source": [
        "Another option is to pass a function into the `.rename` method. The function takes a column\n",
        "name and returns a new name. Assuming there are spaces and uppercases in the columns,\n",
        "this code will clean them up:"
      ],
      "metadata": {
        "id": "H3_Ctre85eyj"
      }
    },
    {
      "cell_type": "code",
      "source": [
        "def to_clean(val):\n",
        "  return val.strip().lower().replace(' ', '_')"
      ],
      "metadata": {
        "id": "n_zY3wBu5K8s"
      },
      "execution_count": 91,
      "outputs": []
    },
    {
      "cell_type": "code",
      "source": [
        "movies.rename(columns=to_clean).head(3)"
      ],
      "metadata": {
        "colab": {
          "base_uri": "https://localhost:8080/",
          "height": 260
        },
        "id": "-9G7Patu5ztZ",
        "outputId": "5e621cdf-3e05-4cd8-b120-eb10e35ad7d5"
      },
      "execution_count": 92,
      "outputs": [
        {
          "output_type": "execute_result",
          "data": {
            "text/html": [
              "\n",
              "  <div id=\"df-dfeff4fe-894b-4a27-bdf9-62d5f86d0df2\">\n",
              "    <div class=\"colab-df-container\">\n",
              "      <div>\n",
              "<style scoped>\n",
              "    .dataframe tbody tr th:only-of-type {\n",
              "        vertical-align: middle;\n",
              "    }\n",
              "\n",
              "    .dataframe tbody tr th {\n",
              "        vertical-align: top;\n",
              "    }\n",
              "\n",
              "    .dataframe thead th {\n",
              "        text-align: right;\n",
              "    }\n",
              "</style>\n",
              "<table border=\"1\" class=\"dataframe\">\n",
              "  <thead>\n",
              "    <tr style=\"text-align: right;\">\n",
              "      <th></th>\n",
              "      <th>color</th>\n",
              "      <th>director</th>\n",
              "      <th>num_critic_for_reviews</th>\n",
              "      <th>duration</th>\n",
              "      <th>director_facebook_likes</th>\n",
              "      <th>actor_3_facebook_likes</th>\n",
              "      <th>actor_2_name</th>\n",
              "      <th>actor_1_facebook_likes</th>\n",
              "      <th>gross</th>\n",
              "      <th>genres</th>\n",
              "      <th>actor_1_name</th>\n",
              "      <th>num_voted_users</th>\n",
              "      <th>cast_total_facebook_likes</th>\n",
              "      <th>actor_3_name</th>\n",
              "      <th>facenumber_in_poster</th>\n",
              "      <th>plot_keywords</th>\n",
              "      <th>movie_imdb_link</th>\n",
              "      <th>num_user_for_reviews</th>\n",
              "      <th>language</th>\n",
              "      <th>country</th>\n",
              "      <th>content_rating</th>\n",
              "      <th>budget</th>\n",
              "      <th>title_year</th>\n",
              "      <th>actor_2_facebook_likes</th>\n",
              "      <th>imdb_score</th>\n",
              "      <th>aspect</th>\n",
              "      <th>fblikes</th>\n",
              "    </tr>\n",
              "  </thead>\n",
              "  <tbody>\n",
              "    <tr>\n",
              "      <th>Ratava</th>\n",
              "      <td>Color</td>\n",
              "      <td>James Cameron</td>\n",
              "      <td>723.0</td>\n",
              "      <td>178.0</td>\n",
              "      <td>0.0</td>\n",
              "      <td>855.0</td>\n",
              "      <td>Joel David Moore</td>\n",
              "      <td>1000.0</td>\n",
              "      <td>760505847.0</td>\n",
              "      <td>Action|Adventure|Fantasy|Sci-Fi</td>\n",
              "      <td>CCH Pounder</td>\n",
              "      <td>886204</td>\n",
              "      <td>4834</td>\n",
              "      <td>Wes Studi</td>\n",
              "      <td>0.0</td>\n",
              "      <td>avatar|future|marine|native|paraplegic</td>\n",
              "      <td>http://www.imdb.com/title/tt0499549/?ref_=fn_t...</td>\n",
              "      <td>3054.0</td>\n",
              "      <td>English</td>\n",
              "      <td>USA</td>\n",
              "      <td>PG-13</td>\n",
              "      <td>237000000.0</td>\n",
              "      <td>2009.0</td>\n",
              "      <td>936.0</td>\n",
              "      <td>7.9</td>\n",
              "      <td>1.78</td>\n",
              "      <td>33000</td>\n",
              "    </tr>\n",
              "    <tr>\n",
              "      <th>POC</th>\n",
              "      <td>Color</td>\n",
              "      <td>Gore Verbinski</td>\n",
              "      <td>302.0</td>\n",
              "      <td>169.0</td>\n",
              "      <td>563.0</td>\n",
              "      <td>1000.0</td>\n",
              "      <td>Orlando Bloom</td>\n",
              "      <td>40000.0</td>\n",
              "      <td>309404152.0</td>\n",
              "      <td>Action|Adventure|Fantasy</td>\n",
              "      <td>Johnny Depp</td>\n",
              "      <td>471220</td>\n",
              "      <td>48350</td>\n",
              "      <td>Jack Davenport</td>\n",
              "      <td>0.0</td>\n",
              "      <td>goddess|marriage ceremony|marriage proposal|pi...</td>\n",
              "      <td>http://www.imdb.com/title/tt0449088/?ref_=fn_t...</td>\n",
              "      <td>1238.0</td>\n",
              "      <td>English</td>\n",
              "      <td>USA</td>\n",
              "      <td>PG-13</td>\n",
              "      <td>300000000.0</td>\n",
              "      <td>2007.0</td>\n",
              "      <td>5000.0</td>\n",
              "      <td>7.1</td>\n",
              "      <td>2.35</td>\n",
              "      <td>0</td>\n",
              "    </tr>\n",
              "    <tr>\n",
              "      <th>Ertceps</th>\n",
              "      <td>Color</td>\n",
              "      <td>Sam Mendes</td>\n",
              "      <td>602.0</td>\n",
              "      <td>148.0</td>\n",
              "      <td>0.0</td>\n",
              "      <td>161.0</td>\n",
              "      <td>Rory Kinnear</td>\n",
              "      <td>11000.0</td>\n",
              "      <td>200074175.0</td>\n",
              "      <td>Action|Adventure|Thriller</td>\n",
              "      <td>Christoph Waltz</td>\n",
              "      <td>275868</td>\n",
              "      <td>11700</td>\n",
              "      <td>Stephanie Sigman</td>\n",
              "      <td>1.0</td>\n",
              "      <td>bomb|espionage|sequel|spy|terrorist</td>\n",
              "      <td>http://www.imdb.com/title/tt2379713/?ref_=fn_t...</td>\n",
              "      <td>994.0</td>\n",
              "      <td>English</td>\n",
              "      <td>UK</td>\n",
              "      <td>PG-13</td>\n",
              "      <td>245000000.0</td>\n",
              "      <td>2015.0</td>\n",
              "      <td>393.0</td>\n",
              "      <td>6.8</td>\n",
              "      <td>2.35</td>\n",
              "      <td>85000</td>\n",
              "    </tr>\n",
              "  </tbody>\n",
              "</table>\n",
              "</div>\n",
              "      <button class=\"colab-df-convert\" onclick=\"convertToInteractive('df-dfeff4fe-894b-4a27-bdf9-62d5f86d0df2')\"\n",
              "              title=\"Convert this dataframe to an interactive table.\"\n",
              "              style=\"display:none;\">\n",
              "        \n",
              "  <svg xmlns=\"http://www.w3.org/2000/svg\" height=\"24px\"viewBox=\"0 0 24 24\"\n",
              "       width=\"24px\">\n",
              "    <path d=\"M0 0h24v24H0V0z\" fill=\"none\"/>\n",
              "    <path d=\"M18.56 5.44l.94 2.06.94-2.06 2.06-.94-2.06-.94-.94-2.06-.94 2.06-2.06.94zm-11 1L8.5 8.5l.94-2.06 2.06-.94-2.06-.94L8.5 2.5l-.94 2.06-2.06.94zm10 10l.94 2.06.94-2.06 2.06-.94-2.06-.94-.94-2.06-.94 2.06-2.06.94z\"/><path d=\"M17.41 7.96l-1.37-1.37c-.4-.4-.92-.59-1.43-.59-.52 0-1.04.2-1.43.59L10.3 9.45l-7.72 7.72c-.78.78-.78 2.05 0 2.83L4 21.41c.39.39.9.59 1.41.59.51 0 1.02-.2 1.41-.59l7.78-7.78 2.81-2.81c.8-.78.8-2.07 0-2.86zM5.41 20L4 18.59l7.72-7.72 1.47 1.35L5.41 20z\"/>\n",
              "  </svg>\n",
              "      </button>\n",
              "      \n",
              "  <style>\n",
              "    .colab-df-container {\n",
              "      display:flex;\n",
              "      flex-wrap:wrap;\n",
              "      gap: 12px;\n",
              "    }\n",
              "\n",
              "    .colab-df-convert {\n",
              "      background-color: #E8F0FE;\n",
              "      border: none;\n",
              "      border-radius: 50%;\n",
              "      cursor: pointer;\n",
              "      display: none;\n",
              "      fill: #1967D2;\n",
              "      height: 32px;\n",
              "      padding: 0 0 0 0;\n",
              "      width: 32px;\n",
              "    }\n",
              "\n",
              "    .colab-df-convert:hover {\n",
              "      background-color: #E2EBFA;\n",
              "      box-shadow: 0px 1px 2px rgba(60, 64, 67, 0.3), 0px 1px 3px 1px rgba(60, 64, 67, 0.15);\n",
              "      fill: #174EA6;\n",
              "    }\n",
              "\n",
              "    [theme=dark] .colab-df-convert {\n",
              "      background-color: #3B4455;\n",
              "      fill: #D2E3FC;\n",
              "    }\n",
              "\n",
              "    [theme=dark] .colab-df-convert:hover {\n",
              "      background-color: #434B5C;\n",
              "      box-shadow: 0px 1px 3px 1px rgba(0, 0, 0, 0.15);\n",
              "      filter: drop-shadow(0px 1px 2px rgba(0, 0, 0, 0.3));\n",
              "      fill: #FFFFFF;\n",
              "    }\n",
              "  </style>\n",
              "\n",
              "      <script>\n",
              "        const buttonEl =\n",
              "          document.querySelector('#df-dfeff4fe-894b-4a27-bdf9-62d5f86d0df2 button.colab-df-convert');\n",
              "        buttonEl.style.display =\n",
              "          google.colab.kernel.accessAllowed ? 'block' : 'none';\n",
              "\n",
              "        async function convertToInteractive(key) {\n",
              "          const element = document.querySelector('#df-dfeff4fe-894b-4a27-bdf9-62d5f86d0df2');\n",
              "          const dataTable =\n",
              "            await google.colab.kernel.invokeFunction('convertToInteractive',\n",
              "                                                     [key], {});\n",
              "          if (!dataTable) return;\n",
              "\n",
              "          const docLinkHtml = 'Like what you see? Visit the ' +\n",
              "            '<a target=\"_blank\" href=https://colab.research.google.com/notebooks/data_table.ipynb>data table notebook</a>'\n",
              "            + ' to learn more about interactive tables.';\n",
              "          element.innerHTML = '';\n",
              "          dataTable['output_type'] = 'display_data';\n",
              "          await google.colab.output.renderOutput(dataTable, element);\n",
              "          const docLink = document.createElement('div');\n",
              "          docLink.innerHTML = docLinkHtml;\n",
              "          element.appendChild(docLink);\n",
              "        }\n",
              "      </script>\n",
              "    </div>\n",
              "  </div>\n",
              "  "
            ],
            "text/plain": [
              "         color        director  ...  aspect  fblikes\n",
              "Ratava   Color   James Cameron  ...    1.78    33000\n",
              "POC      Color  Gore Verbinski  ...    2.35        0\n",
              "Ertceps  Color      Sam Mendes  ...    2.35    85000\n",
              "\n",
              "[3 rows x 27 columns]"
            ]
          },
          "metadata": {},
          "execution_count": 92
        }
      ]
    },
    {
      "cell_type": "markdown",
      "source": [
        "We can also use Comprehensions list to clean columns:"
      ],
      "metadata": {
        "id": "17GNKQF06PCa"
      }
    },
    {
      "cell_type": "code",
      "source": [
        "cols = [col.strip().lower().replace(' ', '_') for col in movies.columns]\n",
        "movies.columns = cols\n",
        "movies.head(3)"
      ],
      "metadata": {
        "colab": {
          "base_uri": "https://localhost:8080/",
          "height": 260
        },
        "id": "5rJN0ubf57-S",
        "outputId": "123cfacf-877d-457f-d3ad-fd0b8a794475"
      },
      "execution_count": 94,
      "outputs": [
        {
          "output_type": "execute_result",
          "data": {
            "text/html": [
              "\n",
              "  <div id=\"df-7f79288d-a3e1-44e2-a5df-8780c4a95a06\">\n",
              "    <div class=\"colab-df-container\">\n",
              "      <div>\n",
              "<style scoped>\n",
              "    .dataframe tbody tr th:only-of-type {\n",
              "        vertical-align: middle;\n",
              "    }\n",
              "\n",
              "    .dataframe tbody tr th {\n",
              "        vertical-align: top;\n",
              "    }\n",
              "\n",
              "    .dataframe thead th {\n",
              "        text-align: right;\n",
              "    }\n",
              "</style>\n",
              "<table border=\"1\" class=\"dataframe\">\n",
              "  <thead>\n",
              "    <tr style=\"text-align: right;\">\n",
              "      <th></th>\n",
              "      <th>color</th>\n",
              "      <th>director</th>\n",
              "      <th>num_critic_for_reviews</th>\n",
              "      <th>duration</th>\n",
              "      <th>director_facebook_likes</th>\n",
              "      <th>actor_3_facebook_likes</th>\n",
              "      <th>actor_2_name</th>\n",
              "      <th>actor_1_facebook_likes</th>\n",
              "      <th>gross</th>\n",
              "      <th>genres</th>\n",
              "      <th>actor_1_name</th>\n",
              "      <th>num_voted_users</th>\n",
              "      <th>cast_total_facebook_likes</th>\n",
              "      <th>actor_3_name</th>\n",
              "      <th>facenumber_in_poster</th>\n",
              "      <th>plot_keywords</th>\n",
              "      <th>movie_imdb_link</th>\n",
              "      <th>num_user_for_reviews</th>\n",
              "      <th>language</th>\n",
              "      <th>country</th>\n",
              "      <th>content_rating</th>\n",
              "      <th>budget</th>\n",
              "      <th>title_year</th>\n",
              "      <th>actor_2_facebook_likes</th>\n",
              "      <th>imdb_score</th>\n",
              "      <th>aspect</th>\n",
              "      <th>fblikes</th>\n",
              "    </tr>\n",
              "  </thead>\n",
              "  <tbody>\n",
              "    <tr>\n",
              "      <th>Ratava</th>\n",
              "      <td>Color</td>\n",
              "      <td>James Cameron</td>\n",
              "      <td>723.0</td>\n",
              "      <td>178.0</td>\n",
              "      <td>0.0</td>\n",
              "      <td>855.0</td>\n",
              "      <td>Joel David Moore</td>\n",
              "      <td>1000.0</td>\n",
              "      <td>760505847.0</td>\n",
              "      <td>Action|Adventure|Fantasy|Sci-Fi</td>\n",
              "      <td>CCH Pounder</td>\n",
              "      <td>886204</td>\n",
              "      <td>4834</td>\n",
              "      <td>Wes Studi</td>\n",
              "      <td>0.0</td>\n",
              "      <td>avatar|future|marine|native|paraplegic</td>\n",
              "      <td>http://www.imdb.com/title/tt0499549/?ref_=fn_t...</td>\n",
              "      <td>3054.0</td>\n",
              "      <td>English</td>\n",
              "      <td>USA</td>\n",
              "      <td>PG-13</td>\n",
              "      <td>237000000.0</td>\n",
              "      <td>2009.0</td>\n",
              "      <td>936.0</td>\n",
              "      <td>7.9</td>\n",
              "      <td>1.78</td>\n",
              "      <td>33000</td>\n",
              "    </tr>\n",
              "    <tr>\n",
              "      <th>POC</th>\n",
              "      <td>Color</td>\n",
              "      <td>Gore Verbinski</td>\n",
              "      <td>302.0</td>\n",
              "      <td>169.0</td>\n",
              "      <td>563.0</td>\n",
              "      <td>1000.0</td>\n",
              "      <td>Orlando Bloom</td>\n",
              "      <td>40000.0</td>\n",
              "      <td>309404152.0</td>\n",
              "      <td>Action|Adventure|Fantasy</td>\n",
              "      <td>Johnny Depp</td>\n",
              "      <td>471220</td>\n",
              "      <td>48350</td>\n",
              "      <td>Jack Davenport</td>\n",
              "      <td>0.0</td>\n",
              "      <td>goddess|marriage ceremony|marriage proposal|pi...</td>\n",
              "      <td>http://www.imdb.com/title/tt0449088/?ref_=fn_t...</td>\n",
              "      <td>1238.0</td>\n",
              "      <td>English</td>\n",
              "      <td>USA</td>\n",
              "      <td>PG-13</td>\n",
              "      <td>300000000.0</td>\n",
              "      <td>2007.0</td>\n",
              "      <td>5000.0</td>\n",
              "      <td>7.1</td>\n",
              "      <td>2.35</td>\n",
              "      <td>0</td>\n",
              "    </tr>\n",
              "    <tr>\n",
              "      <th>Ertceps</th>\n",
              "      <td>Color</td>\n",
              "      <td>Sam Mendes</td>\n",
              "      <td>602.0</td>\n",
              "      <td>148.0</td>\n",
              "      <td>0.0</td>\n",
              "      <td>161.0</td>\n",
              "      <td>Rory Kinnear</td>\n",
              "      <td>11000.0</td>\n",
              "      <td>200074175.0</td>\n",
              "      <td>Action|Adventure|Thriller</td>\n",
              "      <td>Christoph Waltz</td>\n",
              "      <td>275868</td>\n",
              "      <td>11700</td>\n",
              "      <td>Stephanie Sigman</td>\n",
              "      <td>1.0</td>\n",
              "      <td>bomb|espionage|sequel|spy|terrorist</td>\n",
              "      <td>http://www.imdb.com/title/tt2379713/?ref_=fn_t...</td>\n",
              "      <td>994.0</td>\n",
              "      <td>English</td>\n",
              "      <td>UK</td>\n",
              "      <td>PG-13</td>\n",
              "      <td>245000000.0</td>\n",
              "      <td>2015.0</td>\n",
              "      <td>393.0</td>\n",
              "      <td>6.8</td>\n",
              "      <td>2.35</td>\n",
              "      <td>85000</td>\n",
              "    </tr>\n",
              "  </tbody>\n",
              "</table>\n",
              "</div>\n",
              "      <button class=\"colab-df-convert\" onclick=\"convertToInteractive('df-7f79288d-a3e1-44e2-a5df-8780c4a95a06')\"\n",
              "              title=\"Convert this dataframe to an interactive table.\"\n",
              "              style=\"display:none;\">\n",
              "        \n",
              "  <svg xmlns=\"http://www.w3.org/2000/svg\" height=\"24px\"viewBox=\"0 0 24 24\"\n",
              "       width=\"24px\">\n",
              "    <path d=\"M0 0h24v24H0V0z\" fill=\"none\"/>\n",
              "    <path d=\"M18.56 5.44l.94 2.06.94-2.06 2.06-.94-2.06-.94-.94-2.06-.94 2.06-2.06.94zm-11 1L8.5 8.5l.94-2.06 2.06-.94-2.06-.94L8.5 2.5l-.94 2.06-2.06.94zm10 10l.94 2.06.94-2.06 2.06-.94-2.06-.94-.94-2.06-.94 2.06-2.06.94z\"/><path d=\"M17.41 7.96l-1.37-1.37c-.4-.4-.92-.59-1.43-.59-.52 0-1.04.2-1.43.59L10.3 9.45l-7.72 7.72c-.78.78-.78 2.05 0 2.83L4 21.41c.39.39.9.59 1.41.59.51 0 1.02-.2 1.41-.59l7.78-7.78 2.81-2.81c.8-.78.8-2.07 0-2.86zM5.41 20L4 18.59l7.72-7.72 1.47 1.35L5.41 20z\"/>\n",
              "  </svg>\n",
              "      </button>\n",
              "      \n",
              "  <style>\n",
              "    .colab-df-container {\n",
              "      display:flex;\n",
              "      flex-wrap:wrap;\n",
              "      gap: 12px;\n",
              "    }\n",
              "\n",
              "    .colab-df-convert {\n",
              "      background-color: #E8F0FE;\n",
              "      border: none;\n",
              "      border-radius: 50%;\n",
              "      cursor: pointer;\n",
              "      display: none;\n",
              "      fill: #1967D2;\n",
              "      height: 32px;\n",
              "      padding: 0 0 0 0;\n",
              "      width: 32px;\n",
              "    }\n",
              "\n",
              "    .colab-df-convert:hover {\n",
              "      background-color: #E2EBFA;\n",
              "      box-shadow: 0px 1px 2px rgba(60, 64, 67, 0.3), 0px 1px 3px 1px rgba(60, 64, 67, 0.15);\n",
              "      fill: #174EA6;\n",
              "    }\n",
              "\n",
              "    [theme=dark] .colab-df-convert {\n",
              "      background-color: #3B4455;\n",
              "      fill: #D2E3FC;\n",
              "    }\n",
              "\n",
              "    [theme=dark] .colab-df-convert:hover {\n",
              "      background-color: #434B5C;\n",
              "      box-shadow: 0px 1px 3px 1px rgba(0, 0, 0, 0.15);\n",
              "      filter: drop-shadow(0px 1px 2px rgba(0, 0, 0, 0.3));\n",
              "      fill: #FFFFFF;\n",
              "    }\n",
              "  </style>\n",
              "\n",
              "      <script>\n",
              "        const buttonEl =\n",
              "          document.querySelector('#df-7f79288d-a3e1-44e2-a5df-8780c4a95a06 button.colab-df-convert');\n",
              "        buttonEl.style.display =\n",
              "          google.colab.kernel.accessAllowed ? 'block' : 'none';\n",
              "\n",
              "        async function convertToInteractive(key) {\n",
              "          const element = document.querySelector('#df-7f79288d-a3e1-44e2-a5df-8780c4a95a06');\n",
              "          const dataTable =\n",
              "            await google.colab.kernel.invokeFunction('convertToInteractive',\n",
              "                                                     [key], {});\n",
              "          if (!dataTable) return;\n",
              "\n",
              "          const docLinkHtml = 'Like what you see? Visit the ' +\n",
              "            '<a target=\"_blank\" href=https://colab.research.google.com/notebooks/data_table.ipynb>data table notebook</a>'\n",
              "            + ' to learn more about interactive tables.';\n",
              "          element.innerHTML = '';\n",
              "          dataTable['output_type'] = 'display_data';\n",
              "          await google.colab.output.renderOutput(dataTable, element);\n",
              "          const docLink = document.createElement('div');\n",
              "          docLink.innerHTML = docLinkHtml;\n",
              "          element.appendChild(docLink);\n",
              "        }\n",
              "      </script>\n",
              "    </div>\n",
              "  </div>\n",
              "  "
            ],
            "text/plain": [
              "         color        director  ...  aspect  fblikes\n",
              "Ratava   Color   James Cameron  ...    1.78    33000\n",
              "POC      Color  Gore Verbinski  ...    2.35        0\n",
              "Ertceps  Color      Sam Mendes  ...    2.35    85000\n",
              "\n",
              "[3 rows x 27 columns]"
            ]
          },
          "metadata": {},
          "execution_count": 94
        }
      ]
    },
    {
      "cell_type": "code",
      "source": [
        ""
      ],
      "metadata": {
        "id": "Gl5Tok3e6q34"
      },
      "execution_count": null,
      "outputs": []
    }
  ]
}