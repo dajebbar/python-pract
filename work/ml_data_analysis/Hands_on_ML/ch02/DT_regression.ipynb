{
  "nbformat": 4,
  "nbformat_minor": 0,
  "metadata": {
    "colab": {
      "name": "DT_regression.ipynb",
      "provenance": []
    },
    "kernelspec": {
      "name": "python3",
      "display_name": "Python 3"
    },
    "language_info": {
      "name": "python"
    }
  },
  "cells": [
    {
      "cell_type": "markdown",
      "source": [
        "# Decision Trees: Regression"
      ],
      "metadata": {
        "id": "Mnu_EOg3kb3Z"
      }
    },
    {
      "cell_type": "code",
      "execution_count": 4,
      "metadata": {
        "id": "XEUQbn_gkPyV"
      },
      "outputs": [],
      "source": [
        "import numpy as np\n",
        "import pandas as pd\n",
        "import matplotlib.pyplot as plt\n",
        "import warnings\n",
        "warnings.filterwarnings('ignore')\n",
        "plt.style.use('fivethirtyeight')\n",
        "%matplotlib inline"
      ]
    },
    {
      "cell_type": "markdown",
      "source": [
        "## Creating Height Dataset"
      ],
      "metadata": {
        "id": "x35S5z5fkn05"
      }
    },
    {
      "cell_type": "code",
      "source": [
        "n = 200\n",
        "\n",
        "height_pop1_f = np.random.normal(loc=155, scale=4, size=n)\n",
        "height_pop1_m = np.random.normal(loc=175, scale=5, size=n)\n",
        "height_pop2_f = np.random.normal(loc=165, scale=15, size=n)\n",
        "height_pop2_m = np.random.normal(loc=185, scale=12, size=n)\n",
        "\n",
        "height_f = np.concatenate([height_pop1_f, height_pop2_f])\n",
        "height_m = np.concatenate([height_pop1_m, height_pop2_m])\n",
        "\n",
        "df_height = pd.DataFrame(\n",
        "    {\n",
        "        'Gender': [1 for i in range(height_f.size)] + [2 for i in range(height_m.size)],\n",
        "        'Height': np.concatenate((height_f, height_m))\n",
        "    }\n",
        ")\n",
        "\n",
        "df_height.sample(n=8)"
      ],
      "metadata": {
        "colab": {
          "base_uri": "https://localhost:8080/",
          "height": 300
        },
        "id": "jr1hn5_mkg37",
        "outputId": "e0f8dba3-585e-47ae-8929-95fe980fa5be"
      },
      "execution_count": 2,
      "outputs": [
        {
          "output_type": "execute_result",
          "data": {
            "text/plain": [
              "     Gender      Height\n",
              "259       1  159.614317\n",
              "440       2  180.985467\n",
              "798       2  178.300019\n",
              "23        1  154.792867\n",
              "316       1  176.936015\n",
              "252       1  192.540470\n",
              "131       1  156.271541\n",
              "311       1  182.432672"
            ],
            "text/html": [
              "\n",
              "  <div id=\"df-e475672b-08cd-492a-a8d6-86857374d326\">\n",
              "    <div class=\"colab-df-container\">\n",
              "      <div>\n",
              "<style scoped>\n",
              "    .dataframe tbody tr th:only-of-type {\n",
              "        vertical-align: middle;\n",
              "    }\n",
              "\n",
              "    .dataframe tbody tr th {\n",
              "        vertical-align: top;\n",
              "    }\n",
              "\n",
              "    .dataframe thead th {\n",
              "        text-align: right;\n",
              "    }\n",
              "</style>\n",
              "<table border=\"1\" class=\"dataframe\">\n",
              "  <thead>\n",
              "    <tr style=\"text-align: right;\">\n",
              "      <th></th>\n",
              "      <th>Gender</th>\n",
              "      <th>Height</th>\n",
              "    </tr>\n",
              "  </thead>\n",
              "  <tbody>\n",
              "    <tr>\n",
              "      <th>259</th>\n",
              "      <td>1</td>\n",
              "      <td>159.614317</td>\n",
              "    </tr>\n",
              "    <tr>\n",
              "      <th>440</th>\n",
              "      <td>2</td>\n",
              "      <td>180.985467</td>\n",
              "    </tr>\n",
              "    <tr>\n",
              "      <th>798</th>\n",
              "      <td>2</td>\n",
              "      <td>178.300019</td>\n",
              "    </tr>\n",
              "    <tr>\n",
              "      <th>23</th>\n",
              "      <td>1</td>\n",
              "      <td>154.792867</td>\n",
              "    </tr>\n",
              "    <tr>\n",
              "      <th>316</th>\n",
              "      <td>1</td>\n",
              "      <td>176.936015</td>\n",
              "    </tr>\n",
              "    <tr>\n",
              "      <th>252</th>\n",
              "      <td>1</td>\n",
              "      <td>192.540470</td>\n",
              "    </tr>\n",
              "    <tr>\n",
              "      <th>131</th>\n",
              "      <td>1</td>\n",
              "      <td>156.271541</td>\n",
              "    </tr>\n",
              "    <tr>\n",
              "      <th>311</th>\n",
              "      <td>1</td>\n",
              "      <td>182.432672</td>\n",
              "    </tr>\n",
              "  </tbody>\n",
              "</table>\n",
              "</div>\n",
              "      <button class=\"colab-df-convert\" onclick=\"convertToInteractive('df-e475672b-08cd-492a-a8d6-86857374d326')\"\n",
              "              title=\"Convert this dataframe to an interactive table.\"\n",
              "              style=\"display:none;\">\n",
              "        \n",
              "  <svg xmlns=\"http://www.w3.org/2000/svg\" height=\"24px\"viewBox=\"0 0 24 24\"\n",
              "       width=\"24px\">\n",
              "    <path d=\"M0 0h24v24H0V0z\" fill=\"none\"/>\n",
              "    <path d=\"M18.56 5.44l.94 2.06.94-2.06 2.06-.94-2.06-.94-.94-2.06-.94 2.06-2.06.94zm-11 1L8.5 8.5l.94-2.06 2.06-.94-2.06-.94L8.5 2.5l-.94 2.06-2.06.94zm10 10l.94 2.06.94-2.06 2.06-.94-2.06-.94-.94-2.06-.94 2.06-2.06.94z\"/><path d=\"M17.41 7.96l-1.37-1.37c-.4-.4-.92-.59-1.43-.59-.52 0-1.04.2-1.43.59L10.3 9.45l-7.72 7.72c-.78.78-.78 2.05 0 2.83L4 21.41c.39.39.9.59 1.41.59.51 0 1.02-.2 1.41-.59l7.78-7.78 2.81-2.81c.8-.78.8-2.07 0-2.86zM5.41 20L4 18.59l7.72-7.72 1.47 1.35L5.41 20z\"/>\n",
              "  </svg>\n",
              "      </button>\n",
              "      \n",
              "  <style>\n",
              "    .colab-df-container {\n",
              "      display:flex;\n",
              "      flex-wrap:wrap;\n",
              "      gap: 12px;\n",
              "    }\n",
              "\n",
              "    .colab-df-convert {\n",
              "      background-color: #E8F0FE;\n",
              "      border: none;\n",
              "      border-radius: 50%;\n",
              "      cursor: pointer;\n",
              "      display: none;\n",
              "      fill: #1967D2;\n",
              "      height: 32px;\n",
              "      padding: 0 0 0 0;\n",
              "      width: 32px;\n",
              "    }\n",
              "\n",
              "    .colab-df-convert:hover {\n",
              "      background-color: #E2EBFA;\n",
              "      box-shadow: 0px 1px 2px rgba(60, 64, 67, 0.3), 0px 1px 3px 1px rgba(60, 64, 67, 0.15);\n",
              "      fill: #174EA6;\n",
              "    }\n",
              "\n",
              "    [theme=dark] .colab-df-convert {\n",
              "      background-color: #3B4455;\n",
              "      fill: #D2E3FC;\n",
              "    }\n",
              "\n",
              "    [theme=dark] .colab-df-convert:hover {\n",
              "      background-color: #434B5C;\n",
              "      box-shadow: 0px 1px 3px 1px rgba(0, 0, 0, 0.15);\n",
              "      filter: drop-shadow(0px 1px 2px rgba(0, 0, 0, 0.3));\n",
              "      fill: #FFFFFF;\n",
              "    }\n",
              "  </style>\n",
              "\n",
              "      <script>\n",
              "        const buttonEl =\n",
              "          document.querySelector('#df-e475672b-08cd-492a-a8d6-86857374d326 button.colab-df-convert');\n",
              "        buttonEl.style.display =\n",
              "          google.colab.kernel.accessAllowed ? 'block' : 'none';\n",
              "\n",
              "        async function convertToInteractive(key) {\n",
              "          const element = document.querySelector('#df-e475672b-08cd-492a-a8d6-86857374d326');\n",
              "          const dataTable =\n",
              "            await google.colab.kernel.invokeFunction('convertToInteractive',\n",
              "                                                     [key], {});\n",
              "          if (!dataTable) return;\n",
              "\n",
              "          const docLinkHtml = 'Like what you see? Visit the ' +\n",
              "            '<a target=\"_blank\" href=https://colab.research.google.com/notebooks/data_table.ipynb>data table notebook</a>'\n",
              "            + ' to learn more about interactive tables.';\n",
              "          element.innerHTML = '';\n",
              "          dataTable['output_type'] = 'display_data';\n",
              "          await google.colab.output.renderOutput(dataTable, element);\n",
              "          const docLink = document.createElement('div');\n",
              "          docLink.innerHTML = docLinkHtml;\n",
              "          element.appendChild(docLink);\n",
              "        }\n",
              "      </script>\n",
              "    </div>\n",
              "  </div>\n",
              "  "
            ]
          },
          "metadata": {},
          "execution_count": 2
        }
      ]
    },
    {
      "cell_type": "code",
      "source": [
        "df_height.shape"
      ],
      "metadata": {
        "colab": {
          "base_uri": "https://localhost:8080/"
        },
        "id": "hKbqPPl2kzsW",
        "outputId": "94789959-ebb8-4bd2-e7ea-b76fdc2a0ad5"
      },
      "execution_count": 3,
      "outputs": [
        {
          "output_type": "execute_result",
          "data": {
            "text/plain": [
              "(800, 2)"
            ]
          },
          "metadata": {},
          "execution_count": 3
        }
      ]
    },
    {
      "cell_type": "code",
      "source": [
        "fig, ax = plt.subplots(1, 1, figsize=(10, 5))\n",
        "\n",
        "df_height[df_height['Gender'] == 1]['Height'].plot(\n",
        "    label='Female', kind='hist', \n",
        "    bins=10, alpha=0.7, ax=ax\n",
        ")\n",
        "df_height[df_height['Gender'] == 2]['Height'].plot(\n",
        "    label='Male', kind='hist', \n",
        "    bins=10, alpha=0.7, ax=ax\n",
        ")\n",
        "\n",
        "# ax.set_xlim(140, 200)\n",
        "ax.legend()\n",
        "ax.set_title('Height Distribution')\n",
        "ax.set_xlabel('Height (in centimeters)')\n",
        "\n",
        "fig.show()"
      ],
      "metadata": {
        "colab": {
          "base_uri": "https://localhost:8080/",
          "height": 350
        },
        "id": "hAkM112fk40n",
        "outputId": "efeaa42e-3106-45f6-9fbe-25de7ae0e750"
      },
      "execution_count": 5,
      "outputs": [
        {
          "output_type": "display_data",
          "data": {
            "text/plain": [
              "<Figure size 720x360 with 1 Axes>"
            ],
            "image/png": "[encoded data removed]"
          },
          "metadata": {
            "needs_background": "light"
          }
        }
      ]
    },
    {
      "cell_type": "code",
      "source": [
        "df_height.groupby('Gender')[['Height']].agg([np.mean, np.median]).round(1)"
      ],
      "metadata": {
        "colab": {
          "base_uri": "https://localhost:8080/",
          "height": 175
        },
        "id": "LrlMbOXnlTf4",
        "outputId": "a4962695-60e4-44f4-95a6-32297fc79b38"
      },
      "execution_count": 6,
      "outputs": [
        {
          "output_type": "execute_result",
          "data": {
            "text/plain": [
              "       Height       \n",
              "         mean median\n",
              "Gender              \n",
              "1       160.1  157.7\n",
              "2       180.7  178.3"
            ],
            "text/html": [
              "\n",
              "  <div id=\"df-148e2fb8-f115-4bde-8531-664d290ffcdc\">\n",
              "    <div class=\"colab-df-container\">\n",
              "      <div>\n",
              "<style scoped>\n",
              "    .dataframe tbody tr th:only-of-type {\n",
              "        vertical-align: middle;\n",
              "    }\n",
              "\n",
              "    .dataframe tbody tr th {\n",
              "        vertical-align: top;\n",
              "    }\n",
              "\n",
              "    .dataframe thead tr th {\n",
              "        text-align: left;\n",
              "    }\n",
              "\n",
              "    .dataframe thead tr:last-of-type th {\n",
              "        text-align: right;\n",
              "    }\n",
              "</style>\n",
              "<table border=\"1\" class=\"dataframe\">\n",
              "  <thead>\n",
              "    <tr>\n",
              "      <th></th>\n",
              "      <th colspan=\"2\" halign=\"left\">Height</th>\n",
              "    </tr>\n",
              "    <tr>\n",
              "      <th></th>\n",
              "      <th>mean</th>\n",
              "      <th>median</th>\n",
              "    </tr>\n",
              "    <tr>\n",
              "      <th>Gender</th>\n",
              "      <th></th>\n",
              "      <th></th>\n",
              "    </tr>\n",
              "  </thead>\n",
              "  <tbody>\n",
              "    <tr>\n",
              "      <th>1</th>\n",
              "      <td>160.1</td>\n",
              "      <td>157.7</td>\n",
              "    </tr>\n",
              "    <tr>\n",
              "      <th>2</th>\n",
              "      <td>180.7</td>\n",
              "      <td>178.3</td>\n",
              "    </tr>\n",
              "  </tbody>\n",
              "</table>\n",
              "</div>\n",
              "      <button class=\"colab-df-convert\" onclick=\"convertToInteractive('df-148e2fb8-f115-4bde-8531-664d290ffcdc')\"\n",
              "              title=\"Convert this dataframe to an interactive table.\"\n",
              "              style=\"display:none;\">\n",
              "        \n",
              "  <svg xmlns=\"http://www.w3.org/2000/svg\" height=\"24px\"viewBox=\"0 0 24 24\"\n",
              "       width=\"24px\">\n",
              "    <path d=\"M0 0h24v24H0V0z\" fill=\"none\"/>\n",
              "    <path d=\"M18.56 5.44l.94 2.06.94-2.06 2.06-.94-2.06-.94-.94-2.06-.94 2.06-2.06.94zm-11 1L8.5 8.5l.94-2.06 2.06-.94-2.06-.94L8.5 2.5l-.94 2.06-2.06.94zm10 10l.94 2.06.94-2.06 2.06-.94-2.06-.94-.94-2.06-.94 2.06-2.06.94z\"/><path d=\"M17.41 7.96l-1.37-1.37c-.4-.4-.92-.59-1.43-.59-.52 0-1.04.2-1.43.59L10.3 9.45l-7.72 7.72c-.78.78-.78 2.05 0 2.83L4 21.41c.39.39.9.59 1.41.59.51 0 1.02-.2 1.41-.59l7.78-7.78 2.81-2.81c.8-.78.8-2.07 0-2.86zM5.41 20L4 18.59l7.72-7.72 1.47 1.35L5.41 20z\"/>\n",
              "  </svg>\n",
              "      </button>\n",
              "      \n",
              "  <style>\n",
              "    .colab-df-container {\n",
              "      display:flex;\n",
              "      flex-wrap:wrap;\n",
              "      gap: 12px;\n",
              "    }\n",
              "\n",
              "    .colab-df-convert {\n",
              "      background-color: #E8F0FE;\n",
              "      border: none;\n",
              "      border-radius: 50%;\n",
              "      cursor: pointer;\n",
              "      display: none;\n",
              "      fill: #1967D2;\n",
              "      height: 32px;\n",
              "      padding: 0 0 0 0;\n",
              "      width: 32px;\n",
              "    }\n",
              "\n",
              "    .colab-df-convert:hover {\n",
              "      background-color: #E2EBFA;\n",
              "      box-shadow: 0px 1px 2px rgba(60, 64, 67, 0.3), 0px 1px 3px 1px rgba(60, 64, 67, 0.15);\n",
              "      fill: #174EA6;\n",
              "    }\n",
              "\n",
              "    [theme=dark] .colab-df-convert {\n",
              "      background-color: #3B4455;\n",
              "      fill: #D2E3FC;\n",
              "    }\n",
              "\n",
              "    [theme=dark] .colab-df-convert:hover {\n",
              "      background-color: #434B5C;\n",
              "      box-shadow: 0px 1px 3px 1px rgba(0, 0, 0, 0.15);\n",
              "      filter: drop-shadow(0px 1px 2px rgba(0, 0, 0, 0.3));\n",
              "      fill: #FFFFFF;\n",
              "    }\n",
              "  </style>\n",
              "\n",
              "      <script>\n",
              "        const buttonEl =\n",
              "          document.querySelector('#df-148e2fb8-f115-4bde-8531-664d290ffcdc button.colab-df-convert');\n",
              "        buttonEl.style.display =\n",
              "          google.colab.kernel.accessAllowed ? 'block' : 'none';\n",
              "\n",
              "        async function convertToInteractive(key) {\n",
              "          const element = document.querySelector('#df-148e2fb8-f115-4bde-8531-664d290ffcdc');\n",
              "          const dataTable =\n",
              "            await google.colab.kernel.invokeFunction('convertToInteractive',\n",
              "                                                     [key], {});\n",
              "          if (!dataTable) return;\n",
              "\n",
              "          const docLinkHtml = 'Like what you see? Visit the ' +\n",
              "            '<a target=\"_blank\" href=https://colab.research.google.com/notebooks/data_table.ipynb>data table notebook</a>'\n",
              "            + ' to learn more about interactive tables.';\n",
              "          element.innerHTML = '';\n",
              "          dataTable['output_type'] = 'display_data';\n",
              "          await google.colab.output.renderOutput(dataTable, element);\n",
              "          const docLink = document.createElement('div');\n",
              "          docLink.innerHTML = docLinkHtml;\n",
              "          element.appendChild(docLink);\n",
              "        }\n",
              "      </script>\n",
              "    </div>\n",
              "  </div>\n",
              "  "
            ]
          },
          "metadata": {},
          "execution_count": 6
        }
      ]
    },
    {
      "cell_type": "markdown",
      "source": [
        "## Splitting Data then applying the Regressor"
      ],
      "metadata": {
        "id": "zl9gKMAHmFIi"
      }
    },
    {
      "cell_type": "code",
      "source": [
        "data = df_height[['Gender']]\n",
        "target = df_height.Height"
      ],
      "metadata": {
        "id": "w26WmY44l6sq"
      },
      "execution_count": 8,
      "outputs": []
    },
    {
      "cell_type": "code",
      "source": [
        "from sklearn.model_selection import train_test_split\n",
        "\n",
        "X_train, X_test, y_train, y_test = train_test_split(data, target, test_size=.3,\n",
        "                                                    random_state=0)"
      ],
      "metadata": {
        "id": "8XOge7otmP0S"
      },
      "execution_count": 9,
      "outputs": []
    },
    {
      "cell_type": "code",
      "source": [
        "from sklearn.tree import DecisionTreeRegressor\n",
        "\n",
        "clf = DecisionTreeRegressor()\n",
        "\n",
        "clf.fit(X_train, y_train)"
      ],
      "metadata": {
        "colab": {
          "base_uri": "https://localhost:8080/"
        },
        "id": "9bWxLMKjmtvw",
        "outputId": "08bad536-5eea-4a4b-a056-7553e313c0cc"
      },
      "execution_count": 11,
      "outputs": [
        {
          "output_type": "execute_result",
          "data": {
            "text/plain": [
              "DecisionTreeRegressor()"
            ]
          },
          "metadata": {},
          "execution_count": 11
        }
      ]
    },
    {
      "cell_type": "markdown",
      "source": [
        "- Mean squared error (MSE or L2): Say after the split, we get three samples in one group with targets of 5, 5, and 8. We calculate the mean value of these three numbers (6). Then, we calculate the squared differences between each sample and the calculated mean 1, 1, and 4. We then take the mean of these squared differences, which is 2.\n",
        "- Mean absolute error (MAE or L1): Say after the split, we get three samples in one group with targets of 5, 5, and 8. We calculate the median value of these three numbers (5). Then, we calculate the absolute differences between each sample and the calculated median 0, 0, and 3. We then take the mean of these absolute differences, which is 1.  \n",
        "\n",
        "For each possible split at training time, the tree calculates either L1 or L2 for each of the expected sub-groups after the split. A split with the minimum L1 or L2 is then chosen at this step. L1 may be preferred sometimes due to its robustness to outliers. The other important difference to keep in mind is that L1 uses median while L2 uses mean in its calculations.\n"
      ],
      "metadata": {
        "id": "9mRVmXfTn3pa"
      }
    },
    {
      "cell_type": "code",
      "source": [
        "from sklearn.tree import export_text\n",
        "from sklearn.metrics import (\n",
        "    mean_squared_error, \n",
        "    mean_absolute_error,\n",
        ")\n",
        "\n",
        "criterions = ['mse', 'mae']\n",
        "\n",
        "for criterion in criterions:\n",
        "  reg = DecisionTreeRegressor(criterion=criterion)\n",
        "  reg.fit(X_train, y_train)\n",
        "  print(f'\\ncriterion={criterion}:\\n')\n",
        "  print(export_text(reg, feature_names=['Gender'], spacing=3, decimals=1))\n",
        "\n",
        "  y_pred = reg.predict(X_test)\n",
        "\n",
        "  print('MSE:', round(mean_squared_error(y_test, y_pred), 1))\n",
        "  print('MAE:', round(mean_absolute_error(y_test, y_pred), 1))"
      ],
      "metadata": {
        "colab": {
          "base_uri": "https://localhost:8080/"
        },
        "id": "J5rZhllgmvHB",
        "outputId": "5cd7b767-9360-4db2-9f94-2978ae9ce239"
      },
      "execution_count": 12,
      "outputs": [
        {
          "output_type": "stream",
          "name": "stdout",
          "text": [
            "\n",
            "criterion=mse:\n",
            "\n",
            "|--- Gender <= 1.5\n",
            "|   |--- value: [160.0]\n",
            "|--- Gender >  1.5\n",
            "|   |--- value: [181.0]\n",
            "\n",
            "MSE: 146.1\n",
            "MAE: 9.1\n",
            "\n",
            "criterion=mae:\n",
            "\n",
            "|--- Gender <= 1.5\n",
            "|   |--- value: [157.0]\n",
            "|--- Gender >  1.5\n",
            "|   |--- value: [178.6]\n",
            "\n",
            "MSE: 152.4\n",
            "MAE: 8.9\n"
          ]
        }
      ]
    },
    {
      "cell_type": "markdown",
      "source": [
        "Of course, we only had one binary feature in our dataset—gender. That's why we had a very shallow tree with a single split (a stub). Actually, in this case, we do not even need to train a decision tree; we could have easily calculated the mean heights for males and females and used them as our expected values right away. The decisions made by such a shallow tree are called biased decisions. If we would have allowed each individual to express themselves using more information, rather than just their gender, then we would have been able to make more accurate predictions for each individual.\n",
        "Finally, just as in the classification trees, we have the same knobs, such as max_depth, min_samples_split, and min_samples_leaf, to control the growth of a regression tree."
      ],
      "metadata": {
        "id": "eUScdT4-qC48"
      }
    },
    {
      "cell_type": "markdown",
      "source": [
        "## Setting sample weights"
      ],
      "metadata": {
        "id": "Y542PPyksIwL"
      }
    },
    {
      "cell_type": "code",
      "source": [
        "y_train"
      ],
      "metadata": {
        "colab": {
          "base_uri": "https://localhost:8080/"
        },
        "id": "SmsxQ4edpTGO",
        "outputId": "47c6af64-17bb-42b6-9914-1afb5c02e1bb"
      },
      "execution_count": 13,
      "outputs": [
        {
          "output_type": "execute_result",
          "data": {
            "text/plain": [
              "77     163.926471\n",
              "409    174.528496\n",
              "567    175.658584\n",
              "483    171.043701\n",
              "109    152.718220\n",
              "          ...    \n",
              "763    189.151459\n",
              "192    154.635270\n",
              "629    184.319447\n",
              "559    180.931419\n",
              "684    176.710069\n",
              "Name: Height, Length: 560, dtype: float64"
            ]
          },
          "metadata": {},
          "execution_count": 13
        }
      ]
    },
    {
      "cell_type": "code",
      "source": [
        "for who_gets_more_weight in ['below 150', 'above 150']:\n",
        "    rgrsr = DecisionTreeRegressor(criterion='mse')\n",
        "    if who_gets_more_weight == 'below 150':\n",
        "        sample_weight = y_train.apply(lambda h: 10 if h <= 150 else 1)\n",
        "    else:\n",
        "        sample_weight = y_train.apply(lambda h: 10 if h > 150 else 1)\n",
        "    rgrsr.fit(X_train, y_train, sample_weight=sample_weight)\n",
        "\n",
        "    print(f'\\nEmphasis on {who_gets_more_weight}:\\n')\n",
        "    print(export_text(rgrsr, feature_names=['Gender'], spacing=3, decimals=1))\n",
        "    \n",
        "    y_test_pred = rgrsr.predict(X_test)\n",
        "    \n",
        "    print('MSE:', round(mean_squared_error(y_test, y_test_pred), 1))\n",
        "    print('MAE:', round(mean_absolute_error(y_test, y_test_pred), 1))"
      ],
      "metadata": {
        "colab": {
          "base_uri": "https://localhost:8080/"
        },
        "id": "pnBnEh7DsA26",
        "outputId": "7e7de81e-249c-4386-8d50-99e7d44816c6"
      },
      "execution_count": 14,
      "outputs": [
        {
          "output_type": "stream",
          "name": "stdout",
          "text": [
            "\n",
            "Emphasis on below 150:\n",
            "\n",
            "|--- Gender <= 1.5\n",
            "|   |--- value: [151.5]\n",
            "|--- Gender >  1.5\n",
            "|   |--- value: [181.0]\n",
            "\n",
            "MSE: 185.5\n",
            "MAE: 10.1\n",
            "\n",
            "Emphasis on above 150:\n",
            "\n",
            "|--- Gender <= 1.5\n",
            "|   |--- value: [162.1]\n",
            "|--- Gender >  1.5\n",
            "|   |--- value: [181.0]\n",
            "\n",
            "MSE: 147.2\n",
            "MAE: 9.4\n"
          ]
        }
      ]
    },
    {
      "cell_type": "code",
      "source": [
        ""
      ],
      "metadata": {
        "id": "0v5Bn-RftEZ2"
      },
      "execution_count": null,
      "outputs": []
    }
  ]
}