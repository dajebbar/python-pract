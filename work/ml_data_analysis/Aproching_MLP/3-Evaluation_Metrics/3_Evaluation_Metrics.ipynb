{
  "nbformat": 4,
  "nbformat_minor": 0,
  "metadata": {
    "colab": {
      "name": "3-Evaluation_Metrics.ipynb",
      "provenance": []
    },
    "kernelspec": {
      "name": "python3",
      "display_name": "Python 3"
    },
    "language_info": {
      "name": "python"
    }
  },
  "cells": [
    {
      "cell_type": "markdown",
      "source": [
        "# Accuracy"
      ],
      "metadata": {
        "id": "23w3tBjSnmKV"
      }
    },
    {
      "cell_type": "code",
      "execution_count": 1,
      "metadata": {
        "id": "Xm-rb6DjiwJM"
      },
      "outputs": [],
      "source": [
        "def accuracy(y_true, y_pred):\n",
        "  correct_counter = 0\n",
        "  for yt, yp in zip(y_true, y_pred):\n",
        "    if yt == yp:\n",
        "      correct_counter += 1\n",
        "  \n",
        "  return correct_counter / len(y_true)\n",
        "\n",
        "def true_positive(y_true, y_pred):\n",
        "  tp = 0\n",
        "  for yt, yp in zip(y_true, y_pred):\n",
        "    if yt == 1 and yp == 1:\n",
        "      tp += 1\n",
        "  \n",
        "  return tp\n",
        "\n",
        "def true_negative(y_true, y_pred):\n",
        "  tn = 0\n",
        "  for yt, yp in zip(y_true, y_pred):\n",
        "    if yt == 0 and yp == 0:\n",
        "      tn += 1\n",
        "  \n",
        "  return tn\n",
        "\n",
        "def false_positive(y_true, y_pred):\n",
        "  fp = 0\n",
        "  for yt, yp in zip(y_true, y_pred):\n",
        "    if yt == 0 and yp == 1:\n",
        "      fp += 1\n",
        "  \n",
        "  return fp\n",
        "\n",
        "def false_negative(y_true, y_pred):\n",
        "  fn = 0\n",
        "  for yt, yp in zip(y_true, y_pred):\n",
        "    if yt == 1 and yp == 0:\n",
        "      fn += 1\n",
        "  \n",
        "  return fn\n",
        "\n",
        "def accuracy_v2(y_true, y_pred):\n",
        " tp = true_positive(y_true, y_pred)\n",
        " fp = false_positive(y_true, y_pred)\n",
        " fn = false_negative(y_true, y_pred)\n",
        " tn = true_negative(y_true, y_pred)\n",
        " accuracy_score = (tp + tn) / (tp + tn + fp + fn)\n",
        " \n",
        " return accuracy_score\n"
      ]
    },
    {
      "cell_type": "markdown",
      "source": [
        "# Precision"
      ],
      "metadata": {
        "id": "TtoF3XhXnpsc"
      }
    },
    {
      "cell_type": "code",
      "source": [
        "def precision(y_true, y_pred):\n",
        " tp = true_positive(y_true, y_pred)\n",
        " fp = false_positive(y_true, y_pred)\n",
        " precision = tp / (tp + fp)\n",
        " \n",
        " return precision"
      ],
      "metadata": {
        "id": "el9WaYlEnsq3"
      },
      "execution_count": 2,
      "outputs": []
    },
    {
      "cell_type": "markdown",
      "source": [
        "# Recall"
      ],
      "metadata": {
        "id": "dXuE7U6u2XbA"
      }
    },
    {
      "cell_type": "code",
      "source": [
        "def recall(y_true, y_pred):\n",
        "  tp = true_positive(y_true, y_pred)\n",
        "  fn = false_negative(y_true, y_pred)\n",
        "  recall = tp / (tp + fn)\n",
        "  return recall"
      ],
      "metadata": {
        "id": "wNYVss3Q2Y4d"
      },
      "execution_count": 3,
      "outputs": []
    }
  ]
}