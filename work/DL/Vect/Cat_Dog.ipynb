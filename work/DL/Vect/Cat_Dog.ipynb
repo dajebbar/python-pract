{
  "nbformat": 4,
  "nbformat_minor": 0,
  "metadata": {
    "colab": {
      "name": "Cat_Dog.ipynb",
      "provenance": []
    },
    "kernelspec": {
      "name": "python3",
      "display_name": "Python 3"
    },
    "language_info": {
      "name": "python"
    }
  },
  "cells": [
    {
      "cell_type": "code",
      "source": [
        "import numpy as np\n",
        "import matplotlib.pyplot as plt\n",
        "plt.style.use('ggplot')"
      ],
      "metadata": {
        "id": "d30oxKID0u5o"
      },
      "execution_count": 10,
      "outputs": []
    },
    {
      "cell_type": "code",
      "execution_count": 11,
      "metadata": {
        "id": "rblims_Jz29F"
      },
      "outputs": [],
      "source": [
        "# initialization\n",
        "def initialize(x):\n",
        "  W = np.random.randn(x.shape[1], 1)\n",
        "  b = np.random.randn(1)\n",
        "\n",
        "  return W, b"
      ]
    },
    {
      "cell_type": "code",
      "source": [
        "# model\n",
        "def model(x, W, b):\n",
        "  Z = x.dot(W) + b\n",
        "  A = 1 / (1 + np.exp(-Z))\n",
        "\n",
        "  return A"
      ],
      "metadata": {
        "id": "jqWsccRE01Ty"
      },
      "execution_count": 3,
      "outputs": []
    },
    {
      "cell_type": "code",
      "source": [
        "# cost function\n",
        "def log_loss(A, y):\n",
        "  return -1 * 1 / len(y) * np.sum((y * np.log(A)) - ((1 - y) * np.log(1 - A)))"
      ],
      "metadata": {
        "id": "lx2J1i2v1S2u"
      },
      "execution_count": 4,
      "outputs": []
    },
    {
      "cell_type": "code",
      "source": [
        "# gradient descent\n",
        "def gradients(A, x, y):\n",
        "  dw = 1 / len(y) * x.T * (A - y)\n",
        "  db = 1 / len(y) * (A - y)\n",
        "\n",
        "  return dw, db"
      ],
      "metadata": {
        "id": "QQCqtbtx14mn"
      },
      "execution_count": 5,
      "outputs": []
    },
    {
      "cell_type": "code",
      "source": [
        "def update(dw, db, w, b, lr):\n",
        "  w = w - lr * dw\n",
        "  b = b -lr * db\n",
        "  return w, b"
      ],
      "metadata": {
        "id": "0RUajnqb2Xxq"
      },
      "execution_count": 9,
      "outputs": []
    },
    {
      "cell_type": "code",
      "source": [
        "def predict(x, w, b):\n",
        "  A = model(x, w, b)\n",
        "  print(A)\n",
        "\n",
        "  return A >= .5"
      ],
      "metadata": {
        "id": "JAn1ljCt27Nc"
      },
      "execution_count": 8,
      "outputs": []
    },
    {
      "cell_type": "code",
      "source": [
        "from sklearn.metrics import accuracy_score\n",
        "\n",
        "def artificial_nn(X, y, lr=.1, n_iter=300):\n",
        "  loss = []\n",
        "  # initialize W, b\n",
        "  W, b = initialize(X)\n",
        "\n",
        "  for i in range(n_iter):\n",
        "        A = model(X, W, b)\n",
        "        loss.append(log_loss(A, y))\n",
        "        dW, db = gradients(A, X, y)\n",
        "        W, b = update(dW, db, W, b, lr)\n",
        "  \n",
        "  y_pred = predict(X, W, b)\n",
        "  print(f'Acuuracy: {accuracy_score(y, y_pred)}')\n",
        "\n",
        "  plt.plot(loss)\n",
        "  plt.show()\n",
        "\n",
        "  return W, b"
      ],
      "metadata": {
        "id": "7oN4DaXx3RrZ"
      },
      "execution_count": 12,
      "outputs": []
    },
    {
      "cell_type": "code",
      "source": [
        ""
      ],
      "metadata": {
        "id": "MOpECFLm33bn"
      },
      "execution_count": null,
      "outputs": []
    }
  ]
}