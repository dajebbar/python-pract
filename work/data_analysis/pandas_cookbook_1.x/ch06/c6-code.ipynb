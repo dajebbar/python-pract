{
  "nbformat": 4,
  "nbformat_minor": 0,
  "metadata": {
    "colab": {
      "name": "c6-code.ipynb",
      "provenance": []
    },
    "kernelspec": {
      "name": "python3",
      "display_name": "Python 3"
    },
    "language_info": {
      "name": "python"
    }
  },
  "cells": [
    {
      "cell_type": "markdown",
      "source": [
        "---\n",
        "# Selecting Subsets of Data\n",
        "---"
      ],
      "metadata": {
        "id": "CzXGvUehDS67"
      }
    },
    {
      "cell_type": "markdown",
      "source": [
        "## Selecting Series data\n",
        "Series and DataFrames allow selection by position (like Python lists) and by label (like Python\n",
        "dictionaries). When we index off of the `.iloc` attribute, pandas selects only by position and\n",
        "works similarly to Python lists. The `.loc` attribute selects only by index label, which is similar\n",
        "to how Python dictionaries work."
      ],
      "metadata": {
        "id": "ItfT7Z2tE1ZF"
      }
    },
    {
      "cell_type": "code",
      "execution_count": 1,
      "metadata": {
        "id": "VYCtI1PVBgIz"
      },
      "outputs": [],
      "source": [
        "import numpy as np\n",
        "import pandas as pd"
      ]
    },
    {
      "cell_type": "code",
      "source": [
        "college = pd.read_csv('./college.csv', index_col='INSTNM')\n",
        "college.columns"
      ],
      "metadata": {
        "colab": {
          "base_uri": "https://localhost:8080/"
        },
        "id": "LeYRelOmG0_6",
        "outputId": "f8456ef9-204c-4cd5-9747-a0fd2f10ee5d"
      },
      "execution_count": 2,
      "outputs": [
        {
          "output_type": "execute_result",
          "data": {
            "text/plain": [
              "Index(['CITY', 'STABBR', 'HBCU', 'MENONLY', 'WOMENONLY', 'RELAFFIL',\n",
              "       'SATVRMID', 'SATMTMID', 'DISTANCEONLY', 'UGDS', 'UGDS_WHITE',\n",
              "       'UGDS_BLACK', 'UGDS_HISP', 'UGDS_ASIAN', 'UGDS_AIAN', 'UGDS_NHPI',\n",
              "       'UGDS_2MOR', 'UGDS_NRA', 'UGDS_UNKN', 'PPTUG_EF', 'CURROPER', 'PCTPELL',\n",
              "       'PCTFLOAN', 'UG25ABV', 'MD_EARN_WNE_P10', 'GRAD_DEBT_MDN_SUPP'],\n",
              "      dtype='object')"
            ]
          },
          "metadata": {},
          "execution_count": 2
        }
      ]
    },
    {
      "cell_type": "code",
      "source": [
        "city = college['CITY']\n",
        "city"
      ],
      "metadata": {
        "colab": {
          "base_uri": "https://localhost:8080/"
        },
        "id": "F2355SR2HeGq",
        "outputId": "569b81f9-1238-4974-937d-91ffaba4b231"
      },
      "execution_count": 3,
      "outputs": [
        {
          "output_type": "execute_result",
          "data": {
            "text/plain": [
              "INSTNM\n",
              "Alabama A & M University                                            Normal\n",
              "University of Alabama at Birmingham                             Birmingham\n",
              "Amridge University                                              Montgomery\n",
              "University of Alabama in Huntsville                             Huntsville\n",
              "Alabama State University                                        Montgomery\n",
              "                                                                ...       \n",
              "SAE Institute of Technology  San Francisco                      Emeryville\n",
              "Rasmussen College - Overland Park                            Overland Park\n",
              "National Personal Training Institute of Cleveland         Highland Heights\n",
              "Bay Area Medical Academy - San Jose Satellite Location            San Jose\n",
              "Excel Learning Center-San Antonio South                        San Antonio\n",
              "Name: CITY, Length: 7535, dtype: object"
            ]
          },
          "metadata": {},
          "execution_count": 3
        }
      ]
    },
    {
      "cell_type": "markdown",
      "source": [
        "Pull out a scalar value from the Series directly"
      ],
      "metadata": {
        "id": "P025hBePH82Q"
      }
    },
    {
      "cell_type": "code",
      "source": [
        "city['Amridge University']"
      ],
      "metadata": {
        "colab": {
          "base_uri": "https://localhost:8080/",
          "height": 35
        },
        "id": "8V0IJ4p9HuVm",
        "outputId": "ffc040f2-7497-45f1-9ea6-076aa11da26f"
      },
      "execution_count": 4,
      "outputs": [
        {
          "output_type": "execute_result",
          "data": {
            "application/vnd.google.colaboratory.intrinsic+json": {
              "type": "string"
            },
            "text/plain": [
              "'Montgomery'"
            ]
          },
          "metadata": {},
          "execution_count": 4
        }
      ]
    },
    {
      "cell_type": "markdown",
      "source": [
        "Pull out a scalar value using the `.loc` attribute by name"
      ],
      "metadata": {
        "id": "Zju2RLgBINba"
      }
    },
    {
      "cell_type": "code",
      "source": [
        "city.loc['Amridge University']"
      ],
      "metadata": {
        "colab": {
          "base_uri": "https://localhost:8080/",
          "height": 35
        },
        "id": "8aWN5CMSIGUE",
        "outputId": "dc115a8e-bb83-4a56-fbba-6a8501a4ba8c"
      },
      "execution_count": 5,
      "outputs": [
        {
          "output_type": "execute_result",
          "data": {
            "application/vnd.google.colaboratory.intrinsic+json": {
              "type": "string"
            },
            "text/plain": [
              "'Montgomery'"
            ]
          },
          "metadata": {},
          "execution_count": 5
        }
      ]
    },
    {
      "cell_type": "markdown",
      "source": [
        "Pull out a scalar value using the `.iloc` attribute by position:"
      ],
      "metadata": {
        "id": "jOioZk0vIkaU"
      }
    },
    {
      "cell_type": "code",
      "source": [
        "city.iloc[2]"
      ],
      "metadata": {
        "colab": {
          "base_uri": "https://localhost:8080/",
          "height": 35
        },
        "id": "dhnr5oYZIeGj",
        "outputId": "37efc694-ffcf-431f-c541-95dc93fb9aea"
      },
      "execution_count": 6,
      "outputs": [
        {
          "output_type": "execute_result",
          "data": {
            "application/vnd.google.colaboratory.intrinsic+json": {
              "type": "string"
            },
            "text/plain": [
              "'Montgomery'"
            ]
          },
          "metadata": {},
          "execution_count": 6
        }
      ]
    },
    {
      "cell_type": "markdown",
      "source": [
        "Pull out several values by indexing. Note that if we pass in a list to the index\n",
        "operation, pandas will now return a Series instead of a scalar"
      ],
      "metadata": {
        "id": "iL1CC7-eJeN5"
      }
    },
    {
      "cell_type": "code",
      "source": [
        "city[['Amridge University', 'University of Alabama in Huntsville', 'Rasmussen College - Overland Park']]"
      ],
      "metadata": {
        "colab": {
          "base_uri": "https://localhost:8080/"
        },
        "id": "Dibun1AAIwXU",
        "outputId": "698b285d-cf7c-4308-f9c5-1e6333985ab3"
      },
      "execution_count": 10,
      "outputs": [
        {
          "output_type": "execute_result",
          "data": {
            "text/plain": [
              "INSTNM\n",
              "Amridge University                        Montgomery\n",
              "University of Alabama in Huntsville       Huntsville\n",
              "Rasmussen College - Overland Park      Overland Park\n",
              "Name: CITY, dtype: object"
            ]
          },
          "metadata": {},
          "execution_count": 10
        }
      ]
    },
    {
      "cell_type": "markdown",
      "source": [
        "Repeat the above using `.loc`"
      ],
      "metadata": {
        "id": "mCGdLudlKRdw"
      }
    },
    {
      "cell_type": "code",
      "source": [
        "city.loc[['Amridge University', 'University of Alabama in Huntsville', 'Rasmussen College - Overland Park']]"
      ],
      "metadata": {
        "colab": {
          "base_uri": "https://localhost:8080/"
        },
        "id": "Rwz9bMDgJygC",
        "outputId": "d2f6ec58-973f-4ab6-dedb-ca5dd546a4bd"
      },
      "execution_count": 11,
      "outputs": [
        {
          "output_type": "execute_result",
          "data": {
            "text/plain": [
              "INSTNM\n",
              "Amridge University                        Montgomery\n",
              "University of Alabama in Huntsville       Huntsville\n",
              "Rasmussen College - Overland Park      Overland Park\n",
              "Name: CITY, dtype: object"
            ]
          },
          "metadata": {},
          "execution_count": 11
        }
      ]
    },
    {
      "cell_type": "markdown",
      "source": [
        "Repeat the above using `.iloc`"
      ],
      "metadata": {
        "id": "QGyBzOJyK2H7"
      }
    },
    {
      "cell_type": "code",
      "source": [
        "city.iloc[[2, 4]]"
      ],
      "metadata": {
        "colab": {
          "base_uri": "https://localhost:8080/"
        },
        "id": "Gz4ElgAYKdkW",
        "outputId": "9db0872f-17de-45a6-eda7-20936c5e1dc7"
      },
      "execution_count": 12,
      "outputs": [
        {
          "output_type": "execute_result",
          "data": {
            "text/plain": [
              "INSTNM\n",
              "Amridge University          Montgomery\n",
              "Alabama State University    Montgomery\n",
              "Name: CITY, dtype: object"
            ]
          },
          "metadata": {},
          "execution_count": 12
        }
      ]
    },
    {
      "cell_type": "markdown",
      "source": [
        "Use a slice to pull out many values"
      ],
      "metadata": {
        "id": "d_Y5TWr4L0cD"
      }
    },
    {
      "cell_type": "code",
      "source": [
        "city['Alabama State University': 'Auburn University at Montgomery']"
      ],
      "metadata": {
        "colab": {
          "base_uri": "https://localhost:8080/"
        },
        "id": "jRB5wXrbLks-",
        "outputId": "490ac30d-732f-4818-da47-6111fd4d3480"
      },
      "execution_count": 14,
      "outputs": [
        {
          "output_type": "execute_result",
          "data": {
            "text/plain": [
              "INSTNM\n",
              "Alabama State University                 Montgomery\n",
              "The University of Alabama                Tuscaloosa\n",
              "Central Alabama Community College    Alexander City\n",
              "Athens State University                      Athens\n",
              "Auburn University at Montgomery          Montgomery\n",
              "Name: CITY, dtype: object"
            ]
          },
          "metadata": {},
          "execution_count": 14
        }
      ]
    },
    {
      "cell_type": "markdown",
      "source": [
        "Use a slice to pull out many values by position:"
      ],
      "metadata": {
        "id": "h5Cx2DBFMlUT"
      }
    },
    {
      "cell_type": "code",
      "source": [
        "city.iloc[0: 4]"
      ],
      "metadata": {
        "colab": {
          "base_uri": "https://localhost:8080/"
        },
        "id": "IQqe2scEMWnt",
        "outputId": "66febe68-684d-47fe-f886-adcf933359bc"
      },
      "execution_count": 15,
      "outputs": [
        {
          "output_type": "execute_result",
          "data": {
            "text/plain": [
              "INSTNM\n",
              "Alabama A & M University                   Normal\n",
              "University of Alabama at Birmingham    Birmingham\n",
              "Amridge University                     Montgomery\n",
              "University of Alabama in Huntsville    Huntsville\n",
              "Name: CITY, dtype: object"
            ]
          },
          "metadata": {},
          "execution_count": 15
        }
      ]
    },
    {
      "cell_type": "markdown",
      "source": [
        "Use a Boolean array to pull out certain values"
      ],
      "metadata": {
        "id": "TABPcbhPNA-x"
      }
    },
    {
      "cell_type": "code",
      "source": [
        "alabama_mask = city.isin([\"Birmingham\", \"Montgomery\"])\n",
        "city[alabama_mask]"
      ],
      "metadata": {
        "colab": {
          "base_uri": "https://localhost:8080/"
        },
        "id": "40DQ5SnjMw3J",
        "outputId": "4c71f0e2-0db5-44b4-f354-864636b46b31"
      },
      "execution_count": 17,
      "outputs": [
        {
          "output_type": "execute_result",
          "data": {
            "text/plain": [
              "INSTNM\n",
              "University of Alabama at Birmingham                 Birmingham\n",
              "Amridge University                                  Montgomery\n",
              "Alabama State University                            Montgomery\n",
              "Auburn University at Montgomery                     Montgomery\n",
              "Birmingham Southern College                         Birmingham\n",
              "South University-Montgomery                         Montgomery\n",
              "Faulkner University                                 Montgomery\n",
              "Herzing University-Birmingham                       Birmingham\n",
              "Huntingdon College                                  Montgomery\n",
              "Jefferson State Community College                   Birmingham\n",
              "Lawson State Community College-Birmingham Campus    Birmingham\n",
              "Samford University                                  Birmingham\n",
              "Southeastern Bible College                          Birmingham\n",
              "H Councill Trenholm State Community College         Montgomery\n",
              "West Virginia University Institute of Technology    Montgomery\n",
              "Virginia College-Birmingham                         Birmingham\n",
              "Southeastern School of Cosmetology                  Birmingham\n",
              "Strayer University-Alabama                          Birmingham\n",
              "University of Phoenix-Alabama                       Birmingham\n",
              "Virginia College-Montgomery                         Montgomery\n",
              "Fortis College-Montgomery                           Montgomery\n",
              "Fortis Institute-Birmingham                         Birmingham\n",
              "Hair Academy                                        Montgomery\n",
              "Brown Mackie College-Birmingham                     Birmingham\n",
              "Nunation School of Cosmetology                      Birmingham\n",
              "Troy University-Montgomery Campus                   Montgomery\n",
              "Name: CITY, dtype: object"
            ]
          },
          "metadata": {},
          "execution_count": 17
        }
      ]
    },
    {
      "cell_type": "markdown",
      "source": [
        "## Selecting DataFrame rows\n",
        "select rows from a DataFrame using the `.iloc` and `.loc`\n",
        "indexers"
      ],
      "metadata": {
        "id": "65Vhjv7YUVhn"
      }
    },
    {
      "cell_type": "markdown",
      "source": [
        "To select an entire row at that position, pass an integer to `.iloc`:"
      ],
      "metadata": {
        "id": "zx6-Cn-6VV-I"
      }
    },
    {
      "cell_type": "code",
      "source": [
        "college.iloc[60]"
      ],
      "metadata": {
        "colab": {
          "base_uri": "https://localhost:8080/"
        },
        "id": "6k4vRiZuNRf6",
        "outputId": "cce8b6e7-9f29-4136-86a7-6ae74c090a4b"
      },
      "execution_count": 18,
      "outputs": [
        {
          "output_type": "execute_result",
          "data": {
            "text/plain": [
              "CITY                  Anchorage\n",
              "STABBR                       AK\n",
              "HBCU                          0\n",
              "MENONLY                       0\n",
              "WOMENONLY                     0\n",
              "RELAFFIL                      0\n",
              "SATVRMID                    NaN\n",
              "SATMTMID                    NaN\n",
              "DISTANCEONLY                  0\n",
              "UGDS                      12865\n",
              "UGDS_WHITE               0.5747\n",
              "UGDS_BLACK               0.0358\n",
              "UGDS_HISP                0.0761\n",
              "UGDS_ASIAN               0.0778\n",
              "UGDS_AIAN                0.0653\n",
              "UGDS_NHPI                0.0086\n",
              "UGDS_2MOR                 0.098\n",
              "UGDS_NRA                 0.0181\n",
              "UGDS_UNKN                0.0457\n",
              "PPTUG_EF                 0.4539\n",
              "CURROPER                      1\n",
              "PCTPELL                  0.2385\n",
              "PCTFLOAN                 0.2647\n",
              "UG25ABV                  0.4386\n",
              "MD_EARN_WNE_P10           42500\n",
              "GRAD_DEBT_MDN_SUPP      19449.5\n",
              "Name: University of Alaska Anchorage, dtype: object"
            ]
          },
          "metadata": {},
          "execution_count": 18
        }
      ]
    },
    {
      "cell_type": "markdown",
      "source": [
        "To get the same row as the preceding step, pass the index label to `.loc`"
      ],
      "metadata": {
        "id": "flY-qKvXVsQD"
      }
    },
    {
      "cell_type": "code",
      "source": [
        "college.loc[\"University of Alaska Anchorage\"]"
      ],
      "metadata": {
        "colab": {
          "base_uri": "https://localhost:8080/"
        },
        "id": "mIUfthdQVdBg",
        "outputId": "6a8fca29-0d70-42a7-9d75-e9fc9f371ae6"
      },
      "execution_count": 19,
      "outputs": [
        {
          "output_type": "execute_result",
          "data": {
            "text/plain": [
              "CITY                  Anchorage\n",
              "STABBR                       AK\n",
              "HBCU                          0\n",
              "MENONLY                       0\n",
              "WOMENONLY                     0\n",
              "RELAFFIL                      0\n",
              "SATVRMID                    NaN\n",
              "SATMTMID                    NaN\n",
              "DISTANCEONLY                  0\n",
              "UGDS                      12865\n",
              "UGDS_WHITE               0.5747\n",
              "UGDS_BLACK               0.0358\n",
              "UGDS_HISP                0.0761\n",
              "UGDS_ASIAN               0.0778\n",
              "UGDS_AIAN                0.0653\n",
              "UGDS_NHPI                0.0086\n",
              "UGDS_2MOR                 0.098\n",
              "UGDS_NRA                 0.0181\n",
              "UGDS_UNKN                0.0457\n",
              "PPTUG_EF                 0.4539\n",
              "CURROPER                      1\n",
              "PCTPELL                  0.2385\n",
              "PCTFLOAN                 0.2647\n",
              "UG25ABV                  0.4386\n",
              "MD_EARN_WNE_P10           42500\n",
              "GRAD_DEBT_MDN_SUPP      19449.5\n",
              "Name: University of Alaska Anchorage, dtype: object"
            ]
          },
          "metadata": {},
          "execution_count": 19
        }
      ]
    },
    {
      "cell_type": "markdown",
      "source": [
        "To select a disjointed set of rows as a DataFrame, pass a list of integers to `.iloc`"
      ],
      "metadata": {
        "id": "tVQk3oKkWMpU"
      }
    },
    {
      "cell_type": "code",
      "source": [
        "college.iloc[[60, 99, 3]]"
      ],
      "metadata": {
        "colab": {
          "base_uri": "https://localhost:8080/",
          "height": 343
        },
        "id": "Q7Dd7RvmV2WG",
        "outputId": "b3f8f7c8-ad74-4b28-db7d-2cf568ffb88f"
      },
      "execution_count": 20,
      "outputs": [
        {
          "output_type": "execute_result",
          "data": {
            "text/html": [
              "\n",
              "  <div id=\"df-720628ac-b312-426a-96e4-b169ec23dfa7\">\n",
              "    <div class=\"colab-df-container\">\n",
              "      <div>\n",
              "<style scoped>\n",
              "    .dataframe tbody tr th:only-of-type {\n",
              "        vertical-align: middle;\n",
              "    }\n",
              "\n",
              "    .dataframe tbody tr th {\n",
              "        vertical-align: top;\n",
              "    }\n",
              "\n",
              "    .dataframe thead th {\n",
              "        text-align: right;\n",
              "    }\n",
              "</style>\n",
              "<table border=\"1\" class=\"dataframe\">\n",
              "  <thead>\n",
              "    <tr style=\"text-align: right;\">\n",
              "      <th></th>\n",
              "      <th>CITY</th>\n",
              "      <th>STABBR</th>\n",
              "      <th>HBCU</th>\n",
              "      <th>MENONLY</th>\n",
              "      <th>WOMENONLY</th>\n",
              "      <th>RELAFFIL</th>\n",
              "      <th>SATVRMID</th>\n",
              "      <th>SATMTMID</th>\n",
              "      <th>DISTANCEONLY</th>\n",
              "      <th>UGDS</th>\n",
              "      <th>UGDS_WHITE</th>\n",
              "      <th>UGDS_BLACK</th>\n",
              "      <th>UGDS_HISP</th>\n",
              "      <th>UGDS_ASIAN</th>\n",
              "      <th>UGDS_AIAN</th>\n",
              "      <th>UGDS_NHPI</th>\n",
              "      <th>UGDS_2MOR</th>\n",
              "      <th>UGDS_NRA</th>\n",
              "      <th>UGDS_UNKN</th>\n",
              "      <th>PPTUG_EF</th>\n",
              "      <th>CURROPER</th>\n",
              "      <th>PCTPELL</th>\n",
              "      <th>PCTFLOAN</th>\n",
              "      <th>UG25ABV</th>\n",
              "      <th>MD_EARN_WNE_P10</th>\n",
              "      <th>GRAD_DEBT_MDN_SUPP</th>\n",
              "    </tr>\n",
              "    <tr>\n",
              "      <th>INSTNM</th>\n",
              "      <th></th>\n",
              "      <th></th>\n",
              "      <th></th>\n",
              "      <th></th>\n",
              "      <th></th>\n",
              "      <th></th>\n",
              "      <th></th>\n",
              "      <th></th>\n",
              "      <th></th>\n",
              "      <th></th>\n",
              "      <th></th>\n",
              "      <th></th>\n",
              "      <th></th>\n",
              "      <th></th>\n",
              "      <th></th>\n",
              "      <th></th>\n",
              "      <th></th>\n",
              "      <th></th>\n",
              "      <th></th>\n",
              "      <th></th>\n",
              "      <th></th>\n",
              "      <th></th>\n",
              "      <th></th>\n",
              "      <th></th>\n",
              "      <th></th>\n",
              "      <th></th>\n",
              "    </tr>\n",
              "  </thead>\n",
              "  <tbody>\n",
              "    <tr>\n",
              "      <th>University of Alaska Anchorage</th>\n",
              "      <td>Anchorage</td>\n",
              "      <td>AK</td>\n",
              "      <td>0.0</td>\n",
              "      <td>0.0</td>\n",
              "      <td>0.0</td>\n",
              "      <td>0</td>\n",
              "      <td>NaN</td>\n",
              "      <td>NaN</td>\n",
              "      <td>0.0</td>\n",
              "      <td>12865.0</td>\n",
              "      <td>0.5747</td>\n",
              "      <td>0.0358</td>\n",
              "      <td>0.0761</td>\n",
              "      <td>0.0778</td>\n",
              "      <td>0.0653</td>\n",
              "      <td>0.0086</td>\n",
              "      <td>0.0980</td>\n",
              "      <td>0.0181</td>\n",
              "      <td>0.0457</td>\n",
              "      <td>0.4539</td>\n",
              "      <td>1</td>\n",
              "      <td>0.2385</td>\n",
              "      <td>0.2647</td>\n",
              "      <td>0.4386</td>\n",
              "      <td>42500</td>\n",
              "      <td>19449.5</td>\n",
              "    </tr>\n",
              "    <tr>\n",
              "      <th>International Academy of Hair Design</th>\n",
              "      <td>Tempe</td>\n",
              "      <td>AZ</td>\n",
              "      <td>0.0</td>\n",
              "      <td>0.0</td>\n",
              "      <td>0.0</td>\n",
              "      <td>0</td>\n",
              "      <td>NaN</td>\n",
              "      <td>NaN</td>\n",
              "      <td>0.0</td>\n",
              "      <td>188.0</td>\n",
              "      <td>0.2713</td>\n",
              "      <td>0.2500</td>\n",
              "      <td>0.3670</td>\n",
              "      <td>0.0160</td>\n",
              "      <td>0.0160</td>\n",
              "      <td>0.0000</td>\n",
              "      <td>0.0160</td>\n",
              "      <td>0.0000</td>\n",
              "      <td>0.0638</td>\n",
              "      <td>0.0000</td>\n",
              "      <td>0</td>\n",
              "      <td>0.7185</td>\n",
              "      <td>0.7346</td>\n",
              "      <td>0.3905</td>\n",
              "      <td>22200</td>\n",
              "      <td>10556</td>\n",
              "    </tr>\n",
              "    <tr>\n",
              "      <th>University of Alabama in Huntsville</th>\n",
              "      <td>Huntsville</td>\n",
              "      <td>AL</td>\n",
              "      <td>0.0</td>\n",
              "      <td>0.0</td>\n",
              "      <td>0.0</td>\n",
              "      <td>0</td>\n",
              "      <td>595.0</td>\n",
              "      <td>590.0</td>\n",
              "      <td>0.0</td>\n",
              "      <td>5451.0</td>\n",
              "      <td>0.6988</td>\n",
              "      <td>0.1255</td>\n",
              "      <td>0.0382</td>\n",
              "      <td>0.0376</td>\n",
              "      <td>0.0143</td>\n",
              "      <td>0.0002</td>\n",
              "      <td>0.0172</td>\n",
              "      <td>0.0332</td>\n",
              "      <td>0.0350</td>\n",
              "      <td>0.2146</td>\n",
              "      <td>1</td>\n",
              "      <td>0.3072</td>\n",
              "      <td>0.4596</td>\n",
              "      <td>0.2640</td>\n",
              "      <td>45500</td>\n",
              "      <td>24097</td>\n",
              "    </tr>\n",
              "  </tbody>\n",
              "</table>\n",
              "</div>\n",
              "      <button class=\"colab-df-convert\" onclick=\"convertToInteractive('df-720628ac-b312-426a-96e4-b169ec23dfa7')\"\n",
              "              title=\"Convert this dataframe to an interactive table.\"\n",
              "              style=\"display:none;\">\n",
              "        \n",
              "  <svg xmlns=\"http://www.w3.org/2000/svg\" height=\"24px\"viewBox=\"0 0 24 24\"\n",
              "       width=\"24px\">\n",
              "    <path d=\"M0 0h24v24H0V0z\" fill=\"none\"/>\n",
              "    <path d=\"M18.56 5.44l.94 2.06.94-2.06 2.06-.94-2.06-.94-.94-2.06-.94 2.06-2.06.94zm-11 1L8.5 8.5l.94-2.06 2.06-.94-2.06-.94L8.5 2.5l-.94 2.06-2.06.94zm10 10l.94 2.06.94-2.06 2.06-.94-2.06-.94-.94-2.06-.94 2.06-2.06.94z\"/><path d=\"M17.41 7.96l-1.37-1.37c-.4-.4-.92-.59-1.43-.59-.52 0-1.04.2-1.43.59L10.3 9.45l-7.72 7.72c-.78.78-.78 2.05 0 2.83L4 21.41c.39.39.9.59 1.41.59.51 0 1.02-.2 1.41-.59l7.78-7.78 2.81-2.81c.8-.78.8-2.07 0-2.86zM5.41 20L4 18.59l7.72-7.72 1.47 1.35L5.41 20z\"/>\n",
              "  </svg>\n",
              "      </button>\n",
              "      \n",
              "  <style>\n",
              "    .colab-df-container {\n",
              "      display:flex;\n",
              "      flex-wrap:wrap;\n",
              "      gap: 12px;\n",
              "    }\n",
              "\n",
              "    .colab-df-convert {\n",
              "      background-color: #E8F0FE;\n",
              "      border: none;\n",
              "      border-radius: 50%;\n",
              "      cursor: pointer;\n",
              "      display: none;\n",
              "      fill: #1967D2;\n",
              "      height: 32px;\n",
              "      padding: 0 0 0 0;\n",
              "      width: 32px;\n",
              "    }\n",
              "\n",
              "    .colab-df-convert:hover {\n",
              "      background-color: #E2EBFA;\n",
              "      box-shadow: 0px 1px 2px rgba(60, 64, 67, 0.3), 0px 1px 3px 1px rgba(60, 64, 67, 0.15);\n",
              "      fill: #174EA6;\n",
              "    }\n",
              "\n",
              "    [theme=dark] .colab-df-convert {\n",
              "      background-color: #3B4455;\n",
              "      fill: #D2E3FC;\n",
              "    }\n",
              "\n",
              "    [theme=dark] .colab-df-convert:hover {\n",
              "      background-color: #434B5C;\n",
              "      box-shadow: 0px 1px 3px 1px rgba(0, 0, 0, 0.15);\n",
              "      filter: drop-shadow(0px 1px 2px rgba(0, 0, 0, 0.3));\n",
              "      fill: #FFFFFF;\n",
              "    }\n",
              "  </style>\n",
              "\n",
              "      <script>\n",
              "        const buttonEl =\n",
              "          document.querySelector('#df-720628ac-b312-426a-96e4-b169ec23dfa7 button.colab-df-convert');\n",
              "        buttonEl.style.display =\n",
              "          google.colab.kernel.accessAllowed ? 'block' : 'none';\n",
              "\n",
              "        async function convertToInteractive(key) {\n",
              "          const element = document.querySelector('#df-720628ac-b312-426a-96e4-b169ec23dfa7');\n",
              "          const dataTable =\n",
              "            await google.colab.kernel.invokeFunction('convertToInteractive',\n",
              "                                                     [key], {});\n",
              "          if (!dataTable) return;\n",
              "\n",
              "          const docLinkHtml = 'Like what you see? Visit the ' +\n",
              "            '<a target=\"_blank\" href=https://colab.research.google.com/notebooks/data_table.ipynb>data table notebook</a>'\n",
              "            + ' to learn more about interactive tables.';\n",
              "          element.innerHTML = '';\n",
              "          dataTable['output_type'] = 'display_data';\n",
              "          await google.colab.output.renderOutput(dataTable, element);\n",
              "          const docLink = document.createElement('div');\n",
              "          docLink.innerHTML = docLinkHtml;\n",
              "          element.appendChild(docLink);\n",
              "        }\n",
              "      </script>\n",
              "    </div>\n",
              "  </div>\n",
              "  "
            ],
            "text/plain": [
              "                                            CITY  ... GRAD_DEBT_MDN_SUPP\n",
              "INSTNM                                            ...                   \n",
              "University of Alaska Anchorage         Anchorage  ...            19449.5\n",
              "International Academy of Hair Design       Tempe  ...              10556\n",
              "University of Alabama in Huntsville   Huntsville  ...              24097\n",
              "\n",
              "[3 rows x 26 columns]"
            ]
          },
          "metadata": {},
          "execution_count": 20
        }
      ]
    },
    {
      "cell_type": "markdown",
      "source": [
        "The same DataFrame from step 4 may be reproduced with `.loc` by passing it a list of\n",
        "the institution names:"
      ],
      "metadata": {
        "id": "EVX0kMDmWoKl"
      }
    },
    {
      "cell_type": "code",
      "source": [
        "labels = [\"University of Alaska Anchorage\", \n",
        "          \"International Academy of Hair Design\", \n",
        "          \"University of Alabama in Huntsville\",\n",
        "          ]\n",
        "college.loc[labels]"
      ],
      "metadata": {
        "colab": {
          "base_uri": "https://localhost:8080/",
          "height": 343
        },
        "id": "6vPFjdloWZkD",
        "outputId": "9019ccc8-7916-416a-b104-dd65296e3b50"
      },
      "execution_count": 21,
      "outputs": [
        {
          "output_type": "execute_result",
          "data": {
            "text/html": [
              "\n",
              "  <div id=\"df-7bea7596-e095-49c3-9184-4c63c27bae22\">\n",
              "    <div class=\"colab-df-container\">\n",
              "      <div>\n",
              "<style scoped>\n",
              "    .dataframe tbody tr th:only-of-type {\n",
              "        vertical-align: middle;\n",
              "    }\n",
              "\n",
              "    .dataframe tbody tr th {\n",
              "        vertical-align: top;\n",
              "    }\n",
              "\n",
              "    .dataframe thead th {\n",
              "        text-align: right;\n",
              "    }\n",
              "</style>\n",
              "<table border=\"1\" class=\"dataframe\">\n",
              "  <thead>\n",
              "    <tr style=\"text-align: right;\">\n",
              "      <th></th>\n",
              "      <th>CITY</th>\n",
              "      <th>STABBR</th>\n",
              "      <th>HBCU</th>\n",
              "      <th>MENONLY</th>\n",
              "      <th>WOMENONLY</th>\n",
              "      <th>RELAFFIL</th>\n",
              "      <th>SATVRMID</th>\n",
              "      <th>SATMTMID</th>\n",
              "      <th>DISTANCEONLY</th>\n",
              "      <th>UGDS</th>\n",
              "      <th>UGDS_WHITE</th>\n",
              "      <th>UGDS_BLACK</th>\n",
              "      <th>UGDS_HISP</th>\n",
              "      <th>UGDS_ASIAN</th>\n",
              "      <th>UGDS_AIAN</th>\n",
              "      <th>UGDS_NHPI</th>\n",
              "      <th>UGDS_2MOR</th>\n",
              "      <th>UGDS_NRA</th>\n",
              "      <th>UGDS_UNKN</th>\n",
              "      <th>PPTUG_EF</th>\n",
              "      <th>CURROPER</th>\n",
              "      <th>PCTPELL</th>\n",
              "      <th>PCTFLOAN</th>\n",
              "      <th>UG25ABV</th>\n",
              "      <th>MD_EARN_WNE_P10</th>\n",
              "      <th>GRAD_DEBT_MDN_SUPP</th>\n",
              "    </tr>\n",
              "    <tr>\n",
              "      <th>INSTNM</th>\n",
              "      <th></th>\n",
              "      <th></th>\n",
              "      <th></th>\n",
              "      <th></th>\n",
              "      <th></th>\n",
              "      <th></th>\n",
              "      <th></th>\n",
              "      <th></th>\n",
              "      <th></th>\n",
              "      <th></th>\n",
              "      <th></th>\n",
              "      <th></th>\n",
              "      <th></th>\n",
              "      <th></th>\n",
              "      <th></th>\n",
              "      <th></th>\n",
              "      <th></th>\n",
              "      <th></th>\n",
              "      <th></th>\n",
              "      <th></th>\n",
              "      <th></th>\n",
              "      <th></th>\n",
              "      <th></th>\n",
              "      <th></th>\n",
              "      <th></th>\n",
              "      <th></th>\n",
              "    </tr>\n",
              "  </thead>\n",
              "  <tbody>\n",
              "    <tr>\n",
              "      <th>University of Alaska Anchorage</th>\n",
              "      <td>Anchorage</td>\n",
              "      <td>AK</td>\n",
              "      <td>0.0</td>\n",
              "      <td>0.0</td>\n",
              "      <td>0.0</td>\n",
              "      <td>0</td>\n",
              "      <td>NaN</td>\n",
              "      <td>NaN</td>\n",
              "      <td>0.0</td>\n",
              "      <td>12865.0</td>\n",
              "      <td>0.5747</td>\n",
              "      <td>0.0358</td>\n",
              "      <td>0.0761</td>\n",
              "      <td>0.0778</td>\n",
              "      <td>0.0653</td>\n",
              "      <td>0.0086</td>\n",
              "      <td>0.0980</td>\n",
              "      <td>0.0181</td>\n",
              "      <td>0.0457</td>\n",
              "      <td>0.4539</td>\n",
              "      <td>1</td>\n",
              "      <td>0.2385</td>\n",
              "      <td>0.2647</td>\n",
              "      <td>0.4386</td>\n",
              "      <td>42500</td>\n",
              "      <td>19449.5</td>\n",
              "    </tr>\n",
              "    <tr>\n",
              "      <th>International Academy of Hair Design</th>\n",
              "      <td>Tempe</td>\n",
              "      <td>AZ</td>\n",
              "      <td>0.0</td>\n",
              "      <td>0.0</td>\n",
              "      <td>0.0</td>\n",
              "      <td>0</td>\n",
              "      <td>NaN</td>\n",
              "      <td>NaN</td>\n",
              "      <td>0.0</td>\n",
              "      <td>188.0</td>\n",
              "      <td>0.2713</td>\n",
              "      <td>0.2500</td>\n",
              "      <td>0.3670</td>\n",
              "      <td>0.0160</td>\n",
              "      <td>0.0160</td>\n",
              "      <td>0.0000</td>\n",
              "      <td>0.0160</td>\n",
              "      <td>0.0000</td>\n",
              "      <td>0.0638</td>\n",
              "      <td>0.0000</td>\n",
              "      <td>0</td>\n",
              "      <td>0.7185</td>\n",
              "      <td>0.7346</td>\n",
              "      <td>0.3905</td>\n",
              "      <td>22200</td>\n",
              "      <td>10556</td>\n",
              "    </tr>\n",
              "    <tr>\n",
              "      <th>University of Alabama in Huntsville</th>\n",
              "      <td>Huntsville</td>\n",
              "      <td>AL</td>\n",
              "      <td>0.0</td>\n",
              "      <td>0.0</td>\n",
              "      <td>0.0</td>\n",
              "      <td>0</td>\n",
              "      <td>595.0</td>\n",
              "      <td>590.0</td>\n",
              "      <td>0.0</td>\n",
              "      <td>5451.0</td>\n",
              "      <td>0.6988</td>\n",
              "      <td>0.1255</td>\n",
              "      <td>0.0382</td>\n",
              "      <td>0.0376</td>\n",
              "      <td>0.0143</td>\n",
              "      <td>0.0002</td>\n",
              "      <td>0.0172</td>\n",
              "      <td>0.0332</td>\n",
              "      <td>0.0350</td>\n",
              "      <td>0.2146</td>\n",
              "      <td>1</td>\n",
              "      <td>0.3072</td>\n",
              "      <td>0.4596</td>\n",
              "      <td>0.2640</td>\n",
              "      <td>45500</td>\n",
              "      <td>24097</td>\n",
              "    </tr>\n",
              "  </tbody>\n",
              "</table>\n",
              "</div>\n",
              "      <button class=\"colab-df-convert\" onclick=\"convertToInteractive('df-7bea7596-e095-49c3-9184-4c63c27bae22')\"\n",
              "              title=\"Convert this dataframe to an interactive table.\"\n",
              "              style=\"display:none;\">\n",
              "        \n",
              "  <svg xmlns=\"http://www.w3.org/2000/svg\" height=\"24px\"viewBox=\"0 0 24 24\"\n",
              "       width=\"24px\">\n",
              "    <path d=\"M0 0h24v24H0V0z\" fill=\"none\"/>\n",
              "    <path d=\"M18.56 5.44l.94 2.06.94-2.06 2.06-.94-2.06-.94-.94-2.06-.94 2.06-2.06.94zm-11 1L8.5 8.5l.94-2.06 2.06-.94-2.06-.94L8.5 2.5l-.94 2.06-2.06.94zm10 10l.94 2.06.94-2.06 2.06-.94-2.06-.94-.94-2.06-.94 2.06-2.06.94z\"/><path d=\"M17.41 7.96l-1.37-1.37c-.4-.4-.92-.59-1.43-.59-.52 0-1.04.2-1.43.59L10.3 9.45l-7.72 7.72c-.78.78-.78 2.05 0 2.83L4 21.41c.39.39.9.59 1.41.59.51 0 1.02-.2 1.41-.59l7.78-7.78 2.81-2.81c.8-.78.8-2.07 0-2.86zM5.41 20L4 18.59l7.72-7.72 1.47 1.35L5.41 20z\"/>\n",
              "  </svg>\n",
              "      </button>\n",
              "      \n",
              "  <style>\n",
              "    .colab-df-container {\n",
              "      display:flex;\n",
              "      flex-wrap:wrap;\n",
              "      gap: 12px;\n",
              "    }\n",
              "\n",
              "    .colab-df-convert {\n",
              "      background-color: #E8F0FE;\n",
              "      border: none;\n",
              "      border-radius: 50%;\n",
              "      cursor: pointer;\n",
              "      display: none;\n",
              "      fill: #1967D2;\n",
              "      height: 32px;\n",
              "      padding: 0 0 0 0;\n",
              "      width: 32px;\n",
              "    }\n",
              "\n",
              "    .colab-df-convert:hover {\n",
              "      background-color: #E2EBFA;\n",
              "      box-shadow: 0px 1px 2px rgba(60, 64, 67, 0.3), 0px 1px 3px 1px rgba(60, 64, 67, 0.15);\n",
              "      fill: #174EA6;\n",
              "    }\n",
              "\n",
              "    [theme=dark] .colab-df-convert {\n",
              "      background-color: #3B4455;\n",
              "      fill: #D2E3FC;\n",
              "    }\n",
              "\n",
              "    [theme=dark] .colab-df-convert:hover {\n",
              "      background-color: #434B5C;\n",
              "      box-shadow: 0px 1px 3px 1px rgba(0, 0, 0, 0.15);\n",
              "      filter: drop-shadow(0px 1px 2px rgba(0, 0, 0, 0.3));\n",
              "      fill: #FFFFFF;\n",
              "    }\n",
              "  </style>\n",
              "\n",
              "      <script>\n",
              "        const buttonEl =\n",
              "          document.querySelector('#df-7bea7596-e095-49c3-9184-4c63c27bae22 button.colab-df-convert');\n",
              "        buttonEl.style.display =\n",
              "          google.colab.kernel.accessAllowed ? 'block' : 'none';\n",
              "\n",
              "        async function convertToInteractive(key) {\n",
              "          const element = document.querySelector('#df-7bea7596-e095-49c3-9184-4c63c27bae22');\n",
              "          const dataTable =\n",
              "            await google.colab.kernel.invokeFunction('convertToInteractive',\n",
              "                                                     [key], {});\n",
              "          if (!dataTable) return;\n",
              "\n",
              "          const docLinkHtml = 'Like what you see? Visit the ' +\n",
              "            '<a target=\"_blank\" href=https://colab.research.google.com/notebooks/data_table.ipynb>data table notebook</a>'\n",
              "            + ' to learn more about interactive tables.';\n",
              "          element.innerHTML = '';\n",
              "          dataTable['output_type'] = 'display_data';\n",
              "          await google.colab.output.renderOutput(dataTable, element);\n",
              "          const docLink = document.createElement('div');\n",
              "          docLink.innerHTML = docLinkHtml;\n",
              "          element.appendChild(docLink);\n",
              "        }\n",
              "      </script>\n",
              "    </div>\n",
              "  </div>\n",
              "  "
            ],
            "text/plain": [
              "                                            CITY  ... GRAD_DEBT_MDN_SUPP\n",
              "INSTNM                                            ...                   \n",
              "University of Alaska Anchorage         Anchorage  ...            19449.5\n",
              "International Academy of Hair Design       Tempe  ...              10556\n",
              "University of Alabama in Huntsville   Huntsville  ...              24097\n",
              "\n",
              "[3 rows x 26 columns]"
            ]
          },
          "metadata": {},
          "execution_count": 21
        }
      ]
    },
    {
      "cell_type": "markdown",
      "source": [
        "Use slice notation with `.iloc` to select contiguous rows of the data:"
      ],
      "metadata": {
        "id": "h7aX76IuXacS"
      }
    },
    {
      "cell_type": "code",
      "source": [
        "college.iloc[99:102]"
      ],
      "metadata": {
        "colab": {
          "base_uri": "https://localhost:8080/",
          "height": 343
        },
        "id": "ux3HD-DMXOEV",
        "outputId": "9fd20abf-3a8f-4016-fc13-5c00c8a1eb23"
      },
      "execution_count": 22,
      "outputs": [
        {
          "output_type": "execute_result",
          "data": {
            "text/html": [
              "\n",
              "  <div id=\"df-7b5a6a04-967c-4928-81a1-51909aac550f\">\n",
              "    <div class=\"colab-df-container\">\n",
              "      <div>\n",
              "<style scoped>\n",
              "    .dataframe tbody tr th:only-of-type {\n",
              "        vertical-align: middle;\n",
              "    }\n",
              "\n",
              "    .dataframe tbody tr th {\n",
              "        vertical-align: top;\n",
              "    }\n",
              "\n",
              "    .dataframe thead th {\n",
              "        text-align: right;\n",
              "    }\n",
              "</style>\n",
              "<table border=\"1\" class=\"dataframe\">\n",
              "  <thead>\n",
              "    <tr style=\"text-align: right;\">\n",
              "      <th></th>\n",
              "      <th>CITY</th>\n",
              "      <th>STABBR</th>\n",
              "      <th>HBCU</th>\n",
              "      <th>MENONLY</th>\n",
              "      <th>WOMENONLY</th>\n",
              "      <th>RELAFFIL</th>\n",
              "      <th>SATVRMID</th>\n",
              "      <th>SATMTMID</th>\n",
              "      <th>DISTANCEONLY</th>\n",
              "      <th>UGDS</th>\n",
              "      <th>UGDS_WHITE</th>\n",
              "      <th>UGDS_BLACK</th>\n",
              "      <th>UGDS_HISP</th>\n",
              "      <th>UGDS_ASIAN</th>\n",
              "      <th>UGDS_AIAN</th>\n",
              "      <th>UGDS_NHPI</th>\n",
              "      <th>UGDS_2MOR</th>\n",
              "      <th>UGDS_NRA</th>\n",
              "      <th>UGDS_UNKN</th>\n",
              "      <th>PPTUG_EF</th>\n",
              "      <th>CURROPER</th>\n",
              "      <th>PCTPELL</th>\n",
              "      <th>PCTFLOAN</th>\n",
              "      <th>UG25ABV</th>\n",
              "      <th>MD_EARN_WNE_P10</th>\n",
              "      <th>GRAD_DEBT_MDN_SUPP</th>\n",
              "    </tr>\n",
              "    <tr>\n",
              "      <th>INSTNM</th>\n",
              "      <th></th>\n",
              "      <th></th>\n",
              "      <th></th>\n",
              "      <th></th>\n",
              "      <th></th>\n",
              "      <th></th>\n",
              "      <th></th>\n",
              "      <th></th>\n",
              "      <th></th>\n",
              "      <th></th>\n",
              "      <th></th>\n",
              "      <th></th>\n",
              "      <th></th>\n",
              "      <th></th>\n",
              "      <th></th>\n",
              "      <th></th>\n",
              "      <th></th>\n",
              "      <th></th>\n",
              "      <th></th>\n",
              "      <th></th>\n",
              "      <th></th>\n",
              "      <th></th>\n",
              "      <th></th>\n",
              "      <th></th>\n",
              "      <th></th>\n",
              "      <th></th>\n",
              "    </tr>\n",
              "  </thead>\n",
              "  <tbody>\n",
              "    <tr>\n",
              "      <th>International Academy of Hair Design</th>\n",
              "      <td>Tempe</td>\n",
              "      <td>AZ</td>\n",
              "      <td>0.0</td>\n",
              "      <td>0.0</td>\n",
              "      <td>0.0</td>\n",
              "      <td>0</td>\n",
              "      <td>NaN</td>\n",
              "      <td>NaN</td>\n",
              "      <td>0.0</td>\n",
              "      <td>188.0</td>\n",
              "      <td>0.2713</td>\n",
              "      <td>0.2500</td>\n",
              "      <td>0.3670</td>\n",
              "      <td>0.0160</td>\n",
              "      <td>0.0160</td>\n",
              "      <td>0.0000</td>\n",
              "      <td>0.0160</td>\n",
              "      <td>0.0000</td>\n",
              "      <td>0.0638</td>\n",
              "      <td>0.0000</td>\n",
              "      <td>0</td>\n",
              "      <td>0.7185</td>\n",
              "      <td>0.7346</td>\n",
              "      <td>0.3905</td>\n",
              "      <td>22200</td>\n",
              "      <td>10556</td>\n",
              "    </tr>\n",
              "    <tr>\n",
              "      <th>GateWay Community College</th>\n",
              "      <td>Phoenix</td>\n",
              "      <td>AZ</td>\n",
              "      <td>0.0</td>\n",
              "      <td>0.0</td>\n",
              "      <td>0.0</td>\n",
              "      <td>0</td>\n",
              "      <td>NaN</td>\n",
              "      <td>NaN</td>\n",
              "      <td>0.0</td>\n",
              "      <td>5211.0</td>\n",
              "      <td>0.3585</td>\n",
              "      <td>0.1201</td>\n",
              "      <td>0.3389</td>\n",
              "      <td>0.0355</td>\n",
              "      <td>0.0451</td>\n",
              "      <td>0.0029</td>\n",
              "      <td>0.0127</td>\n",
              "      <td>0.0161</td>\n",
              "      <td>0.0702</td>\n",
              "      <td>0.7465</td>\n",
              "      <td>1</td>\n",
              "      <td>0.3270</td>\n",
              "      <td>0.2189</td>\n",
              "      <td>0.5832</td>\n",
              "      <td>29800</td>\n",
              "      <td>7283</td>\n",
              "    </tr>\n",
              "    <tr>\n",
              "      <th>Mesa Community College</th>\n",
              "      <td>Mesa</td>\n",
              "      <td>AZ</td>\n",
              "      <td>0.0</td>\n",
              "      <td>0.0</td>\n",
              "      <td>0.0</td>\n",
              "      <td>0</td>\n",
              "      <td>NaN</td>\n",
              "      <td>NaN</td>\n",
              "      <td>0.0</td>\n",
              "      <td>19055.0</td>\n",
              "      <td>0.5002</td>\n",
              "      <td>0.0661</td>\n",
              "      <td>0.2354</td>\n",
              "      <td>0.0390</td>\n",
              "      <td>0.0403</td>\n",
              "      <td>0.0046</td>\n",
              "      <td>0.0205</td>\n",
              "      <td>0.0257</td>\n",
              "      <td>0.0682</td>\n",
              "      <td>0.6457</td>\n",
              "      <td>1</td>\n",
              "      <td>0.3423</td>\n",
              "      <td>0.2207</td>\n",
              "      <td>0.4010</td>\n",
              "      <td>35200</td>\n",
              "      <td>8000</td>\n",
              "    </tr>\n",
              "  </tbody>\n",
              "</table>\n",
              "</div>\n",
              "      <button class=\"colab-df-convert\" onclick=\"convertToInteractive('df-7b5a6a04-967c-4928-81a1-51909aac550f')\"\n",
              "              title=\"Convert this dataframe to an interactive table.\"\n",
              "              style=\"display:none;\">\n",
              "        \n",
              "  <svg xmlns=\"http://www.w3.org/2000/svg\" height=\"24px\"viewBox=\"0 0 24 24\"\n",
              "       width=\"24px\">\n",
              "    <path d=\"M0 0h24v24H0V0z\" fill=\"none\"/>\n",
              "    <path d=\"M18.56 5.44l.94 2.06.94-2.06 2.06-.94-2.06-.94-.94-2.06-.94 2.06-2.06.94zm-11 1L8.5 8.5l.94-2.06 2.06-.94-2.06-.94L8.5 2.5l-.94 2.06-2.06.94zm10 10l.94 2.06.94-2.06 2.06-.94-2.06-.94-.94-2.06-.94 2.06-2.06.94z\"/><path d=\"M17.41 7.96l-1.37-1.37c-.4-.4-.92-.59-1.43-.59-.52 0-1.04.2-1.43.59L10.3 9.45l-7.72 7.72c-.78.78-.78 2.05 0 2.83L4 21.41c.39.39.9.59 1.41.59.51 0 1.02-.2 1.41-.59l7.78-7.78 2.81-2.81c.8-.78.8-2.07 0-2.86zM5.41 20L4 18.59l7.72-7.72 1.47 1.35L5.41 20z\"/>\n",
              "  </svg>\n",
              "      </button>\n",
              "      \n",
              "  <style>\n",
              "    .colab-df-container {\n",
              "      display:flex;\n",
              "      flex-wrap:wrap;\n",
              "      gap: 12px;\n",
              "    }\n",
              "\n",
              "    .colab-df-convert {\n",
              "      background-color: #E8F0FE;\n",
              "      border: none;\n",
              "      border-radius: 50%;\n",
              "      cursor: pointer;\n",
              "      display: none;\n",
              "      fill: #1967D2;\n",
              "      height: 32px;\n",
              "      padding: 0 0 0 0;\n",
              "      width: 32px;\n",
              "    }\n",
              "\n",
              "    .colab-df-convert:hover {\n",
              "      background-color: #E2EBFA;\n",
              "      box-shadow: 0px 1px 2px rgba(60, 64, 67, 0.3), 0px 1px 3px 1px rgba(60, 64, 67, 0.15);\n",
              "      fill: #174EA6;\n",
              "    }\n",
              "\n",
              "    [theme=dark] .colab-df-convert {\n",
              "      background-color: #3B4455;\n",
              "      fill: #D2E3FC;\n",
              "    }\n",
              "\n",
              "    [theme=dark] .colab-df-convert:hover {\n",
              "      background-color: #434B5C;\n",
              "      box-shadow: 0px 1px 3px 1px rgba(0, 0, 0, 0.15);\n",
              "      filter: drop-shadow(0px 1px 2px rgba(0, 0, 0, 0.3));\n",
              "      fill: #FFFFFF;\n",
              "    }\n",
              "  </style>\n",
              "\n",
              "      <script>\n",
              "        const buttonEl =\n",
              "          document.querySelector('#df-7b5a6a04-967c-4928-81a1-51909aac550f button.colab-df-convert');\n",
              "        buttonEl.style.display =\n",
              "          google.colab.kernel.accessAllowed ? 'block' : 'none';\n",
              "\n",
              "        async function convertToInteractive(key) {\n",
              "          const element = document.querySelector('#df-7b5a6a04-967c-4928-81a1-51909aac550f');\n",
              "          const dataTable =\n",
              "            await google.colab.kernel.invokeFunction('convertToInteractive',\n",
              "                                                     [key], {});\n",
              "          if (!dataTable) return;\n",
              "\n",
              "          const docLinkHtml = 'Like what you see? Visit the ' +\n",
              "            '<a target=\"_blank\" href=https://colab.research.google.com/notebooks/data_table.ipynb>data table notebook</a>'\n",
              "            + ' to learn more about interactive tables.';\n",
              "          element.innerHTML = '';\n",
              "          dataTable['output_type'] = 'display_data';\n",
              "          await google.colab.output.renderOutput(dataTable, element);\n",
              "          const docLink = document.createElement('div');\n",
              "          docLink.innerHTML = docLinkHtml;\n",
              "          element.appendChild(docLink);\n",
              "        }\n",
              "      </script>\n",
              "    </div>\n",
              "  </div>\n",
              "  "
            ],
            "text/plain": [
              "                                         CITY  ... GRAD_DEBT_MDN_SUPP\n",
              "INSTNM                                         ...                   \n",
              "International Academy of Hair Design    Tempe  ...              10556\n",
              "GateWay Community College             Phoenix  ...               7283\n",
              "Mesa Community College                   Mesa  ...               8000\n",
              "\n",
              "[3 rows x 26 columns]"
            ]
          },
          "metadata": {},
          "execution_count": 22
        }
      ]
    },
    {
      "cell_type": "markdown",
      "source": [
        "Slice notation also works with `.loc` and is a closed interval (it includes both the start\n",
        "label and the stop label)"
      ],
      "metadata": {
        "id": "o_aTZysCXv5a"
      }
    },
    {
      "cell_type": "code",
      "source": [
        "start = \"International Academy of Hair Design\"\n",
        "stop = \"Mesa Community College\"\n",
        "college.loc[start:stop]"
      ],
      "metadata": {
        "colab": {
          "base_uri": "https://localhost:8080/",
          "height": 343
        },
        "id": "QSfosRftXmRS",
        "outputId": "4abfb35d-1ffe-4841-eec7-e37fba6d8a1d"
      },
      "execution_count": 23,
      "outputs": [
        {
          "output_type": "execute_result",
          "data": {
            "text/html": [
              "\n",
              "  <div id=\"df-0e84ab74-05a8-4681-8f44-5c52f57d6cb1\">\n",
              "    <div class=\"colab-df-container\">\n",
              "      <div>\n",
              "<style scoped>\n",
              "    .dataframe tbody tr th:only-of-type {\n",
              "        vertical-align: middle;\n",
              "    }\n",
              "\n",
              "    .dataframe tbody tr th {\n",
              "        vertical-align: top;\n",
              "    }\n",
              "\n",
              "    .dataframe thead th {\n",
              "        text-align: right;\n",
              "    }\n",
              "</style>\n",
              "<table border=\"1\" class=\"dataframe\">\n",
              "  <thead>\n",
              "    <tr style=\"text-align: right;\">\n",
              "      <th></th>\n",
              "      <th>CITY</th>\n",
              "      <th>STABBR</th>\n",
              "      <th>HBCU</th>\n",
              "      <th>MENONLY</th>\n",
              "      <th>WOMENONLY</th>\n",
              "      <th>RELAFFIL</th>\n",
              "      <th>SATVRMID</th>\n",
              "      <th>SATMTMID</th>\n",
              "      <th>DISTANCEONLY</th>\n",
              "      <th>UGDS</th>\n",
              "      <th>UGDS_WHITE</th>\n",
              "      <th>UGDS_BLACK</th>\n",
              "      <th>UGDS_HISP</th>\n",
              "      <th>UGDS_ASIAN</th>\n",
              "      <th>UGDS_AIAN</th>\n",
              "      <th>UGDS_NHPI</th>\n",
              "      <th>UGDS_2MOR</th>\n",
              "      <th>UGDS_NRA</th>\n",
              "      <th>UGDS_UNKN</th>\n",
              "      <th>PPTUG_EF</th>\n",
              "      <th>CURROPER</th>\n",
              "      <th>PCTPELL</th>\n",
              "      <th>PCTFLOAN</th>\n",
              "      <th>UG25ABV</th>\n",
              "      <th>MD_EARN_WNE_P10</th>\n",
              "      <th>GRAD_DEBT_MDN_SUPP</th>\n",
              "    </tr>\n",
              "    <tr>\n",
              "      <th>INSTNM</th>\n",
              "      <th></th>\n",
              "      <th></th>\n",
              "      <th></th>\n",
              "      <th></th>\n",
              "      <th></th>\n",
              "      <th></th>\n",
              "      <th></th>\n",
              "      <th></th>\n",
              "      <th></th>\n",
              "      <th></th>\n",
              "      <th></th>\n",
              "      <th></th>\n",
              "      <th></th>\n",
              "      <th></th>\n",
              "      <th></th>\n",
              "      <th></th>\n",
              "      <th></th>\n",
              "      <th></th>\n",
              "      <th></th>\n",
              "      <th></th>\n",
              "      <th></th>\n",
              "      <th></th>\n",
              "      <th></th>\n",
              "      <th></th>\n",
              "      <th></th>\n",
              "      <th></th>\n",
              "    </tr>\n",
              "  </thead>\n",
              "  <tbody>\n",
              "    <tr>\n",
              "      <th>International Academy of Hair Design</th>\n",
              "      <td>Tempe</td>\n",
              "      <td>AZ</td>\n",
              "      <td>0.0</td>\n",
              "      <td>0.0</td>\n",
              "      <td>0.0</td>\n",
              "      <td>0</td>\n",
              "      <td>NaN</td>\n",
              "      <td>NaN</td>\n",
              "      <td>0.0</td>\n",
              "      <td>188.0</td>\n",
              "      <td>0.2713</td>\n",
              "      <td>0.2500</td>\n",
              "      <td>0.3670</td>\n",
              "      <td>0.0160</td>\n",
              "      <td>0.0160</td>\n",
              "      <td>0.0000</td>\n",
              "      <td>0.0160</td>\n",
              "      <td>0.0000</td>\n",
              "      <td>0.0638</td>\n",
              "      <td>0.0000</td>\n",
              "      <td>0</td>\n",
              "      <td>0.7185</td>\n",
              "      <td>0.7346</td>\n",
              "      <td>0.3905</td>\n",
              "      <td>22200</td>\n",
              "      <td>10556</td>\n",
              "    </tr>\n",
              "    <tr>\n",
              "      <th>GateWay Community College</th>\n",
              "      <td>Phoenix</td>\n",
              "      <td>AZ</td>\n",
              "      <td>0.0</td>\n",
              "      <td>0.0</td>\n",
              "      <td>0.0</td>\n",
              "      <td>0</td>\n",
              "      <td>NaN</td>\n",
              "      <td>NaN</td>\n",
              "      <td>0.0</td>\n",
              "      <td>5211.0</td>\n",
              "      <td>0.3585</td>\n",
              "      <td>0.1201</td>\n",
              "      <td>0.3389</td>\n",
              "      <td>0.0355</td>\n",
              "      <td>0.0451</td>\n",
              "      <td>0.0029</td>\n",
              "      <td>0.0127</td>\n",
              "      <td>0.0161</td>\n",
              "      <td>0.0702</td>\n",
              "      <td>0.7465</td>\n",
              "      <td>1</td>\n",
              "      <td>0.3270</td>\n",
              "      <td>0.2189</td>\n",
              "      <td>0.5832</td>\n",
              "      <td>29800</td>\n",
              "      <td>7283</td>\n",
              "    </tr>\n",
              "    <tr>\n",
              "      <th>Mesa Community College</th>\n",
              "      <td>Mesa</td>\n",
              "      <td>AZ</td>\n",
              "      <td>0.0</td>\n",
              "      <td>0.0</td>\n",
              "      <td>0.0</td>\n",
              "      <td>0</td>\n",
              "      <td>NaN</td>\n",
              "      <td>NaN</td>\n",
              "      <td>0.0</td>\n",
              "      <td>19055.0</td>\n",
              "      <td>0.5002</td>\n",
              "      <td>0.0661</td>\n",
              "      <td>0.2354</td>\n",
              "      <td>0.0390</td>\n",
              "      <td>0.0403</td>\n",
              "      <td>0.0046</td>\n",
              "      <td>0.0205</td>\n",
              "      <td>0.0257</td>\n",
              "      <td>0.0682</td>\n",
              "      <td>0.6457</td>\n",
              "      <td>1</td>\n",
              "      <td>0.3423</td>\n",
              "      <td>0.2207</td>\n",
              "      <td>0.4010</td>\n",
              "      <td>35200</td>\n",
              "      <td>8000</td>\n",
              "    </tr>\n",
              "  </tbody>\n",
              "</table>\n",
              "</div>\n",
              "      <button class=\"colab-df-convert\" onclick=\"convertToInteractive('df-0e84ab74-05a8-4681-8f44-5c52f57d6cb1')\"\n",
              "              title=\"Convert this dataframe to an interactive table.\"\n",
              "              style=\"display:none;\">\n",
              "        \n",
              "  <svg xmlns=\"http://www.w3.org/2000/svg\" height=\"24px\"viewBox=\"0 0 24 24\"\n",
              "       width=\"24px\">\n",
              "    <path d=\"M0 0h24v24H0V0z\" fill=\"none\"/>\n",
              "    <path d=\"M18.56 5.44l.94 2.06.94-2.06 2.06-.94-2.06-.94-.94-2.06-.94 2.06-2.06.94zm-11 1L8.5 8.5l.94-2.06 2.06-.94-2.06-.94L8.5 2.5l-.94 2.06-2.06.94zm10 10l.94 2.06.94-2.06 2.06-.94-2.06-.94-.94-2.06-.94 2.06-2.06.94z\"/><path d=\"M17.41 7.96l-1.37-1.37c-.4-.4-.92-.59-1.43-.59-.52 0-1.04.2-1.43.59L10.3 9.45l-7.72 7.72c-.78.78-.78 2.05 0 2.83L4 21.41c.39.39.9.59 1.41.59.51 0 1.02-.2 1.41-.59l7.78-7.78 2.81-2.81c.8-.78.8-2.07 0-2.86zM5.41 20L4 18.59l7.72-7.72 1.47 1.35L5.41 20z\"/>\n",
              "  </svg>\n",
              "      </button>\n",
              "      \n",
              "  <style>\n",
              "    .colab-df-container {\n",
              "      display:flex;\n",
              "      flex-wrap:wrap;\n",
              "      gap: 12px;\n",
              "    }\n",
              "\n",
              "    .colab-df-convert {\n",
              "      background-color: #E8F0FE;\n",
              "      border: none;\n",
              "      border-radius: 50%;\n",
              "      cursor: pointer;\n",
              "      display: none;\n",
              "      fill: #1967D2;\n",
              "      height: 32px;\n",
              "      padding: 0 0 0 0;\n",
              "      width: 32px;\n",
              "    }\n",
              "\n",
              "    .colab-df-convert:hover {\n",
              "      background-color: #E2EBFA;\n",
              "      box-shadow: 0px 1px 2px rgba(60, 64, 67, 0.3), 0px 1px 3px 1px rgba(60, 64, 67, 0.15);\n",
              "      fill: #174EA6;\n",
              "    }\n",
              "\n",
              "    [theme=dark] .colab-df-convert {\n",
              "      background-color: #3B4455;\n",
              "      fill: #D2E3FC;\n",
              "    }\n",
              "\n",
              "    [theme=dark] .colab-df-convert:hover {\n",
              "      background-color: #434B5C;\n",
              "      box-shadow: 0px 1px 3px 1px rgba(0, 0, 0, 0.15);\n",
              "      filter: drop-shadow(0px 1px 2px rgba(0, 0, 0, 0.3));\n",
              "      fill: #FFFFFF;\n",
              "    }\n",
              "  </style>\n",
              "\n",
              "      <script>\n",
              "        const buttonEl =\n",
              "          document.querySelector('#df-0e84ab74-05a8-4681-8f44-5c52f57d6cb1 button.colab-df-convert');\n",
              "        buttonEl.style.display =\n",
              "          google.colab.kernel.accessAllowed ? 'block' : 'none';\n",
              "\n",
              "        async function convertToInteractive(key) {\n",
              "          const element = document.querySelector('#df-0e84ab74-05a8-4681-8f44-5c52f57d6cb1');\n",
              "          const dataTable =\n",
              "            await google.colab.kernel.invokeFunction('convertToInteractive',\n",
              "                                                     [key], {});\n",
              "          if (!dataTable) return;\n",
              "\n",
              "          const docLinkHtml = 'Like what you see? Visit the ' +\n",
              "            '<a target=\"_blank\" href=https://colab.research.google.com/notebooks/data_table.ipynb>data table notebook</a>'\n",
              "            + ' to learn more about interactive tables.';\n",
              "          element.innerHTML = '';\n",
              "          dataTable['output_type'] = 'display_data';\n",
              "          await google.colab.output.renderOutput(dataTable, element);\n",
              "          const docLink = document.createElement('div');\n",
              "          docLink.innerHTML = docLinkHtml;\n",
              "          element.appendChild(docLink);\n",
              "        }\n",
              "      </script>\n",
              "    </div>\n",
              "  </div>\n",
              "  "
            ],
            "text/plain": [
              "                                         CITY  ... GRAD_DEBT_MDN_SUPP\n",
              "INSTNM                                         ...                   \n",
              "International Academy of Hair Design    Tempe  ...              10556\n",
              "GateWay Community College             Phoenix  ...               7283\n",
              "Mesa Community College                   Mesa  ...               8000\n",
              "\n",
              "[3 rows x 26 columns]"
            ]
          },
          "metadata": {},
          "execution_count": 23
        }
      ]
    },
    {
      "cell_type": "code",
      "source": [
        "college.iloc[[60, 30, -1]].index.to_list()"
      ],
      "metadata": {
        "colab": {
          "base_uri": "https://localhost:8080/"
        },
        "id": "8xFFE0baYWKC",
        "outputId": "45beaa51-2b2a-45ea-e7cd-efb70728eb4c"
      },
      "execution_count": 24,
      "outputs": [
        {
          "output_type": "execute_result",
          "data": {
            "text/plain": [
              "['University of Alaska Anchorage',\n",
              " 'Judson College',\n",
              " 'Excel Learning Center-San Antonio South']"
            ]
          },
          "metadata": {},
          "execution_count": 24
        }
      ]
    },
    {
      "cell_type": "markdown",
      "source": [
        "## Selecting DataFrame rows and columns simultaneously\n",
        "The generic form to select rows and columns:  \n",
        "\n",
        "`df.iloc[row_idxs, column_idxs]`  \n",
        "`df.loc[row_names, column_names]`  \n",
        "\n",
        "Where row_idxs and column_idxs can be scalar integers, lists of integers, or integer\n",
        "slices. While row_names and column_names can be the scalar names, lists of names,\n",
        "or names slices, row_names can also be a Boolean array"
      ],
      "metadata": {
        "id": "e1uf79XQZevI"
      }
    },
    {
      "cell_type": "markdown",
      "source": [
        "Select the first three rows and the first four columns with slice notation"
      ],
      "metadata": {
        "id": "PvAWzYdXanG4"
      }
    },
    {
      "cell_type": "code",
      "source": [
        "college.iloc[:3, :4]"
      ],
      "metadata": {
        "colab": {
          "base_uri": "https://localhost:8080/",
          "height": 175
        },
        "id": "AdGRc3l1Y-Nk",
        "outputId": "5f7b377a-307e-4d99-f2cb-9a192187db6d"
      },
      "execution_count": 26,
      "outputs": [
        {
          "output_type": "execute_result",
          "data": {
            "text/html": [
              "\n",
              "  <div id=\"df-c1a3da4a-4a5d-444e-b385-eee65c4b66bc\">\n",
              "    <div class=\"colab-df-container\">\n",
              "      <div>\n",
              "<style scoped>\n",
              "    .dataframe tbody tr th:only-of-type {\n",
              "        vertical-align: middle;\n",
              "    }\n",
              "\n",
              "    .dataframe tbody tr th {\n",
              "        vertical-align: top;\n",
              "    }\n",
              "\n",
              "    .dataframe thead th {\n",
              "        text-align: right;\n",
              "    }\n",
              "</style>\n",
              "<table border=\"1\" class=\"dataframe\">\n",
              "  <thead>\n",
              "    <tr style=\"text-align: right;\">\n",
              "      <th></th>\n",
              "      <th>CITY</th>\n",
              "      <th>STABBR</th>\n",
              "      <th>HBCU</th>\n",
              "      <th>MENONLY</th>\n",
              "    </tr>\n",
              "    <tr>\n",
              "      <th>INSTNM</th>\n",
              "      <th></th>\n",
              "      <th></th>\n",
              "      <th></th>\n",
              "      <th></th>\n",
              "    </tr>\n",
              "  </thead>\n",
              "  <tbody>\n",
              "    <tr>\n",
              "      <th>Alabama A &amp; M University</th>\n",
              "      <td>Normal</td>\n",
              "      <td>AL</td>\n",
              "      <td>1.0</td>\n",
              "      <td>0.0</td>\n",
              "    </tr>\n",
              "    <tr>\n",
              "      <th>University of Alabama at Birmingham</th>\n",
              "      <td>Birmingham</td>\n",
              "      <td>AL</td>\n",
              "      <td>0.0</td>\n",
              "      <td>0.0</td>\n",
              "    </tr>\n",
              "    <tr>\n",
              "      <th>Amridge University</th>\n",
              "      <td>Montgomery</td>\n",
              "      <td>AL</td>\n",
              "      <td>0.0</td>\n",
              "      <td>0.0</td>\n",
              "    </tr>\n",
              "  </tbody>\n",
              "</table>\n",
              "</div>\n",
              "      <button class=\"colab-df-convert\" onclick=\"convertToInteractive('df-c1a3da4a-4a5d-444e-b385-eee65c4b66bc')\"\n",
              "              title=\"Convert this dataframe to an interactive table.\"\n",
              "              style=\"display:none;\">\n",
              "        \n",
              "  <svg xmlns=\"http://www.w3.org/2000/svg\" height=\"24px\"viewBox=\"0 0 24 24\"\n",
              "       width=\"24px\">\n",
              "    <path d=\"M0 0h24v24H0V0z\" fill=\"none\"/>\n",
              "    <path d=\"M18.56 5.44l.94 2.06.94-2.06 2.06-.94-2.06-.94-.94-2.06-.94 2.06-2.06.94zm-11 1L8.5 8.5l.94-2.06 2.06-.94-2.06-.94L8.5 2.5l-.94 2.06-2.06.94zm10 10l.94 2.06.94-2.06 2.06-.94-2.06-.94-.94-2.06-.94 2.06-2.06.94z\"/><path d=\"M17.41 7.96l-1.37-1.37c-.4-.4-.92-.59-1.43-.59-.52 0-1.04.2-1.43.59L10.3 9.45l-7.72 7.72c-.78.78-.78 2.05 0 2.83L4 21.41c.39.39.9.59 1.41.59.51 0 1.02-.2 1.41-.59l7.78-7.78 2.81-2.81c.8-.78.8-2.07 0-2.86zM5.41 20L4 18.59l7.72-7.72 1.47 1.35L5.41 20z\"/>\n",
              "  </svg>\n",
              "      </button>\n",
              "      \n",
              "  <style>\n",
              "    .colab-df-container {\n",
              "      display:flex;\n",
              "      flex-wrap:wrap;\n",
              "      gap: 12px;\n",
              "    }\n",
              "\n",
              "    .colab-df-convert {\n",
              "      background-color: #E8F0FE;\n",
              "      border: none;\n",
              "      border-radius: 50%;\n",
              "      cursor: pointer;\n",
              "      display: none;\n",
              "      fill: #1967D2;\n",
              "      height: 32px;\n",
              "      padding: 0 0 0 0;\n",
              "      width: 32px;\n",
              "    }\n",
              "\n",
              "    .colab-df-convert:hover {\n",
              "      background-color: #E2EBFA;\n",
              "      box-shadow: 0px 1px 2px rgba(60, 64, 67, 0.3), 0px 1px 3px 1px rgba(60, 64, 67, 0.15);\n",
              "      fill: #174EA6;\n",
              "    }\n",
              "\n",
              "    [theme=dark] .colab-df-convert {\n",
              "      background-color: #3B4455;\n",
              "      fill: #D2E3FC;\n",
              "    }\n",
              "\n",
              "    [theme=dark] .colab-df-convert:hover {\n",
              "      background-color: #434B5C;\n",
              "      box-shadow: 0px 1px 3px 1px rgba(0, 0, 0, 0.15);\n",
              "      filter: drop-shadow(0px 1px 2px rgba(0, 0, 0, 0.3));\n",
              "      fill: #FFFFFF;\n",
              "    }\n",
              "  </style>\n",
              "\n",
              "      <script>\n",
              "        const buttonEl =\n",
              "          document.querySelector('#df-c1a3da4a-4a5d-444e-b385-eee65c4b66bc button.colab-df-convert');\n",
              "        buttonEl.style.display =\n",
              "          google.colab.kernel.accessAllowed ? 'block' : 'none';\n",
              "\n",
              "        async function convertToInteractive(key) {\n",
              "          const element = document.querySelector('#df-c1a3da4a-4a5d-444e-b385-eee65c4b66bc');\n",
              "          const dataTable =\n",
              "            await google.colab.kernel.invokeFunction('convertToInteractive',\n",
              "                                                     [key], {});\n",
              "          if (!dataTable) return;\n",
              "\n",
              "          const docLinkHtml = 'Like what you see? Visit the ' +\n",
              "            '<a target=\"_blank\" href=https://colab.research.google.com/notebooks/data_table.ipynb>data table notebook</a>'\n",
              "            + ' to learn more about interactive tables.';\n",
              "          element.innerHTML = '';\n",
              "          dataTable['output_type'] = 'display_data';\n",
              "          await google.colab.output.renderOutput(dataTable, element);\n",
              "          const docLink = document.createElement('div');\n",
              "          docLink.innerHTML = docLinkHtml;\n",
              "          element.appendChild(docLink);\n",
              "        }\n",
              "      </script>\n",
              "    </div>\n",
              "  </div>\n",
              "  "
            ],
            "text/plain": [
              "                                           CITY STABBR  HBCU  MENONLY\n",
              "INSTNM                                                               \n",
              "Alabama A & M University                 Normal     AL   1.0      0.0\n",
              "University of Alabama at Birmingham  Birmingham     AL   0.0      0.0\n",
              "Amridge University                   Montgomery     AL   0.0      0.0"
            ]
          },
          "metadata": {},
          "execution_count": 26
        }
      ]
    },
    {
      "cell_type": "markdown",
      "source": [
        "Select all the rows of two different columns:"
      ],
      "metadata": {
        "id": "PE8efUUDbnRu"
      }
    },
    {
      "cell_type": "code",
      "source": [
        "college.loc[:, ['CITY', 'MENONLY']]"
      ],
      "metadata": {
        "colab": {
          "base_uri": "https://localhost:8080/",
          "height": 455
        },
        "id": "5tZ8AHi1bTZQ",
        "outputId": "a9a938a3-1304-49ab-d7ce-803a90b2ec38"
      },
      "execution_count": 27,
      "outputs": [
        {
          "output_type": "execute_result",
          "data": {
            "text/html": [
              "\n",
              "  <div id=\"df-3f2f4833-b7bd-4ff2-abe7-7076ee8b656c\">\n",
              "    <div class=\"colab-df-container\">\n",
              "      <div>\n",
              "<style scoped>\n",
              "    .dataframe tbody tr th:only-of-type {\n",
              "        vertical-align: middle;\n",
              "    }\n",
              "\n",
              "    .dataframe tbody tr th {\n",
              "        vertical-align: top;\n",
              "    }\n",
              "\n",
              "    .dataframe thead th {\n",
              "        text-align: right;\n",
              "    }\n",
              "</style>\n",
              "<table border=\"1\" class=\"dataframe\">\n",
              "  <thead>\n",
              "    <tr style=\"text-align: right;\">\n",
              "      <th></th>\n",
              "      <th>CITY</th>\n",
              "      <th>MENONLY</th>\n",
              "    </tr>\n",
              "    <tr>\n",
              "      <th>INSTNM</th>\n",
              "      <th></th>\n",
              "      <th></th>\n",
              "    </tr>\n",
              "  </thead>\n",
              "  <tbody>\n",
              "    <tr>\n",
              "      <th>Alabama A &amp; M University</th>\n",
              "      <td>Normal</td>\n",
              "      <td>0.0</td>\n",
              "    </tr>\n",
              "    <tr>\n",
              "      <th>University of Alabama at Birmingham</th>\n",
              "      <td>Birmingham</td>\n",
              "      <td>0.0</td>\n",
              "    </tr>\n",
              "    <tr>\n",
              "      <th>Amridge University</th>\n",
              "      <td>Montgomery</td>\n",
              "      <td>0.0</td>\n",
              "    </tr>\n",
              "    <tr>\n",
              "      <th>University of Alabama in Huntsville</th>\n",
              "      <td>Huntsville</td>\n",
              "      <td>0.0</td>\n",
              "    </tr>\n",
              "    <tr>\n",
              "      <th>Alabama State University</th>\n",
              "      <td>Montgomery</td>\n",
              "      <td>0.0</td>\n",
              "    </tr>\n",
              "    <tr>\n",
              "      <th>...</th>\n",
              "      <td>...</td>\n",
              "      <td>...</td>\n",
              "    </tr>\n",
              "    <tr>\n",
              "      <th>SAE Institute of Technology  San Francisco</th>\n",
              "      <td>Emeryville</td>\n",
              "      <td>NaN</td>\n",
              "    </tr>\n",
              "    <tr>\n",
              "      <th>Rasmussen College - Overland Park</th>\n",
              "      <td>Overland Park</td>\n",
              "      <td>NaN</td>\n",
              "    </tr>\n",
              "    <tr>\n",
              "      <th>National Personal Training Institute of Cleveland</th>\n",
              "      <td>Highland Heights</td>\n",
              "      <td>NaN</td>\n",
              "    </tr>\n",
              "    <tr>\n",
              "      <th>Bay Area Medical Academy - San Jose Satellite Location</th>\n",
              "      <td>San Jose</td>\n",
              "      <td>NaN</td>\n",
              "    </tr>\n",
              "    <tr>\n",
              "      <th>Excel Learning Center-San Antonio South</th>\n",
              "      <td>San Antonio</td>\n",
              "      <td>NaN</td>\n",
              "    </tr>\n",
              "  </tbody>\n",
              "</table>\n",
              "<p>7535 rows × 2 columns</p>\n",
              "</div>\n",
              "      <button class=\"colab-df-convert\" onclick=\"convertToInteractive('df-3f2f4833-b7bd-4ff2-abe7-7076ee8b656c')\"\n",
              "              title=\"Convert this dataframe to an interactive table.\"\n",
              "              style=\"display:none;\">\n",
              "        \n",
              "  <svg xmlns=\"http://www.w3.org/2000/svg\" height=\"24px\"viewBox=\"0 0 24 24\"\n",
              "       width=\"24px\">\n",
              "    <path d=\"M0 0h24v24H0V0z\" fill=\"none\"/>\n",
              "    <path d=\"M18.56 5.44l.94 2.06.94-2.06 2.06-.94-2.06-.94-.94-2.06-.94 2.06-2.06.94zm-11 1L8.5 8.5l.94-2.06 2.06-.94-2.06-.94L8.5 2.5l-.94 2.06-2.06.94zm10 10l.94 2.06.94-2.06 2.06-.94-2.06-.94-.94-2.06-.94 2.06-2.06.94z\"/><path d=\"M17.41 7.96l-1.37-1.37c-.4-.4-.92-.59-1.43-.59-.52 0-1.04.2-1.43.59L10.3 9.45l-7.72 7.72c-.78.78-.78 2.05 0 2.83L4 21.41c.39.39.9.59 1.41.59.51 0 1.02-.2 1.41-.59l7.78-7.78 2.81-2.81c.8-.78.8-2.07 0-2.86zM5.41 20L4 18.59l7.72-7.72 1.47 1.35L5.41 20z\"/>\n",
              "  </svg>\n",
              "      </button>\n",
              "      \n",
              "  <style>\n",
              "    .colab-df-container {\n",
              "      display:flex;\n",
              "      flex-wrap:wrap;\n",
              "      gap: 12px;\n",
              "    }\n",
              "\n",
              "    .colab-df-convert {\n",
              "      background-color: #E8F0FE;\n",
              "      border: none;\n",
              "      border-radius: 50%;\n",
              "      cursor: pointer;\n",
              "      display: none;\n",
              "      fill: #1967D2;\n",
              "      height: 32px;\n",
              "      padding: 0 0 0 0;\n",
              "      width: 32px;\n",
              "    }\n",
              "\n",
              "    .colab-df-convert:hover {\n",
              "      background-color: #E2EBFA;\n",
              "      box-shadow: 0px 1px 2px rgba(60, 64, 67, 0.3), 0px 1px 3px 1px rgba(60, 64, 67, 0.15);\n",
              "      fill: #174EA6;\n",
              "    }\n",
              "\n",
              "    [theme=dark] .colab-df-convert {\n",
              "      background-color: #3B4455;\n",
              "      fill: #D2E3FC;\n",
              "    }\n",
              "\n",
              "    [theme=dark] .colab-df-convert:hover {\n",
              "      background-color: #434B5C;\n",
              "      box-shadow: 0px 1px 3px 1px rgba(0, 0, 0, 0.15);\n",
              "      filter: drop-shadow(0px 1px 2px rgba(0, 0, 0, 0.3));\n",
              "      fill: #FFFFFF;\n",
              "    }\n",
              "  </style>\n",
              "\n",
              "      <script>\n",
              "        const buttonEl =\n",
              "          document.querySelector('#df-3f2f4833-b7bd-4ff2-abe7-7076ee8b656c button.colab-df-convert');\n",
              "        buttonEl.style.display =\n",
              "          google.colab.kernel.accessAllowed ? 'block' : 'none';\n",
              "\n",
              "        async function convertToInteractive(key) {\n",
              "          const element = document.querySelector('#df-3f2f4833-b7bd-4ff2-abe7-7076ee8b656c');\n",
              "          const dataTable =\n",
              "            await google.colab.kernel.invokeFunction('convertToInteractive',\n",
              "                                                     [key], {});\n",
              "          if (!dataTable) return;\n",
              "\n",
              "          const docLinkHtml = 'Like what you see? Visit the ' +\n",
              "            '<a target=\"_blank\" href=https://colab.research.google.com/notebooks/data_table.ipynb>data table notebook</a>'\n",
              "            + ' to learn more about interactive tables.';\n",
              "          element.innerHTML = '';\n",
              "          dataTable['output_type'] = 'display_data';\n",
              "          await google.colab.output.renderOutput(dataTable, element);\n",
              "          const docLink = document.createElement('div');\n",
              "          docLink.innerHTML = docLinkHtml;\n",
              "          element.appendChild(docLink);\n",
              "        }\n",
              "      </script>\n",
              "    </div>\n",
              "  </div>\n",
              "  "
            ],
            "text/plain": [
              "                                                                CITY  MENONLY\n",
              "INSTNM                                                                       \n",
              "Alabama A & M University                                      Normal      0.0\n",
              "University of Alabama at Birmingham                       Birmingham      0.0\n",
              "Amridge University                                        Montgomery      0.0\n",
              "University of Alabama in Huntsville                       Huntsville      0.0\n",
              "Alabama State University                                  Montgomery      0.0\n",
              "...                                                              ...      ...\n",
              "SAE Institute of Technology  San Francisco                Emeryville      NaN\n",
              "Rasmussen College - Overland Park                      Overland Park      NaN\n",
              "National Personal Training Institute of Cleveland   Highland Heights      NaN\n",
              "Bay Area Medical Academy - San Jose Satellite L...          San Jose      NaN\n",
              "Excel Learning Center-San Antonio South                  San Antonio      NaN\n",
              "\n",
              "[7535 rows x 2 columns]"
            ]
          },
          "metadata": {},
          "execution_count": 27
        }
      ]
    },
    {
      "cell_type": "markdown",
      "source": [
        "Select disjointed rows and columns"
      ],
      "metadata": {
        "id": "J4mgk1lcb9OZ"
      }
    },
    {
      "cell_type": "code",
      "source": [
        "college.iloc[[1, -1], [0, 4]]"
      ],
      "metadata": {
        "colab": {
          "base_uri": "https://localhost:8080/",
          "height": 143
        },
        "id": "kxdwLQbDb1tb",
        "outputId": "d1415f99-2760-42ab-d8c6-a778f4ef8a51"
      },
      "execution_count": 28,
      "outputs": [
        {
          "output_type": "execute_result",
          "data": {
            "text/html": [
              "\n",
              "  <div id=\"df-01ebaf9a-40b5-4d86-8609-0792ed26485d\">\n",
              "    <div class=\"colab-df-container\">\n",
              "      <div>\n",
              "<style scoped>\n",
              "    .dataframe tbody tr th:only-of-type {\n",
              "        vertical-align: middle;\n",
              "    }\n",
              "\n",
              "    .dataframe tbody tr th {\n",
              "        vertical-align: top;\n",
              "    }\n",
              "\n",
              "    .dataframe thead th {\n",
              "        text-align: right;\n",
              "    }\n",
              "</style>\n",
              "<table border=\"1\" class=\"dataframe\">\n",
              "  <thead>\n",
              "    <tr style=\"text-align: right;\">\n",
              "      <th></th>\n",
              "      <th>CITY</th>\n",
              "      <th>WOMENONLY</th>\n",
              "    </tr>\n",
              "    <tr>\n",
              "      <th>INSTNM</th>\n",
              "      <th></th>\n",
              "      <th></th>\n",
              "    </tr>\n",
              "  </thead>\n",
              "  <tbody>\n",
              "    <tr>\n",
              "      <th>University of Alabama at Birmingham</th>\n",
              "      <td>Birmingham</td>\n",
              "      <td>0.0</td>\n",
              "    </tr>\n",
              "    <tr>\n",
              "      <th>Excel Learning Center-San Antonio South</th>\n",
              "      <td>San Antonio</td>\n",
              "      <td>NaN</td>\n",
              "    </tr>\n",
              "  </tbody>\n",
              "</table>\n",
              "</div>\n",
              "      <button class=\"colab-df-convert\" onclick=\"convertToInteractive('df-01ebaf9a-40b5-4d86-8609-0792ed26485d')\"\n",
              "              title=\"Convert this dataframe to an interactive table.\"\n",
              "              style=\"display:none;\">\n",
              "        \n",
              "  <svg xmlns=\"http://www.w3.org/2000/svg\" height=\"24px\"viewBox=\"0 0 24 24\"\n",
              "       width=\"24px\">\n",
              "    <path d=\"M0 0h24v24H0V0z\" fill=\"none\"/>\n",
              "    <path d=\"M18.56 5.44l.94 2.06.94-2.06 2.06-.94-2.06-.94-.94-2.06-.94 2.06-2.06.94zm-11 1L8.5 8.5l.94-2.06 2.06-.94-2.06-.94L8.5 2.5l-.94 2.06-2.06.94zm10 10l.94 2.06.94-2.06 2.06-.94-2.06-.94-.94-2.06-.94 2.06-2.06.94z\"/><path d=\"M17.41 7.96l-1.37-1.37c-.4-.4-.92-.59-1.43-.59-.52 0-1.04.2-1.43.59L10.3 9.45l-7.72 7.72c-.78.78-.78 2.05 0 2.83L4 21.41c.39.39.9.59 1.41.59.51 0 1.02-.2 1.41-.59l7.78-7.78 2.81-2.81c.8-.78.8-2.07 0-2.86zM5.41 20L4 18.59l7.72-7.72 1.47 1.35L5.41 20z\"/>\n",
              "  </svg>\n",
              "      </button>\n",
              "      \n",
              "  <style>\n",
              "    .colab-df-container {\n",
              "      display:flex;\n",
              "      flex-wrap:wrap;\n",
              "      gap: 12px;\n",
              "    }\n",
              "\n",
              "    .colab-df-convert {\n",
              "      background-color: #E8F0FE;\n",
              "      border: none;\n",
              "      border-radius: 50%;\n",
              "      cursor: pointer;\n",
              "      display: none;\n",
              "      fill: #1967D2;\n",
              "      height: 32px;\n",
              "      padding: 0 0 0 0;\n",
              "      width: 32px;\n",
              "    }\n",
              "\n",
              "    .colab-df-convert:hover {\n",
              "      background-color: #E2EBFA;\n",
              "      box-shadow: 0px 1px 2px rgba(60, 64, 67, 0.3), 0px 1px 3px 1px rgba(60, 64, 67, 0.15);\n",
              "      fill: #174EA6;\n",
              "    }\n",
              "\n",
              "    [theme=dark] .colab-df-convert {\n",
              "      background-color: #3B4455;\n",
              "      fill: #D2E3FC;\n",
              "    }\n",
              "\n",
              "    [theme=dark] .colab-df-convert:hover {\n",
              "      background-color: #434B5C;\n",
              "      box-shadow: 0px 1px 3px 1px rgba(0, 0, 0, 0.15);\n",
              "      filter: drop-shadow(0px 1px 2px rgba(0, 0, 0, 0.3));\n",
              "      fill: #FFFFFF;\n",
              "    }\n",
              "  </style>\n",
              "\n",
              "      <script>\n",
              "        const buttonEl =\n",
              "          document.querySelector('#df-01ebaf9a-40b5-4d86-8609-0792ed26485d button.colab-df-convert');\n",
              "        buttonEl.style.display =\n",
              "          google.colab.kernel.accessAllowed ? 'block' : 'none';\n",
              "\n",
              "        async function convertToInteractive(key) {\n",
              "          const element = document.querySelector('#df-01ebaf9a-40b5-4d86-8609-0792ed26485d');\n",
              "          const dataTable =\n",
              "            await google.colab.kernel.invokeFunction('convertToInteractive',\n",
              "                                                     [key], {});\n",
              "          if (!dataTable) return;\n",
              "\n",
              "          const docLinkHtml = 'Like what you see? Visit the ' +\n",
              "            '<a target=\"_blank\" href=https://colab.research.google.com/notebooks/data_table.ipynb>data table notebook</a>'\n",
              "            + ' to learn more about interactive tables.';\n",
              "          element.innerHTML = '';\n",
              "          dataTable['output_type'] = 'display_data';\n",
              "          await google.colab.output.renderOutput(dataTable, element);\n",
              "          const docLink = document.createElement('div');\n",
              "          docLink.innerHTML = docLinkHtml;\n",
              "          element.appendChild(docLink);\n",
              "        }\n",
              "      </script>\n",
              "    </div>\n",
              "  </div>\n",
              "  "
            ],
            "text/plain": [
              "                                                CITY  WOMENONLY\n",
              "INSTNM                                                         \n",
              "University of Alabama at Birmingham       Birmingham        0.0\n",
              "Excel Learning Center-San Antonio South  San Antonio        NaN"
            ]
          },
          "metadata": {},
          "execution_count": 28
        }
      ]
    },
    {
      "cell_type": "markdown",
      "source": [
        "Select a single scalar value"
      ],
      "metadata": {
        "id": "ZnIFO_dqcY1_"
      }
    },
    {
      "cell_type": "code",
      "source": [
        "college.iloc[1, 0]"
      ],
      "metadata": {
        "colab": {
          "base_uri": "https://localhost:8080/",
          "height": 35
        },
        "id": "maYuRzLKcQVD",
        "outputId": "79c73aa7-703e-4aa0-c46e-a185dd3309dc"
      },
      "execution_count": 29,
      "outputs": [
        {
          "output_type": "execute_result",
          "data": {
            "application/vnd.google.colaboratory.intrinsic+json": {
              "type": "string"
            },
            "text/plain": [
              "'Birmingham'"
            ]
          },
          "metadata": {},
          "execution_count": 29
        }
      ]
    },
    {
      "cell_type": "code",
      "source": [
        "college.loc['University of Alabama at Birmingham', 'CITY']"
      ],
      "metadata": {
        "colab": {
          "base_uri": "https://localhost:8080/",
          "height": 35
        },
        "id": "3cFFBm7Gcg_F",
        "outputId": "99f97fe0-134c-4b63-bbb4-bce3f88bc928"
      },
      "execution_count": 30,
      "outputs": [
        {
          "output_type": "execute_result",
          "data": {
            "application/vnd.google.colaboratory.intrinsic+json": {
              "type": "string"
            },
            "text/plain": [
              "'Birmingham'"
            ]
          },
          "metadata": {},
          "execution_count": 30
        }
      ]
    },
    {
      "cell_type": "markdown",
      "source": [
        "Slice the rows and select a single column:"
      ],
      "metadata": {
        "id": "v9nBo6ZycuiD"
      }
    },
    {
      "cell_type": "code",
      "source": [
        "college.iloc[:2, -1]"
      ],
      "metadata": {
        "colab": {
          "base_uri": "https://localhost:8080/"
        },
        "id": "bwLnTKRFcp-q",
        "outputId": "c32d4dfb-ba3d-424f-fdf7-79168381616c"
      },
      "execution_count": 31,
      "outputs": [
        {
          "output_type": "execute_result",
          "data": {
            "text/plain": [
              "INSTNM\n",
              "Alabama A & M University                 33888\n",
              "University of Alabama at Birmingham    21941.5\n",
              "Name: GRAD_DEBT_MDN_SUPP, dtype: object"
            ]
          },
          "metadata": {},
          "execution_count": 31
        }
      ]
    },
    {
      "cell_type": "code",
      "source": [
        "college.loc[:'University of Alabama at Birmingham', 'GRAD_DEBT_MDN_SUPP']"
      ],
      "metadata": {
        "colab": {
          "base_uri": "https://localhost:8080/"
        },
        "id": "oUk6plb8c4-Y",
        "outputId": "2b351e52-eb3b-47c8-c40d-398197105734"
      },
      "execution_count": 32,
      "outputs": [
        {
          "output_type": "execute_result",
          "data": {
            "text/plain": [
              "INSTNM\n",
              "Alabama A & M University                 33888\n",
              "University of Alabama at Birmingham    21941.5\n",
              "Name: GRAD_DEBT_MDN_SUPP, dtype: object"
            ]
          },
          "metadata": {},
          "execution_count": 32
        }
      ]
    },
    {
      "cell_type": "code",
      "source": [
        ""
      ],
      "metadata": {
        "id": "Ue1vpGYGdJ3Q"
      },
      "execution_count": null,
      "outputs": []
    }
  ]
}